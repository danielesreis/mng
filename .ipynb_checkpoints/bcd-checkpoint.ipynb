{
 "cells": [
  {
   "cell_type": "code",
   "execution_count": 3,
   "metadata": {},
   "outputs": [],
   "source": [
    "import cv2\n",
    "import numpy as np\n",
    "import matplotlib.pyplot as plt"
   ]
  },
  {
   "cell_type": "code",
   "execution_count": 105,
   "metadata": {},
   "outputs": [],
   "source": [
    "def box_count(grayscale_img, k):\n",
    "    img_sum = np.add.reduceat(\n",
    "    np.add.reduceat(grayscale_img, np.arange(0, grayscale_img.shape[0], k), axis=0),\n",
    "                                    np.arange(0, grayscale_img.shape[1], k), axis=1)\n",
    "            \n",
    "    return len(np.where((img_sum > 0) & (img_sum < k*k*255))[0])"
   ]
  },
  {
   "cell_type": "code",
   "execution_count": 107,
   "metadata": {},
   "outputs": [],
   "source": [
    "img = cv2.imread('final.jpg',0)\n",
    "img[img != 255] = 0"
   ]
  },
  {
   "cell_type": "code",
   "execution_count": 110,
   "metadata": {},
   "outputs": [],
   "source": [
    "min_dim = min(img.shape)\n",
    "n = int(np.floor(np.log(min_dim)/np.log(2)))\n",
    "\n",
    "sizes = 2**np.arange(n, 1, -1)\n",
    "counts = []\n",
    "for size in sizes:\n",
    "    counts.append(box_count(img,size))"
   ]
  },
  {
   "cell_type": "code",
   "execution_count": null,
   "metadata": {},
   "outputs": [],
   "source": [
    "coeffs = np.polyfit(np.log(sizes), np.log(counts), 1)\n",
    "print(-coeffs[0])"
   ]
  }
 ],
 "metadata": {
  "kernelspec": {
   "display_name": "Python 3",
   "language": "python",
   "name": "python3"
  },
  "language_info": {
   "codemirror_mode": {
    "name": "ipython",
    "version": 3
   },
   "file_extension": ".py",
   "mimetype": "text/x-python",
   "name": "python",
   "nbconvert_exporter": "python",
   "pygments_lexer": "ipython3",
   "version": "3.6.3"
  }
 },
 "nbformat": 4,
 "nbformat_minor": 2
}
