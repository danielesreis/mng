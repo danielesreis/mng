{
 "cells": [
  {
   "cell_type": "code",
   "execution_count": null,
   "metadata": {},
   "outputs": [],
   "source": [
    "# DD\n",
    "# https://sci-hub.tw/10.1016/s0165-0270(96)00080-5"
   ]
  },
  {
   "cell_type": "code",
   "execution_count": 175,
   "metadata": {},
   "outputs": [],
   "source": [
    "from sklearn.metrics.pairwise import pairwise_distances\n",
    "import numpy as np\n",
    "import math\n",
    "import cv2\n",
    "import matplotlib.pyplot as plt\n",
    "\n",
    "plt.rcParams['figure.figsize'] = [20, 15]"
   ]
  },
  {
   "cell_type": "code",
   "execution_count": 182,
   "metadata": {},
   "outputs": [],
   "source": [
    "grayscale_img = cv2.imread('final.jpg',0)\n",
    "grayscale_img[grayscale_img == 255] = 0\n",
    "grayscale_img[grayscale_img != 0] = 255"
   ]
  },
  {
   "cell_type": "code",
   "execution_count": 183,
   "metadata": {},
   "outputs": [],
   "source": [
    "h, w = grayscale_img.shape\n",
    "min_dim = min(h, w)\n",
    "n = int(np.floor(np.log(min_dim)/np.log(2)))"
   ]
  },
  {
   "cell_type": "code",
   "execution_count": 184,
   "metadata": {},
   "outputs": [],
   "source": [
    "radius = np.arange(n, 0, -1)\n",
    "radius = radius*radius\n",
    "max_diameter = radius[0]*2\n",
    "k_size = max_diameter-max_diameter%100+100"
   ]
  },
  {
   "cell_type": "code",
   "execution_count": 186,
   "metadata": {},
   "outputs": [],
   "source": [
    "border = max_diameter + 50\n",
    "new_img = np.zeros((h+border*2,w+border*2), dtype='uint8')\n",
    "new_img[border:border+h,border:border+w] = grayscale_img"
   ]
  },
  {
   "cell_type": "code",
   "execution_count": 188,
   "metadata": {},
   "outputs": [],
   "source": [
    "sums = []\n",
    "for r in radius:\n",
    "    k = np.full((k_size,k_size), 0, dtype='uint8')\n",
    "    new_k = cv2.circle(k,(int(k_size/2),int(k_size/2)), r, 1, -1)\n",
    "    res = cv2.filter2D(img, -1, new_k)\n",
    "    sums.append(sum(sum(res)))"
   ]
  },
  {
   "cell_type": "code",
   "execution_count": 190,
   "metadata": {},
   "outputs": [
    {
     "name": "stdout",
     "output_type": "stream",
     "text": [
      "-1.0220137866426309\n"
     ]
    }
   ],
   "source": [
    "diameters = radius*2\n",
    "L = [s/d for s, d in zip(sums, diameters)]\n",
    "coeffs = np.polyfit(np.log(L), np.log(1/diameters), 1)\n",
    "print(-coeffs[0])"
   ]
  }
 ],
 "metadata": {
  "kernelspec": {
   "display_name": "Python 3",
   "language": "python",
   "name": "python3"
  },
  "language_info": {
   "codemirror_mode": {
    "name": "ipython",
    "version": 3
   },
   "file_extension": ".py",
   "mimetype": "text/x-python",
   "name": "python",
   "nbconvert_exporter": "python",
   "pygments_lexer": "ipython3",
   "version": "3.6.3"
  }
 },
 "nbformat": 4,
 "nbformat_minor": 2
}
