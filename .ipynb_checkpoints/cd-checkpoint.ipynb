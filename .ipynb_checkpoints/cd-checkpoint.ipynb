{
 "cells": [
  {
   "cell_type": "code",
   "execution_count": null,
   "metadata": {},
   "outputs": [],
   "source": [
    "# CD\n",
    "# https://github.com/jcvasquezc/Corr_Dim\n",
    "# https://cschoel.github.io/nolds/nolds.html#correlation-dimension\n",
    "# https://mathematica.stackexchange.com/questions/25984/how-can-i-calculate-the-correlation-dimension-and-or-the-lyapunov-exponent-of-a\n",
    "# https://github.com/guysoft/Scripts-for-Fractals-Lecture\n",
    "# https://arxiv.org/ftp/arxiv/papers/1305/1305.6708.pdf\n",
    "# http://cs231n.stanford.edu/reports/2015/pdfs/epenn_final.pdf\n",
    "# https://sci-hub.tw/10.1371/journal.pone.0097166"
   ]
  },
  {
   "cell_type": "code",
   "execution_count": 3,
   "metadata": {},
   "outputs": [],
   "source": [
    "import cv2\n",
    "import numpy as np"
   ]
  },
  {
   "cell_type": "code",
   "execution_count": null,
   "metadata": {},
   "outputs": [],
   "source": [
    "gray_img = cv2.imread('final.jpg',0)\n",
    "gray_img[gray_img!=255] = 0\n",
    "gray_img = gray_img / 255"
   ]
  },
  {
   "cell_type": "code",
   "execution_count": 37,
   "metadata": {},
   "outputs": [],
   "source": [
    "data \t\t\t\t= gray_img.flatten()\n",
    "n_pixels \t\t\t= data.shape[0]\n",
    "data_shifted \t\t= data[1:]\n",
    "data \t\t\t\t= data[0:n_pixels-1]"
   ]
  },
  {
   "cell_type": "code",
   "execution_count": 62,
   "metadata": {},
   "outputs": [],
   "source": [
    "dists = np.arange(255, 0, -diff)"
   ]
  },
  {
   "cell_type": "code",
   "execution_count": 58,
   "metadata": {},
   "outputs": [],
   "source": [
    "def heaviside_func(array, threshold):\n",
    "\treturn sum(array-threshold>=0)"
   ]
  },
  {
   "cell_type": "code",
   "execution_count": null,
   "metadata": {},
   "outputs": [],
   "source": [
    "C = []\n",
    "for dist in dists:\n",
    "\tsum_pixel = heaviside_func(data - data_shifted, dist)\n",
    "\tC.append(sum_pixel/n_pixels)"
   ]
  },
  {
   "cell_type": "code",
   "execution_count": null,
   "metadata": {},
   "outputs": [],
   "source": []
  }
 ],
 "metadata": {
  "kernelspec": {
   "display_name": "Python 3",
   "language": "python",
   "name": "python3"
  },
  "language_info": {
   "codemirror_mode": {
    "name": "ipython",
    "version": 3
   },
   "file_extension": ".py",
   "mimetype": "text/x-python",
   "name": "python",
   "nbconvert_exporter": "python",
   "pygments_lexer": "ipython3",
   "version": "3.6.3"
  }
 },
 "nbformat": 4,
 "nbformat_minor": 2
}
