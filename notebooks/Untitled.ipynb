{
 "cells": [
  {
   "cell_type": "code",
   "execution_count": 1,
   "metadata": {},
   "outputs": [],
   "source": [
    "import cv2\n",
    "import numpy as np\n",
    "import pandas as pd\n",
    "import matplotlib.pyplot as plt\n",
    "import os \n",
    "import timeit\n",
    "\n",
    "from sklearn.metrics import mean_squared_error\n",
    "from sklearn.linear_model import LinearRegression"
   ]
  },
  {
   "cell_type": "code",
   "execution_count": 4,
   "metadata": {},
   "outputs": [],
   "source": [
    "a = pd.DataFrame(data = [[1, 2, 3], [4, 5, 6], [7, 8, 9]],index=['a', 'b', 'c'], columns=['att1', 'att2', 'att3'])\n",
    "b = pd.DataFrame(data = [[1, 2, 3], [4, 5, 6], [7, 8, 9]],index=['a', 'b', 'c'], columns=['att1', 'att2', 'att3'])\n",
    "c = pd.DataFrame(data = [[1, 2, 3], [4, 5, 6], [7, 8, 9]],index=['a', 'b', 'c'], columns=['att1', 'att2', 'att3'])\n",
    "d = pd.DataFrame(data = [[1, 2, 3], [4, 5, 6], [7, 8, 9]],index=['a', 'b', 'c'], columns=['att1', 'att2', 'att3'])\n",
    "e = pd.DataFrame(data = [[1, 2, 3], [4, 5, 6], [7, 8, 9]],index=['a', 'b', 'c'], columns=['att1', 'att2', 'att3'])\n",
    "f = pd.DataFrame(data = [[1, 2, 3], [4, 5, 6], [7, 8, 9]],index=['a', 'b', 'c'], columns=['att1', 'att2', 'att3'])"
   ]
  },
  {
   "cell_type": "code",
   "execution_count": 22,
   "metadata": {},
   "outputs": [],
   "source": [
    "def append_df():\n",
    "    df = a.append([b, c, d, e, f])\n",
    "    return df"
   ]
  },
  {
   "cell_type": "code",
   "execution_count": 29,
   "metadata": {},
   "outputs": [
    {
     "name": "stdout",
     "output_type": "stream",
     "text": [
      "7.32 ms ± 144 µs per loop (mean ± std. dev. of 7 runs, 100 loops each)\n"
     ]
    }
   ],
   "source": [
    "%timeit for x in range(10): append_df()"
   ]
  },
  {
   "cell_type": "code",
   "execution_count": 25,
   "metadata": {},
   "outputs": [],
   "source": [
    "def concat_df():\n",
    "    return pd.concat([a, b, c, d, e, f])"
   ]
  },
  {
   "cell_type": "code",
   "execution_count": 30,
   "metadata": {},
   "outputs": [
    {
     "name": "stdout",
     "output_type": "stream",
     "text": [
      "6.96 ms ± 37.4 µs per loop (mean ± std. dev. of 7 runs, 100 loops each)\n"
     ]
    }
   ],
   "source": [
    "%timeit for x in range(10): concat_df()"
   ]
  },
  {
   "cell_type": "code",
   "execution_count": null,
   "metadata": {},
   "outputs": [],
   "source": []
  }
 ],
 "metadata": {
  "kernelspec": {
   "display_name": "Python 3",
   "language": "python",
   "name": "python3"
  },
  "language_info": {
   "codemirror_mode": {
    "name": "ipython",
    "version": 3
   },
   "file_extension": ".py",
   "mimetype": "text/x-python",
   "name": "python",
   "nbconvert_exporter": "python",
   "pygments_lexer": "ipython3",
   "version": "3.6.3"
  }
 },
 "nbformat": 4,
 "nbformat_minor": 2
}
