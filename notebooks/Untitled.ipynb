{
 "cells": [
  {
   "cell_type": "code",
   "execution_count": 1,
   "metadata": {},
   "outputs": [],
   "source": [
    "import cv2\n",
    "import sys\n",
    "import numpy as np\n",
    "import pandas as pd\n",
    "import matplotlib.pyplot as plt\n",
    "import seaborn as sns\n",
    "import os \n",
    "import timeit\n",
    "\n",
    "from sklearn.metrics import mean_squared_error\n",
    "from sklearn.linear_model import LinearRegression\n",
    "\n",
    "%load_ext autoreload"
   ]
  },
  {
   "cell_type": "code",
   "execution_count": 2,
   "metadata": {},
   "outputs": [],
   "source": [
    "path = os.getcwd()+'\\\\..\\\\imagens\\\\'\n",
    "sys.path.append(os.getcwd()+'\\\\..\\\\')\n",
    "from MNG import MNG\n",
    "from MNGFolds import MNGFolds"
   ]
  },
  {
   "cell_type": "code",
   "execution_count": 3,
   "metadata": {},
   "outputs": [],
   "source": [
    "path5 = path + 'median_filter\\\\'\n",
    "path6 = path5 + 'opening\\\\'\n",
    "path7 = path + 'cut\\\\'\n",
    "\n",
    "imgs = os.listdir(path5)\n",
    "# imgs.remove('median_filter')\n",
    "# imgs.remove('opening')\n",
    "\n",
    "img_names = [img.split('.')[0] for img in imgs]"
   ]
  },
  {
   "cell_type": "code",
   "execution_count": 26,
   "metadata": {},
   "outputs": [],
   "source": [
    "%autoreload 2\n",
    "\n",
    "mng = MNG(path, img_names)\n",
    "features_mlr = mng.features.feature_names[:9]\n",
    "mng.features.current_features = features_mlr\n",
    "mng.features.current_features_name = 'means'\n",
    "mng.features.new_df()"
   ]
  },
  {
   "cell_type": "code",
   "execution_count": 5,
   "metadata": {},
   "outputs": [],
   "source": [
    "kernel = np.ones((15,15), np.uint8)"
   ]
  },
  {
   "cell_type": "code",
   "execution_count": 7,
   "metadata": {},
   "outputs": [],
   "source": [
    "for img in imgs:\n",
    "    bgr = cv2.imread(path5+img)\n",
    "#     filt = pre.median_filter(bgr, 15)\n",
    "#     filt = pre.unsharp_masking(filt)\n",
    "#     filt = pre.opening_operation(filt, kernel)\n",
    "#     seg_img = mng.segmentation.otsu_thresholding(bgr)\n",
    "#     filt = pre.closing_operation(bgr)\n",
    "#     filt = mng.preprocessing.remove_shadow(seg_img)\n",
    "#     cut = mng.contour.cut_image(filt)\n",
    "#     cv2.imwrite(path7+img, cut)\n",
    "    mng.features.extract_features(bgr, img)"
   ]
  },
  {
   "cell_type": "code",
   "execution_count": 8,
   "metadata": {},
   "outputs": [],
   "source": [
    "file_path = mng.features.save_data()"
   ]
  },
  {
   "cell_type": "code",
   "execution_count": 13,
   "metadata": {},
   "outputs": [],
   "source": [
    "mng.folds = MNGFolds(path, file_path, 7)"
   ]
  },
  {
   "cell_type": "code",
   "execution_count": 25,
   "metadata": {
    "scrolled": false
   },
   "outputs": [
    {
     "name": "stdout",
     "output_type": "stream",
     "text": [
      "                 mean_R_full  mean_G_full  mean_B_full  mean_H_full  \\\n",
      "tommy6_IMG_5180   163.915046   163.912559   162.897200    60.412860   \n",
      "tommy2_IMG_5185   164.112351   164.862688   162.545300    48.344806   \n",
      "tommy3_IMG_5190   164.527555   164.369186   163.019161    49.863498   \n",
      "tommy4_IMG_5195   164.411453   164.316354   163.362668    49.603571   \n",
      "tommy5_IMG_5200   164.279281   164.832775   162.394209    54.661386   \n",
      "tommy7_IMG_5205   164.987971   165.810409   162.748004    56.322322   \n",
      "\n",
      "                 mean_S_full  mean_V_full  mean_L_full  mean_a_full  \\\n",
      "tommy6_IMG_5180     9.772929   164.899964   170.912519   127.709188   \n",
      "tommy2_IMG_5185    11.687328   165.576809   171.765767   127.205987   \n",
      "tommy3_IMG_5190     9.907301   165.250826   171.411900   127.768439   \n",
      "tommy4_IMG_5195     8.158501   165.115954   171.329217   127.794524   \n",
      "tommy5_IMG_5200    12.638423   165.679065   171.825681   127.261556   \n",
      "tommy7_IMG_5205    13.380955   166.692651   172.789098   127.076844   \n",
      "\n",
      "                 mean_b_full  \n",
      "tommy6_IMG_5180   128.755145  \n",
      "tommy2_IMG_5185   129.354486  \n",
      "tommy3_IMG_5190   128.935461  \n",
      "tommy4_IMG_5195   128.687980  \n",
      "tommy5_IMG_5200   129.468703  \n",
      "tommy7_IMG_5205   129.742681  \n"
     ]
    }
   ],
   "source": [
    "mng.folds.separate_folds()"
   ]
  },
  {
   "cell_type": "code",
   "execution_count": 19,
   "metadata": {},
   "outputs": [],
   "source": [
    "mng.folds.organize_folds()"
   ]
  },
  {
   "cell_type": "code",
   "execution_count": 36,
   "metadata": {},
   "outputs": [
    {
     "data": {
      "text/plain": [
       "126"
      ]
     },
     "execution_count": 36,
     "metadata": {},
     "output_type": "execute_result"
    }
   ],
   "source": [
    "18*7"
   ]
  },
  {
   "cell_type": "code",
   "execution_count": 37,
   "metadata": {},
   "outputs": [
    {
     "data": {
      "text/plain": [
       "112"
      ]
     },
     "execution_count": 37,
     "metadata": {},
     "output_type": "execute_result"
    }
   ],
   "source": [
    "16*7"
   ]
  },
  {
   "cell_type": "code",
   "execution_count": 39,
   "metadata": {},
   "outputs": [
    {
     "data": {
      "text/plain": [
       "96"
      ]
     },
     "execution_count": 39,
     "metadata": {},
     "output_type": "execute_result"
    }
   ],
   "source": [
    "6*16"
   ]
  },
  {
   "cell_type": "code",
   "execution_count": 47,
   "metadata": {},
   "outputs": [
    {
     "data": {
      "text/plain": [
       "672"
      ]
     },
     "execution_count": 47,
     "metadata": {},
     "output_type": "execute_result"
    }
   ],
   "source": [
    "16*7*6"
   ]
  },
  {
   "cell_type": "code",
   "execution_count": 49,
   "metadata": {},
   "outputs": [
    {
     "data": {
      "text/plain": [
       "-168"
      ]
     },
     "execution_count": 49,
     "metadata": {},
     "output_type": "execute_result"
    }
   ],
   "source": [
    "672-840"
   ]
  }
 ],
 "metadata": {
  "kernelspec": {
   "display_name": "Python 3",
   "language": "python",
   "name": "python3"
  },
  "language_info": {
   "codemirror_mode": {
    "name": "ipython",
    "version": 3
   },
   "file_extension": ".py",
   "mimetype": "text/x-python",
   "name": "python",
   "nbconvert_exporter": "python",
   "pygments_lexer": "ipython3",
   "version": "3.6.3"
  }
 },
 "nbformat": 4,
 "nbformat_minor": 2
}
