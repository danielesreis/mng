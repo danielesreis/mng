{
 "cells": [
  {
   "cell_type": "code",
   "execution_count": 26,
   "metadata": {},
   "outputs": [],
   "source": [
    "import cv2\n",
    "import sys\n",
    "import numpy as np\n",
    "import pandas as pd\n",
    "import matplotlib.pyplot as plt\n",
    "import seaborn as sns\n",
    "import os \n",
    "import timeit\n",
    "\n",
    "from sklearn.metrics import mean_squared_error\n",
    "from sklearn.linear_model import LinearRegression"
   ]
  },
  {
   "cell_type": "code",
   "execution_count": 2,
   "metadata": {},
   "outputs": [],
   "source": [
    "path = os.getcwd()+'\\\\..\\\\imagens\\\\'\n",
    "sys.path.append(os.getcwd()+'\\\\..\\\\')\n",
    "from MNGPreProcessing import MNGPreProcessing\n",
    "from MNGSegmentation import MNGSegmentation\n",
    "from MNGContour import MNGContour\n",
    "from MNGFeaturesMeans import MNGFeaturesMeans\n",
    "# from MNG import MNG"
   ]
  },
  {
   "cell_type": "code",
   "execution_count": 3,
   "metadata": {},
   "outputs": [],
   "source": [
    "ctn = MNGContour()\n",
    "seg = MNGSegmentation()\n",
    "pre = MNGPreProcessing(seg)\n",
    "feat = MNGFeaturesMeans()"
   ]
  },
  {
   "cell_type": "code",
   "execution_count": 4,
   "metadata": {},
   "outputs": [],
   "source": [
    "path5 = path + 'median_filter\\\\'\n",
    "path6 = path5 + 'opening\\\\'\n",
    "path7 = path + 'cut\\\\'"
   ]
  },
  {
   "cell_type": "code",
   "execution_count": 13,
   "metadata": {},
   "outputs": [],
   "source": [
    "imgs = os.listdir(path5)\n",
    "# imgs.remove('median_filter')\n",
    "# imgs.remove('opening')"
   ]
  },
  {
   "cell_type": "code",
   "execution_count": 39,
   "metadata": {},
   "outputs": [],
   "source": [
    "kernel = np.ones((15,15), np.uint8)"
   ]
  },
  {
   "cell_type": "code",
   "execution_count": 43,
   "metadata": {},
   "outputs": [
    {
     "name": "stdout",
     "output_type": "stream",
     "text": [
      "3\n",
      "True\n",
      "4\n",
      "True\n",
      "2\n",
      "True\n",
      "2\n",
      "True\n",
      "2\n",
      "True\n",
      "2\n",
      "True\n",
      "2\n",
      "True\n",
      "2\n",
      "True\n",
      "6\n",
      "True\n",
      "3\n",
      "True\n"
     ]
    }
   ],
   "source": [
    "for img in imgs:\n",
    "    bgr = cv2.imread(path5+img)\n",
    "#     filt = pre.median_filter(bgr, 15)\n",
    "#     filt = pre.unsharp_masking(filt)\n",
    "#     filt = pre.opening_operation(filt, kernel)\n",
    "    seg_img = seg.otsu_thresholding(bgr)\n",
    "#     filt = pre.closing_operation(bgr)\n",
    "    filt = pre.remove_shadow(seg_img)\n",
    "    cut = ctn.cut_image(filt)\n",
    "    cv2.imwrite(path7+img, cut)"
   ]
  },
  {
   "cell_type": "code",
   "execution_count": 19,
   "metadata": {},
   "outputs": [],
   "source": [
    "def get_means():\n",
    "\timgs = os.listdir(path7)\n",
    "\n",
    "\tbgr_means = np.array([[]])\n",
    "\thsv_means = np.array([[]])\n",
    "\tlab_means = np.array([[]])\n",
    "\n",
    "\tfor img in imgs:\n",
    "\t    bgr = cv2.imread(path+img)\n",
    "\t    hsv = cv2.cvtColor(bgr, cv2.COLOR_BGR2HSV)\n",
    "\t    lab = cv2.cvtColor(bgr, cv2.COLOR_BGR2Lab)\n",
    "\t    \n",
    "\t    bgr_m = feat.channels_mean(bgr)\n",
    "\t    hsv_m = feat.channels_mean(hsv)\n",
    "\t    lab_m = feat.channels_mean(lab)\n",
    "\t    \n",
    "\t    bgr_means = np.append(arr=bgr_means, values=bgr_m)\n",
    "\t    hsv_means = np.append(arr=hsv_means, values=hsv_m)\n",
    "\t    lab_means = np.append(arr=lab_means, values=lab_m)"
   ]
  },
  {
   "cell_type": "code",
   "execution_count": 16,
   "metadata": {},
   "outputs": [],
   "source": [
    "bgr_means = bgr_means.reshape(10,3)\n",
    "hsv_means = hsv_means.reshape(10,3)\n",
    "lab_means = lab_means.reshape(10,3)"
   ]
  },
  {
   "cell_type": "code",
   "execution_count": 29,
   "metadata": {},
   "outputs": [],
   "source": [
    "b = bgr_means[:9,0].reshape(3,3)"
   ]
  },
  {
   "cell_type": "code",
   "execution_count": 31,
   "metadata": {},
   "outputs": [],
   "source": [
    "h = hsv_means[:9,0].reshape(3,3)"
   ]
  },
  {
   "cell_type": "code",
   "execution_count": 37,
   "metadata": {},
   "outputs": [
    {
     "data": {
      "text/plain": [
       "<matplotlib.axes._subplots.AxesSubplot at 0x1282070>"
      ]
     },
     "execution_count": 37,
     "metadata": {},
     "output_type": "execute_result"
    },
    {
     "data": {
      "image/png": "[encoded data removed]",
      "text/plain": [
       "<Figure size 432x288 with 2 Axes>"
      ]
     },
     "metadata": {},
     "output_type": "display_data"
    }
   ],
   "source": [
    "sns.heatmap(b)"
   ]
  },
  {
   "cell_type": "code",
   "execution_count": null,
   "metadata": {},
   "outputs": [],
   "source": []
  }
 ],
 "metadata": {
  "kernelspec": {
   "display_name": "Python 3",
   "language": "python",
   "name": "python3"
  },
  "language_info": {
   "codemirror_mode": {
    "name": "ipython",
    "version": 3
   },
   "file_extension": ".py",
   "mimetype": "text/x-python",
   "name": "python",
   "nbconvert_exporter": "python",
   "pygments_lexer": "ipython3",
   "version": "3.6.3"
  }
 },
 "nbformat": 4,
 "nbformat_minor": 2
}
