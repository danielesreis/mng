{
 "cells": [
  {
   "cell_type": "code",
   "execution_count": 1,
   "metadata": {},
   "outputs": [],
   "source": [
    "import cv2\n",
    "import sys\n",
    "import numpy as np\n",
    "import pandas as pd\n",
    "import matplotlib.pyplot as plt\n",
    "import seaborn as sns\n",
    "import os \n",
    "import timeit\n",
    "import math\n",
    "from shutil import copyfile\n",
    "\n",
    "from sklearn.ensemble import RandomForestRegressor\n",
    "from sklearn.linear_model import LinearRegression\n",
    "from sklearn.metrics import r2_score, mean_squared_error\n",
    "from sklearn.model_selection import cross_val_score\n",
    "\n",
    "%load_ext autoreload\n",
    "plt.rcParams['figure.figsize'] = [20, 15]\n",
    "\n",
    "path = os.getcwd()+'\\\\..\\\\imagens\\\\'\n",
    "sys.path.append(os.getcwd()+'\\\\..\\\\scripts\\\\')\n",
    "from MNG import MNG\n",
    "from MNGFolds import MNGFolds\n",
    "from MNGSegmentation import MNGSegmentation\n",
    "from MNGPreProcessing import MNGPreProcessing\n",
    "from MNGContour import MNGContour\n",
    "from MNGFeaturesMeans import MNGFeaturesMeans\n",
    "from MNGModel import MNGModel\n",
    "from MNGFeaturesSize import MNGFeaturesSize"
   ]
  },
  {
   "cell_type": "code",
   "execution_count": 2,
   "metadata": {},
   "outputs": [],
   "source": [
    "path = os.getcwd() + '\\\\..\\\\imagens\\\\'\n",
    "imgs = os.listdir(path)\n",
    "img_names = [img.split('.')[0] for img in imgs]\n",
    "\n",
    "mng = MNG(path, img_names, 'sst')\n",
    "mng.segmentation = MNGSegmentation()\n",
    "mng.preprocessing = MNGPreProcessing(mng.segmentation)\n",
    "mng.contour = MNGContour()\n",
    "\n",
    "features_mlr = mng.features.feature_names[:9]\n",
    "mng.features.current_features = features_mlr\n",
    "mng.features.current_features_name = 'means'\n",
    "mng.features.new_df()"
   ]
  },
  {
   "cell_type": "code",
   "execution_count": 28,
   "metadata": {},
   "outputs": [],
   "source": [
    "def pre_process(img, ori, dest):\n",
    "    bgr = cv2.imread(ori+img)\n",
    "    med = mng.preprocessing.median_filter(bgr, 11)\n",
    "    filt, __ = mng.segmentation.otsu_thresholding(med)\n",
    "    filt = mng.preprocessing.opening_operation(filt, np.ones((15,15), np.uint8))\n",
    "    filt = mng.preprocessing.remove_shadow(filt, 85)\n",
    "    filt = mng.preprocessing.closing_operation(filt, med, np.ones((1200,1200), np.uint8))\n",
    "    filt[filt==0] = 255\n",
    "    filt = mng.contour.cut_image(filt)\n",
    "    cv2.imwrite(dest+img, filt)"
   ]
  },
  {
   "cell_type": "code",
   "execution_count": 25,
   "metadata": {},
   "outputs": [],
   "source": [
    "path2 = path + '\\\\..\\\\pendentes\\\\' \n",
    "path3 = path + '\\\\..\\\\pendentes2\\\\'\n",
    "\n",
    "imgs = os.listdir(path)"
   ]
  },
  {
   "cell_type": "code",
   "execution_count": 26,
   "metadata": {},
   "outputs": [],
   "source": [
    "erradas = pd.read_csv(path + '\\\\..\\\\sombras.csv', sep=';', dtype='object').values\n",
    "erradas = [err[0] for err in erradas]\n",
    "dict_erradas = dict((el,0) for el in erradas)\n",
    "\n",
    "for img in imgs:\n",
    "    if img[:4] in dict_erradas:\n",
    "        copyfile(path+img, path2+img)"
   ]
  },
  {
   "cell_type": "code",
   "execution_count": 29,
   "metadata": {},
   "outputs": [
    {
     "name": "stdout",
     "output_type": "stream",
     "text": [
      "99\n"
     ]
    }
   ],
   "source": [
    "imgs = os.listdir(path2)\n",
    "\n",
    "for img in imgs:\n",
    "    pre_process(img, path2, path3)"
   ]
  },
  {
   "cell_type": "code",
   "execution_count": null,
   "metadata": {},
   "outputs": [],
   "source": [
    "imgs = os.listdir(path2)\n",
    "nums = np.arange(1,1681)\n",
    "\n",
    "for img,num in zip(imgs,nums):\n",
    "    print(num)\n",
    "    bgr = cv2.imread(path2+img)\n",
    "    mng.features.extract_features(bgr, img)\n",
    "    \n",
    "file_path = mng.features.save_data()"
   ]
  },
  {
   "cell_type": "code",
   "execution_count": null,
   "metadata": {},
   "outputs": [],
   "source": [
    "file_path = 'C:\\\\Users\\\\juju-\\\\Desktop\\\\projetos\\\\mng\\\\features\\\\means_all_half.csv'\n",
    "\n",
    "palmer_sst \t\t= 'C:\\\\Users\\\\juju-\\\\Desktop\\\\projetos\\\\mng\\\\palmer_sst.csv'\n",
    "tommy_sst \t\t= 'C:\\\\Users\\\\juju-\\\\Desktop\\\\projetos\\\\mng\\\\tommy_sst.csv'\n",
    "mng.features.add_target(file_path, palmer_sst, tommy_sst)"
   ]
  },
  {
   "cell_type": "code",
   "execution_count": null,
   "metadata": {},
   "outputs": [],
   "source": [
    "mng.folds = MNGFolds(path, file_path, 7)\n",
    "mng.folds.separate_folds()"
   ]
  },
  {
   "cell_type": "code",
   "execution_count": 424,
   "metadata": {},
   "outputs": [],
   "source": [
    "model_type = 'all'\n",
    "mng.model = MNGModel(path, mng.folds, model_type, 'sst')\n",
    "mng.model.build_mlr_model(model_type, features_mlr)\n",
    "mng.model.build_rf_model(model_type)"
   ]
  },
  {
   "cell_type": "code",
   "execution_count": null,
   "metadata": {},
   "outputs": [],
   "source": []
  },
  {
   "cell_type": "code",
   "execution_count": null,
   "metadata": {},
   "outputs": [],
   "source": []
  },
  {
   "cell_type": "code",
   "execution_count": null,
   "metadata": {},
   "outputs": [],
   "source": []
  },
  {
   "cell_type": "code",
   "execution_count": null,
   "metadata": {},
   "outputs": [],
   "source": []
  },
  {
   "cell_type": "code",
   "execution_count": null,
   "metadata": {},
   "outputs": [],
   "source": []
  },
  {
   "cell_type": "code",
   "execution_count": null,
   "metadata": {},
   "outputs": [],
   "source": []
  },
  {
   "cell_type": "code",
   "execution_count": null,
   "metadata": {},
   "outputs": [],
   "source": []
  },
  {
   "cell_type": "code",
   "execution_count": 450,
   "metadata": {},
   "outputs": [],
   "source": [
    "df = pd.read_csv('C:\\\\Users\\\\juju-\\\\Desktop\\\\projetos\\\\mng\\\\features\\\\means_all.csv', sep=';', index_col=0)\n",
    "\n",
    "new_data = df.copy()\n",
    "columns = df.columns\n",
    "index = df.index.values\n",
    "\n",
    "info = list()\n",
    "info = [ind.split('_') for ind in index]\n",
    "\n",
    "var = [inf[0][4:] for inf in info]\n",
    "sem = [int(inf[1][-1]) for inf in info]\n",
    "num = [int(inf[2].split('lado')[0][3:]) for inf in info]\n",
    "lado= [int(inf[2][-1]) for inf in info]\n",
    "\n",
    "var = pd.Series(var, index)\n",
    "sem = pd.Series(sem, index)\n",
    "num = pd.Series(num, index)\n",
    "lado = pd.Series(lado, index)\n",
    "\n",
    "new_data['var'] = var\n",
    "new_data['sem'] = sem\n",
    "new_data['num'] = num\n",
    "new_data['lado'] = lado\n",
    "\n",
    "# new_data = new_data.loc[new_data['lado']==1]\n",
    "new_data = new_data.groupby(['var', 'sem', 'num']).sum()\n",
    "new_data = new_data.reset_index().drop(columns=['var', 'sem', 'num', 'lado'])\n",
    "# new_data = new_data.drop(columns=['var', 'sem', 'num', 'lado'])\n",
    "\n",
    "new_index = [ind.split('lado')[0] for ind in index]\n",
    "new_index = new_index[::2]\n",
    "\n",
    "new_data['ind'] = new_index\n",
    "new_data.set_index('ind', inplace=True)\n",
    "\n",
    "file_path = path+'..\\\\features\\\\' + 'means' + '_all_half_soma.csv'\n",
    "new_data.to_csv(file_path, sep=';')\n",
    "\n",
    "mng.features.add_target(file_path, palmer_sst, tommy_sst)"
   ]
  },
  {
   "cell_type": "code",
   "execution_count": 452,
   "metadata": {},
   "outputs": [],
   "source": [
    "file_path = 'C:\\\\Users\\\\juju-\\\\Desktop\\\\projetos\\\\mng\\\\features\\\\means_all_half_soma.csv'\n",
    "mng.folds = MNGFolds(path, file_path, 7)\n",
    "mng.folds.separate_folds()"
   ]
  },
  {
   "cell_type": "code",
   "execution_count": 455,
   "metadata": {},
   "outputs": [],
   "source": [
    "model_type = 'tommy'\n",
    "mng.model = MNGModel(path, mng.folds, model_type, 'sst')\n",
    "mng.model.build_mlr_model(model_type, features_mlr)\n",
    "mng.model.build_rf_model(model_type)"
   ]
  },
  {
   "cell_type": "code",
   "execution_count": 469,
   "metadata": {},
   "outputs": [
    {
     "data": {
      "text/plain": [
       "array([-0.1842658 , -0.05137528, -0.1888806 ,  0.02267984, -0.69343669,\n",
       "       -0.21317699])"
      ]
     },
     "execution_count": 469,
     "metadata": {},
     "output_type": "execute_result"
    }
   ],
   "source": [
    "df = pd.read_csv('C:\\\\Users\\\\juju-\\\\Desktop\\\\projetos\\\\mng\\\\features\\\\tommy\\\\tommy_all.csv', sep=';', index_col=0)\n",
    "X = df[features_mlr]\n",
    "Y = df['sst']\n",
    "mlr_model = LinearRegression().fit(X, Y)\n",
    "scores = cross_val_score(mlr_model, X, Y, cv=6, scoring='r2')\n",
    "scores"
   ]
  },
  {
   "cell_type": "code",
   "execution_count": null,
   "metadata": {},
   "outputs": [],
   "source": []
  }
 ],
 "metadata": {
  "kernelspec": {
   "display_name": "Python 3",
   "language": "python",
   "name": "python3"
  },
  "language_info": {
   "codemirror_mode": {
    "name": "ipython",
    "version": 3
   },
   "file_extension": ".py",
   "mimetype": "text/x-python",
   "name": "python",
   "nbconvert_exporter": "python",
   "pygments_lexer": "ipython3",
   "version": "3.6.3"
  }
 },
 "nbformat": 4,
 "nbformat_minor": 2
}
