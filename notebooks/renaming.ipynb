{
 "cells": [
  {
   "cell_type": "code",
   "execution_count": 8,
   "metadata": {},
   "outputs": [],
   "source": [
    "import os\n",
    "from shutil import copyfile"
   ]
  },
  {
   "cell_type": "code",
   "execution_count": 13,
   "metadata": {},
   "outputs": [],
   "source": [
    "path = '//home//danielesreis//Desktop//novasimagensTCC//116___12Palmer0712201815dias(ou16)'\n",
    "dest = '//home//danielesreis//Desktop//novasimagensTCC//backup'\n",
    "files = os.listdir(path)\n",
    "rows = [2,5,8,10,11,14,15,17,20,22,23,29,30]\n",
    "n = 10\n",
    "files = sorted(files)"
   ]
  },
  {
   "cell_type": "code",
   "execution_count": 15,
   "metadata": {},
   "outputs": [],
   "source": [
    "for row in rows:\n",
    "    bgn = (row-1)*n\n",
    "    end = bgn + n \n",
    "    imgs = files[bgn:end]\n",
    "    first = imgs[:5]\n",
    "    last = imgs[5:]\n",
    "    i=0\n",
    "    for f in first:\n",
    "            copyfile(path+'//'+f,dest+'//'+last[i])\n",
    "            copyfile(path+'//'+last[i],dest+'//'+first[i])\n",
    "            i=i+1"
   ]
  },
  {
   "cell_type": "code",
   "execution_count": 37,
   "metadata": {},
   "outputs": [],
   "source": [
    "paths = list()\n",
    "paths.append('//home//danielesreis//Desktop//novasimagensTCC//palmer_5_dias//')\n",
    "paths.append('//home//danielesreis//Desktop//novasimagensTCC//palmer_10_dias//')\n",
    "paths.append('//home//danielesreis//Desktop//novasimagensTCC//palmer_15_dias//')\n",
    "paths.append('//home//danielesreis//Desktop//novasimagensTCC//palmer_20_dias//')\n",
    "dest = '//home//danielesreis//Desktop//novasimagensTCC//renamed//'"
   ]
  },
  {
   "cell_type": "code",
   "execution_count": 40,
   "metadata": {},
   "outputs": [],
   "source": [
    "sem = 11\n",
    "num = 1\n",
    "lado = 1\n",
    "var = 'palmer'"
   ]
  },
  {
   "cell_type": "code",
   "execution_count": 42,
   "metadata": {},
   "outputs": [],
   "source": [
    "n = 1\n",
    "\n",
    "for path in paths:\n",
    "    files = os.listdir(path)\n",
    "    files = sorted(files)\n",
    "    if path == paths[0]:\n",
    "        bgn = 1201\n",
    "    elif path == paths[1]:\n",
    "        bgn = 1291\n",
    "    elif path == paths[2]:\n",
    "        bgn = 1321\n",
    "    else:\n",
    "        bgn = 1411\n",
    "    \n",
    "    for file in files:\n",
    "            if lado > 2:\n",
    "                lado = 1\n",
    "            name = str(bgn) + var + '_sem' + str(sem) + '_num' + str(num) + 'lado' + str(lado) + '.JPG'\n",
    "            copyfile(path+file, dest+name)\n",
    "            bgn = bgn + 1\n",
    "            lado = lado + 1\n",
    "            if n % 2 == 0:\n",
    "                num = int(n/2+1)\n",
    "            n = n + 1\n",
    "            \n",
    "    num = 1\n",
    "    n = 1\n",
    "    lado = 1\n",
    "    sem = sem + 1"
   ]
  },
  {
   "cell_type": "code",
   "execution_count": null,
   "metadata": {},
   "outputs": [],
   "source": []
  }
 ],
 "metadata": {
  "kernelspec": {
   "display_name": "Python 3",
   "language": "python",
   "name": "python3"
  },
  "language_info": {
   "codemirror_mode": {
    "name": "ipython",
    "version": 3
   },
   "file_extension": ".py",
   "mimetype": "text/x-python",
   "name": "python",
   "nbconvert_exporter": "python",
   "pygments_lexer": "ipython3",
   "version": "3.6.7"
  }
 },
 "nbformat": 4,
 "nbformat_minor": 2
}
