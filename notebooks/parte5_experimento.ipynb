{
 "cells": [
  {
   "cell_type": "code",
   "execution_count": null,
   "metadata": {},
   "outputs": [],
   "source": [
    "# rodar o melhor modelo do tempo para predição de SST e firmeza e montar tabela"
   ]
  },
  {
   "cell_type": "code",
   "execution_count": 2,
   "metadata": {},
   "outputs": [],
   "source": [
    "import cv2\n",
    "import sys\n",
    "import numpy as np\n",
    "import pandas as pd\n",
    "import matplotlib.pyplot as plt\n",
    "import seaborn as sns\n",
    "import os \n",
    "import math\n",
    "\n",
    "from sklearn.ensemble import RandomForestRegressor\n",
    "from sklearn.metrics import r2_score, mean_squared_error\n",
    "from sklearn.model_selection import KFold\n",
    "\n",
    "%load_ext autoreload\n",
    "\n",
    "sys.path.append(os.getcwd()+'\\\\..\\\\scripts\\\\')\n",
    "path = os.getcwd() + '\\\\..\\\\'\n",
    "\n",
    "from MNG import MNG\n",
    "from MNGFeatures import MNGFeatures\n",
    "from MNGFeaturesMeans import MNGFeaturesMeans\n",
    "from MNGFeaturesSize import MNGFeaturesSize\n",
    "from MNGModel import MNGModel"
   ]
  },
  {
   "cell_type": "code",
   "execution_count": 54,
   "metadata": {},
   "outputs": [],
   "source": [
    "data = pd.read_csv(path+'features\\\\means_size_all_half.csv', sep=';', index_col=0)\n",
    "palmer_sst = pd.read_csv(path+'palmer_sst.csv', sep=';')\n",
    "palmer_firm = pd.read_csv(path+'palmer_firmeza.csv', sep=';')\n",
    "\n",
    "n_trees = 200\n",
    "kf = KFold(n_splits=5, shuffle=True)\n",
    "data['sst'] = palmer_sst.values\n",
    "data['firmeza'] = palmer_firm.values\n",
    "\n",
    "X = data.drop(columns=['time', 'sst', 'firmeza'])\n",
    "Y_sst = data['sst']\n",
    "Y_firm = data['firmeza']\n",
    "Y_time = data['time']\n",
    "\n",
    "predictions = pd.DataFrame(index=data.index.values, columns=['sst_predict', 'firmeza_predict', 'time_predict'])\n",
    "real = pd.DataFrame(index=data.index.values, columns=['sst_real', 'firmeza_real', 'time_real'])"
   ]
  },
  {
   "cell_type": "code",
   "execution_count": 59,
   "metadata": {},
   "outputs": [],
   "source": [
    "for train_i, test_i in kf.split(X):\n",
    "    X_train, X_test = X.iloc[train_i], X.iloc[test_i]\n",
    "    Y_sst_train, __ = Y_sst.iloc[train_i], Y_sst.iloc[test_i]\n",
    "    Y_firm_train, __ = Y_firm.iloc[train_i], Y_firm.iloc[test_i]\n",
    "    Y_time_train, __ = Y_time.iloc[train_i], Y_time.iloc[test_i]\n",
    "    \n",
    "    rf_model = RandomForestRegressor(n_estimators=n_trees).fit(X_train, Y_sst_train)\n",
    "    Y_predicted = rf_model.predict(X_test)\n",
    "    predictions['sst_predict'].iloc[test_i] = Y_predicted\n",
    "    \n",
    "    rf_model = RandomForestRegressor(n_estimators=n_trees).fit(X_train, Y_firm_train)\n",
    "    Y_predicted = rf_model.predict(X_test)\n",
    "    predictions['firmeza_predict'].iloc[test_i] = Y_predicted\n",
    "    \n",
    "    rf_model = RandomForestRegressor(n_estimators=n_trees).fit(X_train, Y_time_train)\n",
    "    Y_predicted = rf_model.predict(X_test)\n",
    "    predictions['time_predict'].iloc[test_i] = Y_predicted"
   ]
  },
  {
   "cell_type": "code",
   "execution_count": 55,
   "metadata": {},
   "outputs": [],
   "source": [
    "real['sst_real'] = palmer_sst.values\n",
    "real['firmeza_real'] = palmer_firm.values\n",
    "real['time_real'] = data['time']"
   ]
  },
  {
   "cell_type": "code",
   "execution_count": 99,
   "metadata": {},
   "outputs": [],
   "source": [
    "predictions.to_csv('dados_predict.csv', sep=';')\n",
    "predictions['sst_real'] = real['sst_real']\n",
    "predictions['firmeza_real'] = real['firmeza_real']\n",
    "predictions['time_real'] = data['time']\n",
    "\n",
    "predictions.to_csv('dados_predict_reais.csv', sep=';')"
   ]
  },
  {
   "cell_type": "code",
   "execution_count": 95,
   "metadata": {},
   "outputs": [],
   "source": [
    "def calc_tabela(data, att, range_max, range_min, intervals, consider_end):\n",
    "    indexes = []\n",
    "    bins = math.floor((range_max-range_min)/intervals)\n",
    "    tabela = pd.DataFrame(data=0,index=np.arange(bins),columns=data.columns)\n",
    "    \n",
    "    for bin_num in range(bins):\n",
    "        min_v = range_min if bin_num == 0 else range_min + intervals*bin_num + 1\n",
    "        if bin_num!=(bins-1):\n",
    "            max_v = min_v + intervals if bin_num == 0 else min_v + intervals - 1\n",
    "        else:\n",
    "            max_v = range_max\n",
    "        indexes.append(str(min_v)+'-'+str(max_v))\n",
    "        tabela.iloc[bin_num] = data[(min_v<=data[att]) & (data[att]<=max_v)].mean()\n",
    "    \n",
    "    tabela.index = indexes\n",
    "    return tabela"
   ]
  },
  {
   "cell_type": "code",
   "execution_count": 85,
   "metadata": {},
   "outputs": [],
   "source": [
    "range_max = 170\n",
    "range_min = 35\n",
    "intervals = 15\n",
    "\n",
    "tabela_real = calc_tabela(real, 'time_real', range_max, range_min, intervals, False)\n",
    "tabela_pred = calc_tabela(predictions, 'time_predict', range_max, range_min, intervals, False)"
   ]
  },
  {
   "cell_type": "code",
   "execution_count": 96,
   "metadata": {},
   "outputs": [],
   "source": [
    "range_max = 190\n",
    "range_min = 171\n",
    "intervals = 9\n",
    "\n",
    "tabela_real = calc_tabela(real, 'time_real', range_max, range_min, intervals, True)\n",
    "tabela_pred = calc_tabela(predictions, 'time_predict', range_max, range_min, intervals, True)"
   ]
  }
 ],
 "metadata": {
  "kernelspec": {
   "display_name": "Python 3",
   "language": "python",
   "name": "python3"
  },
  "language_info": {
   "codemirror_mode": {
    "name": "ipython",
    "version": 3
   },
   "file_extension": ".py",
   "mimetype": "text/x-python",
   "name": "python",
   "nbconvert_exporter": "python",
   "pygments_lexer": "ipython3",
   "version": "3.6.3"
  }
 },
 "nbformat": 4,
 "nbformat_minor": 2
}
