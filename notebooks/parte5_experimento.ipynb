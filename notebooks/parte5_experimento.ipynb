{
 "cells": [
  {
   "cell_type": "code",
   "execution_count": null,
   "metadata": {},
   "outputs": [],
   "source": [
    "# duplicar as últimas amostras"
   ]
  },
  {
   "cell_type": "code",
   "execution_count": 1,
   "metadata": {},
   "outputs": [],
   "source": [
    "import cv2\n",
    "import sys\n",
    "import numpy as np\n",
    "import pandas as pd\n",
    "import matplotlib.pyplot as plt\n",
    "import seaborn as sns\n",
    "import os\n",
    "import random\n",
    "import math\n",
    "\n",
    "from sklearn.ensemble import RandomForestRegressor\n",
    "from sklearn.linear_model import LinearRegression\n",
    "from sklearn.metrics import r2_score, mean_squared_error\n",
    "from sklearn.model_selection import KFold\n",
    "\n",
    "%load_ext autoreload\n",
    "\n",
    "sys.path.append(os.getcwd()+'//..//scripts//')\n",
    "path = os.getcwd() + '//..//'\n",
    "\n",
    "from MNG import MNG\n",
    "from MNGFeatures import MNGFeatures\n",
    "from MNGFeaturesMeans import MNGFeaturesMeans\n",
    "from MNGFeaturesSize import MNGFeaturesSize\n",
    "from MNGModel import MNGModel"
   ]
  },
  {
   "cell_type": "code",
   "execution_count": 2,
   "metadata": {},
   "outputs": [],
   "source": [
    "# repetindo os últimos dados"
   ]
  },
  {
   "cell_type": "code",
   "execution_count": 2,
   "metadata": {},
   "outputs": [],
   "source": [
    "data_path = os.getcwd()+'/../resampling/all_data_repeated.csv'\n",
    "# data_path = os.getcwd()+'/../resampling/all_data_synthetic.csv'\n",
    "old_data = pd.read_csv(data_path, sep=',', index_col=0)"
   ]
  },
  {
   "cell_type": "code",
   "execution_count": 4,
   "metadata": {},
   "outputs": [],
   "source": [
    "# run this once\n",
    "# repeated_list_indexes = np.arange(480)\n",
    "# random.shuffle(repeated_list_indexes)\n",
    "# to_be_deleted = repeated_list_indexes[:120].tolist()"
   ]
  },
  {
   "cell_type": "code",
   "execution_count": 3,
   "metadata": {},
   "outputs": [],
   "source": [
    "to_be_deleted = [234, 385, 248, 110, 378, 159, 131, 252, 9, 53, 46, 153, 307, 203, 414, 412, 438, 20, 208, 188, \\\n",
    "                 357, 315, 246, 219, 235, 456, 261, 51, 339, 415, 67, 373, 52, 335, 201, 95, 129, 200, 364, 81, \\\n",
    "                 172, 291, 64, 367, 71, 255, 263, 40, 268, 165, 313, 316, 416, 404, 167, 238, 475, 32, 202, 345, \\\n",
    "                 294, 139, 324, 83, 15, 86, 254, 419, 477, 447, 207, 94, 318, 329, 249, 250, 85, 186, 361, 170, \\\n",
    "                 270, 100, 421, 258, 96, 69, 397, 451, 22, 181, 17, 59, 467, 215, 128, 230, 93, 286, 461, 337, \\\n",
    "                 468, 18, 271, 214, 391, 383, 82, 325, 228, 442, 274, 231, 122, 426, 401, 141, 143, 244, 192, 77]"
   ]
  },
  {
   "cell_type": "code",
   "execution_count": 4,
   "metadata": {},
   "outputs": [],
   "source": [
    "# ATTENTION! I'M ASSIGNING IT MANUALLY, NOT BASED IN INDEX\n",
    "resampled_data = old_data.iloc[-480:]\n",
    "rows_to_delete = resampled_data.iloc[to_be_deleted]\n",
    "\n",
    "data = old_data.drop(rows_to_delete.index.values)\n",
    "\n",
    "# remove atributos diff\n",
    "data = data.drop(columns=data.columns.values[:1710])"
   ]
  },
  {
   "cell_type": "code",
   "execution_count": 5,
   "metadata": {},
   "outputs": [],
   "source": [
    "n_var_names = list(filter(lambda x: 'region' in x, data.columns.values))"
   ]
  },
  {
   "cell_type": "code",
   "execution_count": 6,
   "metadata": {},
   "outputs": [],
   "source": [
    "data = data.drop(columns=n_var_names)"
   ]
  },
  {
   "cell_type": "code",
   "execution_count": 109,
   "metadata": {},
   "outputs": [],
   "source": [
    "# data = pd.read_csv(path+'features//size_all_half.csv', sep=';', index_col=0)\n",
    "# palmer_sst = pd.read_csv(path+'//reference_values//primeiros_dados_palmer_sst.csv', sep=';', index_col=0)\n",
    "# palmer_firm = pd.read_csv(path+'//reference_values//primeiros_dados_palmer_firmeza.csv', sep=';', index_col=0)\n",
    "\n",
    "# data['sst'] = palmer_sst.values\n",
    "# data['firmeza'] = palmer_firm.values"
   ]
  },
  {
   "cell_type": "code",
   "execution_count": 7,
   "metadata": {},
   "outputs": [],
   "source": [
    "X = data.drop(columns=['time', 'sst', 'firmeza', 'ratio', 'massa', 'acidez'])\n",
    "Y_sst = data['sst']\n",
    "Y_firm = data['firmeza']\n",
    "Y_time = data['time']\n",
    "Y_acidez = data['acidez']\n",
    "Y_massa = data['massa']\n",
    "Y_ratio = data['ratio']"
   ]
  },
  {
   "cell_type": "code",
   "execution_count": 8,
   "metadata": {},
   "outputs": [
    {
     "data": {
      "text/plain": [
       "41"
      ]
     },
     "execution_count": 8,
     "metadata": {},
     "output_type": "execute_result"
    }
   ],
   "source": [
    "len(data.drop(columns=['width', 'height', 'time', 'sst', 'firmeza', 'ratio', 'acidez']).columns)"
   ]
  },
  {
   "cell_type": "code",
   "execution_count": 9,
   "metadata": {},
   "outputs": [],
   "source": [
    "predictions = pd.DataFrame(index=data.index.values, columns=['sst_predict', 'firmeza_predict', 'time_predict', \\\n",
    "                                                             'massa_predict', 'ratio_predict', 'acidez_predict'])\n",
    "real = pd.DataFrame(index=data.index.values, columns=['sst_real', 'firmeza_real', 'time_real', 'massa_real', \\\n",
    "                                                      'ratio_real', 'acidez_real'])"
   ]
  },
  {
   "cell_type": "code",
   "execution_count": null,
   "metadata": {},
   "outputs": [],
   "source": []
  },
  {
   "cell_type": "markdown",
   "metadata": {},
   "source": [
    "# execute the following 2 cells to run models without resampled data"
   ]
  },
  {
   "cell_type": "code",
   "execution_count": 50,
   "metadata": {},
   "outputs": [],
   "source": [
    "synthetic_indexes = list(filter(lambda x: 'synthetic' in x, X.index.values))\n",
    "rows_to_delete = X.loc[synthetic_indexes]\n",
    "X = X.drop(rows_to_delete.index.values)\n",
    "Y_sst = Y_sst.drop(rows_to_delete.index.values)\n",
    "Y_firm = Y_firm.drop(rows_to_delete.index.values)\n",
    "Y_time = Y_time.drop(rows_to_delete.index.values)\n",
    "Y_acidez = Y_acidez.drop(rows_to_delete.index.values)\n",
    "Y_massa = Y_massa.drop(rows_to_delete.index.values)\n",
    "Y_ratio = Y_ratio.drop(rows_to_delete.index.values)"
   ]
  },
  {
   "cell_type": "code",
   "execution_count": 81,
   "metadata": {},
   "outputs": [],
   "source": [
    "# execute this to run models without resampled data\n",
    "predictions = pd.DataFrame(index=X.index.values, columns=['sst_predict', 'firmeza_predict', 'time_predict', \\\n",
    "                                                             'massa_predict', 'ratio_predict', 'acidez_predict'])\n",
    "real = pd.DataFrame(index=X.index.values, columns=['sst_real', 'firmeza_real', 'time_real', 'massa_real', \\\n",
    "                                                      'ratio_real', 'acidez_real'])"
   ]
  },
  {
   "cell_type": "code",
   "execution_count": null,
   "metadata": {},
   "outputs": [],
   "source": []
  },
  {
   "cell_type": "code",
   "execution_count": 12,
   "metadata": {},
   "outputs": [],
   "source": [
    "n_trees = 100\n",
    "kf = KFold(n_splits=5, shuffle=True)"
   ]
  },
  {
   "cell_type": "code",
   "execution_count": 31,
   "metadata": {},
   "outputs": [],
   "source": [
    "def mlr_exp():\n",
    "\ti=1\n",
    "\tfor train_i, test_i in kf.split(X):\n",
    "\t\tprint(i)\n",
    "\t\tX_train, X_test = X.iloc[train_i], X.iloc[test_i]\n",
    "\t\tY_sst_train, __ = Y_sst.iloc[train_i], Y_sst.iloc[test_i]\n",
    "\t\tY_firm_train, __ = Y_firm.iloc[train_i], Y_firm.iloc[test_i]\n",
    "\t\tY_time_train, __ = Y_time.iloc[train_i], Y_time.iloc[test_i]\n",
    "\t\tY_acidez_train, __ = Y_acidez.iloc[train_i], Y_acidez.iloc[test_i]\n",
    "\t\tY_massa_train, __ = Y_massa.iloc[train_i], Y_massa.iloc[test_i]\n",
    "\t\tY_ratio_train, __ = Y_ratio.iloc[train_i], Y_ratio.iloc[test_i]\n",
    "\t\t\n",
    "\t\tprint('sst')\n",
    "\t\tmlr_model = LinearRegression().fit(X_train, Y_sst_train)\n",
    "\t\tY_predicted = mlr_model.predict(X_test)\n",
    "\t\tpredictions['sst_predict'].iloc[test_i] = Y_predicted\n",
    "\t\t\n",
    "\t\tprint('firmeza')\n",
    "\t\tmlr_model = LinearRegression().fit(X_train, Y_firm_train)\n",
    "\t\tY_predicted = mlr_model.predict(X_test)\n",
    "\t\tpredictions['firmeza_predict'].iloc[test_i] = Y_predicted\n",
    "\t\t\n",
    "\t\tprint('time')\n",
    "\t\tmlr_model = LinearRegression().fit(X_train, Y_time_train)\n",
    "\t\tY_predicted = mlr_model.predict(X_test)\n",
    "\t\tpredictions['time_predict'].iloc[test_i] = Y_predicted\n",
    "\n",
    "\t\tprint('acidez')\n",
    "\t\tmlr_model = LinearRegression().fit(X_train, Y_acidez_train)\n",
    "\t\tY_predicted = mlr_model.predict(X_test)\n",
    "\t\tpredictions['acidez_predict'].iloc[test_i] = Y_predicted\n",
    "\n",
    "\t\tprint('massa')\n",
    "\t\tmlr_model = LinearRegression().fit(X_train, Y_massa_train)\n",
    "\t\tY_predicted = mlr_model.predict(X_test)\n",
    "\t\tpredictions['massa_predict'].iloc[test_i] = Y_predicted\n",
    "\n",
    "\t\tprint('ratio')\n",
    "\t\tmlr_model = LinearRegression().fit(X_train, Y_ratio_train)\n",
    "\t\tY_predicted = mlr_model.predict(X_test)\n",
    "\t\tpredictions['ratio_predict'].iloc[test_i] = Y_predicted\n",
    "\n",
    "\t\ti=i+1\t"
   ]
  },
  {
   "cell_type": "code",
   "execution_count": 32,
   "metadata": {},
   "outputs": [
    {
     "name": "stdout",
     "output_type": "stream",
     "text": [
      "1\n",
      "sst\n",
      "firmeza\n",
      "time\n",
      "acidez\n",
      "massa\n",
      "ratio\n",
      "2\n",
      "sst\n",
      "firmeza\n",
      "time\n",
      "acidez\n",
      "massa\n",
      "ratio\n",
      "3\n",
      "sst\n",
      "firmeza\n",
      "time\n",
      "acidez\n",
      "massa\n",
      "ratio\n",
      "4\n",
      "sst\n",
      "firmeza\n",
      "time\n",
      "acidez\n",
      "massa\n",
      "ratio\n",
      "5\n",
      "sst\n",
      "firmeza\n",
      "time\n",
      "acidez\n",
      "massa\n",
      "ratio\n"
     ]
    }
   ],
   "source": [
    "mlr_exp()"
   ]
  },
  {
   "cell_type": "code",
   "execution_count": null,
   "metadata": {},
   "outputs": [],
   "source": []
  },
  {
   "cell_type": "code",
   "execution_count": 14,
   "metadata": {},
   "outputs": [],
   "source": [
    "def rf_exp():\n",
    "    i=1\n",
    "    for train_i, test_i in kf.split(X):\n",
    "        print(i)\n",
    "        X_train, X_test = X.iloc[train_i], X.iloc[test_i]\n",
    "        Y_sst_train, __ = Y_sst.iloc[train_i], Y_sst.iloc[test_i]\n",
    "        Y_firm_train, __ = Y_firm.iloc[train_i], Y_firm.iloc[test_i]\n",
    "        Y_time_train, __ = Y_time.iloc[train_i], Y_time.iloc[test_i]\n",
    "        Y_acidez_train, __ = Y_acidez.iloc[train_i], Y_acidez.iloc[test_i]\n",
    "        Y_massa_train, __ = Y_massa.iloc[train_i], Y_massa.iloc[test_i]\n",
    "        Y_ratio_train, __ = Y_ratio.iloc[train_i], Y_ratio.iloc[test_i]\n",
    "\n",
    "        print('sst')\n",
    "        rf_model = RandomForestRegressor(n_estimators=n_trees).fit(X_train, Y_sst_train)\n",
    "        Y_predicted = rf_model.predict(X_test)\n",
    "        predictions['sst_predict'].iloc[test_i] = Y_predicted\n",
    "\n",
    "        print('firmeza')\n",
    "        rf_model = RandomForestRegressor(n_estimators=n_trees).fit(X_train, Y_firm_train)\n",
    "        Y_predicted = rf_model.predict(X_test)\n",
    "        predictions['firmeza_predict'].iloc[test_i] = Y_predicted\n",
    "\n",
    "        print('time')\n",
    "        rf_model = RandomForestRegressor(n_estimators=n_trees).fit(X_train, Y_time_train)\n",
    "        Y_predicted = rf_model.predict(X_test)\n",
    "        predictions['time_predict'].iloc[test_i] = Y_predicted\n",
    "\n",
    "        print('acidez')\n",
    "        rf_model = RandomForestRegressor(n_estimators=n_trees).fit(X_train, Y_acidez_train)\n",
    "        Y_predicted = rf_model.predict(X_test)\n",
    "        predictions['acidez_predict'].iloc[test_i] = Y_predicted\n",
    "\n",
    "        print('massa')\n",
    "        rf_model = RandomForestRegressor(n_estimators=n_trees).fit(X_train, Y_massa_train)\n",
    "        Y_predicted = rf_model.predict(X_test)\n",
    "        predictions['massa_predict'].iloc[test_i] = Y_predicted\n",
    "\n",
    "        print('ratio')\n",
    "        rf_model = RandomForestRegressor(n_estimators=n_trees).fit(X_train, Y_ratio_train)\n",
    "        Y_predicted = rf_model.predict(X_test)\n",
    "        predictions['ratio_predict'].iloc[test_i] = Y_predicted\n",
    "\n",
    "        i=i+1    "
   ]
  },
  {
   "cell_type": "code",
   "execution_count": 15,
   "metadata": {},
   "outputs": [
    {
     "name": "stdout",
     "output_type": "stream",
     "text": [
      "1\n",
      "sst\n",
      "firmeza\n",
      "time\n",
      "acidez\n",
      "massa\n",
      "ratio\n",
      "2\n",
      "sst\n",
      "firmeza\n",
      "time\n",
      "acidez\n",
      "massa\n",
      "ratio\n",
      "3\n",
      "sst\n",
      "firmeza\n",
      "time\n",
      "acidez\n",
      "massa\n",
      "ratio\n",
      "4\n",
      "sst\n",
      "firmeza\n",
      "time\n",
      "acidez\n",
      "massa\n",
      "ratio\n",
      "5\n",
      "sst\n",
      "firmeza\n",
      "time\n",
      "acidez\n",
      "massa\n",
      "ratio\n"
     ]
    }
   ],
   "source": [
    "rf_exp()"
   ]
  },
  {
   "cell_type": "markdown",
   "metadata": {},
   "source": [
    "# execute this to run models without resampled data"
   ]
  },
  {
   "cell_type": "code",
   "execution_count": 144,
   "metadata": {},
   "outputs": [
    {
     "ename": "KeyError",
     "evalue": "\"['1885_repeated' '2036_repeated' '1899_repeated' '1761_repeated'\\n '2029_repeated' '1810_repeated' '1782_repeated' '1903_repeated'\\n '1660_repeated' '1704_repeated' '1697_repeated' '1804_repeated'\\n '1958_repeated' '1854_repeated' '2065_repeated' '2063_repeated'\\n '2089_repeated' '1671_repeated' '1859_repeated' '1839_repeated'\\n '2008_repeated' '1966_repeated' '1897_repeated' '1870_repeated'\\n '1886_repeated' '2107_repeated' '1912_repeated' '1702_repeated'\\n '1990_repeated' '2066_repeated' '1718_repeated' '2024_repeated'\\n '1703_repeated' '1986_repeated' '1852_repeated' '1746_repeated'\\n '1780_repeated' '1851_repeated' '2015_repeated' '1732_repeated'\\n '1823_repeated' '1942_repeated' '1715_repeated' '2018_repeated'\\n '1722_repeated' '1906_repeated' '1914_repeated' '1691_repeated'\\n '1919_repeated' '1816_repeated' '1964_repeated' '1967_repeated'\\n '2067_repeated' '2055_repeated' '1818_repeated' '1889_repeated'\\n '2126_repeated' '1683_repeated' '1853_repeated' '1996_repeated'\\n '1945_repeated' '1790_repeated' '1975_repeated' '1734_repeated'\\n '1666_repeated' '1737_repeated' '1905_repeated' '2070_repeated'\\n '2128_repeated' '2098_repeated' '1858_repeated' '1745_repeated'\\n '1969_repeated' '1980_repeated' '1900_repeated' '1901_repeated'\\n '1736_repeated' '1837_repeated' '2012_repeated' '1821_repeated'\\n '1921_repeated' '1751_repeated' '2072_repeated' '1909_repeated'\\n '1747_repeated' '1720_repeated' '2048_repeated' '2102_repeated'\\n '1673_repeated' '1832_repeated' '1668_repeated' '1710_repeated'\\n '2118_repeated' '1866_repeated' '1779_repeated' '1881_repeated'\\n '1744_repeated' '1937_repeated' '2112_repeated' '1988_repeated'\\n '2119_repeated' '1669_repeated' '1922_repeated' '1865_repeated'\\n '2042_repeated' '2034_repeated' '1733_repeated' '1976_repeated'\\n '1879_repeated' '2093_repeated' '1925_repeated' '1882_repeated'\\n '1773_repeated' '2077_repeated' '2052_repeated' '1792_repeated'\\n '1794_repeated' '1895_repeated' '1843_repeated' '1728_repeated'] not found in axis\"",
     "output_type": "error",
     "traceback": [
      "\u001b[0;31m---------------------------------------------------------------------------\u001b[0m",
      "\u001b[0;31mKeyError\u001b[0m                                  Traceback (most recent call last)",
      "\u001b[0;32m<ipython-input-144-8665bc268d4c>\u001b[0m in \u001b[0;36m<module>\u001b[0;34m\u001b[0m\n\u001b[0;32m----> 1\u001b[0;31m \u001b[0mreal\u001b[0m\u001b[0;34m[\u001b[0m\u001b[0;34m'sst_real'\u001b[0m\u001b[0;34m]\u001b[0m \u001b[0;34m=\u001b[0m \u001b[0mdata\u001b[0m\u001b[0;34m[\u001b[0m\u001b[0;34m'sst'\u001b[0m\u001b[0;34m]\u001b[0m\u001b[0;34m.\u001b[0m\u001b[0mdrop\u001b[0m\u001b[0;34m(\u001b[0m\u001b[0mrows_to_delete\u001b[0m\u001b[0;34m.\u001b[0m\u001b[0mindex\u001b[0m\u001b[0;34m.\u001b[0m\u001b[0mvalues\u001b[0m\u001b[0;34m)\u001b[0m\u001b[0;34m\u001b[0m\u001b[0;34m\u001b[0m\u001b[0m\n\u001b[0m\u001b[1;32m      2\u001b[0m \u001b[0mreal\u001b[0m\u001b[0;34m[\u001b[0m\u001b[0;34m'firmeza_real'\u001b[0m\u001b[0;34m]\u001b[0m \u001b[0;34m=\u001b[0m \u001b[0mdata\u001b[0m\u001b[0;34m[\u001b[0m\u001b[0;34m'firmeza'\u001b[0m\u001b[0;34m]\u001b[0m\u001b[0;34m.\u001b[0m\u001b[0mdrop\u001b[0m\u001b[0;34m(\u001b[0m\u001b[0mrows_to_delete\u001b[0m\u001b[0;34m.\u001b[0m\u001b[0mindex\u001b[0m\u001b[0;34m.\u001b[0m\u001b[0mvalues\u001b[0m\u001b[0;34m)\u001b[0m\u001b[0;34m\u001b[0m\u001b[0;34m\u001b[0m\u001b[0m\n\u001b[1;32m      3\u001b[0m \u001b[0mreal\u001b[0m\u001b[0;34m[\u001b[0m\u001b[0;34m'time_real'\u001b[0m\u001b[0;34m]\u001b[0m \u001b[0;34m=\u001b[0m \u001b[0mdata\u001b[0m\u001b[0;34m[\u001b[0m\u001b[0;34m'time'\u001b[0m\u001b[0;34m]\u001b[0m\u001b[0;34m.\u001b[0m\u001b[0mdrop\u001b[0m\u001b[0;34m(\u001b[0m\u001b[0mrows_to_delete\u001b[0m\u001b[0;34m.\u001b[0m\u001b[0mindex\u001b[0m\u001b[0;34m.\u001b[0m\u001b[0mvalues\u001b[0m\u001b[0;34m)\u001b[0m\u001b[0;34m\u001b[0m\u001b[0;34m\u001b[0m\u001b[0m\n\u001b[1;32m      4\u001b[0m \u001b[0mreal\u001b[0m\u001b[0;34m[\u001b[0m\u001b[0;34m'massa_real'\u001b[0m\u001b[0;34m]\u001b[0m \u001b[0;34m=\u001b[0m \u001b[0mdata\u001b[0m\u001b[0;34m[\u001b[0m\u001b[0;34m'massa'\u001b[0m\u001b[0;34m]\u001b[0m\u001b[0;34m.\u001b[0m\u001b[0mdrop\u001b[0m\u001b[0;34m(\u001b[0m\u001b[0mrows_to_delete\u001b[0m\u001b[0;34m.\u001b[0m\u001b[0mindex\u001b[0m\u001b[0;34m.\u001b[0m\u001b[0mvalues\u001b[0m\u001b[0;34m)\u001b[0m\u001b[0;34m\u001b[0m\u001b[0;34m\u001b[0m\u001b[0m\n\u001b[1;32m      5\u001b[0m \u001b[0mreal\u001b[0m\u001b[0;34m[\u001b[0m\u001b[0;34m'ratio_real'\u001b[0m\u001b[0;34m]\u001b[0m \u001b[0;34m=\u001b[0m \u001b[0mdata\u001b[0m\u001b[0;34m[\u001b[0m\u001b[0;34m'ratio'\u001b[0m\u001b[0;34m]\u001b[0m\u001b[0;34m.\u001b[0m\u001b[0mdrop\u001b[0m\u001b[0;34m(\u001b[0m\u001b[0mrows_to_delete\u001b[0m\u001b[0;34m.\u001b[0m\u001b[0mindex\u001b[0m\u001b[0;34m.\u001b[0m\u001b[0mvalues\u001b[0m\u001b[0;34m)\u001b[0m\u001b[0;34m\u001b[0m\u001b[0;34m\u001b[0m\u001b[0m\n",
      "\u001b[0;32m~/.local/lib/python3.6/site-packages/pandas/core/series.py\u001b[0m in \u001b[0;36mdrop\u001b[0;34m(self, labels, axis, index, columns, level, inplace, errors)\u001b[0m\n\u001b[1;32m   3414\u001b[0m         return super(Series, self).drop(labels=labels, axis=axis, index=index,\n\u001b[1;32m   3415\u001b[0m                                         \u001b[0mcolumns\u001b[0m\u001b[0;34m=\u001b[0m\u001b[0mcolumns\u001b[0m\u001b[0;34m,\u001b[0m \u001b[0mlevel\u001b[0m\u001b[0;34m=\u001b[0m\u001b[0mlevel\u001b[0m\u001b[0;34m,\u001b[0m\u001b[0;34m\u001b[0m\u001b[0;34m\u001b[0m\u001b[0m\n\u001b[0;32m-> 3416\u001b[0;31m                                         inplace=inplace, errors=errors)\n\u001b[0m\u001b[1;32m   3417\u001b[0m \u001b[0;34m\u001b[0m\u001b[0m\n\u001b[1;32m   3418\u001b[0m     \u001b[0;34m@\u001b[0m\u001b[0mSubstitution\u001b[0m\u001b[0;34m(\u001b[0m\u001b[0;34m**\u001b[0m\u001b[0m_shared_doc_kwargs\u001b[0m\u001b[0;34m)\u001b[0m\u001b[0;34m\u001b[0m\u001b[0;34m\u001b[0m\u001b[0m\n",
      "\u001b[0;32m~/.local/lib/python3.6/site-packages/pandas/core/generic.py\u001b[0m in \u001b[0;36mdrop\u001b[0;34m(self, labels, axis, index, columns, level, inplace, errors)\u001b[0m\n\u001b[1;32m   3109\u001b[0m         \u001b[0;32mfor\u001b[0m \u001b[0maxis\u001b[0m\u001b[0;34m,\u001b[0m \u001b[0mlabels\u001b[0m \u001b[0;32min\u001b[0m \u001b[0maxes\u001b[0m\u001b[0;34m.\u001b[0m\u001b[0mitems\u001b[0m\u001b[0;34m(\u001b[0m\u001b[0;34m)\u001b[0m\u001b[0;34m:\u001b[0m\u001b[0;34m\u001b[0m\u001b[0;34m\u001b[0m\u001b[0m\n\u001b[1;32m   3110\u001b[0m             \u001b[0;32mif\u001b[0m \u001b[0mlabels\u001b[0m \u001b[0;32mis\u001b[0m \u001b[0;32mnot\u001b[0m \u001b[0;32mNone\u001b[0m\u001b[0;34m:\u001b[0m\u001b[0;34m\u001b[0m\u001b[0;34m\u001b[0m\u001b[0m\n\u001b[0;32m-> 3111\u001b[0;31m                 \u001b[0mobj\u001b[0m \u001b[0;34m=\u001b[0m \u001b[0mobj\u001b[0m\u001b[0;34m.\u001b[0m\u001b[0m_drop_axis\u001b[0m\u001b[0;34m(\u001b[0m\u001b[0mlabels\u001b[0m\u001b[0;34m,\u001b[0m \u001b[0maxis\u001b[0m\u001b[0;34m,\u001b[0m \u001b[0mlevel\u001b[0m\u001b[0;34m=\u001b[0m\u001b[0mlevel\u001b[0m\u001b[0;34m,\u001b[0m \u001b[0merrors\u001b[0m\u001b[0;34m=\u001b[0m\u001b[0merrors\u001b[0m\u001b[0;34m)\u001b[0m\u001b[0;34m\u001b[0m\u001b[0;34m\u001b[0m\u001b[0m\n\u001b[0m\u001b[1;32m   3112\u001b[0m \u001b[0;34m\u001b[0m\u001b[0m\n\u001b[1;32m   3113\u001b[0m         \u001b[0;32mif\u001b[0m \u001b[0minplace\u001b[0m\u001b[0;34m:\u001b[0m\u001b[0;34m\u001b[0m\u001b[0;34m\u001b[0m\u001b[0m\n",
      "\u001b[0;32m~/.local/lib/python3.6/site-packages/pandas/core/generic.py\u001b[0m in \u001b[0;36m_drop_axis\u001b[0;34m(self, labels, axis, level, errors)\u001b[0m\n\u001b[1;32m   3141\u001b[0m                 \u001b[0mnew_axis\u001b[0m \u001b[0;34m=\u001b[0m \u001b[0maxis\u001b[0m\u001b[0;34m.\u001b[0m\u001b[0mdrop\u001b[0m\u001b[0;34m(\u001b[0m\u001b[0mlabels\u001b[0m\u001b[0;34m,\u001b[0m \u001b[0mlevel\u001b[0m\u001b[0;34m=\u001b[0m\u001b[0mlevel\u001b[0m\u001b[0;34m,\u001b[0m \u001b[0merrors\u001b[0m\u001b[0;34m=\u001b[0m\u001b[0merrors\u001b[0m\u001b[0;34m)\u001b[0m\u001b[0;34m\u001b[0m\u001b[0;34m\u001b[0m\u001b[0m\n\u001b[1;32m   3142\u001b[0m             \u001b[0;32melse\u001b[0m\u001b[0;34m:\u001b[0m\u001b[0;34m\u001b[0m\u001b[0;34m\u001b[0m\u001b[0m\n\u001b[0;32m-> 3143\u001b[0;31m                 \u001b[0mnew_axis\u001b[0m \u001b[0;34m=\u001b[0m \u001b[0maxis\u001b[0m\u001b[0;34m.\u001b[0m\u001b[0mdrop\u001b[0m\u001b[0;34m(\u001b[0m\u001b[0mlabels\u001b[0m\u001b[0;34m,\u001b[0m \u001b[0merrors\u001b[0m\u001b[0;34m=\u001b[0m\u001b[0merrors\u001b[0m\u001b[0;34m)\u001b[0m\u001b[0;34m\u001b[0m\u001b[0;34m\u001b[0m\u001b[0m\n\u001b[0m\u001b[1;32m   3144\u001b[0m             \u001b[0mresult\u001b[0m \u001b[0;34m=\u001b[0m \u001b[0mself\u001b[0m\u001b[0;34m.\u001b[0m\u001b[0mreindex\u001b[0m\u001b[0;34m(\u001b[0m\u001b[0;34m**\u001b[0m\u001b[0;34m{\u001b[0m\u001b[0maxis_name\u001b[0m\u001b[0;34m:\u001b[0m \u001b[0mnew_axis\u001b[0m\u001b[0;34m}\u001b[0m\u001b[0;34m)\u001b[0m\u001b[0;34m\u001b[0m\u001b[0;34m\u001b[0m\u001b[0m\n\u001b[1;32m   3145\u001b[0m \u001b[0;34m\u001b[0m\u001b[0m\n",
      "\u001b[0;32m~/.local/lib/python3.6/site-packages/pandas/core/indexes/base.py\u001b[0m in \u001b[0;36mdrop\u001b[0;34m(self, labels, errors)\u001b[0m\n\u001b[1;32m   4402\u001b[0m             \u001b[0;32mif\u001b[0m \u001b[0merrors\u001b[0m \u001b[0;34m!=\u001b[0m \u001b[0;34m'ignore'\u001b[0m\u001b[0;34m:\u001b[0m\u001b[0;34m\u001b[0m\u001b[0;34m\u001b[0m\u001b[0m\n\u001b[1;32m   4403\u001b[0m                 raise KeyError(\n\u001b[0;32m-> 4404\u001b[0;31m                     '{} not found in axis'.format(labels[mask]))\n\u001b[0m\u001b[1;32m   4405\u001b[0m             \u001b[0mindexer\u001b[0m \u001b[0;34m=\u001b[0m \u001b[0mindexer\u001b[0m\u001b[0;34m[\u001b[0m\u001b[0;34m~\u001b[0m\u001b[0mmask\u001b[0m\u001b[0;34m]\u001b[0m\u001b[0;34m\u001b[0m\u001b[0;34m\u001b[0m\u001b[0m\n\u001b[1;32m   4406\u001b[0m         \u001b[0;32mreturn\u001b[0m \u001b[0mself\u001b[0m\u001b[0;34m.\u001b[0m\u001b[0mdelete\u001b[0m\u001b[0;34m(\u001b[0m\u001b[0mindexer\u001b[0m\u001b[0;34m)\u001b[0m\u001b[0;34m\u001b[0m\u001b[0;34m\u001b[0m\u001b[0m\n",
      "\u001b[0;31mKeyError\u001b[0m: \"['1885_repeated' '2036_repeated' '1899_repeated' '1761_repeated'\\n '2029_repeated' '1810_repeated' '1782_repeated' '1903_repeated'\\n '1660_repeated' '1704_repeated' '1697_repeated' '1804_repeated'\\n '1958_repeated' '1854_repeated' '2065_repeated' '2063_repeated'\\n '2089_repeated' '1671_repeated' '1859_repeated' '1839_repeated'\\n '2008_repeated' '1966_repeated' '1897_repeated' '1870_repeated'\\n '1886_repeated' '2107_repeated' '1912_repeated' '1702_repeated'\\n '1990_repeated' '2066_repeated' '1718_repeated' '2024_repeated'\\n '1703_repeated' '1986_repeated' '1852_repeated' '1746_repeated'\\n '1780_repeated' '1851_repeated' '2015_repeated' '1732_repeated'\\n '1823_repeated' '1942_repeated' '1715_repeated' '2018_repeated'\\n '1722_repeated' '1906_repeated' '1914_repeated' '1691_repeated'\\n '1919_repeated' '1816_repeated' '1964_repeated' '1967_repeated'\\n '2067_repeated' '2055_repeated' '1818_repeated' '1889_repeated'\\n '2126_repeated' '1683_repeated' '1853_repeated' '1996_repeated'\\n '1945_repeated' '1790_repeated' '1975_repeated' '1734_repeated'\\n '1666_repeated' '1737_repeated' '1905_repeated' '2070_repeated'\\n '2128_repeated' '2098_repeated' '1858_repeated' '1745_repeated'\\n '1969_repeated' '1980_repeated' '1900_repeated' '1901_repeated'\\n '1736_repeated' '1837_repeated' '2012_repeated' '1821_repeated'\\n '1921_repeated' '1751_repeated' '2072_repeated' '1909_repeated'\\n '1747_repeated' '1720_repeated' '2048_repeated' '2102_repeated'\\n '1673_repeated' '1832_repeated' '1668_repeated' '1710_repeated'\\n '2118_repeated' '1866_repeated' '1779_repeated' '1881_repeated'\\n '1744_repeated' '1937_repeated' '2112_repeated' '1988_repeated'\\n '2119_repeated' '1669_repeated' '1922_repeated' '1865_repeated'\\n '2042_repeated' '2034_repeated' '1733_repeated' '1976_repeated'\\n '1879_repeated' '2093_repeated' '1925_repeated' '1882_repeated'\\n '1773_repeated' '2077_repeated' '2052_repeated' '1792_repeated'\\n '1794_repeated' '1895_repeated' '1843_repeated' '1728_repeated'] not found in axis\""
     ]
    }
   ],
   "source": [
    "real['sst_real'] = data['sst'].drop(rows_to_delete.index.values)\n",
    "real['firmeza_real'] = data['firmeza'].drop(rows_to_delete.index.values)\n",
    "real['time_real'] = data['time'].drop(rows_to_delete.index.values)\n",
    "real['massa_real'] = data['massa'].drop(rows_to_delete.index.values)\n",
    "real['ratio_real'] = data['ratio'].drop(rows_to_delete.index.values)\n",
    "real['acidez_real'] = data['acidez'].drop(rows_to_delete.index.values)\n",
    "\n",
    "# real.iloc[660:] = real.iloc[-120:-60].values\n",
    "# real.to_csv('real_repeated.csv', sep=',')"
   ]
  },
  {
   "cell_type": "code",
   "execution_count": null,
   "metadata": {},
   "outputs": [],
   "source": []
  },
  {
   "cell_type": "code",
   "execution_count": 17,
   "metadata": {},
   "outputs": [],
   "source": [
    "real['sst_real'] = data['sst']\n",
    "real['firmeza_real'] = data['firmeza']\n",
    "real['time_real'] = data['time']\n",
    "real['massa_real'] = data['massa']\n",
    "real['ratio_real'] = data['ratio']\n",
    "real['acidez_real'] = data['acidez']\n",
    "\n",
    "# real.iloc[660:] = real.iloc[-120:-60].values\n",
    "# real.to_csv('real_repeated.csv', sep=',')"
   ]
  },
  {
   "cell_type": "code",
   "execution_count": null,
   "metadata": {},
   "outputs": [],
   "source": []
  },
  {
   "cell_type": "code",
   "execution_count": 20,
   "metadata": {},
   "outputs": [],
   "source": [
    "predictions['sst_real'] = real['sst_real']\n",
    "predictions['firmeza_real'] = real['firmeza_real']\n",
    "predictions['time_real'] = real['time_real']\n",
    "predictions['acidez_real'] = real['acidez_real']\n",
    "predictions['massa_real'] = real['massa_real']\n",
    "predictions['ratio_real'] = real['ratio_real']\n",
    "\n",
    "predictions.to_csv('../predictions/dados_predict_reais_all.csv', sep=';')"
   ]
  },
  {
   "cell_type": "code",
   "execution_count": 135,
   "metadata": {},
   "outputs": [],
   "source": [
    "def calc_tabela(data, att, range_max, range_min, intervals, consider_end):\n",
    "    indexes = []\n",
    "    bins = math.floor((range_max-range_min)/intervals)\n",
    "    tabela = pd.DataFrame(data=0,index=np.arange(bins),columns=data.columns)\n",
    "    \n",
    "    for bin_num in range(bins):\n",
    "        min_v = range_min if bin_num == 0 else range_min + intervals*bin_num + 1\n",
    "        if bin_num!=(bins-1):\n",
    "            max_v = min_v + intervals if bin_num == 0 else min_v + intervals - 1\n",
    "        else:\n",
    "            max_v = range_max\n",
    "        indexes.append(str(min_v)+'-'+str(max_v))\n",
    "        tabela.iloc[bin_num] = data[(min_v<=data[att]) & (data[att]<=max_v)].mean()\n",
    "    \n",
    "    tabela.index = indexes\n",
    "    return tabela"
   ]
  },
  {
   "cell_type": "code",
   "execution_count": 146,
   "metadata": {},
   "outputs": [],
   "source": [
    "predictions = pd.read_csv('../predictions/dados_predict_reais(all-novo_repetição).csv', index_col=0, sep=';')"
   ]
  },
  {
   "cell_type": "code",
   "execution_count": 147,
   "metadata": {},
   "outputs": [],
   "source": [
    "range_max = 170\n",
    "range_min = 20\n",
    "intervals = 15\n",
    "\n",
    "tabela_real = calc_tabela(real, 'time_real', range_max, range_min, intervals, False)\n",
    "tabela_pred = calc_tabela(predictions, 'time_predict', range_max, range_min, intervals, False)"
   ]
  },
  {
   "cell_type": "code",
   "execution_count": 148,
   "metadata": {},
   "outputs": [
    {
     "data": {
      "text/html": [
       "<div>\n",
       "<style scoped>\n",
       "    .dataframe tbody tr th:only-of-type {\n",
       "        vertical-align: middle;\n",
       "    }\n",
       "\n",
       "    .dataframe tbody tr th {\n",
       "        vertical-align: top;\n",
       "    }\n",
       "\n",
       "    .dataframe thead th {\n",
       "        text-align: right;\n",
       "    }\n",
       "</style>\n",
       "<table border=\"1\" class=\"dataframe\">\n",
       "  <thead>\n",
       "    <tr style=\"text-align: right;\">\n",
       "      <th></th>\n",
       "      <th>sst_predict</th>\n",
       "      <th>firmeza_predict</th>\n",
       "      <th>time_predict</th>\n",
       "      <th>massa_predict</th>\n",
       "      <th>ratio_predict</th>\n",
       "      <th>acidez_predict</th>\n",
       "    </tr>\n",
       "  </thead>\n",
       "  <tbody>\n",
       "    <tr>\n",
       "      <th>20-35</th>\n",
       "      <td>4.829745</td>\n",
       "      <td>93.665078</td>\n",
       "      <td>35.000000</td>\n",
       "      <td>62.789269</td>\n",
       "      <td>3.786356</td>\n",
       "      <td>1.620933</td>\n",
       "    </tr>\n",
       "    <tr>\n",
       "      <th>36-50</th>\n",
       "      <td>5.085197</td>\n",
       "      <td>114.444648</td>\n",
       "      <td>48.978689</td>\n",
       "      <td>174.760120</td>\n",
       "      <td>3.356270</td>\n",
       "      <td>1.796767</td>\n",
       "    </tr>\n",
       "    <tr>\n",
       "      <th>51-65</th>\n",
       "      <td>5.274651</td>\n",
       "      <td>123.906244</td>\n",
       "      <td>64.344186</td>\n",
       "      <td>294.305691</td>\n",
       "      <td>3.559763</td>\n",
       "      <td>1.521507</td>\n",
       "    </tr>\n",
       "    <tr>\n",
       "      <th>66-80</th>\n",
       "      <td>5.465300</td>\n",
       "      <td>125.690775</td>\n",
       "      <td>74.900000</td>\n",
       "      <td>357.470445</td>\n",
       "      <td>3.869573</td>\n",
       "      <td>1.466919</td>\n",
       "    </tr>\n",
       "    <tr>\n",
       "      <th>81-95</th>\n",
       "      <td>5.658827</td>\n",
       "      <td>133.727712</td>\n",
       "      <td>88.617308</td>\n",
       "      <td>466.071998</td>\n",
       "      <td>6.397387</td>\n",
       "      <td>1.396421</td>\n",
       "    </tr>\n",
       "    <tr>\n",
       "      <th>96-110</th>\n",
       "      <td>5.650183</td>\n",
       "      <td>142.214401</td>\n",
       "      <td>103.123239</td>\n",
       "      <td>514.281137</td>\n",
       "      <td>5.370420</td>\n",
       "      <td>1.124181</td>\n",
       "    </tr>\n",
       "    <tr>\n",
       "      <th>111-125</th>\n",
       "      <td>6.040062</td>\n",
       "      <td>137.969313</td>\n",
       "      <td>117.750000</td>\n",
       "      <td>550.008842</td>\n",
       "      <td>13.776546</td>\n",
       "      <td>0.951189</td>\n",
       "    </tr>\n",
       "    <tr>\n",
       "      <th>126-140</th>\n",
       "      <td>6.169157</td>\n",
       "      <td>140.630164</td>\n",
       "      <td>133.714286</td>\n",
       "      <td>535.795735</td>\n",
       "      <td>9.239433</td>\n",
       "      <td>0.810614</td>\n",
       "    </tr>\n",
       "    <tr>\n",
       "      <th>141-155</th>\n",
       "      <td>6.410046</td>\n",
       "      <td>137.821838</td>\n",
       "      <td>148.447685</td>\n",
       "      <td>579.691010</td>\n",
       "      <td>11.542422</td>\n",
       "      <td>0.685654</td>\n",
       "    </tr>\n",
       "    <tr>\n",
       "      <th>156-170</th>\n",
       "      <td>7.231733</td>\n",
       "      <td>119.231133</td>\n",
       "      <td>160.254444</td>\n",
       "      <td>581.637208</td>\n",
       "      <td>22.597702</td>\n",
       "      <td>0.627323</td>\n",
       "    </tr>\n",
       "  </tbody>\n",
       "</table>\n",
       "</div>"
      ],
      "text/plain": [
       "         sst_predict  firmeza_predict  time_predict  massa_predict  \\\n",
       "20-35       4.829745        93.665078     35.000000      62.789269   \n",
       "36-50       5.085197       114.444648     48.978689     174.760120   \n",
       "51-65       5.274651       123.906244     64.344186     294.305691   \n",
       "66-80       5.465300       125.690775     74.900000     357.470445   \n",
       "81-95       5.658827       133.727712     88.617308     466.071998   \n",
       "96-110      5.650183       142.214401    103.123239     514.281137   \n",
       "111-125     6.040062       137.969313    117.750000     550.008842   \n",
       "126-140     6.169157       140.630164    133.714286     535.795735   \n",
       "141-155     6.410046       137.821838    148.447685     579.691010   \n",
       "156-170     7.231733       119.231133    160.254444     581.637208   \n",
       "\n",
       "         ratio_predict  acidez_predict  \n",
       "20-35         3.786356        1.620933  \n",
       "36-50         3.356270        1.796767  \n",
       "51-65         3.559763        1.521507  \n",
       "66-80         3.869573        1.466919  \n",
       "81-95         6.397387        1.396421  \n",
       "96-110        5.370420        1.124181  \n",
       "111-125      13.776546        0.951189  \n",
       "126-140       9.239433        0.810614  \n",
       "141-155      11.542422        0.685654  \n",
       "156-170      22.597702        0.627323  "
      ]
     },
     "execution_count": 148,
     "metadata": {},
     "output_type": "execute_result"
    }
   ],
   "source": [
    "tabela_pred[tabela_pred.columns[:6]]"
   ]
  },
  {
   "cell_type": "code",
   "execution_count": 149,
   "metadata": {},
   "outputs": [
    {
     "data": {
      "text/html": [
       "<div>\n",
       "<style scoped>\n",
       "    .dataframe tbody tr th:only-of-type {\n",
       "        vertical-align: middle;\n",
       "    }\n",
       "\n",
       "    .dataframe tbody tr th {\n",
       "        vertical-align: top;\n",
       "    }\n",
       "\n",
       "    .dataframe thead th {\n",
       "        text-align: right;\n",
       "    }\n",
       "</style>\n",
       "<table border=\"1\" class=\"dataframe\">\n",
       "  <thead>\n",
       "    <tr style=\"text-align: right;\">\n",
       "      <th></th>\n",
       "      <th>sst_real</th>\n",
       "      <th>firmeza_real</th>\n",
       "      <th>time_real</th>\n",
       "      <th>massa_real</th>\n",
       "      <th>ratio_real</th>\n",
       "      <th>acidez_real</th>\n",
       "    </tr>\n",
       "  </thead>\n",
       "  <tbody>\n",
       "    <tr>\n",
       "      <th>20-35</th>\n",
       "      <td>4.756667</td>\n",
       "      <td>93.146667</td>\n",
       "      <td>35.0</td>\n",
       "      <td>63.092500</td>\n",
       "      <td>3.247261</td>\n",
       "      <td>1.586642</td>\n",
       "    </tr>\n",
       "    <tr>\n",
       "      <th>36-50</th>\n",
       "      <td>5.081667</td>\n",
       "      <td>116.263333</td>\n",
       "      <td>50.0</td>\n",
       "      <td>187.278667</td>\n",
       "      <td>2.751712</td>\n",
       "      <td>1.856444</td>\n",
       "    </tr>\n",
       "    <tr>\n",
       "      <th>51-65</th>\n",
       "      <td>5.246667</td>\n",
       "      <td>123.836667</td>\n",
       "      <td>65.0</td>\n",
       "      <td>299.530333</td>\n",
       "      <td>3.604593</td>\n",
       "      <td>1.471272</td>\n",
       "    </tr>\n",
       "    <tr>\n",
       "      <th>66-80</th>\n",
       "      <td>5.795000</td>\n",
       "      <td>126.481667</td>\n",
       "      <td>80.0</td>\n",
       "      <td>438.429500</td>\n",
       "      <td>3.816705</td>\n",
       "      <td>1.533101</td>\n",
       "    </tr>\n",
       "    <tr>\n",
       "      <th>81-95</th>\n",
       "      <td>5.440000</td>\n",
       "      <td>145.780000</td>\n",
       "      <td>95.0</td>\n",
       "      <td>503.413667</td>\n",
       "      <td>4.636882</td>\n",
       "      <td>1.348623</td>\n",
       "    </tr>\n",
       "    <tr>\n",
       "      <th>96-110</th>\n",
       "      <td>5.770000</td>\n",
       "      <td>145.146667</td>\n",
       "      <td>110.0</td>\n",
       "      <td>520.198333</td>\n",
       "      <td>6.164416</td>\n",
       "      <td>0.960256</td>\n",
       "    </tr>\n",
       "    <tr>\n",
       "      <th>111-125</th>\n",
       "      <td>5.848333</td>\n",
       "      <td>148.991667</td>\n",
       "      <td>125.0</td>\n",
       "      <td>536.566833</td>\n",
       "      <td>7.082080</td>\n",
       "      <td>0.853902</td>\n",
       "    </tr>\n",
       "    <tr>\n",
       "      <th>126-140</th>\n",
       "      <td>5.973333</td>\n",
       "      <td>138.843333</td>\n",
       "      <td>140.0</td>\n",
       "      <td>573.752667</td>\n",
       "      <td>9.430505</td>\n",
       "      <td>0.662402</td>\n",
       "    </tr>\n",
       "    <tr>\n",
       "      <th>141-155</th>\n",
       "      <td>6.480000</td>\n",
       "      <td>140.870833</td>\n",
       "      <td>155.0</td>\n",
       "      <td>591.563667</td>\n",
       "      <td>10.655754</td>\n",
       "      <td>0.648803</td>\n",
       "    </tr>\n",
       "    <tr>\n",
       "      <th>156-170</th>\n",
       "      <td>6.810000</td>\n",
       "      <td>128.510833</td>\n",
       "      <td>170.0</td>\n",
       "      <td>586.664767</td>\n",
       "      <td>10.459548</td>\n",
       "      <td>0.673845</td>\n",
       "    </tr>\n",
       "  </tbody>\n",
       "</table>\n",
       "</div>"
      ],
      "text/plain": [
       "         sst_real  firmeza_real  time_real  massa_real  ratio_real  \\\n",
       "20-35    4.756667     93.146667       35.0   63.092500    3.247261   \n",
       "36-50    5.081667    116.263333       50.0  187.278667    2.751712   \n",
       "51-65    5.246667    123.836667       65.0  299.530333    3.604593   \n",
       "66-80    5.795000    126.481667       80.0  438.429500    3.816705   \n",
       "81-95    5.440000    145.780000       95.0  503.413667    4.636882   \n",
       "96-110   5.770000    145.146667      110.0  520.198333    6.164416   \n",
       "111-125  5.848333    148.991667      125.0  536.566833    7.082080   \n",
       "126-140  5.973333    138.843333      140.0  573.752667    9.430505   \n",
       "141-155  6.480000    140.870833      155.0  591.563667   10.655754   \n",
       "156-170  6.810000    128.510833      170.0  586.664767   10.459548   \n",
       "\n",
       "         acidez_real  \n",
       "20-35       1.586642  \n",
       "36-50       1.856444  \n",
       "51-65       1.471272  \n",
       "66-80       1.533101  \n",
       "81-95       1.348623  \n",
       "96-110      0.960256  \n",
       "111-125     0.853902  \n",
       "126-140     0.662402  \n",
       "141-155     0.648803  \n",
       "156-170     0.673845  "
      ]
     },
     "execution_count": 149,
     "metadata": {},
     "output_type": "execute_result"
    }
   ],
   "source": [
    "tabela_real"
   ]
  },
  {
   "cell_type": "code",
   "execution_count": 272,
   "metadata": {},
   "outputs": [],
   "source": [
    "range_max = 190\n",
    "range_min = 171\n",
    "intervals = 9\n",
    "\n",
    "tabela_real = calc_tabela(real, 'time_real', range_max, range_min, intervals, True)\n",
    "tabela_pred = calc_tabela(predictions, 'time_predict', range_max, range_min, intervals, True)"
   ]
  },
  {
   "cell_type": "code",
   "execution_count": 273,
   "metadata": {},
   "outputs": [
    {
     "data": {
      "text/html": [
       "<div>\n",
       "<style scoped>\n",
       "    .dataframe tbody tr th:only-of-type {\n",
       "        vertical-align: middle;\n",
       "    }\n",
       "\n",
       "    .dataframe tbody tr th {\n",
       "        vertical-align: top;\n",
       "    }\n",
       "\n",
       "    .dataframe thead th {\n",
       "        text-align: right;\n",
       "    }\n",
       "</style>\n",
       "<table border=\"1\" class=\"dataframe\">\n",
       "  <thead>\n",
       "    <tr style=\"text-align: right;\">\n",
       "      <th></th>\n",
       "      <th>sst_predict</th>\n",
       "      <th>firmeza_predict</th>\n",
       "      <th>time_predict</th>\n",
       "      <th>massa_predict</th>\n",
       "      <th>ratio_predict</th>\n",
       "      <th>acidez_predict</th>\n",
       "    </tr>\n",
       "  </thead>\n",
       "  <tbody>\n",
       "    <tr>\n",
       "      <th>171-180</th>\n",
       "      <td>12.002298</td>\n",
       "      <td>39.908426</td>\n",
       "      <td>179.290426</td>\n",
       "      <td>463.112761</td>\n",
       "      <td>40.824573</td>\n",
       "      <td>0.505256</td>\n",
       "    </tr>\n",
       "    <tr>\n",
       "      <th>181-190</th>\n",
       "      <td>14.958847</td>\n",
       "      <td>7.216390</td>\n",
       "      <td>188.499568</td>\n",
       "      <td>425.672305</td>\n",
       "      <td>214.701453</td>\n",
       "      <td>0.087329</td>\n",
       "    </tr>\n",
       "  </tbody>\n",
       "</table>\n",
       "</div>"
      ],
      "text/plain": [
       "         sst_predict  firmeza_predict  time_predict  massa_predict  \\\n",
       "171-180    12.002298        39.908426    179.290426     463.112761   \n",
       "181-190    14.958847         7.216390    188.499568     425.672305   \n",
       "\n",
       "         ratio_predict  acidez_predict  \n",
       "171-180      40.824573        0.505256  \n",
       "181-190     214.701453        0.087329  "
      ]
     },
     "execution_count": 273,
     "metadata": {},
     "output_type": "execute_result"
    }
   ],
   "source": [
    "tabela_pred[tabela_pred.columns[:6]]"
   ]
  },
  {
   "cell_type": "code",
   "execution_count": 162,
   "metadata": {},
   "outputs": [],
   "source": [
    "predictions['time_predict'].to_csv('means_size.csv')"
   ]
  },
  {
   "cell_type": "code",
   "execution_count": null,
   "metadata": {},
   "outputs": [],
   "source": []
  }
 ],
 "metadata": {
  "kernelspec": {
   "display_name": "Python 3",
   "language": "python",
   "name": "python3"
  },
  "language_info": {
   "codemirror_mode": {
    "name": "ipython",
    "version": 3
   },
   "file_extension": ".py",
   "mimetype": "text/x-python",
   "name": "python",
   "nbconvert_exporter": "python",
   "pygments_lexer": "ipython3",
   "version": "3.6.7"
  }
 },
 "nbformat": 4,
 "nbformat_minor": 2
}
