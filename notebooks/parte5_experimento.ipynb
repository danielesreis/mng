{
 "cells": [
  {
   "cell_type": "code",
   "execution_count": null,
   "metadata": {},
   "outputs": [],
   "source": [
    "# rodar o melhor modelo do tempo para predição de SST e firmeza e montar tabela"
   ]
  },
  {
   "cell_type": "code",
   "execution_count": 3,
   "metadata": {},
   "outputs": [
    {
     "name": "stdout",
     "output_type": "stream",
     "text": [
      "The autoreload extension is already loaded. To reload it, use:\n",
      "  %reload_ext autoreload\n"
     ]
    }
   ],
   "source": [
    "import cv2\n",
    "import sys\n",
    "import numpy as np\n",
    "import pandas as pd\n",
    "import matplotlib.pyplot as plt\n",
    "import seaborn as sns\n",
    "import os \n",
    "import math\n",
    "\n",
    "from sklearn.ensemble import RandomForestRegressor\n",
    "from sklearn.metrics import r2_score, mean_squared_error\n",
    "from sklearn.model_selection import KFold\n",
    "\n",
    "%load_ext autoreload\n",
    "\n",
    "sys.path.append(os.getcwd()+'\\\\..\\\\scripts\\\\')\n",
    "path = os.getcwd() + '\\\\..\\\\'\n",
    "\n",
    "from MNG import MNG\n",
    "from MNGFeatures import MNGFeatures\n",
    "from MNGFeaturesMeans import MNGFeaturesMeans\n",
    "from MNGFeaturesSize import MNGFeaturesSize\n",
    "from MNGModel import MNGModel"
   ]
  },
  {
   "cell_type": "code",
   "execution_count": 83,
   "metadata": {},
   "outputs": [],
   "source": [
    "data = pd.read_csv(path+'features\\\\means_size_all_half.csv', sep=';', index_col=0)\n",
    "palmer_sst = pd.read_csv(path+'palmer_sst.csv', sep=';')\n",
    "palmer_firm = pd.read_csv(path+'palmer_firmeza.csv', sep=';')\n",
    "\n",
    "n_trees = 200\n",
    "kf = KFold(n_splits=5, shuffle=True)\n",
    "data['sst'] = palmer_sst.values\n",
    "data['firmeza'] = palmer_firm.values\n",
    "\n",
    "X = data.drop(columns=['time', 'sst', 'firmeza'])\n",
    "Y_sst = data['sst']\n",
    "Y_firm = data['firmeza']\n",
    "Y_time = data['time']\n",
    "\n",
    "predictions = pd.DataFrame(index=data.index.values, columns=['sst_predict', 'firmeza_predict', 'time_predict'])\n",
    "real = pd.DataFrame(index=data.index.values, columns=['sst_real', 'firmeza_real', 'time_real'])"
   ]
  },
  {
   "cell_type": "code",
   "execution_count": 84,
   "metadata": {},
   "outputs": [],
   "source": [
    "for train_i, test_i in kf.split(X):\n",
    "    X_train, X_test = X.iloc[train_i], X.iloc[test_i]\n",
    "    Y_sst_train, __ = Y_sst.iloc[train_i], Y_sst.iloc[test_i]\n",
    "    Y_firm_train, __ = Y_firm.iloc[train_i], Y_firm.iloc[test_i]\n",
    "    Y_time_train, __ = Y_time.iloc[train_i], Y_time.iloc[test_i]\n",
    "    \n",
    "    rf_model = RandomForestRegressor(n_estimators=n_trees).fit(X_train, Y_sst_train)\n",
    "    Y_predicted = rf_model.predict(X_test)\n",
    "    predictions['sst_predict'].iloc[test_i] = Y_predicted\n",
    "    \n",
    "    rf_model = RandomForestRegressor(n_estimators=n_trees).fit(X_train, Y_firm_train)\n",
    "    Y_predicted = rf_model.predict(X_test)\n",
    "    predictions['firmeza_predict'].iloc[test_i] = Y_predicted\n",
    "    \n",
    "    rf_model = RandomForestRegressor(n_estimators=n_trees).fit(X_train, Y_time_train)\n",
    "    Y_predicted = rf_model.predict(X_test)\n",
    "    predictions['time_predict'].iloc[test_i] = Y_predicted"
   ]
  },
  {
   "cell_type": "code",
   "execution_count": 85,
   "metadata": {},
   "outputs": [],
   "source": [
    "real['sst_real'] = palmer_sst.values\n",
    "real['firmeza_real'] = palmer_firm.values\n",
    "real['time_real'] = data['time']\n",
    "\n",
    "predictions.to_csv('dados_reais.csv', sep=';')"
   ]
  },
  {
   "cell_type": "code",
   "execution_count": 112,
   "metadata": {},
   "outputs": [],
   "source": [
    "def calc_tabela(data, att, range_max, range_min, intervals):\n",
    "    indexes = []\n",
    "    bins = math.floor((range_max-range_min)/intervals)\n",
    "    \n",
    "    tabela = pd.DataFrame(data=0,index=np.arange(bins),columns=data.columns)\n",
    "    \n",
    "    for bin_num in range(bins):\n",
    "        min_v = range_min if bin_num == 0 else min_v + intervals + 1\n",
    "        max_v = min_v + intervals\n",
    "        \n",
    "        indexes.append(str(min_v)+'-'+str(max_v))\n",
    "        tabela.iloc[bin_num] = data[(min_v<=data[att]) & (data[att]<=max_v)].mean()\n",
    "    \n",
    "    tabela.index = indexes\n",
    "    return tabela"
   ]
  },
  {
   "cell_type": "code",
   "execution_count": 115,
   "metadata": {},
   "outputs": [],
   "source": [
    "range_max = 190\n",
    "range_min = 35\n",
    "intervals = 15\n",
    "\n",
    "tabela_p = calc_tabela(real, 'time_real', range_max, range_min, intervals)"
   ]
  },
  {
   "cell_type": "code",
   "execution_count": 116,
   "metadata": {},
   "outputs": [
    {
     "data": {
      "text/html": [
       "<div>\n",
       "<style scoped>\n",
       "    .dataframe tbody tr th:only-of-type {\n",
       "        vertical-align: middle;\n",
       "    }\n",
       "\n",
       "    .dataframe tbody tr th {\n",
       "        vertical-align: top;\n",
       "    }\n",
       "\n",
       "    .dataframe thead th {\n",
       "        text-align: right;\n",
       "    }\n",
       "</style>\n",
       "<table border=\"1\" class=\"dataframe\">\n",
       "  <thead>\n",
       "    <tr style=\"text-align: right;\">\n",
       "      <th></th>\n",
       "      <th>sst_real</th>\n",
       "      <th>firmeza_real</th>\n",
       "      <th>time_real</th>\n",
       "    </tr>\n",
       "  </thead>\n",
       "  <tbody>\n",
       "    <tr>\n",
       "      <th>35-50</th>\n",
       "      <td>4.919167</td>\n",
       "      <td>104.705000</td>\n",
       "      <td>42.5</td>\n",
       "    </tr>\n",
       "    <tr>\n",
       "      <th>51-66</th>\n",
       "      <td>5.246667</td>\n",
       "      <td>123.836667</td>\n",
       "      <td>65.0</td>\n",
       "    </tr>\n",
       "    <tr>\n",
       "      <th>67-82</th>\n",
       "      <td>5.795000</td>\n",
       "      <td>126.481667</td>\n",
       "      <td>80.0</td>\n",
       "    </tr>\n",
       "    <tr>\n",
       "      <th>83-98</th>\n",
       "      <td>5.440000</td>\n",
       "      <td>145.780000</td>\n",
       "      <td>95.0</td>\n",
       "    </tr>\n",
       "    <tr>\n",
       "      <th>99-114</th>\n",
       "      <td>5.770000</td>\n",
       "      <td>145.146667</td>\n",
       "      <td>110.0</td>\n",
       "    </tr>\n",
       "    <tr>\n",
       "      <th>115-130</th>\n",
       "      <td>5.848333</td>\n",
       "      <td>148.991667</td>\n",
       "      <td>125.0</td>\n",
       "    </tr>\n",
       "    <tr>\n",
       "      <th>131-146</th>\n",
       "      <td>5.973333</td>\n",
       "      <td>138.843333</td>\n",
       "      <td>140.0</td>\n",
       "    </tr>\n",
       "    <tr>\n",
       "      <th>147-162</th>\n",
       "      <td>6.480000</td>\n",
       "      <td>140.870833</td>\n",
       "      <td>155.0</td>\n",
       "    </tr>\n",
       "    <tr>\n",
       "      <th>163-178</th>\n",
       "      <td>6.810000</td>\n",
       "      <td>128.510833</td>\n",
       "      <td>170.0</td>\n",
       "    </tr>\n",
       "    <tr>\n",
       "      <th>179-194</th>\n",
       "      <td>13.875000</td>\n",
       "      <td>10.522500</td>\n",
       "      <td>185.0</td>\n",
       "    </tr>\n",
       "  </tbody>\n",
       "</table>\n",
       "</div>"
      ],
      "text/plain": [
       "          sst_real  firmeza_real  time_real\n",
       "35-50     4.919167    104.705000       42.5\n",
       "51-66     5.246667    123.836667       65.0\n",
       "67-82     5.795000    126.481667       80.0\n",
       "83-98     5.440000    145.780000       95.0\n",
       "99-114    5.770000    145.146667      110.0\n",
       "115-130   5.848333    148.991667      125.0\n",
       "131-146   5.973333    138.843333      140.0\n",
       "147-162   6.480000    140.870833      155.0\n",
       "163-178   6.810000    128.510833      170.0\n",
       "179-194  13.875000     10.522500      185.0"
      ]
     },
     "execution_count": 116,
     "metadata": {},
     "output_type": "execute_result"
    }
   ],
   "source": [
    "tabela_p"
   ]
  },
  {
   "cell_type": "code",
   "execution_count": null,
   "metadata": {},
   "outputs": [],
   "source": []
  }
 ],
 "metadata": {
  "kernelspec": {
   "display_name": "Python 3",
   "language": "python",
   "name": "python3"
  },
  "language_info": {
   "codemirror_mode": {
    "name": "ipython",
    "version": 3
   },
   "file_extension": ".py",
   "mimetype": "text/x-python",
   "name": "python",
   "nbconvert_exporter": "python",
   "pygments_lexer": "ipython3",
   "version": "3.7.0"
  }
 },
 "nbformat": 4,
 "nbformat_minor": 2
}
