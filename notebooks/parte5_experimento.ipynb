{
 "cells": [
  {
   "cell_type": "code",
   "execution_count": null,
   "metadata": {},
   "outputs": [],
   "source": [
    "# duplicar as últimas amostras\n",
    "# rodar o melhor modelo do tempo para predição de SST e firmeza e montar tabela"
   ]
  },
  {
   "cell_type": "code",
   "execution_count": 1,
   "metadata": {},
   "outputs": [],
   "source": [
    "import cv2\n",
    "import sys\n",
    "import numpy as np\n",
    "import pandas as pd\n",
    "import matplotlib.pyplot as plt\n",
    "import seaborn as sns\n",
    "import os \n",
    "import math\n",
    "\n",
    "from sklearn.ensemble import RandomForestRegressor\n",
    "from sklearn.metrics import r2_score, mean_squared_error\n",
    "from sklearn.model_selection import KFold\n",
    "\n",
    "%load_ext autoreload\n",
    "\n",
    "sys.path.append(os.getcwd()+'//..//scripts//')\n",
    "path = os.getcwd() + '//..//'\n",
    "\n",
    "from MNG import MNG\n",
    "from MNGFeatures import MNGFeatures\n",
    "from MNGFeaturesMeans import MNGFeaturesMeans\n",
    "from MNGFeaturesSize import MNGFeaturesSize\n",
    "from MNGModel import MNGModel"
   ]
  },
  {
   "cell_type": "code",
   "execution_count": 15,
   "metadata": {},
   "outputs": [],
   "source": [
    "data_path = os.getcwd()+'/../resampling/all_data_repeated.csv'\n",
    "old_data = pd.read_csv(data_path, sep=',', index_col=0)\n",
    "\n",
    "second_half_df = old_data.iloc[600:]\n",
    "to_be_deleted = [616,538,436,590,401,583,239,263,285,317,670,634,467,249,287,210,492,119,607,442,706,\n",
    "343,183,201,394,665,559,345,217,214,455,699,269,39,92,689,279,504,1,272,97,28,277,48,462,137,313,686,575,291,\n",
    "496,673,487,311,589,315,50,171,105,247,181,190,426,178,546,235,540,551,157,26,281,156,206,658,399,257,698,402,\n",
    "290,350,20,533,330,479,111,128,332,107,264,124,574,195,294,639,672,208,186,597,227,611,457,267,324,163,295,653,\n",
    "702,682,130,408,640,268,96,8,386,705,471,429,405,387]\n",
    "rows_to_delete = second_half_df.iloc[to_be_deleted]\n",
    "\n",
    "data = old_data.drop(rows_to_delete.index.values)\n",
    "data = data.drop(columns=data.columns.values[:1710])"
   ]
  },
  {
   "cell_type": "code",
   "execution_count": 16,
   "metadata": {},
   "outputs": [],
   "source": [
    "n_trees = 500\n",
    "kf = KFold(n_splits=5, shuffle=True)"
   ]
  },
  {
   "cell_type": "code",
   "execution_count": null,
   "metadata": {},
   "outputs": [],
   "source": [
    "# data = pd.read_csv(path+'features//size_all_half.csv', sep=';', index_col=0)\n",
    "# palmer_sst = pd.read_csv(path+'//reference_values//primeiros_dados_palmer_sst.csv', sep=';', index_col=0)\n",
    "# palmer_firm = pd.read_csv(path+'//reference_values//primeiros_dados_palmer_firmeza.csv', sep=';', index_col=0)\n",
    "\n",
    "# data['sst'] = palmer_sst.values\n",
    "# data['firmeza'] = palmer_firm.values"
   ]
  },
  {
   "cell_type": "code",
   "execution_count": 17,
   "metadata": {},
   "outputs": [],
   "source": [
    "X = data.drop(columns=['time', 'sst', 'firmeza'])\n",
    "Y_sst = data['sst']\n",
    "Y_firm = data['firmeza']\n",
    "Y_time = data['time']\n",
    "\n",
    "predictions = pd.DataFrame(index=data.index.values, columns=['sst_predict', 'firmeza_predict', 'time_predict'])\n",
    "real = pd.DataFrame(index=data.index.values, columns=['sst_real', 'firmeza_real', 'time_real'])"
   ]
  },
  {
   "cell_type": "code",
   "execution_count": 31,
   "metadata": {},
   "outputs": [],
   "source": [
    "# # execute esta célula só se for fazer análise no arquivo com todas as variáveis\n",
    "# data = data.drop(columns=data.columns.values[179:])\n",
    "\n",
    "# # adicionando novamente as médias nas 5 regiões, porque no arquivo features_all há a substituição das médias com n = 20\n",
    "# data_to_add = pd.read_csv(path+'features\\\\rgb_hsv_lab_n_regions_all_half.csv', sep=';', index_col=0)\n",
    "# data[data_to_add.columns.values] = data_to_add[data_to_add.columns.values]"
   ]
  },
  {
   "cell_type": "code",
   "execution_count": 7,
   "metadata": {},
   "outputs": [],
   "source": [
    "# apenas para repetição das 60 amostras\n",
    "# index = np.append(data.index.values, [str(num) for num in np.arange(60)])\n",
    "\n",
    "# predictions = pd.DataFrame(index=index, columns=['sst_predict', 'firmeza_predict', 'time_predict'])\n",
    "# real = pd.DataFrame(index=index, columns=['sst_real', 'firmeza_real', 'time_real'])\n",
    "\n",
    "# new_data = pd.DataFrame(data.iloc[-60:].values, index=np.arange(1,61),columns=data.columns)\n",
    "# data = pd.concat([data,new_data])"
   ]
  },
  {
   "cell_type": "code",
   "execution_count": 18,
   "metadata": {},
   "outputs": [
    {
     "name": "stdout",
     "output_type": "stream",
     "text": [
      "1\n",
      "2\n",
      "3\n",
      "4\n",
      "5\n"
     ]
    }
   ],
   "source": [
    "i=1\n",
    "for train_i, test_i in kf.split(X):\n",
    "    print(i)\n",
    "    X_train, X_test = X.iloc[train_i], X.iloc[test_i]\n",
    "    Y_sst_train, __ = Y_sst.iloc[train_i], Y_sst.iloc[test_i]\n",
    "    Y_firm_train, __ = Y_firm.iloc[train_i], Y_firm.iloc[test_i]\n",
    "    Y_time_train, __ = Y_time.iloc[train_i], Y_time.iloc[test_i]\n",
    "    \n",
    "    rf_model = RandomForestRegressor(n_estimators=n_trees).fit(X_train, Y_sst_train)\n",
    "    Y_predicted = rf_model.predict(X_test)\n",
    "    predictions['sst_predict'].iloc[test_i] = Y_predicted\n",
    "    \n",
    "    rf_model = RandomForestRegressor(n_estimators=n_trees).fit(X_train, Y_firm_train)\n",
    "    Y_predicted = rf_model.predict(X_test)\n",
    "    predictions['firmeza_predict'].iloc[test_i] = Y_predicted\n",
    "    \n",
    "    rf_model = RandomForestRegressor(n_estimators=n_trees).fit(X_train, Y_time_train)\n",
    "    Y_predicted = rf_model.predict(X_test)\n",
    "    predictions['time_predict'].iloc[test_i] = Y_predicted\n",
    "    i=i+1"
   ]
  },
  {
   "cell_type": "code",
   "execution_count": 19,
   "metadata": {},
   "outputs": [],
   "source": [
    "real['sst_real'] = data['sst']\n",
    "real['firmeza_real'] = data['firmeza']\n",
    "real['time_real'] = data['time']\n",
    "\n",
    "# real.iloc[660:] = real.iloc[-120:-60].values\n",
    "real.to_csv('real_repeated.csv', sep=',')"
   ]
  },
  {
   "cell_type": "code",
   "execution_count": 20,
   "metadata": {},
   "outputs": [],
   "source": [
    "predictions.to_csv('dados_predict.csv', sep=';')\n",
    "predictions['sst_real'] = real['sst_real']\n",
    "predictions['firmeza_real'] = real['firmeza_real']\n",
    "predictions['time_real'] = data['time']\n",
    "\n",
    "# predictions.to_csv('dados_predict_reais.csv', sep=';')"
   ]
  },
  {
   "cell_type": "code",
   "execution_count": 21,
   "metadata": {},
   "outputs": [],
   "source": [
    "def calc_tabela(data, att, range_max, range_min, intervals, consider_end):\n",
    "    indexes = []\n",
    "    bins = math.floor((range_max-range_min)/intervals)\n",
    "    tabela = pd.DataFrame(data=0,index=np.arange(bins),columns=data.columns)\n",
    "    \n",
    "    for bin_num in range(bins):\n",
    "        min_v = range_min if bin_num == 0 else range_min + intervals*bin_num + 1\n",
    "        if bin_num!=(bins-1):\n",
    "            max_v = min_v + intervals if bin_num == 0 else min_v + intervals - 1\n",
    "        else:\n",
    "            max_v = range_max\n",
    "        indexes.append(str(min_v)+'-'+str(max_v))\n",
    "        tabela.iloc[bin_num] = data[(min_v<=data[att]) & (data[att]<=max_v)].mean()\n",
    "    \n",
    "    tabela.index = indexes\n",
    "    return tabela"
   ]
  },
  {
   "cell_type": "code",
   "execution_count": 22,
   "metadata": {},
   "outputs": [],
   "source": [
    "range_max = 170\n",
    "range_min = 20\n",
    "intervals = 15\n",
    "\n",
    "tabela_real = calc_tabela(real, 'time_real', range_max, range_min, intervals, False)\n",
    "tabela_pred = calc_tabela(predictions, 'time_predict', range_max, range_min, intervals, False)"
   ]
  },
  {
   "cell_type": "code",
   "execution_count": 28,
   "metadata": {},
   "outputs": [],
   "source": [
    "range_max = 190\n",
    "range_min = 171\n",
    "intervals = 9\n",
    "\n",
    "tabela_real = calc_tabela(real, 'time_real', range_max, range_min, intervals, True)\n",
    "tabela_pred = calc_tabela(predictions, 'time_predict', range_max, range_min, intervals, True)"
   ]
  },
  {
   "cell_type": "code",
   "execution_count": 32,
   "metadata": {},
   "outputs": [
    {
     "data": {
      "text/html": [
       "<div>\n",
       "<style scoped>\n",
       "    .dataframe tbody tr th:only-of-type {\n",
       "        vertical-align: middle;\n",
       "    }\n",
       "\n",
       "    .dataframe tbody tr th {\n",
       "        vertical-align: top;\n",
       "    }\n",
       "\n",
       "    .dataframe thead th {\n",
       "        text-align: right;\n",
       "    }\n",
       "</style>\n",
       "<table border=\"1\" class=\"dataframe\">\n",
       "  <thead>\n",
       "    <tr style=\"text-align: right;\">\n",
       "      <th></th>\n",
       "      <th>sst_real</th>\n",
       "      <th>firmeza_real</th>\n",
       "      <th>time_real</th>\n",
       "    </tr>\n",
       "  </thead>\n",
       "  <tbody>\n",
       "    <tr>\n",
       "      <th>171-180</th>\n",
       "      <td>12.824</td>\n",
       "      <td>28.732333</td>\n",
       "      <td>180.0</td>\n",
       "    </tr>\n",
       "    <tr>\n",
       "      <th>181-190</th>\n",
       "      <td>14.950</td>\n",
       "      <td>6.035500</td>\n",
       "      <td>190.0</td>\n",
       "    </tr>\n",
       "  </tbody>\n",
       "</table>\n",
       "</div>"
      ],
      "text/plain": [
       "         sst_real  firmeza_real  time_real\n",
       "171-180    12.824     28.732333      180.0\n",
       "181-190    14.950      6.035500      190.0"
      ]
     },
     "execution_count": 32,
     "metadata": {},
     "output_type": "execute_result"
    }
   ],
   "source": [
    "tabela_real"
   ]
  },
  {
   "cell_type": "code",
   "execution_count": null,
   "metadata": {},
   "outputs": [],
   "source": []
  }
 ],
 "metadata": {
  "kernelspec": {
   "display_name": "Python 3",
   "language": "python",
   "name": "python3"
  },
  "language_info": {
   "codemirror_mode": {
    "name": "ipython",
    "version": 3
   },
   "file_extension": ".py",
   "mimetype": "text/x-python",
   "name": "python",
   "nbconvert_exporter": "python",
   "pygments_lexer": "ipython3",
   "version": "3.6.7"
  }
 },
 "nbformat": 4,
 "nbformat_minor": 2
}
