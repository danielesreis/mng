{
 "cells": [
  {
   "cell_type": "code",
   "execution_count": null,
   "metadata": {},
   "outputs": [],
   "source": [
    "# Utilização da técnica SMOTE para oversampling das imagens"
   ]
  },
  {
   "cell_type": "code",
   "execution_count": 1,
   "metadata": {},
   "outputs": [],
   "source": [
    "import numpy as np\n",
    "import pandas as pd\n",
    "import cv2\n",
    "import random\n",
    "import os\n",
    "import matplotlib.pyplot as plt\n",
    "from sklearn.neighbors import NearestNeighbors"
   ]
  },
  {
   "cell_type": "code",
   "execution_count": 2,
   "metadata": {},
   "outputs": [],
   "source": [
    "path1 = os.getcwd()+'//..//features//'\n",
    "path2 = os.getcwd()+'//..//features2//'"
   ]
  },
  {
   "cell_type": "code",
   "execution_count": 3,
   "metadata": {},
   "outputs": [],
   "source": [
    "data1 = pd.read_csv(path1+'all_features.csv', sep=',', index_col=0)\n",
    "data2 = pd.read_csv(path2+'all_features.csv', sep=',', index_col=0)\n",
    "\n",
    "sst1 = pd.read_csv(path1+'/../reference_values/primeiros_dados_palmer_sst.csv', sep=',', index_col=0)\n",
    "firmeza1 = pd.read_csv(path1+'/../reference_values/primeiros_dados_palmer_firmeza.csv', sep=',', index_col=0)\n",
    "time1 = pd.read_csv(path1+'/../reference_values/primeiros_dados_palmer_time.csv', sep=',', index_col=0)\n",
    "massa1 = pd.read_csv(path1+'/../reference_values/primeiros_dados_palmer_massa.csv', sep=',', index_col=0)\n",
    "acidez1 = pd.read_csv(path1+'/../reference_values/primeiros_dados_palmer_acidez.csv', sep=',', index_col=0)\n",
    "ratio1 = pd.read_csv(path1+'/../reference_values/primeiros_dados_palmer_ratio.csv', sep=',', index_col=0)\n",
    "\n",
    "sst2 = pd.read_csv(path2+'/../reference_values/ultimos_dados_palmer_sst.csv', sep=',', index_col=0)\n",
    "firmeza2 = pd.read_csv(path2+'/../reference_values/ultimos_dados_palmer_firmeza.csv', sep=',', index_col=0)\n",
    "time2 = pd.read_csv(path2+'/../reference_values/ultimos_dados_palmer_time.csv', sep=',', index_col=0)\n",
    "massa2 = pd.read_csv(path1+'/../reference_values/ultimos_dados_palmer_massa.csv', sep=',', index_col=0)\n",
    "acidez2 = pd.read_csv(path1+'/../reference_values/ultimos_dados_palmer_acidez.csv', sep=',', index_col=0)\n",
    "ratio2 = pd.read_csv(path1+'/../reference_values/ultimos_dados_palmer_ratio.csv', sep=',', index_col=0)"
   ]
  },
  {
   "cell_type": "code",
   "execution_count": 20,
   "metadata": {},
   "outputs": [],
   "source": [
    "to_append = data1.iloc[600:]\n",
    "\n",
    "sst_to_append = sst1.iloc[600:]\n",
    "firmeza_to_append = firmeza1.iloc[600:]\n",
    "time_to_append = time1.iloc[600:]\n",
    "massa_to_append = massa1.iloc[600:]\n",
    "acidez_to_append = acidez1.iloc[600:]\n",
    "ratio_to_append = ratio1.iloc[600:]"
   ]
  },
  {
   "cell_type": "code",
   "execution_count": 21,
   "metadata": {},
   "outputs": [],
   "source": [
    "s1 = set(data1.columns.values)\n",
    "s2 = set(data2.columns.values)"
   ]
  },
  {
   "cell_type": "code",
   "execution_count": 22,
   "metadata": {},
   "outputs": [
    {
     "data": {
      "text/plain": [
       "set()"
      ]
     },
     "execution_count": 22,
     "metadata": {},
     "output_type": "execute_result"
    }
   ],
   "source": [
    "s2.difference(s1)"
   ]
  },
  {
   "cell_type": "code",
   "execution_count": 27,
   "metadata": {},
   "outputs": [],
   "source": [
    "new_data = data2.append(to_append, sort=True)\n",
    "\n",
    "new_sst = sst2.append(sst_to_append)\n",
    "new_firmeza = firmeza2.append(firmeza_to_append)\n",
    "new_time = time2.append(time_to_append)\n",
    "new_massa = massa2.append(massa_to_append)\n",
    "new_acidez = acidez2.append(acidez_to_append)\n",
    "new_ratio = ratio2.append(ratio_to_append)"
   ]
  },
  {
   "cell_type": "code",
   "execution_count": 33,
   "metadata": {},
   "outputs": [],
   "source": [
    "new_data['sst'] = new_sst\n",
    "new_data['firmeza'] = new_firmeza\n",
    "new_data['time'] = new_time\n",
    "new_data['massa'] = new_massa\n",
    "new_data['acidez'] = new_acidez\n",
    "new_data['ratio'] = new_ratio"
   ]
  },
  {
   "cell_type": "code",
   "execution_count": 40,
   "metadata": {},
   "outputs": [],
   "source": [
    "k = 5\n",
    "N = 200"
   ]
  },
  {
   "cell_type": "code",
   "execution_count": 42,
   "metadata": {},
   "outputs": [],
   "source": [
    "nums = np.arange(1651,1651+int(new_data.shape[0]*(N/100)))\n",
    "indexes = [str(num)+'_synthetic' for num in nums]"
   ]
  },
  {
   "cell_type": "code",
   "execution_count": 47,
   "metadata": {},
   "outputs": [
    {
     "name": "stdout",
     "output_type": "stream",
     "text": [
      "[ 25 205 190  26   8]\n",
      "[ 43  32  58  15 129]\n",
      "[34 38 30 27 31]\n",
      "[31 34 25 27  2]\n",
      "[  7 190  12   6  53]\n",
      "[205  56  53 207  12]\n",
      "[194 190 199  23   4]\n",
      "[ 4 53 56  6 25]\n",
      "[190  26   0  56  53]\n",
      "[144  37 120  11 153]\n",
      "[31 89 34 38 20]\n",
      "[67  9 56 58 35]\n",
      "[ 26  25 205   4   5]\n",
      "[ 56   8  53 207 205]\n",
      "[207  52   4 205  53]\n",
      "[ 27  46  25 205   0]\n",
      "[ 90 212 112 207  52]\n",
      "[197  91 169  77 179]\n",
      "[ 37  44 102  80   9]\n",
      "[ 48 169  65 128  45]\n",
      "[34 31 89 26  2]\n",
      "[40 34 23  6  4]\n",
      "[44 30 35 80  2]\n",
      "[190  57   6  25   8]\n",
      "[190   8  26  39 195]\n",
      "[205  27   0  26  12]\n",
      "[89 25 12  8  0]\n",
      "[205  25  34  15  12]\n",
      "[180 193 144 126 198]\n",
      "[188  36  53   7   8]\n",
      "[22  2 34 35 38]\n",
      "[34 38  3 26 89]\n",
      "[ 58  43   1 129 158]\n",
      "[138  43  70  94 129]\n",
      "[ 2 31 20 38 27]\n",
      "[30 22 11  2 44]\n",
      "[188 194   6 220 199]\n",
      "[ 18   9 144  55  64]\n",
      "[72  2 34 31 30]\n",
      "[190   6 199  24 195]\n",
      "[ 21  41 190  38  39]\n",
      "[ 40 203  56 194  38]\n",
      "[ 46 120  32 158 129]\n",
      "[ 32 129   1  59  58]\n",
      "[22 64 18 80 35]\n",
      "[ 65  66 148 128  19]\n",
      "[42 88 15 67 89]\n",
      "[ 48  54  53  65 159]\n",
      "[ 19 169  47 159  65]\n",
      "[205  64 106  67 183]\n",
      "[ 71  51  75 160 128]\n",
      "[160  61 167  50  71]\n",
      "[ 53  14 207  56 205]\n",
      "[ 56  52 205 207   5]\n",
      "[  8 159  47 184  52]\n",
      "[ 67  37  58 120 129]\n",
      "[ 53 205 190 207   5]\n",
      "[ 23 190   6  25  14]\n",
      "[32 67 11 43  1]\n",
      "[ 43  63 205  32 207]\n",
      "[193 185  63 131 224]\n",
      "[167  51  66 143  45]\n",
      "[224 131 149 199 161]\n",
      "[130  59 189 205 222]\n",
      "[ 67 102 100  82 153]\n",
      "[ 45  73 159  53  84]\n",
      "[148 160  61  45 146]\n",
      "[ 55  64 106  58 120]\n",
      "[138  76 120  70  33]\n",
      "[150 145 160 146 179]\n",
      "[156  93 158 138 120]\n",
      "[ 50  75 148 160  51]\n",
      "[ 38 130  30   2  34]\n",
      "[ 65 194  36  23 188]\n",
      "[109  76 120 186 156]\n",
      "[ 71  50 163 148  51]\n",
      "[120 106 224 183 153]\n",
      "[ 91 169 159  36 160]\n",
      "[ 68 208 142  67 112]\n",
      "[159 213 220 167 184]\n",
      "[82 64 22 44 18]\n",
      "[101  61  66 213  45]\n",
      "[ 64  80 100  67  44]\n",
      "[160  36 166  66  61]\n",
      "[87 85 65 73 86]\n",
      "[84 52 65 87 19]\n",
      "[ 84 208  43  85  52]\n",
      "[ 84 128  65  85  50]\n",
      "[89 27 31 12 46]\n",
      "[88 26 31 20  8]\n",
      "[ 53 212  52 128 236]\n",
      "[197 234  77 210 220]\n",
      "[152 146 179 160 157]\n",
      "[158 168 172 154  70]\n",
      "[233 129 138  70  93]\n",
      "[135 111 125 119 127]\n",
      "[233 183 224 108 161]\n",
      "[188 237 220 232 192]\n",
      "[164 211 149 214  99]\n",
      "[107 217  98 170 214]\n",
      "[153 106 136  64 109]\n",
      "[143  81 148  61 128]\n",
      "[153 124  64 106  76]\n",
      "[191 146  98 175 148]\n",
      "[150 145 177  69 103]\n",
      "[ 99 117 165 141 107]\n",
      "[120  76 100  67 102]\n",
      "[ 99 211 217 182  98]\n",
      "[227 183 233 224  96]\n",
      "[100  74 106  76 153]\n",
      "[115 191 134 213 169]\n",
      "[218 173 113 228 217]\n",
      "[212  76 181 219 114]\n",
      "[225 214 211 232  98]\n",
      "[112 102  18  56 212]\n",
      "[110 213 169 134 191]\n",
      "[135 137 173 119 127]\n",
      "[105 193 126 165 136]\n",
      "[148 134 145  69  71]\n",
      "[141 137 140 116 218]\n",
      "[106 156  76 129 144]\n",
      "[152 179 127 135 173]\n",
      "[133 179 237 225  97]\n",
      "[149 161 126 193 107]\n",
      "[153 102 100 136  64]\n",
      "[119 178  95 111 172]\n",
      "[186 136 217 193 161]\n",
      "[135 116 137 218 173]\n",
      "[ 87  45  19  65 132]\n",
      "[158 120  43 130 233]\n",
      "[129  63 202 193 158]\n",
      "[195  62 193 227 180]\n",
      "[128 143  50  45 148]\n",
      "[122 135 182 173 225]\n",
      "[155 110 118 115 169]\n",
      "[116 173 127 133 218]\n",
      "[153 100 126 124 144]\n",
      "[119 116 141 218 127]\n",
      "[ 33  70  68  94 129]\n",
      "[179 197 182 234 135]\n",
      "[119 141 137 116 133]\n",
      "[119 137  99 140 107]\n",
      "[120  67 129  58  55]\n",
      "[101 148  61 132  71]\n",
      "[  9 153 120 156  37]\n",
      "[150 177  69 152 146]\n",
      "[164 177 179 103  98]\n",
      "[119 216 105 111 165]\n",
      "[118  66 163  71 160]\n",
      "[123 161  98 164 233]\n",
      "[177 104  69 145 146]\n",
      "[211 164 230 113  98]\n",
      "[179 121 157  92 127]\n",
      "[124 102 144 136 100]\n",
      "[168  93 156 233 158]\n",
      "[134 169 177 115  92]\n",
      "[120 154  70  93 144]\n",
      "[152 177  92 179 155]\n",
      "[ 93 129 186 168 120]\n",
      "[169  79 184  54  65]\n",
      "[ 51  66  83  71 148]\n",
      "[149 123 233 126 168]\n",
      "[163 146 179 160  66]\n",
      "[162 148 160  51 146]\n",
      "[ 98 211 177 176 151]\n",
      "[126 172 105 136 201]\n",
      "[167  97  83 160  36]\n",
      "[ 61 166  51  97 108]\n",
      "[178 154  93 172 233]\n",
      "[159  19  48 110 115]\n",
      "[ 99 226 175 135 235]\n",
      "[216 141 119 105 215]\n",
      "[ 93 168 178 158 126]\n",
      "[218 225 111 135 116]\n",
      "[232 113 217 223 210]\n",
      "[234 235 191 177 197]\n",
      "[177 164 191 211 146]\n",
      "[176 164 150 146 211]\n",
      "[168 172  93 161 154]\n",
      "[152 146 197 122 121]\n",
      "[199 188 195 194 193]\n",
      "[212 224 192 236 185]\n",
      "[237 200 231 225 223]\n",
      "[224 236 202 185  76]\n",
      "[188 220 194 192 190]\n",
      "[224 193 199 180 209]\n",
      "[126 202 158 224 168]\n",
      "[198 232 190 200 195]\n",
      "[180 194 199 184 195]\n",
      "[ 63 190 185 203 209]\n",
      "[206 198  56 205   8]\n",
      "[211 110 176 213 103]\n",
      "[181 188 232 190 212]\n",
      "[180 185 209 202 200]\n",
      "[180 188   6 184 199]\n",
      "[199 180 188 209 198]\n",
      "[ 24 198 180 190  10]\n",
      "[234 237 179  91 235]\n",
      "[200 190 180 187 206]\n",
      "[195 180 188 185 200]\n",
      "[198 180 199 193 182]\n",
      "[202 193 209 222 185]\n",
      "[224 193 183 201 209]\n",
      "[219 183 224  41 212]\n",
      "[239 209 210 221 193]\n",
      "[207  25  56   5  27]\n",
      "[190 198 199 209 200]\n",
      "[205  56  14  53   5]\n",
      "[203 205 207  67  52]\n",
      "[193 224 232 195 185]\n",
      "[225 223 221 214 231]\n",
      "[232  98 214 164 234]\n",
      "[236 224 181 232 219]\n",
      "[191 115 110 169  79]\n",
      "[223 228 211 225 210]\n",
      "[216 221 228 218 239]\n",
      "[228 215 221 218 223]\n",
      "[232 211 228 223 214]\n",
      "[173 225 111 228 237]\n",
      "[212 232 203 224 209]\n",
      "[184 188 234 232 194]\n",
      "[239 210 228 225 204]\n",
      "[201 238 209 229  63]\n",
      "[225 228 214 210 217]\n",
      "[202 185 212 183 181]\n",
      "[210 237 223 228 231]\n",
      "[235  99 234 170 214]\n",
      "[234 211 235 236 224]\n",
      "[225 223 216 214 221]\n",
      "[232 238 209 228 210]\n",
      "[217 113 211 151 225]\n",
      "[225 214 210 234 211]\n",
      "[238 211 217 212 224]\n",
      "[154 217 168 161 211]\n",
      "[235 211 227 231 197]\n",
      "[234 227 214 226 223]\n",
      "[212 224 183 181 227]\n",
      "[225 238 182 223 210]\n",
      "[232 237 210 228 229]\n",
      "[204 221 210 229 215]\n"
     ]
    }
   ],
   "source": [
    "df = smote(new_data, k, N, indexes, 1651, ['time', 'sst', 'firmeza', 'massa', 'acidez', 'ratio'])"
   ]
  },
  {
   "cell_type": "code",
   "execution_count": 46,
   "metadata": {},
   "outputs": [],
   "source": [
    "def smote(data, k, N, indexes, i, targets):\n",
    "    N = (int)(N/100)\n",
    "    n_samples = data.shape[0]\n",
    "    features = data.drop(columns=targets)\n",
    "    synthetic = pd.DataFrame(index=indexes,columns=data.columns.values)\n",
    "    \n",
    "#     def treat_targets(neighbors, sample, targets):\n",
    "#         sm = 0\n",
    "#         calc_targ = []\n",
    "        \n",
    "#         for target in targets:\n",
    "#             sm = 0\n",
    "#             for neigh in range(neighbors):\n",
    "#                 sm = sm + (sample[target]-features.iloc[neigh][target])\n",
    "    \n",
    "    def normalize_features():\n",
    "        return features.apply(lambda x: x/np.max(abs(x)))\n",
    "    \n",
    "    neigh = NearestNeighbors(n_neighbors=k+1)\n",
    "    \n",
    "    norm = normalize_features()\n",
    "    neigh.fit(norm)\n",
    "    \n",
    "#     def post_normalize_features():\n",
    "    def get_neighbors(sample):\n",
    "        return neigh.kneighbors([sample], return_distance=False)[0][1:]\n",
    "        \n",
    "    def populate(norm, neighbors, sample, i):\n",
    "        for __ in range(N):\n",
    "            rnd = random.randint(0,k-1)\n",
    "            \n",
    "            diff = features.iloc[neighbors[rnd]] - features.iloc[sample]\n",
    "            gap = random.uniform(0,1)\n",
    "            feature_row = features.iloc[sample] + diff*gap\n",
    "            \n",
    "            synthetic_target = data.iloc[sample][targets]\n",
    "            synthetic_sample = pd.Series(data=feature_row, index=data.columns.values, name=str(i)+'_synthetic')\n",
    "#             print(synthetic_sample)\n",
    "#             print(feature_row)\n",
    "            \n",
    "            for target in targets:\n",
    "                synthetic_sample[target] = data.iloc[sample][target]\n",
    "            \n",
    "            synthetic.loc[str(i)+'_synthetic'] = synthetic_sample\n",
    "            \n",
    "            i=i+1\n",
    "        return i\n",
    "    \n",
    "    for sample in range(n_samples):\n",
    "        neighbors = get_neighbors(norm.iloc[sample])\n",
    "        print(neighbors)\n",
    "        i = populate(norm, neighbors, sample, i)\n",
    "    \n",
    "    return synthetic"
   ]
  },
  {
   "cell_type": "code",
   "execution_count": 48,
   "metadata": {},
   "outputs": [],
   "source": [
    "df.to_csv('../resampling/synthetic_data.csv', sep=',')"
   ]
  },
  {
   "cell_type": "code",
   "execution_count": 50,
   "metadata": {},
   "outputs": [],
   "source": [
    "data1['sst'] = sst1\n",
    "data1['firmeza'] = firmeza1\n",
    "data1['time'] = time1\n",
    "data1['acidez'] = acidez1\n",
    "data1['massa'] = massa1\n",
    "data1['ratio'] = ratio1\n",
    "\n",
    "data2['sst'] = sst2\n",
    "data2['firmeza'] = firmeza2\n",
    "data2['time'] = time2\n",
    "data2['acidez'] = acidez2\n",
    "data2['massa'] = massa2\n",
    "data2['ratio'] = ratio2"
   ]
  },
  {
   "cell_type": "code",
   "execution_count": 53,
   "metadata": {},
   "outputs": [],
   "source": [
    "# df = pd.read_csv(os.getcwd()+'/../resampling/synthetic_data.csv', sep=',', index_col=0)"
   ]
  },
  {
   "cell_type": "code",
   "execution_count": 55,
   "metadata": {},
   "outputs": [],
   "source": [
    "all_data = pd.concat([data1, data2, df], axis=0, sort=True)"
   ]
  },
  {
   "cell_type": "code",
   "execution_count": 56,
   "metadata": {},
   "outputs": [
    {
     "data": {
      "text/plain": [
       "(1320, 1938)"
      ]
     },
     "execution_count": 56,
     "metadata": {},
     "output_type": "execute_result"
    }
   ],
   "source": [
    "all_data.shape"
   ]
  },
  {
   "cell_type": "code",
   "execution_count": 62,
   "metadata": {},
   "outputs": [],
   "source": [
    "all_data.to_csv('../resampling/all_data_synthetic.csv', sep=',')"
   ]
  },
  {
   "cell_type": "code",
   "execution_count": 63,
   "metadata": {},
   "outputs": [],
   "source": [
    "indexes = [index.split('_')[0]+'_repeated' for index in indexes]"
   ]
  },
  {
   "cell_type": "code",
   "execution_count": 75,
   "metadata": {},
   "outputs": [],
   "source": [
    "repeated = pd.DataFrame(index=indexes, columns=new_data.columns.values)"
   ]
  },
  {
   "cell_type": "code",
   "execution_count": 87,
   "metadata": {},
   "outputs": [],
   "source": [
    "repeated.iloc[:240] = new_data.values\n",
    "repeated.iloc[240:] = new_data.values"
   ]
  },
  {
   "cell_type": "code",
   "execution_count": 96,
   "metadata": {},
   "outputs": [],
   "source": [
    "repeated['ind'] = indexes\n",
    "repeated.set_index('ind', drop=True, inplace=True)"
   ]
  },
  {
   "cell_type": "code",
   "execution_count": 97,
   "metadata": {},
   "outputs": [
    {
     "data": {
      "text/plain": [
       "array(['1651_repeated', '1652_repeated', '1653_repeated', '1654_repeated',\n",
       "       '1655_repeated', '1656_repeated', '1657_repeated', '1658_repeated',\n",
       "       '1659_repeated', '1660_repeated', '1661_repeated', '1662_repeated',\n",
       "       '1663_repeated', '1664_repeated', '1665_repeated', '1666_repeated',\n",
       "       '1667_repeated', '1668_repeated', '1669_repeated', '1670_repeated',\n",
       "       '1671_repeated', '1672_repeated', '1673_repeated', '1674_repeated',\n",
       "       '1675_repeated', '1676_repeated', '1677_repeated', '1678_repeated',\n",
       "       '1679_repeated', '1680_repeated', '1681_repeated', '1682_repeated',\n",
       "       '1683_repeated', '1684_repeated', '1685_repeated', '1686_repeated',\n",
       "       '1687_repeated', '1688_repeated', '1689_repeated', '1690_repeated',\n",
       "       '1691_repeated', '1692_repeated', '1693_repeated', '1694_repeated',\n",
       "       '1695_repeated', '1696_repeated', '1697_repeated', '1698_repeated',\n",
       "       '1699_repeated', '1700_repeated', '1701_repeated', '1702_repeated',\n",
       "       '1703_repeated', '1704_repeated', '1705_repeated', '1706_repeated',\n",
       "       '1707_repeated', '1708_repeated', '1709_repeated', '1710_repeated',\n",
       "       '1711_repeated', '1712_repeated', '1713_repeated', '1714_repeated',\n",
       "       '1715_repeated', '1716_repeated', '1717_repeated', '1718_repeated',\n",
       "       '1719_repeated', '1720_repeated', '1721_repeated', '1722_repeated',\n",
       "       '1723_repeated', '1724_repeated', '1725_repeated', '1726_repeated',\n",
       "       '1727_repeated', '1728_repeated', '1729_repeated', '1730_repeated',\n",
       "       '1731_repeated', '1732_repeated', '1733_repeated', '1734_repeated',\n",
       "       '1735_repeated', '1736_repeated', '1737_repeated', '1738_repeated',\n",
       "       '1739_repeated', '1740_repeated', '1741_repeated', '1742_repeated',\n",
       "       '1743_repeated', '1744_repeated', '1745_repeated', '1746_repeated',\n",
       "       '1747_repeated', '1748_repeated', '1749_repeated', '1750_repeated',\n",
       "       '1751_repeated', '1752_repeated', '1753_repeated', '1754_repeated',\n",
       "       '1755_repeated', '1756_repeated', '1757_repeated', '1758_repeated',\n",
       "       '1759_repeated', '1760_repeated', '1761_repeated', '1762_repeated',\n",
       "       '1763_repeated', '1764_repeated', '1765_repeated', '1766_repeated',\n",
       "       '1767_repeated', '1768_repeated', '1769_repeated', '1770_repeated',\n",
       "       '1771_repeated', '1772_repeated', '1773_repeated', '1774_repeated',\n",
       "       '1775_repeated', '1776_repeated', '1777_repeated', '1778_repeated',\n",
       "       '1779_repeated', '1780_repeated', '1781_repeated', '1782_repeated',\n",
       "       '1783_repeated', '1784_repeated', '1785_repeated', '1786_repeated',\n",
       "       '1787_repeated', '1788_repeated', '1789_repeated', '1790_repeated',\n",
       "       '1791_repeated', '1792_repeated', '1793_repeated', '1794_repeated',\n",
       "       '1795_repeated', '1796_repeated', '1797_repeated', '1798_repeated',\n",
       "       '1799_repeated', '1800_repeated', '1801_repeated', '1802_repeated',\n",
       "       '1803_repeated', '1804_repeated', '1805_repeated', '1806_repeated',\n",
       "       '1807_repeated', '1808_repeated', '1809_repeated', '1810_repeated',\n",
       "       '1811_repeated', '1812_repeated', '1813_repeated', '1814_repeated',\n",
       "       '1815_repeated', '1816_repeated', '1817_repeated', '1818_repeated',\n",
       "       '1819_repeated', '1820_repeated', '1821_repeated', '1822_repeated',\n",
       "       '1823_repeated', '1824_repeated', '1825_repeated', '1826_repeated',\n",
       "       '1827_repeated', '1828_repeated', '1829_repeated', '1830_repeated',\n",
       "       '1831_repeated', '1832_repeated', '1833_repeated', '1834_repeated',\n",
       "       '1835_repeated', '1836_repeated', '1837_repeated', '1838_repeated',\n",
       "       '1839_repeated', '1840_repeated', '1841_repeated', '1842_repeated',\n",
       "       '1843_repeated', '1844_repeated', '1845_repeated', '1846_repeated',\n",
       "       '1847_repeated', '1848_repeated', '1849_repeated', '1850_repeated',\n",
       "       '1851_repeated', '1852_repeated', '1853_repeated', '1854_repeated',\n",
       "       '1855_repeated', '1856_repeated', '1857_repeated', '1858_repeated',\n",
       "       '1859_repeated', '1860_repeated', '1861_repeated', '1862_repeated',\n",
       "       '1863_repeated', '1864_repeated', '1865_repeated', '1866_repeated',\n",
       "       '1867_repeated', '1868_repeated', '1869_repeated', '1870_repeated',\n",
       "       '1871_repeated', '1872_repeated', '1873_repeated', '1874_repeated',\n",
       "       '1875_repeated', '1876_repeated', '1877_repeated', '1878_repeated',\n",
       "       '1879_repeated', '1880_repeated', '1881_repeated', '1882_repeated',\n",
       "       '1883_repeated', '1884_repeated', '1885_repeated', '1886_repeated',\n",
       "       '1887_repeated', '1888_repeated', '1889_repeated', '1890_repeated',\n",
       "       '1891_repeated', '1892_repeated', '1893_repeated', '1894_repeated',\n",
       "       '1895_repeated', '1896_repeated', '1897_repeated', '1898_repeated',\n",
       "       '1899_repeated', '1900_repeated', '1901_repeated', '1902_repeated',\n",
       "       '1903_repeated', '1904_repeated', '1905_repeated', '1906_repeated',\n",
       "       '1907_repeated', '1908_repeated', '1909_repeated', '1910_repeated',\n",
       "       '1911_repeated', '1912_repeated', '1913_repeated', '1914_repeated',\n",
       "       '1915_repeated', '1916_repeated', '1917_repeated', '1918_repeated',\n",
       "       '1919_repeated', '1920_repeated', '1921_repeated', '1922_repeated',\n",
       "       '1923_repeated', '1924_repeated', '1925_repeated', '1926_repeated',\n",
       "       '1927_repeated', '1928_repeated', '1929_repeated', '1930_repeated',\n",
       "       '1931_repeated', '1932_repeated', '1933_repeated', '1934_repeated',\n",
       "       '1935_repeated', '1936_repeated', '1937_repeated', '1938_repeated',\n",
       "       '1939_repeated', '1940_repeated', '1941_repeated', '1942_repeated',\n",
       "       '1943_repeated', '1944_repeated', '1945_repeated', '1946_repeated',\n",
       "       '1947_repeated', '1948_repeated', '1949_repeated', '1950_repeated',\n",
       "       '1951_repeated', '1952_repeated', '1953_repeated', '1954_repeated',\n",
       "       '1955_repeated', '1956_repeated', '1957_repeated', '1958_repeated',\n",
       "       '1959_repeated', '1960_repeated', '1961_repeated', '1962_repeated',\n",
       "       '1963_repeated', '1964_repeated', '1965_repeated', '1966_repeated',\n",
       "       '1967_repeated', '1968_repeated', '1969_repeated', '1970_repeated',\n",
       "       '1971_repeated', '1972_repeated', '1973_repeated', '1974_repeated',\n",
       "       '1975_repeated', '1976_repeated', '1977_repeated', '1978_repeated',\n",
       "       '1979_repeated', '1980_repeated', '1981_repeated', '1982_repeated',\n",
       "       '1983_repeated', '1984_repeated', '1985_repeated', '1986_repeated',\n",
       "       '1987_repeated', '1988_repeated', '1989_repeated', '1990_repeated',\n",
       "       '1991_repeated', '1992_repeated', '1993_repeated', '1994_repeated',\n",
       "       '1995_repeated', '1996_repeated', '1997_repeated', '1998_repeated',\n",
       "       '1999_repeated', '2000_repeated', '2001_repeated', '2002_repeated',\n",
       "       '2003_repeated', '2004_repeated', '2005_repeated', '2006_repeated',\n",
       "       '2007_repeated', '2008_repeated', '2009_repeated', '2010_repeated',\n",
       "       '2011_repeated', '2012_repeated', '2013_repeated', '2014_repeated',\n",
       "       '2015_repeated', '2016_repeated', '2017_repeated', '2018_repeated',\n",
       "       '2019_repeated', '2020_repeated', '2021_repeated', '2022_repeated',\n",
       "       '2023_repeated', '2024_repeated', '2025_repeated', '2026_repeated',\n",
       "       '2027_repeated', '2028_repeated', '2029_repeated', '2030_repeated',\n",
       "       '2031_repeated', '2032_repeated', '2033_repeated', '2034_repeated',\n",
       "       '2035_repeated', '2036_repeated', '2037_repeated', '2038_repeated',\n",
       "       '2039_repeated', '2040_repeated', '2041_repeated', '2042_repeated',\n",
       "       '2043_repeated', '2044_repeated', '2045_repeated', '2046_repeated',\n",
       "       '2047_repeated', '2048_repeated', '2049_repeated', '2050_repeated',\n",
       "       '2051_repeated', '2052_repeated', '2053_repeated', '2054_repeated',\n",
       "       '2055_repeated', '2056_repeated', '2057_repeated', '2058_repeated',\n",
       "       '2059_repeated', '2060_repeated', '2061_repeated', '2062_repeated',\n",
       "       '2063_repeated', '2064_repeated', '2065_repeated', '2066_repeated',\n",
       "       '2067_repeated', '2068_repeated', '2069_repeated', '2070_repeated',\n",
       "       '2071_repeated', '2072_repeated', '2073_repeated', '2074_repeated',\n",
       "       '2075_repeated', '2076_repeated', '2077_repeated', '2078_repeated',\n",
       "       '2079_repeated', '2080_repeated', '2081_repeated', '2082_repeated',\n",
       "       '2083_repeated', '2084_repeated', '2085_repeated', '2086_repeated',\n",
       "       '2087_repeated', '2088_repeated', '2089_repeated', '2090_repeated',\n",
       "       '2091_repeated', '2092_repeated', '2093_repeated', '2094_repeated',\n",
       "       '2095_repeated', '2096_repeated', '2097_repeated', '2098_repeated',\n",
       "       '2099_repeated', '2100_repeated', '2101_repeated', '2102_repeated',\n",
       "       '2103_repeated', '2104_repeated', '2105_repeated', '2106_repeated',\n",
       "       '2107_repeated', '2108_repeated', '2109_repeated', '2110_repeated',\n",
       "       '2111_repeated', '2112_repeated', '2113_repeated', '2114_repeated',\n",
       "       '2115_repeated', '2116_repeated', '2117_repeated', '2118_repeated',\n",
       "       '2119_repeated', '2120_repeated', '2121_repeated', '2122_repeated',\n",
       "       '2123_repeated', '2124_repeated', '2125_repeated', '2126_repeated',\n",
       "       '2127_repeated', '2128_repeated', '2129_repeated', '2130_repeated'],\n",
       "      dtype=object)"
      ]
     },
     "execution_count": 97,
     "metadata": {},
     "output_type": "execute_result"
    }
   ],
   "source": [
    "repeated.index.values"
   ]
  },
  {
   "cell_type": "code",
   "execution_count": 58,
   "metadata": {},
   "outputs": [
    {
     "name": "stderr",
     "output_type": "stream",
     "text": [
      "/home/danielesreis/.local/lib/python3.6/site-packages/ipykernel_launcher.py:1: FutureWarning: Sorting because non-concatenation axis is not aligned. A future version\n",
      "of pandas will change to not sort by default.\n",
      "\n",
      "To accept the future behavior, pass 'sort=False'.\n",
      "\n",
      "To retain the current behavior and silence the warning, pass 'sort=True'.\n",
      "\n",
      "  \"\"\"Entry point for launching an IPython kernel.\n"
     ]
    }
   ],
   "source": [
    "repeated_data = pd.concat([data1, data2, repeated], axis=0)"
   ]
  },
  {
   "cell_type": "code",
   "execution_count": 35,
   "metadata": {},
   "outputs": [
    {
     "data": {
      "text/plain": [
       "(1320, 1938)"
      ]
     },
     "execution_count": 35,
     "metadata": {},
     "output_type": "execute_result"
    }
   ],
   "source": [
    "repeated_data.shape"
   ]
  },
  {
   "cell_type": "code",
   "execution_count": 59,
   "metadata": {},
   "outputs": [],
   "source": [
    "repeated_data.to_csv('../resampling/all_data_repeated.csv', sep=',')"
   ]
  }
 ],
 "metadata": {
  "kernelspec": {
   "display_name": "Python 3",
   "language": "python",
   "name": "python3"
  },
  "language_info": {
   "codemirror_mode": {
    "name": "ipython",
    "version": 3
   },
   "file_extension": ".py",
   "mimetype": "text/x-python",
   "name": "python",
   "nbconvert_exporter": "python",
   "pygments_lexer": "ipython3",
   "version": "3.6.7"
  }
 },
 "nbformat": 4,
 "nbformat_minor": 2
}
