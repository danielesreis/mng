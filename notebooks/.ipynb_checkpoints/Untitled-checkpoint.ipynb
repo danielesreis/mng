{
 "cells": [
  {
   "cell_type": "code",
   "execution_count": 25,
   "metadata": {},
   "outputs": [],
   "source": [
    "import cv2\n",
    "import numpy as np\n",
    "import pandas as pd\n",
    "import matplotlib.pyplot as plt\n",
    "\n",
    "from sklearn.metrics import mean_squared_error\n",
    "from sklearn.linear_model import LinearRegression"
   ]
  },
  {
   "cell_type": "code",
   "execution_count": 79,
   "metadata": {},
   "outputs": [],
   "source": [
    "img = cv2.imread(os.getcwd() + '\\\\..\\\\final.jpg')\n",
    "height, width, __ \t= img.shape\n",
    "n = 3"
   ]
  },
  {
   "cell_type": "code",
   "execution_count": 81,
   "metadata": {},
   "outputs": [],
   "source": [
    "means = np.array([[1,2,3],[4,5,6],[7,8,9]])"
   ]
  },
  {
   "cell_type": "code",
   "execution_count": 91,
   "metadata": {},
   "outputs": [
    {
     "name": "stdout",
     "output_type": "stream",
     "text": [
      "[-6 -6 -6]\n",
      "[[-3 -3 -3]]\n",
      "[-3 -3 -3]\n",
      "[[-3 -3 -3]\n",
      " [-6 -6 -6]]\n"
     ]
    }
   ],
   "source": [
    "for i in range(n-1):\n",
    "\tfor j in np.arange(i,n-1):\n",
    "\t\tif i == 0 and j == 0:\n",
    "\t\t\tregions_diffs = np.array([means[i]-means[j+1]]) \n",
    "\t\telse:\n",
    "\t\t\tregions_diffs = np.append(regions_diffs, [means[i]-means[j+1]], axis=0)"
   ]
  },
  {
   "cell_type": "code",
   "execution_count": 92,
   "metadata": {},
   "outputs": [
    {
     "data": {
      "text/plain": [
       "array([[-3, -3, -3],\n",
       "       [-6, -6, -6],\n",
       "       [-3, -3, -3]])"
      ]
     },
     "execution_count": 92,
     "metadata": {},
     "output_type": "execute_result"
    }
   ],
   "source": [
    "regions_diffs"
   ]
  },
  {
   "cell_type": "code",
   "execution_count": 96,
   "metadata": {},
   "outputs": [],
   "source": [
    "channels_RGB = ['R', 'G', 'B']\n",
    "channels_HSV = ['H', 'S', 'V']\n",
    "channels_Lab = ['L', 'a', 'b']\n",
    "names = []\n",
    "\n",
    "for i in range(n-1):\n",
    "\tfor j in range(i, n-1):\n",
    "\t\tfor channel in channels_RGB:\n",
    "\t\t\tnames.append(str(i) + '_' + str(j+1) + '_' + channel + '_diff')"
   ]
  },
  {
   "cell_type": "code",
   "execution_count": 111,
   "metadata": {},
   "outputs": [],
   "source": [
    "names_R = [1, 2, 3]\n",
    "names_H = [0, 0, 0]\n",
    "names_L = [100,100,100]"
   ]
  },
  {
   "cell_type": "code",
   "execution_count": 113,
   "metadata": {},
   "outputs": [],
   "source": [
    "names = [names_R, names_H]\n",
    "names = [item for sublist in names for item in sublist]"
   ]
  },
  {
   "cell_type": "code",
   "execution_count": 114,
   "metadata": {},
   "outputs": [
    {
     "data": {
      "text/plain": [
       "[1, 2, 3, 0, 0, 0]"
      ]
     },
     "execution_count": 114,
     "metadata": {},
     "output_type": "execute_result"
    }
   ],
   "source": [
    "names"
   ]
  },
  {
   "cell_type": "code",
   "execution_count": 116,
   "metadata": {},
   "outputs": [],
   "source": [
    "names = [names, names_L]\n",
    "names = [item for sublist in names for item in sublist]"
   ]
  },
  {
   "cell_type": "code",
   "execution_count": 117,
   "metadata": {},
   "outputs": [
    {
     "data": {
      "text/plain": [
       "[1, 2, 3, 0, 0, 0, 100, 100, 100]"
      ]
     },
     "execution_count": 117,
     "metadata": {},
     "output_type": "execute_result"
    }
   ],
   "source": [
    "names"
   ]
  },
  {
   "cell_type": "code",
   "execution_count": null,
   "metadata": {},
   "outputs": [],
   "source": []
  }
 ],
 "metadata": {
  "kernelspec": {
   "display_name": "Python 3",
   "language": "python",
   "name": "python3"
  },
  "language_info": {
   "codemirror_mode": {
    "name": "ipython",
    "version": 3
   },
   "file_extension": ".py",
   "mimetype": "text/x-python",
   "name": "python",
   "nbconvert_exporter": "python",
   "pygments_lexer": "ipython3",
   "version": "3.6.3"
  }
 },
 "nbformat": 4,
 "nbformat_minor": 2
}
