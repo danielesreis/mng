{
 "cells": [
  {
   "cell_type": "code",
   "execution_count": null,
   "metadata": {},
   "outputs": [],
   "source": [
    "# experimento com as imagens de todas as coletas da Palmer, utilizando 66% para treinamento e 33% para teste, para predição de SST"
   ]
  },
  {
   "cell_type": "code",
   "execution_count": 46,
   "metadata": {},
   "outputs": [
    {
     "name": "stdout",
     "output_type": "stream",
     "text": [
      "The autoreload extension is already loaded. To reload it, use:\n",
      "  %reload_ext autoreload\n"
     ]
    }
   ],
   "source": [
    "import cv2\n",
    "import sys\n",
    "import numpy as np\n",
    "import pandas as pd\n",
    "import matplotlib.pyplot as plt\n",
    "import seaborn as sns\n",
    "import os \n",
    "import math\n",
    "\n",
    "from sklearn.ensemble import RandomForestRegressor\n",
    "from sklearn.linear_model import LinearRegression\n",
    "from sklearn.metrics import r2_score, mean_squared_error\n",
    "from sklearn.model_selection import train_test_split\n",
    "\n",
    "%load_ext autoreload\n",
    "plt.rcParams['figure.figsize'] = [20, 15]\n",
    "\n",
    "path = os.getcwd()+'//..//imagens//'\n",
    "sys.path.append(os.getcwd()+'//..//scripts//')\n",
    "from MNG import MNG\n",
    "from MNGFeatures import MNGFeatures\n",
    "from MNGFeaturesMeans import MNGFeaturesMeans\n",
    "from MNGModel import MNGModel"
   ]
  },
  {
   "cell_type": "code",
   "execution_count": 47,
   "metadata": {},
   "outputs": [],
   "source": [
    "%autoreload 2\n",
    "\n",
    "att = 'sst'\n",
    "model_type = 'palmer'\n",
    "palmer_sst = path + '\\\\..\\\\palmer_sst.csv'"
   ]
  },
  {
   "cell_type": "code",
   "execution_count": 48,
   "metadata": {},
   "outputs": [],
   "source": [
    "path = os.getcwd() + '//..//preprocessadas2//'\n",
    "imgs = sorted(os.listdir(path))\n",
    "img_names = [img.split('.')[0] for img in imgs]\n",
    "\n",
    "mng = MNG(path, img_names, 'time', 20)"
   ]
  },
  {
   "cell_type": "code",
   "execution_count": 49,
   "metadata": {},
   "outputs": [],
   "source": [
    "mng.features.dest_folder = os.getcwd() + '//..//features2//'"
   ]
  },
  {
   "cell_type": "code",
   "execution_count": 50,
   "metadata": {},
   "outputs": [],
   "source": [
    "nums = np.arange(1, 181)"
   ]
  },
  {
   "cell_type": "code",
   "execution_count": 51,
   "metadata": {},
   "outputs": [],
   "source": [
    "def compute_feature(current_features, features_name):\n",
    "    mng.features.current_features = current_features\n",
    "    mng.features.current_features_name = features_name\n",
    "    mng.features.new_df()\n",
    "    print(current_features)\n",
    "    print(mng.features.current_features)\n",
    "\n",
    "    for img,num in zip(imgs, nums):\n",
    "        print(num)\n",
    "        bgr = cv2.imread(path+img)\n",
    "        mng.features.extract_features(bgr, img)\n",
    "    \n",
    "    file_path = mng.features.save_data(False)"
   ]
  },
  {
   "cell_type": "code",
   "execution_count": 52,
   "metadata": {},
   "outputs": [],
   "source": [
    "current_features = [mng.features.feature_names[:9], mng.features.feature_names[9:13], \\\n",
    "                    mng.features.feature_names[13], mng.features.feature_names[14:17],\\\n",
    "                    mng.features.feature_names[17], mng.features.feature_names[21:42],\\\n",
    "                    mng.features.feature_names[42:], mng.features.feature_names[18:21]]\n",
    "\n",
    "features_names = ['means', 'size', 'dominant_HSV', 'rates', 'longitudinal_gradient',\\\n",
    "                  'rgb_3_regions', 'rgb_hsv_lab_n_regions', 'fractals']"
   ]
  },
  {
   "cell_type": "code",
   "execution_count": 53,
   "metadata": {},
   "outputs": [],
   "source": [
    "current_features = [mng.features.feature_names[42:], mng.features.feature_names[18:21]]\n",
    "\n",
    "features_names = ['rgb_hsv_lab_n_regions', 'fractals']"
   ]
  },
  {
   "cell_type": "code",
   "execution_count": 55,
   "metadata": {},
   "outputs": [
    {
     "name": "stdout",
     "output_type": "stream",
     "text": [
      "['RG_diff_full', 'RB_diff_full', 'GB_diff_full', 'apex_R', 'apex_G', 'apex_B', 'equator_R', 'equator_G', 'equator_B', 'stalk_R', 'stalk_G', 'stalk_B', 'apex_equator_R_diff', 'equator_stalk_R_diff', 'apex_stalk_R_diff', 'apex_equator_G_diff', 'equator_stalk_G_diff', 'apex_stalk_G_diff', 'apex_equator_B_diff', 'equator_stalk_B_diff', 'apex_stalk_B_diff']\n",
      "['RG_diff_full', 'RB_diff_full', 'GB_diff_full', 'apex_R', 'apex_G', 'apex_B', 'equator_R', 'equator_G', 'equator_B', 'stalk_R', 'stalk_G', 'stalk_B', 'apex_equator_R_diff', 'equator_stalk_R_diff', 'apex_stalk_R_diff', 'apex_equator_G_diff', 'equator_stalk_G_diff', 'apex_stalk_G_diff', 'apex_equator_B_diff', 'equator_stalk_B_diff', 'apex_stalk_B_diff']\n",
      "1\n",
      "2\n",
      "3\n",
      "4\n",
      "5\n",
      "6\n",
      "7\n",
      "8\n",
      "9\n",
      "10\n",
      "11\n",
      "12\n",
      "13\n",
      "14\n",
      "15\n",
      "16\n",
      "17\n",
      "18\n",
      "19\n",
      "20\n",
      "21\n",
      "22\n",
      "23\n",
      "24\n",
      "25\n",
      "26\n",
      "27\n",
      "28\n",
      "29\n",
      "30\n",
      "31\n",
      "32\n",
      "33\n",
      "34\n",
      "35\n",
      "36\n",
      "37\n",
      "38\n",
      "39\n",
      "40\n",
      "41\n",
      "42\n",
      "43\n",
      "44\n",
      "45\n",
      "46\n",
      "47\n",
      "48\n",
      "49\n",
      "50\n",
      "51\n",
      "52\n",
      "53\n",
      "54\n",
      "55\n",
      "56\n",
      "57\n",
      "58\n",
      "59\n",
      "60\n",
      "61\n",
      "62\n",
      "63\n",
      "64\n",
      "65\n",
      "66\n",
      "67\n",
      "68\n",
      "69\n",
      "70\n",
      "71\n",
      "72\n",
      "73\n",
      "74\n",
      "75\n",
      "76\n",
      "77\n",
      "78\n",
      "79\n",
      "80\n",
      "81\n",
      "82\n",
      "83\n",
      "84\n",
      "85\n",
      "86\n",
      "87\n",
      "88\n",
      "89\n",
      "90\n",
      "91\n",
      "92\n",
      "93\n",
      "94\n",
      "95\n",
      "96\n",
      "97\n",
      "98\n",
      "99\n",
      "100\n",
      "101\n",
      "102\n",
      "103\n",
      "104\n",
      "105\n",
      "106\n",
      "107\n",
      "108\n",
      "109\n",
      "110\n",
      "111\n",
      "112\n",
      "113\n",
      "114\n",
      "115\n",
      "116\n",
      "117\n",
      "118\n",
      "119\n",
      "120\n",
      "121\n",
      "122\n",
      "123\n",
      "124\n",
      "125\n",
      "126\n",
      "127\n",
      "128\n",
      "129\n",
      "130\n",
      "131\n",
      "132\n",
      "133\n",
      "134\n",
      "135\n",
      "136\n",
      "137\n",
      "138\n",
      "139\n",
      "140\n",
      "141\n",
      "142\n",
      "143\n",
      "144\n",
      "145\n",
      "146\n",
      "147\n",
      "148\n",
      "149\n",
      "150\n",
      "151\n",
      "152\n",
      "153\n",
      "154\n",
      "155\n",
      "156\n",
      "157\n",
      "158\n",
      "159\n",
      "160\n",
      "161\n",
      "162\n",
      "163\n",
      "164\n",
      "165\n",
      "166\n",
      "167\n",
      "168\n",
      "169\n",
      "170\n",
      "171\n",
      "172\n",
      "173\n",
      "174\n",
      "175\n",
      "176\n",
      "177\n",
      "178\n",
      "179\n",
      "180\n",
      "['region_0_R', 'region_0_G', 'region_0_B', 'region_1_R', 'region_1_G', 'region_1_B', 'region_2_R', 'region_2_G', 'region_2_B', 'region_3_R', 'region_3_G', 'region_3_B', 'region_4_R', 'region_4_G', 'region_4_B', 'region_5_R', 'region_5_G', 'region_5_B', 'region_6_R', 'region_6_G', 'region_6_B', 'region_7_R', 'region_7_G', 'region_7_B', 'region_8_R', 'region_8_G', 'region_8_B', 'region_9_R', 'region_9_G', 'region_9_B', 'region_10_R', 'region_10_G', 'region_10_B', 'region_11_R', 'region_11_G', 'region_11_B', 'region_12_R', 'region_12_G', 'region_12_B', 'region_13_R', 'region_13_G', 'region_13_B', 'region_14_R', 'region_14_G', 'region_14_B', 'region_15_R', 'region_15_G', 'region_15_B', 'region_16_R', 'region_16_G', 'region_16_B', 'region_17_R', 'region_17_G', 'region_17_B', 'region_18_R', 'region_18_G', 'region_18_B', 'region_19_R', 'region_19_G', 'region_19_B', 'region_0_H', 'region_0_S', 'region_0_V', 'region_1_H', 'region_1_S', 'region_1_V', 'region_2_H', 'region_2_S', 'region_2_V', 'region_3_H', 'region_3_S', 'region_3_V', 'region_4_H', 'region_4_S', 'region_4_V', 'region_5_H', 'region_5_S', 'region_5_V', 'region_6_H', 'region_6_S', 'region_6_V', 'region_7_H', 'region_7_S', 'region_7_V', 'region_8_H', 'region_8_S', 'region_8_V', 'region_9_H', 'region_9_S', 'region_9_V', 'region_10_H', 'region_10_S', 'region_10_V', 'region_11_H', 'region_11_S', 'region_11_V', 'region_12_H', 'region_12_S', 'region_12_V', 'region_13_H', 'region_13_S', 'region_13_V', 'region_14_H', 'region_14_S', 'region_14_V', 'region_15_H', 'region_15_S', 'region_15_V', 'region_16_H', 'region_16_S', 'region_16_V', 'region_17_H', 'region_17_S', 'region_17_V', 'region_18_H', 'region_18_S', 'region_18_V', 'region_19_H', 'region_19_S', 'region_19_V', 'region_0_L', 'region_0_a', 'region_0_b', 'region_1_L', 'region_1_a', 'region_1_b', 'region_2_L', 'region_2_a', 'region_2_b', 'region_3_L', 'region_3_a', 'region_3_b', 'region_4_L', 'region_4_a', 'region_4_b', 'region_5_L', 'region_5_a', 'region_5_b', 'region_6_L', 'region_6_a', 'region_6_b', 'region_7_L', 'region_7_a', 'region_7_b', 'region_8_L', 'region_8_a', 'region_8_b', 'region_9_L', 'region_9_a', 'region_9_b', 'region_10_L', 'region_10_a', 'region_10_b', 'region_11_L', 'region_11_a', 'region_11_b', 'region_12_L', 'region_12_a', 'region_12_b', 'region_13_L', 'region_13_a', 'region_13_b', 'region_14_L', 'region_14_a', 'region_14_b', 'region_15_L', 'region_15_a', 'region_15_b', 'region_16_L', 'region_16_a', 'region_16_b', 'region_17_L', 'region_17_a', 'region_17_b', 'region_18_L', 'region_18_a', 'region_18_b', 'region_19_L', 'region_19_a', 'region_19_b', '0_1_R_diff', '0_1_G_diff', '0_1_B_diff', '0_2_R_diff', '0_2_G_diff', '0_2_B_diff', '0_3_R_diff', '0_3_G_diff', '0_3_B_diff', '0_4_R_diff', '0_4_G_diff', '0_4_B_diff', '0_5_R_diff', '0_5_G_diff', '0_5_B_diff', '0_6_R_diff', '0_6_G_diff', '0_6_B_diff', '0_7_R_diff', '0_7_G_diff', '0_7_B_diff', '0_8_R_diff', '0_8_G_diff', '0_8_B_diff', '0_9_R_diff', '0_9_G_diff', '0_9_B_diff', '0_10_R_diff', '0_10_G_diff', '0_10_B_diff', '0_11_R_diff', '0_11_G_diff', '0_11_B_diff', '0_12_R_diff', '0_12_G_diff', '0_12_B_diff', '0_13_R_diff', '0_13_G_diff', '0_13_B_diff', '0_14_R_diff', '0_14_G_diff', '0_14_B_diff', '0_15_R_diff', '0_15_G_diff', '0_15_B_diff', '0_16_R_diff', '0_16_G_diff', '0_16_B_diff', '0_17_R_diff', '0_17_G_diff', '0_17_B_diff', '0_18_R_diff', '0_18_G_diff', '0_18_B_diff', '0_19_R_diff', '0_19_G_diff', '0_19_B_diff', '1_2_R_diff', '1_2_G_diff', '1_2_B_diff', '1_3_R_diff', '1_3_G_diff', '1_3_B_diff', '1_4_R_diff', '1_4_G_diff', '1_4_B_diff', '1_5_R_diff', '1_5_G_diff', '1_5_B_diff', '1_6_R_diff', '1_6_G_diff', '1_6_B_diff', '1_7_R_diff', '1_7_G_diff', '1_7_B_diff', '1_8_R_diff', '1_8_G_diff', '1_8_B_diff', '1_9_R_diff', '1_9_G_diff', '1_9_B_diff', '1_10_R_diff', '1_10_G_diff', '1_10_B_diff', '1_11_R_diff', '1_11_G_diff', '1_11_B_diff', '1_12_R_diff', '1_12_G_diff', '1_12_B_diff', '1_13_R_diff', '1_13_G_diff', '1_13_B_diff', '1_14_R_diff', '1_14_G_diff', '1_14_B_diff', '1_15_R_diff', '1_15_G_diff', '1_15_B_diff', '1_16_R_diff', '1_16_G_diff', '1_16_B_diff', '1_17_R_diff', '1_17_G_diff', '1_17_B_diff', '1_18_R_diff', '1_18_G_diff', '1_18_B_diff', '1_19_R_diff', '1_19_G_diff', '1_19_B_diff', '2_3_R_diff', '2_3_G_diff', '2_3_B_diff', '2_4_R_diff', '2_4_G_diff', '2_4_B_diff', '2_5_R_diff', '2_5_G_diff', '2_5_B_diff', '2_6_R_diff', '2_6_G_diff', '2_6_B_diff', '2_7_R_diff', '2_7_G_diff', '2_7_B_diff', '2_8_R_diff', '2_8_G_diff', '2_8_B_diff', '2_9_R_diff', '2_9_G_diff', '2_9_B_diff', '2_10_R_diff', '2_10_G_diff', '2_10_B_diff', '2_11_R_diff', '2_11_G_diff', '2_11_B_diff', '2_12_R_diff', '2_12_G_diff', '2_12_B_diff', '2_13_R_diff', '2_13_G_diff', '2_13_B_diff', '2_14_R_diff', '2_14_G_diff', '2_14_B_diff', '2_15_R_diff', '2_15_G_diff', '2_15_B_diff', '2_16_R_diff', '2_16_G_diff', '2_16_B_diff', '2_17_R_diff', '2_17_G_diff', '2_17_B_diff', '2_18_R_diff', '2_18_G_diff', '2_18_B_diff', '2_19_R_diff', '2_19_G_diff', '2_19_B_diff', '3_4_R_diff', '3_4_G_diff', '3_4_B_diff', '3_5_R_diff', '3_5_G_diff', '3_5_B_diff', '3_6_R_diff', '3_6_G_diff', '3_6_B_diff', '3_7_R_diff', '3_7_G_diff', '3_7_B_diff', '3_8_R_diff', '3_8_G_diff', '3_8_B_diff', '3_9_R_diff', '3_9_G_diff', '3_9_B_diff', '3_10_R_diff', '3_10_G_diff', '3_10_B_diff', '3_11_R_diff', '3_11_G_diff', '3_11_B_diff', '3_12_R_diff', '3_12_G_diff', '3_12_B_diff', '3_13_R_diff', '3_13_G_diff', '3_13_B_diff', '3_14_R_diff', '3_14_G_diff', '3_14_B_diff', '3_15_R_diff', '3_15_G_diff', '3_15_B_diff', '3_16_R_diff', '3_16_G_diff', '3_16_B_diff', '3_17_R_diff', '3_17_G_diff', '3_17_B_diff', '3_18_R_diff', '3_18_G_diff', '3_18_B_diff', '3_19_R_diff', '3_19_G_diff', '3_19_B_diff', '4_5_R_diff', '4_5_G_diff', '4_5_B_diff', '4_6_R_diff', '4_6_G_diff', '4_6_B_diff', '4_7_R_diff', '4_7_G_diff', '4_7_B_diff', '4_8_R_diff', '4_8_G_diff', '4_8_B_diff', '4_9_R_diff', '4_9_G_diff', '4_9_B_diff', '4_10_R_diff', '4_10_G_diff', '4_10_B_diff', '4_11_R_diff', '4_11_G_diff', '4_11_B_diff', '4_12_R_diff', '4_12_G_diff', '4_12_B_diff', '4_13_R_diff', '4_13_G_diff', '4_13_B_diff', '4_14_R_diff', '4_14_G_diff', '4_14_B_diff', '4_15_R_diff', '4_15_G_diff', '4_15_B_diff', '4_16_R_diff', '4_16_G_diff', '4_16_B_diff', '4_17_R_diff', '4_17_G_diff', '4_17_B_diff', '4_18_R_diff', '4_18_G_diff', '4_18_B_diff', '4_19_R_diff', '4_19_G_diff', '4_19_B_diff', '5_6_R_diff', '5_6_G_diff', '5_6_B_diff', '5_7_R_diff', '5_7_G_diff', '5_7_B_diff', '5_8_R_diff', '5_8_G_diff', '5_8_B_diff', '5_9_R_diff', '5_9_G_diff', '5_9_B_diff', '5_10_R_diff', '5_10_G_diff', '5_10_B_diff', '5_11_R_diff', '5_11_G_diff', '5_11_B_diff', '5_12_R_diff', '5_12_G_diff', '5_12_B_diff', '5_13_R_diff', '5_13_G_diff', '5_13_B_diff', '5_14_R_diff', '5_14_G_diff', '5_14_B_diff', '5_15_R_diff', '5_15_G_diff', '5_15_B_diff', '5_16_R_diff', '5_16_G_diff', '5_16_B_diff', '5_17_R_diff', '5_17_G_diff', '5_17_B_diff', '5_18_R_diff', '5_18_G_diff', '5_18_B_diff', '5_19_R_diff', '5_19_G_diff', '5_19_B_diff', '6_7_R_diff', '6_7_G_diff', '6_7_B_diff', '6_8_R_diff', '6_8_G_diff', '6_8_B_diff', '6_9_R_diff', '6_9_G_diff', '6_9_B_diff', '6_10_R_diff', '6_10_G_diff', '6_10_B_diff', '6_11_R_diff', '6_11_G_diff', '6_11_B_diff', '6_12_R_diff', '6_12_G_diff', '6_12_B_diff', '6_13_R_diff', '6_13_G_diff', '6_13_B_diff', '6_14_R_diff', '6_14_G_diff', '6_14_B_diff', '6_15_R_diff', '6_15_G_diff', '6_15_B_diff', '6_16_R_diff', '6_16_G_diff', '6_16_B_diff', '6_17_R_diff', '6_17_G_diff', '6_17_B_diff', '6_18_R_diff', '6_18_G_diff', '6_18_B_diff', '6_19_R_diff', '6_19_G_diff', '6_19_B_diff', '7_8_R_diff', '7_8_G_diff', '7_8_B_diff', '7_9_R_diff', '7_9_G_diff', '7_9_B_diff', '7_10_R_diff', '7_10_G_diff', '7_10_B_diff', '7_11_R_diff', '7_11_G_diff', '7_11_B_diff', '7_12_R_diff', '7_12_G_diff', '7_12_B_diff', '7_13_R_diff', '7_13_G_diff', '7_13_B_diff', '7_14_R_diff', '7_14_G_diff', '7_14_B_diff', '7_15_R_diff', '7_15_G_diff', '7_15_B_diff', '7_16_R_diff', '7_16_G_diff', '7_16_B_diff', '7_17_R_diff', '7_17_G_diff', '7_17_B_diff', '7_18_R_diff', '7_18_G_diff', '7_18_B_diff', '7_19_R_diff', '7_19_G_diff', '7_19_B_diff', '8_9_R_diff', '8_9_G_diff', '8_9_B_diff', '8_10_R_diff', '8_10_G_diff', '8_10_B_diff', '8_11_R_diff', '8_11_G_diff', '8_11_B_diff', '8_12_R_diff', '8_12_G_diff', '8_12_B_diff', '8_13_R_diff', '8_13_G_diff', '8_13_B_diff', '8_14_R_diff', '8_14_G_diff', '8_14_B_diff', '8_15_R_diff', '8_15_G_diff', '8_15_B_diff', '8_16_R_diff', '8_16_G_diff', '8_16_B_diff', '8_17_R_diff', '8_17_G_diff', '8_17_B_diff', '8_18_R_diff', '8_18_G_diff', '8_18_B_diff', '8_19_R_diff', '8_19_G_diff', '8_19_B_diff', '9_10_R_diff', '9_10_G_diff', '9_10_B_diff', '9_11_R_diff', '9_11_G_diff', '9_11_B_diff', '9_12_R_diff', '9_12_G_diff', '9_12_B_diff', '9_13_R_diff', '9_13_G_diff', '9_13_B_diff', '9_14_R_diff', '9_14_G_diff', '9_14_B_diff', '9_15_R_diff', '9_15_G_diff', '9_15_B_diff', '9_16_R_diff', '9_16_G_diff', '9_16_B_diff', '9_17_R_diff', '9_17_G_diff', '9_17_B_diff', '9_18_R_diff', '9_18_G_diff', '9_18_B_diff', '9_19_R_diff', '9_19_G_diff', '9_19_B_diff', '10_11_R_diff', '10_11_G_diff', '10_11_B_diff', '10_12_R_diff', '10_12_G_diff', '10_12_B_diff', '10_13_R_diff', '10_13_G_diff', '10_13_B_diff', '10_14_R_diff', '10_14_G_diff', '10_14_B_diff', '10_15_R_diff', '10_15_G_diff', '10_15_B_diff', '10_16_R_diff', '10_16_G_diff', '10_16_B_diff', '10_17_R_diff', '10_17_G_diff', '10_17_B_diff', '10_18_R_diff', '10_18_G_diff', '10_18_B_diff', '10_19_R_diff', '10_19_G_diff', '10_19_B_diff', '11_12_R_diff', '11_12_G_diff', '11_12_B_diff', '11_13_R_diff', '11_13_G_diff', '11_13_B_diff', '11_14_R_diff', '11_14_G_diff', '11_14_B_diff', '11_15_R_diff', '11_15_G_diff', '11_15_B_diff', '11_16_R_diff', '11_16_G_diff', '11_16_B_diff', '11_17_R_diff', '11_17_G_diff', '11_17_B_diff', '11_18_R_diff', '11_18_G_diff', '11_18_B_diff', '11_19_R_diff', '11_19_G_diff', '11_19_B_diff', '12_13_R_diff', '12_13_G_diff', '12_13_B_diff', '12_14_R_diff', '12_14_G_diff', '12_14_B_diff', '12_15_R_diff', '12_15_G_diff', '12_15_B_diff', '12_16_R_diff', '12_16_G_diff', '12_16_B_diff', '12_17_R_diff', '12_17_G_diff', '12_17_B_diff', '12_18_R_diff', '12_18_G_diff', '12_18_B_diff', '12_19_R_diff', '12_19_G_diff', '12_19_B_diff', '13_14_R_diff', '13_14_G_diff', '13_14_B_diff', '13_15_R_diff', '13_15_G_diff', '13_15_B_diff', '13_16_R_diff', '13_16_G_diff', '13_16_B_diff', '13_17_R_diff', '13_17_G_diff', '13_17_B_diff', '13_18_R_diff', '13_18_G_diff', '13_18_B_diff', '13_19_R_diff', '13_19_G_diff', '13_19_B_diff', '14_15_R_diff', '14_15_G_diff', '14_15_B_diff', '14_16_R_diff', '14_16_G_diff', '14_16_B_diff', '14_17_R_diff', '14_17_G_diff', '14_17_B_diff', '14_18_R_diff', '14_18_G_diff', '14_18_B_diff', '14_19_R_diff', '14_19_G_diff', '14_19_B_diff', '15_16_R_diff', '15_16_G_diff', '15_16_B_diff', '15_17_R_diff', '15_17_G_diff', '15_17_B_diff', '15_18_R_diff', '15_18_G_diff', '15_18_B_diff', '15_19_R_diff', '15_19_G_diff', '15_19_B_diff', '16_17_R_diff', '16_17_G_diff', '16_17_B_diff', '16_18_R_diff', '16_18_G_diff', '16_18_B_diff', '16_19_R_diff', '16_19_G_diff', '16_19_B_diff', '17_18_R_diff', '17_18_G_diff', '17_18_B_diff', '17_19_R_diff', '17_19_G_diff', '17_19_B_diff', '18_19_R_diff', '18_19_G_diff', '18_19_B_diff', '0_1_H_diff', '0_1_S_diff', '0_1_V_diff', '0_2_H_diff', '0_2_S_diff', '0_2_V_diff', '0_3_H_diff', '0_3_S_diff', '0_3_V_diff', '0_4_H_diff', '0_4_S_diff', '0_4_V_diff', '0_5_H_diff', '0_5_S_diff', '0_5_V_diff', '0_6_H_diff', '0_6_S_diff', '0_6_V_diff', '0_7_H_diff', '0_7_S_diff', '0_7_V_diff', '0_8_H_diff', '0_8_S_diff', '0_8_V_diff', '0_9_H_diff', '0_9_S_diff', '0_9_V_diff', '0_10_H_diff', '0_10_S_diff', '0_10_V_diff', '0_11_H_diff', '0_11_S_diff', '0_11_V_diff', '0_12_H_diff', '0_12_S_diff', '0_12_V_diff', '0_13_H_diff', '0_13_S_diff', '0_13_V_diff', '0_14_H_diff', '0_14_S_diff', '0_14_V_diff', '0_15_H_diff', '0_15_S_diff', '0_15_V_diff', '0_16_H_diff', '0_16_S_diff', '0_16_V_diff', '0_17_H_diff', '0_17_S_diff', '0_17_V_diff', '0_18_H_diff', '0_18_S_diff', '0_18_V_diff', '0_19_H_diff', '0_19_S_diff', '0_19_V_diff', '1_2_H_diff', '1_2_S_diff', '1_2_V_diff', '1_3_H_diff', '1_3_S_diff', '1_3_V_diff', '1_4_H_diff', '1_4_S_diff', '1_4_V_diff', '1_5_H_diff', '1_5_S_diff', '1_5_V_diff', '1_6_H_diff', '1_6_S_diff', '1_6_V_diff', '1_7_H_diff', '1_7_S_diff', '1_7_V_diff', '1_8_H_diff', '1_8_S_diff', '1_8_V_diff', '1_9_H_diff', '1_9_S_diff', '1_9_V_diff', '1_10_H_diff', '1_10_S_diff', '1_10_V_diff', '1_11_H_diff', '1_11_S_diff', '1_11_V_diff', '1_12_H_diff', '1_12_S_diff', '1_12_V_diff', '1_13_H_diff', '1_13_S_diff', '1_13_V_diff', '1_14_H_diff', '1_14_S_diff', '1_14_V_diff', '1_15_H_diff', '1_15_S_diff', '1_15_V_diff', '1_16_H_diff', '1_16_S_diff', '1_16_V_diff', '1_17_H_diff', '1_17_S_diff', '1_17_V_diff', '1_18_H_diff', '1_18_S_diff', '1_18_V_diff', '1_19_H_diff', '1_19_S_diff', '1_19_V_diff', '2_3_H_diff', '2_3_S_diff', '2_3_V_diff', '2_4_H_diff', '2_4_S_diff', '2_4_V_diff', '2_5_H_diff', '2_5_S_diff', '2_5_V_diff', '2_6_H_diff', '2_6_S_diff', '2_6_V_diff', '2_7_H_diff', '2_7_S_diff', '2_7_V_diff', '2_8_H_diff', '2_8_S_diff', '2_8_V_diff', '2_9_H_diff', '2_9_S_diff', '2_9_V_diff', '2_10_H_diff', '2_10_S_diff', '2_10_V_diff', '2_11_H_diff', '2_11_S_diff', '2_11_V_diff', '2_12_H_diff', '2_12_S_diff', '2_12_V_diff', '2_13_H_diff', '2_13_S_diff', '2_13_V_diff', '2_14_H_diff', '2_14_S_diff', '2_14_V_diff', '2_15_H_diff', '2_15_S_diff', '2_15_V_diff', '2_16_H_diff', '2_16_S_diff', '2_16_V_diff', '2_17_H_diff', '2_17_S_diff', '2_17_V_diff', '2_18_H_diff', '2_18_S_diff', '2_18_V_diff', '2_19_H_diff', '2_19_S_diff', '2_19_V_diff', '3_4_H_diff', '3_4_S_diff', '3_4_V_diff', '3_5_H_diff', '3_5_S_diff', '3_5_V_diff', '3_6_H_diff', '3_6_S_diff', '3_6_V_diff', '3_7_H_diff', '3_7_S_diff', '3_7_V_diff', '3_8_H_diff', '3_8_S_diff', '3_8_V_diff', '3_9_H_diff', '3_9_S_diff', '3_9_V_diff', '3_10_H_diff', '3_10_S_diff', '3_10_V_diff', '3_11_H_diff', '3_11_S_diff', '3_11_V_diff', '3_12_H_diff', '3_12_S_diff', '3_12_V_diff', '3_13_H_diff', '3_13_S_diff', '3_13_V_diff', '3_14_H_diff', '3_14_S_diff', '3_14_V_diff', '3_15_H_diff', '3_15_S_diff', '3_15_V_diff', '3_16_H_diff', '3_16_S_diff', '3_16_V_diff', '3_17_H_diff', '3_17_S_diff', '3_17_V_diff', '3_18_H_diff', '3_18_S_diff', '3_18_V_diff', '3_19_H_diff', '3_19_S_diff', '3_19_V_diff', '4_5_H_diff', '4_5_S_diff', '4_5_V_diff', '4_6_H_diff', '4_6_S_diff', '4_6_V_diff', '4_7_H_diff', '4_7_S_diff', '4_7_V_diff', '4_8_H_diff', '4_8_S_diff', '4_8_V_diff', '4_9_H_diff', '4_9_S_diff', '4_9_V_diff', '4_10_H_diff', '4_10_S_diff', '4_10_V_diff', '4_11_H_diff', '4_11_S_diff', '4_11_V_diff', '4_12_H_diff', '4_12_S_diff', '4_12_V_diff', '4_13_H_diff', '4_13_S_diff', '4_13_V_diff', '4_14_H_diff', '4_14_S_diff', '4_14_V_diff', '4_15_H_diff', '4_15_S_diff', '4_15_V_diff', '4_16_H_diff', '4_16_S_diff', '4_16_V_diff', '4_17_H_diff', '4_17_S_diff', '4_17_V_diff', '4_18_H_diff', '4_18_S_diff', '4_18_V_diff', '4_19_H_diff', '4_19_S_diff', '4_19_V_diff', '5_6_H_diff', '5_6_S_diff', '5_6_V_diff', '5_7_H_diff', '5_7_S_diff', '5_7_V_diff', '5_8_H_diff', '5_8_S_diff', '5_8_V_diff', '5_9_H_diff', '5_9_S_diff', '5_9_V_diff', '5_10_H_diff', '5_10_S_diff', '5_10_V_diff', '5_11_H_diff', '5_11_S_diff', '5_11_V_diff', '5_12_H_diff', '5_12_S_diff', '5_12_V_diff', '5_13_H_diff', '5_13_S_diff', '5_13_V_diff', '5_14_H_diff', '5_14_S_diff', '5_14_V_diff', '5_15_H_diff', '5_15_S_diff', '5_15_V_diff', '5_16_H_diff', '5_16_S_diff', '5_16_V_diff', '5_17_H_diff', '5_17_S_diff', '5_17_V_diff', '5_18_H_diff', '5_18_S_diff', '5_18_V_diff', '5_19_H_diff', '5_19_S_diff', '5_19_V_diff', '6_7_H_diff', '6_7_S_diff', '6_7_V_diff', '6_8_H_diff', '6_8_S_diff', '6_8_V_diff', '6_9_H_diff', '6_9_S_diff', '6_9_V_diff', '6_10_H_diff', '6_10_S_diff', '6_10_V_diff', '6_11_H_diff', '6_11_S_diff', '6_11_V_diff', '6_12_H_diff', '6_12_S_diff', '6_12_V_diff', '6_13_H_diff', '6_13_S_diff', '6_13_V_diff', '6_14_H_diff', '6_14_S_diff', '6_14_V_diff', '6_15_H_diff', '6_15_S_diff', '6_15_V_diff', '6_16_H_diff', '6_16_S_diff', '6_16_V_diff', '6_17_H_diff', '6_17_S_diff', '6_17_V_diff', '6_18_H_diff', '6_18_S_diff', '6_18_V_diff', '6_19_H_diff', '6_19_S_diff', '6_19_V_diff', '7_8_H_diff', '7_8_S_diff', '7_8_V_diff', '7_9_H_diff', '7_9_S_diff', '7_9_V_diff', '7_10_H_diff', '7_10_S_diff', '7_10_V_diff', '7_11_H_diff', '7_11_S_diff', '7_11_V_diff', '7_12_H_diff', '7_12_S_diff', '7_12_V_diff', '7_13_H_diff', '7_13_S_diff', '7_13_V_diff', '7_14_H_diff', '7_14_S_diff', '7_14_V_diff', '7_15_H_diff', '7_15_S_diff', '7_15_V_diff', '7_16_H_diff', '7_16_S_diff', '7_16_V_diff', '7_17_H_diff', '7_17_S_diff', '7_17_V_diff', '7_18_H_diff', '7_18_S_diff', '7_18_V_diff', '7_19_H_diff', '7_19_S_diff', '7_19_V_diff', '8_9_H_diff', '8_9_S_diff', '8_9_V_diff', '8_10_H_diff', '8_10_S_diff', '8_10_V_diff', '8_11_H_diff', '8_11_S_diff', '8_11_V_diff', '8_12_H_diff', '8_12_S_diff', '8_12_V_diff', '8_13_H_diff', '8_13_S_diff', '8_13_V_diff', '8_14_H_diff', '8_14_S_diff', '8_14_V_diff', '8_15_H_diff', '8_15_S_diff', '8_15_V_diff', '8_16_H_diff', '8_16_S_diff', '8_16_V_diff', '8_17_H_diff', '8_17_S_diff', '8_17_V_diff', '8_18_H_diff', '8_18_S_diff', '8_18_V_diff', '8_19_H_diff', '8_19_S_diff', '8_19_V_diff', '9_10_H_diff', '9_10_S_diff', '9_10_V_diff', '9_11_H_diff', '9_11_S_diff', '9_11_V_diff', '9_12_H_diff', '9_12_S_diff', '9_12_V_diff', '9_13_H_diff', '9_13_S_diff', '9_13_V_diff', '9_14_H_diff', '9_14_S_diff', '9_14_V_diff', '9_15_H_diff', '9_15_S_diff', '9_15_V_diff', '9_16_H_diff', '9_16_S_diff', '9_16_V_diff', '9_17_H_diff', '9_17_S_diff', '9_17_V_diff', '9_18_H_diff', '9_18_S_diff', '9_18_V_diff', '9_19_H_diff', '9_19_S_diff', '9_19_V_diff', '10_11_H_diff', '10_11_S_diff', '10_11_V_diff', '10_12_H_diff', '10_12_S_diff', '10_12_V_diff', '10_13_H_diff', '10_13_S_diff', '10_13_V_diff', '10_14_H_diff', '10_14_S_diff', '10_14_V_diff', '10_15_H_diff', '10_15_S_diff', '10_15_V_diff', '10_16_H_diff', '10_16_S_diff', '10_16_V_diff', '10_17_H_diff', '10_17_S_diff', '10_17_V_diff', '10_18_H_diff', '10_18_S_diff', '10_18_V_diff', '10_19_H_diff', '10_19_S_diff', '10_19_V_diff', '11_12_H_diff', '11_12_S_diff', '11_12_V_diff', '11_13_H_diff', '11_13_S_diff', '11_13_V_diff', '11_14_H_diff', '11_14_S_diff', '11_14_V_diff', '11_15_H_diff', '11_15_S_diff', '11_15_V_diff', '11_16_H_diff', '11_16_S_diff', '11_16_V_diff', '11_17_H_diff', '11_17_S_diff', '11_17_V_diff', '11_18_H_diff', '11_18_S_diff', '11_18_V_diff', '11_19_H_diff', '11_19_S_diff', '11_19_V_diff', '12_13_H_diff', '12_13_S_diff', '12_13_V_diff', '12_14_H_diff', '12_14_S_diff', '12_14_V_diff', '12_15_H_diff', '12_15_S_diff', '12_15_V_diff', '12_16_H_diff', '12_16_S_diff', '12_16_V_diff', '12_17_H_diff', '12_17_S_diff', '12_17_V_diff', '12_18_H_diff', '12_18_S_diff', '12_18_V_diff', '12_19_H_diff', '12_19_S_diff', '12_19_V_diff', '13_14_H_diff', '13_14_S_diff', '13_14_V_diff', '13_15_H_diff', '13_15_S_diff', '13_15_V_diff', '13_16_H_diff', '13_16_S_diff', '13_16_V_diff', '13_17_H_diff', '13_17_S_diff', '13_17_V_diff', '13_18_H_diff', '13_18_S_diff', '13_18_V_diff', '13_19_H_diff', '13_19_S_diff', '13_19_V_diff', '14_15_H_diff', '14_15_S_diff', '14_15_V_diff', '14_16_H_diff', '14_16_S_diff', '14_16_V_diff', '14_17_H_diff', '14_17_S_diff', '14_17_V_diff', '14_18_H_diff', '14_18_S_diff', '14_18_V_diff', '14_19_H_diff', '14_19_S_diff', '14_19_V_diff', '15_16_H_diff', '15_16_S_diff', '15_16_V_diff', '15_17_H_diff', '15_17_S_diff', '15_17_V_diff', '15_18_H_diff', '15_18_S_diff', '15_18_V_diff', '15_19_H_diff', '15_19_S_diff', '15_19_V_diff', '16_17_H_diff', '16_17_S_diff', '16_17_V_diff', '16_18_H_diff', '16_18_S_diff', '16_18_V_diff', '16_19_H_diff', '16_19_S_diff', '16_19_V_diff', '17_18_H_diff', '17_18_S_diff', '17_18_V_diff', '17_19_H_diff', '17_19_S_diff', '17_19_V_diff', '18_19_H_diff', '18_19_S_diff', '18_19_V_diff', '0_1_L_diff', '0_1_a_diff', '0_1_b_diff', '0_2_L_diff', '0_2_a_diff', '0_2_b_diff', '0_3_L_diff', '0_3_a_diff', '0_3_b_diff', '0_4_L_diff', '0_4_a_diff', '0_4_b_diff', '0_5_L_diff', '0_5_a_diff', '0_5_b_diff', '0_6_L_diff', '0_6_a_diff', '0_6_b_diff', '0_7_L_diff', '0_7_a_diff', '0_7_b_diff', '0_8_L_diff', '0_8_a_diff', '0_8_b_diff', '0_9_L_diff', '0_9_a_diff', '0_9_b_diff', '0_10_L_diff', '0_10_a_diff', '0_10_b_diff', '0_11_L_diff', '0_11_a_diff', '0_11_b_diff', '0_12_L_diff', '0_12_a_diff', '0_12_b_diff', '0_13_L_diff', '0_13_a_diff', '0_13_b_diff', '0_14_L_diff', '0_14_a_diff', '0_14_b_diff', '0_15_L_diff', '0_15_a_diff', '0_15_b_diff', '0_16_L_diff', '0_16_a_diff', '0_16_b_diff', '0_17_L_diff', '0_17_a_diff', '0_17_b_diff', '0_18_L_diff', '0_18_a_diff', '0_18_b_diff', '0_19_L_diff', '0_19_a_diff', '0_19_b_diff', '1_2_L_diff', '1_2_a_diff', '1_2_b_diff', '1_3_L_diff', '1_3_a_diff', '1_3_b_diff', '1_4_L_diff', '1_4_a_diff', '1_4_b_diff', '1_5_L_diff', '1_5_a_diff', '1_5_b_diff', '1_6_L_diff', '1_6_a_diff', '1_6_b_diff', '1_7_L_diff', '1_7_a_diff', '1_7_b_diff', '1_8_L_diff', '1_8_a_diff', '1_8_b_diff', '1_9_L_diff', '1_9_a_diff', '1_9_b_diff', '1_10_L_diff', '1_10_a_diff', '1_10_b_diff', '1_11_L_diff', '1_11_a_diff', '1_11_b_diff', '1_12_L_diff', '1_12_a_diff', '1_12_b_diff', '1_13_L_diff', '1_13_a_diff', '1_13_b_diff', '1_14_L_diff', '1_14_a_diff', '1_14_b_diff', '1_15_L_diff', '1_15_a_diff', '1_15_b_diff', '1_16_L_diff', '1_16_a_diff', '1_16_b_diff', '1_17_L_diff', '1_17_a_diff', '1_17_b_diff', '1_18_L_diff', '1_18_a_diff', '1_18_b_diff', '1_19_L_diff', '1_19_a_diff', '1_19_b_diff', '2_3_L_diff', '2_3_a_diff', '2_3_b_diff', '2_4_L_diff', '2_4_a_diff', '2_4_b_diff', '2_5_L_diff', '2_5_a_diff', '2_5_b_diff', '2_6_L_diff', '2_6_a_diff', '2_6_b_diff', '2_7_L_diff', '2_7_a_diff', '2_7_b_diff', '2_8_L_diff', '2_8_a_diff', '2_8_b_diff', '2_9_L_diff', '2_9_a_diff', '2_9_b_diff', '2_10_L_diff', '2_10_a_diff', '2_10_b_diff', '2_11_L_diff', '2_11_a_diff', '2_11_b_diff', '2_12_L_diff', '2_12_a_diff', '2_12_b_diff', '2_13_L_diff', '2_13_a_diff', '2_13_b_diff', '2_14_L_diff', '2_14_a_diff', '2_14_b_diff', '2_15_L_diff', '2_15_a_diff', '2_15_b_diff', '2_16_L_diff', '2_16_a_diff', '2_16_b_diff', '2_17_L_diff', '2_17_a_diff', '2_17_b_diff', '2_18_L_diff', '2_18_a_diff', '2_18_b_diff', '2_19_L_diff', '2_19_a_diff', '2_19_b_diff', '3_4_L_diff', '3_4_a_diff', '3_4_b_diff', '3_5_L_diff', '3_5_a_diff', '3_5_b_diff', '3_6_L_diff', '3_6_a_diff', '3_6_b_diff', '3_7_L_diff', '3_7_a_diff', '3_7_b_diff', '3_8_L_diff', '3_8_a_diff', '3_8_b_diff', '3_9_L_diff', '3_9_a_diff', '3_9_b_diff', '3_10_L_diff', '3_10_a_diff', '3_10_b_diff', '3_11_L_diff', '3_11_a_diff', '3_11_b_diff', '3_12_L_diff', '3_12_a_diff', '3_12_b_diff', '3_13_L_diff', '3_13_a_diff', '3_13_b_diff', '3_14_L_diff', '3_14_a_diff', '3_14_b_diff', '3_15_L_diff', '3_15_a_diff', '3_15_b_diff', '3_16_L_diff', '3_16_a_diff', '3_16_b_diff', '3_17_L_diff', '3_17_a_diff', '3_17_b_diff', '3_18_L_diff', '3_18_a_diff', '3_18_b_diff', '3_19_L_diff', '3_19_a_diff', '3_19_b_diff', '4_5_L_diff', '4_5_a_diff', '4_5_b_diff', '4_6_L_diff', '4_6_a_diff', '4_6_b_diff', '4_7_L_diff', '4_7_a_diff', '4_7_b_diff', '4_8_L_diff', '4_8_a_diff', '4_8_b_diff', '4_9_L_diff', '4_9_a_diff', '4_9_b_diff', '4_10_L_diff', '4_10_a_diff', '4_10_b_diff', '4_11_L_diff', '4_11_a_diff', '4_11_b_diff', '4_12_L_diff', '4_12_a_diff', '4_12_b_diff', '4_13_L_diff', '4_13_a_diff', '4_13_b_diff', '4_14_L_diff', '4_14_a_diff', '4_14_b_diff', '4_15_L_diff', '4_15_a_diff', '4_15_b_diff', '4_16_L_diff', '4_16_a_diff', '4_16_b_diff', '4_17_L_diff', '4_17_a_diff', '4_17_b_diff', '4_18_L_diff', '4_18_a_diff', '4_18_b_diff', '4_19_L_diff', '4_19_a_diff', '4_19_b_diff', '5_6_L_diff', '5_6_a_diff', '5_6_b_diff', '5_7_L_diff', '5_7_a_diff', '5_7_b_diff', '5_8_L_diff', '5_8_a_diff', '5_8_b_diff', '5_9_L_diff', '5_9_a_diff', '5_9_b_diff', '5_10_L_diff', '5_10_a_diff', '5_10_b_diff', '5_11_L_diff', '5_11_a_diff', '5_11_b_diff', '5_12_L_diff', '5_12_a_diff', '5_12_b_diff', '5_13_L_diff', '5_13_a_diff', '5_13_b_diff', '5_14_L_diff', '5_14_a_diff', '5_14_b_diff', '5_15_L_diff', '5_15_a_diff', '5_15_b_diff', '5_16_L_diff', '5_16_a_diff', '5_16_b_diff', '5_17_L_diff', '5_17_a_diff', '5_17_b_diff', '5_18_L_diff', '5_18_a_diff', '5_18_b_diff', '5_19_L_diff', '5_19_a_diff', '5_19_b_diff', '6_7_L_diff', '6_7_a_diff', '6_7_b_diff', '6_8_L_diff', '6_8_a_diff', '6_8_b_diff', '6_9_L_diff', '6_9_a_diff', '6_9_b_diff', '6_10_L_diff', '6_10_a_diff', '6_10_b_diff', '6_11_L_diff', '6_11_a_diff', '6_11_b_diff', '6_12_L_diff', '6_12_a_diff', '6_12_b_diff', '6_13_L_diff', '6_13_a_diff', '6_13_b_diff', '6_14_L_diff', '6_14_a_diff', '6_14_b_diff', '6_15_L_diff', '6_15_a_diff', '6_15_b_diff', '6_16_L_diff', '6_16_a_diff', '6_16_b_diff', '6_17_L_diff', '6_17_a_diff', '6_17_b_diff', '6_18_L_diff', '6_18_a_diff', '6_18_b_diff', '6_19_L_diff', '6_19_a_diff', '6_19_b_diff', '7_8_L_diff', '7_8_a_diff', '7_8_b_diff', '7_9_L_diff', '7_9_a_diff', '7_9_b_diff', '7_10_L_diff', '7_10_a_diff', '7_10_b_diff', '7_11_L_diff', '7_11_a_diff', '7_11_b_diff', '7_12_L_diff', '7_12_a_diff', '7_12_b_diff', '7_13_L_diff', '7_13_a_diff', '7_13_b_diff', '7_14_L_diff', '7_14_a_diff', '7_14_b_diff', '7_15_L_diff', '7_15_a_diff', '7_15_b_diff', '7_16_L_diff', '7_16_a_diff', '7_16_b_diff', '7_17_L_diff', '7_17_a_diff', '7_17_b_diff', '7_18_L_diff', '7_18_a_diff', '7_18_b_diff', '7_19_L_diff', '7_19_a_diff', '7_19_b_diff', '8_9_L_diff', '8_9_a_diff', '8_9_b_diff', '8_10_L_diff', '8_10_a_diff', '8_10_b_diff', '8_11_L_diff', '8_11_a_diff', '8_11_b_diff', '8_12_L_diff', '8_12_a_diff', '8_12_b_diff', '8_13_L_diff', '8_13_a_diff', '8_13_b_diff', '8_14_L_diff', '8_14_a_diff', '8_14_b_diff', '8_15_L_diff', '8_15_a_diff', '8_15_b_diff', '8_16_L_diff', '8_16_a_diff', '8_16_b_diff', '8_17_L_diff', '8_17_a_diff', '8_17_b_diff', '8_18_L_diff', '8_18_a_diff', '8_18_b_diff', '8_19_L_diff', '8_19_a_diff', '8_19_b_diff', '9_10_L_diff', '9_10_a_diff', '9_10_b_diff', '9_11_L_diff', '9_11_a_diff', '9_11_b_diff', '9_12_L_diff', '9_12_a_diff', '9_12_b_diff', '9_13_L_diff', '9_13_a_diff', '9_13_b_diff', '9_14_L_diff', '9_14_a_diff', '9_14_b_diff', '9_15_L_diff', '9_15_a_diff', '9_15_b_diff', '9_16_L_diff', '9_16_a_diff', '9_16_b_diff', '9_17_L_diff', '9_17_a_diff', '9_17_b_diff', '9_18_L_diff', '9_18_a_diff', '9_18_b_diff', '9_19_L_diff', '9_19_a_diff', '9_19_b_diff', '10_11_L_diff', '10_11_a_diff', '10_11_b_diff', '10_12_L_diff', '10_12_a_diff', '10_12_b_diff', '10_13_L_diff', '10_13_a_diff', '10_13_b_diff', '10_14_L_diff', '10_14_a_diff', '10_14_b_diff', '10_15_L_diff', '10_15_a_diff', '10_15_b_diff', '10_16_L_diff', '10_16_a_diff', '10_16_b_diff', '10_17_L_diff', '10_17_a_diff', '10_17_b_diff', '10_18_L_diff', '10_18_a_diff', '10_18_b_diff', '10_19_L_diff', '10_19_a_diff', '10_19_b_diff', '11_12_L_diff', '11_12_a_diff', '11_12_b_diff', '11_13_L_diff', '11_13_a_diff', '11_13_b_diff', '11_14_L_diff', '11_14_a_diff', '11_14_b_diff', '11_15_L_diff', '11_15_a_diff', '11_15_b_diff', '11_16_L_diff', '11_16_a_diff', '11_16_b_diff', '11_17_L_diff', '11_17_a_diff', '11_17_b_diff', '11_18_L_diff', '11_18_a_diff', '11_18_b_diff', '11_19_L_diff', '11_19_a_diff', '11_19_b_diff', '12_13_L_diff', '12_13_a_diff', '12_13_b_diff', '12_14_L_diff', '12_14_a_diff', '12_14_b_diff', '12_15_L_diff', '12_15_a_diff', '12_15_b_diff', '12_16_L_diff', '12_16_a_diff', '12_16_b_diff', '12_17_L_diff', '12_17_a_diff', '12_17_b_diff', '12_18_L_diff', '12_18_a_diff', '12_18_b_diff', '12_19_L_diff', '12_19_a_diff', '12_19_b_diff', '13_14_L_diff', '13_14_a_diff', '13_14_b_diff', '13_15_L_diff', '13_15_a_diff', '13_15_b_diff', '13_16_L_diff', '13_16_a_diff', '13_16_b_diff', '13_17_L_diff', '13_17_a_diff', '13_17_b_diff', '13_18_L_diff', '13_18_a_diff', '13_18_b_diff', '13_19_L_diff', '13_19_a_diff', '13_19_b_diff', '14_15_L_diff', '14_15_a_diff', '14_15_b_diff', '14_16_L_diff', '14_16_a_diff', '14_16_b_diff', '14_17_L_diff', '14_17_a_diff', '14_17_b_diff', '14_18_L_diff', '14_18_a_diff', '14_18_b_diff', '14_19_L_diff', '14_19_a_diff', '14_19_b_diff', '15_16_L_diff', '15_16_a_diff', '15_16_b_diff', '15_17_L_diff', '15_17_a_diff', '15_17_b_diff', '15_18_L_diff', '15_18_a_diff', '15_18_b_diff', '15_19_L_diff', '15_19_a_diff', '15_19_b_diff', '16_17_L_diff', '16_17_a_diff', '16_17_b_diff', '16_18_L_diff', '16_18_a_diff', '16_18_b_diff', '16_19_L_diff', '16_19_a_diff', '16_19_b_diff', '17_18_L_diff', '17_18_a_diff', '17_18_b_diff', '17_19_L_diff', '17_19_a_diff', '17_19_b_diff', '18_19_L_diff', '18_19_a_diff', '18_19_b_diff']\n",
      "['region_0_R', 'region_0_G', 'region_0_B', 'region_1_R', 'region_1_G', 'region_1_B', 'region_2_R', 'region_2_G', 'region_2_B', 'region_3_R', 'region_3_G', 'region_3_B', 'region_4_R', 'region_4_G', 'region_4_B', 'region_5_R', 'region_5_G', 'region_5_B', 'region_6_R', 'region_6_G', 'region_6_B', 'region_7_R', 'region_7_G', 'region_7_B', 'region_8_R', 'region_8_G', 'region_8_B', 'region_9_R', 'region_9_G', 'region_9_B', 'region_10_R', 'region_10_G', 'region_10_B', 'region_11_R', 'region_11_G', 'region_11_B', 'region_12_R', 'region_12_G', 'region_12_B', 'region_13_R', 'region_13_G', 'region_13_B', 'region_14_R', 'region_14_G', 'region_14_B', 'region_15_R', 'region_15_G', 'region_15_B', 'region_16_R', 'region_16_G', 'region_16_B', 'region_17_R', 'region_17_G', 'region_17_B', 'region_18_R', 'region_18_G', 'region_18_B', 'region_19_R', 'region_19_G', 'region_19_B', 'region_0_H', 'region_0_S', 'region_0_V', 'region_1_H', 'region_1_S', 'region_1_V', 'region_2_H', 'region_2_S', 'region_2_V', 'region_3_H', 'region_3_S', 'region_3_V', 'region_4_H', 'region_4_S', 'region_4_V', 'region_5_H', 'region_5_S', 'region_5_V', 'region_6_H', 'region_6_S', 'region_6_V', 'region_7_H', 'region_7_S', 'region_7_V', 'region_8_H', 'region_8_S', 'region_8_V', 'region_9_H', 'region_9_S', 'region_9_V', 'region_10_H', 'region_10_S', 'region_10_V', 'region_11_H', 'region_11_S', 'region_11_V', 'region_12_H', 'region_12_S', 'region_12_V', 'region_13_H', 'region_13_S', 'region_13_V', 'region_14_H', 'region_14_S', 'region_14_V', 'region_15_H', 'region_15_S', 'region_15_V', 'region_16_H', 'region_16_S', 'region_16_V', 'region_17_H', 'region_17_S', 'region_17_V', 'region_18_H', 'region_18_S', 'region_18_V', 'region_19_H', 'region_19_S', 'region_19_V', 'region_0_L', 'region_0_a', 'region_0_b', 'region_1_L', 'region_1_a', 'region_1_b', 'region_2_L', 'region_2_a', 'region_2_b', 'region_3_L', 'region_3_a', 'region_3_b', 'region_4_L', 'region_4_a', 'region_4_b', 'region_5_L', 'region_5_a', 'region_5_b', 'region_6_L', 'region_6_a', 'region_6_b', 'region_7_L', 'region_7_a', 'region_7_b', 'region_8_L', 'region_8_a', 'region_8_b', 'region_9_L', 'region_9_a', 'region_9_b', 'region_10_L', 'region_10_a', 'region_10_b', 'region_11_L', 'region_11_a', 'region_11_b', 'region_12_L', 'region_12_a', 'region_12_b', 'region_13_L', 'region_13_a', 'region_13_b', 'region_14_L', 'region_14_a', 'region_14_b', 'region_15_L', 'region_15_a', 'region_15_b', 'region_16_L', 'region_16_a', 'region_16_b', 'region_17_L', 'region_17_a', 'region_17_b', 'region_18_L', 'region_18_a', 'region_18_b', 'region_19_L', 'region_19_a', 'region_19_b', '0_1_R_diff', '0_1_G_diff', '0_1_B_diff', '0_2_R_diff', '0_2_G_diff', '0_2_B_diff', '0_3_R_diff', '0_3_G_diff', '0_3_B_diff', '0_4_R_diff', '0_4_G_diff', '0_4_B_diff', '0_5_R_diff', '0_5_G_diff', '0_5_B_diff', '0_6_R_diff', '0_6_G_diff', '0_6_B_diff', '0_7_R_diff', '0_7_G_diff', '0_7_B_diff', '0_8_R_diff', '0_8_G_diff', '0_8_B_diff', '0_9_R_diff', '0_9_G_diff', '0_9_B_diff', '0_10_R_diff', '0_10_G_diff', '0_10_B_diff', '0_11_R_diff', '0_11_G_diff', '0_11_B_diff', '0_12_R_diff', '0_12_G_diff', '0_12_B_diff', '0_13_R_diff', '0_13_G_diff', '0_13_B_diff', '0_14_R_diff', '0_14_G_diff', '0_14_B_diff', '0_15_R_diff', '0_15_G_diff', '0_15_B_diff', '0_16_R_diff', '0_16_G_diff', '0_16_B_diff', '0_17_R_diff', '0_17_G_diff', '0_17_B_diff', '0_18_R_diff', '0_18_G_diff', '0_18_B_diff', '0_19_R_diff', '0_19_G_diff', '0_19_B_diff', '1_2_R_diff', '1_2_G_diff', '1_2_B_diff', '1_3_R_diff', '1_3_G_diff', '1_3_B_diff', '1_4_R_diff', '1_4_G_diff', '1_4_B_diff', '1_5_R_diff', '1_5_G_diff', '1_5_B_diff', '1_6_R_diff', '1_6_G_diff', '1_6_B_diff', '1_7_R_diff', '1_7_G_diff', '1_7_B_diff', '1_8_R_diff', '1_8_G_diff', '1_8_B_diff', '1_9_R_diff', '1_9_G_diff', '1_9_B_diff', '1_10_R_diff', '1_10_G_diff', '1_10_B_diff', '1_11_R_diff', '1_11_G_diff', '1_11_B_diff', '1_12_R_diff', '1_12_G_diff', '1_12_B_diff', '1_13_R_diff', '1_13_G_diff', '1_13_B_diff', '1_14_R_diff', '1_14_G_diff', '1_14_B_diff', '1_15_R_diff', '1_15_G_diff', '1_15_B_diff', '1_16_R_diff', '1_16_G_diff', '1_16_B_diff', '1_17_R_diff', '1_17_G_diff', '1_17_B_diff', '1_18_R_diff', '1_18_G_diff', '1_18_B_diff', '1_19_R_diff', '1_19_G_diff', '1_19_B_diff', '2_3_R_diff', '2_3_G_diff', '2_3_B_diff', '2_4_R_diff', '2_4_G_diff', '2_4_B_diff', '2_5_R_diff', '2_5_G_diff', '2_5_B_diff', '2_6_R_diff', '2_6_G_diff', '2_6_B_diff', '2_7_R_diff', '2_7_G_diff', '2_7_B_diff', '2_8_R_diff', '2_8_G_diff', '2_8_B_diff', '2_9_R_diff', '2_9_G_diff', '2_9_B_diff', '2_10_R_diff', '2_10_G_diff', '2_10_B_diff', '2_11_R_diff', '2_11_G_diff', '2_11_B_diff', '2_12_R_diff', '2_12_G_diff', '2_12_B_diff', '2_13_R_diff', '2_13_G_diff', '2_13_B_diff', '2_14_R_diff', '2_14_G_diff', '2_14_B_diff', '2_15_R_diff', '2_15_G_diff', '2_15_B_diff', '2_16_R_diff', '2_16_G_diff', '2_16_B_diff', '2_17_R_diff', '2_17_G_diff', '2_17_B_diff', '2_18_R_diff', '2_18_G_diff', '2_18_B_diff', '2_19_R_diff', '2_19_G_diff', '2_19_B_diff', '3_4_R_diff', '3_4_G_diff', '3_4_B_diff', '3_5_R_diff', '3_5_G_diff', '3_5_B_diff', '3_6_R_diff', '3_6_G_diff', '3_6_B_diff', '3_7_R_diff', '3_7_G_diff', '3_7_B_diff', '3_8_R_diff', '3_8_G_diff', '3_8_B_diff', '3_9_R_diff', '3_9_G_diff', '3_9_B_diff', '3_10_R_diff', '3_10_G_diff', '3_10_B_diff', '3_11_R_diff', '3_11_G_diff', '3_11_B_diff', '3_12_R_diff', '3_12_G_diff', '3_12_B_diff', '3_13_R_diff', '3_13_G_diff', '3_13_B_diff', '3_14_R_diff', '3_14_G_diff', '3_14_B_diff', '3_15_R_diff', '3_15_G_diff', '3_15_B_diff', '3_16_R_diff', '3_16_G_diff', '3_16_B_diff', '3_17_R_diff', '3_17_G_diff', '3_17_B_diff', '3_18_R_diff', '3_18_G_diff', '3_18_B_diff', '3_19_R_diff', '3_19_G_diff', '3_19_B_diff', '4_5_R_diff', '4_5_G_diff', '4_5_B_diff', '4_6_R_diff', '4_6_G_diff', '4_6_B_diff', '4_7_R_diff', '4_7_G_diff', '4_7_B_diff', '4_8_R_diff', '4_8_G_diff', '4_8_B_diff', '4_9_R_diff', '4_9_G_diff', '4_9_B_diff', '4_10_R_diff', '4_10_G_diff', '4_10_B_diff', '4_11_R_diff', '4_11_G_diff', '4_11_B_diff', '4_12_R_diff', '4_12_G_diff', '4_12_B_diff', '4_13_R_diff', '4_13_G_diff', '4_13_B_diff', '4_14_R_diff', '4_14_G_diff', '4_14_B_diff', '4_15_R_diff', '4_15_G_diff', '4_15_B_diff', '4_16_R_diff', '4_16_G_diff', '4_16_B_diff', '4_17_R_diff', '4_17_G_diff', '4_17_B_diff', '4_18_R_diff', '4_18_G_diff', '4_18_B_diff', '4_19_R_diff', '4_19_G_diff', '4_19_B_diff', '5_6_R_diff', '5_6_G_diff', '5_6_B_diff', '5_7_R_diff', '5_7_G_diff', '5_7_B_diff', '5_8_R_diff', '5_8_G_diff', '5_8_B_diff', '5_9_R_diff', '5_9_G_diff', '5_9_B_diff', '5_10_R_diff', '5_10_G_diff', '5_10_B_diff', '5_11_R_diff', '5_11_G_diff', '5_11_B_diff', '5_12_R_diff', '5_12_G_diff', '5_12_B_diff', '5_13_R_diff', '5_13_G_diff', '5_13_B_diff', '5_14_R_diff', '5_14_G_diff', '5_14_B_diff', '5_15_R_diff', '5_15_G_diff', '5_15_B_diff', '5_16_R_diff', '5_16_G_diff', '5_16_B_diff', '5_17_R_diff', '5_17_G_diff', '5_17_B_diff', '5_18_R_diff', '5_18_G_diff', '5_18_B_diff', '5_19_R_diff', '5_19_G_diff', '5_19_B_diff', '6_7_R_diff', '6_7_G_diff', '6_7_B_diff', '6_8_R_diff', '6_8_G_diff', '6_8_B_diff', '6_9_R_diff', '6_9_G_diff', '6_9_B_diff', '6_10_R_diff', '6_10_G_diff', '6_10_B_diff', '6_11_R_diff', '6_11_G_diff', '6_11_B_diff', '6_12_R_diff', '6_12_G_diff', '6_12_B_diff', '6_13_R_diff', '6_13_G_diff', '6_13_B_diff', '6_14_R_diff', '6_14_G_diff', '6_14_B_diff', '6_15_R_diff', '6_15_G_diff', '6_15_B_diff', '6_16_R_diff', '6_16_G_diff', '6_16_B_diff', '6_17_R_diff', '6_17_G_diff', '6_17_B_diff', '6_18_R_diff', '6_18_G_diff', '6_18_B_diff', '6_19_R_diff', '6_19_G_diff', '6_19_B_diff', '7_8_R_diff', '7_8_G_diff', '7_8_B_diff', '7_9_R_diff', '7_9_G_diff', '7_9_B_diff', '7_10_R_diff', '7_10_G_diff', '7_10_B_diff', '7_11_R_diff', '7_11_G_diff', '7_11_B_diff', '7_12_R_diff', '7_12_G_diff', '7_12_B_diff', '7_13_R_diff', '7_13_G_diff', '7_13_B_diff', '7_14_R_diff', '7_14_G_diff', '7_14_B_diff', '7_15_R_diff', '7_15_G_diff', '7_15_B_diff', '7_16_R_diff', '7_16_G_diff', '7_16_B_diff', '7_17_R_diff', '7_17_G_diff', '7_17_B_diff', '7_18_R_diff', '7_18_G_diff', '7_18_B_diff', '7_19_R_diff', '7_19_G_diff', '7_19_B_diff', '8_9_R_diff', '8_9_G_diff', '8_9_B_diff', '8_10_R_diff', '8_10_G_diff', '8_10_B_diff', '8_11_R_diff', '8_11_G_diff', '8_11_B_diff', '8_12_R_diff', '8_12_G_diff', '8_12_B_diff', '8_13_R_diff', '8_13_G_diff', '8_13_B_diff', '8_14_R_diff', '8_14_G_diff', '8_14_B_diff', '8_15_R_diff', '8_15_G_diff', '8_15_B_diff', '8_16_R_diff', '8_16_G_diff', '8_16_B_diff', '8_17_R_diff', '8_17_G_diff', '8_17_B_diff', '8_18_R_diff', '8_18_G_diff', '8_18_B_diff', '8_19_R_diff', '8_19_G_diff', '8_19_B_diff', '9_10_R_diff', '9_10_G_diff', '9_10_B_diff', '9_11_R_diff', '9_11_G_diff', '9_11_B_diff', '9_12_R_diff', '9_12_G_diff', '9_12_B_diff', '9_13_R_diff', '9_13_G_diff', '9_13_B_diff', '9_14_R_diff', '9_14_G_diff', '9_14_B_diff', '9_15_R_diff', '9_15_G_diff', '9_15_B_diff', '9_16_R_diff', '9_16_G_diff', '9_16_B_diff', '9_17_R_diff', '9_17_G_diff', '9_17_B_diff', '9_18_R_diff', '9_18_G_diff', '9_18_B_diff', '9_19_R_diff', '9_19_G_diff', '9_19_B_diff', '10_11_R_diff', '10_11_G_diff', '10_11_B_diff', '10_12_R_diff', '10_12_G_diff', '10_12_B_diff', '10_13_R_diff', '10_13_G_diff', '10_13_B_diff', '10_14_R_diff', '10_14_G_diff', '10_14_B_diff', '10_15_R_diff', '10_15_G_diff', '10_15_B_diff', '10_16_R_diff', '10_16_G_diff', '10_16_B_diff', '10_17_R_diff', '10_17_G_diff', '10_17_B_diff', '10_18_R_diff', '10_18_G_diff', '10_18_B_diff', '10_19_R_diff', '10_19_G_diff', '10_19_B_diff', '11_12_R_diff', '11_12_G_diff', '11_12_B_diff', '11_13_R_diff', '11_13_G_diff', '11_13_B_diff', '11_14_R_diff', '11_14_G_diff', '11_14_B_diff', '11_15_R_diff', '11_15_G_diff', '11_15_B_diff', '11_16_R_diff', '11_16_G_diff', '11_16_B_diff', '11_17_R_diff', '11_17_G_diff', '11_17_B_diff', '11_18_R_diff', '11_18_G_diff', '11_18_B_diff', '11_19_R_diff', '11_19_G_diff', '11_19_B_diff', '12_13_R_diff', '12_13_G_diff', '12_13_B_diff', '12_14_R_diff', '12_14_G_diff', '12_14_B_diff', '12_15_R_diff', '12_15_G_diff', '12_15_B_diff', '12_16_R_diff', '12_16_G_diff', '12_16_B_diff', '12_17_R_diff', '12_17_G_diff', '12_17_B_diff', '12_18_R_diff', '12_18_G_diff', '12_18_B_diff', '12_19_R_diff', '12_19_G_diff', '12_19_B_diff', '13_14_R_diff', '13_14_G_diff', '13_14_B_diff', '13_15_R_diff', '13_15_G_diff', '13_15_B_diff', '13_16_R_diff', '13_16_G_diff', '13_16_B_diff', '13_17_R_diff', '13_17_G_diff', '13_17_B_diff', '13_18_R_diff', '13_18_G_diff', '13_18_B_diff', '13_19_R_diff', '13_19_G_diff', '13_19_B_diff', '14_15_R_diff', '14_15_G_diff', '14_15_B_diff', '14_16_R_diff', '14_16_G_diff', '14_16_B_diff', '14_17_R_diff', '14_17_G_diff', '14_17_B_diff', '14_18_R_diff', '14_18_G_diff', '14_18_B_diff', '14_19_R_diff', '14_19_G_diff', '14_19_B_diff', '15_16_R_diff', '15_16_G_diff', '15_16_B_diff', '15_17_R_diff', '15_17_G_diff', '15_17_B_diff', '15_18_R_diff', '15_18_G_diff', '15_18_B_diff', '15_19_R_diff', '15_19_G_diff', '15_19_B_diff', '16_17_R_diff', '16_17_G_diff', '16_17_B_diff', '16_18_R_diff', '16_18_G_diff', '16_18_B_diff', '16_19_R_diff', '16_19_G_diff', '16_19_B_diff', '17_18_R_diff', '17_18_G_diff', '17_18_B_diff', '17_19_R_diff', '17_19_G_diff', '17_19_B_diff', '18_19_R_diff', '18_19_G_diff', '18_19_B_diff', '0_1_H_diff', '0_1_S_diff', '0_1_V_diff', '0_2_H_diff', '0_2_S_diff', '0_2_V_diff', '0_3_H_diff', '0_3_S_diff', '0_3_V_diff', '0_4_H_diff', '0_4_S_diff', '0_4_V_diff', '0_5_H_diff', '0_5_S_diff', '0_5_V_diff', '0_6_H_diff', '0_6_S_diff', '0_6_V_diff', '0_7_H_diff', '0_7_S_diff', '0_7_V_diff', '0_8_H_diff', '0_8_S_diff', '0_8_V_diff', '0_9_H_diff', '0_9_S_diff', '0_9_V_diff', '0_10_H_diff', '0_10_S_diff', '0_10_V_diff', '0_11_H_diff', '0_11_S_diff', '0_11_V_diff', '0_12_H_diff', '0_12_S_diff', '0_12_V_diff', '0_13_H_diff', '0_13_S_diff', '0_13_V_diff', '0_14_H_diff', '0_14_S_diff', '0_14_V_diff', '0_15_H_diff', '0_15_S_diff', '0_15_V_diff', '0_16_H_diff', '0_16_S_diff', '0_16_V_diff', '0_17_H_diff', '0_17_S_diff', '0_17_V_diff', '0_18_H_diff', '0_18_S_diff', '0_18_V_diff', '0_19_H_diff', '0_19_S_diff', '0_19_V_diff', '1_2_H_diff', '1_2_S_diff', '1_2_V_diff', '1_3_H_diff', '1_3_S_diff', '1_3_V_diff', '1_4_H_diff', '1_4_S_diff', '1_4_V_diff', '1_5_H_diff', '1_5_S_diff', '1_5_V_diff', '1_6_H_diff', '1_6_S_diff', '1_6_V_diff', '1_7_H_diff', '1_7_S_diff', '1_7_V_diff', '1_8_H_diff', '1_8_S_diff', '1_8_V_diff', '1_9_H_diff', '1_9_S_diff', '1_9_V_diff', '1_10_H_diff', '1_10_S_diff', '1_10_V_diff', '1_11_H_diff', '1_11_S_diff', '1_11_V_diff', '1_12_H_diff', '1_12_S_diff', '1_12_V_diff', '1_13_H_diff', '1_13_S_diff', '1_13_V_diff', '1_14_H_diff', '1_14_S_diff', '1_14_V_diff', '1_15_H_diff', '1_15_S_diff', '1_15_V_diff', '1_16_H_diff', '1_16_S_diff', '1_16_V_diff', '1_17_H_diff', '1_17_S_diff', '1_17_V_diff', '1_18_H_diff', '1_18_S_diff', '1_18_V_diff', '1_19_H_diff', '1_19_S_diff', '1_19_V_diff', '2_3_H_diff', '2_3_S_diff', '2_3_V_diff', '2_4_H_diff', '2_4_S_diff', '2_4_V_diff', '2_5_H_diff', '2_5_S_diff', '2_5_V_diff', '2_6_H_diff', '2_6_S_diff', '2_6_V_diff', '2_7_H_diff', '2_7_S_diff', '2_7_V_diff', '2_8_H_diff', '2_8_S_diff', '2_8_V_diff', '2_9_H_diff', '2_9_S_diff', '2_9_V_diff', '2_10_H_diff', '2_10_S_diff', '2_10_V_diff', '2_11_H_diff', '2_11_S_diff', '2_11_V_diff', '2_12_H_diff', '2_12_S_diff', '2_12_V_diff', '2_13_H_diff', '2_13_S_diff', '2_13_V_diff', '2_14_H_diff', '2_14_S_diff', '2_14_V_diff', '2_15_H_diff', '2_15_S_diff', '2_15_V_diff', '2_16_H_diff', '2_16_S_diff', '2_16_V_diff', '2_17_H_diff', '2_17_S_diff', '2_17_V_diff', '2_18_H_diff', '2_18_S_diff', '2_18_V_diff', '2_19_H_diff', '2_19_S_diff', '2_19_V_diff', '3_4_H_diff', '3_4_S_diff', '3_4_V_diff', '3_5_H_diff', '3_5_S_diff', '3_5_V_diff', '3_6_H_diff', '3_6_S_diff', '3_6_V_diff', '3_7_H_diff', '3_7_S_diff', '3_7_V_diff', '3_8_H_diff', '3_8_S_diff', '3_8_V_diff', '3_9_H_diff', '3_9_S_diff', '3_9_V_diff', '3_10_H_diff', '3_10_S_diff', '3_10_V_diff', '3_11_H_diff', '3_11_S_diff', '3_11_V_diff', '3_12_H_diff', '3_12_S_diff', '3_12_V_diff', '3_13_H_diff', '3_13_S_diff', '3_13_V_diff', '3_14_H_diff', '3_14_S_diff', '3_14_V_diff', '3_15_H_diff', '3_15_S_diff', '3_15_V_diff', '3_16_H_diff', '3_16_S_diff', '3_16_V_diff', '3_17_H_diff', '3_17_S_diff', '3_17_V_diff', '3_18_H_diff', '3_18_S_diff', '3_18_V_diff', '3_19_H_diff', '3_19_S_diff', '3_19_V_diff', '4_5_H_diff', '4_5_S_diff', '4_5_V_diff', '4_6_H_diff', '4_6_S_diff', '4_6_V_diff', '4_7_H_diff', '4_7_S_diff', '4_7_V_diff', '4_8_H_diff', '4_8_S_diff', '4_8_V_diff', '4_9_H_diff', '4_9_S_diff', '4_9_V_diff', '4_10_H_diff', '4_10_S_diff', '4_10_V_diff', '4_11_H_diff', '4_11_S_diff', '4_11_V_diff', '4_12_H_diff', '4_12_S_diff', '4_12_V_diff', '4_13_H_diff', '4_13_S_diff', '4_13_V_diff', '4_14_H_diff', '4_14_S_diff', '4_14_V_diff', '4_15_H_diff', '4_15_S_diff', '4_15_V_diff', '4_16_H_diff', '4_16_S_diff', '4_16_V_diff', '4_17_H_diff', '4_17_S_diff', '4_17_V_diff', '4_18_H_diff', '4_18_S_diff', '4_18_V_diff', '4_19_H_diff', '4_19_S_diff', '4_19_V_diff', '5_6_H_diff', '5_6_S_diff', '5_6_V_diff', '5_7_H_diff', '5_7_S_diff', '5_7_V_diff', '5_8_H_diff', '5_8_S_diff', '5_8_V_diff', '5_9_H_diff', '5_9_S_diff', '5_9_V_diff', '5_10_H_diff', '5_10_S_diff', '5_10_V_diff', '5_11_H_diff', '5_11_S_diff', '5_11_V_diff', '5_12_H_diff', '5_12_S_diff', '5_12_V_diff', '5_13_H_diff', '5_13_S_diff', '5_13_V_diff', '5_14_H_diff', '5_14_S_diff', '5_14_V_diff', '5_15_H_diff', '5_15_S_diff', '5_15_V_diff', '5_16_H_diff', '5_16_S_diff', '5_16_V_diff', '5_17_H_diff', '5_17_S_diff', '5_17_V_diff', '5_18_H_diff', '5_18_S_diff', '5_18_V_diff', '5_19_H_diff', '5_19_S_diff', '5_19_V_diff', '6_7_H_diff', '6_7_S_diff', '6_7_V_diff', '6_8_H_diff', '6_8_S_diff', '6_8_V_diff', '6_9_H_diff', '6_9_S_diff', '6_9_V_diff', '6_10_H_diff', '6_10_S_diff', '6_10_V_diff', '6_11_H_diff', '6_11_S_diff', '6_11_V_diff', '6_12_H_diff', '6_12_S_diff', '6_12_V_diff', '6_13_H_diff', '6_13_S_diff', '6_13_V_diff', '6_14_H_diff', '6_14_S_diff', '6_14_V_diff', '6_15_H_diff', '6_15_S_diff', '6_15_V_diff', '6_16_H_diff', '6_16_S_diff', '6_16_V_diff', '6_17_H_diff', '6_17_S_diff', '6_17_V_diff', '6_18_H_diff', '6_18_S_diff', '6_18_V_diff', '6_19_H_diff', '6_19_S_diff', '6_19_V_diff', '7_8_H_diff', '7_8_S_diff', '7_8_V_diff', '7_9_H_diff', '7_9_S_diff', '7_9_V_diff', '7_10_H_diff', '7_10_S_diff', '7_10_V_diff', '7_11_H_diff', '7_11_S_diff', '7_11_V_diff', '7_12_H_diff', '7_12_S_diff', '7_12_V_diff', '7_13_H_diff', '7_13_S_diff', '7_13_V_diff', '7_14_H_diff', '7_14_S_diff', '7_14_V_diff', '7_15_H_diff', '7_15_S_diff', '7_15_V_diff', '7_16_H_diff', '7_16_S_diff', '7_16_V_diff', '7_17_H_diff', '7_17_S_diff', '7_17_V_diff', '7_18_H_diff', '7_18_S_diff', '7_18_V_diff', '7_19_H_diff', '7_19_S_diff', '7_19_V_diff', '8_9_H_diff', '8_9_S_diff', '8_9_V_diff', '8_10_H_diff', '8_10_S_diff', '8_10_V_diff', '8_11_H_diff', '8_11_S_diff', '8_11_V_diff', '8_12_H_diff', '8_12_S_diff', '8_12_V_diff', '8_13_H_diff', '8_13_S_diff', '8_13_V_diff', '8_14_H_diff', '8_14_S_diff', '8_14_V_diff', '8_15_H_diff', '8_15_S_diff', '8_15_V_diff', '8_16_H_diff', '8_16_S_diff', '8_16_V_diff', '8_17_H_diff', '8_17_S_diff', '8_17_V_diff', '8_18_H_diff', '8_18_S_diff', '8_18_V_diff', '8_19_H_diff', '8_19_S_diff', '8_19_V_diff', '9_10_H_diff', '9_10_S_diff', '9_10_V_diff', '9_11_H_diff', '9_11_S_diff', '9_11_V_diff', '9_12_H_diff', '9_12_S_diff', '9_12_V_diff', '9_13_H_diff', '9_13_S_diff', '9_13_V_diff', '9_14_H_diff', '9_14_S_diff', '9_14_V_diff', '9_15_H_diff', '9_15_S_diff', '9_15_V_diff', '9_16_H_diff', '9_16_S_diff', '9_16_V_diff', '9_17_H_diff', '9_17_S_diff', '9_17_V_diff', '9_18_H_diff', '9_18_S_diff', '9_18_V_diff', '9_19_H_diff', '9_19_S_diff', '9_19_V_diff', '10_11_H_diff', '10_11_S_diff', '10_11_V_diff', '10_12_H_diff', '10_12_S_diff', '10_12_V_diff', '10_13_H_diff', '10_13_S_diff', '10_13_V_diff', '10_14_H_diff', '10_14_S_diff', '10_14_V_diff', '10_15_H_diff', '10_15_S_diff', '10_15_V_diff', '10_16_H_diff', '10_16_S_diff', '10_16_V_diff', '10_17_H_diff', '10_17_S_diff', '10_17_V_diff', '10_18_H_diff', '10_18_S_diff', '10_18_V_diff', '10_19_H_diff', '10_19_S_diff', '10_19_V_diff', '11_12_H_diff', '11_12_S_diff', '11_12_V_diff', '11_13_H_diff', '11_13_S_diff', '11_13_V_diff', '11_14_H_diff', '11_14_S_diff', '11_14_V_diff', '11_15_H_diff', '11_15_S_diff', '11_15_V_diff', '11_16_H_diff', '11_16_S_diff', '11_16_V_diff', '11_17_H_diff', '11_17_S_diff', '11_17_V_diff', '11_18_H_diff', '11_18_S_diff', '11_18_V_diff', '11_19_H_diff', '11_19_S_diff', '11_19_V_diff', '12_13_H_diff', '12_13_S_diff', '12_13_V_diff', '12_14_H_diff', '12_14_S_diff', '12_14_V_diff', '12_15_H_diff', '12_15_S_diff', '12_15_V_diff', '12_16_H_diff', '12_16_S_diff', '12_16_V_diff', '12_17_H_diff', '12_17_S_diff', '12_17_V_diff', '12_18_H_diff', '12_18_S_diff', '12_18_V_diff', '12_19_H_diff', '12_19_S_diff', '12_19_V_diff', '13_14_H_diff', '13_14_S_diff', '13_14_V_diff', '13_15_H_diff', '13_15_S_diff', '13_15_V_diff', '13_16_H_diff', '13_16_S_diff', '13_16_V_diff', '13_17_H_diff', '13_17_S_diff', '13_17_V_diff', '13_18_H_diff', '13_18_S_diff', '13_18_V_diff', '13_19_H_diff', '13_19_S_diff', '13_19_V_diff', '14_15_H_diff', '14_15_S_diff', '14_15_V_diff', '14_16_H_diff', '14_16_S_diff', '14_16_V_diff', '14_17_H_diff', '14_17_S_diff', '14_17_V_diff', '14_18_H_diff', '14_18_S_diff', '14_18_V_diff', '14_19_H_diff', '14_19_S_diff', '14_19_V_diff', '15_16_H_diff', '15_16_S_diff', '15_16_V_diff', '15_17_H_diff', '15_17_S_diff', '15_17_V_diff', '15_18_H_diff', '15_18_S_diff', '15_18_V_diff', '15_19_H_diff', '15_19_S_diff', '15_19_V_diff', '16_17_H_diff', '16_17_S_diff', '16_17_V_diff', '16_18_H_diff', '16_18_S_diff', '16_18_V_diff', '16_19_H_diff', '16_19_S_diff', '16_19_V_diff', '17_18_H_diff', '17_18_S_diff', '17_18_V_diff', '17_19_H_diff', '17_19_S_diff', '17_19_V_diff', '18_19_H_diff', '18_19_S_diff', '18_19_V_diff', '0_1_L_diff', '0_1_a_diff', '0_1_b_diff', '0_2_L_diff', '0_2_a_diff', '0_2_b_diff', '0_3_L_diff', '0_3_a_diff', '0_3_b_diff', '0_4_L_diff', '0_4_a_diff', '0_4_b_diff', '0_5_L_diff', '0_5_a_diff', '0_5_b_diff', '0_6_L_diff', '0_6_a_diff', '0_6_b_diff', '0_7_L_diff', '0_7_a_diff', '0_7_b_diff', '0_8_L_diff', '0_8_a_diff', '0_8_b_diff', '0_9_L_diff', '0_9_a_diff', '0_9_b_diff', '0_10_L_diff', '0_10_a_diff', '0_10_b_diff', '0_11_L_diff', '0_11_a_diff', '0_11_b_diff', '0_12_L_diff', '0_12_a_diff', '0_12_b_diff', '0_13_L_diff', '0_13_a_diff', '0_13_b_diff', '0_14_L_diff', '0_14_a_diff', '0_14_b_diff', '0_15_L_diff', '0_15_a_diff', '0_15_b_diff', '0_16_L_diff', '0_16_a_diff', '0_16_b_diff', '0_17_L_diff', '0_17_a_diff', '0_17_b_diff', '0_18_L_diff', '0_18_a_diff', '0_18_b_diff', '0_19_L_diff', '0_19_a_diff', '0_19_b_diff', '1_2_L_diff', '1_2_a_diff', '1_2_b_diff', '1_3_L_diff', '1_3_a_diff', '1_3_b_diff', '1_4_L_diff', '1_4_a_diff', '1_4_b_diff', '1_5_L_diff', '1_5_a_diff', '1_5_b_diff', '1_6_L_diff', '1_6_a_diff', '1_6_b_diff', '1_7_L_diff', '1_7_a_diff', '1_7_b_diff', '1_8_L_diff', '1_8_a_diff', '1_8_b_diff', '1_9_L_diff', '1_9_a_diff', '1_9_b_diff', '1_10_L_diff', '1_10_a_diff', '1_10_b_diff', '1_11_L_diff', '1_11_a_diff', '1_11_b_diff', '1_12_L_diff', '1_12_a_diff', '1_12_b_diff', '1_13_L_diff', '1_13_a_diff', '1_13_b_diff', '1_14_L_diff', '1_14_a_diff', '1_14_b_diff', '1_15_L_diff', '1_15_a_diff', '1_15_b_diff', '1_16_L_diff', '1_16_a_diff', '1_16_b_diff', '1_17_L_diff', '1_17_a_diff', '1_17_b_diff', '1_18_L_diff', '1_18_a_diff', '1_18_b_diff', '1_19_L_diff', '1_19_a_diff', '1_19_b_diff', '2_3_L_diff', '2_3_a_diff', '2_3_b_diff', '2_4_L_diff', '2_4_a_diff', '2_4_b_diff', '2_5_L_diff', '2_5_a_diff', '2_5_b_diff', '2_6_L_diff', '2_6_a_diff', '2_6_b_diff', '2_7_L_diff', '2_7_a_diff', '2_7_b_diff', '2_8_L_diff', '2_8_a_diff', '2_8_b_diff', '2_9_L_diff', '2_9_a_diff', '2_9_b_diff', '2_10_L_diff', '2_10_a_diff', '2_10_b_diff', '2_11_L_diff', '2_11_a_diff', '2_11_b_diff', '2_12_L_diff', '2_12_a_diff', '2_12_b_diff', '2_13_L_diff', '2_13_a_diff', '2_13_b_diff', '2_14_L_diff', '2_14_a_diff', '2_14_b_diff', '2_15_L_diff', '2_15_a_diff', '2_15_b_diff', '2_16_L_diff', '2_16_a_diff', '2_16_b_diff', '2_17_L_diff', '2_17_a_diff', '2_17_b_diff', '2_18_L_diff', '2_18_a_diff', '2_18_b_diff', '2_19_L_diff', '2_19_a_diff', '2_19_b_diff', '3_4_L_diff', '3_4_a_diff', '3_4_b_diff', '3_5_L_diff', '3_5_a_diff', '3_5_b_diff', '3_6_L_diff', '3_6_a_diff', '3_6_b_diff', '3_7_L_diff', '3_7_a_diff', '3_7_b_diff', '3_8_L_diff', '3_8_a_diff', '3_8_b_diff', '3_9_L_diff', '3_9_a_diff', '3_9_b_diff', '3_10_L_diff', '3_10_a_diff', '3_10_b_diff', '3_11_L_diff', '3_11_a_diff', '3_11_b_diff', '3_12_L_diff', '3_12_a_diff', '3_12_b_diff', '3_13_L_diff', '3_13_a_diff', '3_13_b_diff', '3_14_L_diff', '3_14_a_diff', '3_14_b_diff', '3_15_L_diff', '3_15_a_diff', '3_15_b_diff', '3_16_L_diff', '3_16_a_diff', '3_16_b_diff', '3_17_L_diff', '3_17_a_diff', '3_17_b_diff', '3_18_L_diff', '3_18_a_diff', '3_18_b_diff', '3_19_L_diff', '3_19_a_diff', '3_19_b_diff', '4_5_L_diff', '4_5_a_diff', '4_5_b_diff', '4_6_L_diff', '4_6_a_diff', '4_6_b_diff', '4_7_L_diff', '4_7_a_diff', '4_7_b_diff', '4_8_L_diff', '4_8_a_diff', '4_8_b_diff', '4_9_L_diff', '4_9_a_diff', '4_9_b_diff', '4_10_L_diff', '4_10_a_diff', '4_10_b_diff', '4_11_L_diff', '4_11_a_diff', '4_11_b_diff', '4_12_L_diff', '4_12_a_diff', '4_12_b_diff', '4_13_L_diff', '4_13_a_diff', '4_13_b_diff', '4_14_L_diff', '4_14_a_diff', '4_14_b_diff', '4_15_L_diff', '4_15_a_diff', '4_15_b_diff', '4_16_L_diff', '4_16_a_diff', '4_16_b_diff', '4_17_L_diff', '4_17_a_diff', '4_17_b_diff', '4_18_L_diff', '4_18_a_diff', '4_18_b_diff', '4_19_L_diff', '4_19_a_diff', '4_19_b_diff', '5_6_L_diff', '5_6_a_diff', '5_6_b_diff', '5_7_L_diff', '5_7_a_diff', '5_7_b_diff', '5_8_L_diff', '5_8_a_diff', '5_8_b_diff', '5_9_L_diff', '5_9_a_diff', '5_9_b_diff', '5_10_L_diff', '5_10_a_diff', '5_10_b_diff', '5_11_L_diff', '5_11_a_diff', '5_11_b_diff', '5_12_L_diff', '5_12_a_diff', '5_12_b_diff', '5_13_L_diff', '5_13_a_diff', '5_13_b_diff', '5_14_L_diff', '5_14_a_diff', '5_14_b_diff', '5_15_L_diff', '5_15_a_diff', '5_15_b_diff', '5_16_L_diff', '5_16_a_diff', '5_16_b_diff', '5_17_L_diff', '5_17_a_diff', '5_17_b_diff', '5_18_L_diff', '5_18_a_diff', '5_18_b_diff', '5_19_L_diff', '5_19_a_diff', '5_19_b_diff', '6_7_L_diff', '6_7_a_diff', '6_7_b_diff', '6_8_L_diff', '6_8_a_diff', '6_8_b_diff', '6_9_L_diff', '6_9_a_diff', '6_9_b_diff', '6_10_L_diff', '6_10_a_diff', '6_10_b_diff', '6_11_L_diff', '6_11_a_diff', '6_11_b_diff', '6_12_L_diff', '6_12_a_diff', '6_12_b_diff', '6_13_L_diff', '6_13_a_diff', '6_13_b_diff', '6_14_L_diff', '6_14_a_diff', '6_14_b_diff', '6_15_L_diff', '6_15_a_diff', '6_15_b_diff', '6_16_L_diff', '6_16_a_diff', '6_16_b_diff', '6_17_L_diff', '6_17_a_diff', '6_17_b_diff', '6_18_L_diff', '6_18_a_diff', '6_18_b_diff', '6_19_L_diff', '6_19_a_diff', '6_19_b_diff', '7_8_L_diff', '7_8_a_diff', '7_8_b_diff', '7_9_L_diff', '7_9_a_diff', '7_9_b_diff', '7_10_L_diff', '7_10_a_diff', '7_10_b_diff', '7_11_L_diff', '7_11_a_diff', '7_11_b_diff', '7_12_L_diff', '7_12_a_diff', '7_12_b_diff', '7_13_L_diff', '7_13_a_diff', '7_13_b_diff', '7_14_L_diff', '7_14_a_diff', '7_14_b_diff', '7_15_L_diff', '7_15_a_diff', '7_15_b_diff', '7_16_L_diff', '7_16_a_diff', '7_16_b_diff', '7_17_L_diff', '7_17_a_diff', '7_17_b_diff', '7_18_L_diff', '7_18_a_diff', '7_18_b_diff', '7_19_L_diff', '7_19_a_diff', '7_19_b_diff', '8_9_L_diff', '8_9_a_diff', '8_9_b_diff', '8_10_L_diff', '8_10_a_diff', '8_10_b_diff', '8_11_L_diff', '8_11_a_diff', '8_11_b_diff', '8_12_L_diff', '8_12_a_diff', '8_12_b_diff', '8_13_L_diff', '8_13_a_diff', '8_13_b_diff', '8_14_L_diff', '8_14_a_diff', '8_14_b_diff', '8_15_L_diff', '8_15_a_diff', '8_15_b_diff', '8_16_L_diff', '8_16_a_diff', '8_16_b_diff', '8_17_L_diff', '8_17_a_diff', '8_17_b_diff', '8_18_L_diff', '8_18_a_diff', '8_18_b_diff', '8_19_L_diff', '8_19_a_diff', '8_19_b_diff', '9_10_L_diff', '9_10_a_diff', '9_10_b_diff', '9_11_L_diff', '9_11_a_diff', '9_11_b_diff', '9_12_L_diff', '9_12_a_diff', '9_12_b_diff', '9_13_L_diff', '9_13_a_diff', '9_13_b_diff', '9_14_L_diff', '9_14_a_diff', '9_14_b_diff', '9_15_L_diff', '9_15_a_diff', '9_15_b_diff', '9_16_L_diff', '9_16_a_diff', '9_16_b_diff', '9_17_L_diff', '9_17_a_diff', '9_17_b_diff', '9_18_L_diff', '9_18_a_diff', '9_18_b_diff', '9_19_L_diff', '9_19_a_diff', '9_19_b_diff', '10_11_L_diff', '10_11_a_diff', '10_11_b_diff', '10_12_L_diff', '10_12_a_diff', '10_12_b_diff', '10_13_L_diff', '10_13_a_diff', '10_13_b_diff', '10_14_L_diff', '10_14_a_diff', '10_14_b_diff', '10_15_L_diff', '10_15_a_diff', '10_15_b_diff', '10_16_L_diff', '10_16_a_diff', '10_16_b_diff', '10_17_L_diff', '10_17_a_diff', '10_17_b_diff', '10_18_L_diff', '10_18_a_diff', '10_18_b_diff', '10_19_L_diff', '10_19_a_diff', '10_19_b_diff', '11_12_L_diff', '11_12_a_diff', '11_12_b_diff', '11_13_L_diff', '11_13_a_diff', '11_13_b_diff', '11_14_L_diff', '11_14_a_diff', '11_14_b_diff', '11_15_L_diff', '11_15_a_diff', '11_15_b_diff', '11_16_L_diff', '11_16_a_diff', '11_16_b_diff', '11_17_L_diff', '11_17_a_diff', '11_17_b_diff', '11_18_L_diff', '11_18_a_diff', '11_18_b_diff', '11_19_L_diff', '11_19_a_diff', '11_19_b_diff', '12_13_L_diff', '12_13_a_diff', '12_13_b_diff', '12_14_L_diff', '12_14_a_diff', '12_14_b_diff', '12_15_L_diff', '12_15_a_diff', '12_15_b_diff', '12_16_L_diff', '12_16_a_diff', '12_16_b_diff', '12_17_L_diff', '12_17_a_diff', '12_17_b_diff', '12_18_L_diff', '12_18_a_diff', '12_18_b_diff', '12_19_L_diff', '12_19_a_diff', '12_19_b_diff', '13_14_L_diff', '13_14_a_diff', '13_14_b_diff', '13_15_L_diff', '13_15_a_diff', '13_15_b_diff', '13_16_L_diff', '13_16_a_diff', '13_16_b_diff', '13_17_L_diff', '13_17_a_diff', '13_17_b_diff', '13_18_L_diff', '13_18_a_diff', '13_18_b_diff', '13_19_L_diff', '13_19_a_diff', '13_19_b_diff', '14_15_L_diff', '14_15_a_diff', '14_15_b_diff', '14_16_L_diff', '14_16_a_diff', '14_16_b_diff', '14_17_L_diff', '14_17_a_diff', '14_17_b_diff', '14_18_L_diff', '14_18_a_diff', '14_18_b_diff', '14_19_L_diff', '14_19_a_diff', '14_19_b_diff', '15_16_L_diff', '15_16_a_diff', '15_16_b_diff', '15_17_L_diff', '15_17_a_diff', '15_17_b_diff', '15_18_L_diff', '15_18_a_diff', '15_18_b_diff', '15_19_L_diff', '15_19_a_diff', '15_19_b_diff', '16_17_L_diff', '16_17_a_diff', '16_17_b_diff', '16_18_L_diff', '16_18_a_diff', '16_18_b_diff', '16_19_L_diff', '16_19_a_diff', '16_19_b_diff', '17_18_L_diff', '17_18_a_diff', '17_18_b_diff', '17_19_L_diff', '17_19_a_diff', '17_19_b_diff', '18_19_L_diff', '18_19_a_diff', '18_19_b_diff']\n",
      "1\n"
     ]
    },
    {
     "ename": "TypeError",
     "evalue": "mean_diffs() takes 3 positional arguments but 4 were given",
     "output_type": "error",
     "traceback": [
      "\u001b[0;31m---------------------------------------------------------------------------\u001b[0m",
      "\u001b[0;31mTypeError\u001b[0m                                 Traceback (most recent call last)",
      "\u001b[0;32m<ipython-input-55-d98fcb897514>\u001b[0m in \u001b[0;36m<module>\u001b[0;34m\u001b[0m\n\u001b[1;32m      1\u001b[0m \u001b[0;32mfor\u001b[0m \u001b[0mcurr\u001b[0m\u001b[0;34m,\u001b[0m \u001b[0mfeat\u001b[0m \u001b[0;32min\u001b[0m \u001b[0mzip\u001b[0m\u001b[0;34m(\u001b[0m\u001b[0mcurrent_features\u001b[0m\u001b[0;34m,\u001b[0m \u001b[0mfeatures_names\u001b[0m\u001b[0;34m)\u001b[0m\u001b[0;34m:\u001b[0m\u001b[0;34m\u001b[0m\u001b[0;34m\u001b[0m\u001b[0m\n\u001b[0;32m----> 2\u001b[0;31m     \u001b[0mcompute_feature\u001b[0m\u001b[0;34m(\u001b[0m\u001b[0mcurr\u001b[0m\u001b[0;34m,\u001b[0m \u001b[0mfeat\u001b[0m\u001b[0;34m)\u001b[0m\u001b[0;34m\u001b[0m\u001b[0;34m\u001b[0m\u001b[0m\n\u001b[0m",
      "\u001b[0;32m<ipython-input-51-77584aa9c311>\u001b[0m in \u001b[0;36mcompute_feature\u001b[0;34m(current_features, features_name)\u001b[0m\n\u001b[1;32m      9\u001b[0m         \u001b[0mprint\u001b[0m\u001b[0;34m(\u001b[0m\u001b[0mnum\u001b[0m\u001b[0;34m)\u001b[0m\u001b[0;34m\u001b[0m\u001b[0;34m\u001b[0m\u001b[0m\n\u001b[1;32m     10\u001b[0m         \u001b[0mbgr\u001b[0m \u001b[0;34m=\u001b[0m \u001b[0mcv2\u001b[0m\u001b[0;34m.\u001b[0m\u001b[0mimread\u001b[0m\u001b[0;34m(\u001b[0m\u001b[0mpath\u001b[0m\u001b[0;34m+\u001b[0m\u001b[0mimg\u001b[0m\u001b[0;34m)\u001b[0m\u001b[0;34m\u001b[0m\u001b[0;34m\u001b[0m\u001b[0m\n\u001b[0;32m---> 11\u001b[0;31m         \u001b[0mmng\u001b[0m\u001b[0;34m.\u001b[0m\u001b[0mfeatures\u001b[0m\u001b[0;34m.\u001b[0m\u001b[0mextract_features\u001b[0m\u001b[0;34m(\u001b[0m\u001b[0mbgr\u001b[0m\u001b[0;34m,\u001b[0m \u001b[0mimg\u001b[0m\u001b[0;34m)\u001b[0m\u001b[0;34m\u001b[0m\u001b[0;34m\u001b[0m\u001b[0m\n\u001b[0m\u001b[1;32m     12\u001b[0m \u001b[0;34m\u001b[0m\u001b[0m\n\u001b[1;32m     13\u001b[0m     \u001b[0mfile_path\u001b[0m \u001b[0;34m=\u001b[0m \u001b[0mmng\u001b[0m\u001b[0;34m.\u001b[0m\u001b[0mfeatures\u001b[0m\u001b[0;34m.\u001b[0m\u001b[0msave_data\u001b[0m\u001b[0;34m(\u001b[0m\u001b[0;32mFalse\u001b[0m\u001b[0;34m)\u001b[0m\u001b[0;34m\u001b[0m\u001b[0;34m\u001b[0m\u001b[0m\n",
      "\u001b[0;32m~/Projects/mng/notebooks//..//scripts/MNGFeatures.py\u001b[0m in \u001b[0;36mextract_features\u001b[0;34m(self, BGR_img, img_name)\u001b[0m\n\u001b[1;32m    195\u001b[0m                         \u001b[0mmeans_n_HSV\u001b[0m                             \u001b[0;34m=\u001b[0m \u001b[0mself\u001b[0m\u001b[0;34m.\u001b[0m\u001b[0mfeatures_regions\u001b[0m\u001b[0;34m.\u001b[0m\u001b[0mregions_means\u001b[0m\u001b[0;34m(\u001b[0m\u001b[0mHSV_img\u001b[0m\u001b[0;34m,\u001b[0m \u001b[0mgray_img\u001b[0m\u001b[0;34m,\u001b[0m \u001b[0mself\u001b[0m\u001b[0;34m.\u001b[0m\u001b[0mn\u001b[0m\u001b[0;34m)\u001b[0m\u001b[0;34m\u001b[0m\u001b[0;34m\u001b[0m\u001b[0m\n\u001b[1;32m    196\u001b[0m                         \u001b[0mmeans_n_Lab\u001b[0m                             \u001b[0;34m=\u001b[0m \u001b[0mself\u001b[0m\u001b[0;34m.\u001b[0m\u001b[0mfeatures_regions\u001b[0m\u001b[0;34m.\u001b[0m\u001b[0mregions_means\u001b[0m\u001b[0;34m(\u001b[0m\u001b[0mLab_img\u001b[0m\u001b[0;34m,\u001b[0m \u001b[0mgray_img\u001b[0m\u001b[0;34m,\u001b[0m \u001b[0mself\u001b[0m\u001b[0;34m.\u001b[0m\u001b[0mn\u001b[0m\u001b[0;34m)\u001b[0m\u001b[0;34m\u001b[0m\u001b[0;34m\u001b[0m\u001b[0m\n\u001b[0;32m--> 197\u001b[0;31m                         \u001b[0mmeans_diffs_n_RGB\u001b[0m               \u001b[0;34m=\u001b[0m \u001b[0mself\u001b[0m\u001b[0;34m.\u001b[0m\u001b[0mfeatures_regions\u001b[0m\u001b[0;34m.\u001b[0m\u001b[0mmean_diffs\u001b[0m\u001b[0;34m(\u001b[0m\u001b[0mRGB_img\u001b[0m\u001b[0;34m,\u001b[0m \u001b[0mgray_img\u001b[0m\u001b[0;34m,\u001b[0m \u001b[0mself\u001b[0m\u001b[0;34m.\u001b[0m\u001b[0mn\u001b[0m\u001b[0;34m)\u001b[0m\u001b[0;34m\u001b[0m\u001b[0;34m\u001b[0m\u001b[0m\n\u001b[0m\u001b[1;32m    198\u001b[0m                         \u001b[0mmeans_diffs_n_HSV\u001b[0m               \u001b[0;34m=\u001b[0m \u001b[0mself\u001b[0m\u001b[0;34m.\u001b[0m\u001b[0mfeatures_regions\u001b[0m\u001b[0;34m.\u001b[0m\u001b[0mmean_diffs\u001b[0m\u001b[0;34m(\u001b[0m\u001b[0mHSV_img\u001b[0m\u001b[0;34m,\u001b[0m \u001b[0mgray_img\u001b[0m\u001b[0;34m,\u001b[0m \u001b[0mself\u001b[0m\u001b[0;34m.\u001b[0m\u001b[0mn\u001b[0m\u001b[0;34m)\u001b[0m\u001b[0;34m\u001b[0m\u001b[0;34m\u001b[0m\u001b[0m\n\u001b[1;32m    199\u001b[0m                         \u001b[0mmeans_diffs_n_Lab\u001b[0m               \u001b[0;34m=\u001b[0m \u001b[0mself\u001b[0m\u001b[0;34m.\u001b[0m\u001b[0mfeatures_regions\u001b[0m\u001b[0;34m.\u001b[0m\u001b[0mmean_diffs\u001b[0m\u001b[0;34m(\u001b[0m\u001b[0mLab_img\u001b[0m\u001b[0;34m,\u001b[0m \u001b[0mgray_img\u001b[0m\u001b[0;34m,\u001b[0m \u001b[0mself\u001b[0m\u001b[0;34m.\u001b[0m\u001b[0mn\u001b[0m\u001b[0;34m)\u001b[0m\u001b[0;34m\u001b[0m\u001b[0;34m\u001b[0m\u001b[0m\n",
      "\u001b[0;31mTypeError\u001b[0m: mean_diffs() takes 3 positional arguments but 4 were given"
     ]
    }
   ],
   "source": [
    "for curr, feat in zip(current_features, features_names):\n",
    "    compute_feature(curr, feat)"
   ]
  },
  {
   "cell_type": "code",
   "execution_count": 17,
   "metadata": {},
   "outputs": [
    {
     "data": {
      "text/plain": [
       "'/home/danielesreis/Projects/mng/notebooks//..//features2//longitudinal_gradient_all.csv'"
      ]
     },
     "execution_count": 17,
     "metadata": {},
     "output_type": "execute_result"
    }
   ],
   "source": [
    "file_path"
   ]
  },
  {
   "cell_type": "code",
   "execution_count": 27,
   "metadata": {},
   "outputs": [],
   "source": [
    "mng.features.add_target(file_path, palmer_sst)"
   ]
  },
  {
   "cell_type": "code",
   "execution_count": 42,
   "metadata": {},
   "outputs": [
    {
     "name": "stdout",
     "output_type": "stream",
     "text": [
      "[0.01101535 0.01105941 0.89462016 0.01667592 0.01484859 0.00772028\n",
      " 0.00612206 0.03145937 0.00647887]\n",
      "[0.01528925 0.01133236 0.86263109 0.02499515 0.01571459 0.00982194\n",
      " 0.0136343  0.03835928 0.00822203]\n",
      "[0.01565045 0.01643335 0.82054462 0.03230305 0.02567242 0.00923339\n",
      " 0.01624256 0.04844877 0.0154714 ]\n",
      "[0.01341815 0.01364319 0.86405266 0.03122513 0.01700749 0.00904529\n",
      " 0.01445426 0.02677317 0.01038067]\n",
      "[0.01588813 0.01426283 0.8187836  0.02980261 0.02829098 0.0102489\n",
      " 0.01157976 0.06055222 0.01059097]\n",
      "[0.01366671 0.01975969 0.81605826 0.02393945 0.04499    0.00867667\n",
      " 0.0151067  0.04395046 0.01385206]\n",
      "[0.01024313 0.01259795 0.87850702 0.02085681 0.01354128 0.00899067\n",
      " 0.01263427 0.03261116 0.01001772]\n"
     ]
    }
   ],
   "source": [
    "mng.model = MNGModel(path, file_path, model_type, att)\n",
    "mng.model.build_mlr_model(model_type, features_mlr)\n",
    "\n",
    "trees = [100, 200, 300, 400, 500, 600, 700]\n",
    "for tree_num in trees:\n",
    "    mng.model.build_rf_model(model_type, tree_num)"
   ]
  },
  {
   "cell_type": "code",
   "execution_count": null,
   "metadata": {},
   "outputs": [],
   "source": [
    "# TESTE COM RGB APENAS"
   ]
  },
  {
   "cell_type": "code",
   "execution_count": 84,
   "metadata": {},
   "outputs": [],
   "source": [
    "df_rgb = mng.model.data[['sst', 'mean_R_full', 'mean_G_full', 'mean_B_full']].copy()\n",
    "df_rgb_path = path+'\\\\..\\\\features\\\\apenas_rgb.csv'\n",
    "df_rgb.to_csv(df_rgb_path, sep=';')"
   ]
  },
  {
   "cell_type": "code",
   "execution_count": 75,
   "metadata": {},
   "outputs": [
    {
     "name": "stdout",
     "output_type": "stream",
     "text": [
      "[0.06636356 0.04893261 0.88470383]\n",
      "[0.06429572 0.06301666 0.87268762]\n",
      "[0.08230356 0.04243272 0.87526371]\n",
      "[0.07087914 0.04359687 0.88552398]\n",
      "[0.05384543 0.05248197 0.8936726 ]\n",
      "[0.04399283 0.04615855 0.90984862]\n",
      "[0.08021652 0.04966366 0.87011982]\n"
     ]
    }
   ],
   "source": [
    "mng.model = MNGModel(path, df_rgb_path, model_type, att)\n",
    "mng.model.build_mlr_model(model_type, features_mlr)\n",
    "\n",
    "trees = [100, 200, 300, 400, 500, 600, 700]\n",
    "for tree_num in trees:\n",
    "    mng.model.build_rf_model(model_type, tree_num)"
   ]
  },
  {
   "cell_type": "code",
   "execution_count": null,
   "metadata": {},
   "outputs": [],
   "source": [
    "# TESTE COM HSV APENAS"
   ]
  },
  {
   "cell_type": "code",
   "execution_count": 81,
   "metadata": {},
   "outputs": [],
   "source": [
    "df_hsv = mng.model.data[['sst', 'mean_H_full', 'mean_S_full', 'mean_V_full']].copy()\n",
    "df_hsv_path = path+'\\\\..\\\\features\\\\apenas_hsv.csv'\n",
    "df_hsv.to_csv(df_hsv_path, sep=';')"
   ]
  },
  {
   "cell_type": "code",
   "execution_count": 82,
   "metadata": {},
   "outputs": [
    {
     "name": "stdout",
     "output_type": "stream",
     "text": [
      "[0.06949251 0.7438529  0.18665459]\n",
      "[0.07760629 0.7690112  0.15338251]\n",
      "[0.05819901 0.78665167 0.15514932]\n",
      "[0.05050865 0.80939203 0.14009932]\n",
      "[0.05386391 0.78753751 0.15859858]\n",
      "[0.05552808 0.79493086 0.14954107]\n",
      "[0.05391616 0.77063927 0.17544457]\n"
     ]
    }
   ],
   "source": [
    "mng.model = MNGModel(path, df_hsv_path, model_type, att)\n",
    "mng.model.build_mlr_model(model_type, features_mlr)\n",
    "\n",
    "trees = [100, 200, 300, 400, 500, 600, 700]\n",
    "for tree_num in trees:\n",
    "    mng.model.build_rf_model(model_type, tree_num)"
   ]
  },
  {
   "cell_type": "code",
   "execution_count": null,
   "metadata": {},
   "outputs": [],
   "source": [
    "# TESTE SEM SEMANA 4"
   ]
  },
  {
   "cell_type": "code",
   "execution_count": 53,
   "metadata": {},
   "outputs": [],
   "source": [
    "sem_4 = mng.model.data.copy()\n",
    "inds = mng.model.data.loc['0361palmer_sem4_num1':'0479palmer_sem4_num60'].index.values\n",
    "sem_4.drop(inds, inplace=True)\n",
    "\n",
    "sem_4_path = path+'\\\\..\\\\features\\\\sem_4.csv'\n",
    "sem_4.to_csv(sem_4_path, sep=';')"
   ]
  },
  {
   "cell_type": "code",
   "execution_count": 54,
   "metadata": {},
   "outputs": [],
   "source": [
    "mng.model = MNGModel(path, sem_4_path, model_type, att)\n",
    "mng.model.build_mlr_model(model_type, features_mlr)\n",
    "\n",
    "trees = [100, 200, 300, 400, 500, 600, 700]\n",
    "for tree_num in trees:\n",
    "    mng.model.build_rf_model(model_type, tree_num)"
   ]
  },
  {
   "cell_type": "code",
   "execution_count": null,
   "metadata": {},
   "outputs": [],
   "source": []
  }
 ],
 "metadata": {
  "kernelspec": {
   "display_name": "Python 3",
   "language": "python",
   "name": "python3"
  },
  "language_info": {
   "codemirror_mode": {
    "name": "ipython",
    "version": 3
   },
   "file_extension": ".py",
   "mimetype": "text/x-python",
   "name": "python",
   "nbconvert_exporter": "python",
   "pygments_lexer": "ipython3",
   "version": "3.6.7"
  }
 },
 "nbformat": 4,
 "nbformat_minor": 2
}
