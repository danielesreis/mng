{
 "cells": [
  {
   "cell_type": "code",
   "execution_count": null,
   "metadata": {},
   "outputs": [],
   "source": [
    "# experimento com todas as imagens das Palmer para predição do tempo de cada amostra, usando CV 5"
   ]
  },
  {
   "cell_type": "code",
   "execution_count": 25,
   "metadata": {},
   "outputs": [
    {
     "name": "stdout",
     "output_type": "stream",
     "text": [
      "The autoreload extension is already loaded. To reload it, use:\n",
      "  %reload_ext autoreload\n"
     ]
    }
   ],
   "source": [
    "import cv2\n",
    "import sys\n",
    "import numpy as np\n",
    "import pandas as pd\n",
    "import matplotlib.pyplot as plt\n",
    "import seaborn as sns\n",
    "import os \n",
    "import math\n",
    "import scipy\n",
    "\n",
    "from sklearn.ensemble import RandomForestRegressor\n",
    "from sklearn.linear_model import LinearRegression\n",
    "from sklearn.metrics import r2_score, mean_squared_error\n",
    "from sklearn.model_selection import train_test_split\n",
    "from sklearn.model_selection import cross_val_score\n",
    "from sklearn.model_selection import ShuffleSplit, KFold\n",
    "\n",
    "%load_ext autoreload\n",
    "plt.rcParams['figure.figsize'] = [20, 15]\n",
    "\n",
    "path = os.getcwd()+'\\\\..\\\\imagens\\\\'\n",
    "sys.path.append(os.getcwd()+'\\\\..\\\\scripts\\\\')\n",
    "from MNG import MNG\n",
    "from MNGFeatures import MNGFeatures\n",
    "from MNGFeaturesMeans import MNGFeaturesMeans\n",
    "from MNGFeaturesSize import MNGFeaturesSize\n",
    "from MNGModel import MNGModel"
   ]
  },
  {
   "cell_type": "code",
   "execution_count": 63,
   "metadata": {},
   "outputs": [],
   "source": [
    "indexes = ['fold1', 'fold2', 'fold3', 'fold4', 'fold5', 'media']\n",
    "columns = ['MLR', 'RF100', 'RF200', 'RF300', 'RF400', 'RF500', 'RF600', 'RF700']\n",
    "\n",
    "cv_num = 5\n",
    "\n",
    "# ss = ShuffleSplit(n_splits=cv_num, test_size=0.2,random_state=0)\n",
    "kf = KFold(n_splits=5, shuffle=True)\n",
    "\n",
    "train = [[], [], [], [], []]\n",
    "test = [[], [], [], [], []]"
   ]
  },
  {
   "cell_type": "code",
   "execution_count": 102,
   "metadata": {},
   "outputs": [],
   "source": [
    "def compute_models(file_name):\n",
    "    data = pd.read_csv(path+'\\\\..\\\\features\\\\' + file_name + '.csv', sep=';', index_col=0)\n",
    "\n",
    "    df_r2 = pd.DataFrame(index=indexes, columns=columns)\n",
    "    df_rmse = pd.DataFrame(index=indexes, columns=columns)\n",
    "    \n",
    "    X = data.drop(columns='time')\n",
    "    Y = data['time']\n",
    "\n",
    "    i = 0\n",
    "    for train_i, test_i in kf.split(X):\n",
    "        train[i] = train_i\n",
    "        test[i] = test_i\n",
    "        X_train, X_test = X.iloc[train_i], X.iloc[test_i]\n",
    "        Y_train, Y_test = Y.iloc[train_i], Y.iloc[test_i]\n",
    "    \n",
    "        mlr_model = LinearRegression().fit(X_train, Y_train)\n",
    "        Y_predicted = mlr_model.predict(X_test)\n",
    "    \n",
    "        r2 = r2_score(Y_test, Y_predicted)\n",
    "        rmse= math.sqrt(mean_squared_error(Y_test, Y_predicted))\n",
    "    \n",
    "        df_r2['MLR'].iloc[i] = r2\n",
    "        df_rmse['MLR'].iloc[i] = rmse\n",
    "        \n",
    "        for tree in np.arange(100, 701, 100):\n",
    "            rf_model = RandomForestRegressor(n_estimators=tree).fit(X_train, Y_train)\n",
    "            Y_predicted = rf_model.predict(X_test)\n",
    "            \n",
    "            r2 = r2_score(Y_test, Y_predicted)\n",
    "            rmse= math.sqrt(mean_squared_error(Y_test, Y_predicted))\n",
    "            \n",
    "            df_r2['RF'+str(tree)].iloc[i] = r2 \n",
    "            df_rmse['RF'+str(tree)].iloc[i] = rmse \n",
    "    \n",
    "        i = i + 1\n",
    "    \n",
    "    df_r2['MLR'].iloc[-1] = df_r2['MLR'].mean()\n",
    "    df_rmse['MLR'].iloc[-1] = df_rmse['MLR'].mean()\n",
    "    \n",
    "    for tree in np.arange(100, 701, 100):\n",
    "        df_r2['RF'+str(tree)].iloc[-1] = df_r2['RF'+str(tree)].mean()\n",
    "        df_rmse['RF'+str(tree)].iloc[-1] = df_rmse['RF'+str(tree)].mean()\n",
    "        \n",
    "    return df_r2, df_rmse"
   ]
  },
  {
   "cell_type": "code",
   "execution_count": 104,
   "metadata": {},
   "outputs": [],
   "source": [
    "# mean and size\n",
    "file_name = 'means_size_all_half'\n",
    "r2, rmse = compute_models(file_name)"
   ]
  },
  {
   "cell_type": "code",
   "execution_count": 107,
   "metadata": {},
   "outputs": [],
   "source": [
    "# mean\n",
    "file_name = 'means_all_half'\n",
    "r2, rmse = compute_models(file_name)"
   ]
  },
  {
   "cell_type": "code",
   "execution_count": 110,
   "metadata": {},
   "outputs": [],
   "source": [
    "# size\n",
    "file_name = 'size_all_half'\n",
    "r2, rmse = compute_models(file_name)"
   ]
  },
  {
   "cell_type": "code",
   "execution_count": 112,
   "metadata": {},
   "outputs": [
    {
     "data": {
      "text/html": [
       "<div>\n",
       "<style scoped>\n",
       "    .dataframe tbody tr th:only-of-type {\n",
       "        vertical-align: middle;\n",
       "    }\n",
       "\n",
       "    .dataframe tbody tr th {\n",
       "        vertical-align: top;\n",
       "    }\n",
       "\n",
       "    .dataframe thead th {\n",
       "        text-align: right;\n",
       "    }\n",
       "</style>\n",
       "<table border=\"1\" class=\"dataframe\">\n",
       "  <thead>\n",
       "    <tr style=\"text-align: right;\">\n",
       "      <th></th>\n",
       "      <th>MLR</th>\n",
       "      <th>RF100</th>\n",
       "      <th>RF200</th>\n",
       "      <th>RF300</th>\n",
       "      <th>RF400</th>\n",
       "      <th>RF500</th>\n",
       "      <th>RF600</th>\n",
       "      <th>RF700</th>\n",
       "    </tr>\n",
       "  </thead>\n",
       "  <tbody>\n",
       "    <tr>\n",
       "      <th>fold1</th>\n",
       "      <td>28.5811</td>\n",
       "      <td>29.1801</td>\n",
       "      <td>29.7449</td>\n",
       "      <td>29.6125</td>\n",
       "      <td>29.7152</td>\n",
       "      <td>29.6648</td>\n",
       "      <td>29.8086</td>\n",
       "      <td>29.6997</td>\n",
       "    </tr>\n",
       "    <tr>\n",
       "      <th>fold2</th>\n",
       "      <td>24.7651</td>\n",
       "      <td>25.3168</td>\n",
       "      <td>25.097</td>\n",
       "      <td>25.1071</td>\n",
       "      <td>25.3384</td>\n",
       "      <td>25.4552</td>\n",
       "      <td>25.0294</td>\n",
       "      <td>25.0295</td>\n",
       "    </tr>\n",
       "    <tr>\n",
       "      <th>fold3</th>\n",
       "      <td>27.272</td>\n",
       "      <td>26.2348</td>\n",
       "      <td>25.9584</td>\n",
       "      <td>26.1147</td>\n",
       "      <td>26.1616</td>\n",
       "      <td>25.9559</td>\n",
       "      <td>26.1182</td>\n",
       "      <td>25.8634</td>\n",
       "    </tr>\n",
       "    <tr>\n",
       "      <th>fold4</th>\n",
       "      <td>27.2636</td>\n",
       "      <td>28.1155</td>\n",
       "      <td>28.7566</td>\n",
       "      <td>28.4943</td>\n",
       "      <td>28.7538</td>\n",
       "      <td>28.523</td>\n",
       "      <td>28.8078</td>\n",
       "      <td>28.5498</td>\n",
       "    </tr>\n",
       "    <tr>\n",
       "      <th>fold5</th>\n",
       "      <td>26.3562</td>\n",
       "      <td>27.6395</td>\n",
       "      <td>27.5142</td>\n",
       "      <td>27.9129</td>\n",
       "      <td>27.5796</td>\n",
       "      <td>27.6041</td>\n",
       "      <td>27.597</td>\n",
       "      <td>27.5943</td>\n",
       "    </tr>\n",
       "    <tr>\n",
       "      <th>media</th>\n",
       "      <td>26.8476</td>\n",
       "      <td>27.2973</td>\n",
       "      <td>27.4142</td>\n",
       "      <td>27.4483</td>\n",
       "      <td>27.5097</td>\n",
       "      <td>27.4406</td>\n",
       "      <td>27.4722</td>\n",
       "      <td>27.3473</td>\n",
       "    </tr>\n",
       "  </tbody>\n",
       "</table>\n",
       "</div>"
      ],
      "text/plain": [
       "           MLR    RF100    RF200    RF300    RF400    RF500    RF600    RF700\n",
       "fold1  28.5811  29.1801  29.7449  29.6125  29.7152  29.6648  29.8086  29.6997\n",
       "fold2  24.7651  25.3168   25.097  25.1071  25.3384  25.4552  25.0294  25.0295\n",
       "fold3   27.272  26.2348  25.9584  26.1147  26.1616  25.9559  26.1182  25.8634\n",
       "fold4  27.2636  28.1155  28.7566  28.4943  28.7538   28.523  28.8078  28.5498\n",
       "fold5  26.3562  27.6395  27.5142  27.9129  27.5796  27.6041   27.597  27.5943\n",
       "media  26.8476  27.2973  27.4142  27.4483  27.5097  27.4406  27.4722  27.3473"
      ]
     },
     "execution_count": 112,
     "metadata": {},
     "output_type": "execute_result"
    }
   ],
   "source": [
    "rmse"
   ]
  },
  {
   "cell_type": "code",
   "execution_count": null,
   "metadata": {},
   "outputs": [],
   "source": []
  }
 ],
 "metadata": {
  "kernelspec": {
   "display_name": "Python 3",
   "language": "python",
   "name": "python3"
  },
  "language_info": {
   "codemirror_mode": {
    "name": "ipython",
    "version": 3
   },
   "file_extension": ".py",
   "mimetype": "text/x-python",
   "name": "python",
   "nbconvert_exporter": "python",
   "pygments_lexer": "ipython3",
   "version": "3.7.0"
  }
 },
 "nbformat": 4,
 "nbformat_minor": 2
}
