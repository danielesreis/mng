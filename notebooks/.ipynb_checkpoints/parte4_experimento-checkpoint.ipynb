{
 "cells": [
  {
   "cell_type": "code",
   "execution_count": null,
   "metadata": {},
   "outputs": [],
   "source": [
    "# experimento com todas as imagens das Palmer para predição do tempo de cada amostra, usando CV 5"
   ]
  },
  {
   "cell_type": "code",
   "execution_count": 11,
   "metadata": {},
   "outputs": [
    {
     "name": "stdout",
     "output_type": "stream",
     "text": [
      "The autoreload extension is already loaded. To reload it, use:\n",
      "  %reload_ext autoreload\n"
     ]
    }
   ],
   "source": [
    "import cv2\n",
    "import sys\n",
    "import numpy as np\n",
    "import pandas as pd\n",
    "import matplotlib.pyplot as plt\n",
    "import random\n",
    "import seaborn as sns\n",
    "import os \n",
    "import math\n",
    "import scipy\n",
    "\n",
    "from sklearn.ensemble import RandomForestRegressor\n",
    "from sklearn.linear_model import LinearRegression\n",
    "from sklearn.metrics import r2_score, mean_squared_error\n",
    "from sklearn.model_selection import train_test_split\n",
    "from sklearn.model_selection import cross_val_score\n",
    "from sklearn.model_selection import ShuffleSplit, KFold\n",
    "from sklearn.feature_selection import RFE\n",
    "\n",
    "%load_ext autoreload\n",
    "plt.rcParams['figure.figsize'] = [20, 15]\n",
    "\n",
    "path = os.getcwd()+'//..//imagens//'\n",
    "sys.path.append(os.getcwd()+'//..//scripts//')\n",
    "from MNG import MNG\n",
    "from MNGFeatures import MNGFeatures\n",
    "from MNGFeaturesMeans import MNGFeaturesMeans\n",
    "from MNGFeaturesSize import MNGFeaturesSize\n",
    "from MNGModel import MNGModel"
   ]
  },
  {
   "cell_type": "code",
   "execution_count": null,
   "metadata": {},
   "outputs": [],
   "source": []
  },
  {
   "cell_type": "code",
   "execution_count": 2,
   "metadata": {},
   "outputs": [],
   "source": [
    "indexes = ['fold1', 'fold2', 'fold3', 'fold4', 'fold5', 'media']\n",
    "columns = ['MLR', 'RF100', 'RF200', 'RF300', 'RF400', 'RF500']\n",
    "data_path = os.getcwd()+'/../resampling/all_data_repeated.csv'\n",
    "old_data = pd.read_csv(data_path, sep=',', index_col=0)\n",
    "\n",
    "cv_num = 5\n",
    "\n",
    "# ss = ShuffleSplit(n_splits=cv_num, test_size=0.2,random_state=0)\n",
    "kf = KFold(n_splits=5, shuffle=True)\n",
    "\n",
    "train = [[], [], [], [], []]\n",
    "test = [[], [], [], [], []]"
   ]
  },
  {
   "cell_type": "code",
   "execution_count": 44,
   "metadata": {},
   "outputs": [],
   "source": [
    "# # run this once\n",
    "# repeated_list_indexes = np.arange(480)\n",
    "# random.shuffle(repeated_list_indexes)\n",
    "# to_be_deleted = repeated_list_indexes[:120].tolist()"
   ]
  },
  {
   "cell_type": "code",
   "execution_count": 3,
   "metadata": {
    "scrolled": false
   },
   "outputs": [],
   "source": [
    "# rows_to_delete\n",
    "to_be_deleted = [234, 385, 248, 110, 378, 159, 131, 252, 9, 53, 46, 153, 307, 203, 414, 412, 438, 20, 208, 188, \\\n",
    "                 357, 315, 246, 219, 235, 456, 261, 51, 339, 415, 67, 373, 52, 335, 201, 95, 129, 200, 364, 81, \\\n",
    "                 172, 291, 64, 367, 71, 255, 263, 40, 268, 165, 313, 316, 416, 404, 167, 238, 475, 32, 202, 345, \\\n",
    "                 294, 139, 324, 83, 15, 86, 254, 419, 477, 447, 207, 94, 318, 329, 249, 250, 85, 186, 361, 170, \\\n",
    "                 270, 100, 421, 258, 96, 69, 397, 451, 22, 181, 17, 59, 467, 215, 128, 230, 93, 286, 461, 337, \\\n",
    "                 468, 18, 271, 214, 391, 383, 82, 325, 228, 442, 274, 231, 122, 426, 401, 141, 143, 244, 192, 77]"
   ]
  },
  {
   "cell_type": "code",
   "execution_count": 4,
   "metadata": {},
   "outputs": [],
   "source": [
    "# ATTENTION! I'M ASSIGNING IT MANUALLY, NOT BASED IN INDEX\n",
    "resampled_data = old_data.iloc[-480:]\n",
    "rows_to_delete = resampled_data.iloc[to_be_deleted]\n",
    "\n",
    "data1 = old_data.drop(rows_to_delete.index.values)\n",
    "\n",
    "# remove atributos diff\n",
    "data1 = data1.drop(columns=data1.columns.values[:1710])"
   ]
  },
  {
   "cell_type": "code",
   "execution_count": 5,
   "metadata": {},
   "outputs": [],
   "source": [
    "n_var_names = list(filter(lambda x: 'region' in x, data1.columns.values))\n",
    "data1 = data1.drop(columns=n_var_names)"
   ]
  },
  {
   "cell_type": "code",
   "execution_count": 77,
   "metadata": {},
   "outputs": [],
   "source": [
    "att = 'sst'\n",
    "\n",
    "atts = set(['sst','firmeza', 'acidez', 'ratio', 'massa', 'time'])\n",
    "data = data1.drop(columns=list(atts.difference(set([att]))))"
   ]
  },
  {
   "cell_type": "code",
   "execution_count": null,
   "metadata": {},
   "outputs": [],
   "source": []
  },
  {
   "cell_type": "markdown",
   "metadata": {},
   "source": [
    "<span style=\"font-size:30px;color:red\">execute this to run models without resampled data</span>"
   ]
  },
  {
   "cell_type": "code",
   "execution_count": 10,
   "metadata": {},
   "outputs": [],
   "source": [
    "synthetic_indexes = list(filter(lambda x: 'repeated' in x, data1.index.values))\n",
    "rows_to_delete = data1.loc[synthetic_indexes]\n",
    "data = data1.drop(rows_to_delete.index.values)"
   ]
  },
  {
   "cell_type": "code",
   "execution_count": null,
   "metadata": {},
   "outputs": [],
   "source": []
  },
  {
   "cell_type": "code",
   "execution_count": 8,
   "metadata": {},
   "outputs": [],
   "source": [
    "def compute_models(data, target, trees=[100, 200, 300, 400, 500, 600, 700]):\n",
    "    df_r2 = pd.DataFrame(index=indexes, columns=columns)\n",
    "    df_rmse = pd.DataFrame(index=indexes, columns=columns)\n",
    "    \n",
    "    X = data.drop(columns=target)\n",
    "    Y = data[target]\n",
    "\n",
    "    i = 0\n",
    "    for train_i, test_i in kf.split(X):\n",
    "        train[i] = train_i\n",
    "        test[i] = test_i\n",
    "        X_train, X_test = X.iloc[train_i], X.iloc[test_i]\n",
    "        Y_train, Y_test = Y.iloc[train_i], Y.iloc[test_i]\n",
    "    \n",
    "        mlr_model = LinearRegression().fit(X_train, Y_train)\n",
    "        Y_predicted = mlr_model.predict(X_test)\n",
    "    \n",
    "        r2 = r2_score(Y_test, Y_predicted)\n",
    "        rmse= math.sqrt(mean_squared_error(Y_test, Y_predicted))\n",
    "    \n",
    "        df_r2['MLR'].iloc[i] = r2\n",
    "        df_rmse['MLR'].iloc[i] = rmse\n",
    "\n",
    "        for tree in trees:\n",
    "            rf_model = RandomForestRegressor(n_estimators=tree).fit(X_train, Y_train)\n",
    "            Y_predicted = rf_model.predict(X_test)\n",
    "\n",
    "            r2 = r2_score(Y_test, Y_predicted)\n",
    "            rmse= math.sqrt(mean_squared_error(Y_test, Y_predicted))\n",
    "\n",
    "            df_r2['RF'+str(tree)].iloc[i] = r2 \n",
    "            df_rmse['RF'+str(tree)].iloc[i] = rmse \n",
    "\n",
    "        i = i + 1\n",
    "    \n",
    "    df_r2['MLR'].iloc[-1] = df_r2['MLR'].mean()\n",
    "    df_rmse['MLR'].iloc[-1] = df_rmse['MLR'].mean()\n",
    "    \n",
    "    for tree in trees:\n",
    "        df_r2['RF'+str(tree)].iloc[-1] = df_r2['RF'+str(tree)].mean()\n",
    "        df_rmse['RF'+str(tree)].iloc[-1] = df_rmse['RF'+str(tree)].mean()\n",
    "        \n",
    "    return df_r2, df_rmse"
   ]
  },
  {
   "cell_type": "markdown",
   "metadata": {},
   "source": [
    "# RFE variable selection"
   ]
  },
  {
   "cell_type": "code",
   "execution_count": 109,
   "metadata": {},
   "outputs": [],
   "source": [
    "# ALL - novo\n",
    "r2, rmse = compute_models(data.drop(columns=['height', 'width']), att, [100])"
   ]
  },
  {
   "cell_type": "code",
   "execution_count": 110,
   "metadata": {},
   "outputs": [],
   "source": [
    "estimator = RandomForestRegressor(n_estimators=100)"
   ]
  },
  {
   "cell_type": "code",
   "execution_count": 111,
   "metadata": {},
   "outputs": [],
   "source": [
    "selector = RFE(estimator)"
   ]
  },
  {
   "cell_type": "code",
   "execution_count": 112,
   "metadata": {},
   "outputs": [],
   "source": [
    "selector = selector.fit(data.drop(columns=[att, 'height', 'width']), data[att])"
   ]
  },
  {
   "cell_type": "code",
   "execution_count": 113,
   "metadata": {},
   "outputs": [],
   "source": [
    "cols = data.drop(columns=[att, 'height', 'width']).columns.values"
   ]
  },
  {
   "cell_type": "code",
   "execution_count": 114,
   "metadata": {},
   "outputs": [],
   "source": [
    "important_variables = selector.support_ * cols\n",
    "important_variables = important_variables[important_variables != '']"
   ]
  },
  {
   "cell_type": "code",
   "execution_count": 115,
   "metadata": {},
   "outputs": [
    {
     "data": {
      "text/plain": [
       "array(['RB_diff_full', 'RB_rate', 'RG_diff_full', 'RG_rate', 'SH_rate',\n",
       "       'apex_R', 'apex_equator_R_diff', 'apex_stalk_B_diff',\n",
       "       'apex_stalk_R_diff', 'area', 'cd', 'diameter', 'equator_B',\n",
       "       'equator_stalk_R_diff', 'mean_B_full', 'mean_G_full',\n",
       "       'mean_H_full', 'mean_a_full', 'stalk_B', 'stalk_R'], dtype=object)"
      ]
     },
     "execution_count": 115,
     "metadata": {},
     "output_type": "execute_result"
    }
   ],
   "source": [
    "important_variables"
   ]
  },
  {
   "cell_type": "code",
   "execution_count": 106,
   "metadata": {},
   "outputs": [],
   "source": [
    "att = 'time'\n",
    "\n",
    "atts = set(['sst','firmeza', 'acidez', 'ratio', 'massa', 'time'])\n",
    "data = data1.drop(columns=list(atts.difference(set([att]))))"
   ]
  },
  {
   "cell_type": "code",
   "execution_count": 107,
   "metadata": {},
   "outputs": [],
   "source": [
    "cols = list(important_variables) + [att]\n",
    "r2, rmse = compute_models(data[cols], att, [100])"
   ]
  },
  {
   "cell_type": "code",
   "execution_count": 108,
   "metadata": {},
   "outputs": [],
   "source": [
    "r2.to_csv('../results/rfbestvar_%s_r2.csv' % att)\n",
    "rmse.to_csv('../results/rfbestvar_%s_rmse.csv' % att)"
   ]
  },
  {
   "cell_type": "code",
   "execution_count": null,
   "metadata": {},
   "outputs": [],
   "source": []
  },
  {
   "cell_type": "code",
   "execution_count": 19,
   "metadata": {},
   "outputs": [],
   "source": [
    "# mean and size\n",
    "cols = [att, 'mean_R_full', 'mean_G_full', 'mean_B_full', 'mean_H_full', 'mean_S_full', 'mean_V_full', 'mean_L_full', \\\n",
    "           'mean_a_full', 'mean_b_full', 'area', 'diameter', 'height', 'width']\n",
    "r2, rmse = compute_models(data[cols], att, [100])"
   ]
  },
  {
   "cell_type": "code",
   "execution_count": 23,
   "metadata": {},
   "outputs": [],
   "source": [
    "# mean (A1 group)\n",
    "cols = [att, 'mean_R_full', 'mean_G_full', 'mean_B_full', 'mean_H_full', 'mean_S_full', 'mean_V_full', 'mean_L_full', \\\n",
    "           'mean_a_full']\n",
    "r2, rmse = compute_models(data[cols], att, [100])"
   ]
  },
  {
   "cell_type": "code",
   "execution_count": 26,
   "metadata": {},
   "outputs": [],
   "source": [
    "# dominant hsv (A3 group)\n",
    "cols = [att, 'dominant_HSV']\n",
    "r2, rmse = compute_models(data[cols], att, [100])"
   ]
  },
  {
   "cell_type": "code",
   "execution_count": 30,
   "metadata": {},
   "outputs": [],
   "source": [
    "# A5 group\n",
    "cols = [att,'RG_diff_full','RB_diff_full','GB_diff_full','apex_R','apex_G','apex_B','equator_R','equator_G','equator_B',\\\n",
    "        'stalk_R','stalk_G','stalk_B','apex_equator_R_diff','equator_stalk_R_diff','apex_stalk_R_diff','apex_equator_G_diff',\\\n",
    "        'equator_stalk_G_diff','apex_stalk_G_diff','apex_equator_B_diff','equator_stalk_B_diff','apex_stalk_B_diff', \\\n",
    "        'long_gradient', 'mean_R_full', 'mean_G_full', 'mean_B_full']\n",
    "r2, rmse = compute_models(data[cols], att, [100])"
   ]
  },
  {
   "cell_type": "code",
   "execution_count": 34,
   "metadata": {},
   "outputs": [],
   "source": [
    "# A6 group\n",
    "cols = [att, 'area']\n",
    "r2, rmse = compute_models(data[cols], att, [100])"
   ]
  },
  {
   "cell_type": "code",
   "execution_count": 37,
   "metadata": {},
   "outputs": [],
   "source": [
    "# n regions\n",
    "regions = ['region' in col for col in data.columns.values]\n",
    "cols = data.columns.values[regions]\n",
    "cols = np.append(cols, [att])\n",
    "\n",
    "r2, rmse = compute_models(data[cols], att, [500])"
   ]
  },
  {
   "cell_type": "code",
   "execution_count": 19,
   "metadata": {},
   "outputs": [],
   "source": [
    "att = 'firmeza'"
   ]
  },
  {
   "cell_type": "code",
   "execution_count": 20,
   "metadata": {},
   "outputs": [],
   "source": [
    "# A8 group\n",
    "cols = [att, 'mean_R_full', 'mean_G_full', 'mean_B_full']\n",
    "\n",
    "r2, rmse = compute_models(data[cols], att, [100])"
   ]
  },
  {
   "cell_type": "code",
   "execution_count": 24,
   "metadata": {},
   "outputs": [
    {
     "data": {
      "text/html": [
       "<div>\n",
       "<style scoped>\n",
       "    .dataframe tbody tr th:only-of-type {\n",
       "        vertical-align: middle;\n",
       "    }\n",
       "\n",
       "    .dataframe tbody tr th {\n",
       "        vertical-align: top;\n",
       "    }\n",
       "\n",
       "    .dataframe thead th {\n",
       "        text-align: right;\n",
       "    }\n",
       "</style>\n",
       "<table border=\"1\" class=\"dataframe\">\n",
       "  <thead>\n",
       "    <tr style=\"text-align: right;\">\n",
       "      <th></th>\n",
       "      <th>MLR</th>\n",
       "      <th>RF100</th>\n",
       "      <th>RF200</th>\n",
       "      <th>RF300</th>\n",
       "      <th>RF400</th>\n",
       "      <th>RF500</th>\n",
       "    </tr>\n",
       "  </thead>\n",
       "  <tbody>\n",
       "    <tr>\n",
       "      <th>fold1</th>\n",
       "      <td>37.9909</td>\n",
       "      <td>26.6008</td>\n",
       "      <td>NaN</td>\n",
       "      <td>NaN</td>\n",
       "      <td>NaN</td>\n",
       "      <td>NaN</td>\n",
       "    </tr>\n",
       "    <tr>\n",
       "      <th>fold2</th>\n",
       "      <td>38.2299</td>\n",
       "      <td>27.043</td>\n",
       "      <td>NaN</td>\n",
       "      <td>NaN</td>\n",
       "      <td>NaN</td>\n",
       "      <td>NaN</td>\n",
       "    </tr>\n",
       "    <tr>\n",
       "      <th>fold3</th>\n",
       "      <td>41.2087</td>\n",
       "      <td>26.772</td>\n",
       "      <td>NaN</td>\n",
       "      <td>NaN</td>\n",
       "      <td>NaN</td>\n",
       "      <td>NaN</td>\n",
       "    </tr>\n",
       "    <tr>\n",
       "      <th>fold4</th>\n",
       "      <td>40.6138</td>\n",
       "      <td>26.2011</td>\n",
       "      <td>NaN</td>\n",
       "      <td>NaN</td>\n",
       "      <td>NaN</td>\n",
       "      <td>NaN</td>\n",
       "    </tr>\n",
       "    <tr>\n",
       "      <th>fold5</th>\n",
       "      <td>41.2758</td>\n",
       "      <td>27.5923</td>\n",
       "      <td>NaN</td>\n",
       "      <td>NaN</td>\n",
       "      <td>NaN</td>\n",
       "      <td>NaN</td>\n",
       "    </tr>\n",
       "    <tr>\n",
       "      <th>media</th>\n",
       "      <td>39.8638</td>\n",
       "      <td>26.8419</td>\n",
       "      <td>NaN</td>\n",
       "      <td>NaN</td>\n",
       "      <td>NaN</td>\n",
       "      <td>NaN</td>\n",
       "    </tr>\n",
       "  </tbody>\n",
       "</table>\n",
       "</div>"
      ],
      "text/plain": [
       "           MLR    RF100 RF200 RF300 RF400 RF500\n",
       "fold1  37.9909  26.6008   NaN   NaN   NaN   NaN\n",
       "fold2  38.2299   27.043   NaN   NaN   NaN   NaN\n",
       "fold3  41.2087   26.772   NaN   NaN   NaN   NaN\n",
       "fold4  40.6138  26.2011   NaN   NaN   NaN   NaN\n",
       "fold5  41.2758  27.5923   NaN   NaN   NaN   NaN\n",
       "media  39.8638  26.8419   NaN   NaN   NaN   NaN"
      ]
     },
     "execution_count": 24,
     "metadata": {},
     "output_type": "execute_result"
    }
   ],
   "source": [
    "rmse"
   ]
  },
  {
   "cell_type": "code",
   "execution_count": 115,
   "metadata": {},
   "outputs": [],
   "source": [
    "# group A9\n",
    "cols = [att, 'mean_L_full', 'mean_a_full', 'mean_b_full', 'bcd', 'cd', 'dd']\n",
    "\n",
    "r2, rmse = compute_models(data[cols], att, [100])"
   ]
  },
  {
   "cell_type": "code",
   "execution_count": 117,
   "metadata": {},
   "outputs": [
    {
     "data": {
      "text/html": [
       "<div>\n",
       "<style scoped>\n",
       "    .dataframe tbody tr th:only-of-type {\n",
       "        vertical-align: middle;\n",
       "    }\n",
       "\n",
       "    .dataframe tbody tr th {\n",
       "        vertical-align: top;\n",
       "    }\n",
       "\n",
       "    .dataframe thead th {\n",
       "        text-align: right;\n",
       "    }\n",
       "</style>\n",
       "<table border=\"1\" class=\"dataframe\">\n",
       "  <thead>\n",
       "    <tr style=\"text-align: right;\">\n",
       "      <th></th>\n",
       "      <th>MLR</th>\n",
       "      <th>RF100</th>\n",
       "      <th>RF200</th>\n",
       "      <th>RF300</th>\n",
       "      <th>RF400</th>\n",
       "      <th>RF500</th>\n",
       "    </tr>\n",
       "  </thead>\n",
       "  <tbody>\n",
       "    <tr>\n",
       "      <th>fold1</th>\n",
       "      <td>2.06773</td>\n",
       "      <td>1.1352</td>\n",
       "      <td>NaN</td>\n",
       "      <td>NaN</td>\n",
       "      <td>NaN</td>\n",
       "      <td>NaN</td>\n",
       "    </tr>\n",
       "    <tr>\n",
       "      <th>fold2</th>\n",
       "      <td>2.04806</td>\n",
       "      <td>1.04673</td>\n",
       "      <td>NaN</td>\n",
       "      <td>NaN</td>\n",
       "      <td>NaN</td>\n",
       "      <td>NaN</td>\n",
       "    </tr>\n",
       "    <tr>\n",
       "      <th>fold3</th>\n",
       "      <td>2.15984</td>\n",
       "      <td>1.09205</td>\n",
       "      <td>NaN</td>\n",
       "      <td>NaN</td>\n",
       "      <td>NaN</td>\n",
       "      <td>NaN</td>\n",
       "    </tr>\n",
       "    <tr>\n",
       "      <th>fold4</th>\n",
       "      <td>1.93836</td>\n",
       "      <td>0.94321</td>\n",
       "      <td>NaN</td>\n",
       "      <td>NaN</td>\n",
       "      <td>NaN</td>\n",
       "      <td>NaN</td>\n",
       "    </tr>\n",
       "    <tr>\n",
       "      <th>fold5</th>\n",
       "      <td>2.13936</td>\n",
       "      <td>0.874806</td>\n",
       "      <td>NaN</td>\n",
       "      <td>NaN</td>\n",
       "      <td>NaN</td>\n",
       "      <td>NaN</td>\n",
       "    </tr>\n",
       "    <tr>\n",
       "      <th>media</th>\n",
       "      <td>2.07067</td>\n",
       "      <td>1.0184</td>\n",
       "      <td>NaN</td>\n",
       "      <td>NaN</td>\n",
       "      <td>NaN</td>\n",
       "      <td>NaN</td>\n",
       "    </tr>\n",
       "  </tbody>\n",
       "</table>\n",
       "</div>"
      ],
      "text/plain": [
       "           MLR     RF100 RF200 RF300 RF400 RF500\n",
       "fold1  2.06773    1.1352   NaN   NaN   NaN   NaN\n",
       "fold2  2.04806   1.04673   NaN   NaN   NaN   NaN\n",
       "fold3  2.15984   1.09205   NaN   NaN   NaN   NaN\n",
       "fold4  1.93836   0.94321   NaN   NaN   NaN   NaN\n",
       "fold5  2.13936  0.874806   NaN   NaN   NaN   NaN\n",
       "media  2.07067    1.0184   NaN   NaN   NaN   NaN"
      ]
     },
     "execution_count": 117,
     "metadata": {},
     "output_type": "execute_result"
    }
   ],
   "source": [
    "rmse"
   ]
  },
  {
   "cell_type": "code",
   "execution_count": 14,
   "metadata": {},
   "outputs": [],
   "source": [
    "# group A11\n",
    "cols = [att, 'mean_H_full']\n",
    "\n",
    "r2, rmse = compute_models(data[cols], att, [100])"
   ]
  },
  {
   "cell_type": "code",
   "execution_count": 16,
   "metadata": {},
   "outputs": [
    {
     "data": {
      "text/html": [
       "<div>\n",
       "<style scoped>\n",
       "    .dataframe tbody tr th:only-of-type {\n",
       "        vertical-align: middle;\n",
       "    }\n",
       "\n",
       "    .dataframe tbody tr th {\n",
       "        vertical-align: top;\n",
       "    }\n",
       "\n",
       "    .dataframe thead th {\n",
       "        text-align: right;\n",
       "    }\n",
       "</style>\n",
       "<table border=\"1\" class=\"dataframe\">\n",
       "  <thead>\n",
       "    <tr style=\"text-align: right;\">\n",
       "      <th></th>\n",
       "      <th>MLR</th>\n",
       "      <th>RF100</th>\n",
       "      <th>RF200</th>\n",
       "      <th>RF300</th>\n",
       "      <th>RF400</th>\n",
       "      <th>RF500</th>\n",
       "    </tr>\n",
       "  </thead>\n",
       "  <tbody>\n",
       "    <tr>\n",
       "      <th>fold1</th>\n",
       "      <td>4.58421</td>\n",
       "      <td>3.03097</td>\n",
       "      <td>NaN</td>\n",
       "      <td>NaN</td>\n",
       "      <td>NaN</td>\n",
       "      <td>NaN</td>\n",
       "    </tr>\n",
       "    <tr>\n",
       "      <th>fold2</th>\n",
       "      <td>4.60134</td>\n",
       "      <td>3.19806</td>\n",
       "      <td>NaN</td>\n",
       "      <td>NaN</td>\n",
       "      <td>NaN</td>\n",
       "      <td>NaN</td>\n",
       "    </tr>\n",
       "    <tr>\n",
       "      <th>fold3</th>\n",
       "      <td>4.32845</td>\n",
       "      <td>2.95948</td>\n",
       "      <td>NaN</td>\n",
       "      <td>NaN</td>\n",
       "      <td>NaN</td>\n",
       "      <td>NaN</td>\n",
       "    </tr>\n",
       "    <tr>\n",
       "      <th>fold4</th>\n",
       "      <td>4.41438</td>\n",
       "      <td>2.8888</td>\n",
       "      <td>NaN</td>\n",
       "      <td>NaN</td>\n",
       "      <td>NaN</td>\n",
       "      <td>NaN</td>\n",
       "    </tr>\n",
       "    <tr>\n",
       "      <th>fold5</th>\n",
       "      <td>4.43694</td>\n",
       "      <td>2.79781</td>\n",
       "      <td>NaN</td>\n",
       "      <td>NaN</td>\n",
       "      <td>NaN</td>\n",
       "      <td>NaN</td>\n",
       "    </tr>\n",
       "    <tr>\n",
       "      <th>media</th>\n",
       "      <td>4.47307</td>\n",
       "      <td>2.97502</td>\n",
       "      <td>NaN</td>\n",
       "      <td>NaN</td>\n",
       "      <td>NaN</td>\n",
       "      <td>NaN</td>\n",
       "    </tr>\n",
       "  </tbody>\n",
       "</table>\n",
       "</div>"
      ],
      "text/plain": [
       "           MLR    RF100 RF200 RF300 RF400 RF500\n",
       "fold1  4.58421  3.03097   NaN   NaN   NaN   NaN\n",
       "fold2  4.60134  3.19806   NaN   NaN   NaN   NaN\n",
       "fold3  4.32845  2.95948   NaN   NaN   NaN   NaN\n",
       "fold4  4.41438   2.8888   NaN   NaN   NaN   NaN\n",
       "fold5  4.43694  2.79781   NaN   NaN   NaN   NaN\n",
       "media  4.47307  2.97502   NaN   NaN   NaN   NaN"
      ]
     },
     "execution_count": 16,
     "metadata": {},
     "output_type": "execute_result"
    }
   ],
   "source": [
    "rmse"
   ]
  },
  {
   "cell_type": "code",
   "execution_count": 50,
   "metadata": {},
   "outputs": [],
   "source": [
    "# group A12\n",
    "cols = [att, 'mean_H_full', 'mean_S_full', 'mean_V_full', 'mean_L_full', 'mean_a_full', 'mean_b_full']\n",
    "\n",
    "r2, rmse = compute_models(data[cols], att, [100])"
   ]
  },
  {
   "cell_type": "code",
   "execution_count": 53,
   "metadata": {},
   "outputs": [],
   "source": [
    "# group A13\n",
    "cols = [att, 'mean_H_full', 'mean_S_full', 'mean_V_full', 'mean_R_full', 'mean_G_full', 'mean_B_full', 'RG_rate', 'RB_rate',\\\n",
    "       'SH_rate']\n",
    "\n",
    "r2, rmse = compute_models(data[cols], att, [100])"
   ]
  },
  {
   "cell_type": "code",
   "execution_count": 56,
   "metadata": {},
   "outputs": [],
   "source": [
    "# group A14\n",
    "cols = [att, 'mean_b_full', 'area', 'diameter']\n",
    "\n",
    "r2, rmse = compute_models(data[cols], att, [100])"
   ]
  },
  {
   "cell_type": "code",
   "execution_count": 106,
   "metadata": {},
   "outputs": [],
   "source": [
    "cols = [att, 'bcd', 'cd', 'cd', 'mean_L_full', 'mean_a_full', 'mean_b_full']\n",
    "\n",
    "r2, rmse = compute_models(data[cols], att, [100])"
   ]
  },
  {
   "cell_type": "code",
   "execution_count": 107,
   "metadata": {},
   "outputs": [
    {
     "data": {
      "text/html": [
       "<div>\n",
       "<style scoped>\n",
       "    .dataframe tbody tr th:only-of-type {\n",
       "        vertical-align: middle;\n",
       "    }\n",
       "\n",
       "    .dataframe tbody tr th {\n",
       "        vertical-align: top;\n",
       "    }\n",
       "\n",
       "    .dataframe thead th {\n",
       "        text-align: right;\n",
       "    }\n",
       "</style>\n",
       "<table border=\"1\" class=\"dataframe\">\n",
       "  <thead>\n",
       "    <tr style=\"text-align: right;\">\n",
       "      <th></th>\n",
       "      <th>MLR</th>\n",
       "      <th>RF100</th>\n",
       "      <th>RF200</th>\n",
       "      <th>RF300</th>\n",
       "      <th>RF400</th>\n",
       "      <th>RF500</th>\n",
       "    </tr>\n",
       "  </thead>\n",
       "  <tbody>\n",
       "    <tr>\n",
       "      <th>fold1</th>\n",
       "      <td>0.78789</td>\n",
       "      <td>0.958657</td>\n",
       "      <td>NaN</td>\n",
       "      <td>NaN</td>\n",
       "      <td>NaN</td>\n",
       "      <td>NaN</td>\n",
       "    </tr>\n",
       "    <tr>\n",
       "      <th>fold2</th>\n",
       "      <td>0.801515</td>\n",
       "      <td>0.941756</td>\n",
       "      <td>NaN</td>\n",
       "      <td>NaN</td>\n",
       "      <td>NaN</td>\n",
       "      <td>NaN</td>\n",
       "    </tr>\n",
       "    <tr>\n",
       "      <th>fold3</th>\n",
       "      <td>0.787255</td>\n",
       "      <td>0.922851</td>\n",
       "      <td>NaN</td>\n",
       "      <td>NaN</td>\n",
       "      <td>NaN</td>\n",
       "      <td>NaN</td>\n",
       "    </tr>\n",
       "    <tr>\n",
       "      <th>fold4</th>\n",
       "      <td>0.769927</td>\n",
       "      <td>0.955441</td>\n",
       "      <td>NaN</td>\n",
       "      <td>NaN</td>\n",
       "      <td>NaN</td>\n",
       "      <td>NaN</td>\n",
       "    </tr>\n",
       "    <tr>\n",
       "      <th>fold5</th>\n",
       "      <td>0.78554</td>\n",
       "      <td>0.950653</td>\n",
       "      <td>NaN</td>\n",
       "      <td>NaN</td>\n",
       "      <td>NaN</td>\n",
       "      <td>NaN</td>\n",
       "    </tr>\n",
       "    <tr>\n",
       "      <th>media</th>\n",
       "      <td>0.786426</td>\n",
       "      <td>0.945872</td>\n",
       "      <td>NaN</td>\n",
       "      <td>NaN</td>\n",
       "      <td>NaN</td>\n",
       "      <td>NaN</td>\n",
       "    </tr>\n",
       "  </tbody>\n",
       "</table>\n",
       "</div>"
      ],
      "text/plain": [
       "            MLR     RF100 RF200 RF300 RF400 RF500\n",
       "fold1   0.78789  0.958657   NaN   NaN   NaN   NaN\n",
       "fold2  0.801515  0.941756   NaN   NaN   NaN   NaN\n",
       "fold3  0.787255  0.922851   NaN   NaN   NaN   NaN\n",
       "fold4  0.769927  0.955441   NaN   NaN   NaN   NaN\n",
       "fold5   0.78554  0.950653   NaN   NaN   NaN   NaN\n",
       "media  0.786426  0.945872   NaN   NaN   NaN   NaN"
      ]
     },
     "execution_count": 107,
     "metadata": {},
     "output_type": "execute_result"
    }
   ],
   "source": [
    "r2"
   ]
  },
  {
   "cell_type": "code",
   "execution_count": 59,
   "metadata": {},
   "outputs": [],
   "source": [
    "# regions (n=20), area, diameter, height, width\n",
    "regions = ['region' in col for col in data.columns.values]\n",
    "cols = data.columns.values[regions]\n",
    "cols = np.append(cols, [att, 'area', 'width', 'height', 'diameter'])\n",
    "\n",
    "r2, rmse = compute_models(data[cols], att, [500])"
   ]
  },
  {
   "cell_type": "code",
   "execution_count": 33,
   "metadata": {},
   "outputs": [],
   "source": [
    "att = 'firmeza'"
   ]
  },
  {
   "cell_type": "code",
   "execution_count": 68,
   "metadata": {},
   "outputs": [],
   "source": [
    "# ALL + novo\n",
    "r2, rmse = compute_models(data, att, [500])"
   ]
  }
 ],
 "metadata": {
  "kernelspec": {
   "display_name": "Python 3",
   "language": "python",
   "name": "python3"
  },
  "language_info": {
   "codemirror_mode": {
    "name": "ipython",
    "version": 3
   },
   "file_extension": ".py",
   "mimetype": "text/x-python",
   "name": "python",
   "nbconvert_exporter": "python",
   "pygments_lexer": "ipython3",
   "version": "3.6.7"
  }
 },
 "nbformat": 4,
 "nbformat_minor": 2
}
