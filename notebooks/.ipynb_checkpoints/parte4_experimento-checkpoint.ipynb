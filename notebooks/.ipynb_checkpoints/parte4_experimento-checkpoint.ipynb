{
 "cells": [
  {
   "cell_type": "code",
   "execution_count": null,
   "metadata": {},
   "outputs": [],
   "source": [
    "# experimento com todas as imagens das Palmer para predição do tempo de cada amostra, usando CV 5"
   ]
  },
  {
   "cell_type": "code",
   "execution_count": 1,
   "metadata": {},
   "outputs": [],
   "source": [
    "import cv2\n",
    "import sys\n",
    "import numpy as np\n",
    "import pandas as pd\n",
    "import matplotlib.pyplot as plt\n",
    "import random\n",
    "import seaborn as sns\n",
    "import os \n",
    "import math\n",
    "import scipy\n",
    "\n",
    "from sklearn.ensemble import RandomForestRegressor\n",
    "from sklearn.linear_model import LinearRegression\n",
    "from sklearn.metrics import r2_score, mean_squared_error\n",
    "from sklearn.model_selection import train_test_split\n",
    "from sklearn.model_selection import cross_val_score\n",
    "from sklearn.model_selection import ShuffleSplit, KFold\n",
    "\n",
    "%load_ext autoreload\n",
    "plt.rcParams['figure.figsize'] = [20, 15]\n",
    "\n",
    "path = os.getcwd()+'//..//imagens//'\n",
    "sys.path.append(os.getcwd()+'//..//scripts//')\n",
    "from MNG import MNG\n",
    "from MNGFeatures import MNGFeatures\n",
    "from MNGFeaturesMeans import MNGFeaturesMeans\n",
    "from MNGFeaturesSize import MNGFeaturesSize\n",
    "from MNGModel import MNGModel"
   ]
  },
  {
   "cell_type": "code",
   "execution_count": null,
   "metadata": {},
   "outputs": [],
   "source": []
  },
  {
   "cell_type": "code",
   "execution_count": null,
   "metadata": {},
   "outputs": [],
   "source": []
  },
  {
   "cell_type": "code",
   "execution_count": null,
   "metadata": {},
   "outputs": [],
   "source": []
  },
  {
   "cell_type": "code",
   "execution_count": 316,
   "metadata": {},
   "outputs": [],
   "source": [
    "indexes = ['fold1', 'fold2', 'fold3', 'fold4', 'fold5', 'media']\n",
    "columns = ['MLR', 'RF100', 'RF200', 'RF300', 'RF400', 'RF500']\n",
    "data_path = os.getcwd()+'/../resampling/all_data_repeated.csv'\n",
    "old_data = pd.read_csv(data_path, sep=',', index_col=0)\n",
    "\n",
    "cv_num = 5\n",
    "\n",
    "# ss = ShuffleSplit(n_splits=cv_num, test_size=0.2,random_state=0)\n",
    "kf = KFold(n_splits=5, shuffle=True)\n",
    "\n",
    "train = [[], [], [], [], []]\n",
    "test = [[], [], [], [], []]"
   ]
  },
  {
   "cell_type": "code",
   "execution_count": 275,
   "metadata": {},
   "outputs": [],
   "source": [
    "# # run this once\n",
    "# repeated_list_indexes = np.arange(480)\n",
    "# random.shuffle(repeated_list_indexes)\n",
    "# to_be_deleted = repeated_list_indexes[:120].tolist()"
   ]
  },
  {
   "cell_type": "code",
   "execution_count": 317,
   "metadata": {
    "scrolled": false
   },
   "outputs": [],
   "source": [
    "# rows_to_delete\n",
    "to_be_deleted = [234, 385, 248, 110, 378, 159, 131, 252, 9, 53, 46, 153, 307, 203, 414, 412, 438, 20, 208, 188, \\\n",
    "                 357, 315, 246, 219, 235, 456, 261, 51, 339, 415, 67, 373, 52, 335, 201, 95, 129, 200, 364, 81, \\\n",
    "                 172, 291, 64, 367, 71, 255, 263, 40, 268, 165, 313, 316, 416, 404, 167, 238, 475, 32, 202, 345, \\\n",
    "                 294, 139, 324, 83, 15, 86, 254, 419, 477, 447, 207, 94, 318, 329, 249, 250, 85, 186, 361, 170, \\\n",
    "                 270, 100, 421, 258, 96, 69, 397, 451, 22, 181, 17, 59, 467, 215, 128, 230, 93, 286, 461, 337, \\\n",
    "                 468, 18, 271, 214, 391, 383, 82, 325, 228, 442, 274, 231, 122, 426, 401, 141, 143, 244, 192, 77]"
   ]
  },
  {
   "cell_type": "code",
   "execution_count": 318,
   "metadata": {},
   "outputs": [],
   "source": [
    "# ATTENTION! I'M ASSIGNING IT MANUALLY, NOT BASED IN INDEX\n",
    "resampled_data = old_data.iloc[-480:]\n",
    "rows_to_delete = resampled_data.iloc[to_be_deleted]\n",
    "\n",
    "data = old_data.drop(rows_to_delete.index.values)\n",
    "\n",
    "# remove atributos diff\n",
    "data = data.drop(columns=data.columns.values[:1710])"
   ]
  },
  {
   "cell_type": "code",
   "execution_count": 319,
   "metadata": {},
   "outputs": [],
   "source": [
    "data.drop(columns=['sst','firmeza', 'acidez', 'ratio', 'massa'], inplace=True)"
   ]
  },
  {
   "cell_type": "code",
   "execution_count": null,
   "metadata": {},
   "outputs": [],
   "source": []
  },
  {
   "cell_type": "code",
   "execution_count": 324,
   "metadata": {},
   "outputs": [],
   "source": [
    "# execute this to run models without resampled data\n",
    "synthetic_indexes = list(filter(lambda x: 'repeated' in x, data.index.values))\n",
    "rows_to_delete = data.loc[synthetic_indexes]\n",
    "data = data.drop(rows_to_delete.index.values)"
   ]
  },
  {
   "cell_type": "code",
   "execution_count": 320,
   "metadata": {},
   "outputs": [],
   "source": [
    "def compute_models(data, target, trees=[100, 200, 300, 400, 500, 600, 700]):\n",
    "    df_r2 = pd.DataFrame(index=indexes, columns=columns)\n",
    "    df_rmse = pd.DataFrame(index=indexes, columns=columns)\n",
    "    \n",
    "    X = data.drop(columns=target)\n",
    "    Y = data[target]\n",
    "\n",
    "    i = 0\n",
    "    for train_i, test_i in kf.split(X):\n",
    "        train[i] = train_i\n",
    "        test[i] = test_i\n",
    "        X_train, X_test = X.iloc[train_i], X.iloc[test_i]\n",
    "        Y_train, Y_test = Y.iloc[train_i], Y.iloc[test_i]\n",
    "    \n",
    "        mlr_model = LinearRegression().fit(X_train, Y_train)\n",
    "        Y_predicted = mlr_model.predict(X_test)\n",
    "    \n",
    "        r2 = r2_score(Y_test, Y_predicted)\n",
    "        rmse= math.sqrt(mean_squared_error(Y_test, Y_predicted))\n",
    "    \n",
    "        df_r2['MLR'].iloc[i] = r2\n",
    "        df_rmse['MLR'].iloc[i] = rmse\n",
    "        \n",
    "#         if type(trees) == int:\n",
    "#             rf_model = RandomForestRegressor(n_estimators=trees).fit(X_train, Y_train)\n",
    "#             Y_predicted = rf_model.predict(X_test)\n",
    "\n",
    "#             r2 = r2_score(Y_test, Y_predicted)\n",
    "#             rmse= math.sqrt(mean_squared_error(Y_test, Y_predicted))\n",
    "\n",
    "#             df_r2['RF'+str(trees)].iloc[i] = r2 \n",
    "#             df_rmse['RF'+str(trees)].iloc[i] = rmse\n",
    "            \n",
    "#             i = i + 1\n",
    "\n",
    "        for tree in trees:\n",
    "            rf_model = RandomForestRegressor(n_estimators=tree).fit(X_train, Y_train)\n",
    "            Y_predicted = rf_model.predict(X_test)\n",
    "\n",
    "            r2 = r2_score(Y_test, Y_predicted)\n",
    "            rmse= math.sqrt(mean_squared_error(Y_test, Y_predicted))\n",
    "\n",
    "            df_r2['RF'+str(tree)].iloc[i] = r2 \n",
    "            df_rmse['RF'+str(tree)].iloc[i] = rmse \n",
    "\n",
    "        i = i + 1\n",
    "    \n",
    "    df_r2['MLR'].iloc[-1] = df_r2['MLR'].mean()\n",
    "    df_rmse['MLR'].iloc[-1] = df_rmse['MLR'].mean()\n",
    "    \n",
    "    for tree in trees:\n",
    "        df_r2['RF'+str(tree)].iloc[-1] = df_r2['RF'+str(tree)].mean()\n",
    "        df_rmse['RF'+str(tree)].iloc[-1] = df_rmse['RF'+str(tree)].mean()\n",
    "        \n",
    "    return df_r2, df_rmse"
   ]
  },
  {
   "cell_type": "code",
   "execution_count": 211,
   "metadata": {},
   "outputs": [],
   "source": [
    "# mean and size\n",
    "cols = ['time', 'mean_R_full', 'mean_G_full', 'mean_B_full', 'mean_H_full', 'mean_S_full', 'mean_V_full', 'mean_L_full', \\\n",
    "           'mean_a_full', 'mean_b_full', 'area', 'diameter', 'height', 'width']\n",
    "r2, rmse = compute_models(data[cols], 'time', [100])"
   ]
  },
  {
   "cell_type": "code",
   "execution_count": 214,
   "metadata": {},
   "outputs": [],
   "source": [
    "# mean (A1 group)\n",
    "cols = ['time', 'mean_R_full', 'mean_G_full', 'mean_B_full', 'mean_H_full', 'mean_S_full', 'mean_V_full', 'mean_L_full', \\\n",
    "           'mean_a_full']\n",
    "r2, rmse = compute_models(data[cols], 'time', [100])"
   ]
  },
  {
   "cell_type": "code",
   "execution_count": 217,
   "metadata": {},
   "outputs": [],
   "source": [
    "# dominant hsv (A3 group)\n",
    "cols = ['time', 'dominant_HSV']\n",
    "r2, rmse = compute_models(data[cols], 'time', [100])"
   ]
  },
  {
   "cell_type": "code",
   "execution_count": 220,
   "metadata": {},
   "outputs": [],
   "source": [
    "# A5 group\n",
    "cols = ['time','RG_diff_full','RB_diff_full','GB_diff_full','apex_R','apex_G','apex_B','equator_R','equator_G','equator_B',\\\n",
    "        'stalk_R','stalk_G','stalk_B','apex_equator_R_diff','equator_stalk_R_diff','apex_stalk_R_diff','apex_equator_G_diff',\\\n",
    "        'equator_stalk_G_diff','apex_stalk_G_diff','apex_equator_B_diff','equator_stalk_B_diff','apex_stalk_B_diff', \\\n",
    "        'long_gradient', 'mean_R_full', 'mean_G_full', 'mean_B_full']\n",
    "r2, rmse = compute_models(data[cols], 'time', [100])"
   ]
  },
  {
   "cell_type": "code",
   "execution_count": 223,
   "metadata": {},
   "outputs": [],
   "source": [
    "# A6 group\n",
    "cols = ['time', 'area']\n",
    "r2, rmse = compute_models(data[cols], 'time', [100])"
   ]
  },
  {
   "cell_type": "code",
   "execution_count": 226,
   "metadata": {},
   "outputs": [],
   "source": [
    "# n regions\n",
    "regions = ['region' in col for col in data.columns.values]\n",
    "cols = data.columns.values[regions]\n",
    "cols = np.append(cols, ['time'])\n",
    "\n",
    "r2, rmse = compute_models(data[cols], 'time', [500])"
   ]
  },
  {
   "cell_type": "code",
   "execution_count": 229,
   "metadata": {},
   "outputs": [],
   "source": [
    "# A8 group\n",
    "cols = ['time', 'mean_R_full', 'mean_G_full', 'mean_B_full']\n",
    "\n",
    "r2, rmse = compute_models(data[cols], 'time', [100])"
   ]
  },
  {
   "cell_type": "code",
   "execution_count": 232,
   "metadata": {},
   "outputs": [],
   "source": [
    "# group A9\n",
    "cols = ['time', 'mean_L_full', 'mean_a_full', 'mean_b_full', 'bcd', 'cd', 'dd']\n",
    "\n",
    "r2, rmse = compute_models(data[cols], 'time', [100])"
   ]
  },
  {
   "cell_type": "code",
   "execution_count": 235,
   "metadata": {},
   "outputs": [],
   "source": [
    "# group A11\n",
    "cols = ['time', 'mean_H_full', 'mean_S_full', 'mean_V_full']\n",
    "\n",
    "r2, rmse = compute_models(data[cols], 'time', [100])"
   ]
  },
  {
   "cell_type": "code",
   "execution_count": 238,
   "metadata": {},
   "outputs": [],
   "source": [
    "# group A12\n",
    "cols = ['time', 'mean_H_full', 'mean_S_full', 'mean_V_full', 'mean_L_full', 'mean_a_full', 'mean_b_full']\n",
    "\n",
    "r2, rmse = compute_models(data[cols], 'time', [100])"
   ]
  },
  {
   "cell_type": "code",
   "execution_count": 241,
   "metadata": {},
   "outputs": [],
   "source": [
    "# group A13\n",
    "cols = ['time', 'mean_H_full', 'mean_S_full', 'mean_V_full', 'mean_R_full', 'mean_G_full', 'mean_B_full', 'RG_rate', 'RB_rate',\\\n",
    "       'SH_rate']\n",
    "\n",
    "r2, rmse = compute_models(data[cols], 'time', [100])"
   ]
  },
  {
   "cell_type": "code",
   "execution_count": 244,
   "metadata": {},
   "outputs": [],
   "source": [
    "# group A14\n",
    "cols = ['time', 'mean_b_full', 'area', 'diameter']\n",
    "\n",
    "r2, rmse = compute_models(data[cols], 'time', [100])"
   ]
  },
  {
   "cell_type": "code",
   "execution_count": 247,
   "metadata": {},
   "outputs": [],
   "source": [
    "# regions (n=20), area, diameter, height, width\n",
    "regions = ['region' in col for col in data.columns.values]\n",
    "cols = data.columns.values[regions]\n",
    "cols = np.append(cols, ['time', 'area', 'width', 'height', 'diameter'])\n",
    "\n",
    "r2, rmse = compute_models(data[cols], 'time', [500])"
   ]
  },
  {
   "cell_type": "code",
   "execution_count": 326,
   "metadata": {},
   "outputs": [],
   "source": [
    "# ALL - novo\n",
    "cols = data.columns.values[:38]\n",
    "cols = np.append(cols, ['time'])\n",
    "cols = np.delete(cols, np.where(cols == 'height'))\n",
    "\n",
    "r2, rmse = compute_models(data[cols], 'time', [100])"
   ]
  },
  {
   "cell_type": "code",
   "execution_count": 321,
   "metadata": {},
   "outputs": [],
   "source": [
    "# ALL + novo\n",
    "r2, rmse = compute_models(data, 'time', [500])"
   ]
  },
  {
   "cell_type": "code",
   "execution_count": 323,
   "metadata": {},
   "outputs": [
    {
     "data": {
      "text/html": [
       "<div>\n",
       "<style scoped>\n",
       "    .dataframe tbody tr th:only-of-type {\n",
       "        vertical-align: middle;\n",
       "    }\n",
       "\n",
       "    .dataframe tbody tr th {\n",
       "        vertical-align: top;\n",
       "    }\n",
       "\n",
       "    .dataframe thead th {\n",
       "        text-align: right;\n",
       "    }\n",
       "</style>\n",
       "<table border=\"1\" class=\"dataframe\">\n",
       "  <thead>\n",
       "    <tr style=\"text-align: right;\">\n",
       "      <th></th>\n",
       "      <th>MLR</th>\n",
       "      <th>RF100</th>\n",
       "      <th>RF200</th>\n",
       "      <th>RF300</th>\n",
       "      <th>RF400</th>\n",
       "      <th>RF500</th>\n",
       "    </tr>\n",
       "  </thead>\n",
       "  <tbody>\n",
       "    <tr>\n",
       "      <th>fold1</th>\n",
       "      <td>10.5589</td>\n",
       "      <td>NaN</td>\n",
       "      <td>NaN</td>\n",
       "      <td>NaN</td>\n",
       "      <td>NaN</td>\n",
       "      <td>7.66716</td>\n",
       "    </tr>\n",
       "    <tr>\n",
       "      <th>fold2</th>\n",
       "      <td>11.234</td>\n",
       "      <td>NaN</td>\n",
       "      <td>NaN</td>\n",
       "      <td>NaN</td>\n",
       "      <td>NaN</td>\n",
       "      <td>7.98893</td>\n",
       "    </tr>\n",
       "    <tr>\n",
       "      <th>fold3</th>\n",
       "      <td>10.0299</td>\n",
       "      <td>NaN</td>\n",
       "      <td>NaN</td>\n",
       "      <td>NaN</td>\n",
       "      <td>NaN</td>\n",
       "      <td>6.79662</td>\n",
       "    </tr>\n",
       "    <tr>\n",
       "      <th>fold4</th>\n",
       "      <td>11.3242</td>\n",
       "      <td>NaN</td>\n",
       "      <td>NaN</td>\n",
       "      <td>NaN</td>\n",
       "      <td>NaN</td>\n",
       "      <td>12.1821</td>\n",
       "    </tr>\n",
       "    <tr>\n",
       "      <th>fold5</th>\n",
       "      <td>12.7023</td>\n",
       "      <td>NaN</td>\n",
       "      <td>NaN</td>\n",
       "      <td>NaN</td>\n",
       "      <td>NaN</td>\n",
       "      <td>8.60973</td>\n",
       "    </tr>\n",
       "    <tr>\n",
       "      <th>media</th>\n",
       "      <td>11.1699</td>\n",
       "      <td>NaN</td>\n",
       "      <td>NaN</td>\n",
       "      <td>NaN</td>\n",
       "      <td>NaN</td>\n",
       "      <td>8.64891</td>\n",
       "    </tr>\n",
       "  </tbody>\n",
       "</table>\n",
       "</div>"
      ],
      "text/plain": [
       "           MLR RF100 RF200 RF300 RF400    RF500\n",
       "fold1  10.5589   NaN   NaN   NaN   NaN  7.66716\n",
       "fold2   11.234   NaN   NaN   NaN   NaN  7.98893\n",
       "fold3  10.0299   NaN   NaN   NaN   NaN  6.79662\n",
       "fold4  11.3242   NaN   NaN   NaN   NaN  12.1821\n",
       "fold5  12.7023   NaN   NaN   NaN   NaN  8.60973\n",
       "media  11.1699   NaN   NaN   NaN   NaN  8.64891"
      ]
     },
     "execution_count": 323,
     "metadata": {},
     "output_type": "execute_result"
    }
   ],
   "source": [
    "rmse"
   ]
  }
 ],
 "metadata": {
  "kernelspec": {
   "display_name": "Python 3",
   "language": "python",
   "name": "python3"
  },
  "language_info": {
   "codemirror_mode": {
    "name": "ipython",
    "version": 3
   },
   "file_extension": ".py",
   "mimetype": "text/x-python",
   "name": "python",
   "nbconvert_exporter": "python",
   "pygments_lexer": "ipython3",
   "version": "3.6.7"
  }
 },
 "nbformat": 4,
 "nbformat_minor": 2
}
