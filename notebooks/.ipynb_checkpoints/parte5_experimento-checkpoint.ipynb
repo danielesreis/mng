{
 "cells": [
  {
   "cell_type": "code",
   "execution_count": null,
   "metadata": {},
   "outputs": [],
   "source": [
    "# duplicar as últimas amostras\n",
    "# rodar o melhor modelo do tempo para predição de SST e firmeza e montar tabela"
   ]
  },
  {
   "cell_type": "code",
   "execution_count": 1,
   "metadata": {},
   "outputs": [],
   "source": [
    "import cv2\n",
    "import sys\n",
    "import numpy as np\n",
    "import pandas as pd\n",
    "import matplotlib.pyplot as plt\n",
    "import seaborn as sns\n",
    "import os \n",
    "import math\n",
    "\n",
    "from sklearn.ensemble import RandomForestRegressor\n",
    "from sklearn.metrics import r2_score, mean_squared_error\n",
    "from sklearn.model_selection import KFold\n",
    "\n",
    "%load_ext autoreload\n",
    "\n",
    "sys.path.append(os.getcwd()+'\\\\..\\\\scripts\\\\')\n",
    "path = os.getcwd() + '\\\\..\\\\'\n",
    "\n",
    "from MNG import MNG\n",
    "from MNGFeatures import MNGFeatures\n",
    "from MNGFeaturesMeans import MNGFeaturesMeans\n",
    "from MNGFeaturesSize import MNGFeaturesSize\n",
    "from MNGModel import MNGModel"
   ]
  },
  {
   "cell_type": "code",
   "execution_count": 76,
   "metadata": {},
   "outputs": [],
   "source": [
    "data = pd.read_csv(path+'features\\\\means_size_all_half.csv', sep=';', index_col=0)\n",
    "palmer_sst = pd.read_csv(path+'palmer_sst.csv', sep=';')\n",
    "palmer_firm = pd.read_csv(path+'palmer_firmeza.csv', sep=';')\n",
    "\n",
    "n_trees = 500\n",
    "kf = KFold(n_splits=5, shuffle=True)\n",
    "data['sst'] = palmer_sst.values\n",
    "data['firmeza'] = palmer_firm.values\n",
    "\n",
    "X = data.drop(columns=['time', 'sst', 'firmeza'])\n",
    "Y_sst = data['sst']\n",
    "Y_firm = data['firmeza']\n",
    "Y_time = data['time']\n",
    "\n",
    "predictions = pd.DataFrame(index=data.index.values, columns=['sst_predict', 'firmeza_predict', 'time_predict'])\n",
    "real = pd.DataFrame(index=data.index.values, columns=['sst_real', 'firmeza_real', 'time_real'])"
   ]
  },
  {
   "cell_type": "code",
   "execution_count": 31,
   "metadata": {},
   "outputs": [],
   "source": [
    "# execute esta célula só se for fazer análise no arquivo com todas as variáveis\n",
    "data = data.drop(columns=data.columns.values[179:])\n",
    "\n",
    "# adicionando novamente as médias nas 5 regiões, porque no arquivo features_all há a substituição das médias com n = 20\n",
    "data_to_add = pd.read_csv(path+'features\\\\rgb_hsv_lab_n_regions_all_half.csv', sep=';', index_col=0)\n",
    "data[data_to_add.columns.values] = data_to_add[data_to_add.columns.values]"
   ]
  },
  {
   "cell_type": "code",
   "execution_count": 77,
   "metadata": {},
   "outputs": [],
   "source": [
    "index = np.append(data.index.values, [str(num) for num in np.arange(60)])\n",
    "\n",
    "predictions = pd.DataFrame(index=index, columns=['sst_predict', 'firmeza_predict', 'time_predict'])\n",
    "real = pd.DataFrame(index=index, columns=['sst_real', 'firmeza_real', 'time_real'])"
   ]
  },
  {
   "cell_type": "code",
   "execution_count": 78,
   "metadata": {},
   "outputs": [],
   "source": [
    "new_data = pd.DataFrame(data.iloc[-60:].values, index=np.arange(1,61),columns=data.columns)\n",
    "data = pd.concat([data,new_data])\n",
    "\n",
    "X = data.drop(columns=['time', 'sst', 'firmeza'])\n",
    "Y_sst = data['sst']\n",
    "Y_firm = data['firmeza']\n",
    "Y_time = data['time']"
   ]
  },
  {
   "cell_type": "code",
   "execution_count": 79,
   "metadata": {},
   "outputs": [
    {
     "name": "stdout",
     "output_type": "stream",
     "text": [
      "1\n",
      "2\n",
      "3\n",
      "4\n",
      "5\n"
     ]
    }
   ],
   "source": [
    "i=1\n",
    "for train_i, test_i in kf.split(X):\n",
    "    print(i)\n",
    "    X_train, X_test = X.iloc[train_i], X.iloc[test_i]\n",
    "    Y_sst_train, __ = Y_sst.iloc[train_i], Y_sst.iloc[test_i]\n",
    "    Y_firm_train, __ = Y_firm.iloc[train_i], Y_firm.iloc[test_i]\n",
    "    Y_time_train, __ = Y_time.iloc[train_i], Y_time.iloc[test_i]\n",
    "    \n",
    "    rf_model = RandomForestRegressor(n_estimators=n_trees).fit(X_train, Y_sst_train)\n",
    "    Y_predicted = rf_model.predict(X_test)\n",
    "    predictions['sst_predict'].iloc[test_i] = Y_predicted\n",
    "    \n",
    "    rf_model = RandomForestRegressor(n_estimators=n_trees).fit(X_train, Y_firm_train)\n",
    "    Y_predicted = rf_model.predict(X_test)\n",
    "    predictions['firmeza_predict'].iloc[test_i] = Y_predicted\n",
    "    \n",
    "    rf_model = RandomForestRegressor(n_estimators=n_trees).fit(X_train, Y_time_train)\n",
    "    Y_predicted = rf_model.predict(X_test)\n",
    "    predictions['time_predict'].iloc[test_i] = Y_predicted\n",
    "    i=i+1"
   ]
  },
  {
   "cell_type": "code",
   "execution_count": 105,
   "metadata": {},
   "outputs": [],
   "source": [
    "real['sst_real'] = data['sst']\n",
    "real['firmeza_real'] = data['firmeza']\n",
    "real['time_real'] = data['time']\n",
    "\n",
    "real.iloc[660:] = real.iloc[-120:-60].values"
   ]
  },
  {
   "cell_type": "code",
   "execution_count": 141,
   "metadata": {},
   "outputs": [],
   "source": [
    "predictions.to_csv('dados_predict.csv', sep=';')\n",
    "predictions['sst_real'] = real['sst_real']\n",
    "predictions['firmeza_real'] = real['firmeza_real']\n",
    "predictions['time_real'] = data['time']\n",
    "\n",
    "predictions.to_csv('dados_predict_reais.csv', sep=';')"
   ]
  },
  {
   "cell_type": "code",
   "execution_count": 142,
   "metadata": {},
   "outputs": [],
   "source": [
    "def calc_tabela(data, att, range_max, range_min, intervals, consider_end):\n",
    "    indexes = []\n",
    "    bins = math.floor((range_max-range_min)/intervals)\n",
    "    tabela = pd.DataFrame(data=0,index=np.arange(bins),columns=data.columns)\n",
    "    \n",
    "    for bin_num in range(bins):\n",
    "        min_v = range_min if bin_num == 0 else range_min + intervals*bin_num + 1\n",
    "        if bin_num!=(bins-1):\n",
    "            max_v = min_v + intervals if bin_num == 0 else min_v + intervals - 1\n",
    "        else:\n",
    "            max_v = range_max\n",
    "        indexes.append(str(min_v)+'-'+str(max_v))\n",
    "        tabela.iloc[bin_num] = data[(min_v<=data[att]) & (data[att]<=max_v)].mean()\n",
    "    \n",
    "    tabela.index = indexes\n",
    "    return tabela"
   ]
  },
  {
   "cell_type": "code",
   "execution_count": 143,
   "metadata": {},
   "outputs": [],
   "source": [
    "range_max = 170\n",
    "range_min = 35\n",
    "intervals = 15\n",
    "\n",
    "tabela_real = calc_tabela(real, 'time_real', range_max, range_min, intervals, False)\n",
    "tabela_pred = calc_tabela(predictions, 'time_predict', range_max, range_min, intervals, False)"
   ]
  },
  {
   "cell_type": "code",
   "execution_count": 146,
   "metadata": {},
   "outputs": [],
   "source": [
    "range_max = 190\n",
    "range_min = 171\n",
    "intervals = 9\n",
    "\n",
    "tabela_real = calc_tabela(real, 'time_real', range_max, range_min, intervals, True)\n",
    "tabela_pred = calc_tabela(predictions, 'time_predict', range_max, range_min, intervals, True)"
   ]
  },
  {
   "cell_type": "code",
   "execution_count": 148,
   "metadata": {},
   "outputs": [
    {
     "data": {
      "text/html": [
       "<div>\n",
       "<style scoped>\n",
       "    .dataframe tbody tr th:only-of-type {\n",
       "        vertical-align: middle;\n",
       "    }\n",
       "\n",
       "    .dataframe tbody tr th {\n",
       "        vertical-align: top;\n",
       "    }\n",
       "\n",
       "    .dataframe thead th {\n",
       "        text-align: right;\n",
       "    }\n",
       "</style>\n",
       "<table border=\"1\" class=\"dataframe\">\n",
       "  <thead>\n",
       "    <tr style=\"text-align: right;\">\n",
       "      <th></th>\n",
       "      <th>sst_real</th>\n",
       "      <th>firmeza_real</th>\n",
       "      <th>time_real</th>\n",
       "    </tr>\n",
       "  </thead>\n",
       "  <tbody>\n",
       "    <tr>\n",
       "      <th>171-180</th>\n",
       "      <td>12.756667</td>\n",
       "      <td>14.213333</td>\n",
       "      <td>180.0</td>\n",
       "    </tr>\n",
       "    <tr>\n",
       "      <th>181-190</th>\n",
       "      <td>14.993333</td>\n",
       "      <td>6.831667</td>\n",
       "      <td>190.0</td>\n",
       "    </tr>\n",
       "  </tbody>\n",
       "</table>\n",
       "</div>"
      ],
      "text/plain": [
       "          sst_real  firmeza_real  time_real\n",
       "171-180  12.756667     14.213333      180.0\n",
       "181-190  14.993333      6.831667      190.0"
      ]
     },
     "execution_count": 148,
     "metadata": {},
     "output_type": "execute_result"
    }
   ],
   "source": [
    "tabela_real"
   ]
  }
 ],
 "metadata": {
  "kernelspec": {
   "display_name": "Python 3",
   "language": "python",
   "name": "python3"
  },
  "language_info": {
   "codemirror_mode": {
    "name": "ipython",
    "version": 3
   },
   "file_extension": ".py",
   "mimetype": "text/x-python",
   "name": "python",
   "nbconvert_exporter": "python",
   "pygments_lexer": "ipython3",
   "version": "3.6.7"
  }
 },
 "nbformat": 4,
 "nbformat_minor": 2
}
