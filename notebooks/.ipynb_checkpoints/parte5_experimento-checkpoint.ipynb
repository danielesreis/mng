{
 "cells": [
  {
   "cell_type": "code",
   "execution_count": null,
   "metadata": {},
   "outputs": [],
   "source": [
    "# duplicar as últimas amostras\n",
    "# rodar o melhor modelo do tempo para predição de SST e firmeza e montar tabela"
   ]
  },
  {
   "cell_type": "code",
   "execution_count": 1,
   "metadata": {},
   "outputs": [],
   "source": [
    "import cv2\n",
    "import sys\n",
    "import numpy as np\n",
    "import pandas as pd\n",
    "import matplotlib.pyplot as plt\n",
    "import seaborn as sns\n",
    "import os\n",
    "import random\n",
    "import math\n",
    "\n",
    "from sklearn.ensemble import RandomForestRegressor\n",
    "from sklearn.metrics import r2_score, mean_squared_error\n",
    "from sklearn.model_selection import KFold\n",
    "\n",
    "%load_ext autoreload\n",
    "\n",
    "sys.path.append(os.getcwd()+'//..//scripts//')\n",
    "path = os.getcwd() + '//..//'\n",
    "\n",
    "from MNG import MNG\n",
    "from MNGFeatures import MNGFeatures\n",
    "from MNGFeaturesMeans import MNGFeaturesMeans\n",
    "from MNGFeaturesSize import MNGFeaturesSize\n",
    "from MNGModel import MNGModel"
   ]
  },
  {
   "cell_type": "code",
   "execution_count": null,
   "metadata": {},
   "outputs": [],
   "source": [
    "# repetindo os últimos dados"
   ]
  },
  {
   "cell_type": "code",
   "execution_count": 206,
   "metadata": {},
   "outputs": [],
   "source": [
    "data_path = os.getcwd()+'/../resampling/all_data_repeated.csv'\n",
    "# data_path = os.getcwd()+'/../resampling/all_data_synthetic.csv'\n",
    "old_data = pd.read_csv(data_path, sep=',', index_col=0)"
   ]
  },
  {
   "cell_type": "code",
   "execution_count": 92,
   "metadata": {},
   "outputs": [],
   "source": [
    "# run this once\n",
    "# repeated_list_indexes = np.arange(480)\n",
    "# random.shuffle(repeated_list_indexes)\n",
    "# to_be_deleted = repeated_list_indexes[:120].tolist()"
   ]
  },
  {
   "cell_type": "code",
   "execution_count": 3,
   "metadata": {},
   "outputs": [],
   "source": [
    "# to_be_deleted = [202, 204, 121, 158, 393, 478, 471, 36, 56, 371, 178, 337, 299, 410, 59, 153, 282, 119, 210, 320, \\\n",
    "#                  214, 327, 391, 475, 297, 335, 312, 110, 349, 425, 183, 47, 256, 405, 23, 473, 192, 228, 279, 72, \\\n",
    "#                  470, 71, 236, 81, 238, 304, 1, 466, 455, 92, 430, 171, 126, 329, 345, 127, 406, 370, 207, 80, 168,\\\n",
    "#                  359, 5, 399, 167, 150, 267, 277, 303, 368, 61, 116, 333, 188, 276, 351, 306, 20, 441, 248, 115, \\\n",
    "#                  101, 280, 32, 100, 46, 109, 379, 182, 224, 413, 472, 253, 123, 184, 339, 464, 22, 325, 190, 465, \\\n",
    "#                  428, 174, 193, 3, 245, 197, 412, 386, 78, 328, 344, 76, 334, 63, 219, 361, 448, 87, 377]"
   ]
  },
  {
   "cell_type": "code",
   "execution_count": 207,
   "metadata": {},
   "outputs": [],
   "source": [
    "# ATTENTION! I'M ASSIGNING IT MANUALLY, NOT BASED IN INDEX\n",
    "repeated_data = old_data.iloc[-480:]\n",
    "rows_to_delete = repeated_data.iloc[to_be_deleted]\n",
    "\n",
    "data = old_data.drop(rows_to_delete.index.values)\n",
    "\n",
    "# remove atributos diff\n",
    "data = data.drop(columns=data.columns.values[:1710])"
   ]
  },
  {
   "cell_type": "code",
   "execution_count": 208,
   "metadata": {},
   "outputs": [
    {
     "data": {
      "text/plain": [
       "(1200, 228)"
      ]
     },
     "execution_count": 208,
     "metadata": {},
     "output_type": "execute_result"
    }
   ],
   "source": [
    "data.shape"
   ]
  },
  {
   "cell_type": "code",
   "execution_count": 209,
   "metadata": {},
   "outputs": [],
   "source": [
    "n_var_names = list(filter(lambda x: 'region' in x, data.columns.values))"
   ]
  },
  {
   "cell_type": "code",
   "execution_count": 210,
   "metadata": {},
   "outputs": [],
   "source": [
    "data = data.drop(columns=n_var_names)"
   ]
  },
  {
   "cell_type": "code",
   "execution_count": 211,
   "metadata": {},
   "outputs": [
    {
     "data": {
      "text/plain": [
       "array(['GB_diff_full', 'RB_diff_full', 'RB_rate', 'RG_diff_full',\n",
       "       'RG_rate', 'SH_rate', 'acidez', 'apex_B', 'apex_G', 'apex_R',\n",
       "       'apex_equator_B_diff', 'apex_equator_G_diff',\n",
       "       'apex_equator_R_diff', 'apex_stalk_B_diff', 'apex_stalk_G_diff',\n",
       "       'apex_stalk_R_diff', 'area', 'bcd', 'cd', 'dd', 'diameter',\n",
       "       'dominant_HSV', 'equator_B', 'equator_G', 'equator_R',\n",
       "       'equator_stalk_B_diff', 'equator_stalk_G_diff',\n",
       "       'equator_stalk_R_diff', 'firmeza', 'height', 'long_gradient',\n",
       "       'massa', 'mean_B_full', 'mean_G_full', 'mean_H_full',\n",
       "       'mean_L_full', 'mean_R_full', 'mean_S_full', 'mean_V_full',\n",
       "       'mean_a_full', 'mean_b_full', 'ratio', 'sst', 'stalk_B', 'stalk_G',\n",
       "       'stalk_R', 'time', 'width'], dtype=object)"
      ]
     },
     "execution_count": 211,
     "metadata": {},
     "output_type": "execute_result"
    }
   ],
   "source": [
    "data.columns.values"
   ]
  },
  {
   "cell_type": "code",
   "execution_count": 212,
   "metadata": {},
   "outputs": [],
   "source": [
    "# data = pd.read_csv(path+'features//size_all_half.csv', sep=';', index_col=0)\n",
    "# palmer_sst = pd.read_csv(path+'//reference_values//primeiros_dados_palmer_sst.csv', sep=';', index_col=0)\n",
    "# palmer_firm = pd.read_csv(path+'//reference_values//primeiros_dados_palmer_firmeza.csv', sep=';', index_col=0)\n",
    "\n",
    "# data['sst'] = palmer_sst.values\n",
    "# data['firmeza'] = palmer_firm.values"
   ]
  },
  {
   "cell_type": "code",
   "execution_count": 213,
   "metadata": {},
   "outputs": [],
   "source": [
    "X = data.drop(columns=['time', 'sst', 'firmeza', 'ratio', 'massa', 'acidez'])\n",
    "Y_sst = data['sst']\n",
    "Y_firm = data['firmeza']\n",
    "Y_time = data['time']\n",
    "Y_acidez = data['acidez']\n",
    "Y_massa = data['massa']\n",
    "Y_ratio = data['ratio']"
   ]
  },
  {
   "cell_type": "code",
   "execution_count": 214,
   "metadata": {},
   "outputs": [],
   "source": [
    "predictions = pd.DataFrame(index=data.index.values, columns=['sst_predict', 'firmeza_predict', 'time_predict', \\\n",
    "                                                             'massa_predict', 'ratio_predict', 'acidez_predict'])\n",
    "real = pd.DataFrame(index=data.index.values, columns=['sst_real', 'firmeza_real', 'time_real', 'massa_real', \\\n",
    "                                                      'ratio_real', 'acidez_real'])"
   ]
  },
  {
   "cell_type": "code",
   "execution_count": null,
   "metadata": {},
   "outputs": [],
   "source": []
  },
  {
   "cell_type": "code",
   "execution_count": null,
   "metadata": {},
   "outputs": [],
   "source": []
  },
  {
   "cell_type": "code",
   "execution_count": 165,
   "metadata": {},
   "outputs": [],
   "source": [
    "# execute this to run models without resampled data\n",
    "synthetic_indexes = list(filter(lambda x: 'repeated' in x, X.index.values))\n",
    "rows_to_delete = X.loc[synthetic_indexes]\n",
    "X = X.drop(rows_to_delete.index.values)\n",
    "Y_sst = Y_sst.drop(rows_to_delete.index.values)\n",
    "Y_firm = Y_firm.drop(rows_to_delete.index.values)\n",
    "Y_time = Y_time.drop(rows_to_delete.index.values)\n",
    "Y_acidez = Y_acidez.drop(rows_to_delete.index.values)\n",
    "Y_massa = Y_massa.drop(rows_to_delete.index.values)\n",
    "Y_ratio = Y_ratio.drop(rows_to_delete.index.values)"
   ]
  },
  {
   "cell_type": "code",
   "execution_count": 166,
   "metadata": {},
   "outputs": [],
   "source": [
    "# execute this to run models without resampled data\n",
    "predictions = pd.DataFrame(index=X.index.values, columns=['sst_predict', 'firmeza_predict', 'time_predict', \\\n",
    "                                                             'massa_predict', 'ratio_predict', 'acidez_predict'])\n",
    "real = pd.DataFrame(index=X.index.values, columns=['sst_real', 'firmeza_real', 'time_real', 'massa_real', \\\n",
    "                                                      'ratio_real', 'acidez_real'])"
   ]
  },
  {
   "cell_type": "code",
   "execution_count": null,
   "metadata": {},
   "outputs": [],
   "source": []
  },
  {
   "cell_type": "code",
   "execution_count": 215,
   "metadata": {},
   "outputs": [],
   "source": [
    "cols = ['area', 'height', 'width', 'diameter', 'mean_B_full',\\\n",
    "       'mean_G_full', 'mean_H_full', 'mean_L_full', 'mean_R_full',\\\n",
    "       'mean_S_full', 'mean_V_full', 'mean_a_full', 'mean_b_full']\n",
    "\n",
    "X = X[cols]"
   ]
  },
  {
   "cell_type": "code",
   "execution_count": 216,
   "metadata": {},
   "outputs": [],
   "source": [
    "n_trees = 100\n",
    "kf = KFold(n_splits=5, shuffle=True)"
   ]
  },
  {
   "cell_type": "code",
   "execution_count": 218,
   "metadata": {},
   "outputs": [
    {
     "name": "stdout",
     "output_type": "stream",
     "text": [
      "1\n",
      "sst\n",
      "firmeza\n",
      "time\n",
      "acidez\n",
      "massa\n",
      "ratio\n",
      "2\n",
      "sst\n",
      "firmeza\n",
      "time\n",
      "acidez\n",
      "massa\n",
      "ratio\n",
      "3\n",
      "sst\n",
      "firmeza\n",
      "time\n",
      "acidez\n",
      "massa\n",
      "ratio\n",
      "4\n",
      "sst\n",
      "firmeza\n",
      "time\n",
      "acidez\n",
      "massa\n",
      "ratio\n",
      "5\n",
      "sst\n",
      "firmeza\n",
      "time\n",
      "acidez\n",
      "massa\n",
      "ratio\n"
     ]
    }
   ],
   "source": [
    "i=1\n",
    "for train_i, test_i in kf.split(X):\n",
    "    print(i)\n",
    "    X_train, X_test = X.iloc[train_i], X.iloc[test_i]\n",
    "    Y_sst_train, __ = Y_sst.iloc[train_i], Y_sst.iloc[test_i]\n",
    "    Y_firm_train, __ = Y_firm.iloc[train_i], Y_firm.iloc[test_i]\n",
    "    Y_time_train, __ = Y_time.iloc[train_i], Y_time.iloc[test_i]\n",
    "    Y_acidez_train, __ = Y_acidez.iloc[train_i], Y_acidez.iloc[test_i]\n",
    "    Y_massa_train, __ = Y_massa.iloc[train_i], Y_massa.iloc[test_i]\n",
    "    Y_ratio_train, __ = Y_ratio.iloc[train_i], Y_ratio.iloc[test_i]\n",
    "    \n",
    "    print('sst')\n",
    "    rf_model = RandomForestRegressor(n_estimators=n_trees).fit(X_train, Y_sst_train)\n",
    "    Y_predicted = rf_model.predict(X_test)\n",
    "    predictions['sst_predict'].iloc[test_i] = Y_predicted\n",
    "    \n",
    "    print('firmeza')\n",
    "    rf_model = RandomForestRegressor(n_estimators=n_trees).fit(X_train, Y_firm_train)\n",
    "    Y_predicted = rf_model.predict(X_test)\n",
    "    predictions['firmeza_predict'].iloc[test_i] = Y_predicted\n",
    "    \n",
    "    print('time')\n",
    "    rf_model = RandomForestRegressor(n_estimators=n_trees).fit(X_train, Y_time_train)\n",
    "    Y_predicted = rf_model.predict(X_test)\n",
    "    predictions['time_predict'].iloc[test_i] = Y_predicted\n",
    "\n",
    "    print('acidez')\n",
    "    rf_model = RandomForestRegressor(n_estimators=n_trees).fit(X_train, Y_acidez_train)\n",
    "    Y_predicted = rf_model.predict(X_test)\n",
    "    predictions['acidez_predict'].iloc[test_i] = Y_predicted\n",
    "\n",
    "    print('massa')\n",
    "    rf_model = RandomForestRegressor(n_estimators=n_trees).fit(X_train, Y_massa_train)\n",
    "    Y_predicted = rf_model.predict(X_test)\n",
    "    predictions['massa_predict'].iloc[test_i] = Y_predicted\n",
    "\n",
    "    print('ratio')\n",
    "    rf_model = RandomForestRegressor(n_estimators=n_trees).fit(X_train, Y_ratio_train)\n",
    "    Y_predicted = rf_model.predict(X_test)\n",
    "    predictions['ratio_predict'].iloc[test_i] = Y_predicted\n",
    "\n",
    "    i=i+1    "
   ]
  },
  {
   "cell_type": "code",
   "execution_count": null,
   "metadata": {},
   "outputs": [],
   "source": []
  },
  {
   "cell_type": "code",
   "execution_count": null,
   "metadata": {},
   "outputs": [],
   "source": []
  },
  {
   "cell_type": "code",
   "execution_count": null,
   "metadata": {},
   "outputs": [],
   "source": []
  },
  {
   "cell_type": "code",
   "execution_count": 176,
   "metadata": {},
   "outputs": [],
   "source": [
    "# execute this to run models without resampled data\n",
    "real['sst_real'] = data['sst'].drop(rows_to_delete.index.values)\n",
    "real['firmeza_real'] = data['firmeza'].drop(rows_to_delete.index.values)\n",
    "real['time_real'] = data['time'].drop(rows_to_delete.index.values)\n",
    "real['massa_real'] = data['massa'].drop(rows_to_delete.index.values)\n",
    "real['ratio_real'] = data['ratio'].drop(rows_to_delete.index.values)\n",
    "real['acidez_real'] = data['acidez'].drop(rows_to_delete.index.values)\n",
    "\n",
    "# real.iloc[660:] = real.iloc[-120:-60].values\n",
    "# real.to_csv('real_repeated.csv', sep=',')"
   ]
  },
  {
   "cell_type": "code",
   "execution_count": null,
   "metadata": {},
   "outputs": [],
   "source": []
  },
  {
   "cell_type": "code",
   "execution_count": 219,
   "metadata": {},
   "outputs": [],
   "source": [
    "real['sst_real'] = data['sst']\n",
    "real['firmeza_real'] = data['firmeza']\n",
    "real['time_real'] = data['time']\n",
    "real['massa_real'] = data['massa']\n",
    "real['ratio_real'] = data['ratio']\n",
    "real['acidez_real'] = data['acidez']\n",
    "\n",
    "# real.iloc[660:] = real.iloc[-120:-60].values\n",
    "# real.to_csv('real_repeated.csv', sep=',')"
   ]
  },
  {
   "cell_type": "code",
   "execution_count": null,
   "metadata": {},
   "outputs": [],
   "source": []
  },
  {
   "cell_type": "code",
   "execution_count": 220,
   "metadata": {},
   "outputs": [],
   "source": [
    "predictions['sst_real'] = real['sst_real']\n",
    "predictions['firmeza_real'] = real['firmeza_real']\n",
    "predictions['time_real'] = real['time_real']\n",
    "predictions['acidez_real'] = real['acidez_real']\n",
    "predictions['massa_real'] = real['massa_real']\n",
    "predictions['ratio_real'] = real['ratio_real']\n",
    "\n",
    "# predictions.to_csv('../predictions/dados_predict_reais.csv', sep=';')"
   ]
  },
  {
   "cell_type": "code",
   "execution_count": 222,
   "metadata": {},
   "outputs": [],
   "source": [
    "def calc_tabela(data, att, range_max, range_min, intervals, consider_end):\n",
    "    indexes = []\n",
    "    bins = math.floor((range_max-range_min)/intervals)\n",
    "    tabela = pd.DataFrame(data=0,index=np.arange(bins),columns=data.columns)\n",
    "    \n",
    "    for bin_num in range(bins):\n",
    "        min_v = range_min if bin_num == 0 else range_min + intervals*bin_num + 1\n",
    "        if bin_num!=(bins-1):\n",
    "            max_v = min_v + intervals if bin_num == 0 else min_v + intervals - 1\n",
    "        else:\n",
    "            max_v = range_max\n",
    "        indexes.append(str(min_v)+'-'+str(max_v))\n",
    "        tabela.iloc[bin_num] = data[(min_v<=data[att]) & (data[att]<=max_v)].mean()\n",
    "    \n",
    "    tabela.index = indexes\n",
    "    return tabela"
   ]
  },
  {
   "cell_type": "code",
   "execution_count": 223,
   "metadata": {},
   "outputs": [],
   "source": [
    "range_max = 170\n",
    "range_min = 20\n",
    "intervals = 15\n",
    "\n",
    "tabela_real = calc_tabela(real, 'time_real', range_max, range_min, intervals, False)\n",
    "tabela_pred = calc_tabela(predictions, 'time_predict', range_max, range_min, intervals, False)"
   ]
  },
  {
   "cell_type": "code",
   "execution_count": 224,
   "metadata": {},
   "outputs": [
    {
     "data": {
      "text/html": [
       "<div>\n",
       "<style scoped>\n",
       "    .dataframe tbody tr th:only-of-type {\n",
       "        vertical-align: middle;\n",
       "    }\n",
       "\n",
       "    .dataframe tbody tr th {\n",
       "        vertical-align: top;\n",
       "    }\n",
       "\n",
       "    .dataframe thead th {\n",
       "        text-align: right;\n",
       "    }\n",
       "</style>\n",
       "<table border=\"1\" class=\"dataframe\">\n",
       "  <thead>\n",
       "    <tr style=\"text-align: right;\">\n",
       "      <th></th>\n",
       "      <th>sst_predict</th>\n",
       "      <th>firmeza_predict</th>\n",
       "      <th>time_predict</th>\n",
       "      <th>massa_predict</th>\n",
       "      <th>ratio_predict</th>\n",
       "      <th>acidez_predict</th>\n",
       "    </tr>\n",
       "  </thead>\n",
       "  <tbody>\n",
       "    <tr>\n",
       "      <th>20-35</th>\n",
       "      <td>4.845067</td>\n",
       "      <td>94.200100</td>\n",
       "      <td>35.000000</td>\n",
       "      <td>62.841583</td>\n",
       "      <td>4.103892</td>\n",
       "      <td>1.601741</td>\n",
       "    </tr>\n",
       "    <tr>\n",
       "      <th>36-50</th>\n",
       "      <td>5.078818</td>\n",
       "      <td>114.662700</td>\n",
       "      <td>50.000000</td>\n",
       "      <td>183.474511</td>\n",
       "      <td>2.874020</td>\n",
       "      <td>1.824737</td>\n",
       "    </tr>\n",
       "    <tr>\n",
       "      <th>51-65</th>\n",
       "      <td>5.255489</td>\n",
       "      <td>122.085543</td>\n",
       "      <td>64.084043</td>\n",
       "      <td>290.229321</td>\n",
       "      <td>3.572179</td>\n",
       "      <td>1.504593</td>\n",
       "    </tr>\n",
       "    <tr>\n",
       "      <th>66-80</th>\n",
       "      <td>5.681118</td>\n",
       "      <td>121.807353</td>\n",
       "      <td>77.150000</td>\n",
       "      <td>397.406971</td>\n",
       "      <td>4.115419</td>\n",
       "      <td>1.490989</td>\n",
       "    </tr>\n",
       "    <tr>\n",
       "      <th>81-95</th>\n",
       "      <td>5.878911</td>\n",
       "      <td>132.646556</td>\n",
       "      <td>87.754444</td>\n",
       "      <td>472.284322</td>\n",
       "      <td>5.561884</td>\n",
       "      <td>1.430726</td>\n",
       "    </tr>\n",
       "    <tr>\n",
       "      <th>96-110</th>\n",
       "      <td>5.700481</td>\n",
       "      <td>142.487494</td>\n",
       "      <td>104.015823</td>\n",
       "      <td>518.297742</td>\n",
       "      <td>5.704523</td>\n",
       "      <td>1.088051</td>\n",
       "    </tr>\n",
       "    <tr>\n",
       "      <th>111-125</th>\n",
       "      <td>6.358929</td>\n",
       "      <td>129.271286</td>\n",
       "      <td>118.128571</td>\n",
       "      <td>539.445670</td>\n",
       "      <td>24.584069</td>\n",
       "      <td>0.953983</td>\n",
       "    </tr>\n",
       "    <tr>\n",
       "      <th>126-140</th>\n",
       "      <td>6.413800</td>\n",
       "      <td>136.682212</td>\n",
       "      <td>134.485625</td>\n",
       "      <td>535.736579</td>\n",
       "      <td>10.062974</td>\n",
       "      <td>0.794546</td>\n",
       "    </tr>\n",
       "    <tr>\n",
       "      <th>141-155</th>\n",
       "      <td>6.607819</td>\n",
       "      <td>136.193160</td>\n",
       "      <td>148.246809</td>\n",
       "      <td>571.222198</td>\n",
       "      <td>12.749568</td>\n",
       "      <td>0.688198</td>\n",
       "    </tr>\n",
       "    <tr>\n",
       "      <th>156-170</th>\n",
       "      <td>7.533403</td>\n",
       "      <td>118.706821</td>\n",
       "      <td>161.225373</td>\n",
       "      <td>575.086881</td>\n",
       "      <td>21.185126</td>\n",
       "      <td>0.641385</td>\n",
       "    </tr>\n",
       "  </tbody>\n",
       "</table>\n",
       "</div>"
      ],
      "text/plain": [
       "         sst_predict  firmeza_predict  time_predict  massa_predict  \\\n",
       "20-35       4.845067        94.200100     35.000000      62.841583   \n",
       "36-50       5.078818       114.662700     50.000000     183.474511   \n",
       "51-65       5.255489       122.085543     64.084043     290.229321   \n",
       "66-80       5.681118       121.807353     77.150000     397.406971   \n",
       "81-95       5.878911       132.646556     87.754444     472.284322   \n",
       "96-110      5.700481       142.487494    104.015823     518.297742   \n",
       "111-125     6.358929       129.271286    118.128571     539.445670   \n",
       "126-140     6.413800       136.682212    134.485625     535.736579   \n",
       "141-155     6.607819       136.193160    148.246809     571.222198   \n",
       "156-170     7.533403       118.706821    161.225373     575.086881   \n",
       "\n",
       "         ratio_predict  acidez_predict  \n",
       "20-35         4.103892        1.601741  \n",
       "36-50         2.874020        1.824737  \n",
       "51-65         3.572179        1.504593  \n",
       "66-80         4.115419        1.490989  \n",
       "81-95         5.561884        1.430726  \n",
       "96-110        5.704523        1.088051  \n",
       "111-125      24.584069        0.953983  \n",
       "126-140      10.062974        0.794546  \n",
       "141-155      12.749568        0.688198  \n",
       "156-170      21.185126        0.641385  "
      ]
     },
     "execution_count": 224,
     "metadata": {},
     "output_type": "execute_result"
    }
   ],
   "source": [
    "tabela_pred[tabela_pred.columns[:6]]"
   ]
  },
  {
   "cell_type": "code",
   "execution_count": 140,
   "metadata": {},
   "outputs": [],
   "source": [
    "range_max = 190\n",
    "range_min = 171\n",
    "intervals = 9\n",
    "\n",
    "tabela_real = calc_tabela(real, 'time_real', range_max, range_min, intervals, True)\n",
    "tabela_pred = calc_tabela(predictions, 'time_predict', range_max, range_min, intervals, True)"
   ]
  },
  {
   "cell_type": "code",
   "execution_count": 141,
   "metadata": {},
   "outputs": [
    {
     "data": {
      "text/html": [
       "<div>\n",
       "<style scoped>\n",
       "    .dataframe tbody tr th:only-of-type {\n",
       "        vertical-align: middle;\n",
       "    }\n",
       "\n",
       "    .dataframe tbody tr th {\n",
       "        vertical-align: top;\n",
       "    }\n",
       "\n",
       "    .dataframe thead th {\n",
       "        text-align: right;\n",
       "    }\n",
       "</style>\n",
       "<table border=\"1\" class=\"dataframe\">\n",
       "  <thead>\n",
       "    <tr style=\"text-align: right;\">\n",
       "      <th></th>\n",
       "      <th>sst_real</th>\n",
       "      <th>firmeza_real</th>\n",
       "      <th>time_real</th>\n",
       "      <th>massa_real</th>\n",
       "      <th>ratio_real</th>\n",
       "      <th>acidez_real</th>\n",
       "    </tr>\n",
       "  </thead>\n",
       "  <tbody>\n",
       "    <tr>\n",
       "      <th>171-180</th>\n",
       "      <td>12.826667</td>\n",
       "      <td>28.656667</td>\n",
       "      <td>180.0</td>\n",
       "      <td>462.225667</td>\n",
       "      <td>58.799165</td>\n",
       "      <td>0.376742</td>\n",
       "    </tr>\n",
       "    <tr>\n",
       "      <th>181-190</th>\n",
       "      <td>14.993333</td>\n",
       "      <td>5.990833</td>\n",
       "      <td>190.0</td>\n",
       "      <td>421.874417</td>\n",
       "      <td>231.395755</td>\n",
       "      <td>0.071118</td>\n",
       "    </tr>\n",
       "  </tbody>\n",
       "</table>\n",
       "</div>"
      ],
      "text/plain": [
       "          sst_real  firmeza_real  time_real  massa_real  ratio_real  \\\n",
       "171-180  12.826667     28.656667      180.0  462.225667   58.799165   \n",
       "181-190  14.993333      5.990833      190.0  421.874417  231.395755   \n",
       "\n",
       "         acidez_real  \n",
       "171-180     0.376742  \n",
       "181-190     0.071118  "
      ]
     },
     "execution_count": 141,
     "metadata": {},
     "output_type": "execute_result"
    }
   ],
   "source": [
    "tabela_real"
   ]
  },
  {
   "cell_type": "code",
   "execution_count": 142,
   "metadata": {},
   "outputs": [
    {
     "data": {
      "text/html": [
       "<div>\n",
       "<style scoped>\n",
       "    .dataframe tbody tr th:only-of-type {\n",
       "        vertical-align: middle;\n",
       "    }\n",
       "\n",
       "    .dataframe tbody tr th {\n",
       "        vertical-align: top;\n",
       "    }\n",
       "\n",
       "    .dataframe thead th {\n",
       "        text-align: right;\n",
       "    }\n",
       "</style>\n",
       "<table border=\"1\" class=\"dataframe\">\n",
       "  <thead>\n",
       "    <tr style=\"text-align: right;\">\n",
       "      <th></th>\n",
       "      <th>sst_predict</th>\n",
       "      <th>firmeza_predict</th>\n",
       "      <th>time_predict</th>\n",
       "      <th>massa_predict</th>\n",
       "      <th>ratio_predict</th>\n",
       "      <th>acidez_predict</th>\n",
       "    </tr>\n",
       "  </thead>\n",
       "  <tbody>\n",
       "    <tr>\n",
       "      <th>171-180</th>\n",
       "      <td>12.209483</td>\n",
       "      <td>37.716975</td>\n",
       "      <td>178.294167</td>\n",
       "      <td>467.285822</td>\n",
       "      <td>45.080165</td>\n",
       "      <td>0.519237</td>\n",
       "    </tr>\n",
       "    <tr>\n",
       "      <th>181-190</th>\n",
       "      <td>14.697100</td>\n",
       "      <td>9.982410</td>\n",
       "      <td>187.342333</td>\n",
       "      <td>430.621533</td>\n",
       "      <td>201.136123</td>\n",
       "      <td>0.109267</td>\n",
       "    </tr>\n",
       "  </tbody>\n",
       "</table>\n",
       "</div>"
      ],
      "text/plain": [
       "         sst_predict  firmeza_predict  time_predict  massa_predict  \\\n",
       "171-180    12.209483        37.716975    178.294167     467.285822   \n",
       "181-190    14.697100         9.982410    187.342333     430.621533   \n",
       "\n",
       "         ratio_predict  acidez_predict  \n",
       "171-180      45.080165        0.519237  \n",
       "181-190     201.136123        0.109267  "
      ]
     },
     "execution_count": 142,
     "metadata": {},
     "output_type": "execute_result"
    }
   ],
   "source": [
    "tabela_pred[tabela_pred.columns[:6]]"
   ]
  },
  {
   "cell_type": "code",
   "execution_count": null,
   "metadata": {},
   "outputs": [],
   "source": []
  },
  {
   "cell_type": "code",
   "execution_count": null,
   "metadata": {},
   "outputs": [],
   "source": []
  },
  {
   "cell_type": "code",
   "execution_count": null,
   "metadata": {},
   "outputs": [],
   "source": []
  },
  {
   "cell_type": "code",
   "execution_count": 300,
   "metadata": {},
   "outputs": [
    {
     "data": {
      "text/plain": [
       "<matplotlib.axes._subplots.AxesSubplot at 0x7fcdde5b7cf8>"
      ]
     },
     "execution_count": 300,
     "metadata": {},
     "output_type": "execute_result"
    },
    {
     "data": {
      "image/png": "[encoded data removed]",
      "text/plain": [
       "<Figure size 432x288 with 1 Axes>"
      ]
     },
     "metadata": {
      "needs_background": "light"
     },
     "output_type": "display_data"
    }
   ],
   "source": [
    "rows = predictions[predictions['time_real'] > 150].index.values\n",
    "\n",
    "sns.distplot(real.loc[rows]['firmeza_real'], color='g')\n",
    "sns.distplot(predictions.loc[rows]['firmeza_predict'].astype('float'), color='r')"
   ]
  },
  {
   "cell_type": "code",
   "execution_count": null,
   "metadata": {},
   "outputs": [],
   "source": []
  }
 ],
 "metadata": {
  "kernelspec": {
   "display_name": "Python 3",
   "language": "python",
   "name": "python3"
  },
  "language_info": {
   "codemirror_mode": {
    "name": "ipython",
    "version": 3
   },
   "file_extension": ".py",
   "mimetype": "text/x-python",
   "name": "python",
   "nbconvert_exporter": "python",
   "pygments_lexer": "ipython3",
   "version": "3.6.7"
  }
 },
 "nbformat": 4,
 "nbformat_minor": 2
}
