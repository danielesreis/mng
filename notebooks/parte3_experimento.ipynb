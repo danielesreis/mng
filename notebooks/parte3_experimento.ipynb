{
 "cells": [
  {
   "cell_type": "code",
   "execution_count": 1,
   "metadata": {},
   "outputs": [],
   "source": [
    "# experimento com todas as imagens das Palmer para predição do tempo de cada amostra, usando 2/3 para treinamento e 1/3 para teste"
   ]
  },
  {
   "cell_type": "code",
   "execution_count": 20,
   "metadata": {},
   "outputs": [
    {
     "name": "stdout",
     "output_type": "stream",
     "text": [
      "The autoreload extension is already loaded. To reload it, use:\n",
      "  %reload_ext autoreload\n"
     ]
    }
   ],
   "source": [
    "import cv2\n",
    "import sys\n",
    "import numpy as np\n",
    "from timeit import default_timer as timer\n",
    "import pandas as pd\n",
    "import matplotlib.pyplot as plt\n",
    "import seaborn as sns\n",
    "import os \n",
    "import math\n",
    "import scipy\n",
    "\n",
    "from sklearn.ensemble import RandomForestRegressor\n",
    "from sklearn.linear_model import LinearRegression\n",
    "from sklearn.metrics import r2_score, mean_squared_error\n",
    "from sklearn.model_selection import train_test_split\n",
    "\n",
    "%load_ext autoreload\n",
    "plt.rcParams['figure.figsize'] = [20, 15]\n",
    "\n",
    "path = os.getcwd()+'\\\\..\\\\imagens\\\\'\n",
    "sys.path.append(os.getcwd()+'\\\\..\\\\scripts\\\\')\n",
    "from MNG import MNG\n",
    "from MNGFeatures import MNGFeatures\n",
    "from MNGFeaturesMeans import MNGFeaturesMeans\n",
    "from MNGFeaturesSize import MNGFeaturesSize\n",
    "from MNGFeaturesDominantColor import MNGFeaturesDominantColor\n",
    "from MNGFeaturesRates import MNGFeaturesRates\n",
    "from MNGFeaturesRegions import MNGFeaturesRegions\n",
    "\n",
    "from MNGModel import MNGModel"
   ]
  },
  {
   "cell_type": "code",
   "execution_count": 21,
   "metadata": {},
   "outputs": [],
   "source": [
    "%autoreload 2\n",
    "\n",
    "att = 'time'\n",
    "model_type = 'palmer'\n",
    "palmer_sst = path + '\\\\..\\\\palmer_sst.csv'\n",
    "palmer_time = path + '\\\\..\\\\palmer_time.csv'"
   ]
  },
  {
   "cell_type": "code",
   "execution_count": 92,
   "metadata": {},
   "outputs": [],
   "source": [
    "path = os.getcwd() + '\\\\..\\\\preprocessadas\\\\'\n",
    "imgs = os.listdir(path)\n",
    "img_names = [img.split('.')[0] for img in imgs]\n",
    "\n",
    "mng = MNG(path, img_names, att)\n",
    "\n",
    "features_mlr = mng.features.feature_names[18:21]\n",
    "mng.features.current_features = features_mlr\n",
    "mng.features.current_features_name = 'fractals'\n",
    "mng.features.new_df()"
   ]
  },
  {
   "cell_type": "code",
   "execution_count": 94,
   "metadata": {},
   "outputs": [
    {
     "name": "stdout",
     "output_type": "stream",
     "text": [
      "1\n"
     ]
    },
    {
     "name": "stderr",
     "output_type": "stream",
     "text": [
      "C:\\Users\\juju-\\Desktop\\projetos\\mng\\notebooks\\..\\scripts\\MNGFeaturesFractal.py:48: RankWarning: Polyfit may be poorly conditioned\n",
      "  coeffs = np.polyfit(np.log(C), np.log(dists), 1)\n"
     ]
    },
    {
     "name": "stdout",
     "output_type": "stream",
     "text": [
      "2\n"
     ]
    },
    {
     "name": "stderr",
     "output_type": "stream",
     "text": [
      "C:\\Users\\juju-\\Desktop\\projetos\\mng\\notebooks\\..\\scripts\\MNGFeaturesFractal.py:48: RankWarning: Polyfit may be poorly conditioned\n",
      "  coeffs = np.polyfit(np.log(C), np.log(dists), 1)\n"
     ]
    },
    {
     "name": "stdout",
     "output_type": "stream",
     "text": [
      "3\n"
     ]
    },
    {
     "name": "stderr",
     "output_type": "stream",
     "text": [
      "C:\\Users\\juju-\\Desktop\\projetos\\mng\\notebooks\\..\\scripts\\MNGFeaturesFractal.py:48: RankWarning: Polyfit may be poorly conditioned\n",
      "  coeffs = np.polyfit(np.log(C), np.log(dists), 1)\n"
     ]
    },
    {
     "name": "stdout",
     "output_type": "stream",
     "text": [
      "4\n"
     ]
    },
    {
     "name": "stderr",
     "output_type": "stream",
     "text": [
      "C:\\Users\\juju-\\Desktop\\projetos\\mng\\notebooks\\..\\scripts\\MNGFeaturesFractal.py:48: RankWarning: Polyfit may be poorly conditioned\n",
      "  coeffs = np.polyfit(np.log(C), np.log(dists), 1)\n"
     ]
    },
    {
     "name": "stdout",
     "output_type": "stream",
     "text": [
      "5\n"
     ]
    },
    {
     "name": "stderr",
     "output_type": "stream",
     "text": [
      "C:\\Users\\juju-\\Desktop\\projetos\\mng\\notebooks\\..\\scripts\\MNGFeaturesFractal.py:48: RankWarning: Polyfit may be poorly conditioned\n",
      "  coeffs = np.polyfit(np.log(C), np.log(dists), 1)\n"
     ]
    },
    {
     "name": "stdout",
     "output_type": "stream",
     "text": [
      "6\n"
     ]
    },
    {
     "name": "stderr",
     "output_type": "stream",
     "text": [
      "C:\\Users\\juju-\\Desktop\\projetos\\mng\\notebooks\\..\\scripts\\MNGFeaturesFractal.py:48: RankWarning: Polyfit may be poorly conditioned\n",
      "  coeffs = np.polyfit(np.log(C), np.log(dists), 1)\n"
     ]
    },
    {
     "name": "stdout",
     "output_type": "stream",
     "text": [
      "7\n"
     ]
    },
    {
     "name": "stderr",
     "output_type": "stream",
     "text": [
      "C:\\Users\\juju-\\Desktop\\projetos\\mng\\notebooks\\..\\scripts\\MNGFeaturesFractal.py:48: RankWarning: Polyfit may be poorly conditioned\n",
      "  coeffs = np.polyfit(np.log(C), np.log(dists), 1)\n"
     ]
    },
    {
     "name": "stdout",
     "output_type": "stream",
     "text": [
      "8\n"
     ]
    },
    {
     "name": "stderr",
     "output_type": "stream",
     "text": [
      "C:\\Users\\juju-\\Desktop\\projetos\\mng\\notebooks\\..\\scripts\\MNGFeaturesFractal.py:48: RankWarning: Polyfit may be poorly conditioned\n",
      "  coeffs = np.polyfit(np.log(C), np.log(dists), 1)\n"
     ]
    },
    {
     "name": "stdout",
     "output_type": "stream",
     "text": [
      "9\n"
     ]
    },
    {
     "name": "stderr",
     "output_type": "stream",
     "text": [
      "C:\\Users\\juju-\\Desktop\\projetos\\mng\\notebooks\\..\\scripts\\MNGFeaturesFractal.py:48: RankWarning: Polyfit may be poorly conditioned\n",
      "  coeffs = np.polyfit(np.log(C), np.log(dists), 1)\n"
     ]
    },
    {
     "name": "stdout",
     "output_type": "stream",
     "text": [
      "10\n"
     ]
    },
    {
     "name": "stderr",
     "output_type": "stream",
     "text": [
      "C:\\Users\\juju-\\Desktop\\projetos\\mng\\notebooks\\..\\scripts\\MNGFeaturesFractal.py:48: RankWarning: Polyfit may be poorly conditioned\n",
      "  coeffs = np.polyfit(np.log(C), np.log(dists), 1)\n"
     ]
    },
    {
     "name": "stdout",
     "output_type": "stream",
     "text": [
      "11\n"
     ]
    },
    {
     "name": "stderr",
     "output_type": "stream",
     "text": [
      "C:\\Users\\juju-\\Desktop\\projetos\\mng\\notebooks\\..\\scripts\\MNGFeaturesFractal.py:48: RankWarning: Polyfit may be poorly conditioned\n",
      "  coeffs = np.polyfit(np.log(C), np.log(dists), 1)\n"
     ]
    },
    {
     "name": "stdout",
     "output_type": "stream",
     "text": [
      "12\n"
     ]
    },
    {
     "name": "stderr",
     "output_type": "stream",
     "text": [
      "C:\\Users\\juju-\\Desktop\\projetos\\mng\\notebooks\\..\\scripts\\MNGFeaturesFractal.py:48: RankWarning: Polyfit may be poorly conditioned\n",
      "  coeffs = np.polyfit(np.log(C), np.log(dists), 1)\n"
     ]
    },
    {
     "name": "stdout",
     "output_type": "stream",
     "text": [
      "13\n"
     ]
    },
    {
     "name": "stderr",
     "output_type": "stream",
     "text": [
      "C:\\Users\\juju-\\Desktop\\projetos\\mng\\notebooks\\..\\scripts\\MNGFeaturesFractal.py:48: RankWarning: Polyfit may be poorly conditioned\n",
      "  coeffs = np.polyfit(np.log(C), np.log(dists), 1)\n"
     ]
    },
    {
     "name": "stdout",
     "output_type": "stream",
     "text": [
      "14\n"
     ]
    },
    {
     "name": "stderr",
     "output_type": "stream",
     "text": [
      "C:\\Users\\juju-\\Desktop\\projetos\\mng\\notebooks\\..\\scripts\\MNGFeaturesFractal.py:48: RankWarning: Polyfit may be poorly conditioned\n",
      "  coeffs = np.polyfit(np.log(C), np.log(dists), 1)\n"
     ]
    },
    {
     "name": "stdout",
     "output_type": "stream",
     "text": [
      "15\n"
     ]
    },
    {
     "name": "stderr",
     "output_type": "stream",
     "text": [
      "C:\\Users\\juju-\\Desktop\\projetos\\mng\\notebooks\\..\\scripts\\MNGFeaturesFractal.py:48: RankWarning: Polyfit may be poorly conditioned\n",
      "  coeffs = np.polyfit(np.log(C), np.log(dists), 1)\n"
     ]
    },
    {
     "name": "stdout",
     "output_type": "stream",
     "text": [
      "16\n"
     ]
    },
    {
     "name": "stderr",
     "output_type": "stream",
     "text": [
      "C:\\Users\\juju-\\Desktop\\projetos\\mng\\notebooks\\..\\scripts\\MNGFeaturesFractal.py:48: RankWarning: Polyfit may be poorly conditioned\n",
      "  coeffs = np.polyfit(np.log(C), np.log(dists), 1)\n"
     ]
    },
    {
     "name": "stdout",
     "output_type": "stream",
     "text": [
      "17\n"
     ]
    },
    {
     "name": "stderr",
     "output_type": "stream",
     "text": [
      "C:\\Users\\juju-\\Desktop\\projetos\\mng\\notebooks\\..\\scripts\\MNGFeaturesFractal.py:48: RankWarning: Polyfit may be poorly conditioned\n",
      "  coeffs = np.polyfit(np.log(C), np.log(dists), 1)\n"
     ]
    },
    {
     "name": "stdout",
     "output_type": "stream",
     "text": [
      "18\n"
     ]
    },
    {
     "name": "stderr",
     "output_type": "stream",
     "text": [
      "C:\\Users\\juju-\\Desktop\\projetos\\mng\\notebooks\\..\\scripts\\MNGFeaturesFractal.py:48: RankWarning: Polyfit may be poorly conditioned\n",
      "  coeffs = np.polyfit(np.log(C), np.log(dists), 1)\n"
     ]
    },
    {
     "name": "stdout",
     "output_type": "stream",
     "text": [
      "19\n"
     ]
    },
    {
     "name": "stderr",
     "output_type": "stream",
     "text": [
      "C:\\Users\\juju-\\Desktop\\projetos\\mng\\notebooks\\..\\scripts\\MNGFeaturesFractal.py:48: RankWarning: Polyfit may be poorly conditioned\n",
      "  coeffs = np.polyfit(np.log(C), np.log(dists), 1)\n"
     ]
    },
    {
     "name": "stdout",
     "output_type": "stream",
     "text": [
      "20\n"
     ]
    },
    {
     "name": "stderr",
     "output_type": "stream",
     "text": [
      "C:\\Users\\juju-\\Desktop\\projetos\\mng\\notebooks\\..\\scripts\\MNGFeaturesFractal.py:48: RankWarning: Polyfit may be poorly conditioned\n",
      "  coeffs = np.polyfit(np.log(C), np.log(dists), 1)\n"
     ]
    },
    {
     "name": "stdout",
     "output_type": "stream",
     "text": [
      "21\n"
     ]
    },
    {
     "name": "stderr",
     "output_type": "stream",
     "text": [
      "C:\\Users\\juju-\\Desktop\\projetos\\mng\\notebooks\\..\\scripts\\MNGFeaturesFractal.py:48: RankWarning: Polyfit may be poorly conditioned\n",
      "  coeffs = np.polyfit(np.log(C), np.log(dists), 1)\n"
     ]
    },
    {
     "name": "stdout",
     "output_type": "stream",
     "text": [
      "22\n"
     ]
    },
    {
     "name": "stderr",
     "output_type": "stream",
     "text": [
      "C:\\Users\\juju-\\Desktop\\projetos\\mng\\notebooks\\..\\scripts\\MNGFeaturesFractal.py:48: RankWarning: Polyfit may be poorly conditioned\n",
      "  coeffs = np.polyfit(np.log(C), np.log(dists), 1)\n"
     ]
    },
    {
     "name": "stdout",
     "output_type": "stream",
     "text": [
      "23\n"
     ]
    },
    {
     "name": "stderr",
     "output_type": "stream",
     "text": [
      "C:\\Users\\juju-\\Desktop\\projetos\\mng\\notebooks\\..\\scripts\\MNGFeaturesFractal.py:48: RankWarning: Polyfit may be poorly conditioned\n",
      "  coeffs = np.polyfit(np.log(C), np.log(dists), 1)\n"
     ]
    },
    {
     "name": "stdout",
     "output_type": "stream",
     "text": [
      "24\n"
     ]
    },
    {
     "name": "stderr",
     "output_type": "stream",
     "text": [
      "C:\\Users\\juju-\\Desktop\\projetos\\mng\\notebooks\\..\\scripts\\MNGFeaturesFractal.py:48: RankWarning: Polyfit may be poorly conditioned\n",
      "  coeffs = np.polyfit(np.log(C), np.log(dists), 1)\n"
     ]
    },
    {
     "name": "stdout",
     "output_type": "stream",
     "text": [
      "25\n"
     ]
    },
    {
     "name": "stderr",
     "output_type": "stream",
     "text": [
      "C:\\Users\\juju-\\Desktop\\projetos\\mng\\notebooks\\..\\scripts\\MNGFeaturesFractal.py:48: RankWarning: Polyfit may be poorly conditioned\n",
      "  coeffs = np.polyfit(np.log(C), np.log(dists), 1)\n"
     ]
    },
    {
     "name": "stdout",
     "output_type": "stream",
     "text": [
      "26\n"
     ]
    },
    {
     "name": "stderr",
     "output_type": "stream",
     "text": [
      "C:\\Users\\juju-\\Desktop\\projetos\\mng\\notebooks\\..\\scripts\\MNGFeaturesFractal.py:48: RankWarning: Polyfit may be poorly conditioned\n",
      "  coeffs = np.polyfit(np.log(C), np.log(dists), 1)\n"
     ]
    },
    {
     "name": "stdout",
     "output_type": "stream",
     "text": [
      "27\n"
     ]
    },
    {
     "name": "stderr",
     "output_type": "stream",
     "text": [
      "C:\\Users\\juju-\\Desktop\\projetos\\mng\\notebooks\\..\\scripts\\MNGFeaturesFractal.py:48: RankWarning: Polyfit may be poorly conditioned\n",
      "  coeffs = np.polyfit(np.log(C), np.log(dists), 1)\n"
     ]
    },
    {
     "name": "stdout",
     "output_type": "stream",
     "text": [
      "28\n"
     ]
    },
    {
     "name": "stderr",
     "output_type": "stream",
     "text": [
      "C:\\Users\\juju-\\Desktop\\projetos\\mng\\notebooks\\..\\scripts\\MNGFeaturesFractal.py:48: RankWarning: Polyfit may be poorly conditioned\n",
      "  coeffs = np.polyfit(np.log(C), np.log(dists), 1)\n"
     ]
    },
    {
     "name": "stdout",
     "output_type": "stream",
     "text": [
      "29\n"
     ]
    },
    {
     "name": "stderr",
     "output_type": "stream",
     "text": [
      "C:\\Users\\juju-\\Desktop\\projetos\\mng\\notebooks\\..\\scripts\\MNGFeaturesFractal.py:48: RankWarning: Polyfit may be poorly conditioned\n",
      "  coeffs = np.polyfit(np.log(C), np.log(dists), 1)\n"
     ]
    },
    {
     "name": "stdout",
     "output_type": "stream",
     "text": [
      "30\n"
     ]
    },
    {
     "name": "stderr",
     "output_type": "stream",
     "text": [
      "C:\\Users\\juju-\\Desktop\\projetos\\mng\\notebooks\\..\\scripts\\MNGFeaturesFractal.py:48: RankWarning: Polyfit may be poorly conditioned\n",
      "  coeffs = np.polyfit(np.log(C), np.log(dists), 1)\n"
     ]
    },
    {
     "name": "stdout",
     "output_type": "stream",
     "text": [
      "31\n"
     ]
    },
    {
     "name": "stderr",
     "output_type": "stream",
     "text": [
      "C:\\Users\\juju-\\Desktop\\projetos\\mng\\notebooks\\..\\scripts\\MNGFeaturesFractal.py:48: RankWarning: Polyfit may be poorly conditioned\n",
      "  coeffs = np.polyfit(np.log(C), np.log(dists), 1)\n"
     ]
    },
    {
     "name": "stdout",
     "output_type": "stream",
     "text": [
      "32\n"
     ]
    },
    {
     "name": "stderr",
     "output_type": "stream",
     "text": [
      "C:\\Users\\juju-\\Desktop\\projetos\\mng\\notebooks\\..\\scripts\\MNGFeaturesFractal.py:48: RankWarning: Polyfit may be poorly conditioned\n",
      "  coeffs = np.polyfit(np.log(C), np.log(dists), 1)\n"
     ]
    },
    {
     "name": "stdout",
     "output_type": "stream",
     "text": [
      "33\n"
     ]
    },
    {
     "name": "stderr",
     "output_type": "stream",
     "text": [
      "C:\\Users\\juju-\\Desktop\\projetos\\mng\\notebooks\\..\\scripts\\MNGFeaturesFractal.py:48: RankWarning: Polyfit may be poorly conditioned\n",
      "  coeffs = np.polyfit(np.log(C), np.log(dists), 1)\n"
     ]
    },
    {
     "name": "stdout",
     "output_type": "stream",
     "text": [
      "34\n"
     ]
    },
    {
     "name": "stderr",
     "output_type": "stream",
     "text": [
      "C:\\Users\\juju-\\Desktop\\projetos\\mng\\notebooks\\..\\scripts\\MNGFeaturesFractal.py:48: RankWarning: Polyfit may be poorly conditioned\n",
      "  coeffs = np.polyfit(np.log(C), np.log(dists), 1)\n"
     ]
    },
    {
     "name": "stdout",
     "output_type": "stream",
     "text": [
      "35\n"
     ]
    },
    {
     "name": "stderr",
     "output_type": "stream",
     "text": [
      "C:\\Users\\juju-\\Desktop\\projetos\\mng\\notebooks\\..\\scripts\\MNGFeaturesFractal.py:48: RankWarning: Polyfit may be poorly conditioned\n",
      "  coeffs = np.polyfit(np.log(C), np.log(dists), 1)\n"
     ]
    },
    {
     "name": "stdout",
     "output_type": "stream",
     "text": [
      "36\n"
     ]
    },
    {
     "name": "stderr",
     "output_type": "stream",
     "text": [
      "C:\\Users\\juju-\\Desktop\\projetos\\mng\\notebooks\\..\\scripts\\MNGFeaturesFractal.py:48: RankWarning: Polyfit may be poorly conditioned\n",
      "  coeffs = np.polyfit(np.log(C), np.log(dists), 1)\n"
     ]
    },
    {
     "name": "stdout",
     "output_type": "stream",
     "text": [
      "37\n"
     ]
    },
    {
     "name": "stderr",
     "output_type": "stream",
     "text": [
      "C:\\Users\\juju-\\Desktop\\projetos\\mng\\notebooks\\..\\scripts\\MNGFeaturesFractal.py:48: RankWarning: Polyfit may be poorly conditioned\n",
      "  coeffs = np.polyfit(np.log(C), np.log(dists), 1)\n"
     ]
    },
    {
     "name": "stdout",
     "output_type": "stream",
     "text": [
      "38\n"
     ]
    },
    {
     "name": "stderr",
     "output_type": "stream",
     "text": [
      "C:\\Users\\juju-\\Desktop\\projetos\\mng\\notebooks\\..\\scripts\\MNGFeaturesFractal.py:48: RankWarning: Polyfit may be poorly conditioned\n",
      "  coeffs = np.polyfit(np.log(C), np.log(dists), 1)\n"
     ]
    },
    {
     "name": "stdout",
     "output_type": "stream",
     "text": [
      "39\n"
     ]
    },
    {
     "name": "stderr",
     "output_type": "stream",
     "text": [
      "C:\\Users\\juju-\\Desktop\\projetos\\mng\\notebooks\\..\\scripts\\MNGFeaturesFractal.py:48: RankWarning: Polyfit may be poorly conditioned\n",
      "  coeffs = np.polyfit(np.log(C), np.log(dists), 1)\n"
     ]
    },
    {
     "name": "stdout",
     "output_type": "stream",
     "text": [
      "40\n"
     ]
    },
    {
     "name": "stderr",
     "output_type": "stream",
     "text": [
      "C:\\Users\\juju-\\Desktop\\projetos\\mng\\notebooks\\..\\scripts\\MNGFeaturesFractal.py:48: RankWarning: Polyfit may be poorly conditioned\n",
      "  coeffs = np.polyfit(np.log(C), np.log(dists), 1)\n"
     ]
    },
    {
     "name": "stdout",
     "output_type": "stream",
     "text": [
      "41\n"
     ]
    },
    {
     "name": "stderr",
     "output_type": "stream",
     "text": [
      "C:\\Users\\juju-\\Desktop\\projetos\\mng\\notebooks\\..\\scripts\\MNGFeaturesFractal.py:48: RankWarning: Polyfit may be poorly conditioned\n",
      "  coeffs = np.polyfit(np.log(C), np.log(dists), 1)\n"
     ]
    },
    {
     "name": "stdout",
     "output_type": "stream",
     "text": [
      "42\n"
     ]
    },
    {
     "name": "stderr",
     "output_type": "stream",
     "text": [
      "C:\\Users\\juju-\\Desktop\\projetos\\mng\\notebooks\\..\\scripts\\MNGFeaturesFractal.py:48: RankWarning: Polyfit may be poorly conditioned\n",
      "  coeffs = np.polyfit(np.log(C), np.log(dists), 1)\n"
     ]
    },
    {
     "name": "stdout",
     "output_type": "stream",
     "text": [
      "43\n"
     ]
    },
    {
     "name": "stderr",
     "output_type": "stream",
     "text": [
      "C:\\Users\\juju-\\Desktop\\projetos\\mng\\notebooks\\..\\scripts\\MNGFeaturesFractal.py:48: RankWarning: Polyfit may be poorly conditioned\n",
      "  coeffs = np.polyfit(np.log(C), np.log(dists), 1)\n"
     ]
    },
    {
     "name": "stdout",
     "output_type": "stream",
     "text": [
      "44\n"
     ]
    },
    {
     "name": "stderr",
     "output_type": "stream",
     "text": [
      "C:\\Users\\juju-\\Desktop\\projetos\\mng\\notebooks\\..\\scripts\\MNGFeaturesFractal.py:48: RankWarning: Polyfit may be poorly conditioned\n",
      "  coeffs = np.polyfit(np.log(C), np.log(dists), 1)\n"
     ]
    },
    {
     "name": "stdout",
     "output_type": "stream",
     "text": [
      "45\n"
     ]
    },
    {
     "name": "stderr",
     "output_type": "stream",
     "text": [
      "C:\\Users\\juju-\\Desktop\\projetos\\mng\\notebooks\\..\\scripts\\MNGFeaturesFractal.py:48: RankWarning: Polyfit may be poorly conditioned\n",
      "  coeffs = np.polyfit(np.log(C), np.log(dists), 1)\n"
     ]
    },
    {
     "name": "stdout",
     "output_type": "stream",
     "text": [
      "46\n"
     ]
    },
    {
     "name": "stderr",
     "output_type": "stream",
     "text": [
      "C:\\Users\\juju-\\Desktop\\projetos\\mng\\notebooks\\..\\scripts\\MNGFeaturesFractal.py:48: RankWarning: Polyfit may be poorly conditioned\n",
      "  coeffs = np.polyfit(np.log(C), np.log(dists), 1)\n"
     ]
    },
    {
     "name": "stdout",
     "output_type": "stream",
     "text": [
      "47\n"
     ]
    },
    {
     "name": "stderr",
     "output_type": "stream",
     "text": [
      "C:\\Users\\juju-\\Desktop\\projetos\\mng\\notebooks\\..\\scripts\\MNGFeaturesFractal.py:48: RankWarning: Polyfit may be poorly conditioned\n",
      "  coeffs = np.polyfit(np.log(C), np.log(dists), 1)\n"
     ]
    },
    {
     "name": "stdout",
     "output_type": "stream",
     "text": [
      "48\n"
     ]
    },
    {
     "name": "stderr",
     "output_type": "stream",
     "text": [
      "C:\\Users\\juju-\\Desktop\\projetos\\mng\\notebooks\\..\\scripts\\MNGFeaturesFractal.py:48: RankWarning: Polyfit may be poorly conditioned\n",
      "  coeffs = np.polyfit(np.log(C), np.log(dists), 1)\n"
     ]
    },
    {
     "name": "stdout",
     "output_type": "stream",
     "text": [
      "49\n"
     ]
    },
    {
     "name": "stderr",
     "output_type": "stream",
     "text": [
      "C:\\Users\\juju-\\Desktop\\projetos\\mng\\notebooks\\..\\scripts\\MNGFeaturesFractal.py:48: RankWarning: Polyfit may be poorly conditioned\n",
      "  coeffs = np.polyfit(np.log(C), np.log(dists), 1)\n"
     ]
    },
    {
     "name": "stdout",
     "output_type": "stream",
     "text": [
      "50\n"
     ]
    },
    {
     "name": "stderr",
     "output_type": "stream",
     "text": [
      "C:\\Users\\juju-\\Desktop\\projetos\\mng\\notebooks\\..\\scripts\\MNGFeaturesFractal.py:48: RankWarning: Polyfit may be poorly conditioned\n",
      "  coeffs = np.polyfit(np.log(C), np.log(dists), 1)\n"
     ]
    },
    {
     "name": "stdout",
     "output_type": "stream",
     "text": [
      "51\n"
     ]
    },
    {
     "name": "stderr",
     "output_type": "stream",
     "text": [
      "C:\\Users\\juju-\\Desktop\\projetos\\mng\\notebooks\\..\\scripts\\MNGFeaturesFractal.py:48: RankWarning: Polyfit may be poorly conditioned\n",
      "  coeffs = np.polyfit(np.log(C), np.log(dists), 1)\n"
     ]
    },
    {
     "name": "stdout",
     "output_type": "stream",
     "text": [
      "52\n"
     ]
    },
    {
     "name": "stderr",
     "output_type": "stream",
     "text": [
      "C:\\Users\\juju-\\Desktop\\projetos\\mng\\notebooks\\..\\scripts\\MNGFeaturesFractal.py:48: RankWarning: Polyfit may be poorly conditioned\n",
      "  coeffs = np.polyfit(np.log(C), np.log(dists), 1)\n"
     ]
    },
    {
     "name": "stdout",
     "output_type": "stream",
     "text": [
      "53\n"
     ]
    },
    {
     "name": "stderr",
     "output_type": "stream",
     "text": [
      "C:\\Users\\juju-\\Desktop\\projetos\\mng\\notebooks\\..\\scripts\\MNGFeaturesFractal.py:48: RankWarning: Polyfit may be poorly conditioned\n",
      "  coeffs = np.polyfit(np.log(C), np.log(dists), 1)\n"
     ]
    },
    {
     "name": "stdout",
     "output_type": "stream",
     "text": [
      "54\n"
     ]
    },
    {
     "name": "stderr",
     "output_type": "stream",
     "text": [
      "C:\\Users\\juju-\\Desktop\\projetos\\mng\\notebooks\\..\\scripts\\MNGFeaturesFractal.py:48: RankWarning: Polyfit may be poorly conditioned\n",
      "  coeffs = np.polyfit(np.log(C), np.log(dists), 1)\n"
     ]
    },
    {
     "name": "stdout",
     "output_type": "stream",
     "text": [
      "55\n"
     ]
    },
    {
     "name": "stderr",
     "output_type": "stream",
     "text": [
      "C:\\Users\\juju-\\Desktop\\projetos\\mng\\notebooks\\..\\scripts\\MNGFeaturesFractal.py:48: RankWarning: Polyfit may be poorly conditioned\n",
      "  coeffs = np.polyfit(np.log(C), np.log(dists), 1)\n"
     ]
    },
    {
     "name": "stdout",
     "output_type": "stream",
     "text": [
      "56\n"
     ]
    },
    {
     "name": "stderr",
     "output_type": "stream",
     "text": [
      "C:\\Users\\juju-\\Desktop\\projetos\\mng\\notebooks\\..\\scripts\\MNGFeaturesFractal.py:48: RankWarning: Polyfit may be poorly conditioned\n",
      "  coeffs = np.polyfit(np.log(C), np.log(dists), 1)\n"
     ]
    },
    {
     "name": "stdout",
     "output_type": "stream",
     "text": [
      "57\n"
     ]
    },
    {
     "name": "stderr",
     "output_type": "stream",
     "text": [
      "C:\\Users\\juju-\\Desktop\\projetos\\mng\\notebooks\\..\\scripts\\MNGFeaturesFractal.py:48: RankWarning: Polyfit may be poorly conditioned\n",
      "  coeffs = np.polyfit(np.log(C), np.log(dists), 1)\n"
     ]
    },
    {
     "name": "stdout",
     "output_type": "stream",
     "text": [
      "58\n"
     ]
    },
    {
     "name": "stderr",
     "output_type": "stream",
     "text": [
      "C:\\Users\\juju-\\Desktop\\projetos\\mng\\notebooks\\..\\scripts\\MNGFeaturesFractal.py:48: RankWarning: Polyfit may be poorly conditioned\n",
      "  coeffs = np.polyfit(np.log(C), np.log(dists), 1)\n"
     ]
    },
    {
     "name": "stdout",
     "output_type": "stream",
     "text": [
      "59\n"
     ]
    },
    {
     "name": "stderr",
     "output_type": "stream",
     "text": [
      "C:\\Users\\juju-\\Desktop\\projetos\\mng\\notebooks\\..\\scripts\\MNGFeaturesFractal.py:48: RankWarning: Polyfit may be poorly conditioned\n",
      "  coeffs = np.polyfit(np.log(C), np.log(dists), 1)\n"
     ]
    },
    {
     "name": "stdout",
     "output_type": "stream",
     "text": [
      "60\n"
     ]
    },
    {
     "name": "stderr",
     "output_type": "stream",
     "text": [
      "C:\\Users\\juju-\\Desktop\\projetos\\mng\\notebooks\\..\\scripts\\MNGFeaturesFractal.py:48: RankWarning: Polyfit may be poorly conditioned\n",
      "  coeffs = np.polyfit(np.log(C), np.log(dists), 1)\n"
     ]
    },
    {
     "name": "stdout",
     "output_type": "stream",
     "text": [
      "61\n"
     ]
    },
    {
     "name": "stderr",
     "output_type": "stream",
     "text": [
      "C:\\Users\\juju-\\Desktop\\projetos\\mng\\notebooks\\..\\scripts\\MNGFeaturesFractal.py:48: RankWarning: Polyfit may be poorly conditioned\n",
      "  coeffs = np.polyfit(np.log(C), np.log(dists), 1)\n"
     ]
    },
    {
     "name": "stdout",
     "output_type": "stream",
     "text": [
      "62\n"
     ]
    },
    {
     "name": "stderr",
     "output_type": "stream",
     "text": [
      "C:\\Users\\juju-\\Desktop\\projetos\\mng\\notebooks\\..\\scripts\\MNGFeaturesFractal.py:48: RankWarning: Polyfit may be poorly conditioned\n",
      "  coeffs = np.polyfit(np.log(C), np.log(dists), 1)\n"
     ]
    },
    {
     "name": "stdout",
     "output_type": "stream",
     "text": [
      "63\n"
     ]
    },
    {
     "name": "stderr",
     "output_type": "stream",
     "text": [
      "C:\\Users\\juju-\\Desktop\\projetos\\mng\\notebooks\\..\\scripts\\MNGFeaturesFractal.py:48: RankWarning: Polyfit may be poorly conditioned\n",
      "  coeffs = np.polyfit(np.log(C), np.log(dists), 1)\n"
     ]
    },
    {
     "name": "stdout",
     "output_type": "stream",
     "text": [
      "64\n"
     ]
    },
    {
     "name": "stderr",
     "output_type": "stream",
     "text": [
      "C:\\Users\\juju-\\Desktop\\projetos\\mng\\notebooks\\..\\scripts\\MNGFeaturesFractal.py:48: RankWarning: Polyfit may be poorly conditioned\n",
      "  coeffs = np.polyfit(np.log(C), np.log(dists), 1)\n"
     ]
    },
    {
     "name": "stdout",
     "output_type": "stream",
     "text": [
      "65\n"
     ]
    },
    {
     "name": "stderr",
     "output_type": "stream",
     "text": [
      "C:\\Users\\juju-\\Desktop\\projetos\\mng\\notebooks\\..\\scripts\\MNGFeaturesFractal.py:48: RankWarning: Polyfit may be poorly conditioned\n",
      "  coeffs = np.polyfit(np.log(C), np.log(dists), 1)\n"
     ]
    },
    {
     "name": "stdout",
     "output_type": "stream",
     "text": [
      "66\n"
     ]
    },
    {
     "name": "stderr",
     "output_type": "stream",
     "text": [
      "C:\\Users\\juju-\\Desktop\\projetos\\mng\\notebooks\\..\\scripts\\MNGFeaturesFractal.py:48: RankWarning: Polyfit may be poorly conditioned\n",
      "  coeffs = np.polyfit(np.log(C), np.log(dists), 1)\n"
     ]
    },
    {
     "name": "stdout",
     "output_type": "stream",
     "text": [
      "67\n"
     ]
    },
    {
     "name": "stderr",
     "output_type": "stream",
     "text": [
      "C:\\Users\\juju-\\Desktop\\projetos\\mng\\notebooks\\..\\scripts\\MNGFeaturesFractal.py:48: RankWarning: Polyfit may be poorly conditioned\n",
      "  coeffs = np.polyfit(np.log(C), np.log(dists), 1)\n"
     ]
    },
    {
     "name": "stdout",
     "output_type": "stream",
     "text": [
      "68\n"
     ]
    },
    {
     "name": "stderr",
     "output_type": "stream",
     "text": [
      "C:\\Users\\juju-\\Desktop\\projetos\\mng\\notebooks\\..\\scripts\\MNGFeaturesFractal.py:48: RankWarning: Polyfit may be poorly conditioned\n",
      "  coeffs = np.polyfit(np.log(C), np.log(dists), 1)\n"
     ]
    },
    {
     "name": "stdout",
     "output_type": "stream",
     "text": [
      "69\n"
     ]
    },
    {
     "name": "stderr",
     "output_type": "stream",
     "text": [
      "C:\\Users\\juju-\\Desktop\\projetos\\mng\\notebooks\\..\\scripts\\MNGFeaturesFractal.py:48: RankWarning: Polyfit may be poorly conditioned\n",
      "  coeffs = np.polyfit(np.log(C), np.log(dists), 1)\n"
     ]
    },
    {
     "name": "stdout",
     "output_type": "stream",
     "text": [
      "70\n"
     ]
    },
    {
     "name": "stderr",
     "output_type": "stream",
     "text": [
      "C:\\Users\\juju-\\Desktop\\projetos\\mng\\notebooks\\..\\scripts\\MNGFeaturesFractal.py:48: RankWarning: Polyfit may be poorly conditioned\n",
      "  coeffs = np.polyfit(np.log(C), np.log(dists), 1)\n"
     ]
    },
    {
     "name": "stdout",
     "output_type": "stream",
     "text": [
      "71\n"
     ]
    },
    {
     "name": "stderr",
     "output_type": "stream",
     "text": [
      "C:\\Users\\juju-\\Desktop\\projetos\\mng\\notebooks\\..\\scripts\\MNGFeaturesFractal.py:48: RankWarning: Polyfit may be poorly conditioned\n",
      "  coeffs = np.polyfit(np.log(C), np.log(dists), 1)\n"
     ]
    },
    {
     "name": "stdout",
     "output_type": "stream",
     "text": [
      "72\n"
     ]
    },
    {
     "name": "stderr",
     "output_type": "stream",
     "text": [
      "C:\\Users\\juju-\\Desktop\\projetos\\mng\\notebooks\\..\\scripts\\MNGFeaturesFractal.py:48: RankWarning: Polyfit may be poorly conditioned\n",
      "  coeffs = np.polyfit(np.log(C), np.log(dists), 1)\n"
     ]
    },
    {
     "name": "stdout",
     "output_type": "stream",
     "text": [
      "73\n"
     ]
    },
    {
     "name": "stderr",
     "output_type": "stream",
     "text": [
      "C:\\Users\\juju-\\Desktop\\projetos\\mng\\notebooks\\..\\scripts\\MNGFeaturesFractal.py:48: RankWarning: Polyfit may be poorly conditioned\n",
      "  coeffs = np.polyfit(np.log(C), np.log(dists), 1)\n"
     ]
    },
    {
     "name": "stdout",
     "output_type": "stream",
     "text": [
      "74\n"
     ]
    },
    {
     "name": "stderr",
     "output_type": "stream",
     "text": [
      "C:\\Users\\juju-\\Desktop\\projetos\\mng\\notebooks\\..\\scripts\\MNGFeaturesFractal.py:48: RankWarning: Polyfit may be poorly conditioned\n",
      "  coeffs = np.polyfit(np.log(C), np.log(dists), 1)\n"
     ]
    },
    {
     "name": "stdout",
     "output_type": "stream",
     "text": [
      "75\n"
     ]
    },
    {
     "name": "stderr",
     "output_type": "stream",
     "text": [
      "C:\\Users\\juju-\\Desktop\\projetos\\mng\\notebooks\\..\\scripts\\MNGFeaturesFractal.py:48: RankWarning: Polyfit may be poorly conditioned\n",
      "  coeffs = np.polyfit(np.log(C), np.log(dists), 1)\n"
     ]
    },
    {
     "name": "stdout",
     "output_type": "stream",
     "text": [
      "76\n"
     ]
    },
    {
     "name": "stderr",
     "output_type": "stream",
     "text": [
      "C:\\Users\\juju-\\Desktop\\projetos\\mng\\notebooks\\..\\scripts\\MNGFeaturesFractal.py:48: RankWarning: Polyfit may be poorly conditioned\n",
      "  coeffs = np.polyfit(np.log(C), np.log(dists), 1)\n"
     ]
    },
    {
     "name": "stdout",
     "output_type": "stream",
     "text": [
      "77\n"
     ]
    },
    {
     "name": "stderr",
     "output_type": "stream",
     "text": [
      "C:\\Users\\juju-\\Desktop\\projetos\\mng\\notebooks\\..\\scripts\\MNGFeaturesFractal.py:48: RankWarning: Polyfit may be poorly conditioned\n",
      "  coeffs = np.polyfit(np.log(C), np.log(dists), 1)\n"
     ]
    },
    {
     "name": "stdout",
     "output_type": "stream",
     "text": [
      "78\n"
     ]
    },
    {
     "name": "stderr",
     "output_type": "stream",
     "text": [
      "C:\\Users\\juju-\\Desktop\\projetos\\mng\\notebooks\\..\\scripts\\MNGFeaturesFractal.py:48: RankWarning: Polyfit may be poorly conditioned\n",
      "  coeffs = np.polyfit(np.log(C), np.log(dists), 1)\n"
     ]
    },
    {
     "name": "stdout",
     "output_type": "stream",
     "text": [
      "79\n"
     ]
    },
    {
     "name": "stderr",
     "output_type": "stream",
     "text": [
      "C:\\Users\\juju-\\Desktop\\projetos\\mng\\notebooks\\..\\scripts\\MNGFeaturesFractal.py:48: RankWarning: Polyfit may be poorly conditioned\n",
      "  coeffs = np.polyfit(np.log(C), np.log(dists), 1)\n"
     ]
    },
    {
     "name": "stdout",
     "output_type": "stream",
     "text": [
      "80\n"
     ]
    },
    {
     "name": "stderr",
     "output_type": "stream",
     "text": [
      "C:\\Users\\juju-\\Desktop\\projetos\\mng\\notebooks\\..\\scripts\\MNGFeaturesFractal.py:48: RankWarning: Polyfit may be poorly conditioned\n",
      "  coeffs = np.polyfit(np.log(C), np.log(dists), 1)\n"
     ]
    },
    {
     "name": "stdout",
     "output_type": "stream",
     "text": [
      "81\n"
     ]
    },
    {
     "name": "stderr",
     "output_type": "stream",
     "text": [
      "C:\\Users\\juju-\\Desktop\\projetos\\mng\\notebooks\\..\\scripts\\MNGFeaturesFractal.py:48: RankWarning: Polyfit may be poorly conditioned\n",
      "  coeffs = np.polyfit(np.log(C), np.log(dists), 1)\n"
     ]
    },
    {
     "name": "stdout",
     "output_type": "stream",
     "text": [
      "82\n"
     ]
    },
    {
     "name": "stderr",
     "output_type": "stream",
     "text": [
      "C:\\Users\\juju-\\Desktop\\projetos\\mng\\notebooks\\..\\scripts\\MNGFeaturesFractal.py:48: RankWarning: Polyfit may be poorly conditioned\n",
      "  coeffs = np.polyfit(np.log(C), np.log(dists), 1)\n"
     ]
    },
    {
     "name": "stdout",
     "output_type": "stream",
     "text": [
      "83\n"
     ]
    },
    {
     "name": "stderr",
     "output_type": "stream",
     "text": [
      "C:\\Users\\juju-\\Desktop\\projetos\\mng\\notebooks\\..\\scripts\\MNGFeaturesFractal.py:48: RankWarning: Polyfit may be poorly conditioned\n",
      "  coeffs = np.polyfit(np.log(C), np.log(dists), 1)\n"
     ]
    },
    {
     "name": "stdout",
     "output_type": "stream",
     "text": [
      "84\n"
     ]
    },
    {
     "name": "stderr",
     "output_type": "stream",
     "text": [
      "C:\\Users\\juju-\\Desktop\\projetos\\mng\\notebooks\\..\\scripts\\MNGFeaturesFractal.py:48: RankWarning: Polyfit may be poorly conditioned\n",
      "  coeffs = np.polyfit(np.log(C), np.log(dists), 1)\n"
     ]
    },
    {
     "name": "stdout",
     "output_type": "stream",
     "text": [
      "85\n"
     ]
    },
    {
     "name": "stderr",
     "output_type": "stream",
     "text": [
      "C:\\Users\\juju-\\Desktop\\projetos\\mng\\notebooks\\..\\scripts\\MNGFeaturesFractal.py:48: RankWarning: Polyfit may be poorly conditioned\n",
      "  coeffs = np.polyfit(np.log(C), np.log(dists), 1)\n"
     ]
    },
    {
     "name": "stdout",
     "output_type": "stream",
     "text": [
      "86\n"
     ]
    },
    {
     "name": "stderr",
     "output_type": "stream",
     "text": [
      "C:\\Users\\juju-\\Desktop\\projetos\\mng\\notebooks\\..\\scripts\\MNGFeaturesFractal.py:48: RankWarning: Polyfit may be poorly conditioned\n",
      "  coeffs = np.polyfit(np.log(C), np.log(dists), 1)\n"
     ]
    },
    {
     "name": "stdout",
     "output_type": "stream",
     "text": [
      "87\n"
     ]
    },
    {
     "name": "stderr",
     "output_type": "stream",
     "text": [
      "C:\\Users\\juju-\\Desktop\\projetos\\mng\\notebooks\\..\\scripts\\MNGFeaturesFractal.py:48: RankWarning: Polyfit may be poorly conditioned\n",
      "  coeffs = np.polyfit(np.log(C), np.log(dists), 1)\n"
     ]
    },
    {
     "name": "stdout",
     "output_type": "stream",
     "text": [
      "88\n"
     ]
    },
    {
     "name": "stderr",
     "output_type": "stream",
     "text": [
      "C:\\Users\\juju-\\Desktop\\projetos\\mng\\notebooks\\..\\scripts\\MNGFeaturesFractal.py:48: RankWarning: Polyfit may be poorly conditioned\n",
      "  coeffs = np.polyfit(np.log(C), np.log(dists), 1)\n"
     ]
    },
    {
     "name": "stdout",
     "output_type": "stream",
     "text": [
      "89\n"
     ]
    },
    {
     "name": "stderr",
     "output_type": "stream",
     "text": [
      "C:\\Users\\juju-\\Desktop\\projetos\\mng\\notebooks\\..\\scripts\\MNGFeaturesFractal.py:48: RankWarning: Polyfit may be poorly conditioned\n",
      "  coeffs = np.polyfit(np.log(C), np.log(dists), 1)\n"
     ]
    },
    {
     "name": "stdout",
     "output_type": "stream",
     "text": [
      "90\n"
     ]
    },
    {
     "name": "stderr",
     "output_type": "stream",
     "text": [
      "C:\\Users\\juju-\\Desktop\\projetos\\mng\\notebooks\\..\\scripts\\MNGFeaturesFractal.py:48: RankWarning: Polyfit may be poorly conditioned\n",
      "  coeffs = np.polyfit(np.log(C), np.log(dists), 1)\n"
     ]
    },
    {
     "name": "stdout",
     "output_type": "stream",
     "text": [
      "91\n"
     ]
    },
    {
     "name": "stderr",
     "output_type": "stream",
     "text": [
      "C:\\Users\\juju-\\Desktop\\projetos\\mng\\notebooks\\..\\scripts\\MNGFeaturesFractal.py:48: RankWarning: Polyfit may be poorly conditioned\n",
      "  coeffs = np.polyfit(np.log(C), np.log(dists), 1)\n"
     ]
    },
    {
     "name": "stdout",
     "output_type": "stream",
     "text": [
      "92\n"
     ]
    },
    {
     "name": "stderr",
     "output_type": "stream",
     "text": [
      "C:\\Users\\juju-\\Desktop\\projetos\\mng\\notebooks\\..\\scripts\\MNGFeaturesFractal.py:48: RankWarning: Polyfit may be poorly conditioned\n",
      "  coeffs = np.polyfit(np.log(C), np.log(dists), 1)\n"
     ]
    },
    {
     "name": "stdout",
     "output_type": "stream",
     "text": [
      "93\n"
     ]
    },
    {
     "name": "stderr",
     "output_type": "stream",
     "text": [
      "C:\\Users\\juju-\\Desktop\\projetos\\mng\\notebooks\\..\\scripts\\MNGFeaturesFractal.py:48: RankWarning: Polyfit may be poorly conditioned\n",
      "  coeffs = np.polyfit(np.log(C), np.log(dists), 1)\n"
     ]
    },
    {
     "name": "stdout",
     "output_type": "stream",
     "text": [
      "94\n"
     ]
    },
    {
     "name": "stderr",
     "output_type": "stream",
     "text": [
      "C:\\Users\\juju-\\Desktop\\projetos\\mng\\notebooks\\..\\scripts\\MNGFeaturesFractal.py:48: RankWarning: Polyfit may be poorly conditioned\n",
      "  coeffs = np.polyfit(np.log(C), np.log(dists), 1)\n"
     ]
    },
    {
     "name": "stdout",
     "output_type": "stream",
     "text": [
      "95\n"
     ]
    },
    {
     "name": "stderr",
     "output_type": "stream",
     "text": [
      "C:\\Users\\juju-\\Desktop\\projetos\\mng\\notebooks\\..\\scripts\\MNGFeaturesFractal.py:48: RankWarning: Polyfit may be poorly conditioned\n",
      "  coeffs = np.polyfit(np.log(C), np.log(dists), 1)\n"
     ]
    },
    {
     "name": "stdout",
     "output_type": "stream",
     "text": [
      "96\n"
     ]
    },
    {
     "name": "stderr",
     "output_type": "stream",
     "text": [
      "C:\\Users\\juju-\\Desktop\\projetos\\mng\\notebooks\\..\\scripts\\MNGFeaturesFractal.py:48: RankWarning: Polyfit may be poorly conditioned\n",
      "  coeffs = np.polyfit(np.log(C), np.log(dists), 1)\n"
     ]
    },
    {
     "name": "stdout",
     "output_type": "stream",
     "text": [
      "97\n"
     ]
    },
    {
     "name": "stderr",
     "output_type": "stream",
     "text": [
      "C:\\Users\\juju-\\Desktop\\projetos\\mng\\notebooks\\..\\scripts\\MNGFeaturesFractal.py:48: RankWarning: Polyfit may be poorly conditioned\n",
      "  coeffs = np.polyfit(np.log(C), np.log(dists), 1)\n"
     ]
    },
    {
     "name": "stdout",
     "output_type": "stream",
     "text": [
      "98\n"
     ]
    },
    {
     "name": "stderr",
     "output_type": "stream",
     "text": [
      "C:\\Users\\juju-\\Desktop\\projetos\\mng\\notebooks\\..\\scripts\\MNGFeaturesFractal.py:48: RankWarning: Polyfit may be poorly conditioned\n",
      "  coeffs = np.polyfit(np.log(C), np.log(dists), 1)\n"
     ]
    },
    {
     "name": "stdout",
     "output_type": "stream",
     "text": [
      "99\n"
     ]
    },
    {
     "name": "stderr",
     "output_type": "stream",
     "text": [
      "C:\\Users\\juju-\\Desktop\\projetos\\mng\\notebooks\\..\\scripts\\MNGFeaturesFractal.py:48: RankWarning: Polyfit may be poorly conditioned\n",
      "  coeffs = np.polyfit(np.log(C), np.log(dists), 1)\n"
     ]
    },
    {
     "name": "stdout",
     "output_type": "stream",
     "text": [
      "100\n"
     ]
    },
    {
     "name": "stderr",
     "output_type": "stream",
     "text": [
      "C:\\Users\\juju-\\Desktop\\projetos\\mng\\notebooks\\..\\scripts\\MNGFeaturesFractal.py:48: RankWarning: Polyfit may be poorly conditioned\n",
      "  coeffs = np.polyfit(np.log(C), np.log(dists), 1)\n"
     ]
    },
    {
     "name": "stdout",
     "output_type": "stream",
     "text": [
      "101\n"
     ]
    },
    {
     "name": "stderr",
     "output_type": "stream",
     "text": [
      "C:\\Users\\juju-\\Desktop\\projetos\\mng\\notebooks\\..\\scripts\\MNGFeaturesFractal.py:48: RankWarning: Polyfit may be poorly conditioned\n",
      "  coeffs = np.polyfit(np.log(C), np.log(dists), 1)\n"
     ]
    },
    {
     "name": "stdout",
     "output_type": "stream",
     "text": [
      "102\n"
     ]
    },
    {
     "name": "stderr",
     "output_type": "stream",
     "text": [
      "C:\\Users\\juju-\\Desktop\\projetos\\mng\\notebooks\\..\\scripts\\MNGFeaturesFractal.py:48: RankWarning: Polyfit may be poorly conditioned\n",
      "  coeffs = np.polyfit(np.log(C), np.log(dists), 1)\n"
     ]
    },
    {
     "name": "stdout",
     "output_type": "stream",
     "text": [
      "103\n"
     ]
    },
    {
     "name": "stderr",
     "output_type": "stream",
     "text": [
      "C:\\Users\\juju-\\Desktop\\projetos\\mng\\notebooks\\..\\scripts\\MNGFeaturesFractal.py:48: RankWarning: Polyfit may be poorly conditioned\n",
      "  coeffs = np.polyfit(np.log(C), np.log(dists), 1)\n"
     ]
    },
    {
     "name": "stdout",
     "output_type": "stream",
     "text": [
      "104\n"
     ]
    },
    {
     "name": "stderr",
     "output_type": "stream",
     "text": [
      "C:\\Users\\juju-\\Desktop\\projetos\\mng\\notebooks\\..\\scripts\\MNGFeaturesFractal.py:48: RankWarning: Polyfit may be poorly conditioned\n",
      "  coeffs = np.polyfit(np.log(C), np.log(dists), 1)\n"
     ]
    },
    {
     "name": "stdout",
     "output_type": "stream",
     "text": [
      "105\n"
     ]
    },
    {
     "name": "stderr",
     "output_type": "stream",
     "text": [
      "C:\\Users\\juju-\\Desktop\\projetos\\mng\\notebooks\\..\\scripts\\MNGFeaturesFractal.py:48: RankWarning: Polyfit may be poorly conditioned\n",
      "  coeffs = np.polyfit(np.log(C), np.log(dists), 1)\n"
     ]
    },
    {
     "name": "stdout",
     "output_type": "stream",
     "text": [
      "106\n"
     ]
    },
    {
     "name": "stderr",
     "output_type": "stream",
     "text": [
      "C:\\Users\\juju-\\Desktop\\projetos\\mng\\notebooks\\..\\scripts\\MNGFeaturesFractal.py:48: RankWarning: Polyfit may be poorly conditioned\n",
      "  coeffs = np.polyfit(np.log(C), np.log(dists), 1)\n"
     ]
    },
    {
     "name": "stdout",
     "output_type": "stream",
     "text": [
      "107\n"
     ]
    },
    {
     "name": "stderr",
     "output_type": "stream",
     "text": [
      "C:\\Users\\juju-\\Desktop\\projetos\\mng\\notebooks\\..\\scripts\\MNGFeaturesFractal.py:48: RankWarning: Polyfit may be poorly conditioned\n",
      "  coeffs = np.polyfit(np.log(C), np.log(dists), 1)\n"
     ]
    },
    {
     "name": "stdout",
     "output_type": "stream",
     "text": [
      "108\n"
     ]
    },
    {
     "name": "stderr",
     "output_type": "stream",
     "text": [
      "C:\\Users\\juju-\\Desktop\\projetos\\mng\\notebooks\\..\\scripts\\MNGFeaturesFractal.py:48: RankWarning: Polyfit may be poorly conditioned\n",
      "  coeffs = np.polyfit(np.log(C), np.log(dists), 1)\n"
     ]
    },
    {
     "name": "stdout",
     "output_type": "stream",
     "text": [
      "109\n"
     ]
    },
    {
     "name": "stderr",
     "output_type": "stream",
     "text": [
      "C:\\Users\\juju-\\Desktop\\projetos\\mng\\notebooks\\..\\scripts\\MNGFeaturesFractal.py:48: RankWarning: Polyfit may be poorly conditioned\n",
      "  coeffs = np.polyfit(np.log(C), np.log(dists), 1)\n"
     ]
    },
    {
     "name": "stdout",
     "output_type": "stream",
     "text": [
      "110\n"
     ]
    },
    {
     "name": "stderr",
     "output_type": "stream",
     "text": [
      "C:\\Users\\juju-\\Desktop\\projetos\\mng\\notebooks\\..\\scripts\\MNGFeaturesFractal.py:48: RankWarning: Polyfit may be poorly conditioned\n",
      "  coeffs = np.polyfit(np.log(C), np.log(dists), 1)\n"
     ]
    },
    {
     "name": "stdout",
     "output_type": "stream",
     "text": [
      "111\n"
     ]
    },
    {
     "name": "stderr",
     "output_type": "stream",
     "text": [
      "C:\\Users\\juju-\\Desktop\\projetos\\mng\\notebooks\\..\\scripts\\MNGFeaturesFractal.py:48: RankWarning: Polyfit may be poorly conditioned\n",
      "  coeffs = np.polyfit(np.log(C), np.log(dists), 1)\n"
     ]
    },
    {
     "name": "stdout",
     "output_type": "stream",
     "text": [
      "112\n"
     ]
    },
    {
     "name": "stderr",
     "output_type": "stream",
     "text": [
      "C:\\Users\\juju-\\Desktop\\projetos\\mng\\notebooks\\..\\scripts\\MNGFeaturesFractal.py:48: RankWarning: Polyfit may be poorly conditioned\n",
      "  coeffs = np.polyfit(np.log(C), np.log(dists), 1)\n"
     ]
    },
    {
     "name": "stdout",
     "output_type": "stream",
     "text": [
      "113\n"
     ]
    },
    {
     "name": "stderr",
     "output_type": "stream",
     "text": [
      "C:\\Users\\juju-\\Desktop\\projetos\\mng\\notebooks\\..\\scripts\\MNGFeaturesFractal.py:48: RankWarning: Polyfit may be poorly conditioned\n",
      "  coeffs = np.polyfit(np.log(C), np.log(dists), 1)\n"
     ]
    },
    {
     "name": "stdout",
     "output_type": "stream",
     "text": [
      "114\n"
     ]
    },
    {
     "name": "stderr",
     "output_type": "stream",
     "text": [
      "C:\\Users\\juju-\\Desktop\\projetos\\mng\\notebooks\\..\\scripts\\MNGFeaturesFractal.py:48: RankWarning: Polyfit may be poorly conditioned\n",
      "  coeffs = np.polyfit(np.log(C), np.log(dists), 1)\n"
     ]
    },
    {
     "name": "stdout",
     "output_type": "stream",
     "text": [
      "115\n"
     ]
    },
    {
     "name": "stderr",
     "output_type": "stream",
     "text": [
      "C:\\Users\\juju-\\Desktop\\projetos\\mng\\notebooks\\..\\scripts\\MNGFeaturesFractal.py:48: RankWarning: Polyfit may be poorly conditioned\n",
      "  coeffs = np.polyfit(np.log(C), np.log(dists), 1)\n"
     ]
    },
    {
     "name": "stdout",
     "output_type": "stream",
     "text": [
      "116\n"
     ]
    },
    {
     "name": "stderr",
     "output_type": "stream",
     "text": [
      "C:\\Users\\juju-\\Desktop\\projetos\\mng\\notebooks\\..\\scripts\\MNGFeaturesFractal.py:48: RankWarning: Polyfit may be poorly conditioned\n",
      "  coeffs = np.polyfit(np.log(C), np.log(dists), 1)\n"
     ]
    },
    {
     "name": "stdout",
     "output_type": "stream",
     "text": [
      "117\n"
     ]
    },
    {
     "name": "stderr",
     "output_type": "stream",
     "text": [
      "C:\\Users\\juju-\\Desktop\\projetos\\mng\\notebooks\\..\\scripts\\MNGFeaturesFractal.py:48: RankWarning: Polyfit may be poorly conditioned\n",
      "  coeffs = np.polyfit(np.log(C), np.log(dists), 1)\n"
     ]
    },
    {
     "name": "stdout",
     "output_type": "stream",
     "text": [
      "118\n"
     ]
    },
    {
     "name": "stderr",
     "output_type": "stream",
     "text": [
      "C:\\Users\\juju-\\Desktop\\projetos\\mng\\notebooks\\..\\scripts\\MNGFeaturesFractal.py:48: RankWarning: Polyfit may be poorly conditioned\n",
      "  coeffs = np.polyfit(np.log(C), np.log(dists), 1)\n"
     ]
    },
    {
     "name": "stdout",
     "output_type": "stream",
     "text": [
      "119\n"
     ]
    },
    {
     "name": "stderr",
     "output_type": "stream",
     "text": [
      "C:\\Users\\juju-\\Desktop\\projetos\\mng\\notebooks\\..\\scripts\\MNGFeaturesFractal.py:48: RankWarning: Polyfit may be poorly conditioned\n",
      "  coeffs = np.polyfit(np.log(C), np.log(dists), 1)\n"
     ]
    },
    {
     "name": "stdout",
     "output_type": "stream",
     "text": [
      "120\n"
     ]
    },
    {
     "name": "stderr",
     "output_type": "stream",
     "text": [
      "C:\\Users\\juju-\\Desktop\\projetos\\mng\\notebooks\\..\\scripts\\MNGFeaturesFractal.py:48: RankWarning: Polyfit may be poorly conditioned\n",
      "  coeffs = np.polyfit(np.log(C), np.log(dists), 1)\n"
     ]
    },
    {
     "name": "stdout",
     "output_type": "stream",
     "text": [
      "121\n"
     ]
    },
    {
     "name": "stderr",
     "output_type": "stream",
     "text": [
      "C:\\Users\\juju-\\Desktop\\projetos\\mng\\notebooks\\..\\scripts\\MNGFeaturesFractal.py:48: RankWarning: Polyfit may be poorly conditioned\n",
      "  coeffs = np.polyfit(np.log(C), np.log(dists), 1)\n"
     ]
    },
    {
     "name": "stdout",
     "output_type": "stream",
     "text": [
      "122\n"
     ]
    },
    {
     "name": "stderr",
     "output_type": "stream",
     "text": [
      "C:\\Users\\juju-\\Desktop\\projetos\\mng\\notebooks\\..\\scripts\\MNGFeaturesFractal.py:48: RankWarning: Polyfit may be poorly conditioned\n",
      "  coeffs = np.polyfit(np.log(C), np.log(dists), 1)\n"
     ]
    },
    {
     "name": "stdout",
     "output_type": "stream",
     "text": [
      "123\n"
     ]
    },
    {
     "name": "stderr",
     "output_type": "stream",
     "text": [
      "C:\\Users\\juju-\\Desktop\\projetos\\mng\\notebooks\\..\\scripts\\MNGFeaturesFractal.py:48: RankWarning: Polyfit may be poorly conditioned\n",
      "  coeffs = np.polyfit(np.log(C), np.log(dists), 1)\n"
     ]
    },
    {
     "name": "stdout",
     "output_type": "stream",
     "text": [
      "124\n"
     ]
    },
    {
     "name": "stderr",
     "output_type": "stream",
     "text": [
      "C:\\Users\\juju-\\Desktop\\projetos\\mng\\notebooks\\..\\scripts\\MNGFeaturesFractal.py:48: RankWarning: Polyfit may be poorly conditioned\n",
      "  coeffs = np.polyfit(np.log(C), np.log(dists), 1)\n"
     ]
    },
    {
     "name": "stdout",
     "output_type": "stream",
     "text": [
      "125\n"
     ]
    },
    {
     "name": "stderr",
     "output_type": "stream",
     "text": [
      "C:\\Users\\juju-\\Desktop\\projetos\\mng\\notebooks\\..\\scripts\\MNGFeaturesFractal.py:48: RankWarning: Polyfit may be poorly conditioned\n",
      "  coeffs = np.polyfit(np.log(C), np.log(dists), 1)\n"
     ]
    },
    {
     "name": "stdout",
     "output_type": "stream",
     "text": [
      "126\n"
     ]
    },
    {
     "name": "stderr",
     "output_type": "stream",
     "text": [
      "C:\\Users\\juju-\\Desktop\\projetos\\mng\\notebooks\\..\\scripts\\MNGFeaturesFractal.py:48: RankWarning: Polyfit may be poorly conditioned\n",
      "  coeffs = np.polyfit(np.log(C), np.log(dists), 1)\n"
     ]
    },
    {
     "name": "stdout",
     "output_type": "stream",
     "text": [
      "127\n"
     ]
    },
    {
     "name": "stderr",
     "output_type": "stream",
     "text": [
      "C:\\Users\\juju-\\Desktop\\projetos\\mng\\notebooks\\..\\scripts\\MNGFeaturesFractal.py:48: RankWarning: Polyfit may be poorly conditioned\n",
      "  coeffs = np.polyfit(np.log(C), np.log(dists), 1)\n"
     ]
    },
    {
     "name": "stdout",
     "output_type": "stream",
     "text": [
      "128\n"
     ]
    },
    {
     "name": "stderr",
     "output_type": "stream",
     "text": [
      "C:\\Users\\juju-\\Desktop\\projetos\\mng\\notebooks\\..\\scripts\\MNGFeaturesFractal.py:48: RankWarning: Polyfit may be poorly conditioned\n",
      "  coeffs = np.polyfit(np.log(C), np.log(dists), 1)\n"
     ]
    },
    {
     "name": "stdout",
     "output_type": "stream",
     "text": [
      "129\n"
     ]
    },
    {
     "name": "stderr",
     "output_type": "stream",
     "text": [
      "C:\\Users\\juju-\\Desktop\\projetos\\mng\\notebooks\\..\\scripts\\MNGFeaturesFractal.py:48: RankWarning: Polyfit may be poorly conditioned\n",
      "  coeffs = np.polyfit(np.log(C), np.log(dists), 1)\n"
     ]
    },
    {
     "name": "stdout",
     "output_type": "stream",
     "text": [
      "130\n"
     ]
    },
    {
     "name": "stderr",
     "output_type": "stream",
     "text": [
      "C:\\Users\\juju-\\Desktop\\projetos\\mng\\notebooks\\..\\scripts\\MNGFeaturesFractal.py:48: RankWarning: Polyfit may be poorly conditioned\n",
      "  coeffs = np.polyfit(np.log(C), np.log(dists), 1)\n"
     ]
    },
    {
     "name": "stdout",
     "output_type": "stream",
     "text": [
      "131\n"
     ]
    },
    {
     "name": "stderr",
     "output_type": "stream",
     "text": [
      "C:\\Users\\juju-\\Desktop\\projetos\\mng\\notebooks\\..\\scripts\\MNGFeaturesFractal.py:48: RankWarning: Polyfit may be poorly conditioned\n",
      "  coeffs = np.polyfit(np.log(C), np.log(dists), 1)\n"
     ]
    },
    {
     "name": "stdout",
     "output_type": "stream",
     "text": [
      "132\n"
     ]
    },
    {
     "name": "stderr",
     "output_type": "stream",
     "text": [
      "C:\\Users\\juju-\\Desktop\\projetos\\mng\\notebooks\\..\\scripts\\MNGFeaturesFractal.py:48: RankWarning: Polyfit may be poorly conditioned\n",
      "  coeffs = np.polyfit(np.log(C), np.log(dists), 1)\n"
     ]
    },
    {
     "name": "stdout",
     "output_type": "stream",
     "text": [
      "133\n"
     ]
    },
    {
     "name": "stderr",
     "output_type": "stream",
     "text": [
      "C:\\Users\\juju-\\Desktop\\projetos\\mng\\notebooks\\..\\scripts\\MNGFeaturesFractal.py:48: RankWarning: Polyfit may be poorly conditioned\n",
      "  coeffs = np.polyfit(np.log(C), np.log(dists), 1)\n"
     ]
    },
    {
     "name": "stdout",
     "output_type": "stream",
     "text": [
      "134\n"
     ]
    },
    {
     "name": "stderr",
     "output_type": "stream",
     "text": [
      "C:\\Users\\juju-\\Desktop\\projetos\\mng\\notebooks\\..\\scripts\\MNGFeaturesFractal.py:48: RankWarning: Polyfit may be poorly conditioned\n",
      "  coeffs = np.polyfit(np.log(C), np.log(dists), 1)\n"
     ]
    },
    {
     "name": "stdout",
     "output_type": "stream",
     "text": [
      "135\n"
     ]
    },
    {
     "name": "stderr",
     "output_type": "stream",
     "text": [
      "C:\\Users\\juju-\\Desktop\\projetos\\mng\\notebooks\\..\\scripts\\MNGFeaturesFractal.py:48: RankWarning: Polyfit may be poorly conditioned\n",
      "  coeffs = np.polyfit(np.log(C), np.log(dists), 1)\n"
     ]
    },
    {
     "name": "stdout",
     "output_type": "stream",
     "text": [
      "136\n"
     ]
    },
    {
     "name": "stderr",
     "output_type": "stream",
     "text": [
      "C:\\Users\\juju-\\Desktop\\projetos\\mng\\notebooks\\..\\scripts\\MNGFeaturesFractal.py:48: RankWarning: Polyfit may be poorly conditioned\n",
      "  coeffs = np.polyfit(np.log(C), np.log(dists), 1)\n"
     ]
    },
    {
     "name": "stdout",
     "output_type": "stream",
     "text": [
      "137\n"
     ]
    },
    {
     "name": "stderr",
     "output_type": "stream",
     "text": [
      "C:\\Users\\juju-\\Desktop\\projetos\\mng\\notebooks\\..\\scripts\\MNGFeaturesFractal.py:48: RankWarning: Polyfit may be poorly conditioned\n",
      "  coeffs = np.polyfit(np.log(C), np.log(dists), 1)\n"
     ]
    },
    {
     "name": "stdout",
     "output_type": "stream",
     "text": [
      "138\n"
     ]
    },
    {
     "name": "stderr",
     "output_type": "stream",
     "text": [
      "C:\\Users\\juju-\\Desktop\\projetos\\mng\\notebooks\\..\\scripts\\MNGFeaturesFractal.py:48: RankWarning: Polyfit may be poorly conditioned\n",
      "  coeffs = np.polyfit(np.log(C), np.log(dists), 1)\n"
     ]
    },
    {
     "name": "stdout",
     "output_type": "stream",
     "text": [
      "139\n"
     ]
    },
    {
     "name": "stderr",
     "output_type": "stream",
     "text": [
      "C:\\Users\\juju-\\Desktop\\projetos\\mng\\notebooks\\..\\scripts\\MNGFeaturesFractal.py:48: RankWarning: Polyfit may be poorly conditioned\n",
      "  coeffs = np.polyfit(np.log(C), np.log(dists), 1)\n"
     ]
    },
    {
     "name": "stdout",
     "output_type": "stream",
     "text": [
      "140\n"
     ]
    },
    {
     "name": "stderr",
     "output_type": "stream",
     "text": [
      "C:\\Users\\juju-\\Desktop\\projetos\\mng\\notebooks\\..\\scripts\\MNGFeaturesFractal.py:48: RankWarning: Polyfit may be poorly conditioned\n",
      "  coeffs = np.polyfit(np.log(C), np.log(dists), 1)\n"
     ]
    },
    {
     "name": "stdout",
     "output_type": "stream",
     "text": [
      "141\n"
     ]
    },
    {
     "name": "stderr",
     "output_type": "stream",
     "text": [
      "C:\\Users\\juju-\\Desktop\\projetos\\mng\\notebooks\\..\\scripts\\MNGFeaturesFractal.py:48: RankWarning: Polyfit may be poorly conditioned\n",
      "  coeffs = np.polyfit(np.log(C), np.log(dists), 1)\n"
     ]
    },
    {
     "name": "stdout",
     "output_type": "stream",
     "text": [
      "142\n"
     ]
    },
    {
     "name": "stderr",
     "output_type": "stream",
     "text": [
      "C:\\Users\\juju-\\Desktop\\projetos\\mng\\notebooks\\..\\scripts\\MNGFeaturesFractal.py:48: RankWarning: Polyfit may be poorly conditioned\n",
      "  coeffs = np.polyfit(np.log(C), np.log(dists), 1)\n"
     ]
    },
    {
     "name": "stdout",
     "output_type": "stream",
     "text": [
      "143\n"
     ]
    },
    {
     "name": "stderr",
     "output_type": "stream",
     "text": [
      "C:\\Users\\juju-\\Desktop\\projetos\\mng\\notebooks\\..\\scripts\\MNGFeaturesFractal.py:48: RankWarning: Polyfit may be poorly conditioned\n",
      "  coeffs = np.polyfit(np.log(C), np.log(dists), 1)\n"
     ]
    },
    {
     "name": "stdout",
     "output_type": "stream",
     "text": [
      "144\n"
     ]
    },
    {
     "name": "stderr",
     "output_type": "stream",
     "text": [
      "C:\\Users\\juju-\\Desktop\\projetos\\mng\\notebooks\\..\\scripts\\MNGFeaturesFractal.py:48: RankWarning: Polyfit may be poorly conditioned\n",
      "  coeffs = np.polyfit(np.log(C), np.log(dists), 1)\n"
     ]
    },
    {
     "name": "stdout",
     "output_type": "stream",
     "text": [
      "145\n"
     ]
    },
    {
     "name": "stderr",
     "output_type": "stream",
     "text": [
      "C:\\Users\\juju-\\Desktop\\projetos\\mng\\notebooks\\..\\scripts\\MNGFeaturesFractal.py:48: RankWarning: Polyfit may be poorly conditioned\n",
      "  coeffs = np.polyfit(np.log(C), np.log(dists), 1)\n"
     ]
    },
    {
     "name": "stdout",
     "output_type": "stream",
     "text": [
      "146\n"
     ]
    },
    {
     "name": "stderr",
     "output_type": "stream",
     "text": [
      "C:\\Users\\juju-\\Desktop\\projetos\\mng\\notebooks\\..\\scripts\\MNGFeaturesFractal.py:48: RankWarning: Polyfit may be poorly conditioned\n",
      "  coeffs = np.polyfit(np.log(C), np.log(dists), 1)\n"
     ]
    },
    {
     "name": "stdout",
     "output_type": "stream",
     "text": [
      "147\n"
     ]
    },
    {
     "name": "stderr",
     "output_type": "stream",
     "text": [
      "C:\\Users\\juju-\\Desktop\\projetos\\mng\\notebooks\\..\\scripts\\MNGFeaturesFractal.py:48: RankWarning: Polyfit may be poorly conditioned\n",
      "  coeffs = np.polyfit(np.log(C), np.log(dists), 1)\n"
     ]
    },
    {
     "name": "stdout",
     "output_type": "stream",
     "text": [
      "148\n"
     ]
    },
    {
     "name": "stderr",
     "output_type": "stream",
     "text": [
      "C:\\Users\\juju-\\Desktop\\projetos\\mng\\notebooks\\..\\scripts\\MNGFeaturesFractal.py:48: RankWarning: Polyfit may be poorly conditioned\n",
      "  coeffs = np.polyfit(np.log(C), np.log(dists), 1)\n"
     ]
    },
    {
     "name": "stdout",
     "output_type": "stream",
     "text": [
      "149\n"
     ]
    },
    {
     "name": "stderr",
     "output_type": "stream",
     "text": [
      "C:\\Users\\juju-\\Desktop\\projetos\\mng\\notebooks\\..\\scripts\\MNGFeaturesFractal.py:48: RankWarning: Polyfit may be poorly conditioned\n",
      "  coeffs = np.polyfit(np.log(C), np.log(dists), 1)\n"
     ]
    },
    {
     "name": "stdout",
     "output_type": "stream",
     "text": [
      "150\n"
     ]
    },
    {
     "name": "stderr",
     "output_type": "stream",
     "text": [
      "C:\\Users\\juju-\\Desktop\\projetos\\mng\\notebooks\\..\\scripts\\MNGFeaturesFractal.py:48: RankWarning: Polyfit may be poorly conditioned\n",
      "  coeffs = np.polyfit(np.log(C), np.log(dists), 1)\n"
     ]
    },
    {
     "name": "stdout",
     "output_type": "stream",
     "text": [
      "151\n"
     ]
    },
    {
     "name": "stderr",
     "output_type": "stream",
     "text": [
      "C:\\Users\\juju-\\Desktop\\projetos\\mng\\notebooks\\..\\scripts\\MNGFeaturesFractal.py:48: RankWarning: Polyfit may be poorly conditioned\n",
      "  coeffs = np.polyfit(np.log(C), np.log(dists), 1)\n"
     ]
    },
    {
     "name": "stdout",
     "output_type": "stream",
     "text": [
      "152\n"
     ]
    },
    {
     "name": "stderr",
     "output_type": "stream",
     "text": [
      "C:\\Users\\juju-\\Desktop\\projetos\\mng\\notebooks\\..\\scripts\\MNGFeaturesFractal.py:48: RankWarning: Polyfit may be poorly conditioned\n",
      "  coeffs = np.polyfit(np.log(C), np.log(dists), 1)\n"
     ]
    },
    {
     "name": "stdout",
     "output_type": "stream",
     "text": [
      "153\n"
     ]
    },
    {
     "name": "stderr",
     "output_type": "stream",
     "text": [
      "C:\\Users\\juju-\\Desktop\\projetos\\mng\\notebooks\\..\\scripts\\MNGFeaturesFractal.py:48: RankWarning: Polyfit may be poorly conditioned\n",
      "  coeffs = np.polyfit(np.log(C), np.log(dists), 1)\n"
     ]
    },
    {
     "name": "stdout",
     "output_type": "stream",
     "text": [
      "154\n"
     ]
    },
    {
     "name": "stderr",
     "output_type": "stream",
     "text": [
      "C:\\Users\\juju-\\Desktop\\projetos\\mng\\notebooks\\..\\scripts\\MNGFeaturesFractal.py:48: RankWarning: Polyfit may be poorly conditioned\n",
      "  coeffs = np.polyfit(np.log(C), np.log(dists), 1)\n"
     ]
    },
    {
     "name": "stdout",
     "output_type": "stream",
     "text": [
      "155\n"
     ]
    },
    {
     "name": "stderr",
     "output_type": "stream",
     "text": [
      "C:\\Users\\juju-\\Desktop\\projetos\\mng\\notebooks\\..\\scripts\\MNGFeaturesFractal.py:48: RankWarning: Polyfit may be poorly conditioned\n",
      "  coeffs = np.polyfit(np.log(C), np.log(dists), 1)\n"
     ]
    },
    {
     "name": "stdout",
     "output_type": "stream",
     "text": [
      "156\n"
     ]
    },
    {
     "name": "stderr",
     "output_type": "stream",
     "text": [
      "C:\\Users\\juju-\\Desktop\\projetos\\mng\\notebooks\\..\\scripts\\MNGFeaturesFractal.py:48: RankWarning: Polyfit may be poorly conditioned\n",
      "  coeffs = np.polyfit(np.log(C), np.log(dists), 1)\n"
     ]
    },
    {
     "name": "stdout",
     "output_type": "stream",
     "text": [
      "157\n"
     ]
    },
    {
     "name": "stderr",
     "output_type": "stream",
     "text": [
      "C:\\Users\\juju-\\Desktop\\projetos\\mng\\notebooks\\..\\scripts\\MNGFeaturesFractal.py:48: RankWarning: Polyfit may be poorly conditioned\n",
      "  coeffs = np.polyfit(np.log(C), np.log(dists), 1)\n"
     ]
    },
    {
     "name": "stdout",
     "output_type": "stream",
     "text": [
      "158\n"
     ]
    },
    {
     "name": "stderr",
     "output_type": "stream",
     "text": [
      "C:\\Users\\juju-\\Desktop\\projetos\\mng\\notebooks\\..\\scripts\\MNGFeaturesFractal.py:48: RankWarning: Polyfit may be poorly conditioned\n",
      "  coeffs = np.polyfit(np.log(C), np.log(dists), 1)\n"
     ]
    },
    {
     "name": "stdout",
     "output_type": "stream",
     "text": [
      "159\n"
     ]
    },
    {
     "name": "stderr",
     "output_type": "stream",
     "text": [
      "C:\\Users\\juju-\\Desktop\\projetos\\mng\\notebooks\\..\\scripts\\MNGFeaturesFractal.py:48: RankWarning: Polyfit may be poorly conditioned\n",
      "  coeffs = np.polyfit(np.log(C), np.log(dists), 1)\n"
     ]
    },
    {
     "name": "stdout",
     "output_type": "stream",
     "text": [
      "160\n"
     ]
    },
    {
     "name": "stderr",
     "output_type": "stream",
     "text": [
      "C:\\Users\\juju-\\Desktop\\projetos\\mng\\notebooks\\..\\scripts\\MNGFeaturesFractal.py:48: RankWarning: Polyfit may be poorly conditioned\n",
      "  coeffs = np.polyfit(np.log(C), np.log(dists), 1)\n"
     ]
    },
    {
     "name": "stdout",
     "output_type": "stream",
     "text": [
      "161\n"
     ]
    },
    {
     "name": "stderr",
     "output_type": "stream",
     "text": [
      "C:\\Users\\juju-\\Desktop\\projetos\\mng\\notebooks\\..\\scripts\\MNGFeaturesFractal.py:48: RankWarning: Polyfit may be poorly conditioned\n",
      "  coeffs = np.polyfit(np.log(C), np.log(dists), 1)\n"
     ]
    },
    {
     "name": "stdout",
     "output_type": "stream",
     "text": [
      "162\n"
     ]
    },
    {
     "name": "stderr",
     "output_type": "stream",
     "text": [
      "C:\\Users\\juju-\\Desktop\\projetos\\mng\\notebooks\\..\\scripts\\MNGFeaturesFractal.py:48: RankWarning: Polyfit may be poorly conditioned\n",
      "  coeffs = np.polyfit(np.log(C), np.log(dists), 1)\n"
     ]
    },
    {
     "name": "stdout",
     "output_type": "stream",
     "text": [
      "163\n"
     ]
    },
    {
     "name": "stderr",
     "output_type": "stream",
     "text": [
      "C:\\Users\\juju-\\Desktop\\projetos\\mng\\notebooks\\..\\scripts\\MNGFeaturesFractal.py:48: RankWarning: Polyfit may be poorly conditioned\n",
      "  coeffs = np.polyfit(np.log(C), np.log(dists), 1)\n"
     ]
    },
    {
     "name": "stdout",
     "output_type": "stream",
     "text": [
      "164\n"
     ]
    },
    {
     "name": "stderr",
     "output_type": "stream",
     "text": [
      "C:\\Users\\juju-\\Desktop\\projetos\\mng\\notebooks\\..\\scripts\\MNGFeaturesFractal.py:48: RankWarning: Polyfit may be poorly conditioned\n",
      "  coeffs = np.polyfit(np.log(C), np.log(dists), 1)\n"
     ]
    },
    {
     "name": "stdout",
     "output_type": "stream",
     "text": [
      "165\n"
     ]
    },
    {
     "name": "stderr",
     "output_type": "stream",
     "text": [
      "C:\\Users\\juju-\\Desktop\\projetos\\mng\\notebooks\\..\\scripts\\MNGFeaturesFractal.py:48: RankWarning: Polyfit may be poorly conditioned\n",
      "  coeffs = np.polyfit(np.log(C), np.log(dists), 1)\n"
     ]
    },
    {
     "name": "stdout",
     "output_type": "stream",
     "text": [
      "166\n"
     ]
    },
    {
     "name": "stderr",
     "output_type": "stream",
     "text": [
      "C:\\Users\\juju-\\Desktop\\projetos\\mng\\notebooks\\..\\scripts\\MNGFeaturesFractal.py:48: RankWarning: Polyfit may be poorly conditioned\n",
      "  coeffs = np.polyfit(np.log(C), np.log(dists), 1)\n"
     ]
    },
    {
     "name": "stdout",
     "output_type": "stream",
     "text": [
      "167\n"
     ]
    },
    {
     "name": "stderr",
     "output_type": "stream",
     "text": [
      "C:\\Users\\juju-\\Desktop\\projetos\\mng\\notebooks\\..\\scripts\\MNGFeaturesFractal.py:48: RankWarning: Polyfit may be poorly conditioned\n",
      "  coeffs = np.polyfit(np.log(C), np.log(dists), 1)\n"
     ]
    },
    {
     "name": "stdout",
     "output_type": "stream",
     "text": [
      "168\n"
     ]
    },
    {
     "name": "stderr",
     "output_type": "stream",
     "text": [
      "C:\\Users\\juju-\\Desktop\\projetos\\mng\\notebooks\\..\\scripts\\MNGFeaturesFractal.py:48: RankWarning: Polyfit may be poorly conditioned\n",
      "  coeffs = np.polyfit(np.log(C), np.log(dists), 1)\n"
     ]
    },
    {
     "name": "stdout",
     "output_type": "stream",
     "text": [
      "169\n"
     ]
    },
    {
     "name": "stderr",
     "output_type": "stream",
     "text": [
      "C:\\Users\\juju-\\Desktop\\projetos\\mng\\notebooks\\..\\scripts\\MNGFeaturesFractal.py:48: RankWarning: Polyfit may be poorly conditioned\n",
      "  coeffs = np.polyfit(np.log(C), np.log(dists), 1)\n"
     ]
    },
    {
     "name": "stdout",
     "output_type": "stream",
     "text": [
      "170\n"
     ]
    },
    {
     "name": "stderr",
     "output_type": "stream",
     "text": [
      "C:\\Users\\juju-\\Desktop\\projetos\\mng\\notebooks\\..\\scripts\\MNGFeaturesFractal.py:48: RankWarning: Polyfit may be poorly conditioned\n",
      "  coeffs = np.polyfit(np.log(C), np.log(dists), 1)\n"
     ]
    },
    {
     "name": "stdout",
     "output_type": "stream",
     "text": [
      "171\n"
     ]
    },
    {
     "name": "stderr",
     "output_type": "stream",
     "text": [
      "C:\\Users\\juju-\\Desktop\\projetos\\mng\\notebooks\\..\\scripts\\MNGFeaturesFractal.py:48: RankWarning: Polyfit may be poorly conditioned\n",
      "  coeffs = np.polyfit(np.log(C), np.log(dists), 1)\n"
     ]
    },
    {
     "name": "stdout",
     "output_type": "stream",
     "text": [
      "172\n"
     ]
    },
    {
     "name": "stderr",
     "output_type": "stream",
     "text": [
      "C:\\Users\\juju-\\Desktop\\projetos\\mng\\notebooks\\..\\scripts\\MNGFeaturesFractal.py:48: RankWarning: Polyfit may be poorly conditioned\n",
      "  coeffs = np.polyfit(np.log(C), np.log(dists), 1)\n"
     ]
    },
    {
     "name": "stdout",
     "output_type": "stream",
     "text": [
      "173\n"
     ]
    },
    {
     "name": "stderr",
     "output_type": "stream",
     "text": [
      "C:\\Users\\juju-\\Desktop\\projetos\\mng\\notebooks\\..\\scripts\\MNGFeaturesFractal.py:48: RankWarning: Polyfit may be poorly conditioned\n",
      "  coeffs = np.polyfit(np.log(C), np.log(dists), 1)\n"
     ]
    },
    {
     "name": "stdout",
     "output_type": "stream",
     "text": [
      "174\n"
     ]
    },
    {
     "name": "stderr",
     "output_type": "stream",
     "text": [
      "C:\\Users\\juju-\\Desktop\\projetos\\mng\\notebooks\\..\\scripts\\MNGFeaturesFractal.py:48: RankWarning: Polyfit may be poorly conditioned\n",
      "  coeffs = np.polyfit(np.log(C), np.log(dists), 1)\n"
     ]
    },
    {
     "name": "stdout",
     "output_type": "stream",
     "text": [
      "175\n"
     ]
    },
    {
     "name": "stderr",
     "output_type": "stream",
     "text": [
      "C:\\Users\\juju-\\Desktop\\projetos\\mng\\notebooks\\..\\scripts\\MNGFeaturesFractal.py:48: RankWarning: Polyfit may be poorly conditioned\n",
      "  coeffs = np.polyfit(np.log(C), np.log(dists), 1)\n"
     ]
    },
    {
     "name": "stdout",
     "output_type": "stream",
     "text": [
      "176\n"
     ]
    },
    {
     "name": "stderr",
     "output_type": "stream",
     "text": [
      "C:\\Users\\juju-\\Desktop\\projetos\\mng\\notebooks\\..\\scripts\\MNGFeaturesFractal.py:48: RankWarning: Polyfit may be poorly conditioned\n",
      "  coeffs = np.polyfit(np.log(C), np.log(dists), 1)\n"
     ]
    },
    {
     "name": "stdout",
     "output_type": "stream",
     "text": [
      "177\n"
     ]
    },
    {
     "name": "stderr",
     "output_type": "stream",
     "text": [
      "C:\\Users\\juju-\\Desktop\\projetos\\mng\\notebooks\\..\\scripts\\MNGFeaturesFractal.py:48: RankWarning: Polyfit may be poorly conditioned\n",
      "  coeffs = np.polyfit(np.log(C), np.log(dists), 1)\n"
     ]
    },
    {
     "name": "stdout",
     "output_type": "stream",
     "text": [
      "178\n"
     ]
    },
    {
     "name": "stderr",
     "output_type": "stream",
     "text": [
      "C:\\Users\\juju-\\Desktop\\projetos\\mng\\notebooks\\..\\scripts\\MNGFeaturesFractal.py:48: RankWarning: Polyfit may be poorly conditioned\n",
      "  coeffs = np.polyfit(np.log(C), np.log(dists), 1)\n"
     ]
    },
    {
     "name": "stdout",
     "output_type": "stream",
     "text": [
      "179\n"
     ]
    },
    {
     "name": "stderr",
     "output_type": "stream",
     "text": [
      "C:\\Users\\juju-\\Desktop\\projetos\\mng\\notebooks\\..\\scripts\\MNGFeaturesFractal.py:48: RankWarning: Polyfit may be poorly conditioned\n",
      "  coeffs = np.polyfit(np.log(C), np.log(dists), 1)\n"
     ]
    },
    {
     "name": "stdout",
     "output_type": "stream",
     "text": [
      "180\n"
     ]
    },
    {
     "name": "stderr",
     "output_type": "stream",
     "text": [
      "C:\\Users\\juju-\\Desktop\\projetos\\mng\\notebooks\\..\\scripts\\MNGFeaturesFractal.py:48: RankWarning: Polyfit may be poorly conditioned\n",
      "  coeffs = np.polyfit(np.log(C), np.log(dists), 1)\n"
     ]
    },
    {
     "name": "stdout",
     "output_type": "stream",
     "text": [
      "181\n"
     ]
    },
    {
     "name": "stderr",
     "output_type": "stream",
     "text": [
      "C:\\Users\\juju-\\Desktop\\projetos\\mng\\notebooks\\..\\scripts\\MNGFeaturesFractal.py:48: RankWarning: Polyfit may be poorly conditioned\n",
      "  coeffs = np.polyfit(np.log(C), np.log(dists), 1)\n"
     ]
    },
    {
     "name": "stdout",
     "output_type": "stream",
     "text": [
      "182\n"
     ]
    },
    {
     "name": "stderr",
     "output_type": "stream",
     "text": [
      "C:\\Users\\juju-\\Desktop\\projetos\\mng\\notebooks\\..\\scripts\\MNGFeaturesFractal.py:48: RankWarning: Polyfit may be poorly conditioned\n",
      "  coeffs = np.polyfit(np.log(C), np.log(dists), 1)\n"
     ]
    },
    {
     "name": "stdout",
     "output_type": "stream",
     "text": [
      "183\n"
     ]
    },
    {
     "name": "stderr",
     "output_type": "stream",
     "text": [
      "C:\\Users\\juju-\\Desktop\\projetos\\mng\\notebooks\\..\\scripts\\MNGFeaturesFractal.py:48: RankWarning: Polyfit may be poorly conditioned\n",
      "  coeffs = np.polyfit(np.log(C), np.log(dists), 1)\n"
     ]
    },
    {
     "name": "stdout",
     "output_type": "stream",
     "text": [
      "184\n"
     ]
    },
    {
     "name": "stderr",
     "output_type": "stream",
     "text": [
      "C:\\Users\\juju-\\Desktop\\projetos\\mng\\notebooks\\..\\scripts\\MNGFeaturesFractal.py:48: RankWarning: Polyfit may be poorly conditioned\n",
      "  coeffs = np.polyfit(np.log(C), np.log(dists), 1)\n"
     ]
    },
    {
     "name": "stdout",
     "output_type": "stream",
     "text": [
      "185\n"
     ]
    },
    {
     "name": "stderr",
     "output_type": "stream",
     "text": [
      "C:\\Users\\juju-\\Desktop\\projetos\\mng\\notebooks\\..\\scripts\\MNGFeaturesFractal.py:48: RankWarning: Polyfit may be poorly conditioned\n",
      "  coeffs = np.polyfit(np.log(C), np.log(dists), 1)\n"
     ]
    },
    {
     "name": "stdout",
     "output_type": "stream",
     "text": [
      "186\n"
     ]
    },
    {
     "name": "stderr",
     "output_type": "stream",
     "text": [
      "C:\\Users\\juju-\\Desktop\\projetos\\mng\\notebooks\\..\\scripts\\MNGFeaturesFractal.py:48: RankWarning: Polyfit may be poorly conditioned\n",
      "  coeffs = np.polyfit(np.log(C), np.log(dists), 1)\n"
     ]
    },
    {
     "name": "stdout",
     "output_type": "stream",
     "text": [
      "187\n"
     ]
    },
    {
     "name": "stderr",
     "output_type": "stream",
     "text": [
      "C:\\Users\\juju-\\Desktop\\projetos\\mng\\notebooks\\..\\scripts\\MNGFeaturesFractal.py:48: RankWarning: Polyfit may be poorly conditioned\n",
      "  coeffs = np.polyfit(np.log(C), np.log(dists), 1)\n"
     ]
    },
    {
     "name": "stdout",
     "output_type": "stream",
     "text": [
      "188\n"
     ]
    },
    {
     "name": "stderr",
     "output_type": "stream",
     "text": [
      "C:\\Users\\juju-\\Desktop\\projetos\\mng\\notebooks\\..\\scripts\\MNGFeaturesFractal.py:48: RankWarning: Polyfit may be poorly conditioned\n",
      "  coeffs = np.polyfit(np.log(C), np.log(dists), 1)\n"
     ]
    },
    {
     "name": "stdout",
     "output_type": "stream",
     "text": [
      "189\n"
     ]
    },
    {
     "name": "stderr",
     "output_type": "stream",
     "text": [
      "C:\\Users\\juju-\\Desktop\\projetos\\mng\\notebooks\\..\\scripts\\MNGFeaturesFractal.py:48: RankWarning: Polyfit may be poorly conditioned\n",
      "  coeffs = np.polyfit(np.log(C), np.log(dists), 1)\n"
     ]
    },
    {
     "name": "stdout",
     "output_type": "stream",
     "text": [
      "190\n"
     ]
    },
    {
     "name": "stderr",
     "output_type": "stream",
     "text": [
      "C:\\Users\\juju-\\Desktop\\projetos\\mng\\notebooks\\..\\scripts\\MNGFeaturesFractal.py:48: RankWarning: Polyfit may be poorly conditioned\n",
      "  coeffs = np.polyfit(np.log(C), np.log(dists), 1)\n"
     ]
    },
    {
     "name": "stdout",
     "output_type": "stream",
     "text": [
      "191\n"
     ]
    },
    {
     "name": "stderr",
     "output_type": "stream",
     "text": [
      "C:\\Users\\juju-\\Desktop\\projetos\\mng\\notebooks\\..\\scripts\\MNGFeaturesFractal.py:48: RankWarning: Polyfit may be poorly conditioned\n",
      "  coeffs = np.polyfit(np.log(C), np.log(dists), 1)\n"
     ]
    },
    {
     "name": "stdout",
     "output_type": "stream",
     "text": [
      "192\n"
     ]
    },
    {
     "name": "stderr",
     "output_type": "stream",
     "text": [
      "C:\\Users\\juju-\\Desktop\\projetos\\mng\\notebooks\\..\\scripts\\MNGFeaturesFractal.py:48: RankWarning: Polyfit may be poorly conditioned\n",
      "  coeffs = np.polyfit(np.log(C), np.log(dists), 1)\n"
     ]
    },
    {
     "name": "stdout",
     "output_type": "stream",
     "text": [
      "193\n"
     ]
    },
    {
     "name": "stderr",
     "output_type": "stream",
     "text": [
      "C:\\Users\\juju-\\Desktop\\projetos\\mng\\notebooks\\..\\scripts\\MNGFeaturesFractal.py:48: RankWarning: Polyfit may be poorly conditioned\n",
      "  coeffs = np.polyfit(np.log(C), np.log(dists), 1)\n"
     ]
    },
    {
     "name": "stdout",
     "output_type": "stream",
     "text": [
      "194\n"
     ]
    },
    {
     "name": "stderr",
     "output_type": "stream",
     "text": [
      "C:\\Users\\juju-\\Desktop\\projetos\\mng\\notebooks\\..\\scripts\\MNGFeaturesFractal.py:48: RankWarning: Polyfit may be poorly conditioned\n",
      "  coeffs = np.polyfit(np.log(C), np.log(dists), 1)\n"
     ]
    },
    {
     "name": "stdout",
     "output_type": "stream",
     "text": [
      "195\n"
     ]
    },
    {
     "name": "stderr",
     "output_type": "stream",
     "text": [
      "C:\\Users\\juju-\\Desktop\\projetos\\mng\\notebooks\\..\\scripts\\MNGFeaturesFractal.py:48: RankWarning: Polyfit may be poorly conditioned\n",
      "  coeffs = np.polyfit(np.log(C), np.log(dists), 1)\n"
     ]
    },
    {
     "name": "stdout",
     "output_type": "stream",
     "text": [
      "196\n"
     ]
    },
    {
     "name": "stderr",
     "output_type": "stream",
     "text": [
      "C:\\Users\\juju-\\Desktop\\projetos\\mng\\notebooks\\..\\scripts\\MNGFeaturesFractal.py:48: RankWarning: Polyfit may be poorly conditioned\n",
      "  coeffs = np.polyfit(np.log(C), np.log(dists), 1)\n"
     ]
    },
    {
     "name": "stdout",
     "output_type": "stream",
     "text": [
      "197\n"
     ]
    },
    {
     "name": "stderr",
     "output_type": "stream",
     "text": [
      "C:\\Users\\juju-\\Desktop\\projetos\\mng\\notebooks\\..\\scripts\\MNGFeaturesFractal.py:48: RankWarning: Polyfit may be poorly conditioned\n",
      "  coeffs = np.polyfit(np.log(C), np.log(dists), 1)\n"
     ]
    },
    {
     "name": "stdout",
     "output_type": "stream",
     "text": [
      "198\n"
     ]
    },
    {
     "name": "stderr",
     "output_type": "stream",
     "text": [
      "C:\\Users\\juju-\\Desktop\\projetos\\mng\\notebooks\\..\\scripts\\MNGFeaturesFractal.py:48: RankWarning: Polyfit may be poorly conditioned\n",
      "  coeffs = np.polyfit(np.log(C), np.log(dists), 1)\n"
     ]
    },
    {
     "name": "stdout",
     "output_type": "stream",
     "text": [
      "199\n"
     ]
    },
    {
     "name": "stderr",
     "output_type": "stream",
     "text": [
      "C:\\Users\\juju-\\Desktop\\projetos\\mng\\notebooks\\..\\scripts\\MNGFeaturesFractal.py:48: RankWarning: Polyfit may be poorly conditioned\n",
      "  coeffs = np.polyfit(np.log(C), np.log(dists), 1)\n"
     ]
    },
    {
     "name": "stdout",
     "output_type": "stream",
     "text": [
      "200\n"
     ]
    },
    {
     "name": "stderr",
     "output_type": "stream",
     "text": [
      "C:\\Users\\juju-\\Desktop\\projetos\\mng\\notebooks\\..\\scripts\\MNGFeaturesFractal.py:48: RankWarning: Polyfit may be poorly conditioned\n",
      "  coeffs = np.polyfit(np.log(C), np.log(dists), 1)\n"
     ]
    },
    {
     "name": "stdout",
     "output_type": "stream",
     "text": [
      "201\n"
     ]
    },
    {
     "name": "stderr",
     "output_type": "stream",
     "text": [
      "C:\\Users\\juju-\\Desktop\\projetos\\mng\\notebooks\\..\\scripts\\MNGFeaturesFractal.py:48: RankWarning: Polyfit may be poorly conditioned\n",
      "  coeffs = np.polyfit(np.log(C), np.log(dists), 1)\n"
     ]
    },
    {
     "name": "stdout",
     "output_type": "stream",
     "text": [
      "202\n"
     ]
    },
    {
     "name": "stderr",
     "output_type": "stream",
     "text": [
      "C:\\Users\\juju-\\Desktop\\projetos\\mng\\notebooks\\..\\scripts\\MNGFeaturesFractal.py:48: RankWarning: Polyfit may be poorly conditioned\n",
      "  coeffs = np.polyfit(np.log(C), np.log(dists), 1)\n"
     ]
    },
    {
     "name": "stdout",
     "output_type": "stream",
     "text": [
      "203\n"
     ]
    },
    {
     "name": "stderr",
     "output_type": "stream",
     "text": [
      "C:\\Users\\juju-\\Desktop\\projetos\\mng\\notebooks\\..\\scripts\\MNGFeaturesFractal.py:48: RankWarning: Polyfit may be poorly conditioned\n",
      "  coeffs = np.polyfit(np.log(C), np.log(dists), 1)\n"
     ]
    },
    {
     "name": "stdout",
     "output_type": "stream",
     "text": [
      "204\n"
     ]
    },
    {
     "name": "stderr",
     "output_type": "stream",
     "text": [
      "C:\\Users\\juju-\\Desktop\\projetos\\mng\\notebooks\\..\\scripts\\MNGFeaturesFractal.py:48: RankWarning: Polyfit may be poorly conditioned\n",
      "  coeffs = np.polyfit(np.log(C), np.log(dists), 1)\n"
     ]
    },
    {
     "name": "stdout",
     "output_type": "stream",
     "text": [
      "205\n"
     ]
    },
    {
     "name": "stderr",
     "output_type": "stream",
     "text": [
      "C:\\Users\\juju-\\Desktop\\projetos\\mng\\notebooks\\..\\scripts\\MNGFeaturesFractal.py:48: RankWarning: Polyfit may be poorly conditioned\n",
      "  coeffs = np.polyfit(np.log(C), np.log(dists), 1)\n"
     ]
    },
    {
     "name": "stdout",
     "output_type": "stream",
     "text": [
      "206\n"
     ]
    },
    {
     "name": "stderr",
     "output_type": "stream",
     "text": [
      "C:\\Users\\juju-\\Desktop\\projetos\\mng\\notebooks\\..\\scripts\\MNGFeaturesFractal.py:48: RankWarning: Polyfit may be poorly conditioned\n",
      "  coeffs = np.polyfit(np.log(C), np.log(dists), 1)\n"
     ]
    },
    {
     "name": "stdout",
     "output_type": "stream",
     "text": [
      "207\n"
     ]
    },
    {
     "name": "stderr",
     "output_type": "stream",
     "text": [
      "C:\\Users\\juju-\\Desktop\\projetos\\mng\\notebooks\\..\\scripts\\MNGFeaturesFractal.py:48: RankWarning: Polyfit may be poorly conditioned\n",
      "  coeffs = np.polyfit(np.log(C), np.log(dists), 1)\n"
     ]
    },
    {
     "name": "stdout",
     "output_type": "stream",
     "text": [
      "208\n"
     ]
    },
    {
     "name": "stderr",
     "output_type": "stream",
     "text": [
      "C:\\Users\\juju-\\Desktop\\projetos\\mng\\notebooks\\..\\scripts\\MNGFeaturesFractal.py:48: RankWarning: Polyfit may be poorly conditioned\n",
      "  coeffs = np.polyfit(np.log(C), np.log(dists), 1)\n"
     ]
    },
    {
     "name": "stdout",
     "output_type": "stream",
     "text": [
      "209\n"
     ]
    },
    {
     "name": "stderr",
     "output_type": "stream",
     "text": [
      "C:\\Users\\juju-\\Desktop\\projetos\\mng\\notebooks\\..\\scripts\\MNGFeaturesFractal.py:48: RankWarning: Polyfit may be poorly conditioned\n",
      "  coeffs = np.polyfit(np.log(C), np.log(dists), 1)\n"
     ]
    },
    {
     "name": "stdout",
     "output_type": "stream",
     "text": [
      "210\n"
     ]
    },
    {
     "name": "stderr",
     "output_type": "stream",
     "text": [
      "C:\\Users\\juju-\\Desktop\\projetos\\mng\\notebooks\\..\\scripts\\MNGFeaturesFractal.py:48: RankWarning: Polyfit may be poorly conditioned\n",
      "  coeffs = np.polyfit(np.log(C), np.log(dists), 1)\n"
     ]
    },
    {
     "name": "stdout",
     "output_type": "stream",
     "text": [
      "211\n"
     ]
    },
    {
     "name": "stderr",
     "output_type": "stream",
     "text": [
      "C:\\Users\\juju-\\Desktop\\projetos\\mng\\notebooks\\..\\scripts\\MNGFeaturesFractal.py:48: RankWarning: Polyfit may be poorly conditioned\n",
      "  coeffs = np.polyfit(np.log(C), np.log(dists), 1)\n"
     ]
    },
    {
     "name": "stdout",
     "output_type": "stream",
     "text": [
      "212\n"
     ]
    },
    {
     "name": "stderr",
     "output_type": "stream",
     "text": [
      "C:\\Users\\juju-\\Desktop\\projetos\\mng\\notebooks\\..\\scripts\\MNGFeaturesFractal.py:48: RankWarning: Polyfit may be poorly conditioned\n",
      "  coeffs = np.polyfit(np.log(C), np.log(dists), 1)\n"
     ]
    },
    {
     "name": "stdout",
     "output_type": "stream",
     "text": [
      "213\n"
     ]
    },
    {
     "name": "stderr",
     "output_type": "stream",
     "text": [
      "C:\\Users\\juju-\\Desktop\\projetos\\mng\\notebooks\\..\\scripts\\MNGFeaturesFractal.py:48: RankWarning: Polyfit may be poorly conditioned\n",
      "  coeffs = np.polyfit(np.log(C), np.log(dists), 1)\n"
     ]
    },
    {
     "name": "stdout",
     "output_type": "stream",
     "text": [
      "214\n"
     ]
    },
    {
     "name": "stderr",
     "output_type": "stream",
     "text": [
      "C:\\Users\\juju-\\Desktop\\projetos\\mng\\notebooks\\..\\scripts\\MNGFeaturesFractal.py:48: RankWarning: Polyfit may be poorly conditioned\n",
      "  coeffs = np.polyfit(np.log(C), np.log(dists), 1)\n"
     ]
    },
    {
     "name": "stdout",
     "output_type": "stream",
     "text": [
      "215\n"
     ]
    },
    {
     "name": "stderr",
     "output_type": "stream",
     "text": [
      "C:\\Users\\juju-\\Desktop\\projetos\\mng\\notebooks\\..\\scripts\\MNGFeaturesFractal.py:48: RankWarning: Polyfit may be poorly conditioned\n",
      "  coeffs = np.polyfit(np.log(C), np.log(dists), 1)\n"
     ]
    },
    {
     "name": "stdout",
     "output_type": "stream",
     "text": [
      "216\n"
     ]
    },
    {
     "name": "stderr",
     "output_type": "stream",
     "text": [
      "C:\\Users\\juju-\\Desktop\\projetos\\mng\\notebooks\\..\\scripts\\MNGFeaturesFractal.py:48: RankWarning: Polyfit may be poorly conditioned\n",
      "  coeffs = np.polyfit(np.log(C), np.log(dists), 1)\n"
     ]
    },
    {
     "name": "stdout",
     "output_type": "stream",
     "text": [
      "217\n"
     ]
    },
    {
     "name": "stderr",
     "output_type": "stream",
     "text": [
      "C:\\Users\\juju-\\Desktop\\projetos\\mng\\notebooks\\..\\scripts\\MNGFeaturesFractal.py:48: RankWarning: Polyfit may be poorly conditioned\n",
      "  coeffs = np.polyfit(np.log(C), np.log(dists), 1)\n"
     ]
    },
    {
     "name": "stdout",
     "output_type": "stream",
     "text": [
      "218\n"
     ]
    },
    {
     "name": "stderr",
     "output_type": "stream",
     "text": [
      "C:\\Users\\juju-\\Desktop\\projetos\\mng\\notebooks\\..\\scripts\\MNGFeaturesFractal.py:48: RankWarning: Polyfit may be poorly conditioned\n",
      "  coeffs = np.polyfit(np.log(C), np.log(dists), 1)\n"
     ]
    },
    {
     "name": "stdout",
     "output_type": "stream",
     "text": [
      "219\n"
     ]
    },
    {
     "name": "stderr",
     "output_type": "stream",
     "text": [
      "C:\\Users\\juju-\\Desktop\\projetos\\mng\\notebooks\\..\\scripts\\MNGFeaturesFractal.py:48: RankWarning: Polyfit may be poorly conditioned\n",
      "  coeffs = np.polyfit(np.log(C), np.log(dists), 1)\n"
     ]
    },
    {
     "name": "stdout",
     "output_type": "stream",
     "text": [
      "220\n"
     ]
    },
    {
     "name": "stderr",
     "output_type": "stream",
     "text": [
      "C:\\Users\\juju-\\Desktop\\projetos\\mng\\notebooks\\..\\scripts\\MNGFeaturesFractal.py:48: RankWarning: Polyfit may be poorly conditioned\n",
      "  coeffs = np.polyfit(np.log(C), np.log(dists), 1)\n"
     ]
    },
    {
     "name": "stdout",
     "output_type": "stream",
     "text": [
      "221\n"
     ]
    },
    {
     "name": "stderr",
     "output_type": "stream",
     "text": [
      "C:\\Users\\juju-\\Desktop\\projetos\\mng\\notebooks\\..\\scripts\\MNGFeaturesFractal.py:48: RankWarning: Polyfit may be poorly conditioned\n",
      "  coeffs = np.polyfit(np.log(C), np.log(dists), 1)\n"
     ]
    },
    {
     "name": "stdout",
     "output_type": "stream",
     "text": [
      "222\n"
     ]
    },
    {
     "name": "stderr",
     "output_type": "stream",
     "text": [
      "C:\\Users\\juju-\\Desktop\\projetos\\mng\\notebooks\\..\\scripts\\MNGFeaturesFractal.py:48: RankWarning: Polyfit may be poorly conditioned\n",
      "  coeffs = np.polyfit(np.log(C), np.log(dists), 1)\n"
     ]
    },
    {
     "name": "stdout",
     "output_type": "stream",
     "text": [
      "223\n"
     ]
    },
    {
     "name": "stderr",
     "output_type": "stream",
     "text": [
      "C:\\Users\\juju-\\Desktop\\projetos\\mng\\notebooks\\..\\scripts\\MNGFeaturesFractal.py:48: RankWarning: Polyfit may be poorly conditioned\n",
      "  coeffs = np.polyfit(np.log(C), np.log(dists), 1)\n"
     ]
    },
    {
     "name": "stdout",
     "output_type": "stream",
     "text": [
      "224\n"
     ]
    },
    {
     "name": "stderr",
     "output_type": "stream",
     "text": [
      "C:\\Users\\juju-\\Desktop\\projetos\\mng\\notebooks\\..\\scripts\\MNGFeaturesFractal.py:48: RankWarning: Polyfit may be poorly conditioned\n",
      "  coeffs = np.polyfit(np.log(C), np.log(dists), 1)\n"
     ]
    },
    {
     "name": "stdout",
     "output_type": "stream",
     "text": [
      "225\n"
     ]
    },
    {
     "name": "stderr",
     "output_type": "stream",
     "text": [
      "C:\\Users\\juju-\\Desktop\\projetos\\mng\\notebooks\\..\\scripts\\MNGFeaturesFractal.py:48: RankWarning: Polyfit may be poorly conditioned\n",
      "  coeffs = np.polyfit(np.log(C), np.log(dists), 1)\n"
     ]
    },
    {
     "name": "stdout",
     "output_type": "stream",
     "text": [
      "226\n"
     ]
    },
    {
     "name": "stderr",
     "output_type": "stream",
     "text": [
      "C:\\Users\\juju-\\Desktop\\projetos\\mng\\notebooks\\..\\scripts\\MNGFeaturesFractal.py:48: RankWarning: Polyfit may be poorly conditioned\n",
      "  coeffs = np.polyfit(np.log(C), np.log(dists), 1)\n"
     ]
    },
    {
     "name": "stdout",
     "output_type": "stream",
     "text": [
      "227\n"
     ]
    },
    {
     "name": "stderr",
     "output_type": "stream",
     "text": [
      "C:\\Users\\juju-\\Desktop\\projetos\\mng\\notebooks\\..\\scripts\\MNGFeaturesFractal.py:48: RankWarning: Polyfit may be poorly conditioned\n",
      "  coeffs = np.polyfit(np.log(C), np.log(dists), 1)\n"
     ]
    },
    {
     "name": "stdout",
     "output_type": "stream",
     "text": [
      "228\n"
     ]
    },
    {
     "name": "stderr",
     "output_type": "stream",
     "text": [
      "C:\\Users\\juju-\\Desktop\\projetos\\mng\\notebooks\\..\\scripts\\MNGFeaturesFractal.py:48: RankWarning: Polyfit may be poorly conditioned\n",
      "  coeffs = np.polyfit(np.log(C), np.log(dists), 1)\n"
     ]
    },
    {
     "name": "stdout",
     "output_type": "stream",
     "text": [
      "229\n"
     ]
    },
    {
     "name": "stderr",
     "output_type": "stream",
     "text": [
      "C:\\Users\\juju-\\Desktop\\projetos\\mng\\notebooks\\..\\scripts\\MNGFeaturesFractal.py:48: RankWarning: Polyfit may be poorly conditioned\n",
      "  coeffs = np.polyfit(np.log(C), np.log(dists), 1)\n"
     ]
    },
    {
     "name": "stdout",
     "output_type": "stream",
     "text": [
      "230\n"
     ]
    },
    {
     "name": "stderr",
     "output_type": "stream",
     "text": [
      "C:\\Users\\juju-\\Desktop\\projetos\\mng\\notebooks\\..\\scripts\\MNGFeaturesFractal.py:48: RankWarning: Polyfit may be poorly conditioned\n",
      "  coeffs = np.polyfit(np.log(C), np.log(dists), 1)\n"
     ]
    },
    {
     "name": "stdout",
     "output_type": "stream",
     "text": [
      "231\n"
     ]
    },
    {
     "name": "stderr",
     "output_type": "stream",
     "text": [
      "C:\\Users\\juju-\\Desktop\\projetos\\mng\\notebooks\\..\\scripts\\MNGFeaturesFractal.py:48: RankWarning: Polyfit may be poorly conditioned\n",
      "  coeffs = np.polyfit(np.log(C), np.log(dists), 1)\n"
     ]
    },
    {
     "name": "stdout",
     "output_type": "stream",
     "text": [
      "232\n"
     ]
    },
    {
     "name": "stderr",
     "output_type": "stream",
     "text": [
      "C:\\Users\\juju-\\Desktop\\projetos\\mng\\notebooks\\..\\scripts\\MNGFeaturesFractal.py:48: RankWarning: Polyfit may be poorly conditioned\n",
      "  coeffs = np.polyfit(np.log(C), np.log(dists), 1)\n"
     ]
    },
    {
     "name": "stdout",
     "output_type": "stream",
     "text": [
      "233\n"
     ]
    },
    {
     "name": "stderr",
     "output_type": "stream",
     "text": [
      "C:\\Users\\juju-\\Desktop\\projetos\\mng\\notebooks\\..\\scripts\\MNGFeaturesFractal.py:48: RankWarning: Polyfit may be poorly conditioned\n",
      "  coeffs = np.polyfit(np.log(C), np.log(dists), 1)\n"
     ]
    },
    {
     "name": "stdout",
     "output_type": "stream",
     "text": [
      "234\n"
     ]
    },
    {
     "name": "stderr",
     "output_type": "stream",
     "text": [
      "C:\\Users\\juju-\\Desktop\\projetos\\mng\\notebooks\\..\\scripts\\MNGFeaturesFractal.py:48: RankWarning: Polyfit may be poorly conditioned\n",
      "  coeffs = np.polyfit(np.log(C), np.log(dists), 1)\n"
     ]
    },
    {
     "name": "stdout",
     "output_type": "stream",
     "text": [
      "235\n"
     ]
    },
    {
     "name": "stderr",
     "output_type": "stream",
     "text": [
      "C:\\Users\\juju-\\Desktop\\projetos\\mng\\notebooks\\..\\scripts\\MNGFeaturesFractal.py:48: RankWarning: Polyfit may be poorly conditioned\n",
      "  coeffs = np.polyfit(np.log(C), np.log(dists), 1)\n"
     ]
    },
    {
     "name": "stdout",
     "output_type": "stream",
     "text": [
      "236\n"
     ]
    },
    {
     "name": "stderr",
     "output_type": "stream",
     "text": [
      "C:\\Users\\juju-\\Desktop\\projetos\\mng\\notebooks\\..\\scripts\\MNGFeaturesFractal.py:48: RankWarning: Polyfit may be poorly conditioned\n",
      "  coeffs = np.polyfit(np.log(C), np.log(dists), 1)\n"
     ]
    },
    {
     "name": "stdout",
     "output_type": "stream",
     "text": [
      "237\n"
     ]
    },
    {
     "name": "stderr",
     "output_type": "stream",
     "text": [
      "C:\\Users\\juju-\\Desktop\\projetos\\mng\\notebooks\\..\\scripts\\MNGFeaturesFractal.py:48: RankWarning: Polyfit may be poorly conditioned\n",
      "  coeffs = np.polyfit(np.log(C), np.log(dists), 1)\n"
     ]
    },
    {
     "name": "stdout",
     "output_type": "stream",
     "text": [
      "238\n"
     ]
    },
    {
     "name": "stderr",
     "output_type": "stream",
     "text": [
      "C:\\Users\\juju-\\Desktop\\projetos\\mng\\notebooks\\..\\scripts\\MNGFeaturesFractal.py:48: RankWarning: Polyfit may be poorly conditioned\n",
      "  coeffs = np.polyfit(np.log(C), np.log(dists), 1)\n"
     ]
    },
    {
     "name": "stdout",
     "output_type": "stream",
     "text": [
      "239\n"
     ]
    },
    {
     "name": "stderr",
     "output_type": "stream",
     "text": [
      "C:\\Users\\juju-\\Desktop\\projetos\\mng\\notebooks\\..\\scripts\\MNGFeaturesFractal.py:48: RankWarning: Polyfit may be poorly conditioned\n",
      "  coeffs = np.polyfit(np.log(C), np.log(dists), 1)\n"
     ]
    },
    {
     "name": "stdout",
     "output_type": "stream",
     "text": [
      "240\n"
     ]
    },
    {
     "name": "stderr",
     "output_type": "stream",
     "text": [
      "C:\\Users\\juju-\\Desktop\\projetos\\mng\\notebooks\\..\\scripts\\MNGFeaturesFractal.py:48: RankWarning: Polyfit may be poorly conditioned\n",
      "  coeffs = np.polyfit(np.log(C), np.log(dists), 1)\n"
     ]
    },
    {
     "name": "stdout",
     "output_type": "stream",
     "text": [
      "241\n"
     ]
    },
    {
     "name": "stderr",
     "output_type": "stream",
     "text": [
      "C:\\Users\\juju-\\Desktop\\projetos\\mng\\notebooks\\..\\scripts\\MNGFeaturesFractal.py:48: RankWarning: Polyfit may be poorly conditioned\n",
      "  coeffs = np.polyfit(np.log(C), np.log(dists), 1)\n"
     ]
    },
    {
     "name": "stdout",
     "output_type": "stream",
     "text": [
      "242\n"
     ]
    },
    {
     "name": "stderr",
     "output_type": "stream",
     "text": [
      "C:\\Users\\juju-\\Desktop\\projetos\\mng\\notebooks\\..\\scripts\\MNGFeaturesFractal.py:48: RankWarning: Polyfit may be poorly conditioned\n",
      "  coeffs = np.polyfit(np.log(C), np.log(dists), 1)\n"
     ]
    },
    {
     "name": "stdout",
     "output_type": "stream",
     "text": [
      "243\n"
     ]
    },
    {
     "name": "stderr",
     "output_type": "stream",
     "text": [
      "C:\\Users\\juju-\\Desktop\\projetos\\mng\\notebooks\\..\\scripts\\MNGFeaturesFractal.py:48: RankWarning: Polyfit may be poorly conditioned\n",
      "  coeffs = np.polyfit(np.log(C), np.log(dists), 1)\n"
     ]
    },
    {
     "name": "stdout",
     "output_type": "stream",
     "text": [
      "244\n"
     ]
    },
    {
     "name": "stderr",
     "output_type": "stream",
     "text": [
      "C:\\Users\\juju-\\Desktop\\projetos\\mng\\notebooks\\..\\scripts\\MNGFeaturesFractal.py:48: RankWarning: Polyfit may be poorly conditioned\n",
      "  coeffs = np.polyfit(np.log(C), np.log(dists), 1)\n"
     ]
    },
    {
     "name": "stdout",
     "output_type": "stream",
     "text": [
      "245\n"
     ]
    },
    {
     "name": "stderr",
     "output_type": "stream",
     "text": [
      "C:\\Users\\juju-\\Desktop\\projetos\\mng\\notebooks\\..\\scripts\\MNGFeaturesFractal.py:48: RankWarning: Polyfit may be poorly conditioned\n",
      "  coeffs = np.polyfit(np.log(C), np.log(dists), 1)\n"
     ]
    },
    {
     "name": "stdout",
     "output_type": "stream",
     "text": [
      "246\n"
     ]
    },
    {
     "name": "stderr",
     "output_type": "stream",
     "text": [
      "C:\\Users\\juju-\\Desktop\\projetos\\mng\\notebooks\\..\\scripts\\MNGFeaturesFractal.py:48: RankWarning: Polyfit may be poorly conditioned\n",
      "  coeffs = np.polyfit(np.log(C), np.log(dists), 1)\n"
     ]
    },
    {
     "name": "stdout",
     "output_type": "stream",
     "text": [
      "247\n"
     ]
    },
    {
     "name": "stderr",
     "output_type": "stream",
     "text": [
      "C:\\Users\\juju-\\Desktop\\projetos\\mng\\notebooks\\..\\scripts\\MNGFeaturesFractal.py:48: RankWarning: Polyfit may be poorly conditioned\n",
      "  coeffs = np.polyfit(np.log(C), np.log(dists), 1)\n"
     ]
    },
    {
     "name": "stdout",
     "output_type": "stream",
     "text": [
      "248\n"
     ]
    },
    {
     "name": "stderr",
     "output_type": "stream",
     "text": [
      "C:\\Users\\juju-\\Desktop\\projetos\\mng\\notebooks\\..\\scripts\\MNGFeaturesFractal.py:48: RankWarning: Polyfit may be poorly conditioned\n",
      "  coeffs = np.polyfit(np.log(C), np.log(dists), 1)\n"
     ]
    },
    {
     "name": "stdout",
     "output_type": "stream",
     "text": [
      "249\n"
     ]
    },
    {
     "name": "stderr",
     "output_type": "stream",
     "text": [
      "C:\\Users\\juju-\\Desktop\\projetos\\mng\\notebooks\\..\\scripts\\MNGFeaturesFractal.py:48: RankWarning: Polyfit may be poorly conditioned\n",
      "  coeffs = np.polyfit(np.log(C), np.log(dists), 1)\n"
     ]
    },
    {
     "name": "stdout",
     "output_type": "stream",
     "text": [
      "250\n"
     ]
    },
    {
     "name": "stderr",
     "output_type": "stream",
     "text": [
      "C:\\Users\\juju-\\Desktop\\projetos\\mng\\notebooks\\..\\scripts\\MNGFeaturesFractal.py:48: RankWarning: Polyfit may be poorly conditioned\n",
      "  coeffs = np.polyfit(np.log(C), np.log(dists), 1)\n"
     ]
    },
    {
     "name": "stdout",
     "output_type": "stream",
     "text": [
      "251\n"
     ]
    },
    {
     "name": "stderr",
     "output_type": "stream",
     "text": [
      "C:\\Users\\juju-\\Desktop\\projetos\\mng\\notebooks\\..\\scripts\\MNGFeaturesFractal.py:48: RankWarning: Polyfit may be poorly conditioned\n",
      "  coeffs = np.polyfit(np.log(C), np.log(dists), 1)\n"
     ]
    },
    {
     "name": "stdout",
     "output_type": "stream",
     "text": [
      "252\n"
     ]
    },
    {
     "name": "stderr",
     "output_type": "stream",
     "text": [
      "C:\\Users\\juju-\\Desktop\\projetos\\mng\\notebooks\\..\\scripts\\MNGFeaturesFractal.py:48: RankWarning: Polyfit may be poorly conditioned\n",
      "  coeffs = np.polyfit(np.log(C), np.log(dists), 1)\n"
     ]
    },
    {
     "name": "stdout",
     "output_type": "stream",
     "text": [
      "253\n"
     ]
    },
    {
     "name": "stderr",
     "output_type": "stream",
     "text": [
      "C:\\Users\\juju-\\Desktop\\projetos\\mng\\notebooks\\..\\scripts\\MNGFeaturesFractal.py:48: RankWarning: Polyfit may be poorly conditioned\n",
      "  coeffs = np.polyfit(np.log(C), np.log(dists), 1)\n"
     ]
    },
    {
     "name": "stdout",
     "output_type": "stream",
     "text": [
      "254\n"
     ]
    },
    {
     "name": "stderr",
     "output_type": "stream",
     "text": [
      "C:\\Users\\juju-\\Desktop\\projetos\\mng\\notebooks\\..\\scripts\\MNGFeaturesFractal.py:48: RankWarning: Polyfit may be poorly conditioned\n",
      "  coeffs = np.polyfit(np.log(C), np.log(dists), 1)\n"
     ]
    },
    {
     "name": "stdout",
     "output_type": "stream",
     "text": [
      "255\n"
     ]
    },
    {
     "name": "stderr",
     "output_type": "stream",
     "text": [
      "C:\\Users\\juju-\\Desktop\\projetos\\mng\\notebooks\\..\\scripts\\MNGFeaturesFractal.py:48: RankWarning: Polyfit may be poorly conditioned\n",
      "  coeffs = np.polyfit(np.log(C), np.log(dists), 1)\n"
     ]
    },
    {
     "name": "stdout",
     "output_type": "stream",
     "text": [
      "256\n"
     ]
    },
    {
     "name": "stderr",
     "output_type": "stream",
     "text": [
      "C:\\Users\\juju-\\Desktop\\projetos\\mng\\notebooks\\..\\scripts\\MNGFeaturesFractal.py:48: RankWarning: Polyfit may be poorly conditioned\n",
      "  coeffs = np.polyfit(np.log(C), np.log(dists), 1)\n"
     ]
    },
    {
     "name": "stdout",
     "output_type": "stream",
     "text": [
      "257\n"
     ]
    },
    {
     "name": "stderr",
     "output_type": "stream",
     "text": [
      "C:\\Users\\juju-\\Desktop\\projetos\\mng\\notebooks\\..\\scripts\\MNGFeaturesFractal.py:48: RankWarning: Polyfit may be poorly conditioned\n",
      "  coeffs = np.polyfit(np.log(C), np.log(dists), 1)\n"
     ]
    },
    {
     "name": "stdout",
     "output_type": "stream",
     "text": [
      "258\n"
     ]
    },
    {
     "name": "stderr",
     "output_type": "stream",
     "text": [
      "C:\\Users\\juju-\\Desktop\\projetos\\mng\\notebooks\\..\\scripts\\MNGFeaturesFractal.py:48: RankWarning: Polyfit may be poorly conditioned\n",
      "  coeffs = np.polyfit(np.log(C), np.log(dists), 1)\n"
     ]
    },
    {
     "name": "stdout",
     "output_type": "stream",
     "text": [
      "259\n"
     ]
    },
    {
     "name": "stderr",
     "output_type": "stream",
     "text": [
      "C:\\Users\\juju-\\Desktop\\projetos\\mng\\notebooks\\..\\scripts\\MNGFeaturesFractal.py:48: RankWarning: Polyfit may be poorly conditioned\n",
      "  coeffs = np.polyfit(np.log(C), np.log(dists), 1)\n"
     ]
    },
    {
     "name": "stdout",
     "output_type": "stream",
     "text": [
      "260\n"
     ]
    },
    {
     "name": "stderr",
     "output_type": "stream",
     "text": [
      "C:\\Users\\juju-\\Desktop\\projetos\\mng\\notebooks\\..\\scripts\\MNGFeaturesFractal.py:48: RankWarning: Polyfit may be poorly conditioned\n",
      "  coeffs = np.polyfit(np.log(C), np.log(dists), 1)\n"
     ]
    },
    {
     "name": "stdout",
     "output_type": "stream",
     "text": [
      "261\n"
     ]
    },
    {
     "name": "stderr",
     "output_type": "stream",
     "text": [
      "C:\\Users\\juju-\\Desktop\\projetos\\mng\\notebooks\\..\\scripts\\MNGFeaturesFractal.py:48: RankWarning: Polyfit may be poorly conditioned\n",
      "  coeffs = np.polyfit(np.log(C), np.log(dists), 1)\n"
     ]
    },
    {
     "name": "stdout",
     "output_type": "stream",
     "text": [
      "262\n"
     ]
    },
    {
     "name": "stderr",
     "output_type": "stream",
     "text": [
      "C:\\Users\\juju-\\Desktop\\projetos\\mng\\notebooks\\..\\scripts\\MNGFeaturesFractal.py:48: RankWarning: Polyfit may be poorly conditioned\n",
      "  coeffs = np.polyfit(np.log(C), np.log(dists), 1)\n"
     ]
    },
    {
     "name": "stdout",
     "output_type": "stream",
     "text": [
      "263\n"
     ]
    },
    {
     "name": "stderr",
     "output_type": "stream",
     "text": [
      "C:\\Users\\juju-\\Desktop\\projetos\\mng\\notebooks\\..\\scripts\\MNGFeaturesFractal.py:48: RankWarning: Polyfit may be poorly conditioned\n",
      "  coeffs = np.polyfit(np.log(C), np.log(dists), 1)\n"
     ]
    },
    {
     "name": "stdout",
     "output_type": "stream",
     "text": [
      "264\n"
     ]
    },
    {
     "name": "stderr",
     "output_type": "stream",
     "text": [
      "C:\\Users\\juju-\\Desktop\\projetos\\mng\\notebooks\\..\\scripts\\MNGFeaturesFractal.py:48: RankWarning: Polyfit may be poorly conditioned\n",
      "  coeffs = np.polyfit(np.log(C), np.log(dists), 1)\n"
     ]
    },
    {
     "name": "stdout",
     "output_type": "stream",
     "text": [
      "265\n"
     ]
    },
    {
     "name": "stderr",
     "output_type": "stream",
     "text": [
      "C:\\Users\\juju-\\Desktop\\projetos\\mng\\notebooks\\..\\scripts\\MNGFeaturesFractal.py:48: RankWarning: Polyfit may be poorly conditioned\n",
      "  coeffs = np.polyfit(np.log(C), np.log(dists), 1)\n"
     ]
    },
    {
     "name": "stdout",
     "output_type": "stream",
     "text": [
      "266\n"
     ]
    },
    {
     "name": "stderr",
     "output_type": "stream",
     "text": [
      "C:\\Users\\juju-\\Desktop\\projetos\\mng\\notebooks\\..\\scripts\\MNGFeaturesFractal.py:48: RankWarning: Polyfit may be poorly conditioned\n",
      "  coeffs = np.polyfit(np.log(C), np.log(dists), 1)\n"
     ]
    },
    {
     "name": "stdout",
     "output_type": "stream",
     "text": [
      "267\n"
     ]
    },
    {
     "name": "stderr",
     "output_type": "stream",
     "text": [
      "C:\\Users\\juju-\\Desktop\\projetos\\mng\\notebooks\\..\\scripts\\MNGFeaturesFractal.py:48: RankWarning: Polyfit may be poorly conditioned\n",
      "  coeffs = np.polyfit(np.log(C), np.log(dists), 1)\n"
     ]
    },
    {
     "name": "stdout",
     "output_type": "stream",
     "text": [
      "268\n"
     ]
    },
    {
     "name": "stderr",
     "output_type": "stream",
     "text": [
      "C:\\Users\\juju-\\Desktop\\projetos\\mng\\notebooks\\..\\scripts\\MNGFeaturesFractal.py:48: RankWarning: Polyfit may be poorly conditioned\n",
      "  coeffs = np.polyfit(np.log(C), np.log(dists), 1)\n"
     ]
    },
    {
     "name": "stdout",
     "output_type": "stream",
     "text": [
      "269\n"
     ]
    },
    {
     "name": "stderr",
     "output_type": "stream",
     "text": [
      "C:\\Users\\juju-\\Desktop\\projetos\\mng\\notebooks\\..\\scripts\\MNGFeaturesFractal.py:48: RankWarning: Polyfit may be poorly conditioned\n",
      "  coeffs = np.polyfit(np.log(C), np.log(dists), 1)\n"
     ]
    },
    {
     "name": "stdout",
     "output_type": "stream",
     "text": [
      "270\n"
     ]
    },
    {
     "name": "stderr",
     "output_type": "stream",
     "text": [
      "C:\\Users\\juju-\\Desktop\\projetos\\mng\\notebooks\\..\\scripts\\MNGFeaturesFractal.py:48: RankWarning: Polyfit may be poorly conditioned\n",
      "  coeffs = np.polyfit(np.log(C), np.log(dists), 1)\n"
     ]
    },
    {
     "name": "stdout",
     "output_type": "stream",
     "text": [
      "271\n"
     ]
    },
    {
     "name": "stderr",
     "output_type": "stream",
     "text": [
      "C:\\Users\\juju-\\Desktop\\projetos\\mng\\notebooks\\..\\scripts\\MNGFeaturesFractal.py:48: RankWarning: Polyfit may be poorly conditioned\n",
      "  coeffs = np.polyfit(np.log(C), np.log(dists), 1)\n"
     ]
    },
    {
     "name": "stdout",
     "output_type": "stream",
     "text": [
      "272\n"
     ]
    },
    {
     "name": "stderr",
     "output_type": "stream",
     "text": [
      "C:\\Users\\juju-\\Desktop\\projetos\\mng\\notebooks\\..\\scripts\\MNGFeaturesFractal.py:48: RankWarning: Polyfit may be poorly conditioned\n",
      "  coeffs = np.polyfit(np.log(C), np.log(dists), 1)\n"
     ]
    },
    {
     "name": "stdout",
     "output_type": "stream",
     "text": [
      "273\n"
     ]
    },
    {
     "name": "stderr",
     "output_type": "stream",
     "text": [
      "C:\\Users\\juju-\\Desktop\\projetos\\mng\\notebooks\\..\\scripts\\MNGFeaturesFractal.py:48: RankWarning: Polyfit may be poorly conditioned\n",
      "  coeffs = np.polyfit(np.log(C), np.log(dists), 1)\n"
     ]
    },
    {
     "name": "stdout",
     "output_type": "stream",
     "text": [
      "274\n"
     ]
    },
    {
     "name": "stderr",
     "output_type": "stream",
     "text": [
      "C:\\Users\\juju-\\Desktop\\projetos\\mng\\notebooks\\..\\scripts\\MNGFeaturesFractal.py:48: RankWarning: Polyfit may be poorly conditioned\n",
      "  coeffs = np.polyfit(np.log(C), np.log(dists), 1)\n"
     ]
    },
    {
     "name": "stdout",
     "output_type": "stream",
     "text": [
      "275\n"
     ]
    },
    {
     "name": "stderr",
     "output_type": "stream",
     "text": [
      "C:\\Users\\juju-\\Desktop\\projetos\\mng\\notebooks\\..\\scripts\\MNGFeaturesFractal.py:48: RankWarning: Polyfit may be poorly conditioned\n",
      "  coeffs = np.polyfit(np.log(C), np.log(dists), 1)\n"
     ]
    },
    {
     "name": "stdout",
     "output_type": "stream",
     "text": [
      "276\n"
     ]
    },
    {
     "name": "stderr",
     "output_type": "stream",
     "text": [
      "C:\\Users\\juju-\\Desktop\\projetos\\mng\\notebooks\\..\\scripts\\MNGFeaturesFractal.py:48: RankWarning: Polyfit may be poorly conditioned\n",
      "  coeffs = np.polyfit(np.log(C), np.log(dists), 1)\n"
     ]
    },
    {
     "name": "stdout",
     "output_type": "stream",
     "text": [
      "277\n"
     ]
    },
    {
     "name": "stderr",
     "output_type": "stream",
     "text": [
      "C:\\Users\\juju-\\Desktop\\projetos\\mng\\notebooks\\..\\scripts\\MNGFeaturesFractal.py:48: RankWarning: Polyfit may be poorly conditioned\n",
      "  coeffs = np.polyfit(np.log(C), np.log(dists), 1)\n"
     ]
    },
    {
     "name": "stdout",
     "output_type": "stream",
     "text": [
      "278\n"
     ]
    },
    {
     "name": "stderr",
     "output_type": "stream",
     "text": [
      "C:\\Users\\juju-\\Desktop\\projetos\\mng\\notebooks\\..\\scripts\\MNGFeaturesFractal.py:48: RankWarning: Polyfit may be poorly conditioned\n",
      "  coeffs = np.polyfit(np.log(C), np.log(dists), 1)\n"
     ]
    },
    {
     "name": "stdout",
     "output_type": "stream",
     "text": [
      "279\n"
     ]
    },
    {
     "name": "stderr",
     "output_type": "stream",
     "text": [
      "C:\\Users\\juju-\\Desktop\\projetos\\mng\\notebooks\\..\\scripts\\MNGFeaturesFractal.py:48: RankWarning: Polyfit may be poorly conditioned\n",
      "  coeffs = np.polyfit(np.log(C), np.log(dists), 1)\n"
     ]
    },
    {
     "name": "stdout",
     "output_type": "stream",
     "text": [
      "280\n"
     ]
    },
    {
     "name": "stderr",
     "output_type": "stream",
     "text": [
      "C:\\Users\\juju-\\Desktop\\projetos\\mng\\notebooks\\..\\scripts\\MNGFeaturesFractal.py:48: RankWarning: Polyfit may be poorly conditioned\n",
      "  coeffs = np.polyfit(np.log(C), np.log(dists), 1)\n"
     ]
    },
    {
     "name": "stdout",
     "output_type": "stream",
     "text": [
      "281\n"
     ]
    },
    {
     "name": "stderr",
     "output_type": "stream",
     "text": [
      "C:\\Users\\juju-\\Desktop\\projetos\\mng\\notebooks\\..\\scripts\\MNGFeaturesFractal.py:48: RankWarning: Polyfit may be poorly conditioned\n",
      "  coeffs = np.polyfit(np.log(C), np.log(dists), 1)\n"
     ]
    },
    {
     "name": "stdout",
     "output_type": "stream",
     "text": [
      "282\n"
     ]
    },
    {
     "name": "stderr",
     "output_type": "stream",
     "text": [
      "C:\\Users\\juju-\\Desktop\\projetos\\mng\\notebooks\\..\\scripts\\MNGFeaturesFractal.py:48: RankWarning: Polyfit may be poorly conditioned\n",
      "  coeffs = np.polyfit(np.log(C), np.log(dists), 1)\n"
     ]
    },
    {
     "name": "stdout",
     "output_type": "stream",
     "text": [
      "283\n"
     ]
    },
    {
     "name": "stderr",
     "output_type": "stream",
     "text": [
      "C:\\Users\\juju-\\Desktop\\projetos\\mng\\notebooks\\..\\scripts\\MNGFeaturesFractal.py:48: RankWarning: Polyfit may be poorly conditioned\n",
      "  coeffs = np.polyfit(np.log(C), np.log(dists), 1)\n"
     ]
    },
    {
     "name": "stdout",
     "output_type": "stream",
     "text": [
      "284\n"
     ]
    },
    {
     "name": "stderr",
     "output_type": "stream",
     "text": [
      "C:\\Users\\juju-\\Desktop\\projetos\\mng\\notebooks\\..\\scripts\\MNGFeaturesFractal.py:48: RankWarning: Polyfit may be poorly conditioned\n",
      "  coeffs = np.polyfit(np.log(C), np.log(dists), 1)\n"
     ]
    },
    {
     "name": "stdout",
     "output_type": "stream",
     "text": [
      "285\n"
     ]
    },
    {
     "name": "stderr",
     "output_type": "stream",
     "text": [
      "C:\\Users\\juju-\\Desktop\\projetos\\mng\\notebooks\\..\\scripts\\MNGFeaturesFractal.py:48: RankWarning: Polyfit may be poorly conditioned\n",
      "  coeffs = np.polyfit(np.log(C), np.log(dists), 1)\n"
     ]
    },
    {
     "name": "stdout",
     "output_type": "stream",
     "text": [
      "286\n"
     ]
    },
    {
     "name": "stderr",
     "output_type": "stream",
     "text": [
      "C:\\Users\\juju-\\Desktop\\projetos\\mng\\notebooks\\..\\scripts\\MNGFeaturesFractal.py:48: RankWarning: Polyfit may be poorly conditioned\n",
      "  coeffs = np.polyfit(np.log(C), np.log(dists), 1)\n"
     ]
    },
    {
     "name": "stdout",
     "output_type": "stream",
     "text": [
      "287\n"
     ]
    },
    {
     "name": "stderr",
     "output_type": "stream",
     "text": [
      "C:\\Users\\juju-\\Desktop\\projetos\\mng\\notebooks\\..\\scripts\\MNGFeaturesFractal.py:48: RankWarning: Polyfit may be poorly conditioned\n",
      "  coeffs = np.polyfit(np.log(C), np.log(dists), 1)\n"
     ]
    },
    {
     "name": "stdout",
     "output_type": "stream",
     "text": [
      "288\n"
     ]
    },
    {
     "name": "stderr",
     "output_type": "stream",
     "text": [
      "C:\\Users\\juju-\\Desktop\\projetos\\mng\\notebooks\\..\\scripts\\MNGFeaturesFractal.py:48: RankWarning: Polyfit may be poorly conditioned\n",
      "  coeffs = np.polyfit(np.log(C), np.log(dists), 1)\n"
     ]
    },
    {
     "name": "stdout",
     "output_type": "stream",
     "text": [
      "289\n"
     ]
    },
    {
     "name": "stderr",
     "output_type": "stream",
     "text": [
      "C:\\Users\\juju-\\Desktop\\projetos\\mng\\notebooks\\..\\scripts\\MNGFeaturesFractal.py:48: RankWarning: Polyfit may be poorly conditioned\n",
      "  coeffs = np.polyfit(np.log(C), np.log(dists), 1)\n"
     ]
    },
    {
     "name": "stdout",
     "output_type": "stream",
     "text": [
      "290\n"
     ]
    },
    {
     "name": "stderr",
     "output_type": "stream",
     "text": [
      "C:\\Users\\juju-\\Desktop\\projetos\\mng\\notebooks\\..\\scripts\\MNGFeaturesFractal.py:48: RankWarning: Polyfit may be poorly conditioned\n",
      "  coeffs = np.polyfit(np.log(C), np.log(dists), 1)\n"
     ]
    },
    {
     "name": "stdout",
     "output_type": "stream",
     "text": [
      "291\n"
     ]
    },
    {
     "name": "stderr",
     "output_type": "stream",
     "text": [
      "C:\\Users\\juju-\\Desktop\\projetos\\mng\\notebooks\\..\\scripts\\MNGFeaturesFractal.py:48: RankWarning: Polyfit may be poorly conditioned\n",
      "  coeffs = np.polyfit(np.log(C), np.log(dists), 1)\n"
     ]
    },
    {
     "name": "stdout",
     "output_type": "stream",
     "text": [
      "292\n"
     ]
    },
    {
     "name": "stderr",
     "output_type": "stream",
     "text": [
      "C:\\Users\\juju-\\Desktop\\projetos\\mng\\notebooks\\..\\scripts\\MNGFeaturesFractal.py:48: RankWarning: Polyfit may be poorly conditioned\n",
      "  coeffs = np.polyfit(np.log(C), np.log(dists), 1)\n"
     ]
    },
    {
     "name": "stdout",
     "output_type": "stream",
     "text": [
      "293\n"
     ]
    },
    {
     "name": "stderr",
     "output_type": "stream",
     "text": [
      "C:\\Users\\juju-\\Desktop\\projetos\\mng\\notebooks\\..\\scripts\\MNGFeaturesFractal.py:48: RankWarning: Polyfit may be poorly conditioned\n",
      "  coeffs = np.polyfit(np.log(C), np.log(dists), 1)\n"
     ]
    },
    {
     "name": "stdout",
     "output_type": "stream",
     "text": [
      "294\n"
     ]
    },
    {
     "name": "stderr",
     "output_type": "stream",
     "text": [
      "C:\\Users\\juju-\\Desktop\\projetos\\mng\\notebooks\\..\\scripts\\MNGFeaturesFractal.py:48: RankWarning: Polyfit may be poorly conditioned\n",
      "  coeffs = np.polyfit(np.log(C), np.log(dists), 1)\n"
     ]
    },
    {
     "name": "stdout",
     "output_type": "stream",
     "text": [
      "295\n"
     ]
    },
    {
     "name": "stderr",
     "output_type": "stream",
     "text": [
      "C:\\Users\\juju-\\Desktop\\projetos\\mng\\notebooks\\..\\scripts\\MNGFeaturesFractal.py:48: RankWarning: Polyfit may be poorly conditioned\n",
      "  coeffs = np.polyfit(np.log(C), np.log(dists), 1)\n"
     ]
    },
    {
     "name": "stdout",
     "output_type": "stream",
     "text": [
      "296\n"
     ]
    },
    {
     "name": "stderr",
     "output_type": "stream",
     "text": [
      "C:\\Users\\juju-\\Desktop\\projetos\\mng\\notebooks\\..\\scripts\\MNGFeaturesFractal.py:48: RankWarning: Polyfit may be poorly conditioned\n",
      "  coeffs = np.polyfit(np.log(C), np.log(dists), 1)\n"
     ]
    },
    {
     "name": "stdout",
     "output_type": "stream",
     "text": [
      "297\n"
     ]
    },
    {
     "name": "stderr",
     "output_type": "stream",
     "text": [
      "C:\\Users\\juju-\\Desktop\\projetos\\mng\\notebooks\\..\\scripts\\MNGFeaturesFractal.py:48: RankWarning: Polyfit may be poorly conditioned\n",
      "  coeffs = np.polyfit(np.log(C), np.log(dists), 1)\n"
     ]
    },
    {
     "name": "stdout",
     "output_type": "stream",
     "text": [
      "298\n"
     ]
    },
    {
     "name": "stderr",
     "output_type": "stream",
     "text": [
      "C:\\Users\\juju-\\Desktop\\projetos\\mng\\notebooks\\..\\scripts\\MNGFeaturesFractal.py:48: RankWarning: Polyfit may be poorly conditioned\n",
      "  coeffs = np.polyfit(np.log(C), np.log(dists), 1)\n"
     ]
    },
    {
     "name": "stdout",
     "output_type": "stream",
     "text": [
      "299\n"
     ]
    },
    {
     "name": "stderr",
     "output_type": "stream",
     "text": [
      "C:\\Users\\juju-\\Desktop\\projetos\\mng\\notebooks\\..\\scripts\\MNGFeaturesFractal.py:48: RankWarning: Polyfit may be poorly conditioned\n",
      "  coeffs = np.polyfit(np.log(C), np.log(dists), 1)\n"
     ]
    },
    {
     "name": "stdout",
     "output_type": "stream",
     "text": [
      "300\n"
     ]
    },
    {
     "name": "stderr",
     "output_type": "stream",
     "text": [
      "C:\\Users\\juju-\\Desktop\\projetos\\mng\\notebooks\\..\\scripts\\MNGFeaturesFractal.py:48: RankWarning: Polyfit may be poorly conditioned\n",
      "  coeffs = np.polyfit(np.log(C), np.log(dists), 1)\n"
     ]
    },
    {
     "name": "stdout",
     "output_type": "stream",
     "text": [
      "301\n"
     ]
    },
    {
     "name": "stderr",
     "output_type": "stream",
     "text": [
      "C:\\Users\\juju-\\Desktop\\projetos\\mng\\notebooks\\..\\scripts\\MNGFeaturesFractal.py:48: RankWarning: Polyfit may be poorly conditioned\n",
      "  coeffs = np.polyfit(np.log(C), np.log(dists), 1)\n"
     ]
    },
    {
     "name": "stdout",
     "output_type": "stream",
     "text": [
      "302\n"
     ]
    },
    {
     "name": "stderr",
     "output_type": "stream",
     "text": [
      "C:\\Users\\juju-\\Desktop\\projetos\\mng\\notebooks\\..\\scripts\\MNGFeaturesFractal.py:48: RankWarning: Polyfit may be poorly conditioned\n",
      "  coeffs = np.polyfit(np.log(C), np.log(dists), 1)\n"
     ]
    },
    {
     "name": "stdout",
     "output_type": "stream",
     "text": [
      "303\n"
     ]
    },
    {
     "name": "stderr",
     "output_type": "stream",
     "text": [
      "C:\\Users\\juju-\\Desktop\\projetos\\mng\\notebooks\\..\\scripts\\MNGFeaturesFractal.py:48: RankWarning: Polyfit may be poorly conditioned\n",
      "  coeffs = np.polyfit(np.log(C), np.log(dists), 1)\n"
     ]
    },
    {
     "name": "stdout",
     "output_type": "stream",
     "text": [
      "304\n"
     ]
    },
    {
     "name": "stderr",
     "output_type": "stream",
     "text": [
      "C:\\Users\\juju-\\Desktop\\projetos\\mng\\notebooks\\..\\scripts\\MNGFeaturesFractal.py:48: RankWarning: Polyfit may be poorly conditioned\n",
      "  coeffs = np.polyfit(np.log(C), np.log(dists), 1)\n"
     ]
    },
    {
     "name": "stdout",
     "output_type": "stream",
     "text": [
      "305\n"
     ]
    },
    {
     "name": "stderr",
     "output_type": "stream",
     "text": [
      "C:\\Users\\juju-\\Desktop\\projetos\\mng\\notebooks\\..\\scripts\\MNGFeaturesFractal.py:48: RankWarning: Polyfit may be poorly conditioned\n",
      "  coeffs = np.polyfit(np.log(C), np.log(dists), 1)\n"
     ]
    },
    {
     "name": "stdout",
     "output_type": "stream",
     "text": [
      "306\n"
     ]
    },
    {
     "name": "stderr",
     "output_type": "stream",
     "text": [
      "C:\\Users\\juju-\\Desktop\\projetos\\mng\\notebooks\\..\\scripts\\MNGFeaturesFractal.py:48: RankWarning: Polyfit may be poorly conditioned\n",
      "  coeffs = np.polyfit(np.log(C), np.log(dists), 1)\n"
     ]
    },
    {
     "name": "stdout",
     "output_type": "stream",
     "text": [
      "307\n"
     ]
    },
    {
     "name": "stderr",
     "output_type": "stream",
     "text": [
      "C:\\Users\\juju-\\Desktop\\projetos\\mng\\notebooks\\..\\scripts\\MNGFeaturesFractal.py:48: RankWarning: Polyfit may be poorly conditioned\n",
      "  coeffs = np.polyfit(np.log(C), np.log(dists), 1)\n"
     ]
    },
    {
     "name": "stdout",
     "output_type": "stream",
     "text": [
      "308\n"
     ]
    },
    {
     "name": "stderr",
     "output_type": "stream",
     "text": [
      "C:\\Users\\juju-\\Desktop\\projetos\\mng\\notebooks\\..\\scripts\\MNGFeaturesFractal.py:48: RankWarning: Polyfit may be poorly conditioned\n",
      "  coeffs = np.polyfit(np.log(C), np.log(dists), 1)\n"
     ]
    },
    {
     "name": "stdout",
     "output_type": "stream",
     "text": [
      "309\n"
     ]
    },
    {
     "name": "stderr",
     "output_type": "stream",
     "text": [
      "C:\\Users\\juju-\\Desktop\\projetos\\mng\\notebooks\\..\\scripts\\MNGFeaturesFractal.py:48: RankWarning: Polyfit may be poorly conditioned\n",
      "  coeffs = np.polyfit(np.log(C), np.log(dists), 1)\n"
     ]
    },
    {
     "name": "stdout",
     "output_type": "stream",
     "text": [
      "310\n"
     ]
    },
    {
     "name": "stderr",
     "output_type": "stream",
     "text": [
      "C:\\Users\\juju-\\Desktop\\projetos\\mng\\notebooks\\..\\scripts\\MNGFeaturesFractal.py:48: RankWarning: Polyfit may be poorly conditioned\n",
      "  coeffs = np.polyfit(np.log(C), np.log(dists), 1)\n"
     ]
    },
    {
     "name": "stdout",
     "output_type": "stream",
     "text": [
      "311\n"
     ]
    },
    {
     "name": "stderr",
     "output_type": "stream",
     "text": [
      "C:\\Users\\juju-\\Desktop\\projetos\\mng\\notebooks\\..\\scripts\\MNGFeaturesFractal.py:48: RankWarning: Polyfit may be poorly conditioned\n",
      "  coeffs = np.polyfit(np.log(C), np.log(dists), 1)\n"
     ]
    },
    {
     "name": "stdout",
     "output_type": "stream",
     "text": [
      "312\n"
     ]
    },
    {
     "name": "stderr",
     "output_type": "stream",
     "text": [
      "C:\\Users\\juju-\\Desktop\\projetos\\mng\\notebooks\\..\\scripts\\MNGFeaturesFractal.py:48: RankWarning: Polyfit may be poorly conditioned\n",
      "  coeffs = np.polyfit(np.log(C), np.log(dists), 1)\n"
     ]
    },
    {
     "name": "stdout",
     "output_type": "stream",
     "text": [
      "313\n",
      "314\n"
     ]
    },
    {
     "name": "stderr",
     "output_type": "stream",
     "text": [
      "C:\\Users\\juju-\\Desktop\\projetos\\mng\\notebooks\\..\\scripts\\MNGFeaturesFractal.py:48: RankWarning: Polyfit may be poorly conditioned\n",
      "  coeffs = np.polyfit(np.log(C), np.log(dists), 1)\n",
      "C:\\Users\\juju-\\Desktop\\projetos\\mng\\notebooks\\..\\scripts\\MNGFeaturesFractal.py:48: RankWarning: Polyfit may be poorly conditioned\n",
      "  coeffs = np.polyfit(np.log(C), np.log(dists), 1)\n"
     ]
    },
    {
     "name": "stdout",
     "output_type": "stream",
     "text": [
      "315\n"
     ]
    },
    {
     "name": "stderr",
     "output_type": "stream",
     "text": [
      "C:\\Users\\juju-\\Desktop\\projetos\\mng\\notebooks\\..\\scripts\\MNGFeaturesFractal.py:48: RankWarning: Polyfit may be poorly conditioned\n",
      "  coeffs = np.polyfit(np.log(C), np.log(dists), 1)\n"
     ]
    },
    {
     "name": "stdout",
     "output_type": "stream",
     "text": [
      "316\n"
     ]
    },
    {
     "name": "stderr",
     "output_type": "stream",
     "text": [
      "C:\\Users\\juju-\\Desktop\\projetos\\mng\\notebooks\\..\\scripts\\MNGFeaturesFractal.py:48: RankWarning: Polyfit may be poorly conditioned\n",
      "  coeffs = np.polyfit(np.log(C), np.log(dists), 1)\n"
     ]
    },
    {
     "name": "stdout",
     "output_type": "stream",
     "text": [
      "317\n"
     ]
    },
    {
     "name": "stderr",
     "output_type": "stream",
     "text": [
      "C:\\Users\\juju-\\Desktop\\projetos\\mng\\notebooks\\..\\scripts\\MNGFeaturesFractal.py:48: RankWarning: Polyfit may be poorly conditioned\n",
      "  coeffs = np.polyfit(np.log(C), np.log(dists), 1)\n"
     ]
    },
    {
     "name": "stdout",
     "output_type": "stream",
     "text": [
      "318\n"
     ]
    },
    {
     "name": "stderr",
     "output_type": "stream",
     "text": [
      "C:\\Users\\juju-\\Desktop\\projetos\\mng\\notebooks\\..\\scripts\\MNGFeaturesFractal.py:48: RankWarning: Polyfit may be poorly conditioned\n",
      "  coeffs = np.polyfit(np.log(C), np.log(dists), 1)\n"
     ]
    },
    {
     "name": "stdout",
     "output_type": "stream",
     "text": [
      "319\n"
     ]
    },
    {
     "name": "stderr",
     "output_type": "stream",
     "text": [
      "C:\\Users\\juju-\\Desktop\\projetos\\mng\\notebooks\\..\\scripts\\MNGFeaturesFractal.py:48: RankWarning: Polyfit may be poorly conditioned\n",
      "  coeffs = np.polyfit(np.log(C), np.log(dists), 1)\n"
     ]
    },
    {
     "name": "stdout",
     "output_type": "stream",
     "text": [
      "320\n"
     ]
    },
    {
     "name": "stderr",
     "output_type": "stream",
     "text": [
      "C:\\Users\\juju-\\Desktop\\projetos\\mng\\notebooks\\..\\scripts\\MNGFeaturesFractal.py:48: RankWarning: Polyfit may be poorly conditioned\n",
      "  coeffs = np.polyfit(np.log(C), np.log(dists), 1)\n"
     ]
    },
    {
     "name": "stdout",
     "output_type": "stream",
     "text": [
      "321\n"
     ]
    },
    {
     "name": "stderr",
     "output_type": "stream",
     "text": [
      "C:\\Users\\juju-\\Desktop\\projetos\\mng\\notebooks\\..\\scripts\\MNGFeaturesFractal.py:48: RankWarning: Polyfit may be poorly conditioned\n",
      "  coeffs = np.polyfit(np.log(C), np.log(dists), 1)\n"
     ]
    },
    {
     "name": "stdout",
     "output_type": "stream",
     "text": [
      "322\n"
     ]
    },
    {
     "name": "stderr",
     "output_type": "stream",
     "text": [
      "C:\\Users\\juju-\\Desktop\\projetos\\mng\\notebooks\\..\\scripts\\MNGFeaturesFractal.py:48: RankWarning: Polyfit may be poorly conditioned\n",
      "  coeffs = np.polyfit(np.log(C), np.log(dists), 1)\n"
     ]
    },
    {
     "name": "stdout",
     "output_type": "stream",
     "text": [
      "323\n"
     ]
    },
    {
     "name": "stderr",
     "output_type": "stream",
     "text": [
      "C:\\Users\\juju-\\Desktop\\projetos\\mng\\notebooks\\..\\scripts\\MNGFeaturesFractal.py:48: RankWarning: Polyfit may be poorly conditioned\n",
      "  coeffs = np.polyfit(np.log(C), np.log(dists), 1)\n"
     ]
    },
    {
     "name": "stdout",
     "output_type": "stream",
     "text": [
      "324\n"
     ]
    },
    {
     "name": "stderr",
     "output_type": "stream",
     "text": [
      "C:\\Users\\juju-\\Desktop\\projetos\\mng\\notebooks\\..\\scripts\\MNGFeaturesFractal.py:48: RankWarning: Polyfit may be poorly conditioned\n",
      "  coeffs = np.polyfit(np.log(C), np.log(dists), 1)\n"
     ]
    },
    {
     "name": "stdout",
     "output_type": "stream",
     "text": [
      "325\n"
     ]
    },
    {
     "name": "stderr",
     "output_type": "stream",
     "text": [
      "C:\\Users\\juju-\\Desktop\\projetos\\mng\\notebooks\\..\\scripts\\MNGFeaturesFractal.py:48: RankWarning: Polyfit may be poorly conditioned\n",
      "  coeffs = np.polyfit(np.log(C), np.log(dists), 1)\n"
     ]
    },
    {
     "name": "stdout",
     "output_type": "stream",
     "text": [
      "326\n"
     ]
    },
    {
     "name": "stderr",
     "output_type": "stream",
     "text": [
      "C:\\Users\\juju-\\Desktop\\projetos\\mng\\notebooks\\..\\scripts\\MNGFeaturesFractal.py:48: RankWarning: Polyfit may be poorly conditioned\n",
      "  coeffs = np.polyfit(np.log(C), np.log(dists), 1)\n"
     ]
    },
    {
     "name": "stdout",
     "output_type": "stream",
     "text": [
      "327\n"
     ]
    },
    {
     "name": "stderr",
     "output_type": "stream",
     "text": [
      "C:\\Users\\juju-\\Desktop\\projetos\\mng\\notebooks\\..\\scripts\\MNGFeaturesFractal.py:48: RankWarning: Polyfit may be poorly conditioned\n",
      "  coeffs = np.polyfit(np.log(C), np.log(dists), 1)\n"
     ]
    },
    {
     "name": "stdout",
     "output_type": "stream",
     "text": [
      "328\n"
     ]
    },
    {
     "name": "stderr",
     "output_type": "stream",
     "text": [
      "C:\\Users\\juju-\\Desktop\\projetos\\mng\\notebooks\\..\\scripts\\MNGFeaturesFractal.py:48: RankWarning: Polyfit may be poorly conditioned\n",
      "  coeffs = np.polyfit(np.log(C), np.log(dists), 1)\n"
     ]
    },
    {
     "name": "stdout",
     "output_type": "stream",
     "text": [
      "329\n"
     ]
    },
    {
     "name": "stderr",
     "output_type": "stream",
     "text": [
      "C:\\Users\\juju-\\Desktop\\projetos\\mng\\notebooks\\..\\scripts\\MNGFeaturesFractal.py:48: RankWarning: Polyfit may be poorly conditioned\n",
      "  coeffs = np.polyfit(np.log(C), np.log(dists), 1)\n"
     ]
    },
    {
     "name": "stdout",
     "output_type": "stream",
     "text": [
      "330\n"
     ]
    },
    {
     "name": "stderr",
     "output_type": "stream",
     "text": [
      "C:\\Users\\juju-\\Desktop\\projetos\\mng\\notebooks\\..\\scripts\\MNGFeaturesFractal.py:48: RankWarning: Polyfit may be poorly conditioned\n",
      "  coeffs = np.polyfit(np.log(C), np.log(dists), 1)\n"
     ]
    },
    {
     "name": "stdout",
     "output_type": "stream",
     "text": [
      "331\n"
     ]
    },
    {
     "name": "stderr",
     "output_type": "stream",
     "text": [
      "C:\\Users\\juju-\\Desktop\\projetos\\mng\\notebooks\\..\\scripts\\MNGFeaturesFractal.py:48: RankWarning: Polyfit may be poorly conditioned\n",
      "  coeffs = np.polyfit(np.log(C), np.log(dists), 1)\n"
     ]
    },
    {
     "name": "stdout",
     "output_type": "stream",
     "text": [
      "332\n"
     ]
    },
    {
     "name": "stderr",
     "output_type": "stream",
     "text": [
      "C:\\Users\\juju-\\Desktop\\projetos\\mng\\notebooks\\..\\scripts\\MNGFeaturesFractal.py:48: RankWarning: Polyfit may be poorly conditioned\n",
      "  coeffs = np.polyfit(np.log(C), np.log(dists), 1)\n"
     ]
    },
    {
     "name": "stdout",
     "output_type": "stream",
     "text": [
      "333\n"
     ]
    },
    {
     "name": "stderr",
     "output_type": "stream",
     "text": [
      "C:\\Users\\juju-\\Desktop\\projetos\\mng\\notebooks\\..\\scripts\\MNGFeaturesFractal.py:48: RankWarning: Polyfit may be poorly conditioned\n",
      "  coeffs = np.polyfit(np.log(C), np.log(dists), 1)\n"
     ]
    },
    {
     "name": "stdout",
     "output_type": "stream",
     "text": [
      "334\n"
     ]
    },
    {
     "name": "stderr",
     "output_type": "stream",
     "text": [
      "C:\\Users\\juju-\\Desktop\\projetos\\mng\\notebooks\\..\\scripts\\MNGFeaturesFractal.py:48: RankWarning: Polyfit may be poorly conditioned\n",
      "  coeffs = np.polyfit(np.log(C), np.log(dists), 1)\n"
     ]
    },
    {
     "name": "stdout",
     "output_type": "stream",
     "text": [
      "335\n"
     ]
    },
    {
     "name": "stderr",
     "output_type": "stream",
     "text": [
      "C:\\Users\\juju-\\Desktop\\projetos\\mng\\notebooks\\..\\scripts\\MNGFeaturesFractal.py:48: RankWarning: Polyfit may be poorly conditioned\n",
      "  coeffs = np.polyfit(np.log(C), np.log(dists), 1)\n"
     ]
    },
    {
     "name": "stdout",
     "output_type": "stream",
     "text": [
      "336\n"
     ]
    },
    {
     "name": "stderr",
     "output_type": "stream",
     "text": [
      "C:\\Users\\juju-\\Desktop\\projetos\\mng\\notebooks\\..\\scripts\\MNGFeaturesFractal.py:48: RankWarning: Polyfit may be poorly conditioned\n",
      "  coeffs = np.polyfit(np.log(C), np.log(dists), 1)\n"
     ]
    },
    {
     "name": "stdout",
     "output_type": "stream",
     "text": [
      "337\n"
     ]
    },
    {
     "name": "stderr",
     "output_type": "stream",
     "text": [
      "C:\\Users\\juju-\\Desktop\\projetos\\mng\\notebooks\\..\\scripts\\MNGFeaturesFractal.py:48: RankWarning: Polyfit may be poorly conditioned\n",
      "  coeffs = np.polyfit(np.log(C), np.log(dists), 1)\n"
     ]
    },
    {
     "name": "stdout",
     "output_type": "stream",
     "text": [
      "338\n"
     ]
    },
    {
     "name": "stderr",
     "output_type": "stream",
     "text": [
      "C:\\Users\\juju-\\Desktop\\projetos\\mng\\notebooks\\..\\scripts\\MNGFeaturesFractal.py:48: RankWarning: Polyfit may be poorly conditioned\n",
      "  coeffs = np.polyfit(np.log(C), np.log(dists), 1)\n"
     ]
    },
    {
     "name": "stdout",
     "output_type": "stream",
     "text": [
      "339\n"
     ]
    },
    {
     "name": "stderr",
     "output_type": "stream",
     "text": [
      "C:\\Users\\juju-\\Desktop\\projetos\\mng\\notebooks\\..\\scripts\\MNGFeaturesFractal.py:48: RankWarning: Polyfit may be poorly conditioned\n",
      "  coeffs = np.polyfit(np.log(C), np.log(dists), 1)\n"
     ]
    },
    {
     "name": "stdout",
     "output_type": "stream",
     "text": [
      "340\n"
     ]
    },
    {
     "name": "stderr",
     "output_type": "stream",
     "text": [
      "C:\\Users\\juju-\\Desktop\\projetos\\mng\\notebooks\\..\\scripts\\MNGFeaturesFractal.py:48: RankWarning: Polyfit may be poorly conditioned\n",
      "  coeffs = np.polyfit(np.log(C), np.log(dists), 1)\n"
     ]
    },
    {
     "name": "stdout",
     "output_type": "stream",
     "text": [
      "341\n"
     ]
    },
    {
     "name": "stderr",
     "output_type": "stream",
     "text": [
      "C:\\Users\\juju-\\Desktop\\projetos\\mng\\notebooks\\..\\scripts\\MNGFeaturesFractal.py:48: RankWarning: Polyfit may be poorly conditioned\n",
      "  coeffs = np.polyfit(np.log(C), np.log(dists), 1)\n"
     ]
    },
    {
     "name": "stdout",
     "output_type": "stream",
     "text": [
      "342\n"
     ]
    },
    {
     "name": "stderr",
     "output_type": "stream",
     "text": [
      "C:\\Users\\juju-\\Desktop\\projetos\\mng\\notebooks\\..\\scripts\\MNGFeaturesFractal.py:48: RankWarning: Polyfit may be poorly conditioned\n",
      "  coeffs = np.polyfit(np.log(C), np.log(dists), 1)\n"
     ]
    },
    {
     "name": "stdout",
     "output_type": "stream",
     "text": [
      "343\n"
     ]
    },
    {
     "name": "stderr",
     "output_type": "stream",
     "text": [
      "C:\\Users\\juju-\\Desktop\\projetos\\mng\\notebooks\\..\\scripts\\MNGFeaturesFractal.py:48: RankWarning: Polyfit may be poorly conditioned\n",
      "  coeffs = np.polyfit(np.log(C), np.log(dists), 1)\n"
     ]
    },
    {
     "name": "stdout",
     "output_type": "stream",
     "text": [
      "344\n"
     ]
    },
    {
     "name": "stderr",
     "output_type": "stream",
     "text": [
      "C:\\Users\\juju-\\Desktop\\projetos\\mng\\notebooks\\..\\scripts\\MNGFeaturesFractal.py:48: RankWarning: Polyfit may be poorly conditioned\n",
      "  coeffs = np.polyfit(np.log(C), np.log(dists), 1)\n"
     ]
    },
    {
     "name": "stdout",
     "output_type": "stream",
     "text": [
      "345\n"
     ]
    },
    {
     "name": "stderr",
     "output_type": "stream",
     "text": [
      "C:\\Users\\juju-\\Desktop\\projetos\\mng\\notebooks\\..\\scripts\\MNGFeaturesFractal.py:48: RankWarning: Polyfit may be poorly conditioned\n",
      "  coeffs = np.polyfit(np.log(C), np.log(dists), 1)\n"
     ]
    },
    {
     "name": "stdout",
     "output_type": "stream",
     "text": [
      "346\n"
     ]
    },
    {
     "name": "stderr",
     "output_type": "stream",
     "text": [
      "C:\\Users\\juju-\\Desktop\\projetos\\mng\\notebooks\\..\\scripts\\MNGFeaturesFractal.py:48: RankWarning: Polyfit may be poorly conditioned\n",
      "  coeffs = np.polyfit(np.log(C), np.log(dists), 1)\n"
     ]
    },
    {
     "name": "stdout",
     "output_type": "stream",
     "text": [
      "347\n"
     ]
    },
    {
     "name": "stderr",
     "output_type": "stream",
     "text": [
      "C:\\Users\\juju-\\Desktop\\projetos\\mng\\notebooks\\..\\scripts\\MNGFeaturesFractal.py:48: RankWarning: Polyfit may be poorly conditioned\n",
      "  coeffs = np.polyfit(np.log(C), np.log(dists), 1)\n"
     ]
    },
    {
     "name": "stdout",
     "output_type": "stream",
     "text": [
      "348\n"
     ]
    },
    {
     "name": "stderr",
     "output_type": "stream",
     "text": [
      "C:\\Users\\juju-\\Desktop\\projetos\\mng\\notebooks\\..\\scripts\\MNGFeaturesFractal.py:48: RankWarning: Polyfit may be poorly conditioned\n",
      "  coeffs = np.polyfit(np.log(C), np.log(dists), 1)\n"
     ]
    },
    {
     "name": "stdout",
     "output_type": "stream",
     "text": [
      "349\n"
     ]
    },
    {
     "name": "stderr",
     "output_type": "stream",
     "text": [
      "C:\\Users\\juju-\\Desktop\\projetos\\mng\\notebooks\\..\\scripts\\MNGFeaturesFractal.py:48: RankWarning: Polyfit may be poorly conditioned\n",
      "  coeffs = np.polyfit(np.log(C), np.log(dists), 1)\n"
     ]
    },
    {
     "name": "stdout",
     "output_type": "stream",
     "text": [
      "350\n"
     ]
    },
    {
     "name": "stderr",
     "output_type": "stream",
     "text": [
      "C:\\Users\\juju-\\Desktop\\projetos\\mng\\notebooks\\..\\scripts\\MNGFeaturesFractal.py:48: RankWarning: Polyfit may be poorly conditioned\n",
      "  coeffs = np.polyfit(np.log(C), np.log(dists), 1)\n"
     ]
    },
    {
     "name": "stdout",
     "output_type": "stream",
     "text": [
      "351\n"
     ]
    },
    {
     "name": "stderr",
     "output_type": "stream",
     "text": [
      "C:\\Users\\juju-\\Desktop\\projetos\\mng\\notebooks\\..\\scripts\\MNGFeaturesFractal.py:48: RankWarning: Polyfit may be poorly conditioned\n",
      "  coeffs = np.polyfit(np.log(C), np.log(dists), 1)\n"
     ]
    },
    {
     "name": "stdout",
     "output_type": "stream",
     "text": [
      "352\n"
     ]
    },
    {
     "name": "stderr",
     "output_type": "stream",
     "text": [
      "C:\\Users\\juju-\\Desktop\\projetos\\mng\\notebooks\\..\\scripts\\MNGFeaturesFractal.py:48: RankWarning: Polyfit may be poorly conditioned\n",
      "  coeffs = np.polyfit(np.log(C), np.log(dists), 1)\n"
     ]
    },
    {
     "name": "stdout",
     "output_type": "stream",
     "text": [
      "353\n"
     ]
    },
    {
     "name": "stderr",
     "output_type": "stream",
     "text": [
      "C:\\Users\\juju-\\Desktop\\projetos\\mng\\notebooks\\..\\scripts\\MNGFeaturesFractal.py:48: RankWarning: Polyfit may be poorly conditioned\n",
      "  coeffs = np.polyfit(np.log(C), np.log(dists), 1)\n"
     ]
    },
    {
     "name": "stdout",
     "output_type": "stream",
     "text": [
      "354\n"
     ]
    },
    {
     "name": "stderr",
     "output_type": "stream",
     "text": [
      "C:\\Users\\juju-\\Desktop\\projetos\\mng\\notebooks\\..\\scripts\\MNGFeaturesFractal.py:48: RankWarning: Polyfit may be poorly conditioned\n",
      "  coeffs = np.polyfit(np.log(C), np.log(dists), 1)\n"
     ]
    },
    {
     "name": "stdout",
     "output_type": "stream",
     "text": [
      "355\n"
     ]
    },
    {
     "name": "stderr",
     "output_type": "stream",
     "text": [
      "C:\\Users\\juju-\\Desktop\\projetos\\mng\\notebooks\\..\\scripts\\MNGFeaturesFractal.py:48: RankWarning: Polyfit may be poorly conditioned\n",
      "  coeffs = np.polyfit(np.log(C), np.log(dists), 1)\n"
     ]
    },
    {
     "name": "stdout",
     "output_type": "stream",
     "text": [
      "356\n"
     ]
    },
    {
     "name": "stderr",
     "output_type": "stream",
     "text": [
      "C:\\Users\\juju-\\Desktop\\projetos\\mng\\notebooks\\..\\scripts\\MNGFeaturesFractal.py:48: RankWarning: Polyfit may be poorly conditioned\n",
      "  coeffs = np.polyfit(np.log(C), np.log(dists), 1)\n"
     ]
    },
    {
     "name": "stdout",
     "output_type": "stream",
     "text": [
      "357\n"
     ]
    },
    {
     "name": "stderr",
     "output_type": "stream",
     "text": [
      "C:\\Users\\juju-\\Desktop\\projetos\\mng\\notebooks\\..\\scripts\\MNGFeaturesFractal.py:48: RankWarning: Polyfit may be poorly conditioned\n",
      "  coeffs = np.polyfit(np.log(C), np.log(dists), 1)\n"
     ]
    },
    {
     "name": "stdout",
     "output_type": "stream",
     "text": [
      "358\n"
     ]
    },
    {
     "name": "stderr",
     "output_type": "stream",
     "text": [
      "C:\\Users\\juju-\\Desktop\\projetos\\mng\\notebooks\\..\\scripts\\MNGFeaturesFractal.py:48: RankWarning: Polyfit may be poorly conditioned\n",
      "  coeffs = np.polyfit(np.log(C), np.log(dists), 1)\n"
     ]
    },
    {
     "name": "stdout",
     "output_type": "stream",
     "text": [
      "359\n"
     ]
    },
    {
     "name": "stderr",
     "output_type": "stream",
     "text": [
      "C:\\Users\\juju-\\Desktop\\projetos\\mng\\notebooks\\..\\scripts\\MNGFeaturesFractal.py:48: RankWarning: Polyfit may be poorly conditioned\n",
      "  coeffs = np.polyfit(np.log(C), np.log(dists), 1)\n"
     ]
    },
    {
     "name": "stdout",
     "output_type": "stream",
     "text": [
      "360\n"
     ]
    },
    {
     "name": "stderr",
     "output_type": "stream",
     "text": [
      "C:\\Users\\juju-\\Desktop\\projetos\\mng\\notebooks\\..\\scripts\\MNGFeaturesFractal.py:48: RankWarning: Polyfit may be poorly conditioned\n",
      "  coeffs = np.polyfit(np.log(C), np.log(dists), 1)\n"
     ]
    },
    {
     "name": "stdout",
     "output_type": "stream",
     "text": [
      "361\n"
     ]
    },
    {
     "name": "stderr",
     "output_type": "stream",
     "text": [
      "C:\\Users\\juju-\\Desktop\\projetos\\mng\\notebooks\\..\\scripts\\MNGFeaturesFractal.py:48: RankWarning: Polyfit may be poorly conditioned\n",
      "  coeffs = np.polyfit(np.log(C), np.log(dists), 1)\n"
     ]
    },
    {
     "name": "stdout",
     "output_type": "stream",
     "text": [
      "362\n"
     ]
    },
    {
     "name": "stderr",
     "output_type": "stream",
     "text": [
      "C:\\Users\\juju-\\Desktop\\projetos\\mng\\notebooks\\..\\scripts\\MNGFeaturesFractal.py:48: RankWarning: Polyfit may be poorly conditioned\n",
      "  coeffs = np.polyfit(np.log(C), np.log(dists), 1)\n"
     ]
    },
    {
     "name": "stdout",
     "output_type": "stream",
     "text": [
      "363\n"
     ]
    },
    {
     "name": "stderr",
     "output_type": "stream",
     "text": [
      "C:\\Users\\juju-\\Desktop\\projetos\\mng\\notebooks\\..\\scripts\\MNGFeaturesFractal.py:48: RankWarning: Polyfit may be poorly conditioned\n",
      "  coeffs = np.polyfit(np.log(C), np.log(dists), 1)\n"
     ]
    },
    {
     "name": "stdout",
     "output_type": "stream",
     "text": [
      "364\n"
     ]
    },
    {
     "name": "stderr",
     "output_type": "stream",
     "text": [
      "C:\\Users\\juju-\\Desktop\\projetos\\mng\\notebooks\\..\\scripts\\MNGFeaturesFractal.py:48: RankWarning: Polyfit may be poorly conditioned\n",
      "  coeffs = np.polyfit(np.log(C), np.log(dists), 1)\n"
     ]
    },
    {
     "name": "stdout",
     "output_type": "stream",
     "text": [
      "365\n"
     ]
    },
    {
     "name": "stderr",
     "output_type": "stream",
     "text": [
      "C:\\Users\\juju-\\Desktop\\projetos\\mng\\notebooks\\..\\scripts\\MNGFeaturesFractal.py:48: RankWarning: Polyfit may be poorly conditioned\n",
      "  coeffs = np.polyfit(np.log(C), np.log(dists), 1)\n"
     ]
    },
    {
     "name": "stdout",
     "output_type": "stream",
     "text": [
      "366\n"
     ]
    },
    {
     "name": "stderr",
     "output_type": "stream",
     "text": [
      "C:\\Users\\juju-\\Desktop\\projetos\\mng\\notebooks\\..\\scripts\\MNGFeaturesFractal.py:48: RankWarning: Polyfit may be poorly conditioned\n",
      "  coeffs = np.polyfit(np.log(C), np.log(dists), 1)\n"
     ]
    },
    {
     "name": "stdout",
     "output_type": "stream",
     "text": [
      "367\n"
     ]
    },
    {
     "name": "stderr",
     "output_type": "stream",
     "text": [
      "C:\\Users\\juju-\\Desktop\\projetos\\mng\\notebooks\\..\\scripts\\MNGFeaturesFractal.py:48: RankWarning: Polyfit may be poorly conditioned\n",
      "  coeffs = np.polyfit(np.log(C), np.log(dists), 1)\n"
     ]
    },
    {
     "name": "stdout",
     "output_type": "stream",
     "text": [
      "368\n"
     ]
    },
    {
     "name": "stderr",
     "output_type": "stream",
     "text": [
      "C:\\Users\\juju-\\Desktop\\projetos\\mng\\notebooks\\..\\scripts\\MNGFeaturesFractal.py:48: RankWarning: Polyfit may be poorly conditioned\n",
      "  coeffs = np.polyfit(np.log(C), np.log(dists), 1)\n"
     ]
    },
    {
     "name": "stdout",
     "output_type": "stream",
     "text": [
      "369\n"
     ]
    },
    {
     "name": "stderr",
     "output_type": "stream",
     "text": [
      "C:\\Users\\juju-\\Desktop\\projetos\\mng\\notebooks\\..\\scripts\\MNGFeaturesFractal.py:48: RankWarning: Polyfit may be poorly conditioned\n",
      "  coeffs = np.polyfit(np.log(C), np.log(dists), 1)\n"
     ]
    },
    {
     "name": "stdout",
     "output_type": "stream",
     "text": [
      "370\n"
     ]
    },
    {
     "name": "stderr",
     "output_type": "stream",
     "text": [
      "C:\\Users\\juju-\\Desktop\\projetos\\mng\\notebooks\\..\\scripts\\MNGFeaturesFractal.py:48: RankWarning: Polyfit may be poorly conditioned\n",
      "  coeffs = np.polyfit(np.log(C), np.log(dists), 1)\n"
     ]
    },
    {
     "name": "stdout",
     "output_type": "stream",
     "text": [
      "371\n"
     ]
    },
    {
     "name": "stderr",
     "output_type": "stream",
     "text": [
      "C:\\Users\\juju-\\Desktop\\projetos\\mng\\notebooks\\..\\scripts\\MNGFeaturesFractal.py:48: RankWarning: Polyfit may be poorly conditioned\n",
      "  coeffs = np.polyfit(np.log(C), np.log(dists), 1)\n"
     ]
    },
    {
     "name": "stdout",
     "output_type": "stream",
     "text": [
      "372\n"
     ]
    },
    {
     "name": "stderr",
     "output_type": "stream",
     "text": [
      "C:\\Users\\juju-\\Desktop\\projetos\\mng\\notebooks\\..\\scripts\\MNGFeaturesFractal.py:48: RankWarning: Polyfit may be poorly conditioned\n",
      "  coeffs = np.polyfit(np.log(C), np.log(dists), 1)\n"
     ]
    },
    {
     "name": "stdout",
     "output_type": "stream",
     "text": [
      "373\n"
     ]
    },
    {
     "name": "stderr",
     "output_type": "stream",
     "text": [
      "C:\\Users\\juju-\\Desktop\\projetos\\mng\\notebooks\\..\\scripts\\MNGFeaturesFractal.py:48: RankWarning: Polyfit may be poorly conditioned\n",
      "  coeffs = np.polyfit(np.log(C), np.log(dists), 1)\n"
     ]
    },
    {
     "name": "stdout",
     "output_type": "stream",
     "text": [
      "374\n"
     ]
    },
    {
     "name": "stderr",
     "output_type": "stream",
     "text": [
      "C:\\Users\\juju-\\Desktop\\projetos\\mng\\notebooks\\..\\scripts\\MNGFeaturesFractal.py:48: RankWarning: Polyfit may be poorly conditioned\n",
      "  coeffs = np.polyfit(np.log(C), np.log(dists), 1)\n"
     ]
    },
    {
     "name": "stdout",
     "output_type": "stream",
     "text": [
      "375\n"
     ]
    },
    {
     "name": "stderr",
     "output_type": "stream",
     "text": [
      "C:\\Users\\juju-\\Desktop\\projetos\\mng\\notebooks\\..\\scripts\\MNGFeaturesFractal.py:48: RankWarning: Polyfit may be poorly conditioned\n",
      "  coeffs = np.polyfit(np.log(C), np.log(dists), 1)\n"
     ]
    },
    {
     "name": "stdout",
     "output_type": "stream",
     "text": [
      "376\n"
     ]
    },
    {
     "name": "stderr",
     "output_type": "stream",
     "text": [
      "C:\\Users\\juju-\\Desktop\\projetos\\mng\\notebooks\\..\\scripts\\MNGFeaturesFractal.py:48: RankWarning: Polyfit may be poorly conditioned\n",
      "  coeffs = np.polyfit(np.log(C), np.log(dists), 1)\n"
     ]
    },
    {
     "name": "stdout",
     "output_type": "stream",
     "text": [
      "377\n"
     ]
    },
    {
     "name": "stderr",
     "output_type": "stream",
     "text": [
      "C:\\Users\\juju-\\Desktop\\projetos\\mng\\notebooks\\..\\scripts\\MNGFeaturesFractal.py:48: RankWarning: Polyfit may be poorly conditioned\n",
      "  coeffs = np.polyfit(np.log(C), np.log(dists), 1)\n"
     ]
    },
    {
     "name": "stdout",
     "output_type": "stream",
     "text": [
      "378\n"
     ]
    },
    {
     "name": "stderr",
     "output_type": "stream",
     "text": [
      "C:\\Users\\juju-\\Desktop\\projetos\\mng\\notebooks\\..\\scripts\\MNGFeaturesFractal.py:48: RankWarning: Polyfit may be poorly conditioned\n",
      "  coeffs = np.polyfit(np.log(C), np.log(dists), 1)\n"
     ]
    },
    {
     "name": "stdout",
     "output_type": "stream",
     "text": [
      "379\n"
     ]
    },
    {
     "name": "stderr",
     "output_type": "stream",
     "text": [
      "C:\\Users\\juju-\\Desktop\\projetos\\mng\\notebooks\\..\\scripts\\MNGFeaturesFractal.py:48: RankWarning: Polyfit may be poorly conditioned\n",
      "  coeffs = np.polyfit(np.log(C), np.log(dists), 1)\n"
     ]
    },
    {
     "name": "stdout",
     "output_type": "stream",
     "text": [
      "380\n",
      "381\n"
     ]
    },
    {
     "name": "stderr",
     "output_type": "stream",
     "text": [
      "C:\\Users\\juju-\\Desktop\\projetos\\mng\\notebooks\\..\\scripts\\MNGFeaturesFractal.py:48: RankWarning: Polyfit may be poorly conditioned\n",
      "  coeffs = np.polyfit(np.log(C), np.log(dists), 1)\n",
      "C:\\Users\\juju-\\Desktop\\projetos\\mng\\notebooks\\..\\scripts\\MNGFeaturesFractal.py:48: RankWarning: Polyfit may be poorly conditioned\n",
      "  coeffs = np.polyfit(np.log(C), np.log(dists), 1)\n"
     ]
    },
    {
     "name": "stdout",
     "output_type": "stream",
     "text": [
      "382\n"
     ]
    },
    {
     "name": "stderr",
     "output_type": "stream",
     "text": [
      "C:\\Users\\juju-\\Desktop\\projetos\\mng\\notebooks\\..\\scripts\\MNGFeaturesFractal.py:48: RankWarning: Polyfit may be poorly conditioned\n",
      "  coeffs = np.polyfit(np.log(C), np.log(dists), 1)\n"
     ]
    },
    {
     "name": "stdout",
     "output_type": "stream",
     "text": [
      "383\n"
     ]
    },
    {
     "name": "stderr",
     "output_type": "stream",
     "text": [
      "C:\\Users\\juju-\\Desktop\\projetos\\mng\\notebooks\\..\\scripts\\MNGFeaturesFractal.py:48: RankWarning: Polyfit may be poorly conditioned\n",
      "  coeffs = np.polyfit(np.log(C), np.log(dists), 1)\n"
     ]
    },
    {
     "name": "stdout",
     "output_type": "stream",
     "text": [
      "384\n"
     ]
    },
    {
     "name": "stderr",
     "output_type": "stream",
     "text": [
      "C:\\Users\\juju-\\Desktop\\projetos\\mng\\notebooks\\..\\scripts\\MNGFeaturesFractal.py:48: RankWarning: Polyfit may be poorly conditioned\n",
      "  coeffs = np.polyfit(np.log(C), np.log(dists), 1)\n"
     ]
    },
    {
     "name": "stdout",
     "output_type": "stream",
     "text": [
      "385\n"
     ]
    },
    {
     "name": "stderr",
     "output_type": "stream",
     "text": [
      "C:\\Users\\juju-\\Desktop\\projetos\\mng\\notebooks\\..\\scripts\\MNGFeaturesFractal.py:48: RankWarning: Polyfit may be poorly conditioned\n",
      "  coeffs = np.polyfit(np.log(C), np.log(dists), 1)\n"
     ]
    },
    {
     "name": "stdout",
     "output_type": "stream",
     "text": [
      "386\n"
     ]
    },
    {
     "name": "stderr",
     "output_type": "stream",
     "text": [
      "C:\\Users\\juju-\\Desktop\\projetos\\mng\\notebooks\\..\\scripts\\MNGFeaturesFractal.py:48: RankWarning: Polyfit may be poorly conditioned\n",
      "  coeffs = np.polyfit(np.log(C), np.log(dists), 1)\n"
     ]
    },
    {
     "name": "stdout",
     "output_type": "stream",
     "text": [
      "387\n"
     ]
    },
    {
     "name": "stderr",
     "output_type": "stream",
     "text": [
      "C:\\Users\\juju-\\Desktop\\projetos\\mng\\notebooks\\..\\scripts\\MNGFeaturesFractal.py:48: RankWarning: Polyfit may be poorly conditioned\n",
      "  coeffs = np.polyfit(np.log(C), np.log(dists), 1)\n"
     ]
    },
    {
     "name": "stdout",
     "output_type": "stream",
     "text": [
      "388\n"
     ]
    },
    {
     "name": "stderr",
     "output_type": "stream",
     "text": [
      "C:\\Users\\juju-\\Desktop\\projetos\\mng\\notebooks\\..\\scripts\\MNGFeaturesFractal.py:48: RankWarning: Polyfit may be poorly conditioned\n",
      "  coeffs = np.polyfit(np.log(C), np.log(dists), 1)\n"
     ]
    },
    {
     "name": "stdout",
     "output_type": "stream",
     "text": [
      "389\n"
     ]
    },
    {
     "name": "stderr",
     "output_type": "stream",
     "text": [
      "C:\\Users\\juju-\\Desktop\\projetos\\mng\\notebooks\\..\\scripts\\MNGFeaturesFractal.py:48: RankWarning: Polyfit may be poorly conditioned\n",
      "  coeffs = np.polyfit(np.log(C), np.log(dists), 1)\n"
     ]
    },
    {
     "name": "stdout",
     "output_type": "stream",
     "text": [
      "390\n"
     ]
    },
    {
     "name": "stderr",
     "output_type": "stream",
     "text": [
      "C:\\Users\\juju-\\Desktop\\projetos\\mng\\notebooks\\..\\scripts\\MNGFeaturesFractal.py:48: RankWarning: Polyfit may be poorly conditioned\n",
      "  coeffs = np.polyfit(np.log(C), np.log(dists), 1)\n"
     ]
    },
    {
     "name": "stdout",
     "output_type": "stream",
     "text": [
      "391\n"
     ]
    },
    {
     "name": "stderr",
     "output_type": "stream",
     "text": [
      "C:\\Users\\juju-\\Desktop\\projetos\\mng\\notebooks\\..\\scripts\\MNGFeaturesFractal.py:48: RankWarning: Polyfit may be poorly conditioned\n",
      "  coeffs = np.polyfit(np.log(C), np.log(dists), 1)\n"
     ]
    },
    {
     "name": "stdout",
     "output_type": "stream",
     "text": [
      "392\n"
     ]
    },
    {
     "name": "stderr",
     "output_type": "stream",
     "text": [
      "C:\\Users\\juju-\\Desktop\\projetos\\mng\\notebooks\\..\\scripts\\MNGFeaturesFractal.py:48: RankWarning: Polyfit may be poorly conditioned\n",
      "  coeffs = np.polyfit(np.log(C), np.log(dists), 1)\n"
     ]
    },
    {
     "name": "stdout",
     "output_type": "stream",
     "text": [
      "393\n"
     ]
    },
    {
     "name": "stderr",
     "output_type": "stream",
     "text": [
      "C:\\Users\\juju-\\Desktop\\projetos\\mng\\notebooks\\..\\scripts\\MNGFeaturesFractal.py:48: RankWarning: Polyfit may be poorly conditioned\n",
      "  coeffs = np.polyfit(np.log(C), np.log(dists), 1)\n"
     ]
    },
    {
     "name": "stdout",
     "output_type": "stream",
     "text": [
      "394\n"
     ]
    },
    {
     "name": "stderr",
     "output_type": "stream",
     "text": [
      "C:\\Users\\juju-\\Desktop\\projetos\\mng\\notebooks\\..\\scripts\\MNGFeaturesFractal.py:48: RankWarning: Polyfit may be poorly conditioned\n",
      "  coeffs = np.polyfit(np.log(C), np.log(dists), 1)\n"
     ]
    },
    {
     "name": "stdout",
     "output_type": "stream",
     "text": [
      "395\n"
     ]
    },
    {
     "name": "stderr",
     "output_type": "stream",
     "text": [
      "C:\\Users\\juju-\\Desktop\\projetos\\mng\\notebooks\\..\\scripts\\MNGFeaturesFractal.py:48: RankWarning: Polyfit may be poorly conditioned\n",
      "  coeffs = np.polyfit(np.log(C), np.log(dists), 1)\n"
     ]
    },
    {
     "name": "stdout",
     "output_type": "stream",
     "text": [
      "396\n"
     ]
    },
    {
     "name": "stderr",
     "output_type": "stream",
     "text": [
      "C:\\Users\\juju-\\Desktop\\projetos\\mng\\notebooks\\..\\scripts\\MNGFeaturesFractal.py:48: RankWarning: Polyfit may be poorly conditioned\n",
      "  coeffs = np.polyfit(np.log(C), np.log(dists), 1)\n"
     ]
    },
    {
     "name": "stdout",
     "output_type": "stream",
     "text": [
      "397\n"
     ]
    },
    {
     "name": "stderr",
     "output_type": "stream",
     "text": [
      "C:\\Users\\juju-\\Desktop\\projetos\\mng\\notebooks\\..\\scripts\\MNGFeaturesFractal.py:48: RankWarning: Polyfit may be poorly conditioned\n",
      "  coeffs = np.polyfit(np.log(C), np.log(dists), 1)\n"
     ]
    },
    {
     "name": "stdout",
     "output_type": "stream",
     "text": [
      "398\n"
     ]
    },
    {
     "name": "stderr",
     "output_type": "stream",
     "text": [
      "C:\\Users\\juju-\\Desktop\\projetos\\mng\\notebooks\\..\\scripts\\MNGFeaturesFractal.py:48: RankWarning: Polyfit may be poorly conditioned\n",
      "  coeffs = np.polyfit(np.log(C), np.log(dists), 1)\n"
     ]
    },
    {
     "name": "stdout",
     "output_type": "stream",
     "text": [
      "399\n"
     ]
    },
    {
     "name": "stderr",
     "output_type": "stream",
     "text": [
      "C:\\Users\\juju-\\Desktop\\projetos\\mng\\notebooks\\..\\scripts\\MNGFeaturesFractal.py:48: RankWarning: Polyfit may be poorly conditioned\n",
      "  coeffs = np.polyfit(np.log(C), np.log(dists), 1)\n"
     ]
    },
    {
     "name": "stdout",
     "output_type": "stream",
     "text": [
      "400\n"
     ]
    },
    {
     "name": "stderr",
     "output_type": "stream",
     "text": [
      "C:\\Users\\juju-\\Desktop\\projetos\\mng\\notebooks\\..\\scripts\\MNGFeaturesFractal.py:48: RankWarning: Polyfit may be poorly conditioned\n",
      "  coeffs = np.polyfit(np.log(C), np.log(dists), 1)\n"
     ]
    },
    {
     "name": "stdout",
     "output_type": "stream",
     "text": [
      "401\n"
     ]
    },
    {
     "name": "stderr",
     "output_type": "stream",
     "text": [
      "C:\\Users\\juju-\\Desktop\\projetos\\mng\\notebooks\\..\\scripts\\MNGFeaturesFractal.py:48: RankWarning: Polyfit may be poorly conditioned\n",
      "  coeffs = np.polyfit(np.log(C), np.log(dists), 1)\n"
     ]
    },
    {
     "name": "stdout",
     "output_type": "stream",
     "text": [
      "402\n"
     ]
    },
    {
     "name": "stderr",
     "output_type": "stream",
     "text": [
      "C:\\Users\\juju-\\Desktop\\projetos\\mng\\notebooks\\..\\scripts\\MNGFeaturesFractal.py:48: RankWarning: Polyfit may be poorly conditioned\n",
      "  coeffs = np.polyfit(np.log(C), np.log(dists), 1)\n"
     ]
    },
    {
     "name": "stdout",
     "output_type": "stream",
     "text": [
      "403\n"
     ]
    },
    {
     "name": "stderr",
     "output_type": "stream",
     "text": [
      "C:\\Users\\juju-\\Desktop\\projetos\\mng\\notebooks\\..\\scripts\\MNGFeaturesFractal.py:48: RankWarning: Polyfit may be poorly conditioned\n",
      "  coeffs = np.polyfit(np.log(C), np.log(dists), 1)\n"
     ]
    },
    {
     "name": "stdout",
     "output_type": "stream",
     "text": [
      "404\n"
     ]
    },
    {
     "name": "stderr",
     "output_type": "stream",
     "text": [
      "C:\\Users\\juju-\\Desktop\\projetos\\mng\\notebooks\\..\\scripts\\MNGFeaturesFractal.py:48: RankWarning: Polyfit may be poorly conditioned\n",
      "  coeffs = np.polyfit(np.log(C), np.log(dists), 1)\n"
     ]
    },
    {
     "name": "stdout",
     "output_type": "stream",
     "text": [
      "405\n"
     ]
    },
    {
     "name": "stderr",
     "output_type": "stream",
     "text": [
      "C:\\Users\\juju-\\Desktop\\projetos\\mng\\notebooks\\..\\scripts\\MNGFeaturesFractal.py:48: RankWarning: Polyfit may be poorly conditioned\n",
      "  coeffs = np.polyfit(np.log(C), np.log(dists), 1)\n"
     ]
    },
    {
     "name": "stdout",
     "output_type": "stream",
     "text": [
      "406\n"
     ]
    },
    {
     "name": "stderr",
     "output_type": "stream",
     "text": [
      "C:\\Users\\juju-\\Desktop\\projetos\\mng\\notebooks\\..\\scripts\\MNGFeaturesFractal.py:48: RankWarning: Polyfit may be poorly conditioned\n",
      "  coeffs = np.polyfit(np.log(C), np.log(dists), 1)\n"
     ]
    },
    {
     "name": "stdout",
     "output_type": "stream",
     "text": [
      "407\n"
     ]
    },
    {
     "name": "stderr",
     "output_type": "stream",
     "text": [
      "C:\\Users\\juju-\\Desktop\\projetos\\mng\\notebooks\\..\\scripts\\MNGFeaturesFractal.py:48: RankWarning: Polyfit may be poorly conditioned\n",
      "  coeffs = np.polyfit(np.log(C), np.log(dists), 1)\n"
     ]
    },
    {
     "name": "stdout",
     "output_type": "stream",
     "text": [
      "408\n"
     ]
    },
    {
     "name": "stderr",
     "output_type": "stream",
     "text": [
      "C:\\Users\\juju-\\Desktop\\projetos\\mng\\notebooks\\..\\scripts\\MNGFeaturesFractal.py:48: RankWarning: Polyfit may be poorly conditioned\n",
      "  coeffs = np.polyfit(np.log(C), np.log(dists), 1)\n"
     ]
    },
    {
     "name": "stdout",
     "output_type": "stream",
     "text": [
      "409\n"
     ]
    },
    {
     "name": "stderr",
     "output_type": "stream",
     "text": [
      "C:\\Users\\juju-\\Desktop\\projetos\\mng\\notebooks\\..\\scripts\\MNGFeaturesFractal.py:48: RankWarning: Polyfit may be poorly conditioned\n",
      "  coeffs = np.polyfit(np.log(C), np.log(dists), 1)\n"
     ]
    },
    {
     "name": "stdout",
     "output_type": "stream",
     "text": [
      "410\n"
     ]
    },
    {
     "name": "stderr",
     "output_type": "stream",
     "text": [
      "C:\\Users\\juju-\\Desktop\\projetos\\mng\\notebooks\\..\\scripts\\MNGFeaturesFractal.py:48: RankWarning: Polyfit may be poorly conditioned\n",
      "  coeffs = np.polyfit(np.log(C), np.log(dists), 1)\n"
     ]
    },
    {
     "name": "stdout",
     "output_type": "stream",
     "text": [
      "411\n"
     ]
    },
    {
     "name": "stderr",
     "output_type": "stream",
     "text": [
      "C:\\Users\\juju-\\Desktop\\projetos\\mng\\notebooks\\..\\scripts\\MNGFeaturesFractal.py:48: RankWarning: Polyfit may be poorly conditioned\n",
      "  coeffs = np.polyfit(np.log(C), np.log(dists), 1)\n"
     ]
    },
    {
     "name": "stdout",
     "output_type": "stream",
     "text": [
      "412\n"
     ]
    },
    {
     "name": "stderr",
     "output_type": "stream",
     "text": [
      "C:\\Users\\juju-\\Desktop\\projetos\\mng\\notebooks\\..\\scripts\\MNGFeaturesFractal.py:48: RankWarning: Polyfit may be poorly conditioned\n",
      "  coeffs = np.polyfit(np.log(C), np.log(dists), 1)\n"
     ]
    },
    {
     "name": "stdout",
     "output_type": "stream",
     "text": [
      "413\n"
     ]
    },
    {
     "name": "stderr",
     "output_type": "stream",
     "text": [
      "C:\\Users\\juju-\\Desktop\\projetos\\mng\\notebooks\\..\\scripts\\MNGFeaturesFractal.py:48: RankWarning: Polyfit may be poorly conditioned\n",
      "  coeffs = np.polyfit(np.log(C), np.log(dists), 1)\n"
     ]
    },
    {
     "name": "stdout",
     "output_type": "stream",
     "text": [
      "414\n"
     ]
    },
    {
     "name": "stderr",
     "output_type": "stream",
     "text": [
      "C:\\Users\\juju-\\Desktop\\projetos\\mng\\notebooks\\..\\scripts\\MNGFeaturesFractal.py:48: RankWarning: Polyfit may be poorly conditioned\n",
      "  coeffs = np.polyfit(np.log(C), np.log(dists), 1)\n"
     ]
    },
    {
     "name": "stdout",
     "output_type": "stream",
     "text": [
      "415\n"
     ]
    },
    {
     "name": "stderr",
     "output_type": "stream",
     "text": [
      "C:\\Users\\juju-\\Desktop\\projetos\\mng\\notebooks\\..\\scripts\\MNGFeaturesFractal.py:48: RankWarning: Polyfit may be poorly conditioned\n",
      "  coeffs = np.polyfit(np.log(C), np.log(dists), 1)\n"
     ]
    },
    {
     "name": "stdout",
     "output_type": "stream",
     "text": [
      "416\n"
     ]
    },
    {
     "name": "stderr",
     "output_type": "stream",
     "text": [
      "C:\\Users\\juju-\\Desktop\\projetos\\mng\\notebooks\\..\\scripts\\MNGFeaturesFractal.py:48: RankWarning: Polyfit may be poorly conditioned\n",
      "  coeffs = np.polyfit(np.log(C), np.log(dists), 1)\n"
     ]
    },
    {
     "name": "stdout",
     "output_type": "stream",
     "text": [
      "417\n"
     ]
    },
    {
     "name": "stderr",
     "output_type": "stream",
     "text": [
      "C:\\Users\\juju-\\Desktop\\projetos\\mng\\notebooks\\..\\scripts\\MNGFeaturesFractal.py:48: RankWarning: Polyfit may be poorly conditioned\n",
      "  coeffs = np.polyfit(np.log(C), np.log(dists), 1)\n"
     ]
    },
    {
     "name": "stdout",
     "output_type": "stream",
     "text": [
      "418\n"
     ]
    },
    {
     "name": "stderr",
     "output_type": "stream",
     "text": [
      "C:\\Users\\juju-\\Desktop\\projetos\\mng\\notebooks\\..\\scripts\\MNGFeaturesFractal.py:48: RankWarning: Polyfit may be poorly conditioned\n",
      "  coeffs = np.polyfit(np.log(C), np.log(dists), 1)\n"
     ]
    },
    {
     "name": "stdout",
     "output_type": "stream",
     "text": [
      "419\n"
     ]
    },
    {
     "name": "stderr",
     "output_type": "stream",
     "text": [
      "C:\\Users\\juju-\\Desktop\\projetos\\mng\\notebooks\\..\\scripts\\MNGFeaturesFractal.py:48: RankWarning: Polyfit may be poorly conditioned\n",
      "  coeffs = np.polyfit(np.log(C), np.log(dists), 1)\n"
     ]
    },
    {
     "name": "stdout",
     "output_type": "stream",
     "text": [
      "420\n"
     ]
    },
    {
     "name": "stderr",
     "output_type": "stream",
     "text": [
      "C:\\Users\\juju-\\Desktop\\projetos\\mng\\notebooks\\..\\scripts\\MNGFeaturesFractal.py:48: RankWarning: Polyfit may be poorly conditioned\n",
      "  coeffs = np.polyfit(np.log(C), np.log(dists), 1)\n"
     ]
    },
    {
     "name": "stdout",
     "output_type": "stream",
     "text": [
      "421\n"
     ]
    },
    {
     "name": "stderr",
     "output_type": "stream",
     "text": [
      "C:\\Users\\juju-\\Desktop\\projetos\\mng\\notebooks\\..\\scripts\\MNGFeaturesFractal.py:48: RankWarning: Polyfit may be poorly conditioned\n",
      "  coeffs = np.polyfit(np.log(C), np.log(dists), 1)\n"
     ]
    },
    {
     "name": "stdout",
     "output_type": "stream",
     "text": [
      "422\n"
     ]
    },
    {
     "name": "stderr",
     "output_type": "stream",
     "text": [
      "C:\\Users\\juju-\\Desktop\\projetos\\mng\\notebooks\\..\\scripts\\MNGFeaturesFractal.py:48: RankWarning: Polyfit may be poorly conditioned\n",
      "  coeffs = np.polyfit(np.log(C), np.log(dists), 1)\n"
     ]
    },
    {
     "name": "stdout",
     "output_type": "stream",
     "text": [
      "423\n"
     ]
    },
    {
     "name": "stderr",
     "output_type": "stream",
     "text": [
      "C:\\Users\\juju-\\Desktop\\projetos\\mng\\notebooks\\..\\scripts\\MNGFeaturesFractal.py:48: RankWarning: Polyfit may be poorly conditioned\n",
      "  coeffs = np.polyfit(np.log(C), np.log(dists), 1)\n"
     ]
    },
    {
     "name": "stdout",
     "output_type": "stream",
     "text": [
      "424\n"
     ]
    },
    {
     "name": "stderr",
     "output_type": "stream",
     "text": [
      "C:\\Users\\juju-\\Desktop\\projetos\\mng\\notebooks\\..\\scripts\\MNGFeaturesFractal.py:48: RankWarning: Polyfit may be poorly conditioned\n",
      "  coeffs = np.polyfit(np.log(C), np.log(dists), 1)\n"
     ]
    },
    {
     "name": "stdout",
     "output_type": "stream",
     "text": [
      "425\n"
     ]
    },
    {
     "name": "stderr",
     "output_type": "stream",
     "text": [
      "C:\\Users\\juju-\\Desktop\\projetos\\mng\\notebooks\\..\\scripts\\MNGFeaturesFractal.py:48: RankWarning: Polyfit may be poorly conditioned\n",
      "  coeffs = np.polyfit(np.log(C), np.log(dists), 1)\n"
     ]
    },
    {
     "name": "stdout",
     "output_type": "stream",
     "text": [
      "426\n"
     ]
    },
    {
     "name": "stderr",
     "output_type": "stream",
     "text": [
      "C:\\Users\\juju-\\Desktop\\projetos\\mng\\notebooks\\..\\scripts\\MNGFeaturesFractal.py:48: RankWarning: Polyfit may be poorly conditioned\n",
      "  coeffs = np.polyfit(np.log(C), np.log(dists), 1)\n"
     ]
    },
    {
     "name": "stdout",
     "output_type": "stream",
     "text": [
      "427\n"
     ]
    },
    {
     "name": "stderr",
     "output_type": "stream",
     "text": [
      "C:\\Users\\juju-\\Desktop\\projetos\\mng\\notebooks\\..\\scripts\\MNGFeaturesFractal.py:48: RankWarning: Polyfit may be poorly conditioned\n",
      "  coeffs = np.polyfit(np.log(C), np.log(dists), 1)\n"
     ]
    },
    {
     "name": "stdout",
     "output_type": "stream",
     "text": [
      "428\n"
     ]
    },
    {
     "name": "stderr",
     "output_type": "stream",
     "text": [
      "C:\\Users\\juju-\\Desktop\\projetos\\mng\\notebooks\\..\\scripts\\MNGFeaturesFractal.py:48: RankWarning: Polyfit may be poorly conditioned\n",
      "  coeffs = np.polyfit(np.log(C), np.log(dists), 1)\n"
     ]
    },
    {
     "name": "stdout",
     "output_type": "stream",
     "text": [
      "429\n"
     ]
    },
    {
     "name": "stderr",
     "output_type": "stream",
     "text": [
      "C:\\Users\\juju-\\Desktop\\projetos\\mng\\notebooks\\..\\scripts\\MNGFeaturesFractal.py:48: RankWarning: Polyfit may be poorly conditioned\n",
      "  coeffs = np.polyfit(np.log(C), np.log(dists), 1)\n"
     ]
    },
    {
     "name": "stdout",
     "output_type": "stream",
     "text": [
      "430\n"
     ]
    },
    {
     "name": "stderr",
     "output_type": "stream",
     "text": [
      "C:\\Users\\juju-\\Desktop\\projetos\\mng\\notebooks\\..\\scripts\\MNGFeaturesFractal.py:48: RankWarning: Polyfit may be poorly conditioned\n",
      "  coeffs = np.polyfit(np.log(C), np.log(dists), 1)\n"
     ]
    },
    {
     "name": "stdout",
     "output_type": "stream",
     "text": [
      "431\n"
     ]
    },
    {
     "name": "stderr",
     "output_type": "stream",
     "text": [
      "C:\\Users\\juju-\\Desktop\\projetos\\mng\\notebooks\\..\\scripts\\MNGFeaturesFractal.py:48: RankWarning: Polyfit may be poorly conditioned\n",
      "  coeffs = np.polyfit(np.log(C), np.log(dists), 1)\n"
     ]
    },
    {
     "name": "stdout",
     "output_type": "stream",
     "text": [
      "432\n"
     ]
    },
    {
     "name": "stderr",
     "output_type": "stream",
     "text": [
      "C:\\Users\\juju-\\Desktop\\projetos\\mng\\notebooks\\..\\scripts\\MNGFeaturesFractal.py:48: RankWarning: Polyfit may be poorly conditioned\n",
      "  coeffs = np.polyfit(np.log(C), np.log(dists), 1)\n"
     ]
    },
    {
     "name": "stdout",
     "output_type": "stream",
     "text": [
      "433\n"
     ]
    },
    {
     "name": "stderr",
     "output_type": "stream",
     "text": [
      "C:\\Users\\juju-\\Desktop\\projetos\\mng\\notebooks\\..\\scripts\\MNGFeaturesFractal.py:48: RankWarning: Polyfit may be poorly conditioned\n",
      "  coeffs = np.polyfit(np.log(C), np.log(dists), 1)\n"
     ]
    },
    {
     "name": "stdout",
     "output_type": "stream",
     "text": [
      "434\n"
     ]
    },
    {
     "name": "stderr",
     "output_type": "stream",
     "text": [
      "C:\\Users\\juju-\\Desktop\\projetos\\mng\\notebooks\\..\\scripts\\MNGFeaturesFractal.py:48: RankWarning: Polyfit may be poorly conditioned\n",
      "  coeffs = np.polyfit(np.log(C), np.log(dists), 1)\n"
     ]
    },
    {
     "name": "stdout",
     "output_type": "stream",
     "text": [
      "435\n"
     ]
    },
    {
     "name": "stderr",
     "output_type": "stream",
     "text": [
      "C:\\Users\\juju-\\Desktop\\projetos\\mng\\notebooks\\..\\scripts\\MNGFeaturesFractal.py:48: RankWarning: Polyfit may be poorly conditioned\n",
      "  coeffs = np.polyfit(np.log(C), np.log(dists), 1)\n"
     ]
    },
    {
     "name": "stdout",
     "output_type": "stream",
     "text": [
      "436\n"
     ]
    },
    {
     "name": "stderr",
     "output_type": "stream",
     "text": [
      "C:\\Users\\juju-\\Desktop\\projetos\\mng\\notebooks\\..\\scripts\\MNGFeaturesFractal.py:48: RankWarning: Polyfit may be poorly conditioned\n",
      "  coeffs = np.polyfit(np.log(C), np.log(dists), 1)\n"
     ]
    },
    {
     "name": "stdout",
     "output_type": "stream",
     "text": [
      "437\n"
     ]
    },
    {
     "name": "stderr",
     "output_type": "stream",
     "text": [
      "C:\\Users\\juju-\\Desktop\\projetos\\mng\\notebooks\\..\\scripts\\MNGFeaturesFractal.py:48: RankWarning: Polyfit may be poorly conditioned\n",
      "  coeffs = np.polyfit(np.log(C), np.log(dists), 1)\n"
     ]
    },
    {
     "name": "stdout",
     "output_type": "stream",
     "text": [
      "438\n"
     ]
    },
    {
     "name": "stderr",
     "output_type": "stream",
     "text": [
      "C:\\Users\\juju-\\Desktop\\projetos\\mng\\notebooks\\..\\scripts\\MNGFeaturesFractal.py:48: RankWarning: Polyfit may be poorly conditioned\n",
      "  coeffs = np.polyfit(np.log(C), np.log(dists), 1)\n"
     ]
    },
    {
     "name": "stdout",
     "output_type": "stream",
     "text": [
      "439\n"
     ]
    },
    {
     "name": "stderr",
     "output_type": "stream",
     "text": [
      "C:\\Users\\juju-\\Desktop\\projetos\\mng\\notebooks\\..\\scripts\\MNGFeaturesFractal.py:48: RankWarning: Polyfit may be poorly conditioned\n",
      "  coeffs = np.polyfit(np.log(C), np.log(dists), 1)\n"
     ]
    },
    {
     "name": "stdout",
     "output_type": "stream",
     "text": [
      "440\n"
     ]
    },
    {
     "name": "stderr",
     "output_type": "stream",
     "text": [
      "C:\\Users\\juju-\\Desktop\\projetos\\mng\\notebooks\\..\\scripts\\MNGFeaturesFractal.py:48: RankWarning: Polyfit may be poorly conditioned\n",
      "  coeffs = np.polyfit(np.log(C), np.log(dists), 1)\n"
     ]
    },
    {
     "name": "stdout",
     "output_type": "stream",
     "text": [
      "441\n"
     ]
    },
    {
     "name": "stderr",
     "output_type": "stream",
     "text": [
      "C:\\Users\\juju-\\Desktop\\projetos\\mng\\notebooks\\..\\scripts\\MNGFeaturesFractal.py:48: RankWarning: Polyfit may be poorly conditioned\n",
      "  coeffs = np.polyfit(np.log(C), np.log(dists), 1)\n"
     ]
    },
    {
     "name": "stdout",
     "output_type": "stream",
     "text": [
      "442\n"
     ]
    },
    {
     "name": "stderr",
     "output_type": "stream",
     "text": [
      "C:\\Users\\juju-\\Desktop\\projetos\\mng\\notebooks\\..\\scripts\\MNGFeaturesFractal.py:48: RankWarning: Polyfit may be poorly conditioned\n",
      "  coeffs = np.polyfit(np.log(C), np.log(dists), 1)\n"
     ]
    },
    {
     "name": "stdout",
     "output_type": "stream",
     "text": [
      "443\n"
     ]
    },
    {
     "name": "stderr",
     "output_type": "stream",
     "text": [
      "C:\\Users\\juju-\\Desktop\\projetos\\mng\\notebooks\\..\\scripts\\MNGFeaturesFractal.py:48: RankWarning: Polyfit may be poorly conditioned\n",
      "  coeffs = np.polyfit(np.log(C), np.log(dists), 1)\n"
     ]
    },
    {
     "name": "stdout",
     "output_type": "stream",
     "text": [
      "444\n"
     ]
    },
    {
     "name": "stderr",
     "output_type": "stream",
     "text": [
      "C:\\Users\\juju-\\Desktop\\projetos\\mng\\notebooks\\..\\scripts\\MNGFeaturesFractal.py:48: RankWarning: Polyfit may be poorly conditioned\n",
      "  coeffs = np.polyfit(np.log(C), np.log(dists), 1)\n"
     ]
    },
    {
     "name": "stdout",
     "output_type": "stream",
     "text": [
      "445\n"
     ]
    },
    {
     "name": "stderr",
     "output_type": "stream",
     "text": [
      "C:\\Users\\juju-\\Desktop\\projetos\\mng\\notebooks\\..\\scripts\\MNGFeaturesFractal.py:48: RankWarning: Polyfit may be poorly conditioned\n",
      "  coeffs = np.polyfit(np.log(C), np.log(dists), 1)\n"
     ]
    },
    {
     "name": "stdout",
     "output_type": "stream",
     "text": [
      "446\n"
     ]
    },
    {
     "name": "stderr",
     "output_type": "stream",
     "text": [
      "C:\\Users\\juju-\\Desktop\\projetos\\mng\\notebooks\\..\\scripts\\MNGFeaturesFractal.py:48: RankWarning: Polyfit may be poorly conditioned\n",
      "  coeffs = np.polyfit(np.log(C), np.log(dists), 1)\n"
     ]
    },
    {
     "name": "stdout",
     "output_type": "stream",
     "text": [
      "447\n"
     ]
    },
    {
     "name": "stderr",
     "output_type": "stream",
     "text": [
      "C:\\Users\\juju-\\Desktop\\projetos\\mng\\notebooks\\..\\scripts\\MNGFeaturesFractal.py:48: RankWarning: Polyfit may be poorly conditioned\n",
      "  coeffs = np.polyfit(np.log(C), np.log(dists), 1)\n"
     ]
    },
    {
     "name": "stdout",
     "output_type": "stream",
     "text": [
      "448\n"
     ]
    },
    {
     "name": "stderr",
     "output_type": "stream",
     "text": [
      "C:\\Users\\juju-\\Desktop\\projetos\\mng\\notebooks\\..\\scripts\\MNGFeaturesFractal.py:48: RankWarning: Polyfit may be poorly conditioned\n",
      "  coeffs = np.polyfit(np.log(C), np.log(dists), 1)\n"
     ]
    },
    {
     "name": "stdout",
     "output_type": "stream",
     "text": [
      "449\n"
     ]
    },
    {
     "name": "stderr",
     "output_type": "stream",
     "text": [
      "C:\\Users\\juju-\\Desktop\\projetos\\mng\\notebooks\\..\\scripts\\MNGFeaturesFractal.py:48: RankWarning: Polyfit may be poorly conditioned\n",
      "  coeffs = np.polyfit(np.log(C), np.log(dists), 1)\n"
     ]
    },
    {
     "name": "stdout",
     "output_type": "stream",
     "text": [
      "450\n"
     ]
    },
    {
     "name": "stderr",
     "output_type": "stream",
     "text": [
      "C:\\Users\\juju-\\Desktop\\projetos\\mng\\notebooks\\..\\scripts\\MNGFeaturesFractal.py:48: RankWarning: Polyfit may be poorly conditioned\n",
      "  coeffs = np.polyfit(np.log(C), np.log(dists), 1)\n"
     ]
    },
    {
     "name": "stdout",
     "output_type": "stream",
     "text": [
      "451\n"
     ]
    },
    {
     "name": "stderr",
     "output_type": "stream",
     "text": [
      "C:\\Users\\juju-\\Desktop\\projetos\\mng\\notebooks\\..\\scripts\\MNGFeaturesFractal.py:48: RankWarning: Polyfit may be poorly conditioned\n",
      "  coeffs = np.polyfit(np.log(C), np.log(dists), 1)\n"
     ]
    },
    {
     "name": "stdout",
     "output_type": "stream",
     "text": [
      "452\n"
     ]
    },
    {
     "name": "stderr",
     "output_type": "stream",
     "text": [
      "C:\\Users\\juju-\\Desktop\\projetos\\mng\\notebooks\\..\\scripts\\MNGFeaturesFractal.py:48: RankWarning: Polyfit may be poorly conditioned\n",
      "  coeffs = np.polyfit(np.log(C), np.log(dists), 1)\n"
     ]
    },
    {
     "name": "stdout",
     "output_type": "stream",
     "text": [
      "453\n"
     ]
    },
    {
     "name": "stderr",
     "output_type": "stream",
     "text": [
      "C:\\Users\\juju-\\Desktop\\projetos\\mng\\notebooks\\..\\scripts\\MNGFeaturesFractal.py:48: RankWarning: Polyfit may be poorly conditioned\n",
      "  coeffs = np.polyfit(np.log(C), np.log(dists), 1)\n"
     ]
    },
    {
     "name": "stdout",
     "output_type": "stream",
     "text": [
      "454\n"
     ]
    },
    {
     "name": "stderr",
     "output_type": "stream",
     "text": [
      "C:\\Users\\juju-\\Desktop\\projetos\\mng\\notebooks\\..\\scripts\\MNGFeaturesFractal.py:48: RankWarning: Polyfit may be poorly conditioned\n",
      "  coeffs = np.polyfit(np.log(C), np.log(dists), 1)\n"
     ]
    },
    {
     "name": "stdout",
     "output_type": "stream",
     "text": [
      "455\n"
     ]
    },
    {
     "name": "stderr",
     "output_type": "stream",
     "text": [
      "C:\\Users\\juju-\\Desktop\\projetos\\mng\\notebooks\\..\\scripts\\MNGFeaturesFractal.py:48: RankWarning: Polyfit may be poorly conditioned\n",
      "  coeffs = np.polyfit(np.log(C), np.log(dists), 1)\n"
     ]
    },
    {
     "name": "stdout",
     "output_type": "stream",
     "text": [
      "456\n"
     ]
    },
    {
     "name": "stderr",
     "output_type": "stream",
     "text": [
      "C:\\Users\\juju-\\Desktop\\projetos\\mng\\notebooks\\..\\scripts\\MNGFeaturesFractal.py:48: RankWarning: Polyfit may be poorly conditioned\n",
      "  coeffs = np.polyfit(np.log(C), np.log(dists), 1)\n"
     ]
    },
    {
     "name": "stdout",
     "output_type": "stream",
     "text": [
      "457\n"
     ]
    },
    {
     "name": "stderr",
     "output_type": "stream",
     "text": [
      "C:\\Users\\juju-\\Desktop\\projetos\\mng\\notebooks\\..\\scripts\\MNGFeaturesFractal.py:48: RankWarning: Polyfit may be poorly conditioned\n",
      "  coeffs = np.polyfit(np.log(C), np.log(dists), 1)\n"
     ]
    },
    {
     "name": "stdout",
     "output_type": "stream",
     "text": [
      "458\n"
     ]
    },
    {
     "name": "stderr",
     "output_type": "stream",
     "text": [
      "C:\\Users\\juju-\\Desktop\\projetos\\mng\\notebooks\\..\\scripts\\MNGFeaturesFractal.py:48: RankWarning: Polyfit may be poorly conditioned\n",
      "  coeffs = np.polyfit(np.log(C), np.log(dists), 1)\n"
     ]
    },
    {
     "name": "stdout",
     "output_type": "stream",
     "text": [
      "459\n"
     ]
    },
    {
     "name": "stderr",
     "output_type": "stream",
     "text": [
      "C:\\Users\\juju-\\Desktop\\projetos\\mng\\notebooks\\..\\scripts\\MNGFeaturesFractal.py:48: RankWarning: Polyfit may be poorly conditioned\n",
      "  coeffs = np.polyfit(np.log(C), np.log(dists), 1)\n"
     ]
    },
    {
     "name": "stdout",
     "output_type": "stream",
     "text": [
      "460\n"
     ]
    },
    {
     "name": "stderr",
     "output_type": "stream",
     "text": [
      "C:\\Users\\juju-\\Desktop\\projetos\\mng\\notebooks\\..\\scripts\\MNGFeaturesFractal.py:48: RankWarning: Polyfit may be poorly conditioned\n",
      "  coeffs = np.polyfit(np.log(C), np.log(dists), 1)\n"
     ]
    },
    {
     "name": "stdout",
     "output_type": "stream",
     "text": [
      "461\n"
     ]
    },
    {
     "name": "stderr",
     "output_type": "stream",
     "text": [
      "C:\\Users\\juju-\\Desktop\\projetos\\mng\\notebooks\\..\\scripts\\MNGFeaturesFractal.py:48: RankWarning: Polyfit may be poorly conditioned\n",
      "  coeffs = np.polyfit(np.log(C), np.log(dists), 1)\n"
     ]
    },
    {
     "name": "stdout",
     "output_type": "stream",
     "text": [
      "462\n"
     ]
    },
    {
     "name": "stderr",
     "output_type": "stream",
     "text": [
      "C:\\Users\\juju-\\Desktop\\projetos\\mng\\notebooks\\..\\scripts\\MNGFeaturesFractal.py:48: RankWarning: Polyfit may be poorly conditioned\n",
      "  coeffs = np.polyfit(np.log(C), np.log(dists), 1)\n"
     ]
    },
    {
     "name": "stdout",
     "output_type": "stream",
     "text": [
      "463\n"
     ]
    },
    {
     "name": "stderr",
     "output_type": "stream",
     "text": [
      "C:\\Users\\juju-\\Desktop\\projetos\\mng\\notebooks\\..\\scripts\\MNGFeaturesFractal.py:48: RankWarning: Polyfit may be poorly conditioned\n",
      "  coeffs = np.polyfit(np.log(C), np.log(dists), 1)\n"
     ]
    },
    {
     "name": "stdout",
     "output_type": "stream",
     "text": [
      "464\n"
     ]
    },
    {
     "name": "stderr",
     "output_type": "stream",
     "text": [
      "C:\\Users\\juju-\\Desktop\\projetos\\mng\\notebooks\\..\\scripts\\MNGFeaturesFractal.py:48: RankWarning: Polyfit may be poorly conditioned\n",
      "  coeffs = np.polyfit(np.log(C), np.log(dists), 1)\n"
     ]
    },
    {
     "name": "stdout",
     "output_type": "stream",
     "text": [
      "465\n"
     ]
    },
    {
     "name": "stderr",
     "output_type": "stream",
     "text": [
      "C:\\Users\\juju-\\Desktop\\projetos\\mng\\notebooks\\..\\scripts\\MNGFeaturesFractal.py:48: RankWarning: Polyfit may be poorly conditioned\n",
      "  coeffs = np.polyfit(np.log(C), np.log(dists), 1)\n"
     ]
    },
    {
     "name": "stdout",
     "output_type": "stream",
     "text": [
      "466\n"
     ]
    },
    {
     "name": "stderr",
     "output_type": "stream",
     "text": [
      "C:\\Users\\juju-\\Desktop\\projetos\\mng\\notebooks\\..\\scripts\\MNGFeaturesFractal.py:48: RankWarning: Polyfit may be poorly conditioned\n",
      "  coeffs = np.polyfit(np.log(C), np.log(dists), 1)\n"
     ]
    },
    {
     "name": "stdout",
     "output_type": "stream",
     "text": [
      "467\n"
     ]
    },
    {
     "name": "stderr",
     "output_type": "stream",
     "text": [
      "C:\\Users\\juju-\\Desktop\\projetos\\mng\\notebooks\\..\\scripts\\MNGFeaturesFractal.py:48: RankWarning: Polyfit may be poorly conditioned\n",
      "  coeffs = np.polyfit(np.log(C), np.log(dists), 1)\n"
     ]
    },
    {
     "name": "stdout",
     "output_type": "stream",
     "text": [
      "468\n"
     ]
    },
    {
     "name": "stderr",
     "output_type": "stream",
     "text": [
      "C:\\Users\\juju-\\Desktop\\projetos\\mng\\notebooks\\..\\scripts\\MNGFeaturesFractal.py:48: RankWarning: Polyfit may be poorly conditioned\n",
      "  coeffs = np.polyfit(np.log(C), np.log(dists), 1)\n"
     ]
    },
    {
     "name": "stdout",
     "output_type": "stream",
     "text": [
      "469\n"
     ]
    },
    {
     "name": "stderr",
     "output_type": "stream",
     "text": [
      "C:\\Users\\juju-\\Desktop\\projetos\\mng\\notebooks\\..\\scripts\\MNGFeaturesFractal.py:48: RankWarning: Polyfit may be poorly conditioned\n",
      "  coeffs = np.polyfit(np.log(C), np.log(dists), 1)\n"
     ]
    },
    {
     "name": "stdout",
     "output_type": "stream",
     "text": [
      "470\n"
     ]
    },
    {
     "name": "stderr",
     "output_type": "stream",
     "text": [
      "C:\\Users\\juju-\\Desktop\\projetos\\mng\\notebooks\\..\\scripts\\MNGFeaturesFractal.py:48: RankWarning: Polyfit may be poorly conditioned\n",
      "  coeffs = np.polyfit(np.log(C), np.log(dists), 1)\n"
     ]
    },
    {
     "name": "stdout",
     "output_type": "stream",
     "text": [
      "471\n"
     ]
    },
    {
     "name": "stderr",
     "output_type": "stream",
     "text": [
      "C:\\Users\\juju-\\Desktop\\projetos\\mng\\notebooks\\..\\scripts\\MNGFeaturesFractal.py:48: RankWarning: Polyfit may be poorly conditioned\n",
      "  coeffs = np.polyfit(np.log(C), np.log(dists), 1)\n"
     ]
    },
    {
     "name": "stdout",
     "output_type": "stream",
     "text": [
      "472\n"
     ]
    },
    {
     "name": "stderr",
     "output_type": "stream",
     "text": [
      "C:\\Users\\juju-\\Desktop\\projetos\\mng\\notebooks\\..\\scripts\\MNGFeaturesFractal.py:48: RankWarning: Polyfit may be poorly conditioned\n",
      "  coeffs = np.polyfit(np.log(C), np.log(dists), 1)\n"
     ]
    },
    {
     "name": "stdout",
     "output_type": "stream",
     "text": [
      "473\n"
     ]
    },
    {
     "name": "stderr",
     "output_type": "stream",
     "text": [
      "C:\\Users\\juju-\\Desktop\\projetos\\mng\\notebooks\\..\\scripts\\MNGFeaturesFractal.py:48: RankWarning: Polyfit may be poorly conditioned\n",
      "  coeffs = np.polyfit(np.log(C), np.log(dists), 1)\n"
     ]
    },
    {
     "name": "stdout",
     "output_type": "stream",
     "text": [
      "474\n"
     ]
    },
    {
     "name": "stderr",
     "output_type": "stream",
     "text": [
      "C:\\Users\\juju-\\Desktop\\projetos\\mng\\notebooks\\..\\scripts\\MNGFeaturesFractal.py:48: RankWarning: Polyfit may be poorly conditioned\n",
      "  coeffs = np.polyfit(np.log(C), np.log(dists), 1)\n"
     ]
    },
    {
     "name": "stdout",
     "output_type": "stream",
     "text": [
      "475\n"
     ]
    },
    {
     "name": "stderr",
     "output_type": "stream",
     "text": [
      "C:\\Users\\juju-\\Desktop\\projetos\\mng\\notebooks\\..\\scripts\\MNGFeaturesFractal.py:48: RankWarning: Polyfit may be poorly conditioned\n",
      "  coeffs = np.polyfit(np.log(C), np.log(dists), 1)\n"
     ]
    },
    {
     "name": "stdout",
     "output_type": "stream",
     "text": [
      "476\n"
     ]
    },
    {
     "name": "stderr",
     "output_type": "stream",
     "text": [
      "C:\\Users\\juju-\\Desktop\\projetos\\mng\\notebooks\\..\\scripts\\MNGFeaturesFractal.py:48: RankWarning: Polyfit may be poorly conditioned\n",
      "  coeffs = np.polyfit(np.log(C), np.log(dists), 1)\n"
     ]
    },
    {
     "name": "stdout",
     "output_type": "stream",
     "text": [
      "477\n"
     ]
    },
    {
     "name": "stderr",
     "output_type": "stream",
     "text": [
      "C:\\Users\\juju-\\Desktop\\projetos\\mng\\notebooks\\..\\scripts\\MNGFeaturesFractal.py:48: RankWarning: Polyfit may be poorly conditioned\n",
      "  coeffs = np.polyfit(np.log(C), np.log(dists), 1)\n"
     ]
    },
    {
     "name": "stdout",
     "output_type": "stream",
     "text": [
      "478\n"
     ]
    },
    {
     "name": "stderr",
     "output_type": "stream",
     "text": [
      "C:\\Users\\juju-\\Desktop\\projetos\\mng\\notebooks\\..\\scripts\\MNGFeaturesFractal.py:48: RankWarning: Polyfit may be poorly conditioned\n",
      "  coeffs = np.polyfit(np.log(C), np.log(dists), 1)\n"
     ]
    },
    {
     "name": "stdout",
     "output_type": "stream",
     "text": [
      "479\n"
     ]
    },
    {
     "name": "stderr",
     "output_type": "stream",
     "text": [
      "C:\\Users\\juju-\\Desktop\\projetos\\mng\\notebooks\\..\\scripts\\MNGFeaturesFractal.py:48: RankWarning: Polyfit may be poorly conditioned\n",
      "  coeffs = np.polyfit(np.log(C), np.log(dists), 1)\n"
     ]
    },
    {
     "name": "stdout",
     "output_type": "stream",
     "text": [
      "480\n"
     ]
    },
    {
     "name": "stderr",
     "output_type": "stream",
     "text": [
      "C:\\Users\\juju-\\Desktop\\projetos\\mng\\notebooks\\..\\scripts\\MNGFeaturesFractal.py:48: RankWarning: Polyfit may be poorly conditioned\n",
      "  coeffs = np.polyfit(np.log(C), np.log(dists), 1)\n"
     ]
    },
    {
     "name": "stdout",
     "output_type": "stream",
     "text": [
      "481\n"
     ]
    },
    {
     "name": "stderr",
     "output_type": "stream",
     "text": [
      "C:\\Users\\juju-\\Desktop\\projetos\\mng\\notebooks\\..\\scripts\\MNGFeaturesFractal.py:48: RankWarning: Polyfit may be poorly conditioned\n",
      "  coeffs = np.polyfit(np.log(C), np.log(dists), 1)\n"
     ]
    },
    {
     "name": "stdout",
     "output_type": "stream",
     "text": [
      "482\n"
     ]
    },
    {
     "name": "stderr",
     "output_type": "stream",
     "text": [
      "C:\\Users\\juju-\\Desktop\\projetos\\mng\\notebooks\\..\\scripts\\MNGFeaturesFractal.py:48: RankWarning: Polyfit may be poorly conditioned\n",
      "  coeffs = np.polyfit(np.log(C), np.log(dists), 1)\n"
     ]
    },
    {
     "name": "stdout",
     "output_type": "stream",
     "text": [
      "483\n",
      "484\n"
     ]
    },
    {
     "name": "stderr",
     "output_type": "stream",
     "text": [
      "C:\\Users\\juju-\\Desktop\\projetos\\mng\\notebooks\\..\\scripts\\MNGFeaturesFractal.py:48: RankWarning: Polyfit may be poorly conditioned\n",
      "  coeffs = np.polyfit(np.log(C), np.log(dists), 1)\n",
      "C:\\Users\\juju-\\Desktop\\projetos\\mng\\notebooks\\..\\scripts\\MNGFeaturesFractal.py:48: RankWarning: Polyfit may be poorly conditioned\n",
      "  coeffs = np.polyfit(np.log(C), np.log(dists), 1)\n"
     ]
    },
    {
     "name": "stdout",
     "output_type": "stream",
     "text": [
      "485\n"
     ]
    },
    {
     "name": "stderr",
     "output_type": "stream",
     "text": [
      "C:\\Users\\juju-\\Desktop\\projetos\\mng\\notebooks\\..\\scripts\\MNGFeaturesFractal.py:48: RankWarning: Polyfit may be poorly conditioned\n",
      "  coeffs = np.polyfit(np.log(C), np.log(dists), 1)\n"
     ]
    },
    {
     "name": "stdout",
     "output_type": "stream",
     "text": [
      "486\n"
     ]
    },
    {
     "name": "stderr",
     "output_type": "stream",
     "text": [
      "C:\\Users\\juju-\\Desktop\\projetos\\mng\\notebooks\\..\\scripts\\MNGFeaturesFractal.py:48: RankWarning: Polyfit may be poorly conditioned\n",
      "  coeffs = np.polyfit(np.log(C), np.log(dists), 1)\n"
     ]
    },
    {
     "name": "stdout",
     "output_type": "stream",
     "text": [
      "487\n"
     ]
    },
    {
     "name": "stderr",
     "output_type": "stream",
     "text": [
      "C:\\Users\\juju-\\Desktop\\projetos\\mng\\notebooks\\..\\scripts\\MNGFeaturesFractal.py:48: RankWarning: Polyfit may be poorly conditioned\n",
      "  coeffs = np.polyfit(np.log(C), np.log(dists), 1)\n"
     ]
    },
    {
     "name": "stdout",
     "output_type": "stream",
     "text": [
      "488\n"
     ]
    },
    {
     "name": "stderr",
     "output_type": "stream",
     "text": [
      "C:\\Users\\juju-\\Desktop\\projetos\\mng\\notebooks\\..\\scripts\\MNGFeaturesFractal.py:48: RankWarning: Polyfit may be poorly conditioned\n",
      "  coeffs = np.polyfit(np.log(C), np.log(dists), 1)\n"
     ]
    },
    {
     "name": "stdout",
     "output_type": "stream",
     "text": [
      "489\n"
     ]
    },
    {
     "name": "stderr",
     "output_type": "stream",
     "text": [
      "C:\\Users\\juju-\\Desktop\\projetos\\mng\\notebooks\\..\\scripts\\MNGFeaturesFractal.py:48: RankWarning: Polyfit may be poorly conditioned\n",
      "  coeffs = np.polyfit(np.log(C), np.log(dists), 1)\n"
     ]
    },
    {
     "name": "stdout",
     "output_type": "stream",
     "text": [
      "490\n"
     ]
    },
    {
     "name": "stderr",
     "output_type": "stream",
     "text": [
      "C:\\Users\\juju-\\Desktop\\projetos\\mng\\notebooks\\..\\scripts\\MNGFeaturesFractal.py:48: RankWarning: Polyfit may be poorly conditioned\n",
      "  coeffs = np.polyfit(np.log(C), np.log(dists), 1)\n"
     ]
    },
    {
     "name": "stdout",
     "output_type": "stream",
     "text": [
      "491\n"
     ]
    },
    {
     "name": "stderr",
     "output_type": "stream",
     "text": [
      "C:\\Users\\juju-\\Desktop\\projetos\\mng\\notebooks\\..\\scripts\\MNGFeaturesFractal.py:48: RankWarning: Polyfit may be poorly conditioned\n",
      "  coeffs = np.polyfit(np.log(C), np.log(dists), 1)\n"
     ]
    },
    {
     "name": "stdout",
     "output_type": "stream",
     "text": [
      "492\n"
     ]
    },
    {
     "name": "stderr",
     "output_type": "stream",
     "text": [
      "C:\\Users\\juju-\\Desktop\\projetos\\mng\\notebooks\\..\\scripts\\MNGFeaturesFractal.py:48: RankWarning: Polyfit may be poorly conditioned\n",
      "  coeffs = np.polyfit(np.log(C), np.log(dists), 1)\n"
     ]
    },
    {
     "name": "stdout",
     "output_type": "stream",
     "text": [
      "493\n"
     ]
    },
    {
     "name": "stderr",
     "output_type": "stream",
     "text": [
      "C:\\Users\\juju-\\Desktop\\projetos\\mng\\notebooks\\..\\scripts\\MNGFeaturesFractal.py:48: RankWarning: Polyfit may be poorly conditioned\n",
      "  coeffs = np.polyfit(np.log(C), np.log(dists), 1)\n"
     ]
    },
    {
     "name": "stdout",
     "output_type": "stream",
     "text": [
      "494\n"
     ]
    },
    {
     "name": "stderr",
     "output_type": "stream",
     "text": [
      "C:\\Users\\juju-\\Desktop\\projetos\\mng\\notebooks\\..\\scripts\\MNGFeaturesFractal.py:48: RankWarning: Polyfit may be poorly conditioned\n",
      "  coeffs = np.polyfit(np.log(C), np.log(dists), 1)\n"
     ]
    },
    {
     "name": "stdout",
     "output_type": "stream",
     "text": [
      "495\n"
     ]
    },
    {
     "name": "stderr",
     "output_type": "stream",
     "text": [
      "C:\\Users\\juju-\\Desktop\\projetos\\mng\\notebooks\\..\\scripts\\MNGFeaturesFractal.py:48: RankWarning: Polyfit may be poorly conditioned\n",
      "  coeffs = np.polyfit(np.log(C), np.log(dists), 1)\n"
     ]
    },
    {
     "name": "stdout",
     "output_type": "stream",
     "text": [
      "496\n"
     ]
    },
    {
     "name": "stderr",
     "output_type": "stream",
     "text": [
      "C:\\Users\\juju-\\Desktop\\projetos\\mng\\notebooks\\..\\scripts\\MNGFeaturesFractal.py:48: RankWarning: Polyfit may be poorly conditioned\n",
      "  coeffs = np.polyfit(np.log(C), np.log(dists), 1)\n"
     ]
    },
    {
     "name": "stdout",
     "output_type": "stream",
     "text": [
      "497\n"
     ]
    },
    {
     "name": "stderr",
     "output_type": "stream",
     "text": [
      "C:\\Users\\juju-\\Desktop\\projetos\\mng\\notebooks\\..\\scripts\\MNGFeaturesFractal.py:48: RankWarning: Polyfit may be poorly conditioned\n",
      "  coeffs = np.polyfit(np.log(C), np.log(dists), 1)\n"
     ]
    },
    {
     "name": "stdout",
     "output_type": "stream",
     "text": [
      "498\n"
     ]
    },
    {
     "name": "stderr",
     "output_type": "stream",
     "text": [
      "C:\\Users\\juju-\\Desktop\\projetos\\mng\\notebooks\\..\\scripts\\MNGFeaturesFractal.py:48: RankWarning: Polyfit may be poorly conditioned\n",
      "  coeffs = np.polyfit(np.log(C), np.log(dists), 1)\n"
     ]
    },
    {
     "name": "stdout",
     "output_type": "stream",
     "text": [
      "499\n"
     ]
    },
    {
     "name": "stderr",
     "output_type": "stream",
     "text": [
      "C:\\Users\\juju-\\Desktop\\projetos\\mng\\notebooks\\..\\scripts\\MNGFeaturesFractal.py:48: RankWarning: Polyfit may be poorly conditioned\n",
      "  coeffs = np.polyfit(np.log(C), np.log(dists), 1)\n"
     ]
    },
    {
     "name": "stdout",
     "output_type": "stream",
     "text": [
      "500\n"
     ]
    },
    {
     "name": "stderr",
     "output_type": "stream",
     "text": [
      "C:\\Users\\juju-\\Desktop\\projetos\\mng\\notebooks\\..\\scripts\\MNGFeaturesFractal.py:48: RankWarning: Polyfit may be poorly conditioned\n",
      "  coeffs = np.polyfit(np.log(C), np.log(dists), 1)\n"
     ]
    },
    {
     "name": "stdout",
     "output_type": "stream",
     "text": [
      "501\n"
     ]
    },
    {
     "name": "stderr",
     "output_type": "stream",
     "text": [
      "C:\\Users\\juju-\\Desktop\\projetos\\mng\\notebooks\\..\\scripts\\MNGFeaturesFractal.py:48: RankWarning: Polyfit may be poorly conditioned\n",
      "  coeffs = np.polyfit(np.log(C), np.log(dists), 1)\n"
     ]
    },
    {
     "name": "stdout",
     "output_type": "stream",
     "text": [
      "502\n"
     ]
    },
    {
     "name": "stderr",
     "output_type": "stream",
     "text": [
      "C:\\Users\\juju-\\Desktop\\projetos\\mng\\notebooks\\..\\scripts\\MNGFeaturesFractal.py:48: RankWarning: Polyfit may be poorly conditioned\n",
      "  coeffs = np.polyfit(np.log(C), np.log(dists), 1)\n"
     ]
    },
    {
     "name": "stdout",
     "output_type": "stream",
     "text": [
      "503\n"
     ]
    },
    {
     "name": "stderr",
     "output_type": "stream",
     "text": [
      "C:\\Users\\juju-\\Desktop\\projetos\\mng\\notebooks\\..\\scripts\\MNGFeaturesFractal.py:48: RankWarning: Polyfit may be poorly conditioned\n",
      "  coeffs = np.polyfit(np.log(C), np.log(dists), 1)\n"
     ]
    },
    {
     "name": "stdout",
     "output_type": "stream",
     "text": [
      "504\n"
     ]
    },
    {
     "name": "stderr",
     "output_type": "stream",
     "text": [
      "C:\\Users\\juju-\\Desktop\\projetos\\mng\\notebooks\\..\\scripts\\MNGFeaturesFractal.py:48: RankWarning: Polyfit may be poorly conditioned\n",
      "  coeffs = np.polyfit(np.log(C), np.log(dists), 1)\n"
     ]
    },
    {
     "name": "stdout",
     "output_type": "stream",
     "text": [
      "505\n"
     ]
    },
    {
     "name": "stderr",
     "output_type": "stream",
     "text": [
      "C:\\Users\\juju-\\Desktop\\projetos\\mng\\notebooks\\..\\scripts\\MNGFeaturesFractal.py:48: RankWarning: Polyfit may be poorly conditioned\n",
      "  coeffs = np.polyfit(np.log(C), np.log(dists), 1)\n"
     ]
    },
    {
     "name": "stdout",
     "output_type": "stream",
     "text": [
      "506\n"
     ]
    },
    {
     "name": "stderr",
     "output_type": "stream",
     "text": [
      "C:\\Users\\juju-\\Desktop\\projetos\\mng\\notebooks\\..\\scripts\\MNGFeaturesFractal.py:48: RankWarning: Polyfit may be poorly conditioned\n",
      "  coeffs = np.polyfit(np.log(C), np.log(dists), 1)\n"
     ]
    },
    {
     "name": "stdout",
     "output_type": "stream",
     "text": [
      "507\n"
     ]
    },
    {
     "name": "stderr",
     "output_type": "stream",
     "text": [
      "C:\\Users\\juju-\\Desktop\\projetos\\mng\\notebooks\\..\\scripts\\MNGFeaturesFractal.py:48: RankWarning: Polyfit may be poorly conditioned\n",
      "  coeffs = np.polyfit(np.log(C), np.log(dists), 1)\n"
     ]
    },
    {
     "name": "stdout",
     "output_type": "stream",
     "text": [
      "508\n"
     ]
    },
    {
     "name": "stderr",
     "output_type": "stream",
     "text": [
      "C:\\Users\\juju-\\Desktop\\projetos\\mng\\notebooks\\..\\scripts\\MNGFeaturesFractal.py:48: RankWarning: Polyfit may be poorly conditioned\n",
      "  coeffs = np.polyfit(np.log(C), np.log(dists), 1)\n"
     ]
    },
    {
     "name": "stdout",
     "output_type": "stream",
     "text": [
      "509\n"
     ]
    },
    {
     "name": "stderr",
     "output_type": "stream",
     "text": [
      "C:\\Users\\juju-\\Desktop\\projetos\\mng\\notebooks\\..\\scripts\\MNGFeaturesFractal.py:48: RankWarning: Polyfit may be poorly conditioned\n",
      "  coeffs = np.polyfit(np.log(C), np.log(dists), 1)\n"
     ]
    },
    {
     "name": "stdout",
     "output_type": "stream",
     "text": [
      "510\n"
     ]
    },
    {
     "name": "stderr",
     "output_type": "stream",
     "text": [
      "C:\\Users\\juju-\\Desktop\\projetos\\mng\\notebooks\\..\\scripts\\MNGFeaturesFractal.py:48: RankWarning: Polyfit may be poorly conditioned\n",
      "  coeffs = np.polyfit(np.log(C), np.log(dists), 1)\n"
     ]
    },
    {
     "name": "stdout",
     "output_type": "stream",
     "text": [
      "511\n"
     ]
    },
    {
     "name": "stderr",
     "output_type": "stream",
     "text": [
      "C:\\Users\\juju-\\Desktop\\projetos\\mng\\notebooks\\..\\scripts\\MNGFeaturesFractal.py:48: RankWarning: Polyfit may be poorly conditioned\n",
      "  coeffs = np.polyfit(np.log(C), np.log(dists), 1)\n"
     ]
    },
    {
     "name": "stdout",
     "output_type": "stream",
     "text": [
      "512\n"
     ]
    },
    {
     "name": "stderr",
     "output_type": "stream",
     "text": [
      "C:\\Users\\juju-\\Desktop\\projetos\\mng\\notebooks\\..\\scripts\\MNGFeaturesFractal.py:48: RankWarning: Polyfit may be poorly conditioned\n",
      "  coeffs = np.polyfit(np.log(C), np.log(dists), 1)\n"
     ]
    },
    {
     "name": "stdout",
     "output_type": "stream",
     "text": [
      "513\n"
     ]
    },
    {
     "name": "stderr",
     "output_type": "stream",
     "text": [
      "C:\\Users\\juju-\\Desktop\\projetos\\mng\\notebooks\\..\\scripts\\MNGFeaturesFractal.py:48: RankWarning: Polyfit may be poorly conditioned\n",
      "  coeffs = np.polyfit(np.log(C), np.log(dists), 1)\n"
     ]
    },
    {
     "name": "stdout",
     "output_type": "stream",
     "text": [
      "514\n"
     ]
    },
    {
     "name": "stderr",
     "output_type": "stream",
     "text": [
      "C:\\Users\\juju-\\Desktop\\projetos\\mng\\notebooks\\..\\scripts\\MNGFeaturesFractal.py:48: RankWarning: Polyfit may be poorly conditioned\n",
      "  coeffs = np.polyfit(np.log(C), np.log(dists), 1)\n"
     ]
    },
    {
     "name": "stdout",
     "output_type": "stream",
     "text": [
      "515\n"
     ]
    },
    {
     "name": "stderr",
     "output_type": "stream",
     "text": [
      "C:\\Users\\juju-\\Desktop\\projetos\\mng\\notebooks\\..\\scripts\\MNGFeaturesFractal.py:48: RankWarning: Polyfit may be poorly conditioned\n",
      "  coeffs = np.polyfit(np.log(C), np.log(dists), 1)\n"
     ]
    },
    {
     "name": "stdout",
     "output_type": "stream",
     "text": [
      "516\n"
     ]
    },
    {
     "name": "stderr",
     "output_type": "stream",
     "text": [
      "C:\\Users\\juju-\\Desktop\\projetos\\mng\\notebooks\\..\\scripts\\MNGFeaturesFractal.py:48: RankWarning: Polyfit may be poorly conditioned\n",
      "  coeffs = np.polyfit(np.log(C), np.log(dists), 1)\n"
     ]
    },
    {
     "name": "stdout",
     "output_type": "stream",
     "text": [
      "517\n"
     ]
    },
    {
     "name": "stderr",
     "output_type": "stream",
     "text": [
      "C:\\Users\\juju-\\Desktop\\projetos\\mng\\notebooks\\..\\scripts\\MNGFeaturesFractal.py:48: RankWarning: Polyfit may be poorly conditioned\n",
      "  coeffs = np.polyfit(np.log(C), np.log(dists), 1)\n"
     ]
    },
    {
     "name": "stdout",
     "output_type": "stream",
     "text": [
      "518\n"
     ]
    },
    {
     "name": "stderr",
     "output_type": "stream",
     "text": [
      "C:\\Users\\juju-\\Desktop\\projetos\\mng\\notebooks\\..\\scripts\\MNGFeaturesFractal.py:48: RankWarning: Polyfit may be poorly conditioned\n",
      "  coeffs = np.polyfit(np.log(C), np.log(dists), 1)\n"
     ]
    },
    {
     "name": "stdout",
     "output_type": "stream",
     "text": [
      "519\n"
     ]
    },
    {
     "name": "stderr",
     "output_type": "stream",
     "text": [
      "C:\\Users\\juju-\\Desktop\\projetos\\mng\\notebooks\\..\\scripts\\MNGFeaturesFractal.py:48: RankWarning: Polyfit may be poorly conditioned\n",
      "  coeffs = np.polyfit(np.log(C), np.log(dists), 1)\n"
     ]
    },
    {
     "name": "stdout",
     "output_type": "stream",
     "text": [
      "520\n"
     ]
    },
    {
     "name": "stderr",
     "output_type": "stream",
     "text": [
      "C:\\Users\\juju-\\Desktop\\projetos\\mng\\notebooks\\..\\scripts\\MNGFeaturesFractal.py:48: RankWarning: Polyfit may be poorly conditioned\n",
      "  coeffs = np.polyfit(np.log(C), np.log(dists), 1)\n"
     ]
    },
    {
     "name": "stdout",
     "output_type": "stream",
     "text": [
      "521\n"
     ]
    },
    {
     "name": "stderr",
     "output_type": "stream",
     "text": [
      "C:\\Users\\juju-\\Desktop\\projetos\\mng\\notebooks\\..\\scripts\\MNGFeaturesFractal.py:48: RankWarning: Polyfit may be poorly conditioned\n",
      "  coeffs = np.polyfit(np.log(C), np.log(dists), 1)\n"
     ]
    },
    {
     "name": "stdout",
     "output_type": "stream",
     "text": [
      "522\n"
     ]
    },
    {
     "name": "stderr",
     "output_type": "stream",
     "text": [
      "C:\\Users\\juju-\\Desktop\\projetos\\mng\\notebooks\\..\\scripts\\MNGFeaturesFractal.py:48: RankWarning: Polyfit may be poorly conditioned\n",
      "  coeffs = np.polyfit(np.log(C), np.log(dists), 1)\n"
     ]
    },
    {
     "name": "stdout",
     "output_type": "stream",
     "text": [
      "523\n"
     ]
    },
    {
     "name": "stderr",
     "output_type": "stream",
     "text": [
      "C:\\Users\\juju-\\Desktop\\projetos\\mng\\notebooks\\..\\scripts\\MNGFeaturesFractal.py:48: RankWarning: Polyfit may be poorly conditioned\n",
      "  coeffs = np.polyfit(np.log(C), np.log(dists), 1)\n"
     ]
    },
    {
     "name": "stdout",
     "output_type": "stream",
     "text": [
      "524\n"
     ]
    },
    {
     "name": "stderr",
     "output_type": "stream",
     "text": [
      "C:\\Users\\juju-\\Desktop\\projetos\\mng\\notebooks\\..\\scripts\\MNGFeaturesFractal.py:48: RankWarning: Polyfit may be poorly conditioned\n",
      "  coeffs = np.polyfit(np.log(C), np.log(dists), 1)\n"
     ]
    },
    {
     "name": "stdout",
     "output_type": "stream",
     "text": [
      "525\n"
     ]
    },
    {
     "name": "stderr",
     "output_type": "stream",
     "text": [
      "C:\\Users\\juju-\\Desktop\\projetos\\mng\\notebooks\\..\\scripts\\MNGFeaturesFractal.py:48: RankWarning: Polyfit may be poorly conditioned\n",
      "  coeffs = np.polyfit(np.log(C), np.log(dists), 1)\n"
     ]
    },
    {
     "name": "stdout",
     "output_type": "stream",
     "text": [
      "526\n"
     ]
    },
    {
     "name": "stderr",
     "output_type": "stream",
     "text": [
      "C:\\Users\\juju-\\Desktop\\projetos\\mng\\notebooks\\..\\scripts\\MNGFeaturesFractal.py:48: RankWarning: Polyfit may be poorly conditioned\n",
      "  coeffs = np.polyfit(np.log(C), np.log(dists), 1)\n"
     ]
    },
    {
     "name": "stdout",
     "output_type": "stream",
     "text": [
      "527\n"
     ]
    },
    {
     "name": "stderr",
     "output_type": "stream",
     "text": [
      "C:\\Users\\juju-\\Desktop\\projetos\\mng\\notebooks\\..\\scripts\\MNGFeaturesFractal.py:48: RankWarning: Polyfit may be poorly conditioned\n",
      "  coeffs = np.polyfit(np.log(C), np.log(dists), 1)\n"
     ]
    },
    {
     "name": "stdout",
     "output_type": "stream",
     "text": [
      "528\n"
     ]
    },
    {
     "name": "stderr",
     "output_type": "stream",
     "text": [
      "C:\\Users\\juju-\\Desktop\\projetos\\mng\\notebooks\\..\\scripts\\MNGFeaturesFractal.py:48: RankWarning: Polyfit may be poorly conditioned\n",
      "  coeffs = np.polyfit(np.log(C), np.log(dists), 1)\n"
     ]
    },
    {
     "name": "stdout",
     "output_type": "stream",
     "text": [
      "529\n",
      "530\n"
     ]
    },
    {
     "name": "stderr",
     "output_type": "stream",
     "text": [
      "C:\\Users\\juju-\\Desktop\\projetos\\mng\\notebooks\\..\\scripts\\MNGFeaturesFractal.py:48: RankWarning: Polyfit may be poorly conditioned\n",
      "  coeffs = np.polyfit(np.log(C), np.log(dists), 1)\n",
      "C:\\Users\\juju-\\Desktop\\projetos\\mng\\notebooks\\..\\scripts\\MNGFeaturesFractal.py:48: RankWarning: Polyfit may be poorly conditioned\n",
      "  coeffs = np.polyfit(np.log(C), np.log(dists), 1)\n"
     ]
    },
    {
     "name": "stdout",
     "output_type": "stream",
     "text": [
      "531\n"
     ]
    },
    {
     "name": "stderr",
     "output_type": "stream",
     "text": [
      "C:\\Users\\juju-\\Desktop\\projetos\\mng\\notebooks\\..\\scripts\\MNGFeaturesFractal.py:48: RankWarning: Polyfit may be poorly conditioned\n",
      "  coeffs = np.polyfit(np.log(C), np.log(dists), 1)\n"
     ]
    },
    {
     "name": "stdout",
     "output_type": "stream",
     "text": [
      "532\n"
     ]
    },
    {
     "name": "stderr",
     "output_type": "stream",
     "text": [
      "C:\\Users\\juju-\\Desktop\\projetos\\mng\\notebooks\\..\\scripts\\MNGFeaturesFractal.py:48: RankWarning: Polyfit may be poorly conditioned\n",
      "  coeffs = np.polyfit(np.log(C), np.log(dists), 1)\n"
     ]
    },
    {
     "name": "stdout",
     "output_type": "stream",
     "text": [
      "533\n",
      "534\n"
     ]
    },
    {
     "name": "stderr",
     "output_type": "stream",
     "text": [
      "C:\\Users\\juju-\\Desktop\\projetos\\mng\\notebooks\\..\\scripts\\MNGFeaturesFractal.py:48: RankWarning: Polyfit may be poorly conditioned\n",
      "  coeffs = np.polyfit(np.log(C), np.log(dists), 1)\n",
      "C:\\Users\\juju-\\Desktop\\projetos\\mng\\notebooks\\..\\scripts\\MNGFeaturesFractal.py:48: RankWarning: Polyfit may be poorly conditioned\n",
      "  coeffs = np.polyfit(np.log(C), np.log(dists), 1)\n"
     ]
    },
    {
     "name": "stdout",
     "output_type": "stream",
     "text": [
      "535\n"
     ]
    },
    {
     "name": "stderr",
     "output_type": "stream",
     "text": [
      "C:\\Users\\juju-\\Desktop\\projetos\\mng\\notebooks\\..\\scripts\\MNGFeaturesFractal.py:48: RankWarning: Polyfit may be poorly conditioned\n",
      "  coeffs = np.polyfit(np.log(C), np.log(dists), 1)\n"
     ]
    },
    {
     "name": "stdout",
     "output_type": "stream",
     "text": [
      "536\n"
     ]
    },
    {
     "name": "stderr",
     "output_type": "stream",
     "text": [
      "C:\\Users\\juju-\\Desktop\\projetos\\mng\\notebooks\\..\\scripts\\MNGFeaturesFractal.py:48: RankWarning: Polyfit may be poorly conditioned\n",
      "  coeffs = np.polyfit(np.log(C), np.log(dists), 1)\n"
     ]
    },
    {
     "name": "stdout",
     "output_type": "stream",
     "text": [
      "537\n"
     ]
    },
    {
     "name": "stderr",
     "output_type": "stream",
     "text": [
      "C:\\Users\\juju-\\Desktop\\projetos\\mng\\notebooks\\..\\scripts\\MNGFeaturesFractal.py:48: RankWarning: Polyfit may be poorly conditioned\n",
      "  coeffs = np.polyfit(np.log(C), np.log(dists), 1)\n"
     ]
    },
    {
     "name": "stdout",
     "output_type": "stream",
     "text": [
      "538\n"
     ]
    },
    {
     "name": "stderr",
     "output_type": "stream",
     "text": [
      "C:\\Users\\juju-\\Desktop\\projetos\\mng\\notebooks\\..\\scripts\\MNGFeaturesFractal.py:48: RankWarning: Polyfit may be poorly conditioned\n",
      "  coeffs = np.polyfit(np.log(C), np.log(dists), 1)\n"
     ]
    },
    {
     "name": "stdout",
     "output_type": "stream",
     "text": [
      "539\n"
     ]
    },
    {
     "name": "stderr",
     "output_type": "stream",
     "text": [
      "C:\\Users\\juju-\\Desktop\\projetos\\mng\\notebooks\\..\\scripts\\MNGFeaturesFractal.py:48: RankWarning: Polyfit may be poorly conditioned\n",
      "  coeffs = np.polyfit(np.log(C), np.log(dists), 1)\n"
     ]
    },
    {
     "name": "stdout",
     "output_type": "stream",
     "text": [
      "540\n"
     ]
    },
    {
     "name": "stderr",
     "output_type": "stream",
     "text": [
      "C:\\Users\\juju-\\Desktop\\projetos\\mng\\notebooks\\..\\scripts\\MNGFeaturesFractal.py:48: RankWarning: Polyfit may be poorly conditioned\n",
      "  coeffs = np.polyfit(np.log(C), np.log(dists), 1)\n"
     ]
    },
    {
     "name": "stdout",
     "output_type": "stream",
     "text": [
      "541\n"
     ]
    },
    {
     "name": "stderr",
     "output_type": "stream",
     "text": [
      "C:\\Users\\juju-\\Desktop\\projetos\\mng\\notebooks\\..\\scripts\\MNGFeaturesFractal.py:48: RankWarning: Polyfit may be poorly conditioned\n",
      "  coeffs = np.polyfit(np.log(C), np.log(dists), 1)\n"
     ]
    },
    {
     "name": "stdout",
     "output_type": "stream",
     "text": [
      "542\n"
     ]
    },
    {
     "name": "stderr",
     "output_type": "stream",
     "text": [
      "C:\\Users\\juju-\\Desktop\\projetos\\mng\\notebooks\\..\\scripts\\MNGFeaturesFractal.py:48: RankWarning: Polyfit may be poorly conditioned\n",
      "  coeffs = np.polyfit(np.log(C), np.log(dists), 1)\n"
     ]
    },
    {
     "name": "stdout",
     "output_type": "stream",
     "text": [
      "543\n"
     ]
    },
    {
     "name": "stderr",
     "output_type": "stream",
     "text": [
      "C:\\Users\\juju-\\Desktop\\projetos\\mng\\notebooks\\..\\scripts\\MNGFeaturesFractal.py:48: RankWarning: Polyfit may be poorly conditioned\n",
      "  coeffs = np.polyfit(np.log(C), np.log(dists), 1)\n"
     ]
    },
    {
     "name": "stdout",
     "output_type": "stream",
     "text": [
      "544\n"
     ]
    },
    {
     "name": "stderr",
     "output_type": "stream",
     "text": [
      "C:\\Users\\juju-\\Desktop\\projetos\\mng\\notebooks\\..\\scripts\\MNGFeaturesFractal.py:48: RankWarning: Polyfit may be poorly conditioned\n",
      "  coeffs = np.polyfit(np.log(C), np.log(dists), 1)\n"
     ]
    },
    {
     "name": "stdout",
     "output_type": "stream",
     "text": [
      "545\n"
     ]
    },
    {
     "name": "stderr",
     "output_type": "stream",
     "text": [
      "C:\\Users\\juju-\\Desktop\\projetos\\mng\\notebooks\\..\\scripts\\MNGFeaturesFractal.py:48: RankWarning: Polyfit may be poorly conditioned\n",
      "  coeffs = np.polyfit(np.log(C), np.log(dists), 1)\n"
     ]
    },
    {
     "name": "stdout",
     "output_type": "stream",
     "text": [
      "546\n"
     ]
    },
    {
     "name": "stderr",
     "output_type": "stream",
     "text": [
      "C:\\Users\\juju-\\Desktop\\projetos\\mng\\notebooks\\..\\scripts\\MNGFeaturesFractal.py:48: RankWarning: Polyfit may be poorly conditioned\n",
      "  coeffs = np.polyfit(np.log(C), np.log(dists), 1)\n"
     ]
    },
    {
     "name": "stdout",
     "output_type": "stream",
     "text": [
      "547\n"
     ]
    },
    {
     "name": "stderr",
     "output_type": "stream",
     "text": [
      "C:\\Users\\juju-\\Desktop\\projetos\\mng\\notebooks\\..\\scripts\\MNGFeaturesFractal.py:48: RankWarning: Polyfit may be poorly conditioned\n",
      "  coeffs = np.polyfit(np.log(C), np.log(dists), 1)\n"
     ]
    },
    {
     "name": "stdout",
     "output_type": "stream",
     "text": [
      "548\n"
     ]
    },
    {
     "name": "stderr",
     "output_type": "stream",
     "text": [
      "C:\\Users\\juju-\\Desktop\\projetos\\mng\\notebooks\\..\\scripts\\MNGFeaturesFractal.py:48: RankWarning: Polyfit may be poorly conditioned\n",
      "  coeffs = np.polyfit(np.log(C), np.log(dists), 1)\n"
     ]
    },
    {
     "name": "stdout",
     "output_type": "stream",
     "text": [
      "549\n"
     ]
    },
    {
     "name": "stderr",
     "output_type": "stream",
     "text": [
      "C:\\Users\\juju-\\Desktop\\projetos\\mng\\notebooks\\..\\scripts\\MNGFeaturesFractal.py:48: RankWarning: Polyfit may be poorly conditioned\n",
      "  coeffs = np.polyfit(np.log(C), np.log(dists), 1)\n"
     ]
    },
    {
     "name": "stdout",
     "output_type": "stream",
     "text": [
      "550\n"
     ]
    },
    {
     "name": "stderr",
     "output_type": "stream",
     "text": [
      "C:\\Users\\juju-\\Desktop\\projetos\\mng\\notebooks\\..\\scripts\\MNGFeaturesFractal.py:48: RankWarning: Polyfit may be poorly conditioned\n",
      "  coeffs = np.polyfit(np.log(C), np.log(dists), 1)\n"
     ]
    },
    {
     "name": "stdout",
     "output_type": "stream",
     "text": [
      "551\n"
     ]
    },
    {
     "name": "stderr",
     "output_type": "stream",
     "text": [
      "C:\\Users\\juju-\\Desktop\\projetos\\mng\\notebooks\\..\\scripts\\MNGFeaturesFractal.py:48: RankWarning: Polyfit may be poorly conditioned\n",
      "  coeffs = np.polyfit(np.log(C), np.log(dists), 1)\n"
     ]
    },
    {
     "name": "stdout",
     "output_type": "stream",
     "text": [
      "552\n"
     ]
    },
    {
     "name": "stderr",
     "output_type": "stream",
     "text": [
      "C:\\Users\\juju-\\Desktop\\projetos\\mng\\notebooks\\..\\scripts\\MNGFeaturesFractal.py:48: RankWarning: Polyfit may be poorly conditioned\n",
      "  coeffs = np.polyfit(np.log(C), np.log(dists), 1)\n"
     ]
    },
    {
     "name": "stdout",
     "output_type": "stream",
     "text": [
      "553\n"
     ]
    },
    {
     "name": "stderr",
     "output_type": "stream",
     "text": [
      "C:\\Users\\juju-\\Desktop\\projetos\\mng\\notebooks\\..\\scripts\\MNGFeaturesFractal.py:48: RankWarning: Polyfit may be poorly conditioned\n",
      "  coeffs = np.polyfit(np.log(C), np.log(dists), 1)\n"
     ]
    },
    {
     "name": "stdout",
     "output_type": "stream",
     "text": [
      "554\n"
     ]
    },
    {
     "name": "stderr",
     "output_type": "stream",
     "text": [
      "C:\\Users\\juju-\\Desktop\\projetos\\mng\\notebooks\\..\\scripts\\MNGFeaturesFractal.py:48: RankWarning: Polyfit may be poorly conditioned\n",
      "  coeffs = np.polyfit(np.log(C), np.log(dists), 1)\n"
     ]
    },
    {
     "name": "stdout",
     "output_type": "stream",
     "text": [
      "555\n"
     ]
    },
    {
     "name": "stderr",
     "output_type": "stream",
     "text": [
      "C:\\Users\\juju-\\Desktop\\projetos\\mng\\notebooks\\..\\scripts\\MNGFeaturesFractal.py:48: RankWarning: Polyfit may be poorly conditioned\n",
      "  coeffs = np.polyfit(np.log(C), np.log(dists), 1)\n"
     ]
    },
    {
     "name": "stdout",
     "output_type": "stream",
     "text": [
      "556\n"
     ]
    },
    {
     "name": "stderr",
     "output_type": "stream",
     "text": [
      "C:\\Users\\juju-\\Desktop\\projetos\\mng\\notebooks\\..\\scripts\\MNGFeaturesFractal.py:48: RankWarning: Polyfit may be poorly conditioned\n",
      "  coeffs = np.polyfit(np.log(C), np.log(dists), 1)\n"
     ]
    },
    {
     "name": "stdout",
     "output_type": "stream",
     "text": [
      "557\n"
     ]
    },
    {
     "name": "stderr",
     "output_type": "stream",
     "text": [
      "C:\\Users\\juju-\\Desktop\\projetos\\mng\\notebooks\\..\\scripts\\MNGFeaturesFractal.py:48: RankWarning: Polyfit may be poorly conditioned\n",
      "  coeffs = np.polyfit(np.log(C), np.log(dists), 1)\n"
     ]
    },
    {
     "name": "stdout",
     "output_type": "stream",
     "text": [
      "558\n"
     ]
    },
    {
     "name": "stderr",
     "output_type": "stream",
     "text": [
      "C:\\Users\\juju-\\Desktop\\projetos\\mng\\notebooks\\..\\scripts\\MNGFeaturesFractal.py:48: RankWarning: Polyfit may be poorly conditioned\n",
      "  coeffs = np.polyfit(np.log(C), np.log(dists), 1)\n"
     ]
    },
    {
     "name": "stdout",
     "output_type": "stream",
     "text": [
      "559\n"
     ]
    },
    {
     "name": "stderr",
     "output_type": "stream",
     "text": [
      "C:\\Users\\juju-\\Desktop\\projetos\\mng\\notebooks\\..\\scripts\\MNGFeaturesFractal.py:48: RankWarning: Polyfit may be poorly conditioned\n",
      "  coeffs = np.polyfit(np.log(C), np.log(dists), 1)\n"
     ]
    },
    {
     "name": "stdout",
     "output_type": "stream",
     "text": [
      "560\n"
     ]
    },
    {
     "name": "stderr",
     "output_type": "stream",
     "text": [
      "C:\\Users\\juju-\\Desktop\\projetos\\mng\\notebooks\\..\\scripts\\MNGFeaturesFractal.py:48: RankWarning: Polyfit may be poorly conditioned\n",
      "  coeffs = np.polyfit(np.log(C), np.log(dists), 1)\n"
     ]
    },
    {
     "name": "stdout",
     "output_type": "stream",
     "text": [
      "561\n"
     ]
    },
    {
     "name": "stderr",
     "output_type": "stream",
     "text": [
      "C:\\Users\\juju-\\Desktop\\projetos\\mng\\notebooks\\..\\scripts\\MNGFeaturesFractal.py:48: RankWarning: Polyfit may be poorly conditioned\n",
      "  coeffs = np.polyfit(np.log(C), np.log(dists), 1)\n"
     ]
    },
    {
     "name": "stdout",
     "output_type": "stream",
     "text": [
      "562\n"
     ]
    },
    {
     "name": "stderr",
     "output_type": "stream",
     "text": [
      "C:\\Users\\juju-\\Desktop\\projetos\\mng\\notebooks\\..\\scripts\\MNGFeaturesFractal.py:48: RankWarning: Polyfit may be poorly conditioned\n",
      "  coeffs = np.polyfit(np.log(C), np.log(dists), 1)\n"
     ]
    },
    {
     "name": "stdout",
     "output_type": "stream",
     "text": [
      "563\n"
     ]
    },
    {
     "name": "stderr",
     "output_type": "stream",
     "text": [
      "C:\\Users\\juju-\\Desktop\\projetos\\mng\\notebooks\\..\\scripts\\MNGFeaturesFractal.py:48: RankWarning: Polyfit may be poorly conditioned\n",
      "  coeffs = np.polyfit(np.log(C), np.log(dists), 1)\n"
     ]
    },
    {
     "name": "stdout",
     "output_type": "stream",
     "text": [
      "564\n"
     ]
    },
    {
     "name": "stderr",
     "output_type": "stream",
     "text": [
      "C:\\Users\\juju-\\Desktop\\projetos\\mng\\notebooks\\..\\scripts\\MNGFeaturesFractal.py:48: RankWarning: Polyfit may be poorly conditioned\n",
      "  coeffs = np.polyfit(np.log(C), np.log(dists), 1)\n"
     ]
    },
    {
     "name": "stdout",
     "output_type": "stream",
     "text": [
      "565\n"
     ]
    },
    {
     "name": "stderr",
     "output_type": "stream",
     "text": [
      "C:\\Users\\juju-\\Desktop\\projetos\\mng\\notebooks\\..\\scripts\\MNGFeaturesFractal.py:48: RankWarning: Polyfit may be poorly conditioned\n",
      "  coeffs = np.polyfit(np.log(C), np.log(dists), 1)\n"
     ]
    },
    {
     "name": "stdout",
     "output_type": "stream",
     "text": [
      "566\n"
     ]
    },
    {
     "name": "stderr",
     "output_type": "stream",
     "text": [
      "C:\\Users\\juju-\\Desktop\\projetos\\mng\\notebooks\\..\\scripts\\MNGFeaturesFractal.py:48: RankWarning: Polyfit may be poorly conditioned\n",
      "  coeffs = np.polyfit(np.log(C), np.log(dists), 1)\n"
     ]
    },
    {
     "name": "stdout",
     "output_type": "stream",
     "text": [
      "567\n"
     ]
    },
    {
     "name": "stderr",
     "output_type": "stream",
     "text": [
      "C:\\Users\\juju-\\Desktop\\projetos\\mng\\notebooks\\..\\scripts\\MNGFeaturesFractal.py:48: RankWarning: Polyfit may be poorly conditioned\n",
      "  coeffs = np.polyfit(np.log(C), np.log(dists), 1)\n"
     ]
    },
    {
     "name": "stdout",
     "output_type": "stream",
     "text": [
      "568\n"
     ]
    },
    {
     "name": "stderr",
     "output_type": "stream",
     "text": [
      "C:\\Users\\juju-\\Desktop\\projetos\\mng\\notebooks\\..\\scripts\\MNGFeaturesFractal.py:48: RankWarning: Polyfit may be poorly conditioned\n",
      "  coeffs = np.polyfit(np.log(C), np.log(dists), 1)\n"
     ]
    },
    {
     "name": "stdout",
     "output_type": "stream",
     "text": [
      "569\n"
     ]
    },
    {
     "name": "stderr",
     "output_type": "stream",
     "text": [
      "C:\\Users\\juju-\\Desktop\\projetos\\mng\\notebooks\\..\\scripts\\MNGFeaturesFractal.py:48: RankWarning: Polyfit may be poorly conditioned\n",
      "  coeffs = np.polyfit(np.log(C), np.log(dists), 1)\n"
     ]
    },
    {
     "name": "stdout",
     "output_type": "stream",
     "text": [
      "570\n"
     ]
    },
    {
     "name": "stderr",
     "output_type": "stream",
     "text": [
      "C:\\Users\\juju-\\Desktop\\projetos\\mng\\notebooks\\..\\scripts\\MNGFeaturesFractal.py:48: RankWarning: Polyfit may be poorly conditioned\n",
      "  coeffs = np.polyfit(np.log(C), np.log(dists), 1)\n"
     ]
    },
    {
     "name": "stdout",
     "output_type": "stream",
     "text": [
      "571\n"
     ]
    },
    {
     "name": "stderr",
     "output_type": "stream",
     "text": [
      "C:\\Users\\juju-\\Desktop\\projetos\\mng\\notebooks\\..\\scripts\\MNGFeaturesFractal.py:48: RankWarning: Polyfit may be poorly conditioned\n",
      "  coeffs = np.polyfit(np.log(C), np.log(dists), 1)\n"
     ]
    },
    {
     "name": "stdout",
     "output_type": "stream",
     "text": [
      "572\n"
     ]
    },
    {
     "name": "stderr",
     "output_type": "stream",
     "text": [
      "C:\\Users\\juju-\\Desktop\\projetos\\mng\\notebooks\\..\\scripts\\MNGFeaturesFractal.py:48: RankWarning: Polyfit may be poorly conditioned\n",
      "  coeffs = np.polyfit(np.log(C), np.log(dists), 1)\n"
     ]
    },
    {
     "name": "stdout",
     "output_type": "stream",
     "text": [
      "573\n"
     ]
    },
    {
     "name": "stderr",
     "output_type": "stream",
     "text": [
      "C:\\Users\\juju-\\Desktop\\projetos\\mng\\notebooks\\..\\scripts\\MNGFeaturesFractal.py:48: RankWarning: Polyfit may be poorly conditioned\n",
      "  coeffs = np.polyfit(np.log(C), np.log(dists), 1)\n"
     ]
    },
    {
     "name": "stdout",
     "output_type": "stream",
     "text": [
      "574\n"
     ]
    },
    {
     "name": "stderr",
     "output_type": "stream",
     "text": [
      "C:\\Users\\juju-\\Desktop\\projetos\\mng\\notebooks\\..\\scripts\\MNGFeaturesFractal.py:48: RankWarning: Polyfit may be poorly conditioned\n",
      "  coeffs = np.polyfit(np.log(C), np.log(dists), 1)\n"
     ]
    },
    {
     "name": "stdout",
     "output_type": "stream",
     "text": [
      "575\n"
     ]
    },
    {
     "name": "stderr",
     "output_type": "stream",
     "text": [
      "C:\\Users\\juju-\\Desktop\\projetos\\mng\\notebooks\\..\\scripts\\MNGFeaturesFractal.py:48: RankWarning: Polyfit may be poorly conditioned\n",
      "  coeffs = np.polyfit(np.log(C), np.log(dists), 1)\n"
     ]
    },
    {
     "name": "stdout",
     "output_type": "stream",
     "text": [
      "576\n"
     ]
    },
    {
     "name": "stderr",
     "output_type": "stream",
     "text": [
      "C:\\Users\\juju-\\Desktop\\projetos\\mng\\notebooks\\..\\scripts\\MNGFeaturesFractal.py:48: RankWarning: Polyfit may be poorly conditioned\n",
      "  coeffs = np.polyfit(np.log(C), np.log(dists), 1)\n"
     ]
    },
    {
     "name": "stdout",
     "output_type": "stream",
     "text": [
      "577\n"
     ]
    },
    {
     "name": "stderr",
     "output_type": "stream",
     "text": [
      "C:\\Users\\juju-\\Desktop\\projetos\\mng\\notebooks\\..\\scripts\\MNGFeaturesFractal.py:48: RankWarning: Polyfit may be poorly conditioned\n",
      "  coeffs = np.polyfit(np.log(C), np.log(dists), 1)\n"
     ]
    },
    {
     "name": "stdout",
     "output_type": "stream",
     "text": [
      "578\n"
     ]
    },
    {
     "name": "stderr",
     "output_type": "stream",
     "text": [
      "C:\\Users\\juju-\\Desktop\\projetos\\mng\\notebooks\\..\\scripts\\MNGFeaturesFractal.py:48: RankWarning: Polyfit may be poorly conditioned\n",
      "  coeffs = np.polyfit(np.log(C), np.log(dists), 1)\n"
     ]
    },
    {
     "name": "stdout",
     "output_type": "stream",
     "text": [
      "579\n"
     ]
    },
    {
     "name": "stderr",
     "output_type": "stream",
     "text": [
      "C:\\Users\\juju-\\Desktop\\projetos\\mng\\notebooks\\..\\scripts\\MNGFeaturesFractal.py:48: RankWarning: Polyfit may be poorly conditioned\n",
      "  coeffs = np.polyfit(np.log(C), np.log(dists), 1)\n"
     ]
    },
    {
     "name": "stdout",
     "output_type": "stream",
     "text": [
      "580\n"
     ]
    },
    {
     "name": "stderr",
     "output_type": "stream",
     "text": [
      "C:\\Users\\juju-\\Desktop\\projetos\\mng\\notebooks\\..\\scripts\\MNGFeaturesFractal.py:48: RankWarning: Polyfit may be poorly conditioned\n",
      "  coeffs = np.polyfit(np.log(C), np.log(dists), 1)\n"
     ]
    },
    {
     "name": "stdout",
     "output_type": "stream",
     "text": [
      "581\n"
     ]
    },
    {
     "name": "stderr",
     "output_type": "stream",
     "text": [
      "C:\\Users\\juju-\\Desktop\\projetos\\mng\\notebooks\\..\\scripts\\MNGFeaturesFractal.py:48: RankWarning: Polyfit may be poorly conditioned\n",
      "  coeffs = np.polyfit(np.log(C), np.log(dists), 1)\n"
     ]
    },
    {
     "name": "stdout",
     "output_type": "stream",
     "text": [
      "582\n"
     ]
    },
    {
     "name": "stderr",
     "output_type": "stream",
     "text": [
      "C:\\Users\\juju-\\Desktop\\projetos\\mng\\notebooks\\..\\scripts\\MNGFeaturesFractal.py:48: RankWarning: Polyfit may be poorly conditioned\n",
      "  coeffs = np.polyfit(np.log(C), np.log(dists), 1)\n"
     ]
    },
    {
     "name": "stdout",
     "output_type": "stream",
     "text": [
      "583\n"
     ]
    },
    {
     "name": "stderr",
     "output_type": "stream",
     "text": [
      "C:\\Users\\juju-\\Desktop\\projetos\\mng\\notebooks\\..\\scripts\\MNGFeaturesFractal.py:48: RankWarning: Polyfit may be poorly conditioned\n",
      "  coeffs = np.polyfit(np.log(C), np.log(dists), 1)\n"
     ]
    },
    {
     "name": "stdout",
     "output_type": "stream",
     "text": [
      "584\n"
     ]
    },
    {
     "name": "stderr",
     "output_type": "stream",
     "text": [
      "C:\\Users\\juju-\\Desktop\\projetos\\mng\\notebooks\\..\\scripts\\MNGFeaturesFractal.py:48: RankWarning: Polyfit may be poorly conditioned\n",
      "  coeffs = np.polyfit(np.log(C), np.log(dists), 1)\n"
     ]
    },
    {
     "name": "stdout",
     "output_type": "stream",
     "text": [
      "585\n"
     ]
    },
    {
     "name": "stderr",
     "output_type": "stream",
     "text": [
      "C:\\Users\\juju-\\Desktop\\projetos\\mng\\notebooks\\..\\scripts\\MNGFeaturesFractal.py:48: RankWarning: Polyfit may be poorly conditioned\n",
      "  coeffs = np.polyfit(np.log(C), np.log(dists), 1)\n"
     ]
    },
    {
     "name": "stdout",
     "output_type": "stream",
     "text": [
      "586\n"
     ]
    },
    {
     "name": "stderr",
     "output_type": "stream",
     "text": [
      "C:\\Users\\juju-\\Desktop\\projetos\\mng\\notebooks\\..\\scripts\\MNGFeaturesFractal.py:48: RankWarning: Polyfit may be poorly conditioned\n",
      "  coeffs = np.polyfit(np.log(C), np.log(dists), 1)\n"
     ]
    },
    {
     "name": "stdout",
     "output_type": "stream",
     "text": [
      "587\n"
     ]
    },
    {
     "name": "stderr",
     "output_type": "stream",
     "text": [
      "C:\\Users\\juju-\\Desktop\\projetos\\mng\\notebooks\\..\\scripts\\MNGFeaturesFractal.py:48: RankWarning: Polyfit may be poorly conditioned\n",
      "  coeffs = np.polyfit(np.log(C), np.log(dists), 1)\n"
     ]
    },
    {
     "name": "stdout",
     "output_type": "stream",
     "text": [
      "588\n"
     ]
    },
    {
     "name": "stderr",
     "output_type": "stream",
     "text": [
      "C:\\Users\\juju-\\Desktop\\projetos\\mng\\notebooks\\..\\scripts\\MNGFeaturesFractal.py:48: RankWarning: Polyfit may be poorly conditioned\n",
      "  coeffs = np.polyfit(np.log(C), np.log(dists), 1)\n"
     ]
    },
    {
     "name": "stdout",
     "output_type": "stream",
     "text": [
      "589\n"
     ]
    },
    {
     "name": "stderr",
     "output_type": "stream",
     "text": [
      "C:\\Users\\juju-\\Desktop\\projetos\\mng\\notebooks\\..\\scripts\\MNGFeaturesFractal.py:48: RankWarning: Polyfit may be poorly conditioned\n",
      "  coeffs = np.polyfit(np.log(C), np.log(dists), 1)\n"
     ]
    },
    {
     "name": "stdout",
     "output_type": "stream",
     "text": [
      "590\n"
     ]
    },
    {
     "name": "stderr",
     "output_type": "stream",
     "text": [
      "C:\\Users\\juju-\\Desktop\\projetos\\mng\\notebooks\\..\\scripts\\MNGFeaturesFractal.py:48: RankWarning: Polyfit may be poorly conditioned\n",
      "  coeffs = np.polyfit(np.log(C), np.log(dists), 1)\n"
     ]
    },
    {
     "name": "stdout",
     "output_type": "stream",
     "text": [
      "591\n"
     ]
    },
    {
     "name": "stderr",
     "output_type": "stream",
     "text": [
      "C:\\Users\\juju-\\Desktop\\projetos\\mng\\notebooks\\..\\scripts\\MNGFeaturesFractal.py:48: RankWarning: Polyfit may be poorly conditioned\n",
      "  coeffs = np.polyfit(np.log(C), np.log(dists), 1)\n"
     ]
    },
    {
     "name": "stdout",
     "output_type": "stream",
     "text": [
      "592\n"
     ]
    },
    {
     "name": "stderr",
     "output_type": "stream",
     "text": [
      "C:\\Users\\juju-\\Desktop\\projetos\\mng\\notebooks\\..\\scripts\\MNGFeaturesFractal.py:48: RankWarning: Polyfit may be poorly conditioned\n",
      "  coeffs = np.polyfit(np.log(C), np.log(dists), 1)\n"
     ]
    },
    {
     "name": "stdout",
     "output_type": "stream",
     "text": [
      "593\n"
     ]
    },
    {
     "name": "stderr",
     "output_type": "stream",
     "text": [
      "C:\\Users\\juju-\\Desktop\\projetos\\mng\\notebooks\\..\\scripts\\MNGFeaturesFractal.py:48: RankWarning: Polyfit may be poorly conditioned\n",
      "  coeffs = np.polyfit(np.log(C), np.log(dists), 1)\n"
     ]
    },
    {
     "name": "stdout",
     "output_type": "stream",
     "text": [
      "594\n"
     ]
    },
    {
     "name": "stderr",
     "output_type": "stream",
     "text": [
      "C:\\Users\\juju-\\Desktop\\projetos\\mng\\notebooks\\..\\scripts\\MNGFeaturesFractal.py:48: RankWarning: Polyfit may be poorly conditioned\n",
      "  coeffs = np.polyfit(np.log(C), np.log(dists), 1)\n"
     ]
    },
    {
     "name": "stdout",
     "output_type": "stream",
     "text": [
      "595\n"
     ]
    },
    {
     "name": "stderr",
     "output_type": "stream",
     "text": [
      "C:\\Users\\juju-\\Desktop\\projetos\\mng\\notebooks\\..\\scripts\\MNGFeaturesFractal.py:48: RankWarning: Polyfit may be poorly conditioned\n",
      "  coeffs = np.polyfit(np.log(C), np.log(dists), 1)\n"
     ]
    },
    {
     "name": "stdout",
     "output_type": "stream",
     "text": [
      "596\n"
     ]
    },
    {
     "name": "stderr",
     "output_type": "stream",
     "text": [
      "C:\\Users\\juju-\\Desktop\\projetos\\mng\\notebooks\\..\\scripts\\MNGFeaturesFractal.py:48: RankWarning: Polyfit may be poorly conditioned\n",
      "  coeffs = np.polyfit(np.log(C), np.log(dists), 1)\n"
     ]
    },
    {
     "name": "stdout",
     "output_type": "stream",
     "text": [
      "597\n"
     ]
    },
    {
     "name": "stderr",
     "output_type": "stream",
     "text": [
      "C:\\Users\\juju-\\Desktop\\projetos\\mng\\notebooks\\..\\scripts\\MNGFeaturesFractal.py:48: RankWarning: Polyfit may be poorly conditioned\n",
      "  coeffs = np.polyfit(np.log(C), np.log(dists), 1)\n"
     ]
    },
    {
     "name": "stdout",
     "output_type": "stream",
     "text": [
      "598\n"
     ]
    },
    {
     "name": "stderr",
     "output_type": "stream",
     "text": [
      "C:\\Users\\juju-\\Desktop\\projetos\\mng\\notebooks\\..\\scripts\\MNGFeaturesFractal.py:48: RankWarning: Polyfit may be poorly conditioned\n",
      "  coeffs = np.polyfit(np.log(C), np.log(dists), 1)\n"
     ]
    },
    {
     "name": "stdout",
     "output_type": "stream",
     "text": [
      "599\n"
     ]
    },
    {
     "name": "stderr",
     "output_type": "stream",
     "text": [
      "C:\\Users\\juju-\\Desktop\\projetos\\mng\\notebooks\\..\\scripts\\MNGFeaturesFractal.py:48: RankWarning: Polyfit may be poorly conditioned\n",
      "  coeffs = np.polyfit(np.log(C), np.log(dists), 1)\n"
     ]
    },
    {
     "name": "stdout",
     "output_type": "stream",
     "text": [
      "600\n"
     ]
    },
    {
     "name": "stderr",
     "output_type": "stream",
     "text": [
      "C:\\Users\\juju-\\Desktop\\projetos\\mng\\notebooks\\..\\scripts\\MNGFeaturesFractal.py:48: RankWarning: Polyfit may be poorly conditioned\n",
      "  coeffs = np.polyfit(np.log(C), np.log(dists), 1)\n"
     ]
    },
    {
     "name": "stdout",
     "output_type": "stream",
     "text": [
      "601\n"
     ]
    },
    {
     "name": "stderr",
     "output_type": "stream",
     "text": [
      "C:\\Users\\juju-\\Desktop\\projetos\\mng\\notebooks\\..\\scripts\\MNGFeaturesFractal.py:48: RankWarning: Polyfit may be poorly conditioned\n",
      "  coeffs = np.polyfit(np.log(C), np.log(dists), 1)\n"
     ]
    },
    {
     "name": "stdout",
     "output_type": "stream",
     "text": [
      "602\n"
     ]
    },
    {
     "name": "stderr",
     "output_type": "stream",
     "text": [
      "C:\\Users\\juju-\\Desktop\\projetos\\mng\\notebooks\\..\\scripts\\MNGFeaturesFractal.py:48: RankWarning: Polyfit may be poorly conditioned\n",
      "  coeffs = np.polyfit(np.log(C), np.log(dists), 1)\n"
     ]
    },
    {
     "name": "stdout",
     "output_type": "stream",
     "text": [
      "603\n"
     ]
    },
    {
     "name": "stderr",
     "output_type": "stream",
     "text": [
      "C:\\Users\\juju-\\Desktop\\projetos\\mng\\notebooks\\..\\scripts\\MNGFeaturesFractal.py:48: RankWarning: Polyfit may be poorly conditioned\n",
      "  coeffs = np.polyfit(np.log(C), np.log(dists), 1)\n"
     ]
    },
    {
     "name": "stdout",
     "output_type": "stream",
     "text": [
      "604\n"
     ]
    },
    {
     "name": "stderr",
     "output_type": "stream",
     "text": [
      "C:\\Users\\juju-\\Desktop\\projetos\\mng\\notebooks\\..\\scripts\\MNGFeaturesFractal.py:48: RankWarning: Polyfit may be poorly conditioned\n",
      "  coeffs = np.polyfit(np.log(C), np.log(dists), 1)\n"
     ]
    },
    {
     "name": "stdout",
     "output_type": "stream",
     "text": [
      "605\n"
     ]
    },
    {
     "name": "stderr",
     "output_type": "stream",
     "text": [
      "C:\\Users\\juju-\\Desktop\\projetos\\mng\\notebooks\\..\\scripts\\MNGFeaturesFractal.py:48: RankWarning: Polyfit may be poorly conditioned\n",
      "  coeffs = np.polyfit(np.log(C), np.log(dists), 1)\n"
     ]
    },
    {
     "name": "stdout",
     "output_type": "stream",
     "text": [
      "606\n"
     ]
    },
    {
     "name": "stderr",
     "output_type": "stream",
     "text": [
      "C:\\Users\\juju-\\Desktop\\projetos\\mng\\notebooks\\..\\scripts\\MNGFeaturesFractal.py:48: RankWarning: Polyfit may be poorly conditioned\n",
      "  coeffs = np.polyfit(np.log(C), np.log(dists), 1)\n"
     ]
    },
    {
     "name": "stdout",
     "output_type": "stream",
     "text": [
      "607\n"
     ]
    },
    {
     "name": "stderr",
     "output_type": "stream",
     "text": [
      "C:\\Users\\juju-\\Desktop\\projetos\\mng\\notebooks\\..\\scripts\\MNGFeaturesFractal.py:48: RankWarning: Polyfit may be poorly conditioned\n",
      "  coeffs = np.polyfit(np.log(C), np.log(dists), 1)\n"
     ]
    },
    {
     "name": "stdout",
     "output_type": "stream",
     "text": [
      "608\n"
     ]
    },
    {
     "name": "stderr",
     "output_type": "stream",
     "text": [
      "C:\\Users\\juju-\\Desktop\\projetos\\mng\\notebooks\\..\\scripts\\MNGFeaturesFractal.py:48: RankWarning: Polyfit may be poorly conditioned\n",
      "  coeffs = np.polyfit(np.log(C), np.log(dists), 1)\n"
     ]
    },
    {
     "name": "stdout",
     "output_type": "stream",
     "text": [
      "609\n"
     ]
    },
    {
     "name": "stderr",
     "output_type": "stream",
     "text": [
      "C:\\Users\\juju-\\Desktop\\projetos\\mng\\notebooks\\..\\scripts\\MNGFeaturesFractal.py:48: RankWarning: Polyfit may be poorly conditioned\n",
      "  coeffs = np.polyfit(np.log(C), np.log(dists), 1)\n"
     ]
    },
    {
     "name": "stdout",
     "output_type": "stream",
     "text": [
      "610\n"
     ]
    },
    {
     "name": "stderr",
     "output_type": "stream",
     "text": [
      "C:\\Users\\juju-\\Desktop\\projetos\\mng\\notebooks\\..\\scripts\\MNGFeaturesFractal.py:48: RankWarning: Polyfit may be poorly conditioned\n",
      "  coeffs = np.polyfit(np.log(C), np.log(dists), 1)\n"
     ]
    },
    {
     "name": "stdout",
     "output_type": "stream",
     "text": [
      "611\n"
     ]
    },
    {
     "name": "stderr",
     "output_type": "stream",
     "text": [
      "C:\\Users\\juju-\\Desktop\\projetos\\mng\\notebooks\\..\\scripts\\MNGFeaturesFractal.py:48: RankWarning: Polyfit may be poorly conditioned\n",
      "  coeffs = np.polyfit(np.log(C), np.log(dists), 1)\n"
     ]
    },
    {
     "name": "stdout",
     "output_type": "stream",
     "text": [
      "612\n"
     ]
    },
    {
     "name": "stderr",
     "output_type": "stream",
     "text": [
      "C:\\Users\\juju-\\Desktop\\projetos\\mng\\notebooks\\..\\scripts\\MNGFeaturesFractal.py:48: RankWarning: Polyfit may be poorly conditioned\n",
      "  coeffs = np.polyfit(np.log(C), np.log(dists), 1)\n"
     ]
    },
    {
     "name": "stdout",
     "output_type": "stream",
     "text": [
      "613\n"
     ]
    },
    {
     "name": "stderr",
     "output_type": "stream",
     "text": [
      "C:\\Users\\juju-\\Desktop\\projetos\\mng\\notebooks\\..\\scripts\\MNGFeaturesFractal.py:48: RankWarning: Polyfit may be poorly conditioned\n",
      "  coeffs = np.polyfit(np.log(C), np.log(dists), 1)\n"
     ]
    },
    {
     "name": "stdout",
     "output_type": "stream",
     "text": [
      "614\n"
     ]
    },
    {
     "name": "stderr",
     "output_type": "stream",
     "text": [
      "C:\\Users\\juju-\\Desktop\\projetos\\mng\\notebooks\\..\\scripts\\MNGFeaturesFractal.py:48: RankWarning: Polyfit may be poorly conditioned\n",
      "  coeffs = np.polyfit(np.log(C), np.log(dists), 1)\n"
     ]
    },
    {
     "name": "stdout",
     "output_type": "stream",
     "text": [
      "615\n"
     ]
    },
    {
     "name": "stderr",
     "output_type": "stream",
     "text": [
      "C:\\Users\\juju-\\Desktop\\projetos\\mng\\notebooks\\..\\scripts\\MNGFeaturesFractal.py:48: RankWarning: Polyfit may be poorly conditioned\n",
      "  coeffs = np.polyfit(np.log(C), np.log(dists), 1)\n"
     ]
    },
    {
     "name": "stdout",
     "output_type": "stream",
     "text": [
      "616\n"
     ]
    },
    {
     "name": "stderr",
     "output_type": "stream",
     "text": [
      "C:\\Users\\juju-\\Desktop\\projetos\\mng\\notebooks\\..\\scripts\\MNGFeaturesFractal.py:48: RankWarning: Polyfit may be poorly conditioned\n",
      "  coeffs = np.polyfit(np.log(C), np.log(dists), 1)\n"
     ]
    },
    {
     "name": "stdout",
     "output_type": "stream",
     "text": [
      "617\n"
     ]
    },
    {
     "name": "stderr",
     "output_type": "stream",
     "text": [
      "C:\\Users\\juju-\\Desktop\\projetos\\mng\\notebooks\\..\\scripts\\MNGFeaturesFractal.py:48: RankWarning: Polyfit may be poorly conditioned\n",
      "  coeffs = np.polyfit(np.log(C), np.log(dists), 1)\n"
     ]
    },
    {
     "name": "stdout",
     "output_type": "stream",
     "text": [
      "618\n"
     ]
    },
    {
     "name": "stderr",
     "output_type": "stream",
     "text": [
      "C:\\Users\\juju-\\Desktop\\projetos\\mng\\notebooks\\..\\scripts\\MNGFeaturesFractal.py:48: RankWarning: Polyfit may be poorly conditioned\n",
      "  coeffs = np.polyfit(np.log(C), np.log(dists), 1)\n"
     ]
    },
    {
     "name": "stdout",
     "output_type": "stream",
     "text": [
      "619\n"
     ]
    },
    {
     "name": "stderr",
     "output_type": "stream",
     "text": [
      "C:\\Users\\juju-\\Desktop\\projetos\\mng\\notebooks\\..\\scripts\\MNGFeaturesFractal.py:48: RankWarning: Polyfit may be poorly conditioned\n",
      "  coeffs = np.polyfit(np.log(C), np.log(dists), 1)\n"
     ]
    },
    {
     "name": "stdout",
     "output_type": "stream",
     "text": [
      "620\n"
     ]
    },
    {
     "name": "stderr",
     "output_type": "stream",
     "text": [
      "C:\\Users\\juju-\\Desktop\\projetos\\mng\\notebooks\\..\\scripts\\MNGFeaturesFractal.py:48: RankWarning: Polyfit may be poorly conditioned\n",
      "  coeffs = np.polyfit(np.log(C), np.log(dists), 1)\n"
     ]
    },
    {
     "name": "stdout",
     "output_type": "stream",
     "text": [
      "621\n"
     ]
    },
    {
     "name": "stderr",
     "output_type": "stream",
     "text": [
      "C:\\Users\\juju-\\Desktop\\projetos\\mng\\notebooks\\..\\scripts\\MNGFeaturesFractal.py:48: RankWarning: Polyfit may be poorly conditioned\n",
      "  coeffs = np.polyfit(np.log(C), np.log(dists), 1)\n"
     ]
    },
    {
     "name": "stdout",
     "output_type": "stream",
     "text": [
      "622\n"
     ]
    },
    {
     "name": "stderr",
     "output_type": "stream",
     "text": [
      "C:\\Users\\juju-\\Desktop\\projetos\\mng\\notebooks\\..\\scripts\\MNGFeaturesFractal.py:48: RankWarning: Polyfit may be poorly conditioned\n",
      "  coeffs = np.polyfit(np.log(C), np.log(dists), 1)\n"
     ]
    },
    {
     "name": "stdout",
     "output_type": "stream",
     "text": [
      "623\n"
     ]
    },
    {
     "name": "stderr",
     "output_type": "stream",
     "text": [
      "C:\\Users\\juju-\\Desktop\\projetos\\mng\\notebooks\\..\\scripts\\MNGFeaturesFractal.py:48: RankWarning: Polyfit may be poorly conditioned\n",
      "  coeffs = np.polyfit(np.log(C), np.log(dists), 1)\n"
     ]
    },
    {
     "name": "stdout",
     "output_type": "stream",
     "text": [
      "624\n"
     ]
    },
    {
     "name": "stderr",
     "output_type": "stream",
     "text": [
      "C:\\Users\\juju-\\Desktop\\projetos\\mng\\notebooks\\..\\scripts\\MNGFeaturesFractal.py:48: RankWarning: Polyfit may be poorly conditioned\n",
      "  coeffs = np.polyfit(np.log(C), np.log(dists), 1)\n"
     ]
    },
    {
     "name": "stdout",
     "output_type": "stream",
     "text": [
      "625\n"
     ]
    },
    {
     "name": "stderr",
     "output_type": "stream",
     "text": [
      "C:\\Users\\juju-\\Desktop\\projetos\\mng\\notebooks\\..\\scripts\\MNGFeaturesFractal.py:48: RankWarning: Polyfit may be poorly conditioned\n",
      "  coeffs = np.polyfit(np.log(C), np.log(dists), 1)\n"
     ]
    },
    {
     "name": "stdout",
     "output_type": "stream",
     "text": [
      "626\n"
     ]
    },
    {
     "name": "stderr",
     "output_type": "stream",
     "text": [
      "C:\\Users\\juju-\\Desktop\\projetos\\mng\\notebooks\\..\\scripts\\MNGFeaturesFractal.py:48: RankWarning: Polyfit may be poorly conditioned\n",
      "  coeffs = np.polyfit(np.log(C), np.log(dists), 1)\n"
     ]
    },
    {
     "name": "stdout",
     "output_type": "stream",
     "text": [
      "627\n"
     ]
    },
    {
     "name": "stderr",
     "output_type": "stream",
     "text": [
      "C:\\Users\\juju-\\Desktop\\projetos\\mng\\notebooks\\..\\scripts\\MNGFeaturesFractal.py:48: RankWarning: Polyfit may be poorly conditioned\n",
      "  coeffs = np.polyfit(np.log(C), np.log(dists), 1)\n"
     ]
    },
    {
     "name": "stdout",
     "output_type": "stream",
     "text": [
      "628\n"
     ]
    },
    {
     "name": "stderr",
     "output_type": "stream",
     "text": [
      "C:\\Users\\juju-\\Desktop\\projetos\\mng\\notebooks\\..\\scripts\\MNGFeaturesFractal.py:48: RankWarning: Polyfit may be poorly conditioned\n",
      "  coeffs = np.polyfit(np.log(C), np.log(dists), 1)\n"
     ]
    },
    {
     "name": "stdout",
     "output_type": "stream",
     "text": [
      "629\n"
     ]
    },
    {
     "name": "stderr",
     "output_type": "stream",
     "text": [
      "C:\\Users\\juju-\\Desktop\\projetos\\mng\\notebooks\\..\\scripts\\MNGFeaturesFractal.py:48: RankWarning: Polyfit may be poorly conditioned\n",
      "  coeffs = np.polyfit(np.log(C), np.log(dists), 1)\n"
     ]
    },
    {
     "name": "stdout",
     "output_type": "stream",
     "text": [
      "630\n"
     ]
    },
    {
     "name": "stderr",
     "output_type": "stream",
     "text": [
      "C:\\Users\\juju-\\Desktop\\projetos\\mng\\notebooks\\..\\scripts\\MNGFeaturesFractal.py:48: RankWarning: Polyfit may be poorly conditioned\n",
      "  coeffs = np.polyfit(np.log(C), np.log(dists), 1)\n"
     ]
    },
    {
     "name": "stdout",
     "output_type": "stream",
     "text": [
      "631\n"
     ]
    },
    {
     "name": "stderr",
     "output_type": "stream",
     "text": [
      "C:\\Users\\juju-\\Desktop\\projetos\\mng\\notebooks\\..\\scripts\\MNGFeaturesFractal.py:48: RankWarning: Polyfit may be poorly conditioned\n",
      "  coeffs = np.polyfit(np.log(C), np.log(dists), 1)\n"
     ]
    },
    {
     "name": "stdout",
     "output_type": "stream",
     "text": [
      "632\n"
     ]
    },
    {
     "name": "stderr",
     "output_type": "stream",
     "text": [
      "C:\\Users\\juju-\\Desktop\\projetos\\mng\\notebooks\\..\\scripts\\MNGFeaturesFractal.py:48: RankWarning: Polyfit may be poorly conditioned\n",
      "  coeffs = np.polyfit(np.log(C), np.log(dists), 1)\n"
     ]
    },
    {
     "name": "stdout",
     "output_type": "stream",
     "text": [
      "633\n"
     ]
    },
    {
     "name": "stderr",
     "output_type": "stream",
     "text": [
      "C:\\Users\\juju-\\Desktop\\projetos\\mng\\notebooks\\..\\scripts\\MNGFeaturesFractal.py:48: RankWarning: Polyfit may be poorly conditioned\n",
      "  coeffs = np.polyfit(np.log(C), np.log(dists), 1)\n"
     ]
    },
    {
     "name": "stdout",
     "output_type": "stream",
     "text": [
      "634\n"
     ]
    },
    {
     "name": "stderr",
     "output_type": "stream",
     "text": [
      "C:\\Users\\juju-\\Desktop\\projetos\\mng\\notebooks\\..\\scripts\\MNGFeaturesFractal.py:48: RankWarning: Polyfit may be poorly conditioned\n",
      "  coeffs = np.polyfit(np.log(C), np.log(dists), 1)\n"
     ]
    },
    {
     "name": "stdout",
     "output_type": "stream",
     "text": [
      "635\n"
     ]
    },
    {
     "name": "stderr",
     "output_type": "stream",
     "text": [
      "C:\\Users\\juju-\\Desktop\\projetos\\mng\\notebooks\\..\\scripts\\MNGFeaturesFractal.py:48: RankWarning: Polyfit may be poorly conditioned\n",
      "  coeffs = np.polyfit(np.log(C), np.log(dists), 1)\n"
     ]
    },
    {
     "name": "stdout",
     "output_type": "stream",
     "text": [
      "636\n"
     ]
    },
    {
     "name": "stderr",
     "output_type": "stream",
     "text": [
      "C:\\Users\\juju-\\Desktop\\projetos\\mng\\notebooks\\..\\scripts\\MNGFeaturesFractal.py:48: RankWarning: Polyfit may be poorly conditioned\n",
      "  coeffs = np.polyfit(np.log(C), np.log(dists), 1)\n"
     ]
    },
    {
     "name": "stdout",
     "output_type": "stream",
     "text": [
      "637\n"
     ]
    },
    {
     "name": "stderr",
     "output_type": "stream",
     "text": [
      "C:\\Users\\juju-\\Desktop\\projetos\\mng\\notebooks\\..\\scripts\\MNGFeaturesFractal.py:48: RankWarning: Polyfit may be poorly conditioned\n",
      "  coeffs = np.polyfit(np.log(C), np.log(dists), 1)\n"
     ]
    },
    {
     "name": "stdout",
     "output_type": "stream",
     "text": [
      "638\n"
     ]
    },
    {
     "name": "stderr",
     "output_type": "stream",
     "text": [
      "C:\\Users\\juju-\\Desktop\\projetos\\mng\\notebooks\\..\\scripts\\MNGFeaturesFractal.py:48: RankWarning: Polyfit may be poorly conditioned\n",
      "  coeffs = np.polyfit(np.log(C), np.log(dists), 1)\n"
     ]
    },
    {
     "name": "stdout",
     "output_type": "stream",
     "text": [
      "639\n"
     ]
    },
    {
     "name": "stderr",
     "output_type": "stream",
     "text": [
      "C:\\Users\\juju-\\Desktop\\projetos\\mng\\notebooks\\..\\scripts\\MNGFeaturesFractal.py:48: RankWarning: Polyfit may be poorly conditioned\n",
      "  coeffs = np.polyfit(np.log(C), np.log(dists), 1)\n"
     ]
    },
    {
     "name": "stdout",
     "output_type": "stream",
     "text": [
      "640\n"
     ]
    },
    {
     "name": "stderr",
     "output_type": "stream",
     "text": [
      "C:\\Users\\juju-\\Desktop\\projetos\\mng\\notebooks\\..\\scripts\\MNGFeaturesFractal.py:48: RankWarning: Polyfit may be poorly conditioned\n",
      "  coeffs = np.polyfit(np.log(C), np.log(dists), 1)\n"
     ]
    },
    {
     "name": "stdout",
     "output_type": "stream",
     "text": [
      "641\n"
     ]
    },
    {
     "name": "stderr",
     "output_type": "stream",
     "text": [
      "C:\\Users\\juju-\\Desktop\\projetos\\mng\\notebooks\\..\\scripts\\MNGFeaturesFractal.py:48: RankWarning: Polyfit may be poorly conditioned\n",
      "  coeffs = np.polyfit(np.log(C), np.log(dists), 1)\n"
     ]
    },
    {
     "name": "stdout",
     "output_type": "stream",
     "text": [
      "642\n"
     ]
    },
    {
     "name": "stderr",
     "output_type": "stream",
     "text": [
      "C:\\Users\\juju-\\Desktop\\projetos\\mng\\notebooks\\..\\scripts\\MNGFeaturesFractal.py:48: RankWarning: Polyfit may be poorly conditioned\n",
      "  coeffs = np.polyfit(np.log(C), np.log(dists), 1)\n"
     ]
    },
    {
     "name": "stdout",
     "output_type": "stream",
     "text": [
      "643\n"
     ]
    },
    {
     "name": "stderr",
     "output_type": "stream",
     "text": [
      "C:\\Users\\juju-\\Desktop\\projetos\\mng\\notebooks\\..\\scripts\\MNGFeaturesFractal.py:48: RankWarning: Polyfit may be poorly conditioned\n",
      "  coeffs = np.polyfit(np.log(C), np.log(dists), 1)\n"
     ]
    },
    {
     "name": "stdout",
     "output_type": "stream",
     "text": [
      "644\n"
     ]
    },
    {
     "name": "stderr",
     "output_type": "stream",
     "text": [
      "C:\\Users\\juju-\\Desktop\\projetos\\mng\\notebooks\\..\\scripts\\MNGFeaturesFractal.py:48: RankWarning: Polyfit may be poorly conditioned\n",
      "  coeffs = np.polyfit(np.log(C), np.log(dists), 1)\n"
     ]
    },
    {
     "name": "stdout",
     "output_type": "stream",
     "text": [
      "645\n"
     ]
    },
    {
     "name": "stderr",
     "output_type": "stream",
     "text": [
      "C:\\Users\\juju-\\Desktop\\projetos\\mng\\notebooks\\..\\scripts\\MNGFeaturesFractal.py:48: RankWarning: Polyfit may be poorly conditioned\n",
      "  coeffs = np.polyfit(np.log(C), np.log(dists), 1)\n"
     ]
    },
    {
     "name": "stdout",
     "output_type": "stream",
     "text": [
      "646\n"
     ]
    },
    {
     "name": "stderr",
     "output_type": "stream",
     "text": [
      "C:\\Users\\juju-\\Desktop\\projetos\\mng\\notebooks\\..\\scripts\\MNGFeaturesFractal.py:48: RankWarning: Polyfit may be poorly conditioned\n",
      "  coeffs = np.polyfit(np.log(C), np.log(dists), 1)\n"
     ]
    },
    {
     "name": "stdout",
     "output_type": "stream",
     "text": [
      "647\n"
     ]
    },
    {
     "name": "stderr",
     "output_type": "stream",
     "text": [
      "C:\\Users\\juju-\\Desktop\\projetos\\mng\\notebooks\\..\\scripts\\MNGFeaturesFractal.py:48: RankWarning: Polyfit may be poorly conditioned\n",
      "  coeffs = np.polyfit(np.log(C), np.log(dists), 1)\n"
     ]
    },
    {
     "name": "stdout",
     "output_type": "stream",
     "text": [
      "648\n"
     ]
    },
    {
     "name": "stderr",
     "output_type": "stream",
     "text": [
      "C:\\Users\\juju-\\Desktop\\projetos\\mng\\notebooks\\..\\scripts\\MNGFeaturesFractal.py:48: RankWarning: Polyfit may be poorly conditioned\n",
      "  coeffs = np.polyfit(np.log(C), np.log(dists), 1)\n"
     ]
    },
    {
     "name": "stdout",
     "output_type": "stream",
     "text": [
      "649\n"
     ]
    },
    {
     "name": "stderr",
     "output_type": "stream",
     "text": [
      "C:\\Users\\juju-\\Desktop\\projetos\\mng\\notebooks\\..\\scripts\\MNGFeaturesFractal.py:48: RankWarning: Polyfit may be poorly conditioned\n",
      "  coeffs = np.polyfit(np.log(C), np.log(dists), 1)\n"
     ]
    },
    {
     "name": "stdout",
     "output_type": "stream",
     "text": [
      "650\n"
     ]
    },
    {
     "name": "stderr",
     "output_type": "stream",
     "text": [
      "C:\\Users\\juju-\\Desktop\\projetos\\mng\\notebooks\\..\\scripts\\MNGFeaturesFractal.py:48: RankWarning: Polyfit may be poorly conditioned\n",
      "  coeffs = np.polyfit(np.log(C), np.log(dists), 1)\n"
     ]
    },
    {
     "name": "stdout",
     "output_type": "stream",
     "text": [
      "651\n"
     ]
    },
    {
     "name": "stderr",
     "output_type": "stream",
     "text": [
      "C:\\Users\\juju-\\Desktop\\projetos\\mng\\notebooks\\..\\scripts\\MNGFeaturesFractal.py:48: RankWarning: Polyfit may be poorly conditioned\n",
      "  coeffs = np.polyfit(np.log(C), np.log(dists), 1)\n"
     ]
    },
    {
     "name": "stdout",
     "output_type": "stream",
     "text": [
      "652\n"
     ]
    },
    {
     "name": "stderr",
     "output_type": "stream",
     "text": [
      "C:\\Users\\juju-\\Desktop\\projetos\\mng\\notebooks\\..\\scripts\\MNGFeaturesFractal.py:48: RankWarning: Polyfit may be poorly conditioned\n",
      "  coeffs = np.polyfit(np.log(C), np.log(dists), 1)\n"
     ]
    },
    {
     "name": "stdout",
     "output_type": "stream",
     "text": [
      "653\n"
     ]
    },
    {
     "name": "stderr",
     "output_type": "stream",
     "text": [
      "C:\\Users\\juju-\\Desktop\\projetos\\mng\\notebooks\\..\\scripts\\MNGFeaturesFractal.py:48: RankWarning: Polyfit may be poorly conditioned\n",
      "  coeffs = np.polyfit(np.log(C), np.log(dists), 1)\n"
     ]
    },
    {
     "name": "stdout",
     "output_type": "stream",
     "text": [
      "654\n"
     ]
    },
    {
     "name": "stderr",
     "output_type": "stream",
     "text": [
      "C:\\Users\\juju-\\Desktop\\projetos\\mng\\notebooks\\..\\scripts\\MNGFeaturesFractal.py:48: RankWarning: Polyfit may be poorly conditioned\n",
      "  coeffs = np.polyfit(np.log(C), np.log(dists), 1)\n"
     ]
    },
    {
     "name": "stdout",
     "output_type": "stream",
     "text": [
      "655\n"
     ]
    },
    {
     "name": "stderr",
     "output_type": "stream",
     "text": [
      "C:\\Users\\juju-\\Desktop\\projetos\\mng\\notebooks\\..\\scripts\\MNGFeaturesFractal.py:48: RankWarning: Polyfit may be poorly conditioned\n",
      "  coeffs = np.polyfit(np.log(C), np.log(dists), 1)\n"
     ]
    },
    {
     "name": "stdout",
     "output_type": "stream",
     "text": [
      "656\n"
     ]
    },
    {
     "name": "stderr",
     "output_type": "stream",
     "text": [
      "C:\\Users\\juju-\\Desktop\\projetos\\mng\\notebooks\\..\\scripts\\MNGFeaturesFractal.py:48: RankWarning: Polyfit may be poorly conditioned\n",
      "  coeffs = np.polyfit(np.log(C), np.log(dists), 1)\n"
     ]
    },
    {
     "name": "stdout",
     "output_type": "stream",
     "text": [
      "657\n"
     ]
    },
    {
     "name": "stderr",
     "output_type": "stream",
     "text": [
      "C:\\Users\\juju-\\Desktop\\projetos\\mng\\notebooks\\..\\scripts\\MNGFeaturesFractal.py:48: RankWarning: Polyfit may be poorly conditioned\n",
      "  coeffs = np.polyfit(np.log(C), np.log(dists), 1)\n"
     ]
    },
    {
     "name": "stdout",
     "output_type": "stream",
     "text": [
      "658\n"
     ]
    },
    {
     "name": "stderr",
     "output_type": "stream",
     "text": [
      "C:\\Users\\juju-\\Desktop\\projetos\\mng\\notebooks\\..\\scripts\\MNGFeaturesFractal.py:48: RankWarning: Polyfit may be poorly conditioned\n",
      "  coeffs = np.polyfit(np.log(C), np.log(dists), 1)\n"
     ]
    },
    {
     "name": "stdout",
     "output_type": "stream",
     "text": [
      "659\n"
     ]
    },
    {
     "name": "stderr",
     "output_type": "stream",
     "text": [
      "C:\\Users\\juju-\\Desktop\\projetos\\mng\\notebooks\\..\\scripts\\MNGFeaturesFractal.py:48: RankWarning: Polyfit may be poorly conditioned\n",
      "  coeffs = np.polyfit(np.log(C), np.log(dists), 1)\n"
     ]
    },
    {
     "name": "stdout",
     "output_type": "stream",
     "text": [
      "660\n"
     ]
    },
    {
     "name": "stderr",
     "output_type": "stream",
     "text": [
      "C:\\Users\\juju-\\Desktop\\projetos\\mng\\notebooks\\..\\scripts\\MNGFeaturesFractal.py:48: RankWarning: Polyfit may be poorly conditioned\n",
      "  coeffs = np.polyfit(np.log(C), np.log(dists), 1)\n"
     ]
    },
    {
     "name": "stdout",
     "output_type": "stream",
     "text": [
      "661\n"
     ]
    },
    {
     "name": "stderr",
     "output_type": "stream",
     "text": [
      "C:\\Users\\juju-\\Desktop\\projetos\\mng\\notebooks\\..\\scripts\\MNGFeaturesFractal.py:48: RankWarning: Polyfit may be poorly conditioned\n",
      "  coeffs = np.polyfit(np.log(C), np.log(dists), 1)\n"
     ]
    },
    {
     "name": "stdout",
     "output_type": "stream",
     "text": [
      "662\n"
     ]
    },
    {
     "name": "stderr",
     "output_type": "stream",
     "text": [
      "C:\\Users\\juju-\\Desktop\\projetos\\mng\\notebooks\\..\\scripts\\MNGFeaturesFractal.py:48: RankWarning: Polyfit may be poorly conditioned\n",
      "  coeffs = np.polyfit(np.log(C), np.log(dists), 1)\n"
     ]
    },
    {
     "name": "stdout",
     "output_type": "stream",
     "text": [
      "663\n"
     ]
    },
    {
     "name": "stderr",
     "output_type": "stream",
     "text": [
      "C:\\Users\\juju-\\Desktop\\projetos\\mng\\notebooks\\..\\scripts\\MNGFeaturesFractal.py:48: RankWarning: Polyfit may be poorly conditioned\n",
      "  coeffs = np.polyfit(np.log(C), np.log(dists), 1)\n"
     ]
    },
    {
     "name": "stdout",
     "output_type": "stream",
     "text": [
      "664\n"
     ]
    },
    {
     "name": "stderr",
     "output_type": "stream",
     "text": [
      "C:\\Users\\juju-\\Desktop\\projetos\\mng\\notebooks\\..\\scripts\\MNGFeaturesFractal.py:48: RankWarning: Polyfit may be poorly conditioned\n",
      "  coeffs = np.polyfit(np.log(C), np.log(dists), 1)\n"
     ]
    },
    {
     "name": "stdout",
     "output_type": "stream",
     "text": [
      "665\n"
     ]
    },
    {
     "name": "stderr",
     "output_type": "stream",
     "text": [
      "C:\\Users\\juju-\\Desktop\\projetos\\mng\\notebooks\\..\\scripts\\MNGFeaturesFractal.py:48: RankWarning: Polyfit may be poorly conditioned\n",
      "  coeffs = np.polyfit(np.log(C), np.log(dists), 1)\n"
     ]
    },
    {
     "name": "stdout",
     "output_type": "stream",
     "text": [
      "666\n"
     ]
    },
    {
     "name": "stderr",
     "output_type": "stream",
     "text": [
      "C:\\Users\\juju-\\Desktop\\projetos\\mng\\notebooks\\..\\scripts\\MNGFeaturesFractal.py:48: RankWarning: Polyfit may be poorly conditioned\n",
      "  coeffs = np.polyfit(np.log(C), np.log(dists), 1)\n"
     ]
    },
    {
     "name": "stdout",
     "output_type": "stream",
     "text": [
      "667\n"
     ]
    },
    {
     "name": "stderr",
     "output_type": "stream",
     "text": [
      "C:\\Users\\juju-\\Desktop\\projetos\\mng\\notebooks\\..\\scripts\\MNGFeaturesFractal.py:48: RankWarning: Polyfit may be poorly conditioned\n",
      "  coeffs = np.polyfit(np.log(C), np.log(dists), 1)\n"
     ]
    },
    {
     "name": "stdout",
     "output_type": "stream",
     "text": [
      "668\n"
     ]
    },
    {
     "name": "stderr",
     "output_type": "stream",
     "text": [
      "C:\\Users\\juju-\\Desktop\\projetos\\mng\\notebooks\\..\\scripts\\MNGFeaturesFractal.py:48: RankWarning: Polyfit may be poorly conditioned\n",
      "  coeffs = np.polyfit(np.log(C), np.log(dists), 1)\n"
     ]
    },
    {
     "name": "stdout",
     "output_type": "stream",
     "text": [
      "669\n"
     ]
    },
    {
     "name": "stderr",
     "output_type": "stream",
     "text": [
      "C:\\Users\\juju-\\Desktop\\projetos\\mng\\notebooks\\..\\scripts\\MNGFeaturesFractal.py:48: RankWarning: Polyfit may be poorly conditioned\n",
      "  coeffs = np.polyfit(np.log(C), np.log(dists), 1)\n"
     ]
    },
    {
     "name": "stdout",
     "output_type": "stream",
     "text": [
      "670\n"
     ]
    },
    {
     "name": "stderr",
     "output_type": "stream",
     "text": [
      "C:\\Users\\juju-\\Desktop\\projetos\\mng\\notebooks\\..\\scripts\\MNGFeaturesFractal.py:48: RankWarning: Polyfit may be poorly conditioned\n",
      "  coeffs = np.polyfit(np.log(C), np.log(dists), 1)\n"
     ]
    },
    {
     "name": "stdout",
     "output_type": "stream",
     "text": [
      "671\n"
     ]
    },
    {
     "name": "stderr",
     "output_type": "stream",
     "text": [
      "C:\\Users\\juju-\\Desktop\\projetos\\mng\\notebooks\\..\\scripts\\MNGFeaturesFractal.py:48: RankWarning: Polyfit may be poorly conditioned\n",
      "  coeffs = np.polyfit(np.log(C), np.log(dists), 1)\n"
     ]
    },
    {
     "name": "stdout",
     "output_type": "stream",
     "text": [
      "672\n"
     ]
    },
    {
     "name": "stderr",
     "output_type": "stream",
     "text": [
      "C:\\Users\\juju-\\Desktop\\projetos\\mng\\notebooks\\..\\scripts\\MNGFeaturesFractal.py:48: RankWarning: Polyfit may be poorly conditioned\n",
      "  coeffs = np.polyfit(np.log(C), np.log(dists), 1)\n"
     ]
    },
    {
     "name": "stdout",
     "output_type": "stream",
     "text": [
      "673\n"
     ]
    },
    {
     "name": "stderr",
     "output_type": "stream",
     "text": [
      "C:\\Users\\juju-\\Desktop\\projetos\\mng\\notebooks\\..\\scripts\\MNGFeaturesFractal.py:48: RankWarning: Polyfit may be poorly conditioned\n",
      "  coeffs = np.polyfit(np.log(C), np.log(dists), 1)\n"
     ]
    },
    {
     "name": "stdout",
     "output_type": "stream",
     "text": [
      "674\n"
     ]
    },
    {
     "name": "stderr",
     "output_type": "stream",
     "text": [
      "C:\\Users\\juju-\\Desktop\\projetos\\mng\\notebooks\\..\\scripts\\MNGFeaturesFractal.py:48: RankWarning: Polyfit may be poorly conditioned\n",
      "  coeffs = np.polyfit(np.log(C), np.log(dists), 1)\n"
     ]
    },
    {
     "name": "stdout",
     "output_type": "stream",
     "text": [
      "675\n"
     ]
    },
    {
     "name": "stderr",
     "output_type": "stream",
     "text": [
      "C:\\Users\\juju-\\Desktop\\projetos\\mng\\notebooks\\..\\scripts\\MNGFeaturesFractal.py:48: RankWarning: Polyfit may be poorly conditioned\n",
      "  coeffs = np.polyfit(np.log(C), np.log(dists), 1)\n"
     ]
    },
    {
     "name": "stdout",
     "output_type": "stream",
     "text": [
      "676\n"
     ]
    },
    {
     "name": "stderr",
     "output_type": "stream",
     "text": [
      "C:\\Users\\juju-\\Desktop\\projetos\\mng\\notebooks\\..\\scripts\\MNGFeaturesFractal.py:48: RankWarning: Polyfit may be poorly conditioned\n",
      "  coeffs = np.polyfit(np.log(C), np.log(dists), 1)\n"
     ]
    },
    {
     "name": "stdout",
     "output_type": "stream",
     "text": [
      "677\n"
     ]
    },
    {
     "name": "stderr",
     "output_type": "stream",
     "text": [
      "C:\\Users\\juju-\\Desktop\\projetos\\mng\\notebooks\\..\\scripts\\MNGFeaturesFractal.py:48: RankWarning: Polyfit may be poorly conditioned\n",
      "  coeffs = np.polyfit(np.log(C), np.log(dists), 1)\n"
     ]
    },
    {
     "name": "stdout",
     "output_type": "stream",
     "text": [
      "678\n"
     ]
    },
    {
     "name": "stderr",
     "output_type": "stream",
     "text": [
      "C:\\Users\\juju-\\Desktop\\projetos\\mng\\notebooks\\..\\scripts\\MNGFeaturesFractal.py:48: RankWarning: Polyfit may be poorly conditioned\n",
      "  coeffs = np.polyfit(np.log(C), np.log(dists), 1)\n"
     ]
    },
    {
     "name": "stdout",
     "output_type": "stream",
     "text": [
      "679\n"
     ]
    },
    {
     "name": "stderr",
     "output_type": "stream",
     "text": [
      "C:\\Users\\juju-\\Desktop\\projetos\\mng\\notebooks\\..\\scripts\\MNGFeaturesFractal.py:48: RankWarning: Polyfit may be poorly conditioned\n",
      "  coeffs = np.polyfit(np.log(C), np.log(dists), 1)\n"
     ]
    },
    {
     "name": "stdout",
     "output_type": "stream",
     "text": [
      "680\n"
     ]
    },
    {
     "name": "stderr",
     "output_type": "stream",
     "text": [
      "C:\\Users\\juju-\\Desktop\\projetos\\mng\\notebooks\\..\\scripts\\MNGFeaturesFractal.py:48: RankWarning: Polyfit may be poorly conditioned\n",
      "  coeffs = np.polyfit(np.log(C), np.log(dists), 1)\n"
     ]
    },
    {
     "name": "stdout",
     "output_type": "stream",
     "text": [
      "681\n"
     ]
    },
    {
     "name": "stderr",
     "output_type": "stream",
     "text": [
      "C:\\Users\\juju-\\Desktop\\projetos\\mng\\notebooks\\..\\scripts\\MNGFeaturesFractal.py:48: RankWarning: Polyfit may be poorly conditioned\n",
      "  coeffs = np.polyfit(np.log(C), np.log(dists), 1)\n"
     ]
    },
    {
     "name": "stdout",
     "output_type": "stream",
     "text": [
      "682\n"
     ]
    },
    {
     "name": "stderr",
     "output_type": "stream",
     "text": [
      "C:\\Users\\juju-\\Desktop\\projetos\\mng\\notebooks\\..\\scripts\\MNGFeaturesFractal.py:48: RankWarning: Polyfit may be poorly conditioned\n",
      "  coeffs = np.polyfit(np.log(C), np.log(dists), 1)\n"
     ]
    },
    {
     "name": "stdout",
     "output_type": "stream",
     "text": [
      "683\n"
     ]
    },
    {
     "name": "stderr",
     "output_type": "stream",
     "text": [
      "C:\\Users\\juju-\\Desktop\\projetos\\mng\\notebooks\\..\\scripts\\MNGFeaturesFractal.py:48: RankWarning: Polyfit may be poorly conditioned\n",
      "  coeffs = np.polyfit(np.log(C), np.log(dists), 1)\n"
     ]
    },
    {
     "name": "stdout",
     "output_type": "stream",
     "text": [
      "684\n"
     ]
    },
    {
     "name": "stderr",
     "output_type": "stream",
     "text": [
      "C:\\Users\\juju-\\Desktop\\projetos\\mng\\notebooks\\..\\scripts\\MNGFeaturesFractal.py:48: RankWarning: Polyfit may be poorly conditioned\n",
      "  coeffs = np.polyfit(np.log(C), np.log(dists), 1)\n"
     ]
    },
    {
     "name": "stdout",
     "output_type": "stream",
     "text": [
      "685\n"
     ]
    },
    {
     "name": "stderr",
     "output_type": "stream",
     "text": [
      "C:\\Users\\juju-\\Desktop\\projetos\\mng\\notebooks\\..\\scripts\\MNGFeaturesFractal.py:48: RankWarning: Polyfit may be poorly conditioned\n",
      "  coeffs = np.polyfit(np.log(C), np.log(dists), 1)\n"
     ]
    },
    {
     "name": "stdout",
     "output_type": "stream",
     "text": [
      "686\n"
     ]
    },
    {
     "name": "stderr",
     "output_type": "stream",
     "text": [
      "C:\\Users\\juju-\\Desktop\\projetos\\mng\\notebooks\\..\\scripts\\MNGFeaturesFractal.py:48: RankWarning: Polyfit may be poorly conditioned\n",
      "  coeffs = np.polyfit(np.log(C), np.log(dists), 1)\n"
     ]
    },
    {
     "name": "stdout",
     "output_type": "stream",
     "text": [
      "687\n"
     ]
    },
    {
     "name": "stderr",
     "output_type": "stream",
     "text": [
      "C:\\Users\\juju-\\Desktop\\projetos\\mng\\notebooks\\..\\scripts\\MNGFeaturesFractal.py:48: RankWarning: Polyfit may be poorly conditioned\n",
      "  coeffs = np.polyfit(np.log(C), np.log(dists), 1)\n"
     ]
    },
    {
     "name": "stdout",
     "output_type": "stream",
     "text": [
      "688\n"
     ]
    },
    {
     "name": "stderr",
     "output_type": "stream",
     "text": [
      "C:\\Users\\juju-\\Desktop\\projetos\\mng\\notebooks\\..\\scripts\\MNGFeaturesFractal.py:48: RankWarning: Polyfit may be poorly conditioned\n",
      "  coeffs = np.polyfit(np.log(C), np.log(dists), 1)\n"
     ]
    },
    {
     "name": "stdout",
     "output_type": "stream",
     "text": [
      "689\n"
     ]
    },
    {
     "name": "stderr",
     "output_type": "stream",
     "text": [
      "C:\\Users\\juju-\\Desktop\\projetos\\mng\\notebooks\\..\\scripts\\MNGFeaturesFractal.py:48: RankWarning: Polyfit may be poorly conditioned\n",
      "  coeffs = np.polyfit(np.log(C), np.log(dists), 1)\n"
     ]
    },
    {
     "name": "stdout",
     "output_type": "stream",
     "text": [
      "690\n"
     ]
    },
    {
     "name": "stderr",
     "output_type": "stream",
     "text": [
      "C:\\Users\\juju-\\Desktop\\projetos\\mng\\notebooks\\..\\scripts\\MNGFeaturesFractal.py:48: RankWarning: Polyfit may be poorly conditioned\n",
      "  coeffs = np.polyfit(np.log(C), np.log(dists), 1)\n"
     ]
    },
    {
     "name": "stdout",
     "output_type": "stream",
     "text": [
      "691\n"
     ]
    },
    {
     "name": "stderr",
     "output_type": "stream",
     "text": [
      "C:\\Users\\juju-\\Desktop\\projetos\\mng\\notebooks\\..\\scripts\\MNGFeaturesFractal.py:48: RankWarning: Polyfit may be poorly conditioned\n",
      "  coeffs = np.polyfit(np.log(C), np.log(dists), 1)\n"
     ]
    },
    {
     "name": "stdout",
     "output_type": "stream",
     "text": [
      "692\n"
     ]
    },
    {
     "name": "stderr",
     "output_type": "stream",
     "text": [
      "C:\\Users\\juju-\\Desktop\\projetos\\mng\\notebooks\\..\\scripts\\MNGFeaturesFractal.py:48: RankWarning: Polyfit may be poorly conditioned\n",
      "  coeffs = np.polyfit(np.log(C), np.log(dists), 1)\n"
     ]
    },
    {
     "name": "stdout",
     "output_type": "stream",
     "text": [
      "693\n"
     ]
    },
    {
     "name": "stderr",
     "output_type": "stream",
     "text": [
      "C:\\Users\\juju-\\Desktop\\projetos\\mng\\notebooks\\..\\scripts\\MNGFeaturesFractal.py:48: RankWarning: Polyfit may be poorly conditioned\n",
      "  coeffs = np.polyfit(np.log(C), np.log(dists), 1)\n"
     ]
    },
    {
     "name": "stdout",
     "output_type": "stream",
     "text": [
      "694\n"
     ]
    },
    {
     "name": "stderr",
     "output_type": "stream",
     "text": [
      "C:\\Users\\juju-\\Desktop\\projetos\\mng\\notebooks\\..\\scripts\\MNGFeaturesFractal.py:48: RankWarning: Polyfit may be poorly conditioned\n",
      "  coeffs = np.polyfit(np.log(C), np.log(dists), 1)\n"
     ]
    },
    {
     "name": "stdout",
     "output_type": "stream",
     "text": [
      "695\n"
     ]
    },
    {
     "name": "stderr",
     "output_type": "stream",
     "text": [
      "C:\\Users\\juju-\\Desktop\\projetos\\mng\\notebooks\\..\\scripts\\MNGFeaturesFractal.py:48: RankWarning: Polyfit may be poorly conditioned\n",
      "  coeffs = np.polyfit(np.log(C), np.log(dists), 1)\n"
     ]
    },
    {
     "name": "stdout",
     "output_type": "stream",
     "text": [
      "696\n"
     ]
    },
    {
     "name": "stderr",
     "output_type": "stream",
     "text": [
      "C:\\Users\\juju-\\Desktop\\projetos\\mng\\notebooks\\..\\scripts\\MNGFeaturesFractal.py:48: RankWarning: Polyfit may be poorly conditioned\n",
      "  coeffs = np.polyfit(np.log(C), np.log(dists), 1)\n"
     ]
    },
    {
     "name": "stdout",
     "output_type": "stream",
     "text": [
      "697\n"
     ]
    },
    {
     "name": "stderr",
     "output_type": "stream",
     "text": [
      "C:\\Users\\juju-\\Desktop\\projetos\\mng\\notebooks\\..\\scripts\\MNGFeaturesFractal.py:48: RankWarning: Polyfit may be poorly conditioned\n",
      "  coeffs = np.polyfit(np.log(C), np.log(dists), 1)\n"
     ]
    },
    {
     "name": "stdout",
     "output_type": "stream",
     "text": [
      "698\n"
     ]
    },
    {
     "name": "stderr",
     "output_type": "stream",
     "text": [
      "C:\\Users\\juju-\\Desktop\\projetos\\mng\\notebooks\\..\\scripts\\MNGFeaturesFractal.py:48: RankWarning: Polyfit may be poorly conditioned\n",
      "  coeffs = np.polyfit(np.log(C), np.log(dists), 1)\n"
     ]
    },
    {
     "name": "stdout",
     "output_type": "stream",
     "text": [
      "699\n"
     ]
    },
    {
     "name": "stderr",
     "output_type": "stream",
     "text": [
      "C:\\Users\\juju-\\Desktop\\projetos\\mng\\notebooks\\..\\scripts\\MNGFeaturesFractal.py:48: RankWarning: Polyfit may be poorly conditioned\n",
      "  coeffs = np.polyfit(np.log(C), np.log(dists), 1)\n"
     ]
    },
    {
     "name": "stdout",
     "output_type": "stream",
     "text": [
      "700\n"
     ]
    },
    {
     "name": "stderr",
     "output_type": "stream",
     "text": [
      "C:\\Users\\juju-\\Desktop\\projetos\\mng\\notebooks\\..\\scripts\\MNGFeaturesFractal.py:48: RankWarning: Polyfit may be poorly conditioned\n",
      "  coeffs = np.polyfit(np.log(C), np.log(dists), 1)\n"
     ]
    },
    {
     "name": "stdout",
     "output_type": "stream",
     "text": [
      "701\n"
     ]
    },
    {
     "name": "stderr",
     "output_type": "stream",
     "text": [
      "C:\\Users\\juju-\\Desktop\\projetos\\mng\\notebooks\\..\\scripts\\MNGFeaturesFractal.py:48: RankWarning: Polyfit may be poorly conditioned\n",
      "  coeffs = np.polyfit(np.log(C), np.log(dists), 1)\n"
     ]
    },
    {
     "name": "stdout",
     "output_type": "stream",
     "text": [
      "702\n"
     ]
    },
    {
     "name": "stderr",
     "output_type": "stream",
     "text": [
      "C:\\Users\\juju-\\Desktop\\projetos\\mng\\notebooks\\..\\scripts\\MNGFeaturesFractal.py:48: RankWarning: Polyfit may be poorly conditioned\n",
      "  coeffs = np.polyfit(np.log(C), np.log(dists), 1)\n"
     ]
    },
    {
     "name": "stdout",
     "output_type": "stream",
     "text": [
      "703\n"
     ]
    },
    {
     "name": "stderr",
     "output_type": "stream",
     "text": [
      "C:\\Users\\juju-\\Desktop\\projetos\\mng\\notebooks\\..\\scripts\\MNGFeaturesFractal.py:48: RankWarning: Polyfit may be poorly conditioned\n",
      "  coeffs = np.polyfit(np.log(C), np.log(dists), 1)\n"
     ]
    },
    {
     "name": "stdout",
     "output_type": "stream",
     "text": [
      "704\n"
     ]
    },
    {
     "name": "stderr",
     "output_type": "stream",
     "text": [
      "C:\\Users\\juju-\\Desktop\\projetos\\mng\\notebooks\\..\\scripts\\MNGFeaturesFractal.py:48: RankWarning: Polyfit may be poorly conditioned\n",
      "  coeffs = np.polyfit(np.log(C), np.log(dists), 1)\n"
     ]
    },
    {
     "name": "stdout",
     "output_type": "stream",
     "text": [
      "705\n"
     ]
    },
    {
     "name": "stderr",
     "output_type": "stream",
     "text": [
      "C:\\Users\\juju-\\Desktop\\projetos\\mng\\notebooks\\..\\scripts\\MNGFeaturesFractal.py:48: RankWarning: Polyfit may be poorly conditioned\n",
      "  coeffs = np.polyfit(np.log(C), np.log(dists), 1)\n"
     ]
    },
    {
     "name": "stdout",
     "output_type": "stream",
     "text": [
      "706\n"
     ]
    },
    {
     "name": "stderr",
     "output_type": "stream",
     "text": [
      "C:\\Users\\juju-\\Desktop\\projetos\\mng\\notebooks\\..\\scripts\\MNGFeaturesFractal.py:48: RankWarning: Polyfit may be poorly conditioned\n",
      "  coeffs = np.polyfit(np.log(C), np.log(dists), 1)\n"
     ]
    },
    {
     "name": "stdout",
     "output_type": "stream",
     "text": [
      "707\n"
     ]
    },
    {
     "name": "stderr",
     "output_type": "stream",
     "text": [
      "C:\\Users\\juju-\\Desktop\\projetos\\mng\\notebooks\\..\\scripts\\MNGFeaturesFractal.py:48: RankWarning: Polyfit may be poorly conditioned\n",
      "  coeffs = np.polyfit(np.log(C), np.log(dists), 1)\n"
     ]
    },
    {
     "name": "stdout",
     "output_type": "stream",
     "text": [
      "708\n"
     ]
    },
    {
     "name": "stderr",
     "output_type": "stream",
     "text": [
      "C:\\Users\\juju-\\Desktop\\projetos\\mng\\notebooks\\..\\scripts\\MNGFeaturesFractal.py:48: RankWarning: Polyfit may be poorly conditioned\n",
      "  coeffs = np.polyfit(np.log(C), np.log(dists), 1)\n"
     ]
    },
    {
     "name": "stdout",
     "output_type": "stream",
     "text": [
      "709\n"
     ]
    },
    {
     "name": "stderr",
     "output_type": "stream",
     "text": [
      "C:\\Users\\juju-\\Desktop\\projetos\\mng\\notebooks\\..\\scripts\\MNGFeaturesFractal.py:48: RankWarning: Polyfit may be poorly conditioned\n",
      "  coeffs = np.polyfit(np.log(C), np.log(dists), 1)\n"
     ]
    },
    {
     "name": "stdout",
     "output_type": "stream",
     "text": [
      "710\n"
     ]
    },
    {
     "name": "stderr",
     "output_type": "stream",
     "text": [
      "C:\\Users\\juju-\\Desktop\\projetos\\mng\\notebooks\\..\\scripts\\MNGFeaturesFractal.py:48: RankWarning: Polyfit may be poorly conditioned\n",
      "  coeffs = np.polyfit(np.log(C), np.log(dists), 1)\n"
     ]
    },
    {
     "name": "stdout",
     "output_type": "stream",
     "text": [
      "711\n"
     ]
    },
    {
     "name": "stderr",
     "output_type": "stream",
     "text": [
      "C:\\Users\\juju-\\Desktop\\projetos\\mng\\notebooks\\..\\scripts\\MNGFeaturesFractal.py:48: RankWarning: Polyfit may be poorly conditioned\n",
      "  coeffs = np.polyfit(np.log(C), np.log(dists), 1)\n"
     ]
    },
    {
     "name": "stdout",
     "output_type": "stream",
     "text": [
      "712\n"
     ]
    },
    {
     "name": "stderr",
     "output_type": "stream",
     "text": [
      "C:\\Users\\juju-\\Desktop\\projetos\\mng\\notebooks\\..\\scripts\\MNGFeaturesFractal.py:48: RankWarning: Polyfit may be poorly conditioned\n",
      "  coeffs = np.polyfit(np.log(C), np.log(dists), 1)\n"
     ]
    },
    {
     "name": "stdout",
     "output_type": "stream",
     "text": [
      "713\n"
     ]
    },
    {
     "name": "stderr",
     "output_type": "stream",
     "text": [
      "C:\\Users\\juju-\\Desktop\\projetos\\mng\\notebooks\\..\\scripts\\MNGFeaturesFractal.py:48: RankWarning: Polyfit may be poorly conditioned\n",
      "  coeffs = np.polyfit(np.log(C), np.log(dists), 1)\n"
     ]
    },
    {
     "name": "stdout",
     "output_type": "stream",
     "text": [
      "714\n"
     ]
    },
    {
     "name": "stderr",
     "output_type": "stream",
     "text": [
      "C:\\Users\\juju-\\Desktop\\projetos\\mng\\notebooks\\..\\scripts\\MNGFeaturesFractal.py:48: RankWarning: Polyfit may be poorly conditioned\n",
      "  coeffs = np.polyfit(np.log(C), np.log(dists), 1)\n"
     ]
    },
    {
     "name": "stdout",
     "output_type": "stream",
     "text": [
      "715\n"
     ]
    },
    {
     "name": "stderr",
     "output_type": "stream",
     "text": [
      "C:\\Users\\juju-\\Desktop\\projetos\\mng\\notebooks\\..\\scripts\\MNGFeaturesFractal.py:48: RankWarning: Polyfit may be poorly conditioned\n",
      "  coeffs = np.polyfit(np.log(C), np.log(dists), 1)\n"
     ]
    },
    {
     "name": "stdout",
     "output_type": "stream",
     "text": [
      "716\n"
     ]
    },
    {
     "name": "stderr",
     "output_type": "stream",
     "text": [
      "C:\\Users\\juju-\\Desktop\\projetos\\mng\\notebooks\\..\\scripts\\MNGFeaturesFractal.py:48: RankWarning: Polyfit may be poorly conditioned\n",
      "  coeffs = np.polyfit(np.log(C), np.log(dists), 1)\n"
     ]
    },
    {
     "name": "stdout",
     "output_type": "stream",
     "text": [
      "717\n"
     ]
    },
    {
     "name": "stderr",
     "output_type": "stream",
     "text": [
      "C:\\Users\\juju-\\Desktop\\projetos\\mng\\notebooks\\..\\scripts\\MNGFeaturesFractal.py:48: RankWarning: Polyfit may be poorly conditioned\n",
      "  coeffs = np.polyfit(np.log(C), np.log(dists), 1)\n"
     ]
    },
    {
     "name": "stdout",
     "output_type": "stream",
     "text": [
      "718\n"
     ]
    },
    {
     "name": "stderr",
     "output_type": "stream",
     "text": [
      "C:\\Users\\juju-\\Desktop\\projetos\\mng\\notebooks\\..\\scripts\\MNGFeaturesFractal.py:48: RankWarning: Polyfit may be poorly conditioned\n",
      "  coeffs = np.polyfit(np.log(C), np.log(dists), 1)\n"
     ]
    },
    {
     "name": "stdout",
     "output_type": "stream",
     "text": [
      "719\n"
     ]
    },
    {
     "name": "stderr",
     "output_type": "stream",
     "text": [
      "C:\\Users\\juju-\\Desktop\\projetos\\mng\\notebooks\\..\\scripts\\MNGFeaturesFractal.py:48: RankWarning: Polyfit may be poorly conditioned\n",
      "  coeffs = np.polyfit(np.log(C), np.log(dists), 1)\n"
     ]
    },
    {
     "name": "stdout",
     "output_type": "stream",
     "text": [
      "720\n"
     ]
    },
    {
     "name": "stderr",
     "output_type": "stream",
     "text": [
      "C:\\Users\\juju-\\Desktop\\projetos\\mng\\notebooks\\..\\scripts\\MNGFeaturesFractal.py:48: RankWarning: Polyfit may be poorly conditioned\n",
      "  coeffs = np.polyfit(np.log(C), np.log(dists), 1)\n"
     ]
    },
    {
     "name": "stdout",
     "output_type": "stream",
     "text": [
      "721\n"
     ]
    },
    {
     "name": "stderr",
     "output_type": "stream",
     "text": [
      "C:\\Users\\juju-\\Desktop\\projetos\\mng\\notebooks\\..\\scripts\\MNGFeaturesFractal.py:48: RankWarning: Polyfit may be poorly conditioned\n",
      "  coeffs = np.polyfit(np.log(C), np.log(dists), 1)\n"
     ]
    },
    {
     "name": "stdout",
     "output_type": "stream",
     "text": [
      "722\n"
     ]
    },
    {
     "name": "stderr",
     "output_type": "stream",
     "text": [
      "C:\\Users\\juju-\\Desktop\\projetos\\mng\\notebooks\\..\\scripts\\MNGFeaturesFractal.py:48: RankWarning: Polyfit may be poorly conditioned\n",
      "  coeffs = np.polyfit(np.log(C), np.log(dists), 1)\n"
     ]
    },
    {
     "name": "stdout",
     "output_type": "stream",
     "text": [
      "723\n"
     ]
    },
    {
     "name": "stderr",
     "output_type": "stream",
     "text": [
      "C:\\Users\\juju-\\Desktop\\projetos\\mng\\notebooks\\..\\scripts\\MNGFeaturesFractal.py:48: RankWarning: Polyfit may be poorly conditioned\n",
      "  coeffs = np.polyfit(np.log(C), np.log(dists), 1)\n"
     ]
    },
    {
     "name": "stdout",
     "output_type": "stream",
     "text": [
      "724\n"
     ]
    },
    {
     "name": "stderr",
     "output_type": "stream",
     "text": [
      "C:\\Users\\juju-\\Desktop\\projetos\\mng\\notebooks\\..\\scripts\\MNGFeaturesFractal.py:48: RankWarning: Polyfit may be poorly conditioned\n",
      "  coeffs = np.polyfit(np.log(C), np.log(dists), 1)\n"
     ]
    },
    {
     "name": "stdout",
     "output_type": "stream",
     "text": [
      "725\n"
     ]
    },
    {
     "name": "stderr",
     "output_type": "stream",
     "text": [
      "C:\\Users\\juju-\\Desktop\\projetos\\mng\\notebooks\\..\\scripts\\MNGFeaturesFractal.py:48: RankWarning: Polyfit may be poorly conditioned\n",
      "  coeffs = np.polyfit(np.log(C), np.log(dists), 1)\n"
     ]
    },
    {
     "name": "stdout",
     "output_type": "stream",
     "text": [
      "726\n"
     ]
    },
    {
     "name": "stderr",
     "output_type": "stream",
     "text": [
      "C:\\Users\\juju-\\Desktop\\projetos\\mng\\notebooks\\..\\scripts\\MNGFeaturesFractal.py:48: RankWarning: Polyfit may be poorly conditioned\n",
      "  coeffs = np.polyfit(np.log(C), np.log(dists), 1)\n"
     ]
    },
    {
     "name": "stdout",
     "output_type": "stream",
     "text": [
      "727\n"
     ]
    },
    {
     "name": "stderr",
     "output_type": "stream",
     "text": [
      "C:\\Users\\juju-\\Desktop\\projetos\\mng\\notebooks\\..\\scripts\\MNGFeaturesFractal.py:48: RankWarning: Polyfit may be poorly conditioned\n",
      "  coeffs = np.polyfit(np.log(C), np.log(dists), 1)\n"
     ]
    },
    {
     "name": "stdout",
     "output_type": "stream",
     "text": [
      "728\n"
     ]
    },
    {
     "name": "stderr",
     "output_type": "stream",
     "text": [
      "C:\\Users\\juju-\\Desktop\\projetos\\mng\\notebooks\\..\\scripts\\MNGFeaturesFractal.py:48: RankWarning: Polyfit may be poorly conditioned\n",
      "  coeffs = np.polyfit(np.log(C), np.log(dists), 1)\n"
     ]
    },
    {
     "name": "stdout",
     "output_type": "stream",
     "text": [
      "729\n"
     ]
    },
    {
     "name": "stderr",
     "output_type": "stream",
     "text": [
      "C:\\Users\\juju-\\Desktop\\projetos\\mng\\notebooks\\..\\scripts\\MNGFeaturesFractal.py:48: RankWarning: Polyfit may be poorly conditioned\n",
      "  coeffs = np.polyfit(np.log(C), np.log(dists), 1)\n"
     ]
    },
    {
     "name": "stdout",
     "output_type": "stream",
     "text": [
      "730\n"
     ]
    },
    {
     "name": "stderr",
     "output_type": "stream",
     "text": [
      "C:\\Users\\juju-\\Desktop\\projetos\\mng\\notebooks\\..\\scripts\\MNGFeaturesFractal.py:48: RankWarning: Polyfit may be poorly conditioned\n",
      "  coeffs = np.polyfit(np.log(C), np.log(dists), 1)\n"
     ]
    },
    {
     "name": "stdout",
     "output_type": "stream",
     "text": [
      "731\n"
     ]
    },
    {
     "name": "stderr",
     "output_type": "stream",
     "text": [
      "C:\\Users\\juju-\\Desktop\\projetos\\mng\\notebooks\\..\\scripts\\MNGFeaturesFractal.py:48: RankWarning: Polyfit may be poorly conditioned\n",
      "  coeffs = np.polyfit(np.log(C), np.log(dists), 1)\n"
     ]
    },
    {
     "name": "stdout",
     "output_type": "stream",
     "text": [
      "732\n"
     ]
    },
    {
     "name": "stderr",
     "output_type": "stream",
     "text": [
      "C:\\Users\\juju-\\Desktop\\projetos\\mng\\notebooks\\..\\scripts\\MNGFeaturesFractal.py:48: RankWarning: Polyfit may be poorly conditioned\n",
      "  coeffs = np.polyfit(np.log(C), np.log(dists), 1)\n"
     ]
    },
    {
     "name": "stdout",
     "output_type": "stream",
     "text": [
      "733\n",
      "734\n"
     ]
    },
    {
     "name": "stderr",
     "output_type": "stream",
     "text": [
      "C:\\Users\\juju-\\Desktop\\projetos\\mng\\notebooks\\..\\scripts\\MNGFeaturesFractal.py:48: RankWarning: Polyfit may be poorly conditioned\n",
      "  coeffs = np.polyfit(np.log(C), np.log(dists), 1)\n",
      "C:\\Users\\juju-\\Desktop\\projetos\\mng\\notebooks\\..\\scripts\\MNGFeaturesFractal.py:48: RankWarning: Polyfit may be poorly conditioned\n",
      "  coeffs = np.polyfit(np.log(C), np.log(dists), 1)\n"
     ]
    },
    {
     "name": "stdout",
     "output_type": "stream",
     "text": [
      "735\n"
     ]
    },
    {
     "name": "stderr",
     "output_type": "stream",
     "text": [
      "C:\\Users\\juju-\\Desktop\\projetos\\mng\\notebooks\\..\\scripts\\MNGFeaturesFractal.py:48: RankWarning: Polyfit may be poorly conditioned\n",
      "  coeffs = np.polyfit(np.log(C), np.log(dists), 1)\n"
     ]
    },
    {
     "name": "stdout",
     "output_type": "stream",
     "text": [
      "736\n"
     ]
    },
    {
     "name": "stderr",
     "output_type": "stream",
     "text": [
      "C:\\Users\\juju-\\Desktop\\projetos\\mng\\notebooks\\..\\scripts\\MNGFeaturesFractal.py:48: RankWarning: Polyfit may be poorly conditioned\n",
      "  coeffs = np.polyfit(np.log(C), np.log(dists), 1)\n"
     ]
    },
    {
     "name": "stdout",
     "output_type": "stream",
     "text": [
      "737\n"
     ]
    },
    {
     "name": "stderr",
     "output_type": "stream",
     "text": [
      "C:\\Users\\juju-\\Desktop\\projetos\\mng\\notebooks\\..\\scripts\\MNGFeaturesFractal.py:48: RankWarning: Polyfit may be poorly conditioned\n",
      "  coeffs = np.polyfit(np.log(C), np.log(dists), 1)\n"
     ]
    },
    {
     "name": "stdout",
     "output_type": "stream",
     "text": [
      "738\n"
     ]
    },
    {
     "name": "stderr",
     "output_type": "stream",
     "text": [
      "C:\\Users\\juju-\\Desktop\\projetos\\mng\\notebooks\\..\\scripts\\MNGFeaturesFractal.py:48: RankWarning: Polyfit may be poorly conditioned\n",
      "  coeffs = np.polyfit(np.log(C), np.log(dists), 1)\n"
     ]
    },
    {
     "name": "stdout",
     "output_type": "stream",
     "text": [
      "739\n"
     ]
    },
    {
     "name": "stderr",
     "output_type": "stream",
     "text": [
      "C:\\Users\\juju-\\Desktop\\projetos\\mng\\notebooks\\..\\scripts\\MNGFeaturesFractal.py:48: RankWarning: Polyfit may be poorly conditioned\n",
      "  coeffs = np.polyfit(np.log(C), np.log(dists), 1)\n"
     ]
    },
    {
     "name": "stdout",
     "output_type": "stream",
     "text": [
      "740\n"
     ]
    },
    {
     "name": "stderr",
     "output_type": "stream",
     "text": [
      "C:\\Users\\juju-\\Desktop\\projetos\\mng\\notebooks\\..\\scripts\\MNGFeaturesFractal.py:48: RankWarning: Polyfit may be poorly conditioned\n",
      "  coeffs = np.polyfit(np.log(C), np.log(dists), 1)\n"
     ]
    },
    {
     "name": "stdout",
     "output_type": "stream",
     "text": [
      "741\n"
     ]
    },
    {
     "name": "stderr",
     "output_type": "stream",
     "text": [
      "C:\\Users\\juju-\\Desktop\\projetos\\mng\\notebooks\\..\\scripts\\MNGFeaturesFractal.py:48: RankWarning: Polyfit may be poorly conditioned\n",
      "  coeffs = np.polyfit(np.log(C), np.log(dists), 1)\n"
     ]
    },
    {
     "name": "stdout",
     "output_type": "stream",
     "text": [
      "742\n"
     ]
    },
    {
     "name": "stderr",
     "output_type": "stream",
     "text": [
      "C:\\Users\\juju-\\Desktop\\projetos\\mng\\notebooks\\..\\scripts\\MNGFeaturesFractal.py:48: RankWarning: Polyfit may be poorly conditioned\n",
      "  coeffs = np.polyfit(np.log(C), np.log(dists), 1)\n"
     ]
    },
    {
     "name": "stdout",
     "output_type": "stream",
     "text": [
      "743\n"
     ]
    },
    {
     "name": "stderr",
     "output_type": "stream",
     "text": [
      "C:\\Users\\juju-\\Desktop\\projetos\\mng\\notebooks\\..\\scripts\\MNGFeaturesFractal.py:48: RankWarning: Polyfit may be poorly conditioned\n",
      "  coeffs = np.polyfit(np.log(C), np.log(dists), 1)\n"
     ]
    },
    {
     "name": "stdout",
     "output_type": "stream",
     "text": [
      "744\n"
     ]
    },
    {
     "name": "stderr",
     "output_type": "stream",
     "text": [
      "C:\\Users\\juju-\\Desktop\\projetos\\mng\\notebooks\\..\\scripts\\MNGFeaturesFractal.py:48: RankWarning: Polyfit may be poorly conditioned\n",
      "  coeffs = np.polyfit(np.log(C), np.log(dists), 1)\n"
     ]
    },
    {
     "name": "stdout",
     "output_type": "stream",
     "text": [
      "745\n"
     ]
    },
    {
     "name": "stderr",
     "output_type": "stream",
     "text": [
      "C:\\Users\\juju-\\Desktop\\projetos\\mng\\notebooks\\..\\scripts\\MNGFeaturesFractal.py:48: RankWarning: Polyfit may be poorly conditioned\n",
      "  coeffs = np.polyfit(np.log(C), np.log(dists), 1)\n"
     ]
    },
    {
     "name": "stdout",
     "output_type": "stream",
     "text": [
      "746\n"
     ]
    },
    {
     "name": "stderr",
     "output_type": "stream",
     "text": [
      "C:\\Users\\juju-\\Desktop\\projetos\\mng\\notebooks\\..\\scripts\\MNGFeaturesFractal.py:48: RankWarning: Polyfit may be poorly conditioned\n",
      "  coeffs = np.polyfit(np.log(C), np.log(dists), 1)\n"
     ]
    },
    {
     "name": "stdout",
     "output_type": "stream",
     "text": [
      "747\n"
     ]
    },
    {
     "name": "stderr",
     "output_type": "stream",
     "text": [
      "C:\\Users\\juju-\\Desktop\\projetos\\mng\\notebooks\\..\\scripts\\MNGFeaturesFractal.py:48: RankWarning: Polyfit may be poorly conditioned\n",
      "  coeffs = np.polyfit(np.log(C), np.log(dists), 1)\n"
     ]
    },
    {
     "name": "stdout",
     "output_type": "stream",
     "text": [
      "748\n"
     ]
    },
    {
     "name": "stderr",
     "output_type": "stream",
     "text": [
      "C:\\Users\\juju-\\Desktop\\projetos\\mng\\notebooks\\..\\scripts\\MNGFeaturesFractal.py:48: RankWarning: Polyfit may be poorly conditioned\n",
      "  coeffs = np.polyfit(np.log(C), np.log(dists), 1)\n"
     ]
    },
    {
     "name": "stdout",
     "output_type": "stream",
     "text": [
      "749\n"
     ]
    },
    {
     "name": "stderr",
     "output_type": "stream",
     "text": [
      "C:\\Users\\juju-\\Desktop\\projetos\\mng\\notebooks\\..\\scripts\\MNGFeaturesFractal.py:48: RankWarning: Polyfit may be poorly conditioned\n",
      "  coeffs = np.polyfit(np.log(C), np.log(dists), 1)\n"
     ]
    },
    {
     "name": "stdout",
     "output_type": "stream",
     "text": [
      "750\n"
     ]
    },
    {
     "name": "stderr",
     "output_type": "stream",
     "text": [
      "C:\\Users\\juju-\\Desktop\\projetos\\mng\\notebooks\\..\\scripts\\MNGFeaturesFractal.py:48: RankWarning: Polyfit may be poorly conditioned\n",
      "  coeffs = np.polyfit(np.log(C), np.log(dists), 1)\n"
     ]
    },
    {
     "name": "stdout",
     "output_type": "stream",
     "text": [
      "751\n"
     ]
    },
    {
     "name": "stderr",
     "output_type": "stream",
     "text": [
      "C:\\Users\\juju-\\Desktop\\projetos\\mng\\notebooks\\..\\scripts\\MNGFeaturesFractal.py:48: RankWarning: Polyfit may be poorly conditioned\n",
      "  coeffs = np.polyfit(np.log(C), np.log(dists), 1)\n"
     ]
    },
    {
     "name": "stdout",
     "output_type": "stream",
     "text": [
      "752\n"
     ]
    },
    {
     "name": "stderr",
     "output_type": "stream",
     "text": [
      "C:\\Users\\juju-\\Desktop\\projetos\\mng\\notebooks\\..\\scripts\\MNGFeaturesFractal.py:48: RankWarning: Polyfit may be poorly conditioned\n",
      "  coeffs = np.polyfit(np.log(C), np.log(dists), 1)\n"
     ]
    },
    {
     "name": "stdout",
     "output_type": "stream",
     "text": [
      "753\n"
     ]
    },
    {
     "name": "stderr",
     "output_type": "stream",
     "text": [
      "C:\\Users\\juju-\\Desktop\\projetos\\mng\\notebooks\\..\\scripts\\MNGFeaturesFractal.py:48: RankWarning: Polyfit may be poorly conditioned\n",
      "  coeffs = np.polyfit(np.log(C), np.log(dists), 1)\n"
     ]
    },
    {
     "name": "stdout",
     "output_type": "stream",
     "text": [
      "754\n"
     ]
    },
    {
     "name": "stderr",
     "output_type": "stream",
     "text": [
      "C:\\Users\\juju-\\Desktop\\projetos\\mng\\notebooks\\..\\scripts\\MNGFeaturesFractal.py:48: RankWarning: Polyfit may be poorly conditioned\n",
      "  coeffs = np.polyfit(np.log(C), np.log(dists), 1)\n"
     ]
    },
    {
     "name": "stdout",
     "output_type": "stream",
     "text": [
      "755\n"
     ]
    },
    {
     "name": "stderr",
     "output_type": "stream",
     "text": [
      "C:\\Users\\juju-\\Desktop\\projetos\\mng\\notebooks\\..\\scripts\\MNGFeaturesFractal.py:48: RankWarning: Polyfit may be poorly conditioned\n",
      "  coeffs = np.polyfit(np.log(C), np.log(dists), 1)\n"
     ]
    },
    {
     "name": "stdout",
     "output_type": "stream",
     "text": [
      "756\n"
     ]
    },
    {
     "name": "stderr",
     "output_type": "stream",
     "text": [
      "C:\\Users\\juju-\\Desktop\\projetos\\mng\\notebooks\\..\\scripts\\MNGFeaturesFractal.py:48: RankWarning: Polyfit may be poorly conditioned\n",
      "  coeffs = np.polyfit(np.log(C), np.log(dists), 1)\n"
     ]
    },
    {
     "name": "stdout",
     "output_type": "stream",
     "text": [
      "757\n"
     ]
    },
    {
     "name": "stderr",
     "output_type": "stream",
     "text": [
      "C:\\Users\\juju-\\Desktop\\projetos\\mng\\notebooks\\..\\scripts\\MNGFeaturesFractal.py:48: RankWarning: Polyfit may be poorly conditioned\n",
      "  coeffs = np.polyfit(np.log(C), np.log(dists), 1)\n"
     ]
    },
    {
     "name": "stdout",
     "output_type": "stream",
     "text": [
      "758\n"
     ]
    },
    {
     "name": "stderr",
     "output_type": "stream",
     "text": [
      "C:\\Users\\juju-\\Desktop\\projetos\\mng\\notebooks\\..\\scripts\\MNGFeaturesFractal.py:48: RankWarning: Polyfit may be poorly conditioned\n",
      "  coeffs = np.polyfit(np.log(C), np.log(dists), 1)\n"
     ]
    },
    {
     "name": "stdout",
     "output_type": "stream",
     "text": [
      "759\n"
     ]
    },
    {
     "name": "stderr",
     "output_type": "stream",
     "text": [
      "C:\\Users\\juju-\\Desktop\\projetos\\mng\\notebooks\\..\\scripts\\MNGFeaturesFractal.py:48: RankWarning: Polyfit may be poorly conditioned\n",
      "  coeffs = np.polyfit(np.log(C), np.log(dists), 1)\n"
     ]
    },
    {
     "name": "stdout",
     "output_type": "stream",
     "text": [
      "760\n"
     ]
    },
    {
     "name": "stderr",
     "output_type": "stream",
     "text": [
      "C:\\Users\\juju-\\Desktop\\projetos\\mng\\notebooks\\..\\scripts\\MNGFeaturesFractal.py:48: RankWarning: Polyfit may be poorly conditioned\n",
      "  coeffs = np.polyfit(np.log(C), np.log(dists), 1)\n"
     ]
    },
    {
     "name": "stdout",
     "output_type": "stream",
     "text": [
      "761\n"
     ]
    },
    {
     "name": "stderr",
     "output_type": "stream",
     "text": [
      "C:\\Users\\juju-\\Desktop\\projetos\\mng\\notebooks\\..\\scripts\\MNGFeaturesFractal.py:48: RankWarning: Polyfit may be poorly conditioned\n",
      "  coeffs = np.polyfit(np.log(C), np.log(dists), 1)\n"
     ]
    },
    {
     "name": "stdout",
     "output_type": "stream",
     "text": [
      "762\n"
     ]
    },
    {
     "name": "stderr",
     "output_type": "stream",
     "text": [
      "C:\\Users\\juju-\\Desktop\\projetos\\mng\\notebooks\\..\\scripts\\MNGFeaturesFractal.py:48: RankWarning: Polyfit may be poorly conditioned\n",
      "  coeffs = np.polyfit(np.log(C), np.log(dists), 1)\n"
     ]
    },
    {
     "name": "stdout",
     "output_type": "stream",
     "text": [
      "763\n"
     ]
    },
    {
     "name": "stderr",
     "output_type": "stream",
     "text": [
      "C:\\Users\\juju-\\Desktop\\projetos\\mng\\notebooks\\..\\scripts\\MNGFeaturesFractal.py:48: RankWarning: Polyfit may be poorly conditioned\n",
      "  coeffs = np.polyfit(np.log(C), np.log(dists), 1)\n"
     ]
    },
    {
     "name": "stdout",
     "output_type": "stream",
     "text": [
      "764\n"
     ]
    },
    {
     "name": "stderr",
     "output_type": "stream",
     "text": [
      "C:\\Users\\juju-\\Desktop\\projetos\\mng\\notebooks\\..\\scripts\\MNGFeaturesFractal.py:48: RankWarning: Polyfit may be poorly conditioned\n",
      "  coeffs = np.polyfit(np.log(C), np.log(dists), 1)\n"
     ]
    },
    {
     "name": "stdout",
     "output_type": "stream",
     "text": [
      "765\n"
     ]
    },
    {
     "name": "stderr",
     "output_type": "stream",
     "text": [
      "C:\\Users\\juju-\\Desktop\\projetos\\mng\\notebooks\\..\\scripts\\MNGFeaturesFractal.py:48: RankWarning: Polyfit may be poorly conditioned\n",
      "  coeffs = np.polyfit(np.log(C), np.log(dists), 1)\n"
     ]
    },
    {
     "name": "stdout",
     "output_type": "stream",
     "text": [
      "766\n"
     ]
    },
    {
     "name": "stderr",
     "output_type": "stream",
     "text": [
      "C:\\Users\\juju-\\Desktop\\projetos\\mng\\notebooks\\..\\scripts\\MNGFeaturesFractal.py:48: RankWarning: Polyfit may be poorly conditioned\n",
      "  coeffs = np.polyfit(np.log(C), np.log(dists), 1)\n"
     ]
    },
    {
     "name": "stdout",
     "output_type": "stream",
     "text": [
      "767\n"
     ]
    },
    {
     "name": "stderr",
     "output_type": "stream",
     "text": [
      "C:\\Users\\juju-\\Desktop\\projetos\\mng\\notebooks\\..\\scripts\\MNGFeaturesFractal.py:48: RankWarning: Polyfit may be poorly conditioned\n",
      "  coeffs = np.polyfit(np.log(C), np.log(dists), 1)\n"
     ]
    },
    {
     "name": "stdout",
     "output_type": "stream",
     "text": [
      "768\n"
     ]
    },
    {
     "name": "stderr",
     "output_type": "stream",
     "text": [
      "C:\\Users\\juju-\\Desktop\\projetos\\mng\\notebooks\\..\\scripts\\MNGFeaturesFractal.py:48: RankWarning: Polyfit may be poorly conditioned\n",
      "  coeffs = np.polyfit(np.log(C), np.log(dists), 1)\n"
     ]
    },
    {
     "name": "stdout",
     "output_type": "stream",
     "text": [
      "769\n"
     ]
    },
    {
     "name": "stderr",
     "output_type": "stream",
     "text": [
      "C:\\Users\\juju-\\Desktop\\projetos\\mng\\notebooks\\..\\scripts\\MNGFeaturesFractal.py:48: RankWarning: Polyfit may be poorly conditioned\n",
      "  coeffs = np.polyfit(np.log(C), np.log(dists), 1)\n"
     ]
    },
    {
     "name": "stdout",
     "output_type": "stream",
     "text": [
      "770\n"
     ]
    },
    {
     "name": "stderr",
     "output_type": "stream",
     "text": [
      "C:\\Users\\juju-\\Desktop\\projetos\\mng\\notebooks\\..\\scripts\\MNGFeaturesFractal.py:48: RankWarning: Polyfit may be poorly conditioned\n",
      "  coeffs = np.polyfit(np.log(C), np.log(dists), 1)\n"
     ]
    },
    {
     "name": "stdout",
     "output_type": "stream",
     "text": [
      "771\n"
     ]
    },
    {
     "name": "stderr",
     "output_type": "stream",
     "text": [
      "C:\\Users\\juju-\\Desktop\\projetos\\mng\\notebooks\\..\\scripts\\MNGFeaturesFractal.py:48: RankWarning: Polyfit may be poorly conditioned\n",
      "  coeffs = np.polyfit(np.log(C), np.log(dists), 1)\n"
     ]
    },
    {
     "name": "stdout",
     "output_type": "stream",
     "text": [
      "772\n"
     ]
    },
    {
     "name": "stderr",
     "output_type": "stream",
     "text": [
      "C:\\Users\\juju-\\Desktop\\projetos\\mng\\notebooks\\..\\scripts\\MNGFeaturesFractal.py:48: RankWarning: Polyfit may be poorly conditioned\n",
      "  coeffs = np.polyfit(np.log(C), np.log(dists), 1)\n"
     ]
    },
    {
     "name": "stdout",
     "output_type": "stream",
     "text": [
      "773\n"
     ]
    },
    {
     "name": "stderr",
     "output_type": "stream",
     "text": [
      "C:\\Users\\juju-\\Desktop\\projetos\\mng\\notebooks\\..\\scripts\\MNGFeaturesFractal.py:48: RankWarning: Polyfit may be poorly conditioned\n",
      "  coeffs = np.polyfit(np.log(C), np.log(dists), 1)\n"
     ]
    },
    {
     "name": "stdout",
     "output_type": "stream",
     "text": [
      "774\n"
     ]
    },
    {
     "name": "stderr",
     "output_type": "stream",
     "text": [
      "C:\\Users\\juju-\\Desktop\\projetos\\mng\\notebooks\\..\\scripts\\MNGFeaturesFractal.py:48: RankWarning: Polyfit may be poorly conditioned\n",
      "  coeffs = np.polyfit(np.log(C), np.log(dists), 1)\n"
     ]
    },
    {
     "name": "stdout",
     "output_type": "stream",
     "text": [
      "775\n"
     ]
    },
    {
     "name": "stderr",
     "output_type": "stream",
     "text": [
      "C:\\Users\\juju-\\Desktop\\projetos\\mng\\notebooks\\..\\scripts\\MNGFeaturesFractal.py:48: RankWarning: Polyfit may be poorly conditioned\n",
      "  coeffs = np.polyfit(np.log(C), np.log(dists), 1)\n"
     ]
    },
    {
     "name": "stdout",
     "output_type": "stream",
     "text": [
      "776\n"
     ]
    },
    {
     "name": "stderr",
     "output_type": "stream",
     "text": [
      "C:\\Users\\juju-\\Desktop\\projetos\\mng\\notebooks\\..\\scripts\\MNGFeaturesFractal.py:48: RankWarning: Polyfit may be poorly conditioned\n",
      "  coeffs = np.polyfit(np.log(C), np.log(dists), 1)\n"
     ]
    },
    {
     "name": "stdout",
     "output_type": "stream",
     "text": [
      "777\n"
     ]
    },
    {
     "name": "stderr",
     "output_type": "stream",
     "text": [
      "C:\\Users\\juju-\\Desktop\\projetos\\mng\\notebooks\\..\\scripts\\MNGFeaturesFractal.py:48: RankWarning: Polyfit may be poorly conditioned\n",
      "  coeffs = np.polyfit(np.log(C), np.log(dists), 1)\n"
     ]
    },
    {
     "name": "stdout",
     "output_type": "stream",
     "text": [
      "778\n"
     ]
    },
    {
     "name": "stderr",
     "output_type": "stream",
     "text": [
      "C:\\Users\\juju-\\Desktop\\projetos\\mng\\notebooks\\..\\scripts\\MNGFeaturesFractal.py:48: RankWarning: Polyfit may be poorly conditioned\n",
      "  coeffs = np.polyfit(np.log(C), np.log(dists), 1)\n"
     ]
    },
    {
     "name": "stdout",
     "output_type": "stream",
     "text": [
      "779\n"
     ]
    },
    {
     "name": "stderr",
     "output_type": "stream",
     "text": [
      "C:\\Users\\juju-\\Desktop\\projetos\\mng\\notebooks\\..\\scripts\\MNGFeaturesFractal.py:48: RankWarning: Polyfit may be poorly conditioned\n",
      "  coeffs = np.polyfit(np.log(C), np.log(dists), 1)\n"
     ]
    },
    {
     "name": "stdout",
     "output_type": "stream",
     "text": [
      "780\n"
     ]
    },
    {
     "name": "stderr",
     "output_type": "stream",
     "text": [
      "C:\\Users\\juju-\\Desktop\\projetos\\mng\\notebooks\\..\\scripts\\MNGFeaturesFractal.py:48: RankWarning: Polyfit may be poorly conditioned\n",
      "  coeffs = np.polyfit(np.log(C), np.log(dists), 1)\n"
     ]
    },
    {
     "name": "stdout",
     "output_type": "stream",
     "text": [
      "781\n"
     ]
    },
    {
     "name": "stderr",
     "output_type": "stream",
     "text": [
      "C:\\Users\\juju-\\Desktop\\projetos\\mng\\notebooks\\..\\scripts\\MNGFeaturesFractal.py:48: RankWarning: Polyfit may be poorly conditioned\n",
      "  coeffs = np.polyfit(np.log(C), np.log(dists), 1)\n"
     ]
    },
    {
     "name": "stdout",
     "output_type": "stream",
     "text": [
      "782\n"
     ]
    },
    {
     "name": "stderr",
     "output_type": "stream",
     "text": [
      "C:\\Users\\juju-\\Desktop\\projetos\\mng\\notebooks\\..\\scripts\\MNGFeaturesFractal.py:48: RankWarning: Polyfit may be poorly conditioned\n",
      "  coeffs = np.polyfit(np.log(C), np.log(dists), 1)\n"
     ]
    },
    {
     "name": "stdout",
     "output_type": "stream",
     "text": [
      "783\n"
     ]
    },
    {
     "name": "stderr",
     "output_type": "stream",
     "text": [
      "C:\\Users\\juju-\\Desktop\\projetos\\mng\\notebooks\\..\\scripts\\MNGFeaturesFractal.py:48: RankWarning: Polyfit may be poorly conditioned\n",
      "  coeffs = np.polyfit(np.log(C), np.log(dists), 1)\n"
     ]
    },
    {
     "name": "stdout",
     "output_type": "stream",
     "text": [
      "784\n"
     ]
    },
    {
     "name": "stderr",
     "output_type": "stream",
     "text": [
      "C:\\Users\\juju-\\Desktop\\projetos\\mng\\notebooks\\..\\scripts\\MNGFeaturesFractal.py:48: RankWarning: Polyfit may be poorly conditioned\n",
      "  coeffs = np.polyfit(np.log(C), np.log(dists), 1)\n"
     ]
    },
    {
     "name": "stdout",
     "output_type": "stream",
     "text": [
      "785\n"
     ]
    },
    {
     "name": "stderr",
     "output_type": "stream",
     "text": [
      "C:\\Users\\juju-\\Desktop\\projetos\\mng\\notebooks\\..\\scripts\\MNGFeaturesFractal.py:48: RankWarning: Polyfit may be poorly conditioned\n",
      "  coeffs = np.polyfit(np.log(C), np.log(dists), 1)\n"
     ]
    },
    {
     "name": "stdout",
     "output_type": "stream",
     "text": [
      "786\n"
     ]
    },
    {
     "name": "stderr",
     "output_type": "stream",
     "text": [
      "C:\\Users\\juju-\\Desktop\\projetos\\mng\\notebooks\\..\\scripts\\MNGFeaturesFractal.py:48: RankWarning: Polyfit may be poorly conditioned\n",
      "  coeffs = np.polyfit(np.log(C), np.log(dists), 1)\n"
     ]
    },
    {
     "name": "stdout",
     "output_type": "stream",
     "text": [
      "787\n"
     ]
    },
    {
     "name": "stderr",
     "output_type": "stream",
     "text": [
      "C:\\Users\\juju-\\Desktop\\projetos\\mng\\notebooks\\..\\scripts\\MNGFeaturesFractal.py:48: RankWarning: Polyfit may be poorly conditioned\n",
      "  coeffs = np.polyfit(np.log(C), np.log(dists), 1)\n"
     ]
    },
    {
     "name": "stdout",
     "output_type": "stream",
     "text": [
      "788\n"
     ]
    },
    {
     "name": "stderr",
     "output_type": "stream",
     "text": [
      "C:\\Users\\juju-\\Desktop\\projetos\\mng\\notebooks\\..\\scripts\\MNGFeaturesFractal.py:48: RankWarning: Polyfit may be poorly conditioned\n",
      "  coeffs = np.polyfit(np.log(C), np.log(dists), 1)\n"
     ]
    },
    {
     "name": "stdout",
     "output_type": "stream",
     "text": [
      "789\n"
     ]
    },
    {
     "name": "stderr",
     "output_type": "stream",
     "text": [
      "C:\\Users\\juju-\\Desktop\\projetos\\mng\\notebooks\\..\\scripts\\MNGFeaturesFractal.py:48: RankWarning: Polyfit may be poorly conditioned\n",
      "  coeffs = np.polyfit(np.log(C), np.log(dists), 1)\n"
     ]
    },
    {
     "name": "stdout",
     "output_type": "stream",
     "text": [
      "790\n"
     ]
    },
    {
     "name": "stderr",
     "output_type": "stream",
     "text": [
      "C:\\Users\\juju-\\Desktop\\projetos\\mng\\notebooks\\..\\scripts\\MNGFeaturesFractal.py:48: RankWarning: Polyfit may be poorly conditioned\n",
      "  coeffs = np.polyfit(np.log(C), np.log(dists), 1)\n"
     ]
    },
    {
     "name": "stdout",
     "output_type": "stream",
     "text": [
      "791\n"
     ]
    },
    {
     "name": "stderr",
     "output_type": "stream",
     "text": [
      "C:\\Users\\juju-\\Desktop\\projetos\\mng\\notebooks\\..\\scripts\\MNGFeaturesFractal.py:48: RankWarning: Polyfit may be poorly conditioned\n",
      "  coeffs = np.polyfit(np.log(C), np.log(dists), 1)\n"
     ]
    },
    {
     "name": "stdout",
     "output_type": "stream",
     "text": [
      "792\n"
     ]
    },
    {
     "name": "stderr",
     "output_type": "stream",
     "text": [
      "C:\\Users\\juju-\\Desktop\\projetos\\mng\\notebooks\\..\\scripts\\MNGFeaturesFractal.py:48: RankWarning: Polyfit may be poorly conditioned\n",
      "  coeffs = np.polyfit(np.log(C), np.log(dists), 1)\n"
     ]
    },
    {
     "name": "stdout",
     "output_type": "stream",
     "text": [
      "793\n"
     ]
    },
    {
     "name": "stderr",
     "output_type": "stream",
     "text": [
      "C:\\Users\\juju-\\Desktop\\projetos\\mng\\notebooks\\..\\scripts\\MNGFeaturesFractal.py:48: RankWarning: Polyfit may be poorly conditioned\n",
      "  coeffs = np.polyfit(np.log(C), np.log(dists), 1)\n"
     ]
    },
    {
     "name": "stdout",
     "output_type": "stream",
     "text": [
      "794\n"
     ]
    },
    {
     "name": "stderr",
     "output_type": "stream",
     "text": [
      "C:\\Users\\juju-\\Desktop\\projetos\\mng\\notebooks\\..\\scripts\\MNGFeaturesFractal.py:48: RankWarning: Polyfit may be poorly conditioned\n",
      "  coeffs = np.polyfit(np.log(C), np.log(dists), 1)\n"
     ]
    },
    {
     "name": "stdout",
     "output_type": "stream",
     "text": [
      "795\n"
     ]
    },
    {
     "name": "stderr",
     "output_type": "stream",
     "text": [
      "C:\\Users\\juju-\\Desktop\\projetos\\mng\\notebooks\\..\\scripts\\MNGFeaturesFractal.py:48: RankWarning: Polyfit may be poorly conditioned\n",
      "  coeffs = np.polyfit(np.log(C), np.log(dists), 1)\n"
     ]
    },
    {
     "name": "stdout",
     "output_type": "stream",
     "text": [
      "796\n"
     ]
    },
    {
     "name": "stderr",
     "output_type": "stream",
     "text": [
      "C:\\Users\\juju-\\Desktop\\projetos\\mng\\notebooks\\..\\scripts\\MNGFeaturesFractal.py:48: RankWarning: Polyfit may be poorly conditioned\n",
      "  coeffs = np.polyfit(np.log(C), np.log(dists), 1)\n"
     ]
    },
    {
     "name": "stdout",
     "output_type": "stream",
     "text": [
      "797\n"
     ]
    },
    {
     "name": "stderr",
     "output_type": "stream",
     "text": [
      "C:\\Users\\juju-\\Desktop\\projetos\\mng\\notebooks\\..\\scripts\\MNGFeaturesFractal.py:48: RankWarning: Polyfit may be poorly conditioned\n",
      "  coeffs = np.polyfit(np.log(C), np.log(dists), 1)\n"
     ]
    },
    {
     "name": "stdout",
     "output_type": "stream",
     "text": [
      "798\n"
     ]
    },
    {
     "name": "stderr",
     "output_type": "stream",
     "text": [
      "C:\\Users\\juju-\\Desktop\\projetos\\mng\\notebooks\\..\\scripts\\MNGFeaturesFractal.py:48: RankWarning: Polyfit may be poorly conditioned\n",
      "  coeffs = np.polyfit(np.log(C), np.log(dists), 1)\n"
     ]
    },
    {
     "name": "stdout",
     "output_type": "stream",
     "text": [
      "799\n"
     ]
    },
    {
     "name": "stderr",
     "output_type": "stream",
     "text": [
      "C:\\Users\\juju-\\Desktop\\projetos\\mng\\notebooks\\..\\scripts\\MNGFeaturesFractal.py:48: RankWarning: Polyfit may be poorly conditioned\n",
      "  coeffs = np.polyfit(np.log(C), np.log(dists), 1)\n"
     ]
    },
    {
     "name": "stdout",
     "output_type": "stream",
     "text": [
      "800\n"
     ]
    },
    {
     "name": "stderr",
     "output_type": "stream",
     "text": [
      "C:\\Users\\juju-\\Desktop\\projetos\\mng\\notebooks\\..\\scripts\\MNGFeaturesFractal.py:48: RankWarning: Polyfit may be poorly conditioned\n",
      "  coeffs = np.polyfit(np.log(C), np.log(dists), 1)\n"
     ]
    },
    {
     "name": "stdout",
     "output_type": "stream",
     "text": [
      "801\n"
     ]
    },
    {
     "name": "stderr",
     "output_type": "stream",
     "text": [
      "C:\\Users\\juju-\\Desktop\\projetos\\mng\\notebooks\\..\\scripts\\MNGFeaturesFractal.py:48: RankWarning: Polyfit may be poorly conditioned\n",
      "  coeffs = np.polyfit(np.log(C), np.log(dists), 1)\n"
     ]
    },
    {
     "name": "stdout",
     "output_type": "stream",
     "text": [
      "802\n"
     ]
    },
    {
     "name": "stderr",
     "output_type": "stream",
     "text": [
      "C:\\Users\\juju-\\Desktop\\projetos\\mng\\notebooks\\..\\scripts\\MNGFeaturesFractal.py:48: RankWarning: Polyfit may be poorly conditioned\n",
      "  coeffs = np.polyfit(np.log(C), np.log(dists), 1)\n"
     ]
    },
    {
     "name": "stdout",
     "output_type": "stream",
     "text": [
      "803\n"
     ]
    },
    {
     "name": "stderr",
     "output_type": "stream",
     "text": [
      "C:\\Users\\juju-\\Desktop\\projetos\\mng\\notebooks\\..\\scripts\\MNGFeaturesFractal.py:48: RankWarning: Polyfit may be poorly conditioned\n",
      "  coeffs = np.polyfit(np.log(C), np.log(dists), 1)\n"
     ]
    },
    {
     "name": "stdout",
     "output_type": "stream",
     "text": [
      "804\n"
     ]
    },
    {
     "name": "stderr",
     "output_type": "stream",
     "text": [
      "C:\\Users\\juju-\\Desktop\\projetos\\mng\\notebooks\\..\\scripts\\MNGFeaturesFractal.py:48: RankWarning: Polyfit may be poorly conditioned\n",
      "  coeffs = np.polyfit(np.log(C), np.log(dists), 1)\n"
     ]
    },
    {
     "name": "stdout",
     "output_type": "stream",
     "text": [
      "805\n"
     ]
    },
    {
     "name": "stderr",
     "output_type": "stream",
     "text": [
      "C:\\Users\\juju-\\Desktop\\projetos\\mng\\notebooks\\..\\scripts\\MNGFeaturesFractal.py:48: RankWarning: Polyfit may be poorly conditioned\n",
      "  coeffs = np.polyfit(np.log(C), np.log(dists), 1)\n"
     ]
    },
    {
     "name": "stdout",
     "output_type": "stream",
     "text": [
      "806\n"
     ]
    },
    {
     "name": "stderr",
     "output_type": "stream",
     "text": [
      "C:\\Users\\juju-\\Desktop\\projetos\\mng\\notebooks\\..\\scripts\\MNGFeaturesFractal.py:48: RankWarning: Polyfit may be poorly conditioned\n",
      "  coeffs = np.polyfit(np.log(C), np.log(dists), 1)\n"
     ]
    },
    {
     "name": "stdout",
     "output_type": "stream",
     "text": [
      "807\n"
     ]
    },
    {
     "name": "stderr",
     "output_type": "stream",
     "text": [
      "C:\\Users\\juju-\\Desktop\\projetos\\mng\\notebooks\\..\\scripts\\MNGFeaturesFractal.py:48: RankWarning: Polyfit may be poorly conditioned\n",
      "  coeffs = np.polyfit(np.log(C), np.log(dists), 1)\n"
     ]
    },
    {
     "name": "stdout",
     "output_type": "stream",
     "text": [
      "808\n"
     ]
    },
    {
     "name": "stderr",
     "output_type": "stream",
     "text": [
      "C:\\Users\\juju-\\Desktop\\projetos\\mng\\notebooks\\..\\scripts\\MNGFeaturesFractal.py:48: RankWarning: Polyfit may be poorly conditioned\n",
      "  coeffs = np.polyfit(np.log(C), np.log(dists), 1)\n"
     ]
    },
    {
     "name": "stdout",
     "output_type": "stream",
     "text": [
      "809\n"
     ]
    },
    {
     "name": "stderr",
     "output_type": "stream",
     "text": [
      "C:\\Users\\juju-\\Desktop\\projetos\\mng\\notebooks\\..\\scripts\\MNGFeaturesFractal.py:48: RankWarning: Polyfit may be poorly conditioned\n",
      "  coeffs = np.polyfit(np.log(C), np.log(dists), 1)\n"
     ]
    },
    {
     "name": "stdout",
     "output_type": "stream",
     "text": [
      "810\n"
     ]
    },
    {
     "name": "stderr",
     "output_type": "stream",
     "text": [
      "C:\\Users\\juju-\\Desktop\\projetos\\mng\\notebooks\\..\\scripts\\MNGFeaturesFractal.py:48: RankWarning: Polyfit may be poorly conditioned\n",
      "  coeffs = np.polyfit(np.log(C), np.log(dists), 1)\n"
     ]
    },
    {
     "name": "stdout",
     "output_type": "stream",
     "text": [
      "811\n"
     ]
    },
    {
     "name": "stderr",
     "output_type": "stream",
     "text": [
      "C:\\Users\\juju-\\Desktop\\projetos\\mng\\notebooks\\..\\scripts\\MNGFeaturesFractal.py:48: RankWarning: Polyfit may be poorly conditioned\n",
      "  coeffs = np.polyfit(np.log(C), np.log(dists), 1)\n"
     ]
    },
    {
     "name": "stdout",
     "output_type": "stream",
     "text": [
      "812\n"
     ]
    },
    {
     "name": "stderr",
     "output_type": "stream",
     "text": [
      "C:\\Users\\juju-\\Desktop\\projetos\\mng\\notebooks\\..\\scripts\\MNGFeaturesFractal.py:48: RankWarning: Polyfit may be poorly conditioned\n",
      "  coeffs = np.polyfit(np.log(C), np.log(dists), 1)\n"
     ]
    },
    {
     "name": "stdout",
     "output_type": "stream",
     "text": [
      "813\n"
     ]
    },
    {
     "name": "stderr",
     "output_type": "stream",
     "text": [
      "C:\\Users\\juju-\\Desktop\\projetos\\mng\\notebooks\\..\\scripts\\MNGFeaturesFractal.py:48: RankWarning: Polyfit may be poorly conditioned\n",
      "  coeffs = np.polyfit(np.log(C), np.log(dists), 1)\n"
     ]
    },
    {
     "name": "stdout",
     "output_type": "stream",
     "text": [
      "814\n"
     ]
    },
    {
     "name": "stderr",
     "output_type": "stream",
     "text": [
      "C:\\Users\\juju-\\Desktop\\projetos\\mng\\notebooks\\..\\scripts\\MNGFeaturesFractal.py:48: RankWarning: Polyfit may be poorly conditioned\n",
      "  coeffs = np.polyfit(np.log(C), np.log(dists), 1)\n"
     ]
    },
    {
     "name": "stdout",
     "output_type": "stream",
     "text": [
      "815\n"
     ]
    },
    {
     "name": "stderr",
     "output_type": "stream",
     "text": [
      "C:\\Users\\juju-\\Desktop\\projetos\\mng\\notebooks\\..\\scripts\\MNGFeaturesFractal.py:48: RankWarning: Polyfit may be poorly conditioned\n",
      "  coeffs = np.polyfit(np.log(C), np.log(dists), 1)\n"
     ]
    },
    {
     "name": "stdout",
     "output_type": "stream",
     "text": [
      "816\n"
     ]
    },
    {
     "name": "stderr",
     "output_type": "stream",
     "text": [
      "C:\\Users\\juju-\\Desktop\\projetos\\mng\\notebooks\\..\\scripts\\MNGFeaturesFractal.py:48: RankWarning: Polyfit may be poorly conditioned\n",
      "  coeffs = np.polyfit(np.log(C), np.log(dists), 1)\n"
     ]
    },
    {
     "name": "stdout",
     "output_type": "stream",
     "text": [
      "817\n"
     ]
    },
    {
     "name": "stderr",
     "output_type": "stream",
     "text": [
      "C:\\Users\\juju-\\Desktop\\projetos\\mng\\notebooks\\..\\scripts\\MNGFeaturesFractal.py:48: RankWarning: Polyfit may be poorly conditioned\n",
      "  coeffs = np.polyfit(np.log(C), np.log(dists), 1)\n"
     ]
    },
    {
     "name": "stdout",
     "output_type": "stream",
     "text": [
      "818\n"
     ]
    },
    {
     "name": "stderr",
     "output_type": "stream",
     "text": [
      "C:\\Users\\juju-\\Desktop\\projetos\\mng\\notebooks\\..\\scripts\\MNGFeaturesFractal.py:48: RankWarning: Polyfit may be poorly conditioned\n",
      "  coeffs = np.polyfit(np.log(C), np.log(dists), 1)\n"
     ]
    },
    {
     "name": "stdout",
     "output_type": "stream",
     "text": [
      "819\n"
     ]
    },
    {
     "name": "stderr",
     "output_type": "stream",
     "text": [
      "C:\\Users\\juju-\\Desktop\\projetos\\mng\\notebooks\\..\\scripts\\MNGFeaturesFractal.py:48: RankWarning: Polyfit may be poorly conditioned\n",
      "  coeffs = np.polyfit(np.log(C), np.log(dists), 1)\n"
     ]
    },
    {
     "name": "stdout",
     "output_type": "stream",
     "text": [
      "820\n"
     ]
    },
    {
     "name": "stderr",
     "output_type": "stream",
     "text": [
      "C:\\Users\\juju-\\Desktop\\projetos\\mng\\notebooks\\..\\scripts\\MNGFeaturesFractal.py:48: RankWarning: Polyfit may be poorly conditioned\n",
      "  coeffs = np.polyfit(np.log(C), np.log(dists), 1)\n"
     ]
    },
    {
     "name": "stdout",
     "output_type": "stream",
     "text": [
      "821\n"
     ]
    },
    {
     "name": "stderr",
     "output_type": "stream",
     "text": [
      "C:\\Users\\juju-\\Desktop\\projetos\\mng\\notebooks\\..\\scripts\\MNGFeaturesFractal.py:48: RankWarning: Polyfit may be poorly conditioned\n",
      "  coeffs = np.polyfit(np.log(C), np.log(dists), 1)\n"
     ]
    },
    {
     "name": "stdout",
     "output_type": "stream",
     "text": [
      "822\n"
     ]
    },
    {
     "name": "stderr",
     "output_type": "stream",
     "text": [
      "C:\\Users\\juju-\\Desktop\\projetos\\mng\\notebooks\\..\\scripts\\MNGFeaturesFractal.py:48: RankWarning: Polyfit may be poorly conditioned\n",
      "  coeffs = np.polyfit(np.log(C), np.log(dists), 1)\n"
     ]
    },
    {
     "name": "stdout",
     "output_type": "stream",
     "text": [
      "823\n"
     ]
    },
    {
     "name": "stderr",
     "output_type": "stream",
     "text": [
      "C:\\Users\\juju-\\Desktop\\projetos\\mng\\notebooks\\..\\scripts\\MNGFeaturesFractal.py:48: RankWarning: Polyfit may be poorly conditioned\n",
      "  coeffs = np.polyfit(np.log(C), np.log(dists), 1)\n"
     ]
    },
    {
     "name": "stdout",
     "output_type": "stream",
     "text": [
      "824\n"
     ]
    },
    {
     "name": "stderr",
     "output_type": "stream",
     "text": [
      "C:\\Users\\juju-\\Desktop\\projetos\\mng\\notebooks\\..\\scripts\\MNGFeaturesFractal.py:48: RankWarning: Polyfit may be poorly conditioned\n",
      "  coeffs = np.polyfit(np.log(C), np.log(dists), 1)\n"
     ]
    },
    {
     "name": "stdout",
     "output_type": "stream",
     "text": [
      "825\n"
     ]
    },
    {
     "name": "stderr",
     "output_type": "stream",
     "text": [
      "C:\\Users\\juju-\\Desktop\\projetos\\mng\\notebooks\\..\\scripts\\MNGFeaturesFractal.py:48: RankWarning: Polyfit may be poorly conditioned\n",
      "  coeffs = np.polyfit(np.log(C), np.log(dists), 1)\n"
     ]
    },
    {
     "name": "stdout",
     "output_type": "stream",
     "text": [
      "826\n"
     ]
    },
    {
     "name": "stderr",
     "output_type": "stream",
     "text": [
      "C:\\Users\\juju-\\Desktop\\projetos\\mng\\notebooks\\..\\scripts\\MNGFeaturesFractal.py:48: RankWarning: Polyfit may be poorly conditioned\n",
      "  coeffs = np.polyfit(np.log(C), np.log(dists), 1)\n"
     ]
    },
    {
     "name": "stdout",
     "output_type": "stream",
     "text": [
      "827\n"
     ]
    },
    {
     "name": "stderr",
     "output_type": "stream",
     "text": [
      "C:\\Users\\juju-\\Desktop\\projetos\\mng\\notebooks\\..\\scripts\\MNGFeaturesFractal.py:48: RankWarning: Polyfit may be poorly conditioned\n",
      "  coeffs = np.polyfit(np.log(C), np.log(dists), 1)\n"
     ]
    },
    {
     "name": "stdout",
     "output_type": "stream",
     "text": [
      "828\n"
     ]
    },
    {
     "name": "stderr",
     "output_type": "stream",
     "text": [
      "C:\\Users\\juju-\\Desktop\\projetos\\mng\\notebooks\\..\\scripts\\MNGFeaturesFractal.py:48: RankWarning: Polyfit may be poorly conditioned\n",
      "  coeffs = np.polyfit(np.log(C), np.log(dists), 1)\n"
     ]
    },
    {
     "name": "stdout",
     "output_type": "stream",
     "text": [
      "829\n"
     ]
    },
    {
     "name": "stderr",
     "output_type": "stream",
     "text": [
      "C:\\Users\\juju-\\Desktop\\projetos\\mng\\notebooks\\..\\scripts\\MNGFeaturesFractal.py:48: RankWarning: Polyfit may be poorly conditioned\n",
      "  coeffs = np.polyfit(np.log(C), np.log(dists), 1)\n"
     ]
    },
    {
     "name": "stdout",
     "output_type": "stream",
     "text": [
      "830\n"
     ]
    },
    {
     "name": "stderr",
     "output_type": "stream",
     "text": [
      "C:\\Users\\juju-\\Desktop\\projetos\\mng\\notebooks\\..\\scripts\\MNGFeaturesFractal.py:48: RankWarning: Polyfit may be poorly conditioned\n",
      "  coeffs = np.polyfit(np.log(C), np.log(dists), 1)\n"
     ]
    },
    {
     "name": "stdout",
     "output_type": "stream",
     "text": [
      "831\n"
     ]
    },
    {
     "name": "stderr",
     "output_type": "stream",
     "text": [
      "C:\\Users\\juju-\\Desktop\\projetos\\mng\\notebooks\\..\\scripts\\MNGFeaturesFractal.py:48: RankWarning: Polyfit may be poorly conditioned\n",
      "  coeffs = np.polyfit(np.log(C), np.log(dists), 1)\n"
     ]
    },
    {
     "name": "stdout",
     "output_type": "stream",
     "text": [
      "832\n"
     ]
    },
    {
     "name": "stderr",
     "output_type": "stream",
     "text": [
      "C:\\Users\\juju-\\Desktop\\projetos\\mng\\notebooks\\..\\scripts\\MNGFeaturesFractal.py:48: RankWarning: Polyfit may be poorly conditioned\n",
      "  coeffs = np.polyfit(np.log(C), np.log(dists), 1)\n"
     ]
    },
    {
     "name": "stdout",
     "output_type": "stream",
     "text": [
      "833\n"
     ]
    },
    {
     "name": "stderr",
     "output_type": "stream",
     "text": [
      "C:\\Users\\juju-\\Desktop\\projetos\\mng\\notebooks\\..\\scripts\\MNGFeaturesFractal.py:48: RankWarning: Polyfit may be poorly conditioned\n",
      "  coeffs = np.polyfit(np.log(C), np.log(dists), 1)\n"
     ]
    },
    {
     "name": "stdout",
     "output_type": "stream",
     "text": [
      "834\n"
     ]
    },
    {
     "name": "stderr",
     "output_type": "stream",
     "text": [
      "C:\\Users\\juju-\\Desktop\\projetos\\mng\\notebooks\\..\\scripts\\MNGFeaturesFractal.py:48: RankWarning: Polyfit may be poorly conditioned\n",
      "  coeffs = np.polyfit(np.log(C), np.log(dists), 1)\n"
     ]
    },
    {
     "name": "stdout",
     "output_type": "stream",
     "text": [
      "835\n"
     ]
    },
    {
     "name": "stderr",
     "output_type": "stream",
     "text": [
      "C:\\Users\\juju-\\Desktop\\projetos\\mng\\notebooks\\..\\scripts\\MNGFeaturesFractal.py:48: RankWarning: Polyfit may be poorly conditioned\n",
      "  coeffs = np.polyfit(np.log(C), np.log(dists), 1)\n"
     ]
    },
    {
     "name": "stdout",
     "output_type": "stream",
     "text": [
      "836\n"
     ]
    },
    {
     "name": "stderr",
     "output_type": "stream",
     "text": [
      "C:\\Users\\juju-\\Desktop\\projetos\\mng\\notebooks\\..\\scripts\\MNGFeaturesFractal.py:48: RankWarning: Polyfit may be poorly conditioned\n",
      "  coeffs = np.polyfit(np.log(C), np.log(dists), 1)\n"
     ]
    },
    {
     "name": "stdout",
     "output_type": "stream",
     "text": [
      "837\n"
     ]
    },
    {
     "name": "stderr",
     "output_type": "stream",
     "text": [
      "C:\\Users\\juju-\\Desktop\\projetos\\mng\\notebooks\\..\\scripts\\MNGFeaturesFractal.py:48: RankWarning: Polyfit may be poorly conditioned\n",
      "  coeffs = np.polyfit(np.log(C), np.log(dists), 1)\n"
     ]
    },
    {
     "name": "stdout",
     "output_type": "stream",
     "text": [
      "838\n"
     ]
    },
    {
     "name": "stderr",
     "output_type": "stream",
     "text": [
      "C:\\Users\\juju-\\Desktop\\projetos\\mng\\notebooks\\..\\scripts\\MNGFeaturesFractal.py:48: RankWarning: Polyfit may be poorly conditioned\n",
      "  coeffs = np.polyfit(np.log(C), np.log(dists), 1)\n"
     ]
    },
    {
     "name": "stdout",
     "output_type": "stream",
     "text": [
      "839\n"
     ]
    },
    {
     "name": "stderr",
     "output_type": "stream",
     "text": [
      "C:\\Users\\juju-\\Desktop\\projetos\\mng\\notebooks\\..\\scripts\\MNGFeaturesFractal.py:48: RankWarning: Polyfit may be poorly conditioned\n",
      "  coeffs = np.polyfit(np.log(C), np.log(dists), 1)\n"
     ]
    },
    {
     "name": "stdout",
     "output_type": "stream",
     "text": [
      "840\n"
     ]
    },
    {
     "name": "stderr",
     "output_type": "stream",
     "text": [
      "C:\\Users\\juju-\\Desktop\\projetos\\mng\\notebooks\\..\\scripts\\MNGFeaturesFractal.py:48: RankWarning: Polyfit may be poorly conditioned\n",
      "  coeffs = np.polyfit(np.log(C), np.log(dists), 1)\n"
     ]
    },
    {
     "name": "stdout",
     "output_type": "stream",
     "text": [
      "841\n"
     ]
    },
    {
     "name": "stderr",
     "output_type": "stream",
     "text": [
      "C:\\Users\\juju-\\Desktop\\projetos\\mng\\notebooks\\..\\scripts\\MNGFeaturesFractal.py:48: RankWarning: Polyfit may be poorly conditioned\n",
      "  coeffs = np.polyfit(np.log(C), np.log(dists), 1)\n"
     ]
    },
    {
     "name": "stdout",
     "output_type": "stream",
     "text": [
      "842\n"
     ]
    },
    {
     "name": "stderr",
     "output_type": "stream",
     "text": [
      "C:\\Users\\juju-\\Desktop\\projetos\\mng\\notebooks\\..\\scripts\\MNGFeaturesFractal.py:48: RankWarning: Polyfit may be poorly conditioned\n",
      "  coeffs = np.polyfit(np.log(C), np.log(dists), 1)\n"
     ]
    },
    {
     "name": "stdout",
     "output_type": "stream",
     "text": [
      "843\n"
     ]
    },
    {
     "name": "stderr",
     "output_type": "stream",
     "text": [
      "C:\\Users\\juju-\\Desktop\\projetos\\mng\\notebooks\\..\\scripts\\MNGFeaturesFractal.py:48: RankWarning: Polyfit may be poorly conditioned\n",
      "  coeffs = np.polyfit(np.log(C), np.log(dists), 1)\n"
     ]
    },
    {
     "name": "stdout",
     "output_type": "stream",
     "text": [
      "844\n"
     ]
    },
    {
     "name": "stderr",
     "output_type": "stream",
     "text": [
      "C:\\Users\\juju-\\Desktop\\projetos\\mng\\notebooks\\..\\scripts\\MNGFeaturesFractal.py:48: RankWarning: Polyfit may be poorly conditioned\n",
      "  coeffs = np.polyfit(np.log(C), np.log(dists), 1)\n"
     ]
    },
    {
     "name": "stdout",
     "output_type": "stream",
     "text": [
      "845\n"
     ]
    },
    {
     "name": "stderr",
     "output_type": "stream",
     "text": [
      "C:\\Users\\juju-\\Desktop\\projetos\\mng\\notebooks\\..\\scripts\\MNGFeaturesFractal.py:48: RankWarning: Polyfit may be poorly conditioned\n",
      "  coeffs = np.polyfit(np.log(C), np.log(dists), 1)\n"
     ]
    },
    {
     "name": "stdout",
     "output_type": "stream",
     "text": [
      "846\n"
     ]
    },
    {
     "name": "stderr",
     "output_type": "stream",
     "text": [
      "C:\\Users\\juju-\\Desktop\\projetos\\mng\\notebooks\\..\\scripts\\MNGFeaturesFractal.py:48: RankWarning: Polyfit may be poorly conditioned\n",
      "  coeffs = np.polyfit(np.log(C), np.log(dists), 1)\n"
     ]
    },
    {
     "name": "stdout",
     "output_type": "stream",
     "text": [
      "847\n"
     ]
    },
    {
     "name": "stderr",
     "output_type": "stream",
     "text": [
      "C:\\Users\\juju-\\Desktop\\projetos\\mng\\notebooks\\..\\scripts\\MNGFeaturesFractal.py:48: RankWarning: Polyfit may be poorly conditioned\n",
      "  coeffs = np.polyfit(np.log(C), np.log(dists), 1)\n"
     ]
    },
    {
     "name": "stdout",
     "output_type": "stream",
     "text": [
      "848\n"
     ]
    },
    {
     "name": "stderr",
     "output_type": "stream",
     "text": [
      "C:\\Users\\juju-\\Desktop\\projetos\\mng\\notebooks\\..\\scripts\\MNGFeaturesFractal.py:48: RankWarning: Polyfit may be poorly conditioned\n",
      "  coeffs = np.polyfit(np.log(C), np.log(dists), 1)\n"
     ]
    },
    {
     "name": "stdout",
     "output_type": "stream",
     "text": [
      "849\n"
     ]
    },
    {
     "name": "stderr",
     "output_type": "stream",
     "text": [
      "C:\\Users\\juju-\\Desktop\\projetos\\mng\\notebooks\\..\\scripts\\MNGFeaturesFractal.py:48: RankWarning: Polyfit may be poorly conditioned\n",
      "  coeffs = np.polyfit(np.log(C), np.log(dists), 1)\n"
     ]
    },
    {
     "name": "stdout",
     "output_type": "stream",
     "text": [
      "850\n"
     ]
    },
    {
     "name": "stderr",
     "output_type": "stream",
     "text": [
      "C:\\Users\\juju-\\Desktop\\projetos\\mng\\notebooks\\..\\scripts\\MNGFeaturesFractal.py:48: RankWarning: Polyfit may be poorly conditioned\n",
      "  coeffs = np.polyfit(np.log(C), np.log(dists), 1)\n"
     ]
    },
    {
     "name": "stdout",
     "output_type": "stream",
     "text": [
      "851\n",
      "852\n"
     ]
    },
    {
     "name": "stderr",
     "output_type": "stream",
     "text": [
      "C:\\Users\\juju-\\Desktop\\projetos\\mng\\notebooks\\..\\scripts\\MNGFeaturesFractal.py:48: RankWarning: Polyfit may be poorly conditioned\n",
      "  coeffs = np.polyfit(np.log(C), np.log(dists), 1)\n",
      "C:\\Users\\juju-\\Desktop\\projetos\\mng\\notebooks\\..\\scripts\\MNGFeaturesFractal.py:48: RankWarning: Polyfit may be poorly conditioned\n",
      "  coeffs = np.polyfit(np.log(C), np.log(dists), 1)\n"
     ]
    },
    {
     "name": "stdout",
     "output_type": "stream",
     "text": [
      "853\n"
     ]
    },
    {
     "name": "stderr",
     "output_type": "stream",
     "text": [
      "C:\\Users\\juju-\\Desktop\\projetos\\mng\\notebooks\\..\\scripts\\MNGFeaturesFractal.py:48: RankWarning: Polyfit may be poorly conditioned\n",
      "  coeffs = np.polyfit(np.log(C), np.log(dists), 1)\n"
     ]
    },
    {
     "name": "stdout",
     "output_type": "stream",
     "text": [
      "854\n"
     ]
    },
    {
     "name": "stderr",
     "output_type": "stream",
     "text": [
      "C:\\Users\\juju-\\Desktop\\projetos\\mng\\notebooks\\..\\scripts\\MNGFeaturesFractal.py:48: RankWarning: Polyfit may be poorly conditioned\n",
      "  coeffs = np.polyfit(np.log(C), np.log(dists), 1)\n"
     ]
    },
    {
     "name": "stdout",
     "output_type": "stream",
     "text": [
      "855\n"
     ]
    },
    {
     "name": "stderr",
     "output_type": "stream",
     "text": [
      "C:\\Users\\juju-\\Desktop\\projetos\\mng\\notebooks\\..\\scripts\\MNGFeaturesFractal.py:48: RankWarning: Polyfit may be poorly conditioned\n",
      "  coeffs = np.polyfit(np.log(C), np.log(dists), 1)\n"
     ]
    },
    {
     "name": "stdout",
     "output_type": "stream",
     "text": [
      "856\n"
     ]
    },
    {
     "name": "stderr",
     "output_type": "stream",
     "text": [
      "C:\\Users\\juju-\\Desktop\\projetos\\mng\\notebooks\\..\\scripts\\MNGFeaturesFractal.py:48: RankWarning: Polyfit may be poorly conditioned\n",
      "  coeffs = np.polyfit(np.log(C), np.log(dists), 1)\n"
     ]
    },
    {
     "name": "stdout",
     "output_type": "stream",
     "text": [
      "857\n"
     ]
    },
    {
     "name": "stderr",
     "output_type": "stream",
     "text": [
      "C:\\Users\\juju-\\Desktop\\projetos\\mng\\notebooks\\..\\scripts\\MNGFeaturesFractal.py:48: RankWarning: Polyfit may be poorly conditioned\n",
      "  coeffs = np.polyfit(np.log(C), np.log(dists), 1)\n"
     ]
    },
    {
     "name": "stdout",
     "output_type": "stream",
     "text": [
      "858\n"
     ]
    },
    {
     "name": "stderr",
     "output_type": "stream",
     "text": [
      "C:\\Users\\juju-\\Desktop\\projetos\\mng\\notebooks\\..\\scripts\\MNGFeaturesFractal.py:48: RankWarning: Polyfit may be poorly conditioned\n",
      "  coeffs = np.polyfit(np.log(C), np.log(dists), 1)\n"
     ]
    },
    {
     "name": "stdout",
     "output_type": "stream",
     "text": [
      "859\n"
     ]
    },
    {
     "name": "stderr",
     "output_type": "stream",
     "text": [
      "C:\\Users\\juju-\\Desktop\\projetos\\mng\\notebooks\\..\\scripts\\MNGFeaturesFractal.py:48: RankWarning: Polyfit may be poorly conditioned\n",
      "  coeffs = np.polyfit(np.log(C), np.log(dists), 1)\n"
     ]
    },
    {
     "name": "stdout",
     "output_type": "stream",
     "text": [
      "860\n"
     ]
    },
    {
     "name": "stderr",
     "output_type": "stream",
     "text": [
      "C:\\Users\\juju-\\Desktop\\projetos\\mng\\notebooks\\..\\scripts\\MNGFeaturesFractal.py:48: RankWarning: Polyfit may be poorly conditioned\n",
      "  coeffs = np.polyfit(np.log(C), np.log(dists), 1)\n"
     ]
    },
    {
     "name": "stdout",
     "output_type": "stream",
     "text": [
      "861\n"
     ]
    },
    {
     "name": "stderr",
     "output_type": "stream",
     "text": [
      "C:\\Users\\juju-\\Desktop\\projetos\\mng\\notebooks\\..\\scripts\\MNGFeaturesFractal.py:48: RankWarning: Polyfit may be poorly conditioned\n",
      "  coeffs = np.polyfit(np.log(C), np.log(dists), 1)\n"
     ]
    },
    {
     "name": "stdout",
     "output_type": "stream",
     "text": [
      "862\n"
     ]
    },
    {
     "name": "stderr",
     "output_type": "stream",
     "text": [
      "C:\\Users\\juju-\\Desktop\\projetos\\mng\\notebooks\\..\\scripts\\MNGFeaturesFractal.py:48: RankWarning: Polyfit may be poorly conditioned\n",
      "  coeffs = np.polyfit(np.log(C), np.log(dists), 1)\n"
     ]
    },
    {
     "name": "stdout",
     "output_type": "stream",
     "text": [
      "863\n"
     ]
    },
    {
     "name": "stderr",
     "output_type": "stream",
     "text": [
      "C:\\Users\\juju-\\Desktop\\projetos\\mng\\notebooks\\..\\scripts\\MNGFeaturesFractal.py:48: RankWarning: Polyfit may be poorly conditioned\n",
      "  coeffs = np.polyfit(np.log(C), np.log(dists), 1)\n"
     ]
    },
    {
     "name": "stdout",
     "output_type": "stream",
     "text": [
      "864\n"
     ]
    },
    {
     "name": "stderr",
     "output_type": "stream",
     "text": [
      "C:\\Users\\juju-\\Desktop\\projetos\\mng\\notebooks\\..\\scripts\\MNGFeaturesFractal.py:48: RankWarning: Polyfit may be poorly conditioned\n",
      "  coeffs = np.polyfit(np.log(C), np.log(dists), 1)\n"
     ]
    },
    {
     "name": "stdout",
     "output_type": "stream",
     "text": [
      "865\n"
     ]
    },
    {
     "name": "stderr",
     "output_type": "stream",
     "text": [
      "C:\\Users\\juju-\\Desktop\\projetos\\mng\\notebooks\\..\\scripts\\MNGFeaturesFractal.py:48: RankWarning: Polyfit may be poorly conditioned\n",
      "  coeffs = np.polyfit(np.log(C), np.log(dists), 1)\n"
     ]
    },
    {
     "name": "stdout",
     "output_type": "stream",
     "text": [
      "866\n"
     ]
    },
    {
     "name": "stderr",
     "output_type": "stream",
     "text": [
      "C:\\Users\\juju-\\Desktop\\projetos\\mng\\notebooks\\..\\scripts\\MNGFeaturesFractal.py:48: RankWarning: Polyfit may be poorly conditioned\n",
      "  coeffs = np.polyfit(np.log(C), np.log(dists), 1)\n"
     ]
    },
    {
     "name": "stdout",
     "output_type": "stream",
     "text": [
      "867\n"
     ]
    },
    {
     "name": "stderr",
     "output_type": "stream",
     "text": [
      "C:\\Users\\juju-\\Desktop\\projetos\\mng\\notebooks\\..\\scripts\\MNGFeaturesFractal.py:48: RankWarning: Polyfit may be poorly conditioned\n",
      "  coeffs = np.polyfit(np.log(C), np.log(dists), 1)\n"
     ]
    },
    {
     "name": "stdout",
     "output_type": "stream",
     "text": [
      "868\n"
     ]
    },
    {
     "name": "stderr",
     "output_type": "stream",
     "text": [
      "C:\\Users\\juju-\\Desktop\\projetos\\mng\\notebooks\\..\\scripts\\MNGFeaturesFractal.py:48: RankWarning: Polyfit may be poorly conditioned\n",
      "  coeffs = np.polyfit(np.log(C), np.log(dists), 1)\n"
     ]
    },
    {
     "name": "stdout",
     "output_type": "stream",
     "text": [
      "869\n"
     ]
    },
    {
     "name": "stderr",
     "output_type": "stream",
     "text": [
      "C:\\Users\\juju-\\Desktop\\projetos\\mng\\notebooks\\..\\scripts\\MNGFeaturesFractal.py:48: RankWarning: Polyfit may be poorly conditioned\n",
      "  coeffs = np.polyfit(np.log(C), np.log(dists), 1)\n"
     ]
    },
    {
     "name": "stdout",
     "output_type": "stream",
     "text": [
      "870\n"
     ]
    },
    {
     "name": "stderr",
     "output_type": "stream",
     "text": [
      "C:\\Users\\juju-\\Desktop\\projetos\\mng\\notebooks\\..\\scripts\\MNGFeaturesFractal.py:48: RankWarning: Polyfit may be poorly conditioned\n",
      "  coeffs = np.polyfit(np.log(C), np.log(dists), 1)\n"
     ]
    },
    {
     "name": "stdout",
     "output_type": "stream",
     "text": [
      "871\n"
     ]
    },
    {
     "name": "stderr",
     "output_type": "stream",
     "text": [
      "C:\\Users\\juju-\\Desktop\\projetos\\mng\\notebooks\\..\\scripts\\MNGFeaturesFractal.py:48: RankWarning: Polyfit may be poorly conditioned\n",
      "  coeffs = np.polyfit(np.log(C), np.log(dists), 1)\n"
     ]
    },
    {
     "name": "stdout",
     "output_type": "stream",
     "text": [
      "872\n"
     ]
    },
    {
     "name": "stderr",
     "output_type": "stream",
     "text": [
      "C:\\Users\\juju-\\Desktop\\projetos\\mng\\notebooks\\..\\scripts\\MNGFeaturesFractal.py:48: RankWarning: Polyfit may be poorly conditioned\n",
      "  coeffs = np.polyfit(np.log(C), np.log(dists), 1)\n"
     ]
    },
    {
     "name": "stdout",
     "output_type": "stream",
     "text": [
      "873\n"
     ]
    },
    {
     "name": "stderr",
     "output_type": "stream",
     "text": [
      "C:\\Users\\juju-\\Desktop\\projetos\\mng\\notebooks\\..\\scripts\\MNGFeaturesFractal.py:48: RankWarning: Polyfit may be poorly conditioned\n",
      "  coeffs = np.polyfit(np.log(C), np.log(dists), 1)\n"
     ]
    },
    {
     "name": "stdout",
     "output_type": "stream",
     "text": [
      "874\n"
     ]
    },
    {
     "name": "stderr",
     "output_type": "stream",
     "text": [
      "C:\\Users\\juju-\\Desktop\\projetos\\mng\\notebooks\\..\\scripts\\MNGFeaturesFractal.py:48: RankWarning: Polyfit may be poorly conditioned\n",
      "  coeffs = np.polyfit(np.log(C), np.log(dists), 1)\n"
     ]
    },
    {
     "name": "stdout",
     "output_type": "stream",
     "text": [
      "875\n"
     ]
    },
    {
     "name": "stderr",
     "output_type": "stream",
     "text": [
      "C:\\Users\\juju-\\Desktop\\projetos\\mng\\notebooks\\..\\scripts\\MNGFeaturesFractal.py:48: RankWarning: Polyfit may be poorly conditioned\n",
      "  coeffs = np.polyfit(np.log(C), np.log(dists), 1)\n"
     ]
    },
    {
     "name": "stdout",
     "output_type": "stream",
     "text": [
      "876\n"
     ]
    },
    {
     "name": "stderr",
     "output_type": "stream",
     "text": [
      "C:\\Users\\juju-\\Desktop\\projetos\\mng\\notebooks\\..\\scripts\\MNGFeaturesFractal.py:48: RankWarning: Polyfit may be poorly conditioned\n",
      "  coeffs = np.polyfit(np.log(C), np.log(dists), 1)\n"
     ]
    },
    {
     "name": "stdout",
     "output_type": "stream",
     "text": [
      "877\n"
     ]
    },
    {
     "name": "stderr",
     "output_type": "stream",
     "text": [
      "C:\\Users\\juju-\\Desktop\\projetos\\mng\\notebooks\\..\\scripts\\MNGFeaturesFractal.py:48: RankWarning: Polyfit may be poorly conditioned\n",
      "  coeffs = np.polyfit(np.log(C), np.log(dists), 1)\n"
     ]
    },
    {
     "name": "stdout",
     "output_type": "stream",
     "text": [
      "878\n"
     ]
    },
    {
     "name": "stderr",
     "output_type": "stream",
     "text": [
      "C:\\Users\\juju-\\Desktop\\projetos\\mng\\notebooks\\..\\scripts\\MNGFeaturesFractal.py:48: RankWarning: Polyfit may be poorly conditioned\n",
      "  coeffs = np.polyfit(np.log(C), np.log(dists), 1)\n"
     ]
    },
    {
     "name": "stdout",
     "output_type": "stream",
     "text": [
      "879\n"
     ]
    },
    {
     "name": "stderr",
     "output_type": "stream",
     "text": [
      "C:\\Users\\juju-\\Desktop\\projetos\\mng\\notebooks\\..\\scripts\\MNGFeaturesFractal.py:48: RankWarning: Polyfit may be poorly conditioned\n",
      "  coeffs = np.polyfit(np.log(C), np.log(dists), 1)\n"
     ]
    },
    {
     "name": "stdout",
     "output_type": "stream",
     "text": [
      "880\n"
     ]
    },
    {
     "name": "stderr",
     "output_type": "stream",
     "text": [
      "C:\\Users\\juju-\\Desktop\\projetos\\mng\\notebooks\\..\\scripts\\MNGFeaturesFractal.py:48: RankWarning: Polyfit may be poorly conditioned\n",
      "  coeffs = np.polyfit(np.log(C), np.log(dists), 1)\n"
     ]
    },
    {
     "name": "stdout",
     "output_type": "stream",
     "text": [
      "881\n"
     ]
    },
    {
     "name": "stderr",
     "output_type": "stream",
     "text": [
      "C:\\Users\\juju-\\Desktop\\projetos\\mng\\notebooks\\..\\scripts\\MNGFeaturesFractal.py:48: RankWarning: Polyfit may be poorly conditioned\n",
      "  coeffs = np.polyfit(np.log(C), np.log(dists), 1)\n"
     ]
    },
    {
     "name": "stdout",
     "output_type": "stream",
     "text": [
      "882\n"
     ]
    },
    {
     "name": "stderr",
     "output_type": "stream",
     "text": [
      "C:\\Users\\juju-\\Desktop\\projetos\\mng\\notebooks\\..\\scripts\\MNGFeaturesFractal.py:48: RankWarning: Polyfit may be poorly conditioned\n",
      "  coeffs = np.polyfit(np.log(C), np.log(dists), 1)\n"
     ]
    },
    {
     "name": "stdout",
     "output_type": "stream",
     "text": [
      "883\n"
     ]
    },
    {
     "name": "stderr",
     "output_type": "stream",
     "text": [
      "C:\\Users\\juju-\\Desktop\\projetos\\mng\\notebooks\\..\\scripts\\MNGFeaturesFractal.py:48: RankWarning: Polyfit may be poorly conditioned\n",
      "  coeffs = np.polyfit(np.log(C), np.log(dists), 1)\n"
     ]
    },
    {
     "name": "stdout",
     "output_type": "stream",
     "text": [
      "884\n"
     ]
    },
    {
     "name": "stderr",
     "output_type": "stream",
     "text": [
      "C:\\Users\\juju-\\Desktop\\projetos\\mng\\notebooks\\..\\scripts\\MNGFeaturesFractal.py:48: RankWarning: Polyfit may be poorly conditioned\n",
      "  coeffs = np.polyfit(np.log(C), np.log(dists), 1)\n"
     ]
    },
    {
     "name": "stdout",
     "output_type": "stream",
     "text": [
      "885\n"
     ]
    },
    {
     "name": "stderr",
     "output_type": "stream",
     "text": [
      "C:\\Users\\juju-\\Desktop\\projetos\\mng\\notebooks\\..\\scripts\\MNGFeaturesFractal.py:48: RankWarning: Polyfit may be poorly conditioned\n",
      "  coeffs = np.polyfit(np.log(C), np.log(dists), 1)\n"
     ]
    },
    {
     "name": "stdout",
     "output_type": "stream",
     "text": [
      "886\n"
     ]
    },
    {
     "name": "stderr",
     "output_type": "stream",
     "text": [
      "C:\\Users\\juju-\\Desktop\\projetos\\mng\\notebooks\\..\\scripts\\MNGFeaturesFractal.py:48: RankWarning: Polyfit may be poorly conditioned\n",
      "  coeffs = np.polyfit(np.log(C), np.log(dists), 1)\n"
     ]
    },
    {
     "name": "stdout",
     "output_type": "stream",
     "text": [
      "887\n"
     ]
    },
    {
     "name": "stderr",
     "output_type": "stream",
     "text": [
      "C:\\Users\\juju-\\Desktop\\projetos\\mng\\notebooks\\..\\scripts\\MNGFeaturesFractal.py:48: RankWarning: Polyfit may be poorly conditioned\n",
      "  coeffs = np.polyfit(np.log(C), np.log(dists), 1)\n"
     ]
    },
    {
     "name": "stdout",
     "output_type": "stream",
     "text": [
      "888\n"
     ]
    },
    {
     "name": "stderr",
     "output_type": "stream",
     "text": [
      "C:\\Users\\juju-\\Desktop\\projetos\\mng\\notebooks\\..\\scripts\\MNGFeaturesFractal.py:48: RankWarning: Polyfit may be poorly conditioned\n",
      "  coeffs = np.polyfit(np.log(C), np.log(dists), 1)\n"
     ]
    },
    {
     "name": "stdout",
     "output_type": "stream",
     "text": [
      "889\n"
     ]
    },
    {
     "name": "stderr",
     "output_type": "stream",
     "text": [
      "C:\\Users\\juju-\\Desktop\\projetos\\mng\\notebooks\\..\\scripts\\MNGFeaturesFractal.py:48: RankWarning: Polyfit may be poorly conditioned\n",
      "  coeffs = np.polyfit(np.log(C), np.log(dists), 1)\n"
     ]
    },
    {
     "name": "stdout",
     "output_type": "stream",
     "text": [
      "890\n"
     ]
    },
    {
     "name": "stderr",
     "output_type": "stream",
     "text": [
      "C:\\Users\\juju-\\Desktop\\projetos\\mng\\notebooks\\..\\scripts\\MNGFeaturesFractal.py:48: RankWarning: Polyfit may be poorly conditioned\n",
      "  coeffs = np.polyfit(np.log(C), np.log(dists), 1)\n"
     ]
    },
    {
     "name": "stdout",
     "output_type": "stream",
     "text": [
      "891\n"
     ]
    },
    {
     "name": "stderr",
     "output_type": "stream",
     "text": [
      "C:\\Users\\juju-\\Desktop\\projetos\\mng\\notebooks\\..\\scripts\\MNGFeaturesFractal.py:48: RankWarning: Polyfit may be poorly conditioned\n",
      "  coeffs = np.polyfit(np.log(C), np.log(dists), 1)\n"
     ]
    },
    {
     "name": "stdout",
     "output_type": "stream",
     "text": [
      "892\n"
     ]
    },
    {
     "name": "stderr",
     "output_type": "stream",
     "text": [
      "C:\\Users\\juju-\\Desktop\\projetos\\mng\\notebooks\\..\\scripts\\MNGFeaturesFractal.py:48: RankWarning: Polyfit may be poorly conditioned\n",
      "  coeffs = np.polyfit(np.log(C), np.log(dists), 1)\n"
     ]
    },
    {
     "name": "stdout",
     "output_type": "stream",
     "text": [
      "893\n"
     ]
    },
    {
     "name": "stderr",
     "output_type": "stream",
     "text": [
      "C:\\Users\\juju-\\Desktop\\projetos\\mng\\notebooks\\..\\scripts\\MNGFeaturesFractal.py:48: RankWarning: Polyfit may be poorly conditioned\n",
      "  coeffs = np.polyfit(np.log(C), np.log(dists), 1)\n"
     ]
    },
    {
     "name": "stdout",
     "output_type": "stream",
     "text": [
      "894\n"
     ]
    },
    {
     "name": "stderr",
     "output_type": "stream",
     "text": [
      "C:\\Users\\juju-\\Desktop\\projetos\\mng\\notebooks\\..\\scripts\\MNGFeaturesFractal.py:48: RankWarning: Polyfit may be poorly conditioned\n",
      "  coeffs = np.polyfit(np.log(C), np.log(dists), 1)\n"
     ]
    },
    {
     "name": "stdout",
     "output_type": "stream",
     "text": [
      "895\n"
     ]
    },
    {
     "name": "stderr",
     "output_type": "stream",
     "text": [
      "C:\\Users\\juju-\\Desktop\\projetos\\mng\\notebooks\\..\\scripts\\MNGFeaturesFractal.py:48: RankWarning: Polyfit may be poorly conditioned\n",
      "  coeffs = np.polyfit(np.log(C), np.log(dists), 1)\n"
     ]
    },
    {
     "name": "stdout",
     "output_type": "stream",
     "text": [
      "896\n"
     ]
    },
    {
     "name": "stderr",
     "output_type": "stream",
     "text": [
      "C:\\Users\\juju-\\Desktop\\projetos\\mng\\notebooks\\..\\scripts\\MNGFeaturesFractal.py:48: RankWarning: Polyfit may be poorly conditioned\n",
      "  coeffs = np.polyfit(np.log(C), np.log(dists), 1)\n"
     ]
    },
    {
     "name": "stdout",
     "output_type": "stream",
     "text": [
      "897\n"
     ]
    },
    {
     "name": "stderr",
     "output_type": "stream",
     "text": [
      "C:\\Users\\juju-\\Desktop\\projetos\\mng\\notebooks\\..\\scripts\\MNGFeaturesFractal.py:48: RankWarning: Polyfit may be poorly conditioned\n",
      "  coeffs = np.polyfit(np.log(C), np.log(dists), 1)\n"
     ]
    },
    {
     "name": "stdout",
     "output_type": "stream",
     "text": [
      "898\n"
     ]
    },
    {
     "name": "stderr",
     "output_type": "stream",
     "text": [
      "C:\\Users\\juju-\\Desktop\\projetos\\mng\\notebooks\\..\\scripts\\MNGFeaturesFractal.py:48: RankWarning: Polyfit may be poorly conditioned\n",
      "  coeffs = np.polyfit(np.log(C), np.log(dists), 1)\n"
     ]
    },
    {
     "name": "stdout",
     "output_type": "stream",
     "text": [
      "899\n"
     ]
    },
    {
     "name": "stderr",
     "output_type": "stream",
     "text": [
      "C:\\Users\\juju-\\Desktop\\projetos\\mng\\notebooks\\..\\scripts\\MNGFeaturesFractal.py:48: RankWarning: Polyfit may be poorly conditioned\n",
      "  coeffs = np.polyfit(np.log(C), np.log(dists), 1)\n"
     ]
    },
    {
     "name": "stdout",
     "output_type": "stream",
     "text": [
      "900\n"
     ]
    },
    {
     "name": "stderr",
     "output_type": "stream",
     "text": [
      "C:\\Users\\juju-\\Desktop\\projetos\\mng\\notebooks\\..\\scripts\\MNGFeaturesFractal.py:48: RankWarning: Polyfit may be poorly conditioned\n",
      "  coeffs = np.polyfit(np.log(C), np.log(dists), 1)\n"
     ]
    },
    {
     "name": "stdout",
     "output_type": "stream",
     "text": [
      "901\n"
     ]
    },
    {
     "name": "stderr",
     "output_type": "stream",
     "text": [
      "C:\\Users\\juju-\\Desktop\\projetos\\mng\\notebooks\\..\\scripts\\MNGFeaturesFractal.py:48: RankWarning: Polyfit may be poorly conditioned\n",
      "  coeffs = np.polyfit(np.log(C), np.log(dists), 1)\n"
     ]
    },
    {
     "name": "stdout",
     "output_type": "stream",
     "text": [
      "902\n"
     ]
    },
    {
     "name": "stderr",
     "output_type": "stream",
     "text": [
      "C:\\Users\\juju-\\Desktop\\projetos\\mng\\notebooks\\..\\scripts\\MNGFeaturesFractal.py:48: RankWarning: Polyfit may be poorly conditioned\n",
      "  coeffs = np.polyfit(np.log(C), np.log(dists), 1)\n"
     ]
    },
    {
     "name": "stdout",
     "output_type": "stream",
     "text": [
      "903\n"
     ]
    },
    {
     "name": "stderr",
     "output_type": "stream",
     "text": [
      "C:\\Users\\juju-\\Desktop\\projetos\\mng\\notebooks\\..\\scripts\\MNGFeaturesFractal.py:48: RankWarning: Polyfit may be poorly conditioned\n",
      "  coeffs = np.polyfit(np.log(C), np.log(dists), 1)\n"
     ]
    },
    {
     "name": "stdout",
     "output_type": "stream",
     "text": [
      "904\n"
     ]
    },
    {
     "name": "stderr",
     "output_type": "stream",
     "text": [
      "C:\\Users\\juju-\\Desktop\\projetos\\mng\\notebooks\\..\\scripts\\MNGFeaturesFractal.py:48: RankWarning: Polyfit may be poorly conditioned\n",
      "  coeffs = np.polyfit(np.log(C), np.log(dists), 1)\n"
     ]
    },
    {
     "name": "stdout",
     "output_type": "stream",
     "text": [
      "905\n"
     ]
    },
    {
     "name": "stderr",
     "output_type": "stream",
     "text": [
      "C:\\Users\\juju-\\Desktop\\projetos\\mng\\notebooks\\..\\scripts\\MNGFeaturesFractal.py:48: RankWarning: Polyfit may be poorly conditioned\n",
      "  coeffs = np.polyfit(np.log(C), np.log(dists), 1)\n"
     ]
    },
    {
     "name": "stdout",
     "output_type": "stream",
     "text": [
      "906\n"
     ]
    },
    {
     "name": "stderr",
     "output_type": "stream",
     "text": [
      "C:\\Users\\juju-\\Desktop\\projetos\\mng\\notebooks\\..\\scripts\\MNGFeaturesFractal.py:48: RankWarning: Polyfit may be poorly conditioned\n",
      "  coeffs = np.polyfit(np.log(C), np.log(dists), 1)\n"
     ]
    },
    {
     "name": "stdout",
     "output_type": "stream",
     "text": [
      "907\n"
     ]
    },
    {
     "name": "stderr",
     "output_type": "stream",
     "text": [
      "C:\\Users\\juju-\\Desktop\\projetos\\mng\\notebooks\\..\\scripts\\MNGFeaturesFractal.py:48: RankWarning: Polyfit may be poorly conditioned\n",
      "  coeffs = np.polyfit(np.log(C), np.log(dists), 1)\n"
     ]
    },
    {
     "name": "stdout",
     "output_type": "stream",
     "text": [
      "908\n"
     ]
    },
    {
     "name": "stderr",
     "output_type": "stream",
     "text": [
      "C:\\Users\\juju-\\Desktop\\projetos\\mng\\notebooks\\..\\scripts\\MNGFeaturesFractal.py:48: RankWarning: Polyfit may be poorly conditioned\n",
      "  coeffs = np.polyfit(np.log(C), np.log(dists), 1)\n"
     ]
    },
    {
     "name": "stdout",
     "output_type": "stream",
     "text": [
      "909\n"
     ]
    },
    {
     "name": "stderr",
     "output_type": "stream",
     "text": [
      "C:\\Users\\juju-\\Desktop\\projetos\\mng\\notebooks\\..\\scripts\\MNGFeaturesFractal.py:48: RankWarning: Polyfit may be poorly conditioned\n",
      "  coeffs = np.polyfit(np.log(C), np.log(dists), 1)\n"
     ]
    },
    {
     "name": "stdout",
     "output_type": "stream",
     "text": [
      "910\n"
     ]
    },
    {
     "name": "stderr",
     "output_type": "stream",
     "text": [
      "C:\\Users\\juju-\\Desktop\\projetos\\mng\\notebooks\\..\\scripts\\MNGFeaturesFractal.py:48: RankWarning: Polyfit may be poorly conditioned\n",
      "  coeffs = np.polyfit(np.log(C), np.log(dists), 1)\n"
     ]
    },
    {
     "name": "stdout",
     "output_type": "stream",
     "text": [
      "911\n"
     ]
    },
    {
     "name": "stderr",
     "output_type": "stream",
     "text": [
      "C:\\Users\\juju-\\Desktop\\projetos\\mng\\notebooks\\..\\scripts\\MNGFeaturesFractal.py:48: RankWarning: Polyfit may be poorly conditioned\n",
      "  coeffs = np.polyfit(np.log(C), np.log(dists), 1)\n"
     ]
    },
    {
     "name": "stdout",
     "output_type": "stream",
     "text": [
      "912\n"
     ]
    },
    {
     "name": "stderr",
     "output_type": "stream",
     "text": [
      "C:\\Users\\juju-\\Desktop\\projetos\\mng\\notebooks\\..\\scripts\\MNGFeaturesFractal.py:48: RankWarning: Polyfit may be poorly conditioned\n",
      "  coeffs = np.polyfit(np.log(C), np.log(dists), 1)\n"
     ]
    },
    {
     "name": "stdout",
     "output_type": "stream",
     "text": [
      "913\n"
     ]
    },
    {
     "name": "stderr",
     "output_type": "stream",
     "text": [
      "C:\\Users\\juju-\\Desktop\\projetos\\mng\\notebooks\\..\\scripts\\MNGFeaturesFractal.py:48: RankWarning: Polyfit may be poorly conditioned\n",
      "  coeffs = np.polyfit(np.log(C), np.log(dists), 1)\n"
     ]
    },
    {
     "name": "stdout",
     "output_type": "stream",
     "text": [
      "914\n"
     ]
    },
    {
     "name": "stderr",
     "output_type": "stream",
     "text": [
      "C:\\Users\\juju-\\Desktop\\projetos\\mng\\notebooks\\..\\scripts\\MNGFeaturesFractal.py:48: RankWarning: Polyfit may be poorly conditioned\n",
      "  coeffs = np.polyfit(np.log(C), np.log(dists), 1)\n"
     ]
    },
    {
     "name": "stdout",
     "output_type": "stream",
     "text": [
      "915\n"
     ]
    },
    {
     "name": "stderr",
     "output_type": "stream",
     "text": [
      "C:\\Users\\juju-\\Desktop\\projetos\\mng\\notebooks\\..\\scripts\\MNGFeaturesFractal.py:48: RankWarning: Polyfit may be poorly conditioned\n",
      "  coeffs = np.polyfit(np.log(C), np.log(dists), 1)\n"
     ]
    },
    {
     "name": "stdout",
     "output_type": "stream",
     "text": [
      "916\n"
     ]
    },
    {
     "name": "stderr",
     "output_type": "stream",
     "text": [
      "C:\\Users\\juju-\\Desktop\\projetos\\mng\\notebooks\\..\\scripts\\MNGFeaturesFractal.py:48: RankWarning: Polyfit may be poorly conditioned\n",
      "  coeffs = np.polyfit(np.log(C), np.log(dists), 1)\n"
     ]
    },
    {
     "name": "stdout",
     "output_type": "stream",
     "text": [
      "917\n"
     ]
    },
    {
     "name": "stderr",
     "output_type": "stream",
     "text": [
      "C:\\Users\\juju-\\Desktop\\projetos\\mng\\notebooks\\..\\scripts\\MNGFeaturesFractal.py:48: RankWarning: Polyfit may be poorly conditioned\n",
      "  coeffs = np.polyfit(np.log(C), np.log(dists), 1)\n"
     ]
    },
    {
     "name": "stdout",
     "output_type": "stream",
     "text": [
      "918\n"
     ]
    },
    {
     "name": "stderr",
     "output_type": "stream",
     "text": [
      "C:\\Users\\juju-\\Desktop\\projetos\\mng\\notebooks\\..\\scripts\\MNGFeaturesFractal.py:48: RankWarning: Polyfit may be poorly conditioned\n",
      "  coeffs = np.polyfit(np.log(C), np.log(dists), 1)\n"
     ]
    },
    {
     "name": "stdout",
     "output_type": "stream",
     "text": [
      "919\n"
     ]
    },
    {
     "name": "stderr",
     "output_type": "stream",
     "text": [
      "C:\\Users\\juju-\\Desktop\\projetos\\mng\\notebooks\\..\\scripts\\MNGFeaturesFractal.py:48: RankWarning: Polyfit may be poorly conditioned\n",
      "  coeffs = np.polyfit(np.log(C), np.log(dists), 1)\n"
     ]
    },
    {
     "name": "stdout",
     "output_type": "stream",
     "text": [
      "920\n"
     ]
    },
    {
     "name": "stderr",
     "output_type": "stream",
     "text": [
      "C:\\Users\\juju-\\Desktop\\projetos\\mng\\notebooks\\..\\scripts\\MNGFeaturesFractal.py:48: RankWarning: Polyfit may be poorly conditioned\n",
      "  coeffs = np.polyfit(np.log(C), np.log(dists), 1)\n"
     ]
    },
    {
     "name": "stdout",
     "output_type": "stream",
     "text": [
      "921\n"
     ]
    },
    {
     "name": "stderr",
     "output_type": "stream",
     "text": [
      "C:\\Users\\juju-\\Desktop\\projetos\\mng\\notebooks\\..\\scripts\\MNGFeaturesFractal.py:48: RankWarning: Polyfit may be poorly conditioned\n",
      "  coeffs = np.polyfit(np.log(C), np.log(dists), 1)\n"
     ]
    },
    {
     "name": "stdout",
     "output_type": "stream",
     "text": [
      "922\n"
     ]
    },
    {
     "name": "stderr",
     "output_type": "stream",
     "text": [
      "C:\\Users\\juju-\\Desktop\\projetos\\mng\\notebooks\\..\\scripts\\MNGFeaturesFractal.py:48: RankWarning: Polyfit may be poorly conditioned\n",
      "  coeffs = np.polyfit(np.log(C), np.log(dists), 1)\n"
     ]
    },
    {
     "name": "stdout",
     "output_type": "stream",
     "text": [
      "923\n"
     ]
    },
    {
     "name": "stderr",
     "output_type": "stream",
     "text": [
      "C:\\Users\\juju-\\Desktop\\projetos\\mng\\notebooks\\..\\scripts\\MNGFeaturesFractal.py:48: RankWarning: Polyfit may be poorly conditioned\n",
      "  coeffs = np.polyfit(np.log(C), np.log(dists), 1)\n"
     ]
    },
    {
     "name": "stdout",
     "output_type": "stream",
     "text": [
      "924\n"
     ]
    },
    {
     "name": "stderr",
     "output_type": "stream",
     "text": [
      "C:\\Users\\juju-\\Desktop\\projetos\\mng\\notebooks\\..\\scripts\\MNGFeaturesFractal.py:48: RankWarning: Polyfit may be poorly conditioned\n",
      "  coeffs = np.polyfit(np.log(C), np.log(dists), 1)\n"
     ]
    },
    {
     "name": "stdout",
     "output_type": "stream",
     "text": [
      "925\n"
     ]
    },
    {
     "name": "stderr",
     "output_type": "stream",
     "text": [
      "C:\\Users\\juju-\\Desktop\\projetos\\mng\\notebooks\\..\\scripts\\MNGFeaturesFractal.py:48: RankWarning: Polyfit may be poorly conditioned\n",
      "  coeffs = np.polyfit(np.log(C), np.log(dists), 1)\n"
     ]
    },
    {
     "name": "stdout",
     "output_type": "stream",
     "text": [
      "926\n"
     ]
    },
    {
     "name": "stderr",
     "output_type": "stream",
     "text": [
      "C:\\Users\\juju-\\Desktop\\projetos\\mng\\notebooks\\..\\scripts\\MNGFeaturesFractal.py:48: RankWarning: Polyfit may be poorly conditioned\n",
      "  coeffs = np.polyfit(np.log(C), np.log(dists), 1)\n"
     ]
    },
    {
     "name": "stdout",
     "output_type": "stream",
     "text": [
      "927\n"
     ]
    },
    {
     "name": "stderr",
     "output_type": "stream",
     "text": [
      "C:\\Users\\juju-\\Desktop\\projetos\\mng\\notebooks\\..\\scripts\\MNGFeaturesFractal.py:48: RankWarning: Polyfit may be poorly conditioned\n",
      "  coeffs = np.polyfit(np.log(C), np.log(dists), 1)\n"
     ]
    },
    {
     "name": "stdout",
     "output_type": "stream",
     "text": [
      "928\n"
     ]
    },
    {
     "name": "stderr",
     "output_type": "stream",
     "text": [
      "C:\\Users\\juju-\\Desktop\\projetos\\mng\\notebooks\\..\\scripts\\MNGFeaturesFractal.py:48: RankWarning: Polyfit may be poorly conditioned\n",
      "  coeffs = np.polyfit(np.log(C), np.log(dists), 1)\n"
     ]
    },
    {
     "name": "stdout",
     "output_type": "stream",
     "text": [
      "929\n"
     ]
    },
    {
     "name": "stderr",
     "output_type": "stream",
     "text": [
      "C:\\Users\\juju-\\Desktop\\projetos\\mng\\notebooks\\..\\scripts\\MNGFeaturesFractal.py:48: RankWarning: Polyfit may be poorly conditioned\n",
      "  coeffs = np.polyfit(np.log(C), np.log(dists), 1)\n"
     ]
    },
    {
     "name": "stdout",
     "output_type": "stream",
     "text": [
      "930\n"
     ]
    },
    {
     "name": "stderr",
     "output_type": "stream",
     "text": [
      "C:\\Users\\juju-\\Desktop\\projetos\\mng\\notebooks\\..\\scripts\\MNGFeaturesFractal.py:48: RankWarning: Polyfit may be poorly conditioned\n",
      "  coeffs = np.polyfit(np.log(C), np.log(dists), 1)\n"
     ]
    },
    {
     "name": "stdout",
     "output_type": "stream",
     "text": [
      "931\n"
     ]
    },
    {
     "name": "stderr",
     "output_type": "stream",
     "text": [
      "C:\\Users\\juju-\\Desktop\\projetos\\mng\\notebooks\\..\\scripts\\MNGFeaturesFractal.py:48: RankWarning: Polyfit may be poorly conditioned\n",
      "  coeffs = np.polyfit(np.log(C), np.log(dists), 1)\n"
     ]
    },
    {
     "name": "stdout",
     "output_type": "stream",
     "text": [
      "932\n"
     ]
    },
    {
     "name": "stderr",
     "output_type": "stream",
     "text": [
      "C:\\Users\\juju-\\Desktop\\projetos\\mng\\notebooks\\..\\scripts\\MNGFeaturesFractal.py:48: RankWarning: Polyfit may be poorly conditioned\n",
      "  coeffs = np.polyfit(np.log(C), np.log(dists), 1)\n"
     ]
    },
    {
     "name": "stdout",
     "output_type": "stream",
     "text": [
      "933\n"
     ]
    },
    {
     "name": "stderr",
     "output_type": "stream",
     "text": [
      "C:\\Users\\juju-\\Desktop\\projetos\\mng\\notebooks\\..\\scripts\\MNGFeaturesFractal.py:48: RankWarning: Polyfit may be poorly conditioned\n",
      "  coeffs = np.polyfit(np.log(C), np.log(dists), 1)\n"
     ]
    },
    {
     "name": "stdout",
     "output_type": "stream",
     "text": [
      "934\n"
     ]
    },
    {
     "name": "stderr",
     "output_type": "stream",
     "text": [
      "C:\\Users\\juju-\\Desktop\\projetos\\mng\\notebooks\\..\\scripts\\MNGFeaturesFractal.py:48: RankWarning: Polyfit may be poorly conditioned\n",
      "  coeffs = np.polyfit(np.log(C), np.log(dists), 1)\n"
     ]
    },
    {
     "name": "stdout",
     "output_type": "stream",
     "text": [
      "935\n"
     ]
    },
    {
     "name": "stderr",
     "output_type": "stream",
     "text": [
      "C:\\Users\\juju-\\Desktop\\projetos\\mng\\notebooks\\..\\scripts\\MNGFeaturesFractal.py:48: RankWarning: Polyfit may be poorly conditioned\n",
      "  coeffs = np.polyfit(np.log(C), np.log(dists), 1)\n"
     ]
    },
    {
     "name": "stdout",
     "output_type": "stream",
     "text": [
      "936\n"
     ]
    },
    {
     "name": "stderr",
     "output_type": "stream",
     "text": [
      "C:\\Users\\juju-\\Desktop\\projetos\\mng\\notebooks\\..\\scripts\\MNGFeaturesFractal.py:48: RankWarning: Polyfit may be poorly conditioned\n",
      "  coeffs = np.polyfit(np.log(C), np.log(dists), 1)\n"
     ]
    },
    {
     "name": "stdout",
     "output_type": "stream",
     "text": [
      "937\n"
     ]
    },
    {
     "name": "stderr",
     "output_type": "stream",
     "text": [
      "C:\\Users\\juju-\\Desktop\\projetos\\mng\\notebooks\\..\\scripts\\MNGFeaturesFractal.py:48: RankWarning: Polyfit may be poorly conditioned\n",
      "  coeffs = np.polyfit(np.log(C), np.log(dists), 1)\n"
     ]
    },
    {
     "name": "stdout",
     "output_type": "stream",
     "text": [
      "938\n"
     ]
    },
    {
     "name": "stderr",
     "output_type": "stream",
     "text": [
      "C:\\Users\\juju-\\Desktop\\projetos\\mng\\notebooks\\..\\scripts\\MNGFeaturesFractal.py:48: RankWarning: Polyfit may be poorly conditioned\n",
      "  coeffs = np.polyfit(np.log(C), np.log(dists), 1)\n"
     ]
    },
    {
     "name": "stdout",
     "output_type": "stream",
     "text": [
      "939\n"
     ]
    },
    {
     "name": "stderr",
     "output_type": "stream",
     "text": [
      "C:\\Users\\juju-\\Desktop\\projetos\\mng\\notebooks\\..\\scripts\\MNGFeaturesFractal.py:48: RankWarning: Polyfit may be poorly conditioned\n",
      "  coeffs = np.polyfit(np.log(C), np.log(dists), 1)\n"
     ]
    },
    {
     "name": "stdout",
     "output_type": "stream",
     "text": [
      "940\n"
     ]
    },
    {
     "name": "stderr",
     "output_type": "stream",
     "text": [
      "C:\\Users\\juju-\\Desktop\\projetos\\mng\\notebooks\\..\\scripts\\MNGFeaturesFractal.py:48: RankWarning: Polyfit may be poorly conditioned\n",
      "  coeffs = np.polyfit(np.log(C), np.log(dists), 1)\n"
     ]
    },
    {
     "name": "stdout",
     "output_type": "stream",
     "text": [
      "941\n"
     ]
    },
    {
     "name": "stderr",
     "output_type": "stream",
     "text": [
      "C:\\Users\\juju-\\Desktop\\projetos\\mng\\notebooks\\..\\scripts\\MNGFeaturesFractal.py:48: RankWarning: Polyfit may be poorly conditioned\n",
      "  coeffs = np.polyfit(np.log(C), np.log(dists), 1)\n"
     ]
    },
    {
     "name": "stdout",
     "output_type": "stream",
     "text": [
      "942\n"
     ]
    },
    {
     "name": "stderr",
     "output_type": "stream",
     "text": [
      "C:\\Users\\juju-\\Desktop\\projetos\\mng\\notebooks\\..\\scripts\\MNGFeaturesFractal.py:48: RankWarning: Polyfit may be poorly conditioned\n",
      "  coeffs = np.polyfit(np.log(C), np.log(dists), 1)\n"
     ]
    },
    {
     "name": "stdout",
     "output_type": "stream",
     "text": [
      "943\n"
     ]
    },
    {
     "name": "stderr",
     "output_type": "stream",
     "text": [
      "C:\\Users\\juju-\\Desktop\\projetos\\mng\\notebooks\\..\\scripts\\MNGFeaturesFractal.py:48: RankWarning: Polyfit may be poorly conditioned\n",
      "  coeffs = np.polyfit(np.log(C), np.log(dists), 1)\n"
     ]
    },
    {
     "name": "stdout",
     "output_type": "stream",
     "text": [
      "944\n"
     ]
    },
    {
     "name": "stderr",
     "output_type": "stream",
     "text": [
      "C:\\Users\\juju-\\Desktop\\projetos\\mng\\notebooks\\..\\scripts\\MNGFeaturesFractal.py:48: RankWarning: Polyfit may be poorly conditioned\n",
      "  coeffs = np.polyfit(np.log(C), np.log(dists), 1)\n"
     ]
    },
    {
     "name": "stdout",
     "output_type": "stream",
     "text": [
      "945\n"
     ]
    },
    {
     "name": "stderr",
     "output_type": "stream",
     "text": [
      "C:\\Users\\juju-\\Desktop\\projetos\\mng\\notebooks\\..\\scripts\\MNGFeaturesFractal.py:48: RankWarning: Polyfit may be poorly conditioned\n",
      "  coeffs = np.polyfit(np.log(C), np.log(dists), 1)\n"
     ]
    },
    {
     "name": "stdout",
     "output_type": "stream",
     "text": [
      "946\n"
     ]
    },
    {
     "name": "stderr",
     "output_type": "stream",
     "text": [
      "C:\\Users\\juju-\\Desktop\\projetos\\mng\\notebooks\\..\\scripts\\MNGFeaturesFractal.py:48: RankWarning: Polyfit may be poorly conditioned\n",
      "  coeffs = np.polyfit(np.log(C), np.log(dists), 1)\n"
     ]
    },
    {
     "name": "stdout",
     "output_type": "stream",
     "text": [
      "947\n"
     ]
    },
    {
     "name": "stderr",
     "output_type": "stream",
     "text": [
      "C:\\Users\\juju-\\Desktop\\projetos\\mng\\notebooks\\..\\scripts\\MNGFeaturesFractal.py:48: RankWarning: Polyfit may be poorly conditioned\n",
      "  coeffs = np.polyfit(np.log(C), np.log(dists), 1)\n"
     ]
    },
    {
     "name": "stdout",
     "output_type": "stream",
     "text": [
      "948\n"
     ]
    },
    {
     "name": "stderr",
     "output_type": "stream",
     "text": [
      "C:\\Users\\juju-\\Desktop\\projetos\\mng\\notebooks\\..\\scripts\\MNGFeaturesFractal.py:48: RankWarning: Polyfit may be poorly conditioned\n",
      "  coeffs = np.polyfit(np.log(C), np.log(dists), 1)\n"
     ]
    },
    {
     "name": "stdout",
     "output_type": "stream",
     "text": [
      "949\n"
     ]
    },
    {
     "name": "stderr",
     "output_type": "stream",
     "text": [
      "C:\\Users\\juju-\\Desktop\\projetos\\mng\\notebooks\\..\\scripts\\MNGFeaturesFractal.py:48: RankWarning: Polyfit may be poorly conditioned\n",
      "  coeffs = np.polyfit(np.log(C), np.log(dists), 1)\n"
     ]
    },
    {
     "name": "stdout",
     "output_type": "stream",
     "text": [
      "950\n"
     ]
    },
    {
     "name": "stderr",
     "output_type": "stream",
     "text": [
      "C:\\Users\\juju-\\Desktop\\projetos\\mng\\notebooks\\..\\scripts\\MNGFeaturesFractal.py:48: RankWarning: Polyfit may be poorly conditioned\n",
      "  coeffs = np.polyfit(np.log(C), np.log(dists), 1)\n"
     ]
    },
    {
     "name": "stdout",
     "output_type": "stream",
     "text": [
      "951\n"
     ]
    },
    {
     "name": "stderr",
     "output_type": "stream",
     "text": [
      "C:\\Users\\juju-\\Desktop\\projetos\\mng\\notebooks\\..\\scripts\\MNGFeaturesFractal.py:48: RankWarning: Polyfit may be poorly conditioned\n",
      "  coeffs = np.polyfit(np.log(C), np.log(dists), 1)\n"
     ]
    },
    {
     "name": "stdout",
     "output_type": "stream",
     "text": [
      "952\n"
     ]
    },
    {
     "name": "stderr",
     "output_type": "stream",
     "text": [
      "C:\\Users\\juju-\\Desktop\\projetos\\mng\\notebooks\\..\\scripts\\MNGFeaturesFractal.py:48: RankWarning: Polyfit may be poorly conditioned\n",
      "  coeffs = np.polyfit(np.log(C), np.log(dists), 1)\n"
     ]
    },
    {
     "name": "stdout",
     "output_type": "stream",
     "text": [
      "953\n"
     ]
    },
    {
     "name": "stderr",
     "output_type": "stream",
     "text": [
      "C:\\Users\\juju-\\Desktop\\projetos\\mng\\notebooks\\..\\scripts\\MNGFeaturesFractal.py:48: RankWarning: Polyfit may be poorly conditioned\n",
      "  coeffs = np.polyfit(np.log(C), np.log(dists), 1)\n"
     ]
    },
    {
     "name": "stdout",
     "output_type": "stream",
     "text": [
      "954\n"
     ]
    },
    {
     "name": "stderr",
     "output_type": "stream",
     "text": [
      "C:\\Users\\juju-\\Desktop\\projetos\\mng\\notebooks\\..\\scripts\\MNGFeaturesFractal.py:48: RankWarning: Polyfit may be poorly conditioned\n",
      "  coeffs = np.polyfit(np.log(C), np.log(dists), 1)\n"
     ]
    },
    {
     "name": "stdout",
     "output_type": "stream",
     "text": [
      "955\n"
     ]
    },
    {
     "name": "stderr",
     "output_type": "stream",
     "text": [
      "C:\\Users\\juju-\\Desktop\\projetos\\mng\\notebooks\\..\\scripts\\MNGFeaturesFractal.py:48: RankWarning: Polyfit may be poorly conditioned\n",
      "  coeffs = np.polyfit(np.log(C), np.log(dists), 1)\n"
     ]
    },
    {
     "name": "stdout",
     "output_type": "stream",
     "text": [
      "956\n"
     ]
    },
    {
     "name": "stderr",
     "output_type": "stream",
     "text": [
      "C:\\Users\\juju-\\Desktop\\projetos\\mng\\notebooks\\..\\scripts\\MNGFeaturesFractal.py:48: RankWarning: Polyfit may be poorly conditioned\n",
      "  coeffs = np.polyfit(np.log(C), np.log(dists), 1)\n"
     ]
    },
    {
     "name": "stdout",
     "output_type": "stream",
     "text": [
      "957\n"
     ]
    },
    {
     "name": "stderr",
     "output_type": "stream",
     "text": [
      "C:\\Users\\juju-\\Desktop\\projetos\\mng\\notebooks\\..\\scripts\\MNGFeaturesFractal.py:48: RankWarning: Polyfit may be poorly conditioned\n",
      "  coeffs = np.polyfit(np.log(C), np.log(dists), 1)\n"
     ]
    },
    {
     "name": "stdout",
     "output_type": "stream",
     "text": [
      "958\n"
     ]
    },
    {
     "name": "stderr",
     "output_type": "stream",
     "text": [
      "C:\\Users\\juju-\\Desktop\\projetos\\mng\\notebooks\\..\\scripts\\MNGFeaturesFractal.py:48: RankWarning: Polyfit may be poorly conditioned\n",
      "  coeffs = np.polyfit(np.log(C), np.log(dists), 1)\n"
     ]
    },
    {
     "name": "stdout",
     "output_type": "stream",
     "text": [
      "959\n"
     ]
    },
    {
     "name": "stderr",
     "output_type": "stream",
     "text": [
      "C:\\Users\\juju-\\Desktop\\projetos\\mng\\notebooks\\..\\scripts\\MNGFeaturesFractal.py:48: RankWarning: Polyfit may be poorly conditioned\n",
      "  coeffs = np.polyfit(np.log(C), np.log(dists), 1)\n"
     ]
    },
    {
     "name": "stdout",
     "output_type": "stream",
     "text": [
      "960\n"
     ]
    },
    {
     "name": "stderr",
     "output_type": "stream",
     "text": [
      "C:\\Users\\juju-\\Desktop\\projetos\\mng\\notebooks\\..\\scripts\\MNGFeaturesFractal.py:48: RankWarning: Polyfit may be poorly conditioned\n",
      "  coeffs = np.polyfit(np.log(C), np.log(dists), 1)\n"
     ]
    },
    {
     "name": "stdout",
     "output_type": "stream",
     "text": [
      "961\n"
     ]
    },
    {
     "name": "stderr",
     "output_type": "stream",
     "text": [
      "C:\\Users\\juju-\\Desktop\\projetos\\mng\\notebooks\\..\\scripts\\MNGFeaturesFractal.py:48: RankWarning: Polyfit may be poorly conditioned\n",
      "  coeffs = np.polyfit(np.log(C), np.log(dists), 1)\n"
     ]
    },
    {
     "name": "stdout",
     "output_type": "stream",
     "text": [
      "962\n"
     ]
    },
    {
     "name": "stderr",
     "output_type": "stream",
     "text": [
      "C:\\Users\\juju-\\Desktop\\projetos\\mng\\notebooks\\..\\scripts\\MNGFeaturesFractal.py:48: RankWarning: Polyfit may be poorly conditioned\n",
      "  coeffs = np.polyfit(np.log(C), np.log(dists), 1)\n"
     ]
    },
    {
     "name": "stdout",
     "output_type": "stream",
     "text": [
      "963\n"
     ]
    },
    {
     "name": "stderr",
     "output_type": "stream",
     "text": [
      "C:\\Users\\juju-\\Desktop\\projetos\\mng\\notebooks\\..\\scripts\\MNGFeaturesFractal.py:48: RankWarning: Polyfit may be poorly conditioned\n",
      "  coeffs = np.polyfit(np.log(C), np.log(dists), 1)\n"
     ]
    },
    {
     "name": "stdout",
     "output_type": "stream",
     "text": [
      "964\n"
     ]
    },
    {
     "name": "stderr",
     "output_type": "stream",
     "text": [
      "C:\\Users\\juju-\\Desktop\\projetos\\mng\\notebooks\\..\\scripts\\MNGFeaturesFractal.py:48: RankWarning: Polyfit may be poorly conditioned\n",
      "  coeffs = np.polyfit(np.log(C), np.log(dists), 1)\n"
     ]
    },
    {
     "name": "stdout",
     "output_type": "stream",
     "text": [
      "965\n"
     ]
    },
    {
     "name": "stderr",
     "output_type": "stream",
     "text": [
      "C:\\Users\\juju-\\Desktop\\projetos\\mng\\notebooks\\..\\scripts\\MNGFeaturesFractal.py:48: RankWarning: Polyfit may be poorly conditioned\n",
      "  coeffs = np.polyfit(np.log(C), np.log(dists), 1)\n"
     ]
    },
    {
     "name": "stdout",
     "output_type": "stream",
     "text": [
      "966\n"
     ]
    },
    {
     "name": "stderr",
     "output_type": "stream",
     "text": [
      "C:\\Users\\juju-\\Desktop\\projetos\\mng\\notebooks\\..\\scripts\\MNGFeaturesFractal.py:48: RankWarning: Polyfit may be poorly conditioned\n",
      "  coeffs = np.polyfit(np.log(C), np.log(dists), 1)\n"
     ]
    },
    {
     "name": "stdout",
     "output_type": "stream",
     "text": [
      "967\n"
     ]
    },
    {
     "name": "stderr",
     "output_type": "stream",
     "text": [
      "C:\\Users\\juju-\\Desktop\\projetos\\mng\\notebooks\\..\\scripts\\MNGFeaturesFractal.py:48: RankWarning: Polyfit may be poorly conditioned\n",
      "  coeffs = np.polyfit(np.log(C), np.log(dists), 1)\n"
     ]
    },
    {
     "name": "stdout",
     "output_type": "stream",
     "text": [
      "968\n"
     ]
    },
    {
     "name": "stderr",
     "output_type": "stream",
     "text": [
      "C:\\Users\\juju-\\Desktop\\projetos\\mng\\notebooks\\..\\scripts\\MNGFeaturesFractal.py:48: RankWarning: Polyfit may be poorly conditioned\n",
      "  coeffs = np.polyfit(np.log(C), np.log(dists), 1)\n"
     ]
    },
    {
     "name": "stdout",
     "output_type": "stream",
     "text": [
      "969\n"
     ]
    },
    {
     "name": "stderr",
     "output_type": "stream",
     "text": [
      "C:\\Users\\juju-\\Desktop\\projetos\\mng\\notebooks\\..\\scripts\\MNGFeaturesFractal.py:48: RankWarning: Polyfit may be poorly conditioned\n",
      "  coeffs = np.polyfit(np.log(C), np.log(dists), 1)\n"
     ]
    },
    {
     "name": "stdout",
     "output_type": "stream",
     "text": [
      "970\n"
     ]
    },
    {
     "name": "stderr",
     "output_type": "stream",
     "text": [
      "C:\\Users\\juju-\\Desktop\\projetos\\mng\\notebooks\\..\\scripts\\MNGFeaturesFractal.py:48: RankWarning: Polyfit may be poorly conditioned\n",
      "  coeffs = np.polyfit(np.log(C), np.log(dists), 1)\n"
     ]
    },
    {
     "name": "stdout",
     "output_type": "stream",
     "text": [
      "971\n"
     ]
    },
    {
     "name": "stderr",
     "output_type": "stream",
     "text": [
      "C:\\Users\\juju-\\Desktop\\projetos\\mng\\notebooks\\..\\scripts\\MNGFeaturesFractal.py:48: RankWarning: Polyfit may be poorly conditioned\n",
      "  coeffs = np.polyfit(np.log(C), np.log(dists), 1)\n"
     ]
    },
    {
     "name": "stdout",
     "output_type": "stream",
     "text": [
      "972\n"
     ]
    },
    {
     "name": "stderr",
     "output_type": "stream",
     "text": [
      "C:\\Users\\juju-\\Desktop\\projetos\\mng\\notebooks\\..\\scripts\\MNGFeaturesFractal.py:48: RankWarning: Polyfit may be poorly conditioned\n",
      "  coeffs = np.polyfit(np.log(C), np.log(dists), 1)\n"
     ]
    },
    {
     "name": "stdout",
     "output_type": "stream",
     "text": [
      "973\n"
     ]
    },
    {
     "name": "stderr",
     "output_type": "stream",
     "text": [
      "C:\\Users\\juju-\\Desktop\\projetos\\mng\\notebooks\\..\\scripts\\MNGFeaturesFractal.py:48: RankWarning: Polyfit may be poorly conditioned\n",
      "  coeffs = np.polyfit(np.log(C), np.log(dists), 1)\n"
     ]
    },
    {
     "name": "stdout",
     "output_type": "stream",
     "text": [
      "974\n"
     ]
    },
    {
     "name": "stderr",
     "output_type": "stream",
     "text": [
      "C:\\Users\\juju-\\Desktop\\projetos\\mng\\notebooks\\..\\scripts\\MNGFeaturesFractal.py:48: RankWarning: Polyfit may be poorly conditioned\n",
      "  coeffs = np.polyfit(np.log(C), np.log(dists), 1)\n"
     ]
    },
    {
     "name": "stdout",
     "output_type": "stream",
     "text": [
      "975\n"
     ]
    },
    {
     "name": "stderr",
     "output_type": "stream",
     "text": [
      "C:\\Users\\juju-\\Desktop\\projetos\\mng\\notebooks\\..\\scripts\\MNGFeaturesFractal.py:48: RankWarning: Polyfit may be poorly conditioned\n",
      "  coeffs = np.polyfit(np.log(C), np.log(dists), 1)\n"
     ]
    },
    {
     "name": "stdout",
     "output_type": "stream",
     "text": [
      "976\n"
     ]
    },
    {
     "name": "stderr",
     "output_type": "stream",
     "text": [
      "C:\\Users\\juju-\\Desktop\\projetos\\mng\\notebooks\\..\\scripts\\MNGFeaturesFractal.py:48: RankWarning: Polyfit may be poorly conditioned\n",
      "  coeffs = np.polyfit(np.log(C), np.log(dists), 1)\n"
     ]
    },
    {
     "name": "stdout",
     "output_type": "stream",
     "text": [
      "977\n"
     ]
    },
    {
     "name": "stderr",
     "output_type": "stream",
     "text": [
      "C:\\Users\\juju-\\Desktop\\projetos\\mng\\notebooks\\..\\scripts\\MNGFeaturesFractal.py:48: RankWarning: Polyfit may be poorly conditioned\n",
      "  coeffs = np.polyfit(np.log(C), np.log(dists), 1)\n"
     ]
    },
    {
     "name": "stdout",
     "output_type": "stream",
     "text": [
      "978\n"
     ]
    },
    {
     "name": "stderr",
     "output_type": "stream",
     "text": [
      "C:\\Users\\juju-\\Desktop\\projetos\\mng\\notebooks\\..\\scripts\\MNGFeaturesFractal.py:48: RankWarning: Polyfit may be poorly conditioned\n",
      "  coeffs = np.polyfit(np.log(C), np.log(dists), 1)\n"
     ]
    },
    {
     "name": "stdout",
     "output_type": "stream",
     "text": [
      "979\n"
     ]
    },
    {
     "name": "stderr",
     "output_type": "stream",
     "text": [
      "C:\\Users\\juju-\\Desktop\\projetos\\mng\\notebooks\\..\\scripts\\MNGFeaturesFractal.py:48: RankWarning: Polyfit may be poorly conditioned\n",
      "  coeffs = np.polyfit(np.log(C), np.log(dists), 1)\n"
     ]
    },
    {
     "name": "stdout",
     "output_type": "stream",
     "text": [
      "980\n"
     ]
    },
    {
     "name": "stderr",
     "output_type": "stream",
     "text": [
      "C:\\Users\\juju-\\Desktop\\projetos\\mng\\notebooks\\..\\scripts\\MNGFeaturesFractal.py:48: RankWarning: Polyfit may be poorly conditioned\n",
      "  coeffs = np.polyfit(np.log(C), np.log(dists), 1)\n"
     ]
    },
    {
     "name": "stdout",
     "output_type": "stream",
     "text": [
      "981\n"
     ]
    },
    {
     "name": "stderr",
     "output_type": "stream",
     "text": [
      "C:\\Users\\juju-\\Desktop\\projetos\\mng\\notebooks\\..\\scripts\\MNGFeaturesFractal.py:48: RankWarning: Polyfit may be poorly conditioned\n",
      "  coeffs = np.polyfit(np.log(C), np.log(dists), 1)\n"
     ]
    },
    {
     "name": "stdout",
     "output_type": "stream",
     "text": [
      "982\n"
     ]
    },
    {
     "name": "stderr",
     "output_type": "stream",
     "text": [
      "C:\\Users\\juju-\\Desktop\\projetos\\mng\\notebooks\\..\\scripts\\MNGFeaturesFractal.py:48: RankWarning: Polyfit may be poorly conditioned\n",
      "  coeffs = np.polyfit(np.log(C), np.log(dists), 1)\n"
     ]
    },
    {
     "name": "stdout",
     "output_type": "stream",
     "text": [
      "983\n"
     ]
    },
    {
     "name": "stderr",
     "output_type": "stream",
     "text": [
      "C:\\Users\\juju-\\Desktop\\projetos\\mng\\notebooks\\..\\scripts\\MNGFeaturesFractal.py:48: RankWarning: Polyfit may be poorly conditioned\n",
      "  coeffs = np.polyfit(np.log(C), np.log(dists), 1)\n"
     ]
    },
    {
     "name": "stdout",
     "output_type": "stream",
     "text": [
      "984\n"
     ]
    },
    {
     "name": "stderr",
     "output_type": "stream",
     "text": [
      "C:\\Users\\juju-\\Desktop\\projetos\\mng\\notebooks\\..\\scripts\\MNGFeaturesFractal.py:48: RankWarning: Polyfit may be poorly conditioned\n",
      "  coeffs = np.polyfit(np.log(C), np.log(dists), 1)\n"
     ]
    },
    {
     "name": "stdout",
     "output_type": "stream",
     "text": [
      "985\n"
     ]
    },
    {
     "name": "stderr",
     "output_type": "stream",
     "text": [
      "C:\\Users\\juju-\\Desktop\\projetos\\mng\\notebooks\\..\\scripts\\MNGFeaturesFractal.py:48: RankWarning: Polyfit may be poorly conditioned\n",
      "  coeffs = np.polyfit(np.log(C), np.log(dists), 1)\n"
     ]
    },
    {
     "name": "stdout",
     "output_type": "stream",
     "text": [
      "986\n"
     ]
    },
    {
     "name": "stderr",
     "output_type": "stream",
     "text": [
      "C:\\Users\\juju-\\Desktop\\projetos\\mng\\notebooks\\..\\scripts\\MNGFeaturesFractal.py:48: RankWarning: Polyfit may be poorly conditioned\n",
      "  coeffs = np.polyfit(np.log(C), np.log(dists), 1)\n"
     ]
    },
    {
     "name": "stdout",
     "output_type": "stream",
     "text": [
      "987\n"
     ]
    },
    {
     "name": "stderr",
     "output_type": "stream",
     "text": [
      "C:\\Users\\juju-\\Desktop\\projetos\\mng\\notebooks\\..\\scripts\\MNGFeaturesFractal.py:48: RankWarning: Polyfit may be poorly conditioned\n",
      "  coeffs = np.polyfit(np.log(C), np.log(dists), 1)\n"
     ]
    },
    {
     "name": "stdout",
     "output_type": "stream",
     "text": [
      "988\n"
     ]
    },
    {
     "name": "stderr",
     "output_type": "stream",
     "text": [
      "C:\\Users\\juju-\\Desktop\\projetos\\mng\\notebooks\\..\\scripts\\MNGFeaturesFractal.py:48: RankWarning: Polyfit may be poorly conditioned\n",
      "  coeffs = np.polyfit(np.log(C), np.log(dists), 1)\n"
     ]
    },
    {
     "name": "stdout",
     "output_type": "stream",
     "text": [
      "989\n"
     ]
    },
    {
     "name": "stderr",
     "output_type": "stream",
     "text": [
      "C:\\Users\\juju-\\Desktop\\projetos\\mng\\notebooks\\..\\scripts\\MNGFeaturesFractal.py:48: RankWarning: Polyfit may be poorly conditioned\n",
      "  coeffs = np.polyfit(np.log(C), np.log(dists), 1)\n"
     ]
    },
    {
     "name": "stdout",
     "output_type": "stream",
     "text": [
      "990\n"
     ]
    },
    {
     "name": "stderr",
     "output_type": "stream",
     "text": [
      "C:\\Users\\juju-\\Desktop\\projetos\\mng\\notebooks\\..\\scripts\\MNGFeaturesFractal.py:48: RankWarning: Polyfit may be poorly conditioned\n",
      "  coeffs = np.polyfit(np.log(C), np.log(dists), 1)\n"
     ]
    },
    {
     "name": "stdout",
     "output_type": "stream",
     "text": [
      "991\n"
     ]
    },
    {
     "name": "stderr",
     "output_type": "stream",
     "text": [
      "C:\\Users\\juju-\\Desktop\\projetos\\mng\\notebooks\\..\\scripts\\MNGFeaturesFractal.py:48: RankWarning: Polyfit may be poorly conditioned\n",
      "  coeffs = np.polyfit(np.log(C), np.log(dists), 1)\n"
     ]
    },
    {
     "name": "stdout",
     "output_type": "stream",
     "text": [
      "992\n"
     ]
    },
    {
     "name": "stderr",
     "output_type": "stream",
     "text": [
      "C:\\Users\\juju-\\Desktop\\projetos\\mng\\notebooks\\..\\scripts\\MNGFeaturesFractal.py:48: RankWarning: Polyfit may be poorly conditioned\n",
      "  coeffs = np.polyfit(np.log(C), np.log(dists), 1)\n"
     ]
    },
    {
     "name": "stdout",
     "output_type": "stream",
     "text": [
      "993\n"
     ]
    },
    {
     "name": "stderr",
     "output_type": "stream",
     "text": [
      "C:\\Users\\juju-\\Desktop\\projetos\\mng\\notebooks\\..\\scripts\\MNGFeaturesFractal.py:48: RankWarning: Polyfit may be poorly conditioned\n",
      "  coeffs = np.polyfit(np.log(C), np.log(dists), 1)\n"
     ]
    },
    {
     "name": "stdout",
     "output_type": "stream",
     "text": [
      "994\n"
     ]
    },
    {
     "name": "stderr",
     "output_type": "stream",
     "text": [
      "C:\\Users\\juju-\\Desktop\\projetos\\mng\\notebooks\\..\\scripts\\MNGFeaturesFractal.py:48: RankWarning: Polyfit may be poorly conditioned\n",
      "  coeffs = np.polyfit(np.log(C), np.log(dists), 1)\n"
     ]
    },
    {
     "name": "stdout",
     "output_type": "stream",
     "text": [
      "995\n"
     ]
    },
    {
     "name": "stderr",
     "output_type": "stream",
     "text": [
      "C:\\Users\\juju-\\Desktop\\projetos\\mng\\notebooks\\..\\scripts\\MNGFeaturesFractal.py:48: RankWarning: Polyfit may be poorly conditioned\n",
      "  coeffs = np.polyfit(np.log(C), np.log(dists), 1)\n"
     ]
    },
    {
     "name": "stdout",
     "output_type": "stream",
     "text": [
      "996\n"
     ]
    },
    {
     "name": "stderr",
     "output_type": "stream",
     "text": [
      "C:\\Users\\juju-\\Desktop\\projetos\\mng\\notebooks\\..\\scripts\\MNGFeaturesFractal.py:48: RankWarning: Polyfit may be poorly conditioned\n",
      "  coeffs = np.polyfit(np.log(C), np.log(dists), 1)\n"
     ]
    },
    {
     "name": "stdout",
     "output_type": "stream",
     "text": [
      "997\n"
     ]
    },
    {
     "name": "stderr",
     "output_type": "stream",
     "text": [
      "C:\\Users\\juju-\\Desktop\\projetos\\mng\\notebooks\\..\\scripts\\MNGFeaturesFractal.py:48: RankWarning: Polyfit may be poorly conditioned\n",
      "  coeffs = np.polyfit(np.log(C), np.log(dists), 1)\n"
     ]
    },
    {
     "name": "stdout",
     "output_type": "stream",
     "text": [
      "998\n"
     ]
    },
    {
     "name": "stderr",
     "output_type": "stream",
     "text": [
      "C:\\Users\\juju-\\Desktop\\projetos\\mng\\notebooks\\..\\scripts\\MNGFeaturesFractal.py:48: RankWarning: Polyfit may be poorly conditioned\n",
      "  coeffs = np.polyfit(np.log(C), np.log(dists), 1)\n"
     ]
    },
    {
     "name": "stdout",
     "output_type": "stream",
     "text": [
      "999\n"
     ]
    },
    {
     "name": "stderr",
     "output_type": "stream",
     "text": [
      "C:\\Users\\juju-\\Desktop\\projetos\\mng\\notebooks\\..\\scripts\\MNGFeaturesFractal.py:48: RankWarning: Polyfit may be poorly conditioned\n",
      "  coeffs = np.polyfit(np.log(C), np.log(dists), 1)\n"
     ]
    },
    {
     "name": "stdout",
     "output_type": "stream",
     "text": [
      "1000\n"
     ]
    },
    {
     "name": "stderr",
     "output_type": "stream",
     "text": [
      "C:\\Users\\juju-\\Desktop\\projetos\\mng\\notebooks\\..\\scripts\\MNGFeaturesFractal.py:48: RankWarning: Polyfit may be poorly conditioned\n",
      "  coeffs = np.polyfit(np.log(C), np.log(dists), 1)\n"
     ]
    },
    {
     "name": "stdout",
     "output_type": "stream",
     "text": [
      "1001\n"
     ]
    },
    {
     "name": "stderr",
     "output_type": "stream",
     "text": [
      "C:\\Users\\juju-\\Desktop\\projetos\\mng\\notebooks\\..\\scripts\\MNGFeaturesFractal.py:48: RankWarning: Polyfit may be poorly conditioned\n",
      "  coeffs = np.polyfit(np.log(C), np.log(dists), 1)\n"
     ]
    },
    {
     "name": "stdout",
     "output_type": "stream",
     "text": [
      "1002\n"
     ]
    },
    {
     "name": "stderr",
     "output_type": "stream",
     "text": [
      "C:\\Users\\juju-\\Desktop\\projetos\\mng\\notebooks\\..\\scripts\\MNGFeaturesFractal.py:48: RankWarning: Polyfit may be poorly conditioned\n",
      "  coeffs = np.polyfit(np.log(C), np.log(dists), 1)\n"
     ]
    },
    {
     "name": "stdout",
     "output_type": "stream",
     "text": [
      "1003\n"
     ]
    },
    {
     "name": "stderr",
     "output_type": "stream",
     "text": [
      "C:\\Users\\juju-\\Desktop\\projetos\\mng\\notebooks\\..\\scripts\\MNGFeaturesFractal.py:48: RankWarning: Polyfit may be poorly conditioned\n",
      "  coeffs = np.polyfit(np.log(C), np.log(dists), 1)\n"
     ]
    },
    {
     "name": "stdout",
     "output_type": "stream",
     "text": [
      "1004\n"
     ]
    },
    {
     "name": "stderr",
     "output_type": "stream",
     "text": [
      "C:\\Users\\juju-\\Desktop\\projetos\\mng\\notebooks\\..\\scripts\\MNGFeaturesFractal.py:48: RankWarning: Polyfit may be poorly conditioned\n",
      "  coeffs = np.polyfit(np.log(C), np.log(dists), 1)\n"
     ]
    },
    {
     "name": "stdout",
     "output_type": "stream",
     "text": [
      "1005\n"
     ]
    },
    {
     "name": "stderr",
     "output_type": "stream",
     "text": [
      "C:\\Users\\juju-\\Desktop\\projetos\\mng\\notebooks\\..\\scripts\\MNGFeaturesFractal.py:48: RankWarning: Polyfit may be poorly conditioned\n",
      "  coeffs = np.polyfit(np.log(C), np.log(dists), 1)\n"
     ]
    },
    {
     "name": "stdout",
     "output_type": "stream",
     "text": [
      "1006\n"
     ]
    },
    {
     "name": "stderr",
     "output_type": "stream",
     "text": [
      "C:\\Users\\juju-\\Desktop\\projetos\\mng\\notebooks\\..\\scripts\\MNGFeaturesFractal.py:48: RankWarning: Polyfit may be poorly conditioned\n",
      "  coeffs = np.polyfit(np.log(C), np.log(dists), 1)\n"
     ]
    },
    {
     "name": "stdout",
     "output_type": "stream",
     "text": [
      "1007\n"
     ]
    },
    {
     "name": "stderr",
     "output_type": "stream",
     "text": [
      "C:\\Users\\juju-\\Desktop\\projetos\\mng\\notebooks\\..\\scripts\\MNGFeaturesFractal.py:48: RankWarning: Polyfit may be poorly conditioned\n",
      "  coeffs = np.polyfit(np.log(C), np.log(dists), 1)\n"
     ]
    },
    {
     "name": "stdout",
     "output_type": "stream",
     "text": [
      "1008\n"
     ]
    },
    {
     "name": "stderr",
     "output_type": "stream",
     "text": [
      "C:\\Users\\juju-\\Desktop\\projetos\\mng\\notebooks\\..\\scripts\\MNGFeaturesFractal.py:48: RankWarning: Polyfit may be poorly conditioned\n",
      "  coeffs = np.polyfit(np.log(C), np.log(dists), 1)\n"
     ]
    },
    {
     "name": "stdout",
     "output_type": "stream",
     "text": [
      "1009\n"
     ]
    },
    {
     "name": "stderr",
     "output_type": "stream",
     "text": [
      "C:\\Users\\juju-\\Desktop\\projetos\\mng\\notebooks\\..\\scripts\\MNGFeaturesFractal.py:48: RankWarning: Polyfit may be poorly conditioned\n",
      "  coeffs = np.polyfit(np.log(C), np.log(dists), 1)\n"
     ]
    },
    {
     "name": "stdout",
     "output_type": "stream",
     "text": [
      "1010\n"
     ]
    },
    {
     "name": "stderr",
     "output_type": "stream",
     "text": [
      "C:\\Users\\juju-\\Desktop\\projetos\\mng\\notebooks\\..\\scripts\\MNGFeaturesFractal.py:48: RankWarning: Polyfit may be poorly conditioned\n",
      "  coeffs = np.polyfit(np.log(C), np.log(dists), 1)\n"
     ]
    },
    {
     "name": "stdout",
     "output_type": "stream",
     "text": [
      "1011\n"
     ]
    },
    {
     "name": "stderr",
     "output_type": "stream",
     "text": [
      "C:\\Users\\juju-\\Desktop\\projetos\\mng\\notebooks\\..\\scripts\\MNGFeaturesFractal.py:48: RankWarning: Polyfit may be poorly conditioned\n",
      "  coeffs = np.polyfit(np.log(C), np.log(dists), 1)\n"
     ]
    },
    {
     "name": "stdout",
     "output_type": "stream",
     "text": [
      "1012\n"
     ]
    },
    {
     "name": "stderr",
     "output_type": "stream",
     "text": [
      "C:\\Users\\juju-\\Desktop\\projetos\\mng\\notebooks\\..\\scripts\\MNGFeaturesFractal.py:48: RankWarning: Polyfit may be poorly conditioned\n",
      "  coeffs = np.polyfit(np.log(C), np.log(dists), 1)\n"
     ]
    },
    {
     "name": "stdout",
     "output_type": "stream",
     "text": [
      "1013\n"
     ]
    },
    {
     "name": "stderr",
     "output_type": "stream",
     "text": [
      "C:\\Users\\juju-\\Desktop\\projetos\\mng\\notebooks\\..\\scripts\\MNGFeaturesFractal.py:48: RankWarning: Polyfit may be poorly conditioned\n",
      "  coeffs = np.polyfit(np.log(C), np.log(dists), 1)\n"
     ]
    },
    {
     "name": "stdout",
     "output_type": "stream",
     "text": [
      "1014\n"
     ]
    },
    {
     "name": "stderr",
     "output_type": "stream",
     "text": [
      "C:\\Users\\juju-\\Desktop\\projetos\\mng\\notebooks\\..\\scripts\\MNGFeaturesFractal.py:48: RankWarning: Polyfit may be poorly conditioned\n",
      "  coeffs = np.polyfit(np.log(C), np.log(dists), 1)\n"
     ]
    },
    {
     "name": "stdout",
     "output_type": "stream",
     "text": [
      "1015\n"
     ]
    },
    {
     "name": "stderr",
     "output_type": "stream",
     "text": [
      "C:\\Users\\juju-\\Desktop\\projetos\\mng\\notebooks\\..\\scripts\\MNGFeaturesFractal.py:48: RankWarning: Polyfit may be poorly conditioned\n",
      "  coeffs = np.polyfit(np.log(C), np.log(dists), 1)\n"
     ]
    },
    {
     "name": "stdout",
     "output_type": "stream",
     "text": [
      "1016\n"
     ]
    },
    {
     "name": "stderr",
     "output_type": "stream",
     "text": [
      "C:\\Users\\juju-\\Desktop\\projetos\\mng\\notebooks\\..\\scripts\\MNGFeaturesFractal.py:48: RankWarning: Polyfit may be poorly conditioned\n",
      "  coeffs = np.polyfit(np.log(C), np.log(dists), 1)\n"
     ]
    },
    {
     "name": "stdout",
     "output_type": "stream",
     "text": [
      "1017\n"
     ]
    },
    {
     "name": "stderr",
     "output_type": "stream",
     "text": [
      "C:\\Users\\juju-\\Desktop\\projetos\\mng\\notebooks\\..\\scripts\\MNGFeaturesFractal.py:48: RankWarning: Polyfit may be poorly conditioned\n",
      "  coeffs = np.polyfit(np.log(C), np.log(dists), 1)\n"
     ]
    },
    {
     "name": "stdout",
     "output_type": "stream",
     "text": [
      "1018\n"
     ]
    },
    {
     "name": "stderr",
     "output_type": "stream",
     "text": [
      "C:\\Users\\juju-\\Desktop\\projetos\\mng\\notebooks\\..\\scripts\\MNGFeaturesFractal.py:48: RankWarning: Polyfit may be poorly conditioned\n",
      "  coeffs = np.polyfit(np.log(C), np.log(dists), 1)\n"
     ]
    },
    {
     "name": "stdout",
     "output_type": "stream",
     "text": [
      "1019\n"
     ]
    },
    {
     "name": "stderr",
     "output_type": "stream",
     "text": [
      "C:\\Users\\juju-\\Desktop\\projetos\\mng\\notebooks\\..\\scripts\\MNGFeaturesFractal.py:48: RankWarning: Polyfit may be poorly conditioned\n",
      "  coeffs = np.polyfit(np.log(C), np.log(dists), 1)\n"
     ]
    },
    {
     "name": "stdout",
     "output_type": "stream",
     "text": [
      "1020\n"
     ]
    },
    {
     "name": "stderr",
     "output_type": "stream",
     "text": [
      "C:\\Users\\juju-\\Desktop\\projetos\\mng\\notebooks\\..\\scripts\\MNGFeaturesFractal.py:48: RankWarning: Polyfit may be poorly conditioned\n",
      "  coeffs = np.polyfit(np.log(C), np.log(dists), 1)\n"
     ]
    },
    {
     "name": "stdout",
     "output_type": "stream",
     "text": [
      "1021\n"
     ]
    },
    {
     "name": "stderr",
     "output_type": "stream",
     "text": [
      "C:\\Users\\juju-\\Desktop\\projetos\\mng\\notebooks\\..\\scripts\\MNGFeaturesFractal.py:48: RankWarning: Polyfit may be poorly conditioned\n",
      "  coeffs = np.polyfit(np.log(C), np.log(dists), 1)\n"
     ]
    },
    {
     "name": "stdout",
     "output_type": "stream",
     "text": [
      "1022\n"
     ]
    },
    {
     "name": "stderr",
     "output_type": "stream",
     "text": [
      "C:\\Users\\juju-\\Desktop\\projetos\\mng\\notebooks\\..\\scripts\\MNGFeaturesFractal.py:48: RankWarning: Polyfit may be poorly conditioned\n",
      "  coeffs = np.polyfit(np.log(C), np.log(dists), 1)\n"
     ]
    },
    {
     "name": "stdout",
     "output_type": "stream",
     "text": [
      "1023\n"
     ]
    },
    {
     "name": "stderr",
     "output_type": "stream",
     "text": [
      "C:\\Users\\juju-\\Desktop\\projetos\\mng\\notebooks\\..\\scripts\\MNGFeaturesFractal.py:48: RankWarning: Polyfit may be poorly conditioned\n",
      "  coeffs = np.polyfit(np.log(C), np.log(dists), 1)\n"
     ]
    },
    {
     "name": "stdout",
     "output_type": "stream",
     "text": [
      "1024\n"
     ]
    },
    {
     "name": "stderr",
     "output_type": "stream",
     "text": [
      "C:\\Users\\juju-\\Desktop\\projetos\\mng\\notebooks\\..\\scripts\\MNGFeaturesFractal.py:48: RankWarning: Polyfit may be poorly conditioned\n",
      "  coeffs = np.polyfit(np.log(C), np.log(dists), 1)\n"
     ]
    },
    {
     "name": "stdout",
     "output_type": "stream",
     "text": [
      "1025\n"
     ]
    },
    {
     "name": "stderr",
     "output_type": "stream",
     "text": [
      "C:\\Users\\juju-\\Desktop\\projetos\\mng\\notebooks\\..\\scripts\\MNGFeaturesFractal.py:48: RankWarning: Polyfit may be poorly conditioned\n",
      "  coeffs = np.polyfit(np.log(C), np.log(dists), 1)\n"
     ]
    },
    {
     "name": "stdout",
     "output_type": "stream",
     "text": [
      "1026\n"
     ]
    },
    {
     "name": "stderr",
     "output_type": "stream",
     "text": [
      "C:\\Users\\juju-\\Desktop\\projetos\\mng\\notebooks\\..\\scripts\\MNGFeaturesFractal.py:48: RankWarning: Polyfit may be poorly conditioned\n",
      "  coeffs = np.polyfit(np.log(C), np.log(dists), 1)\n"
     ]
    },
    {
     "name": "stdout",
     "output_type": "stream",
     "text": [
      "1027\n"
     ]
    },
    {
     "name": "stderr",
     "output_type": "stream",
     "text": [
      "C:\\Users\\juju-\\Desktop\\projetos\\mng\\notebooks\\..\\scripts\\MNGFeaturesFractal.py:48: RankWarning: Polyfit may be poorly conditioned\n",
      "  coeffs = np.polyfit(np.log(C), np.log(dists), 1)\n"
     ]
    },
    {
     "name": "stdout",
     "output_type": "stream",
     "text": [
      "1028\n"
     ]
    },
    {
     "name": "stderr",
     "output_type": "stream",
     "text": [
      "C:\\Users\\juju-\\Desktop\\projetos\\mng\\notebooks\\..\\scripts\\MNGFeaturesFractal.py:48: RankWarning: Polyfit may be poorly conditioned\n",
      "  coeffs = np.polyfit(np.log(C), np.log(dists), 1)\n"
     ]
    },
    {
     "name": "stdout",
     "output_type": "stream",
     "text": [
      "1029\n"
     ]
    },
    {
     "name": "stderr",
     "output_type": "stream",
     "text": [
      "C:\\Users\\juju-\\Desktop\\projetos\\mng\\notebooks\\..\\scripts\\MNGFeaturesFractal.py:48: RankWarning: Polyfit may be poorly conditioned\n",
      "  coeffs = np.polyfit(np.log(C), np.log(dists), 1)\n"
     ]
    },
    {
     "name": "stdout",
     "output_type": "stream",
     "text": [
      "1030\n"
     ]
    },
    {
     "name": "stderr",
     "output_type": "stream",
     "text": [
      "C:\\Users\\juju-\\Desktop\\projetos\\mng\\notebooks\\..\\scripts\\MNGFeaturesFractal.py:48: RankWarning: Polyfit may be poorly conditioned\n",
      "  coeffs = np.polyfit(np.log(C), np.log(dists), 1)\n"
     ]
    },
    {
     "name": "stdout",
     "output_type": "stream",
     "text": [
      "1031\n"
     ]
    },
    {
     "name": "stderr",
     "output_type": "stream",
     "text": [
      "C:\\Users\\juju-\\Desktop\\projetos\\mng\\notebooks\\..\\scripts\\MNGFeaturesFractal.py:48: RankWarning: Polyfit may be poorly conditioned\n",
      "  coeffs = np.polyfit(np.log(C), np.log(dists), 1)\n"
     ]
    },
    {
     "name": "stdout",
     "output_type": "stream",
     "text": [
      "1032\n"
     ]
    },
    {
     "name": "stderr",
     "output_type": "stream",
     "text": [
      "C:\\Users\\juju-\\Desktop\\projetos\\mng\\notebooks\\..\\scripts\\MNGFeaturesFractal.py:48: RankWarning: Polyfit may be poorly conditioned\n",
      "  coeffs = np.polyfit(np.log(C), np.log(dists), 1)\n"
     ]
    },
    {
     "name": "stdout",
     "output_type": "stream",
     "text": [
      "1033\n"
     ]
    },
    {
     "name": "stderr",
     "output_type": "stream",
     "text": [
      "C:\\Users\\juju-\\Desktop\\projetos\\mng\\notebooks\\..\\scripts\\MNGFeaturesFractal.py:48: RankWarning: Polyfit may be poorly conditioned\n",
      "  coeffs = np.polyfit(np.log(C), np.log(dists), 1)\n"
     ]
    },
    {
     "name": "stdout",
     "output_type": "stream",
     "text": [
      "1034\n"
     ]
    },
    {
     "name": "stderr",
     "output_type": "stream",
     "text": [
      "C:\\Users\\juju-\\Desktop\\projetos\\mng\\notebooks\\..\\scripts\\MNGFeaturesFractal.py:48: RankWarning: Polyfit may be poorly conditioned\n",
      "  coeffs = np.polyfit(np.log(C), np.log(dists), 1)\n"
     ]
    },
    {
     "name": "stdout",
     "output_type": "stream",
     "text": [
      "1035\n"
     ]
    },
    {
     "name": "stderr",
     "output_type": "stream",
     "text": [
      "C:\\Users\\juju-\\Desktop\\projetos\\mng\\notebooks\\..\\scripts\\MNGFeaturesFractal.py:48: RankWarning: Polyfit may be poorly conditioned\n",
      "  coeffs = np.polyfit(np.log(C), np.log(dists), 1)\n"
     ]
    },
    {
     "name": "stdout",
     "output_type": "stream",
     "text": [
      "1036\n"
     ]
    },
    {
     "name": "stderr",
     "output_type": "stream",
     "text": [
      "C:\\Users\\juju-\\Desktop\\projetos\\mng\\notebooks\\..\\scripts\\MNGFeaturesFractal.py:48: RankWarning: Polyfit may be poorly conditioned\n",
      "  coeffs = np.polyfit(np.log(C), np.log(dists), 1)\n"
     ]
    },
    {
     "name": "stdout",
     "output_type": "stream",
     "text": [
      "1037\n"
     ]
    },
    {
     "name": "stderr",
     "output_type": "stream",
     "text": [
      "C:\\Users\\juju-\\Desktop\\projetos\\mng\\notebooks\\..\\scripts\\MNGFeaturesFractal.py:48: RankWarning: Polyfit may be poorly conditioned\n",
      "  coeffs = np.polyfit(np.log(C), np.log(dists), 1)\n"
     ]
    },
    {
     "name": "stdout",
     "output_type": "stream",
     "text": [
      "1038\n"
     ]
    },
    {
     "name": "stderr",
     "output_type": "stream",
     "text": [
      "C:\\Users\\juju-\\Desktop\\projetos\\mng\\notebooks\\..\\scripts\\MNGFeaturesFractal.py:48: RankWarning: Polyfit may be poorly conditioned\n",
      "  coeffs = np.polyfit(np.log(C), np.log(dists), 1)\n"
     ]
    },
    {
     "name": "stdout",
     "output_type": "stream",
     "text": [
      "1039\n"
     ]
    },
    {
     "name": "stderr",
     "output_type": "stream",
     "text": [
      "C:\\Users\\juju-\\Desktop\\projetos\\mng\\notebooks\\..\\scripts\\MNGFeaturesFractal.py:48: RankWarning: Polyfit may be poorly conditioned\n",
      "  coeffs = np.polyfit(np.log(C), np.log(dists), 1)\n"
     ]
    },
    {
     "name": "stdout",
     "output_type": "stream",
     "text": [
      "1040\n"
     ]
    },
    {
     "name": "stderr",
     "output_type": "stream",
     "text": [
      "C:\\Users\\juju-\\Desktop\\projetos\\mng\\notebooks\\..\\scripts\\MNGFeaturesFractal.py:48: RankWarning: Polyfit may be poorly conditioned\n",
      "  coeffs = np.polyfit(np.log(C), np.log(dists), 1)\n"
     ]
    },
    {
     "name": "stdout",
     "output_type": "stream",
     "text": [
      "1041\n"
     ]
    },
    {
     "name": "stderr",
     "output_type": "stream",
     "text": [
      "C:\\Users\\juju-\\Desktop\\projetos\\mng\\notebooks\\..\\scripts\\MNGFeaturesFractal.py:48: RankWarning: Polyfit may be poorly conditioned\n",
      "  coeffs = np.polyfit(np.log(C), np.log(dists), 1)\n"
     ]
    },
    {
     "name": "stdout",
     "output_type": "stream",
     "text": [
      "1042\n"
     ]
    },
    {
     "name": "stderr",
     "output_type": "stream",
     "text": [
      "C:\\Users\\juju-\\Desktop\\projetos\\mng\\notebooks\\..\\scripts\\MNGFeaturesFractal.py:48: RankWarning: Polyfit may be poorly conditioned\n",
      "  coeffs = np.polyfit(np.log(C), np.log(dists), 1)\n"
     ]
    },
    {
     "name": "stdout",
     "output_type": "stream",
     "text": [
      "1043\n"
     ]
    },
    {
     "name": "stderr",
     "output_type": "stream",
     "text": [
      "C:\\Users\\juju-\\Desktop\\projetos\\mng\\notebooks\\..\\scripts\\MNGFeaturesFractal.py:48: RankWarning: Polyfit may be poorly conditioned\n",
      "  coeffs = np.polyfit(np.log(C), np.log(dists), 1)\n"
     ]
    },
    {
     "name": "stdout",
     "output_type": "stream",
     "text": [
      "1044\n"
     ]
    },
    {
     "name": "stderr",
     "output_type": "stream",
     "text": [
      "C:\\Users\\juju-\\Desktop\\projetos\\mng\\notebooks\\..\\scripts\\MNGFeaturesFractal.py:48: RankWarning: Polyfit may be poorly conditioned\n",
      "  coeffs = np.polyfit(np.log(C), np.log(dists), 1)\n"
     ]
    },
    {
     "name": "stdout",
     "output_type": "stream",
     "text": [
      "1045\n"
     ]
    },
    {
     "name": "stderr",
     "output_type": "stream",
     "text": [
      "C:\\Users\\juju-\\Desktop\\projetos\\mng\\notebooks\\..\\scripts\\MNGFeaturesFractal.py:48: RankWarning: Polyfit may be poorly conditioned\n",
      "  coeffs = np.polyfit(np.log(C), np.log(dists), 1)\n"
     ]
    },
    {
     "name": "stdout",
     "output_type": "stream",
     "text": [
      "1046\n"
     ]
    },
    {
     "name": "stderr",
     "output_type": "stream",
     "text": [
      "C:\\Users\\juju-\\Desktop\\projetos\\mng\\notebooks\\..\\scripts\\MNGFeaturesFractal.py:48: RankWarning: Polyfit may be poorly conditioned\n",
      "  coeffs = np.polyfit(np.log(C), np.log(dists), 1)\n"
     ]
    },
    {
     "name": "stdout",
     "output_type": "stream",
     "text": [
      "1047\n"
     ]
    },
    {
     "name": "stderr",
     "output_type": "stream",
     "text": [
      "C:\\Users\\juju-\\Desktop\\projetos\\mng\\notebooks\\..\\scripts\\MNGFeaturesFractal.py:48: RankWarning: Polyfit may be poorly conditioned\n",
      "  coeffs = np.polyfit(np.log(C), np.log(dists), 1)\n"
     ]
    },
    {
     "name": "stdout",
     "output_type": "stream",
     "text": [
      "1048\n"
     ]
    },
    {
     "name": "stderr",
     "output_type": "stream",
     "text": [
      "C:\\Users\\juju-\\Desktop\\projetos\\mng\\notebooks\\..\\scripts\\MNGFeaturesFractal.py:48: RankWarning: Polyfit may be poorly conditioned\n",
      "  coeffs = np.polyfit(np.log(C), np.log(dists), 1)\n"
     ]
    },
    {
     "name": "stdout",
     "output_type": "stream",
     "text": [
      "1049\n"
     ]
    },
    {
     "name": "stderr",
     "output_type": "stream",
     "text": [
      "C:\\Users\\juju-\\Desktop\\projetos\\mng\\notebooks\\..\\scripts\\MNGFeaturesFractal.py:48: RankWarning: Polyfit may be poorly conditioned\n",
      "  coeffs = np.polyfit(np.log(C), np.log(dists), 1)\n"
     ]
    },
    {
     "name": "stdout",
     "output_type": "stream",
     "text": [
      "1050\n"
     ]
    },
    {
     "name": "stderr",
     "output_type": "stream",
     "text": [
      "C:\\Users\\juju-\\Desktop\\projetos\\mng\\notebooks\\..\\scripts\\MNGFeaturesFractal.py:48: RankWarning: Polyfit may be poorly conditioned\n",
      "  coeffs = np.polyfit(np.log(C), np.log(dists), 1)\n"
     ]
    },
    {
     "name": "stdout",
     "output_type": "stream",
     "text": [
      "1051\n"
     ]
    },
    {
     "name": "stderr",
     "output_type": "stream",
     "text": [
      "C:\\Users\\juju-\\Desktop\\projetos\\mng\\notebooks\\..\\scripts\\MNGFeaturesFractal.py:48: RankWarning: Polyfit may be poorly conditioned\n",
      "  coeffs = np.polyfit(np.log(C), np.log(dists), 1)\n"
     ]
    },
    {
     "name": "stdout",
     "output_type": "stream",
     "text": [
      "1052\n"
     ]
    },
    {
     "name": "stderr",
     "output_type": "stream",
     "text": [
      "C:\\Users\\juju-\\Desktop\\projetos\\mng\\notebooks\\..\\scripts\\MNGFeaturesFractal.py:48: RankWarning: Polyfit may be poorly conditioned\n",
      "  coeffs = np.polyfit(np.log(C), np.log(dists), 1)\n"
     ]
    },
    {
     "name": "stdout",
     "output_type": "stream",
     "text": [
      "1053\n"
     ]
    },
    {
     "name": "stderr",
     "output_type": "stream",
     "text": [
      "C:\\Users\\juju-\\Desktop\\projetos\\mng\\notebooks\\..\\scripts\\MNGFeaturesFractal.py:48: RankWarning: Polyfit may be poorly conditioned\n",
      "  coeffs = np.polyfit(np.log(C), np.log(dists), 1)\n"
     ]
    },
    {
     "name": "stdout",
     "output_type": "stream",
     "text": [
      "1054\n"
     ]
    },
    {
     "name": "stderr",
     "output_type": "stream",
     "text": [
      "C:\\Users\\juju-\\Desktop\\projetos\\mng\\notebooks\\..\\scripts\\MNGFeaturesFractal.py:48: RankWarning: Polyfit may be poorly conditioned\n",
      "  coeffs = np.polyfit(np.log(C), np.log(dists), 1)\n"
     ]
    },
    {
     "name": "stdout",
     "output_type": "stream",
     "text": [
      "1055\n"
     ]
    },
    {
     "name": "stderr",
     "output_type": "stream",
     "text": [
      "C:\\Users\\juju-\\Desktop\\projetos\\mng\\notebooks\\..\\scripts\\MNGFeaturesFractal.py:48: RankWarning: Polyfit may be poorly conditioned\n",
      "  coeffs = np.polyfit(np.log(C), np.log(dists), 1)\n"
     ]
    },
    {
     "name": "stdout",
     "output_type": "stream",
     "text": [
      "1056\n"
     ]
    },
    {
     "name": "stderr",
     "output_type": "stream",
     "text": [
      "C:\\Users\\juju-\\Desktop\\projetos\\mng\\notebooks\\..\\scripts\\MNGFeaturesFractal.py:48: RankWarning: Polyfit may be poorly conditioned\n",
      "  coeffs = np.polyfit(np.log(C), np.log(dists), 1)\n"
     ]
    },
    {
     "name": "stdout",
     "output_type": "stream",
     "text": [
      "1057\n"
     ]
    },
    {
     "name": "stderr",
     "output_type": "stream",
     "text": [
      "C:\\Users\\juju-\\Desktop\\projetos\\mng\\notebooks\\..\\scripts\\MNGFeaturesFractal.py:48: RankWarning: Polyfit may be poorly conditioned\n",
      "  coeffs = np.polyfit(np.log(C), np.log(dists), 1)\n"
     ]
    },
    {
     "name": "stdout",
     "output_type": "stream",
     "text": [
      "1058\n"
     ]
    },
    {
     "name": "stderr",
     "output_type": "stream",
     "text": [
      "C:\\Users\\juju-\\Desktop\\projetos\\mng\\notebooks\\..\\scripts\\MNGFeaturesFractal.py:48: RankWarning: Polyfit may be poorly conditioned\n",
      "  coeffs = np.polyfit(np.log(C), np.log(dists), 1)\n"
     ]
    },
    {
     "name": "stdout",
     "output_type": "stream",
     "text": [
      "1059\n"
     ]
    },
    {
     "name": "stderr",
     "output_type": "stream",
     "text": [
      "C:\\Users\\juju-\\Desktop\\projetos\\mng\\notebooks\\..\\scripts\\MNGFeaturesFractal.py:48: RankWarning: Polyfit may be poorly conditioned\n",
      "  coeffs = np.polyfit(np.log(C), np.log(dists), 1)\n"
     ]
    },
    {
     "name": "stdout",
     "output_type": "stream",
     "text": [
      "1060\n"
     ]
    },
    {
     "name": "stderr",
     "output_type": "stream",
     "text": [
      "C:\\Users\\juju-\\Desktop\\projetos\\mng\\notebooks\\..\\scripts\\MNGFeaturesFractal.py:48: RankWarning: Polyfit may be poorly conditioned\n",
      "  coeffs = np.polyfit(np.log(C), np.log(dists), 1)\n"
     ]
    },
    {
     "name": "stdout",
     "output_type": "stream",
     "text": [
      "1061\n"
     ]
    },
    {
     "name": "stderr",
     "output_type": "stream",
     "text": [
      "C:\\Users\\juju-\\Desktop\\projetos\\mng\\notebooks\\..\\scripts\\MNGFeaturesFractal.py:48: RankWarning: Polyfit may be poorly conditioned\n",
      "  coeffs = np.polyfit(np.log(C), np.log(dists), 1)\n"
     ]
    },
    {
     "name": "stdout",
     "output_type": "stream",
     "text": [
      "1062\n"
     ]
    },
    {
     "name": "stderr",
     "output_type": "stream",
     "text": [
      "C:\\Users\\juju-\\Desktop\\projetos\\mng\\notebooks\\..\\scripts\\MNGFeaturesFractal.py:48: RankWarning: Polyfit may be poorly conditioned\n",
      "  coeffs = np.polyfit(np.log(C), np.log(dists), 1)\n"
     ]
    },
    {
     "name": "stdout",
     "output_type": "stream",
     "text": [
      "1063\n"
     ]
    },
    {
     "name": "stderr",
     "output_type": "stream",
     "text": [
      "C:\\Users\\juju-\\Desktop\\projetos\\mng\\notebooks\\..\\scripts\\MNGFeaturesFractal.py:48: RankWarning: Polyfit may be poorly conditioned\n",
      "  coeffs = np.polyfit(np.log(C), np.log(dists), 1)\n"
     ]
    },
    {
     "name": "stdout",
     "output_type": "stream",
     "text": [
      "1064\n"
     ]
    },
    {
     "name": "stderr",
     "output_type": "stream",
     "text": [
      "C:\\Users\\juju-\\Desktop\\projetos\\mng\\notebooks\\..\\scripts\\MNGFeaturesFractal.py:48: RankWarning: Polyfit may be poorly conditioned\n",
      "  coeffs = np.polyfit(np.log(C), np.log(dists), 1)\n"
     ]
    },
    {
     "name": "stdout",
     "output_type": "stream",
     "text": [
      "1065\n"
     ]
    },
    {
     "name": "stderr",
     "output_type": "stream",
     "text": [
      "C:\\Users\\juju-\\Desktop\\projetos\\mng\\notebooks\\..\\scripts\\MNGFeaturesFractal.py:48: RankWarning: Polyfit may be poorly conditioned\n",
      "  coeffs = np.polyfit(np.log(C), np.log(dists), 1)\n"
     ]
    },
    {
     "name": "stdout",
     "output_type": "stream",
     "text": [
      "1066\n"
     ]
    },
    {
     "name": "stderr",
     "output_type": "stream",
     "text": [
      "C:\\Users\\juju-\\Desktop\\projetos\\mng\\notebooks\\..\\scripts\\MNGFeaturesFractal.py:48: RankWarning: Polyfit may be poorly conditioned\n",
      "  coeffs = np.polyfit(np.log(C), np.log(dists), 1)\n"
     ]
    },
    {
     "name": "stdout",
     "output_type": "stream",
     "text": [
      "1067\n"
     ]
    },
    {
     "name": "stderr",
     "output_type": "stream",
     "text": [
      "C:\\Users\\juju-\\Desktop\\projetos\\mng\\notebooks\\..\\scripts\\MNGFeaturesFractal.py:48: RankWarning: Polyfit may be poorly conditioned\n",
      "  coeffs = np.polyfit(np.log(C), np.log(dists), 1)\n"
     ]
    },
    {
     "name": "stdout",
     "output_type": "stream",
     "text": [
      "1068\n"
     ]
    },
    {
     "name": "stderr",
     "output_type": "stream",
     "text": [
      "C:\\Users\\juju-\\Desktop\\projetos\\mng\\notebooks\\..\\scripts\\MNGFeaturesFractal.py:48: RankWarning: Polyfit may be poorly conditioned\n",
      "  coeffs = np.polyfit(np.log(C), np.log(dists), 1)\n"
     ]
    },
    {
     "name": "stdout",
     "output_type": "stream",
     "text": [
      "1069\n"
     ]
    },
    {
     "name": "stderr",
     "output_type": "stream",
     "text": [
      "C:\\Users\\juju-\\Desktop\\projetos\\mng\\notebooks\\..\\scripts\\MNGFeaturesFractal.py:48: RankWarning: Polyfit may be poorly conditioned\n",
      "  coeffs = np.polyfit(np.log(C), np.log(dists), 1)\n"
     ]
    },
    {
     "name": "stdout",
     "output_type": "stream",
     "text": [
      "1070\n"
     ]
    },
    {
     "name": "stderr",
     "output_type": "stream",
     "text": [
      "C:\\Users\\juju-\\Desktop\\projetos\\mng\\notebooks\\..\\scripts\\MNGFeaturesFractal.py:48: RankWarning: Polyfit may be poorly conditioned\n",
      "  coeffs = np.polyfit(np.log(C), np.log(dists), 1)\n"
     ]
    },
    {
     "name": "stdout",
     "output_type": "stream",
     "text": [
      "1071\n"
     ]
    },
    {
     "name": "stderr",
     "output_type": "stream",
     "text": [
      "C:\\Users\\juju-\\Desktop\\projetos\\mng\\notebooks\\..\\scripts\\MNGFeaturesFractal.py:48: RankWarning: Polyfit may be poorly conditioned\n",
      "  coeffs = np.polyfit(np.log(C), np.log(dists), 1)\n"
     ]
    },
    {
     "name": "stdout",
     "output_type": "stream",
     "text": [
      "1072\n"
     ]
    },
    {
     "name": "stderr",
     "output_type": "stream",
     "text": [
      "C:\\Users\\juju-\\Desktop\\projetos\\mng\\notebooks\\..\\scripts\\MNGFeaturesFractal.py:48: RankWarning: Polyfit may be poorly conditioned\n",
      "  coeffs = np.polyfit(np.log(C), np.log(dists), 1)\n"
     ]
    },
    {
     "name": "stdout",
     "output_type": "stream",
     "text": [
      "1073\n"
     ]
    },
    {
     "name": "stderr",
     "output_type": "stream",
     "text": [
      "C:\\Users\\juju-\\Desktop\\projetos\\mng\\notebooks\\..\\scripts\\MNGFeaturesFractal.py:48: RankWarning: Polyfit may be poorly conditioned\n",
      "  coeffs = np.polyfit(np.log(C), np.log(dists), 1)\n"
     ]
    },
    {
     "name": "stdout",
     "output_type": "stream",
     "text": [
      "1074\n"
     ]
    },
    {
     "name": "stderr",
     "output_type": "stream",
     "text": [
      "C:\\Users\\juju-\\Desktop\\projetos\\mng\\notebooks\\..\\scripts\\MNGFeaturesFractal.py:48: RankWarning: Polyfit may be poorly conditioned\n",
      "  coeffs = np.polyfit(np.log(C), np.log(dists), 1)\n"
     ]
    },
    {
     "name": "stdout",
     "output_type": "stream",
     "text": [
      "1075\n"
     ]
    },
    {
     "name": "stderr",
     "output_type": "stream",
     "text": [
      "C:\\Users\\juju-\\Desktop\\projetos\\mng\\notebooks\\..\\scripts\\MNGFeaturesFractal.py:48: RankWarning: Polyfit may be poorly conditioned\n",
      "  coeffs = np.polyfit(np.log(C), np.log(dists), 1)\n"
     ]
    },
    {
     "name": "stdout",
     "output_type": "stream",
     "text": [
      "1076\n"
     ]
    },
    {
     "name": "stderr",
     "output_type": "stream",
     "text": [
      "C:\\Users\\juju-\\Desktop\\projetos\\mng\\notebooks\\..\\scripts\\MNGFeaturesFractal.py:48: RankWarning: Polyfit may be poorly conditioned\n",
      "  coeffs = np.polyfit(np.log(C), np.log(dists), 1)\n"
     ]
    },
    {
     "name": "stdout",
     "output_type": "stream",
     "text": [
      "1077\n"
     ]
    },
    {
     "name": "stderr",
     "output_type": "stream",
     "text": [
      "C:\\Users\\juju-\\Desktop\\projetos\\mng\\notebooks\\..\\scripts\\MNGFeaturesFractal.py:48: RankWarning: Polyfit may be poorly conditioned\n",
      "  coeffs = np.polyfit(np.log(C), np.log(dists), 1)\n"
     ]
    },
    {
     "name": "stdout",
     "output_type": "stream",
     "text": [
      "1078\n"
     ]
    },
    {
     "name": "stderr",
     "output_type": "stream",
     "text": [
      "C:\\Users\\juju-\\Desktop\\projetos\\mng\\notebooks\\..\\scripts\\MNGFeaturesFractal.py:48: RankWarning: Polyfit may be poorly conditioned\n",
      "  coeffs = np.polyfit(np.log(C), np.log(dists), 1)\n"
     ]
    },
    {
     "name": "stdout",
     "output_type": "stream",
     "text": [
      "1079\n"
     ]
    },
    {
     "name": "stderr",
     "output_type": "stream",
     "text": [
      "C:\\Users\\juju-\\Desktop\\projetos\\mng\\notebooks\\..\\scripts\\MNGFeaturesFractal.py:48: RankWarning: Polyfit may be poorly conditioned\n",
      "  coeffs = np.polyfit(np.log(C), np.log(dists), 1)\n"
     ]
    },
    {
     "name": "stdout",
     "output_type": "stream",
     "text": [
      "1080\n"
     ]
    },
    {
     "name": "stderr",
     "output_type": "stream",
     "text": [
      "C:\\Users\\juju-\\Desktop\\projetos\\mng\\notebooks\\..\\scripts\\MNGFeaturesFractal.py:48: RankWarning: Polyfit may be poorly conditioned\n",
      "  coeffs = np.polyfit(np.log(C), np.log(dists), 1)\n"
     ]
    },
    {
     "name": "stdout",
     "output_type": "stream",
     "text": [
      "1081\n"
     ]
    },
    {
     "name": "stderr",
     "output_type": "stream",
     "text": [
      "C:\\Users\\juju-\\Desktop\\projetos\\mng\\notebooks\\..\\scripts\\MNGFeaturesFractal.py:48: RankWarning: Polyfit may be poorly conditioned\n",
      "  coeffs = np.polyfit(np.log(C), np.log(dists), 1)\n"
     ]
    },
    {
     "name": "stdout",
     "output_type": "stream",
     "text": [
      "1082\n"
     ]
    },
    {
     "name": "stderr",
     "output_type": "stream",
     "text": [
      "C:\\Users\\juju-\\Desktop\\projetos\\mng\\notebooks\\..\\scripts\\MNGFeaturesFractal.py:48: RankWarning: Polyfit may be poorly conditioned\n",
      "  coeffs = np.polyfit(np.log(C), np.log(dists), 1)\n"
     ]
    },
    {
     "name": "stdout",
     "output_type": "stream",
     "text": [
      "1083\n"
     ]
    },
    {
     "name": "stderr",
     "output_type": "stream",
     "text": [
      "C:\\Users\\juju-\\Desktop\\projetos\\mng\\notebooks\\..\\scripts\\MNGFeaturesFractal.py:48: RankWarning: Polyfit may be poorly conditioned\n",
      "  coeffs = np.polyfit(np.log(C), np.log(dists), 1)\n"
     ]
    },
    {
     "name": "stdout",
     "output_type": "stream",
     "text": [
      "1084\n"
     ]
    },
    {
     "name": "stderr",
     "output_type": "stream",
     "text": [
      "C:\\Users\\juju-\\Desktop\\projetos\\mng\\notebooks\\..\\scripts\\MNGFeaturesFractal.py:48: RankWarning: Polyfit may be poorly conditioned\n",
      "  coeffs = np.polyfit(np.log(C), np.log(dists), 1)\n"
     ]
    },
    {
     "name": "stdout",
     "output_type": "stream",
     "text": [
      "1085\n"
     ]
    },
    {
     "name": "stderr",
     "output_type": "stream",
     "text": [
      "C:\\Users\\juju-\\Desktop\\projetos\\mng\\notebooks\\..\\scripts\\MNGFeaturesFractal.py:48: RankWarning: Polyfit may be poorly conditioned\n",
      "  coeffs = np.polyfit(np.log(C), np.log(dists), 1)\n"
     ]
    },
    {
     "name": "stdout",
     "output_type": "stream",
     "text": [
      "1086\n"
     ]
    },
    {
     "name": "stderr",
     "output_type": "stream",
     "text": [
      "C:\\Users\\juju-\\Desktop\\projetos\\mng\\notebooks\\..\\scripts\\MNGFeaturesFractal.py:48: RankWarning: Polyfit may be poorly conditioned\n",
      "  coeffs = np.polyfit(np.log(C), np.log(dists), 1)\n"
     ]
    },
    {
     "name": "stdout",
     "output_type": "stream",
     "text": [
      "1087\n"
     ]
    },
    {
     "name": "stderr",
     "output_type": "stream",
     "text": [
      "C:\\Users\\juju-\\Desktop\\projetos\\mng\\notebooks\\..\\scripts\\MNGFeaturesFractal.py:48: RankWarning: Polyfit may be poorly conditioned\n",
      "  coeffs = np.polyfit(np.log(C), np.log(dists), 1)\n"
     ]
    },
    {
     "name": "stdout",
     "output_type": "stream",
     "text": [
      "1088\n"
     ]
    },
    {
     "name": "stderr",
     "output_type": "stream",
     "text": [
      "C:\\Users\\juju-\\Desktop\\projetos\\mng\\notebooks\\..\\scripts\\MNGFeaturesFractal.py:48: RankWarning: Polyfit may be poorly conditioned\n",
      "  coeffs = np.polyfit(np.log(C), np.log(dists), 1)\n"
     ]
    },
    {
     "name": "stdout",
     "output_type": "stream",
     "text": [
      "1089\n"
     ]
    },
    {
     "name": "stderr",
     "output_type": "stream",
     "text": [
      "C:\\Users\\juju-\\Desktop\\projetos\\mng\\notebooks\\..\\scripts\\MNGFeaturesFractal.py:48: RankWarning: Polyfit may be poorly conditioned\n",
      "  coeffs = np.polyfit(np.log(C), np.log(dists), 1)\n"
     ]
    },
    {
     "name": "stdout",
     "output_type": "stream",
     "text": [
      "1090\n"
     ]
    },
    {
     "name": "stderr",
     "output_type": "stream",
     "text": [
      "C:\\Users\\juju-\\Desktop\\projetos\\mng\\notebooks\\..\\scripts\\MNGFeaturesFractal.py:48: RankWarning: Polyfit may be poorly conditioned\n",
      "  coeffs = np.polyfit(np.log(C), np.log(dists), 1)\n"
     ]
    },
    {
     "name": "stdout",
     "output_type": "stream",
     "text": [
      "1091\n"
     ]
    },
    {
     "name": "stderr",
     "output_type": "stream",
     "text": [
      "C:\\Users\\juju-\\Desktop\\projetos\\mng\\notebooks\\..\\scripts\\MNGFeaturesFractal.py:48: RankWarning: Polyfit may be poorly conditioned\n",
      "  coeffs = np.polyfit(np.log(C), np.log(dists), 1)\n"
     ]
    },
    {
     "name": "stdout",
     "output_type": "stream",
     "text": [
      "1092\n"
     ]
    },
    {
     "name": "stderr",
     "output_type": "stream",
     "text": [
      "C:\\Users\\juju-\\Desktop\\projetos\\mng\\notebooks\\..\\scripts\\MNGFeaturesFractal.py:48: RankWarning: Polyfit may be poorly conditioned\n",
      "  coeffs = np.polyfit(np.log(C), np.log(dists), 1)\n"
     ]
    },
    {
     "name": "stdout",
     "output_type": "stream",
     "text": [
      "1093\n"
     ]
    },
    {
     "name": "stderr",
     "output_type": "stream",
     "text": [
      "C:\\Users\\juju-\\Desktop\\projetos\\mng\\notebooks\\..\\scripts\\MNGFeaturesFractal.py:48: RankWarning: Polyfit may be poorly conditioned\n",
      "  coeffs = np.polyfit(np.log(C), np.log(dists), 1)\n"
     ]
    },
    {
     "name": "stdout",
     "output_type": "stream",
     "text": [
      "1094\n"
     ]
    },
    {
     "name": "stderr",
     "output_type": "stream",
     "text": [
      "C:\\Users\\juju-\\Desktop\\projetos\\mng\\notebooks\\..\\scripts\\MNGFeaturesFractal.py:48: RankWarning: Polyfit may be poorly conditioned\n",
      "  coeffs = np.polyfit(np.log(C), np.log(dists), 1)\n"
     ]
    },
    {
     "name": "stdout",
     "output_type": "stream",
     "text": [
      "1095\n"
     ]
    },
    {
     "name": "stderr",
     "output_type": "stream",
     "text": [
      "C:\\Users\\juju-\\Desktop\\projetos\\mng\\notebooks\\..\\scripts\\MNGFeaturesFractal.py:48: RankWarning: Polyfit may be poorly conditioned\n",
      "  coeffs = np.polyfit(np.log(C), np.log(dists), 1)\n"
     ]
    },
    {
     "name": "stdout",
     "output_type": "stream",
     "text": [
      "1096\n"
     ]
    },
    {
     "name": "stderr",
     "output_type": "stream",
     "text": [
      "C:\\Users\\juju-\\Desktop\\projetos\\mng\\notebooks\\..\\scripts\\MNGFeaturesFractal.py:48: RankWarning: Polyfit may be poorly conditioned\n",
      "  coeffs = np.polyfit(np.log(C), np.log(dists), 1)\n"
     ]
    },
    {
     "name": "stdout",
     "output_type": "stream",
     "text": [
      "1097\n"
     ]
    },
    {
     "name": "stderr",
     "output_type": "stream",
     "text": [
      "C:\\Users\\juju-\\Desktop\\projetos\\mng\\notebooks\\..\\scripts\\MNGFeaturesFractal.py:48: RankWarning: Polyfit may be poorly conditioned\n",
      "  coeffs = np.polyfit(np.log(C), np.log(dists), 1)\n"
     ]
    },
    {
     "name": "stdout",
     "output_type": "stream",
     "text": [
      "1098\n"
     ]
    },
    {
     "name": "stderr",
     "output_type": "stream",
     "text": [
      "C:\\Users\\juju-\\Desktop\\projetos\\mng\\notebooks\\..\\scripts\\MNGFeaturesFractal.py:48: RankWarning: Polyfit may be poorly conditioned\n",
      "  coeffs = np.polyfit(np.log(C), np.log(dists), 1)\n"
     ]
    },
    {
     "name": "stdout",
     "output_type": "stream",
     "text": [
      "1099\n"
     ]
    },
    {
     "name": "stderr",
     "output_type": "stream",
     "text": [
      "C:\\Users\\juju-\\Desktop\\projetos\\mng\\notebooks\\..\\scripts\\MNGFeaturesFractal.py:48: RankWarning: Polyfit may be poorly conditioned\n",
      "  coeffs = np.polyfit(np.log(C), np.log(dists), 1)\n"
     ]
    },
    {
     "name": "stdout",
     "output_type": "stream",
     "text": [
      "1100\n"
     ]
    },
    {
     "name": "stderr",
     "output_type": "stream",
     "text": [
      "C:\\Users\\juju-\\Desktop\\projetos\\mng\\notebooks\\..\\scripts\\MNGFeaturesFractal.py:48: RankWarning: Polyfit may be poorly conditioned\n",
      "  coeffs = np.polyfit(np.log(C), np.log(dists), 1)\n"
     ]
    },
    {
     "name": "stdout",
     "output_type": "stream",
     "text": [
      "1101\n"
     ]
    },
    {
     "name": "stderr",
     "output_type": "stream",
     "text": [
      "C:\\Users\\juju-\\Desktop\\projetos\\mng\\notebooks\\..\\scripts\\MNGFeaturesFractal.py:48: RankWarning: Polyfit may be poorly conditioned\n",
      "  coeffs = np.polyfit(np.log(C), np.log(dists), 1)\n"
     ]
    },
    {
     "name": "stdout",
     "output_type": "stream",
     "text": [
      "1102\n"
     ]
    },
    {
     "name": "stderr",
     "output_type": "stream",
     "text": [
      "C:\\Users\\juju-\\Desktop\\projetos\\mng\\notebooks\\..\\scripts\\MNGFeaturesFractal.py:48: RankWarning: Polyfit may be poorly conditioned\n",
      "  coeffs = np.polyfit(np.log(C), np.log(dists), 1)\n"
     ]
    },
    {
     "name": "stdout",
     "output_type": "stream",
     "text": [
      "1103\n"
     ]
    },
    {
     "name": "stderr",
     "output_type": "stream",
     "text": [
      "C:\\Users\\juju-\\Desktop\\projetos\\mng\\notebooks\\..\\scripts\\MNGFeaturesFractal.py:48: RankWarning: Polyfit may be poorly conditioned\n",
      "  coeffs = np.polyfit(np.log(C), np.log(dists), 1)\n"
     ]
    },
    {
     "name": "stdout",
     "output_type": "stream",
     "text": [
      "1104\n"
     ]
    },
    {
     "name": "stderr",
     "output_type": "stream",
     "text": [
      "C:\\Users\\juju-\\Desktop\\projetos\\mng\\notebooks\\..\\scripts\\MNGFeaturesFractal.py:48: RankWarning: Polyfit may be poorly conditioned\n",
      "  coeffs = np.polyfit(np.log(C), np.log(dists), 1)\n"
     ]
    },
    {
     "name": "stdout",
     "output_type": "stream",
     "text": [
      "1105\n"
     ]
    },
    {
     "name": "stderr",
     "output_type": "stream",
     "text": [
      "C:\\Users\\juju-\\Desktop\\projetos\\mng\\notebooks\\..\\scripts\\MNGFeaturesFractal.py:48: RankWarning: Polyfit may be poorly conditioned\n",
      "  coeffs = np.polyfit(np.log(C), np.log(dists), 1)\n"
     ]
    },
    {
     "name": "stdout",
     "output_type": "stream",
     "text": [
      "1106\n"
     ]
    },
    {
     "name": "stderr",
     "output_type": "stream",
     "text": [
      "C:\\Users\\juju-\\Desktop\\projetos\\mng\\notebooks\\..\\scripts\\MNGFeaturesFractal.py:48: RankWarning: Polyfit may be poorly conditioned\n",
      "  coeffs = np.polyfit(np.log(C), np.log(dists), 1)\n"
     ]
    },
    {
     "name": "stdout",
     "output_type": "stream",
     "text": [
      "1107\n"
     ]
    },
    {
     "name": "stderr",
     "output_type": "stream",
     "text": [
      "C:\\Users\\juju-\\Desktop\\projetos\\mng\\notebooks\\..\\scripts\\MNGFeaturesFractal.py:48: RankWarning: Polyfit may be poorly conditioned\n",
      "  coeffs = np.polyfit(np.log(C), np.log(dists), 1)\n"
     ]
    },
    {
     "name": "stdout",
     "output_type": "stream",
     "text": [
      "1108\n"
     ]
    },
    {
     "name": "stderr",
     "output_type": "stream",
     "text": [
      "C:\\Users\\juju-\\Desktop\\projetos\\mng\\notebooks\\..\\scripts\\MNGFeaturesFractal.py:48: RankWarning: Polyfit may be poorly conditioned\n",
      "  coeffs = np.polyfit(np.log(C), np.log(dists), 1)\n"
     ]
    },
    {
     "name": "stdout",
     "output_type": "stream",
     "text": [
      "1109\n"
     ]
    },
    {
     "name": "stderr",
     "output_type": "stream",
     "text": [
      "C:\\Users\\juju-\\Desktop\\projetos\\mng\\notebooks\\..\\scripts\\MNGFeaturesFractal.py:48: RankWarning: Polyfit may be poorly conditioned\n",
      "  coeffs = np.polyfit(np.log(C), np.log(dists), 1)\n"
     ]
    },
    {
     "name": "stdout",
     "output_type": "stream",
     "text": [
      "1110\n"
     ]
    },
    {
     "name": "stderr",
     "output_type": "stream",
     "text": [
      "C:\\Users\\juju-\\Desktop\\projetos\\mng\\notebooks\\..\\scripts\\MNGFeaturesFractal.py:48: RankWarning: Polyfit may be poorly conditioned\n",
      "  coeffs = np.polyfit(np.log(C), np.log(dists), 1)\n"
     ]
    },
    {
     "name": "stdout",
     "output_type": "stream",
     "text": [
      "1111\n"
     ]
    },
    {
     "name": "stderr",
     "output_type": "stream",
     "text": [
      "C:\\Users\\juju-\\Desktop\\projetos\\mng\\notebooks\\..\\scripts\\MNGFeaturesFractal.py:48: RankWarning: Polyfit may be poorly conditioned\n",
      "  coeffs = np.polyfit(np.log(C), np.log(dists), 1)\n"
     ]
    },
    {
     "name": "stdout",
     "output_type": "stream",
     "text": [
      "1112\n"
     ]
    },
    {
     "name": "stderr",
     "output_type": "stream",
     "text": [
      "C:\\Users\\juju-\\Desktop\\projetos\\mng\\notebooks\\..\\scripts\\MNGFeaturesFractal.py:48: RankWarning: Polyfit may be poorly conditioned\n",
      "  coeffs = np.polyfit(np.log(C), np.log(dists), 1)\n"
     ]
    },
    {
     "name": "stdout",
     "output_type": "stream",
     "text": [
      "1113\n"
     ]
    },
    {
     "name": "stderr",
     "output_type": "stream",
     "text": [
      "C:\\Users\\juju-\\Desktop\\projetos\\mng\\notebooks\\..\\scripts\\MNGFeaturesFractal.py:48: RankWarning: Polyfit may be poorly conditioned\n",
      "  coeffs = np.polyfit(np.log(C), np.log(dists), 1)\n"
     ]
    },
    {
     "name": "stdout",
     "output_type": "stream",
     "text": [
      "1114\n"
     ]
    },
    {
     "name": "stderr",
     "output_type": "stream",
     "text": [
      "C:\\Users\\juju-\\Desktop\\projetos\\mng\\notebooks\\..\\scripts\\MNGFeaturesFractal.py:48: RankWarning: Polyfit may be poorly conditioned\n",
      "  coeffs = np.polyfit(np.log(C), np.log(dists), 1)\n"
     ]
    },
    {
     "name": "stdout",
     "output_type": "stream",
     "text": [
      "1115\n"
     ]
    },
    {
     "name": "stderr",
     "output_type": "stream",
     "text": [
      "C:\\Users\\juju-\\Desktop\\projetos\\mng\\notebooks\\..\\scripts\\MNGFeaturesFractal.py:48: RankWarning: Polyfit may be poorly conditioned\n",
      "  coeffs = np.polyfit(np.log(C), np.log(dists), 1)\n"
     ]
    },
    {
     "name": "stdout",
     "output_type": "stream",
     "text": [
      "1116\n"
     ]
    },
    {
     "name": "stderr",
     "output_type": "stream",
     "text": [
      "C:\\Users\\juju-\\Desktop\\projetos\\mng\\notebooks\\..\\scripts\\MNGFeaturesFractal.py:48: RankWarning: Polyfit may be poorly conditioned\n",
      "  coeffs = np.polyfit(np.log(C), np.log(dists), 1)\n"
     ]
    },
    {
     "name": "stdout",
     "output_type": "stream",
     "text": [
      "1117\n"
     ]
    },
    {
     "name": "stderr",
     "output_type": "stream",
     "text": [
      "C:\\Users\\juju-\\Desktop\\projetos\\mng\\notebooks\\..\\scripts\\MNGFeaturesFractal.py:48: RankWarning: Polyfit may be poorly conditioned\n",
      "  coeffs = np.polyfit(np.log(C), np.log(dists), 1)\n"
     ]
    },
    {
     "name": "stdout",
     "output_type": "stream",
     "text": [
      "1118\n"
     ]
    },
    {
     "name": "stderr",
     "output_type": "stream",
     "text": [
      "C:\\Users\\juju-\\Desktop\\projetos\\mng\\notebooks\\..\\scripts\\MNGFeaturesFractal.py:48: RankWarning: Polyfit may be poorly conditioned\n",
      "  coeffs = np.polyfit(np.log(C), np.log(dists), 1)\n"
     ]
    },
    {
     "name": "stdout",
     "output_type": "stream",
     "text": [
      "1119\n"
     ]
    },
    {
     "name": "stderr",
     "output_type": "stream",
     "text": [
      "C:\\Users\\juju-\\Desktop\\projetos\\mng\\notebooks\\..\\scripts\\MNGFeaturesFractal.py:48: RankWarning: Polyfit may be poorly conditioned\n",
      "  coeffs = np.polyfit(np.log(C), np.log(dists), 1)\n"
     ]
    },
    {
     "name": "stdout",
     "output_type": "stream",
     "text": [
      "1120\n"
     ]
    },
    {
     "name": "stderr",
     "output_type": "stream",
     "text": [
      "C:\\Users\\juju-\\Desktop\\projetos\\mng\\notebooks\\..\\scripts\\MNGFeaturesFractal.py:48: RankWarning: Polyfit may be poorly conditioned\n",
      "  coeffs = np.polyfit(np.log(C), np.log(dists), 1)\n"
     ]
    },
    {
     "name": "stdout",
     "output_type": "stream",
     "text": [
      "1121\n"
     ]
    },
    {
     "name": "stderr",
     "output_type": "stream",
     "text": [
      "C:\\Users\\juju-\\Desktop\\projetos\\mng\\notebooks\\..\\scripts\\MNGFeaturesFractal.py:48: RankWarning: Polyfit may be poorly conditioned\n",
      "  coeffs = np.polyfit(np.log(C), np.log(dists), 1)\n"
     ]
    },
    {
     "name": "stdout",
     "output_type": "stream",
     "text": [
      "1122\n"
     ]
    },
    {
     "name": "stderr",
     "output_type": "stream",
     "text": [
      "C:\\Users\\juju-\\Desktop\\projetos\\mng\\notebooks\\..\\scripts\\MNGFeaturesFractal.py:48: RankWarning: Polyfit may be poorly conditioned\n",
      "  coeffs = np.polyfit(np.log(C), np.log(dists), 1)\n"
     ]
    },
    {
     "name": "stdout",
     "output_type": "stream",
     "text": [
      "1123\n"
     ]
    },
    {
     "name": "stderr",
     "output_type": "stream",
     "text": [
      "C:\\Users\\juju-\\Desktop\\projetos\\mng\\notebooks\\..\\scripts\\MNGFeaturesFractal.py:48: RankWarning: Polyfit may be poorly conditioned\n",
      "  coeffs = np.polyfit(np.log(C), np.log(dists), 1)\n"
     ]
    },
    {
     "name": "stdout",
     "output_type": "stream",
     "text": [
      "1124\n"
     ]
    },
    {
     "name": "stderr",
     "output_type": "stream",
     "text": [
      "C:\\Users\\juju-\\Desktop\\projetos\\mng\\notebooks\\..\\scripts\\MNGFeaturesFractal.py:48: RankWarning: Polyfit may be poorly conditioned\n",
      "  coeffs = np.polyfit(np.log(C), np.log(dists), 1)\n"
     ]
    },
    {
     "name": "stdout",
     "output_type": "stream",
     "text": [
      "1125\n"
     ]
    },
    {
     "name": "stderr",
     "output_type": "stream",
     "text": [
      "C:\\Users\\juju-\\Desktop\\projetos\\mng\\notebooks\\..\\scripts\\MNGFeaturesFractal.py:48: RankWarning: Polyfit may be poorly conditioned\n",
      "  coeffs = np.polyfit(np.log(C), np.log(dists), 1)\n"
     ]
    },
    {
     "name": "stdout",
     "output_type": "stream",
     "text": [
      "1126\n"
     ]
    },
    {
     "name": "stderr",
     "output_type": "stream",
     "text": [
      "C:\\Users\\juju-\\Desktop\\projetos\\mng\\notebooks\\..\\scripts\\MNGFeaturesFractal.py:48: RankWarning: Polyfit may be poorly conditioned\n",
      "  coeffs = np.polyfit(np.log(C), np.log(dists), 1)\n"
     ]
    },
    {
     "name": "stdout",
     "output_type": "stream",
     "text": [
      "1127\n"
     ]
    },
    {
     "name": "stderr",
     "output_type": "stream",
     "text": [
      "C:\\Users\\juju-\\Desktop\\projetos\\mng\\notebooks\\..\\scripts\\MNGFeaturesFractal.py:48: RankWarning: Polyfit may be poorly conditioned\n",
      "  coeffs = np.polyfit(np.log(C), np.log(dists), 1)\n"
     ]
    },
    {
     "name": "stdout",
     "output_type": "stream",
     "text": [
      "1128\n"
     ]
    },
    {
     "name": "stderr",
     "output_type": "stream",
     "text": [
      "C:\\Users\\juju-\\Desktop\\projetos\\mng\\notebooks\\..\\scripts\\MNGFeaturesFractal.py:48: RankWarning: Polyfit may be poorly conditioned\n",
      "  coeffs = np.polyfit(np.log(C), np.log(dists), 1)\n"
     ]
    },
    {
     "name": "stdout",
     "output_type": "stream",
     "text": [
      "1129\n"
     ]
    },
    {
     "name": "stderr",
     "output_type": "stream",
     "text": [
      "C:\\Users\\juju-\\Desktop\\projetos\\mng\\notebooks\\..\\scripts\\MNGFeaturesFractal.py:48: RankWarning: Polyfit may be poorly conditioned\n",
      "  coeffs = np.polyfit(np.log(C), np.log(dists), 1)\n"
     ]
    },
    {
     "name": "stdout",
     "output_type": "stream",
     "text": [
      "1130\n"
     ]
    },
    {
     "name": "stderr",
     "output_type": "stream",
     "text": [
      "C:\\Users\\juju-\\Desktop\\projetos\\mng\\notebooks\\..\\scripts\\MNGFeaturesFractal.py:48: RankWarning: Polyfit may be poorly conditioned\n",
      "  coeffs = np.polyfit(np.log(C), np.log(dists), 1)\n"
     ]
    },
    {
     "name": "stdout",
     "output_type": "stream",
     "text": [
      "1131\n"
     ]
    },
    {
     "name": "stderr",
     "output_type": "stream",
     "text": [
      "C:\\Users\\juju-\\Desktop\\projetos\\mng\\notebooks\\..\\scripts\\MNGFeaturesFractal.py:48: RankWarning: Polyfit may be poorly conditioned\n",
      "  coeffs = np.polyfit(np.log(C), np.log(dists), 1)\n"
     ]
    },
    {
     "name": "stdout",
     "output_type": "stream",
     "text": [
      "1132\n"
     ]
    },
    {
     "name": "stderr",
     "output_type": "stream",
     "text": [
      "C:\\Users\\juju-\\Desktop\\projetos\\mng\\notebooks\\..\\scripts\\MNGFeaturesFractal.py:48: RankWarning: Polyfit may be poorly conditioned\n",
      "  coeffs = np.polyfit(np.log(C), np.log(dists), 1)\n"
     ]
    },
    {
     "name": "stdout",
     "output_type": "stream",
     "text": [
      "1133\n"
     ]
    },
    {
     "name": "stderr",
     "output_type": "stream",
     "text": [
      "C:\\Users\\juju-\\Desktop\\projetos\\mng\\notebooks\\..\\scripts\\MNGFeaturesFractal.py:48: RankWarning: Polyfit may be poorly conditioned\n",
      "  coeffs = np.polyfit(np.log(C), np.log(dists), 1)\n"
     ]
    },
    {
     "name": "stdout",
     "output_type": "stream",
     "text": [
      "1134\n"
     ]
    },
    {
     "name": "stderr",
     "output_type": "stream",
     "text": [
      "C:\\Users\\juju-\\Desktop\\projetos\\mng\\notebooks\\..\\scripts\\MNGFeaturesFractal.py:48: RankWarning: Polyfit may be poorly conditioned\n",
      "  coeffs = np.polyfit(np.log(C), np.log(dists), 1)\n"
     ]
    },
    {
     "name": "stdout",
     "output_type": "stream",
     "text": [
      "1135\n"
     ]
    },
    {
     "name": "stderr",
     "output_type": "stream",
     "text": [
      "C:\\Users\\juju-\\Desktop\\projetos\\mng\\notebooks\\..\\scripts\\MNGFeaturesFractal.py:48: RankWarning: Polyfit may be poorly conditioned\n",
      "  coeffs = np.polyfit(np.log(C), np.log(dists), 1)\n"
     ]
    },
    {
     "name": "stdout",
     "output_type": "stream",
     "text": [
      "1136\n"
     ]
    },
    {
     "name": "stderr",
     "output_type": "stream",
     "text": [
      "C:\\Users\\juju-\\Desktop\\projetos\\mng\\notebooks\\..\\scripts\\MNGFeaturesFractal.py:48: RankWarning: Polyfit may be poorly conditioned\n",
      "  coeffs = np.polyfit(np.log(C), np.log(dists), 1)\n"
     ]
    },
    {
     "name": "stdout",
     "output_type": "stream",
     "text": [
      "1137\n"
     ]
    },
    {
     "name": "stderr",
     "output_type": "stream",
     "text": [
      "C:\\Users\\juju-\\Desktop\\projetos\\mng\\notebooks\\..\\scripts\\MNGFeaturesFractal.py:48: RankWarning: Polyfit may be poorly conditioned\n",
      "  coeffs = np.polyfit(np.log(C), np.log(dists), 1)\n"
     ]
    },
    {
     "name": "stdout",
     "output_type": "stream",
     "text": [
      "1138\n"
     ]
    },
    {
     "name": "stderr",
     "output_type": "stream",
     "text": [
      "C:\\Users\\juju-\\Desktop\\projetos\\mng\\notebooks\\..\\scripts\\MNGFeaturesFractal.py:48: RankWarning: Polyfit may be poorly conditioned\n",
      "  coeffs = np.polyfit(np.log(C), np.log(dists), 1)\n"
     ]
    },
    {
     "name": "stdout",
     "output_type": "stream",
     "text": [
      "1139\n"
     ]
    },
    {
     "name": "stderr",
     "output_type": "stream",
     "text": [
      "C:\\Users\\juju-\\Desktop\\projetos\\mng\\notebooks\\..\\scripts\\MNGFeaturesFractal.py:48: RankWarning: Polyfit may be poorly conditioned\n",
      "  coeffs = np.polyfit(np.log(C), np.log(dists), 1)\n"
     ]
    },
    {
     "name": "stdout",
     "output_type": "stream",
     "text": [
      "1140\n"
     ]
    },
    {
     "name": "stderr",
     "output_type": "stream",
     "text": [
      "C:\\Users\\juju-\\Desktop\\projetos\\mng\\notebooks\\..\\scripts\\MNGFeaturesFractal.py:48: RankWarning: Polyfit may be poorly conditioned\n",
      "  coeffs = np.polyfit(np.log(C), np.log(dists), 1)\n"
     ]
    },
    {
     "name": "stdout",
     "output_type": "stream",
     "text": [
      "1141\n"
     ]
    },
    {
     "name": "stderr",
     "output_type": "stream",
     "text": [
      "C:\\Users\\juju-\\Desktop\\projetos\\mng\\notebooks\\..\\scripts\\MNGFeaturesFractal.py:48: RankWarning: Polyfit may be poorly conditioned\n",
      "  coeffs = np.polyfit(np.log(C), np.log(dists), 1)\n"
     ]
    },
    {
     "name": "stdout",
     "output_type": "stream",
     "text": [
      "1142\n"
     ]
    },
    {
     "name": "stderr",
     "output_type": "stream",
     "text": [
      "C:\\Users\\juju-\\Desktop\\projetos\\mng\\notebooks\\..\\scripts\\MNGFeaturesFractal.py:48: RankWarning: Polyfit may be poorly conditioned\n",
      "  coeffs = np.polyfit(np.log(C), np.log(dists), 1)\n"
     ]
    },
    {
     "name": "stdout",
     "output_type": "stream",
     "text": [
      "1143\n"
     ]
    },
    {
     "name": "stderr",
     "output_type": "stream",
     "text": [
      "C:\\Users\\juju-\\Desktop\\projetos\\mng\\notebooks\\..\\scripts\\MNGFeaturesFractal.py:48: RankWarning: Polyfit may be poorly conditioned\n",
      "  coeffs = np.polyfit(np.log(C), np.log(dists), 1)\n"
     ]
    },
    {
     "name": "stdout",
     "output_type": "stream",
     "text": [
      "1144\n"
     ]
    },
    {
     "name": "stderr",
     "output_type": "stream",
     "text": [
      "C:\\Users\\juju-\\Desktop\\projetos\\mng\\notebooks\\..\\scripts\\MNGFeaturesFractal.py:48: RankWarning: Polyfit may be poorly conditioned\n",
      "  coeffs = np.polyfit(np.log(C), np.log(dists), 1)\n"
     ]
    },
    {
     "name": "stdout",
     "output_type": "stream",
     "text": [
      "1145\n"
     ]
    },
    {
     "name": "stderr",
     "output_type": "stream",
     "text": [
      "C:\\Users\\juju-\\Desktop\\projetos\\mng\\notebooks\\..\\scripts\\MNGFeaturesFractal.py:48: RankWarning: Polyfit may be poorly conditioned\n",
      "  coeffs = np.polyfit(np.log(C), np.log(dists), 1)\n"
     ]
    },
    {
     "name": "stdout",
     "output_type": "stream",
     "text": [
      "1146\n"
     ]
    },
    {
     "name": "stderr",
     "output_type": "stream",
     "text": [
      "C:\\Users\\juju-\\Desktop\\projetos\\mng\\notebooks\\..\\scripts\\MNGFeaturesFractal.py:48: RankWarning: Polyfit may be poorly conditioned\n",
      "  coeffs = np.polyfit(np.log(C), np.log(dists), 1)\n"
     ]
    },
    {
     "name": "stdout",
     "output_type": "stream",
     "text": [
      "1147\n"
     ]
    },
    {
     "name": "stderr",
     "output_type": "stream",
     "text": [
      "C:\\Users\\juju-\\Desktop\\projetos\\mng\\notebooks\\..\\scripts\\MNGFeaturesFractal.py:48: RankWarning: Polyfit may be poorly conditioned\n",
      "  coeffs = np.polyfit(np.log(C), np.log(dists), 1)\n"
     ]
    },
    {
     "name": "stdout",
     "output_type": "stream",
     "text": [
      "1148\n"
     ]
    },
    {
     "name": "stderr",
     "output_type": "stream",
     "text": [
      "C:\\Users\\juju-\\Desktop\\projetos\\mng\\notebooks\\..\\scripts\\MNGFeaturesFractal.py:48: RankWarning: Polyfit may be poorly conditioned\n",
      "  coeffs = np.polyfit(np.log(C), np.log(dists), 1)\n"
     ]
    },
    {
     "name": "stdout",
     "output_type": "stream",
     "text": [
      "1149\n"
     ]
    },
    {
     "name": "stderr",
     "output_type": "stream",
     "text": [
      "C:\\Users\\juju-\\Desktop\\projetos\\mng\\notebooks\\..\\scripts\\MNGFeaturesFractal.py:48: RankWarning: Polyfit may be poorly conditioned\n",
      "  coeffs = np.polyfit(np.log(C), np.log(dists), 1)\n"
     ]
    },
    {
     "name": "stdout",
     "output_type": "stream",
     "text": [
      "1150\n"
     ]
    },
    {
     "name": "stderr",
     "output_type": "stream",
     "text": [
      "C:\\Users\\juju-\\Desktop\\projetos\\mng\\notebooks\\..\\scripts\\MNGFeaturesFractal.py:48: RankWarning: Polyfit may be poorly conditioned\n",
      "  coeffs = np.polyfit(np.log(C), np.log(dists), 1)\n"
     ]
    },
    {
     "name": "stdout",
     "output_type": "stream",
     "text": [
      "1151\n"
     ]
    },
    {
     "name": "stderr",
     "output_type": "stream",
     "text": [
      "C:\\Users\\juju-\\Desktop\\projetos\\mng\\notebooks\\..\\scripts\\MNGFeaturesFractal.py:48: RankWarning: Polyfit may be poorly conditioned\n",
      "  coeffs = np.polyfit(np.log(C), np.log(dists), 1)\n"
     ]
    },
    {
     "name": "stdout",
     "output_type": "stream",
     "text": [
      "1152\n"
     ]
    },
    {
     "name": "stderr",
     "output_type": "stream",
     "text": [
      "C:\\Users\\juju-\\Desktop\\projetos\\mng\\notebooks\\..\\scripts\\MNGFeaturesFractal.py:48: RankWarning: Polyfit may be poorly conditioned\n",
      "  coeffs = np.polyfit(np.log(C), np.log(dists), 1)\n"
     ]
    },
    {
     "name": "stdout",
     "output_type": "stream",
     "text": [
      "1153\n"
     ]
    },
    {
     "name": "stderr",
     "output_type": "stream",
     "text": [
      "C:\\Users\\juju-\\Desktop\\projetos\\mng\\notebooks\\..\\scripts\\MNGFeaturesFractal.py:48: RankWarning: Polyfit may be poorly conditioned\n",
      "  coeffs = np.polyfit(np.log(C), np.log(dists), 1)\n"
     ]
    },
    {
     "name": "stdout",
     "output_type": "stream",
     "text": [
      "1154\n"
     ]
    },
    {
     "name": "stderr",
     "output_type": "stream",
     "text": [
      "C:\\Users\\juju-\\Desktop\\projetos\\mng\\notebooks\\..\\scripts\\MNGFeaturesFractal.py:48: RankWarning: Polyfit may be poorly conditioned\n",
      "  coeffs = np.polyfit(np.log(C), np.log(dists), 1)\n"
     ]
    },
    {
     "name": "stdout",
     "output_type": "stream",
     "text": [
      "1155\n"
     ]
    },
    {
     "name": "stderr",
     "output_type": "stream",
     "text": [
      "C:\\Users\\juju-\\Desktop\\projetos\\mng\\notebooks\\..\\scripts\\MNGFeaturesFractal.py:48: RankWarning: Polyfit may be poorly conditioned\n",
      "  coeffs = np.polyfit(np.log(C), np.log(dists), 1)\n"
     ]
    },
    {
     "name": "stdout",
     "output_type": "stream",
     "text": [
      "1156\n"
     ]
    },
    {
     "name": "stderr",
     "output_type": "stream",
     "text": [
      "C:\\Users\\juju-\\Desktop\\projetos\\mng\\notebooks\\..\\scripts\\MNGFeaturesFractal.py:48: RankWarning: Polyfit may be poorly conditioned\n",
      "  coeffs = np.polyfit(np.log(C), np.log(dists), 1)\n"
     ]
    },
    {
     "name": "stdout",
     "output_type": "stream",
     "text": [
      "1157\n"
     ]
    },
    {
     "name": "stderr",
     "output_type": "stream",
     "text": [
      "C:\\Users\\juju-\\Desktop\\projetos\\mng\\notebooks\\..\\scripts\\MNGFeaturesFractal.py:48: RankWarning: Polyfit may be poorly conditioned\n",
      "  coeffs = np.polyfit(np.log(C), np.log(dists), 1)\n"
     ]
    },
    {
     "name": "stdout",
     "output_type": "stream",
     "text": [
      "1158\n"
     ]
    },
    {
     "name": "stderr",
     "output_type": "stream",
     "text": [
      "C:\\Users\\juju-\\Desktop\\projetos\\mng\\notebooks\\..\\scripts\\MNGFeaturesFractal.py:48: RankWarning: Polyfit may be poorly conditioned\n",
      "  coeffs = np.polyfit(np.log(C), np.log(dists), 1)\n"
     ]
    },
    {
     "name": "stdout",
     "output_type": "stream",
     "text": [
      "1159\n"
     ]
    },
    {
     "name": "stderr",
     "output_type": "stream",
     "text": [
      "C:\\Users\\juju-\\Desktop\\projetos\\mng\\notebooks\\..\\scripts\\MNGFeaturesFractal.py:48: RankWarning: Polyfit may be poorly conditioned\n",
      "  coeffs = np.polyfit(np.log(C), np.log(dists), 1)\n"
     ]
    },
    {
     "name": "stdout",
     "output_type": "stream",
     "text": [
      "1160\n"
     ]
    },
    {
     "name": "stderr",
     "output_type": "stream",
     "text": [
      "C:\\Users\\juju-\\Desktop\\projetos\\mng\\notebooks\\..\\scripts\\MNGFeaturesFractal.py:48: RankWarning: Polyfit may be poorly conditioned\n",
      "  coeffs = np.polyfit(np.log(C), np.log(dists), 1)\n"
     ]
    },
    {
     "name": "stdout",
     "output_type": "stream",
     "text": [
      "1161\n"
     ]
    },
    {
     "name": "stderr",
     "output_type": "stream",
     "text": [
      "C:\\Users\\juju-\\Desktop\\projetos\\mng\\notebooks\\..\\scripts\\MNGFeaturesFractal.py:48: RankWarning: Polyfit may be poorly conditioned\n",
      "  coeffs = np.polyfit(np.log(C), np.log(dists), 1)\n"
     ]
    },
    {
     "name": "stdout",
     "output_type": "stream",
     "text": [
      "1162\n"
     ]
    },
    {
     "name": "stderr",
     "output_type": "stream",
     "text": [
      "C:\\Users\\juju-\\Desktop\\projetos\\mng\\notebooks\\..\\scripts\\MNGFeaturesFractal.py:48: RankWarning: Polyfit may be poorly conditioned\n",
      "  coeffs = np.polyfit(np.log(C), np.log(dists), 1)\n"
     ]
    },
    {
     "name": "stdout",
     "output_type": "stream",
     "text": [
      "1163\n"
     ]
    },
    {
     "name": "stderr",
     "output_type": "stream",
     "text": [
      "C:\\Users\\juju-\\Desktop\\projetos\\mng\\notebooks\\..\\scripts\\MNGFeaturesFractal.py:48: RankWarning: Polyfit may be poorly conditioned\n",
      "  coeffs = np.polyfit(np.log(C), np.log(dists), 1)\n"
     ]
    },
    {
     "name": "stdout",
     "output_type": "stream",
     "text": [
      "1164\n"
     ]
    },
    {
     "name": "stderr",
     "output_type": "stream",
     "text": [
      "C:\\Users\\juju-\\Desktop\\projetos\\mng\\notebooks\\..\\scripts\\MNGFeaturesFractal.py:48: RankWarning: Polyfit may be poorly conditioned\n",
      "  coeffs = np.polyfit(np.log(C), np.log(dists), 1)\n"
     ]
    },
    {
     "name": "stdout",
     "output_type": "stream",
     "text": [
      "1165\n"
     ]
    },
    {
     "name": "stderr",
     "output_type": "stream",
     "text": [
      "C:\\Users\\juju-\\Desktop\\projetos\\mng\\notebooks\\..\\scripts\\MNGFeaturesFractal.py:48: RankWarning: Polyfit may be poorly conditioned\n",
      "  coeffs = np.polyfit(np.log(C), np.log(dists), 1)\n"
     ]
    },
    {
     "name": "stdout",
     "output_type": "stream",
     "text": [
      "1166\n"
     ]
    },
    {
     "name": "stderr",
     "output_type": "stream",
     "text": [
      "C:\\Users\\juju-\\Desktop\\projetos\\mng\\notebooks\\..\\scripts\\MNGFeaturesFractal.py:48: RankWarning: Polyfit may be poorly conditioned\n",
      "  coeffs = np.polyfit(np.log(C), np.log(dists), 1)\n"
     ]
    },
    {
     "name": "stdout",
     "output_type": "stream",
     "text": [
      "1167\n"
     ]
    },
    {
     "name": "stderr",
     "output_type": "stream",
     "text": [
      "C:\\Users\\juju-\\Desktop\\projetos\\mng\\notebooks\\..\\scripts\\MNGFeaturesFractal.py:48: RankWarning: Polyfit may be poorly conditioned\n",
      "  coeffs = np.polyfit(np.log(C), np.log(dists), 1)\n"
     ]
    },
    {
     "name": "stdout",
     "output_type": "stream",
     "text": [
      "1168\n"
     ]
    },
    {
     "name": "stderr",
     "output_type": "stream",
     "text": [
      "C:\\Users\\juju-\\Desktop\\projetos\\mng\\notebooks\\..\\scripts\\MNGFeaturesFractal.py:48: RankWarning: Polyfit may be poorly conditioned\n",
      "  coeffs = np.polyfit(np.log(C), np.log(dists), 1)\n"
     ]
    },
    {
     "name": "stdout",
     "output_type": "stream",
     "text": [
      "1169\n"
     ]
    },
    {
     "name": "stderr",
     "output_type": "stream",
     "text": [
      "C:\\Users\\juju-\\Desktop\\projetos\\mng\\notebooks\\..\\scripts\\MNGFeaturesFractal.py:48: RankWarning: Polyfit may be poorly conditioned\n",
      "  coeffs = np.polyfit(np.log(C), np.log(dists), 1)\n"
     ]
    },
    {
     "name": "stdout",
     "output_type": "stream",
     "text": [
      "1170\n"
     ]
    },
    {
     "name": "stderr",
     "output_type": "stream",
     "text": [
      "C:\\Users\\juju-\\Desktop\\projetos\\mng\\notebooks\\..\\scripts\\MNGFeaturesFractal.py:48: RankWarning: Polyfit may be poorly conditioned\n",
      "  coeffs = np.polyfit(np.log(C), np.log(dists), 1)\n"
     ]
    },
    {
     "name": "stdout",
     "output_type": "stream",
     "text": [
      "1171\n"
     ]
    },
    {
     "name": "stderr",
     "output_type": "stream",
     "text": [
      "C:\\Users\\juju-\\Desktop\\projetos\\mng\\notebooks\\..\\scripts\\MNGFeaturesFractal.py:48: RankWarning: Polyfit may be poorly conditioned\n",
      "  coeffs = np.polyfit(np.log(C), np.log(dists), 1)\n"
     ]
    },
    {
     "name": "stdout",
     "output_type": "stream",
     "text": [
      "1172\n"
     ]
    },
    {
     "name": "stderr",
     "output_type": "stream",
     "text": [
      "C:\\Users\\juju-\\Desktop\\projetos\\mng\\notebooks\\..\\scripts\\MNGFeaturesFractal.py:48: RankWarning: Polyfit may be poorly conditioned\n",
      "  coeffs = np.polyfit(np.log(C), np.log(dists), 1)\n"
     ]
    },
    {
     "name": "stdout",
     "output_type": "stream",
     "text": [
      "1173\n"
     ]
    },
    {
     "name": "stderr",
     "output_type": "stream",
     "text": [
      "C:\\Users\\juju-\\Desktop\\projetos\\mng\\notebooks\\..\\scripts\\MNGFeaturesFractal.py:48: RankWarning: Polyfit may be poorly conditioned\n",
      "  coeffs = np.polyfit(np.log(C), np.log(dists), 1)\n"
     ]
    },
    {
     "name": "stdout",
     "output_type": "stream",
     "text": [
      "1174\n"
     ]
    },
    {
     "name": "stderr",
     "output_type": "stream",
     "text": [
      "C:\\Users\\juju-\\Desktop\\projetos\\mng\\notebooks\\..\\scripts\\MNGFeaturesFractal.py:48: RankWarning: Polyfit may be poorly conditioned\n",
      "  coeffs = np.polyfit(np.log(C), np.log(dists), 1)\n"
     ]
    },
    {
     "name": "stdout",
     "output_type": "stream",
     "text": [
      "1175\n"
     ]
    },
    {
     "name": "stderr",
     "output_type": "stream",
     "text": [
      "C:\\Users\\juju-\\Desktop\\projetos\\mng\\notebooks\\..\\scripts\\MNGFeaturesFractal.py:48: RankWarning: Polyfit may be poorly conditioned\n",
      "  coeffs = np.polyfit(np.log(C), np.log(dists), 1)\n"
     ]
    },
    {
     "name": "stdout",
     "output_type": "stream",
     "text": [
      "1176\n"
     ]
    },
    {
     "name": "stderr",
     "output_type": "stream",
     "text": [
      "C:\\Users\\juju-\\Desktop\\projetos\\mng\\notebooks\\..\\scripts\\MNGFeaturesFractal.py:48: RankWarning: Polyfit may be poorly conditioned\n",
      "  coeffs = np.polyfit(np.log(C), np.log(dists), 1)\n"
     ]
    },
    {
     "name": "stdout",
     "output_type": "stream",
     "text": [
      "1177\n"
     ]
    },
    {
     "name": "stderr",
     "output_type": "stream",
     "text": [
      "C:\\Users\\juju-\\Desktop\\projetos\\mng\\notebooks\\..\\scripts\\MNGFeaturesFractal.py:48: RankWarning: Polyfit may be poorly conditioned\n",
      "  coeffs = np.polyfit(np.log(C), np.log(dists), 1)\n"
     ]
    },
    {
     "name": "stdout",
     "output_type": "stream",
     "text": [
      "1178\n"
     ]
    },
    {
     "name": "stderr",
     "output_type": "stream",
     "text": [
      "C:\\Users\\juju-\\Desktop\\projetos\\mng\\notebooks\\..\\scripts\\MNGFeaturesFractal.py:48: RankWarning: Polyfit may be poorly conditioned\n",
      "  coeffs = np.polyfit(np.log(C), np.log(dists), 1)\n"
     ]
    },
    {
     "name": "stdout",
     "output_type": "stream",
     "text": [
      "1179\n"
     ]
    },
    {
     "name": "stderr",
     "output_type": "stream",
     "text": [
      "C:\\Users\\juju-\\Desktop\\projetos\\mng\\notebooks\\..\\scripts\\MNGFeaturesFractal.py:48: RankWarning: Polyfit may be poorly conditioned\n",
      "  coeffs = np.polyfit(np.log(C), np.log(dists), 1)\n"
     ]
    },
    {
     "name": "stdout",
     "output_type": "stream",
     "text": [
      "1180\n"
     ]
    },
    {
     "name": "stderr",
     "output_type": "stream",
     "text": [
      "C:\\Users\\juju-\\Desktop\\projetos\\mng\\notebooks\\..\\scripts\\MNGFeaturesFractal.py:48: RankWarning: Polyfit may be poorly conditioned\n",
      "  coeffs = np.polyfit(np.log(C), np.log(dists), 1)\n"
     ]
    },
    {
     "name": "stdout",
     "output_type": "stream",
     "text": [
      "1181\n"
     ]
    },
    {
     "name": "stderr",
     "output_type": "stream",
     "text": [
      "C:\\Users\\juju-\\Desktop\\projetos\\mng\\notebooks\\..\\scripts\\MNGFeaturesFractal.py:48: RankWarning: Polyfit may be poorly conditioned\n",
      "  coeffs = np.polyfit(np.log(C), np.log(dists), 1)\n"
     ]
    },
    {
     "name": "stdout",
     "output_type": "stream",
     "text": [
      "1182\n"
     ]
    },
    {
     "name": "stderr",
     "output_type": "stream",
     "text": [
      "C:\\Users\\juju-\\Desktop\\projetos\\mng\\notebooks\\..\\scripts\\MNGFeaturesFractal.py:48: RankWarning: Polyfit may be poorly conditioned\n",
      "  coeffs = np.polyfit(np.log(C), np.log(dists), 1)\n"
     ]
    },
    {
     "name": "stdout",
     "output_type": "stream",
     "text": [
      "1183\n"
     ]
    },
    {
     "name": "stderr",
     "output_type": "stream",
     "text": [
      "C:\\Users\\juju-\\Desktop\\projetos\\mng\\notebooks\\..\\scripts\\MNGFeaturesFractal.py:48: RankWarning: Polyfit may be poorly conditioned\n",
      "  coeffs = np.polyfit(np.log(C), np.log(dists), 1)\n"
     ]
    },
    {
     "name": "stdout",
     "output_type": "stream",
     "text": [
      "1184\n"
     ]
    },
    {
     "name": "stderr",
     "output_type": "stream",
     "text": [
      "C:\\Users\\juju-\\Desktop\\projetos\\mng\\notebooks\\..\\scripts\\MNGFeaturesFractal.py:48: RankWarning: Polyfit may be poorly conditioned\n",
      "  coeffs = np.polyfit(np.log(C), np.log(dists), 1)\n"
     ]
    },
    {
     "name": "stdout",
     "output_type": "stream",
     "text": [
      "1185\n"
     ]
    },
    {
     "name": "stderr",
     "output_type": "stream",
     "text": [
      "C:\\Users\\juju-\\Desktop\\projetos\\mng\\notebooks\\..\\scripts\\MNGFeaturesFractal.py:48: RankWarning: Polyfit may be poorly conditioned\n",
      "  coeffs = np.polyfit(np.log(C), np.log(dists), 1)\n"
     ]
    },
    {
     "name": "stdout",
     "output_type": "stream",
     "text": [
      "1186\n"
     ]
    },
    {
     "name": "stderr",
     "output_type": "stream",
     "text": [
      "C:\\Users\\juju-\\Desktop\\projetos\\mng\\notebooks\\..\\scripts\\MNGFeaturesFractal.py:48: RankWarning: Polyfit may be poorly conditioned\n",
      "  coeffs = np.polyfit(np.log(C), np.log(dists), 1)\n"
     ]
    },
    {
     "name": "stdout",
     "output_type": "stream",
     "text": [
      "1187\n"
     ]
    },
    {
     "name": "stderr",
     "output_type": "stream",
     "text": [
      "C:\\Users\\juju-\\Desktop\\projetos\\mng\\notebooks\\..\\scripts\\MNGFeaturesFractal.py:48: RankWarning: Polyfit may be poorly conditioned\n",
      "  coeffs = np.polyfit(np.log(C), np.log(dists), 1)\n"
     ]
    },
    {
     "name": "stdout",
     "output_type": "stream",
     "text": [
      "1188\n"
     ]
    },
    {
     "name": "stderr",
     "output_type": "stream",
     "text": [
      "C:\\Users\\juju-\\Desktop\\projetos\\mng\\notebooks\\..\\scripts\\MNGFeaturesFractal.py:48: RankWarning: Polyfit may be poorly conditioned\n",
      "  coeffs = np.polyfit(np.log(C), np.log(dists), 1)\n"
     ]
    },
    {
     "name": "stdout",
     "output_type": "stream",
     "text": [
      "1189\n"
     ]
    },
    {
     "name": "stderr",
     "output_type": "stream",
     "text": [
      "C:\\Users\\juju-\\Desktop\\projetos\\mng\\notebooks\\..\\scripts\\MNGFeaturesFractal.py:48: RankWarning: Polyfit may be poorly conditioned\n",
      "  coeffs = np.polyfit(np.log(C), np.log(dists), 1)\n"
     ]
    },
    {
     "name": "stdout",
     "output_type": "stream",
     "text": [
      "1190\n"
     ]
    },
    {
     "name": "stderr",
     "output_type": "stream",
     "text": [
      "C:\\Users\\juju-\\Desktop\\projetos\\mng\\notebooks\\..\\scripts\\MNGFeaturesFractal.py:48: RankWarning: Polyfit may be poorly conditioned\n",
      "  coeffs = np.polyfit(np.log(C), np.log(dists), 1)\n"
     ]
    },
    {
     "name": "stdout",
     "output_type": "stream",
     "text": [
      "1191\n"
     ]
    },
    {
     "name": "stderr",
     "output_type": "stream",
     "text": [
      "C:\\Users\\juju-\\Desktop\\projetos\\mng\\notebooks\\..\\scripts\\MNGFeaturesFractal.py:48: RankWarning: Polyfit may be poorly conditioned\n",
      "  coeffs = np.polyfit(np.log(C), np.log(dists), 1)\n"
     ]
    },
    {
     "name": "stdout",
     "output_type": "stream",
     "text": [
      "1192\n"
     ]
    },
    {
     "name": "stderr",
     "output_type": "stream",
     "text": [
      "C:\\Users\\juju-\\Desktop\\projetos\\mng\\notebooks\\..\\scripts\\MNGFeaturesFractal.py:48: RankWarning: Polyfit may be poorly conditioned\n",
      "  coeffs = np.polyfit(np.log(C), np.log(dists), 1)\n"
     ]
    },
    {
     "name": "stdout",
     "output_type": "stream",
     "text": [
      "1193\n"
     ]
    },
    {
     "name": "stderr",
     "output_type": "stream",
     "text": [
      "C:\\Users\\juju-\\Desktop\\projetos\\mng\\notebooks\\..\\scripts\\MNGFeaturesFractal.py:48: RankWarning: Polyfit may be poorly conditioned\n",
      "  coeffs = np.polyfit(np.log(C), np.log(dists), 1)\n"
     ]
    },
    {
     "name": "stdout",
     "output_type": "stream",
     "text": [
      "1194\n"
     ]
    },
    {
     "name": "stderr",
     "output_type": "stream",
     "text": [
      "C:\\Users\\juju-\\Desktop\\projetos\\mng\\notebooks\\..\\scripts\\MNGFeaturesFractal.py:48: RankWarning: Polyfit may be poorly conditioned\n",
      "  coeffs = np.polyfit(np.log(C), np.log(dists), 1)\n"
     ]
    },
    {
     "name": "stdout",
     "output_type": "stream",
     "text": [
      "1195\n"
     ]
    },
    {
     "name": "stderr",
     "output_type": "stream",
     "text": [
      "C:\\Users\\juju-\\Desktop\\projetos\\mng\\notebooks\\..\\scripts\\MNGFeaturesFractal.py:48: RankWarning: Polyfit may be poorly conditioned\n",
      "  coeffs = np.polyfit(np.log(C), np.log(dists), 1)\n"
     ]
    },
    {
     "name": "stdout",
     "output_type": "stream",
     "text": [
      "1196\n"
     ]
    },
    {
     "name": "stderr",
     "output_type": "stream",
     "text": [
      "C:\\Users\\juju-\\Desktop\\projetos\\mng\\notebooks\\..\\scripts\\MNGFeaturesFractal.py:48: RankWarning: Polyfit may be poorly conditioned\n",
      "  coeffs = np.polyfit(np.log(C), np.log(dists), 1)\n"
     ]
    },
    {
     "name": "stdout",
     "output_type": "stream",
     "text": [
      "1197\n"
     ]
    },
    {
     "name": "stderr",
     "output_type": "stream",
     "text": [
      "C:\\Users\\juju-\\Desktop\\projetos\\mng\\notebooks\\..\\scripts\\MNGFeaturesFractal.py:48: RankWarning: Polyfit may be poorly conditioned\n",
      "  coeffs = np.polyfit(np.log(C), np.log(dists), 1)\n"
     ]
    },
    {
     "name": "stdout",
     "output_type": "stream",
     "text": [
      "1198\n"
     ]
    },
    {
     "name": "stderr",
     "output_type": "stream",
     "text": [
      "C:\\Users\\juju-\\Desktop\\projetos\\mng\\notebooks\\..\\scripts\\MNGFeaturesFractal.py:48: RankWarning: Polyfit may be poorly conditioned\n",
      "  coeffs = np.polyfit(np.log(C), np.log(dists), 1)\n"
     ]
    },
    {
     "name": "stdout",
     "output_type": "stream",
     "text": [
      "1199\n"
     ]
    },
    {
     "name": "stderr",
     "output_type": "stream",
     "text": [
      "C:\\Users\\juju-\\Desktop\\projetos\\mng\\notebooks\\..\\scripts\\MNGFeaturesFractal.py:48: RankWarning: Polyfit may be poorly conditioned\n",
      "  coeffs = np.polyfit(np.log(C), np.log(dists), 1)\n"
     ]
    },
    {
     "name": "stdout",
     "output_type": "stream",
     "text": [
      "1200\n"
     ]
    },
    {
     "name": "stderr",
     "output_type": "stream",
     "text": [
      "C:\\Users\\juju-\\Desktop\\projetos\\mng\\notebooks\\..\\scripts\\MNGFeaturesFractal.py:48: RankWarning: Polyfit may be poorly conditioned\n",
      "  coeffs = np.polyfit(np.log(C), np.log(dists), 1)\n"
     ]
    },
    {
     "name": "stdout",
     "output_type": "stream",
     "text": [
      "1201\n"
     ]
    },
    {
     "name": "stderr",
     "output_type": "stream",
     "text": [
      "C:\\Users\\juju-\\Desktop\\projetos\\mng\\notebooks\\..\\scripts\\MNGFeaturesFractal.py:48: RankWarning: Polyfit may be poorly conditioned\n",
      "  coeffs = np.polyfit(np.log(C), np.log(dists), 1)\n"
     ]
    },
    {
     "name": "stdout",
     "output_type": "stream",
     "text": [
      "1202\n"
     ]
    },
    {
     "name": "stderr",
     "output_type": "stream",
     "text": [
      "C:\\Users\\juju-\\Desktop\\projetos\\mng\\notebooks\\..\\scripts\\MNGFeaturesFractal.py:48: RankWarning: Polyfit may be poorly conditioned\n",
      "  coeffs = np.polyfit(np.log(C), np.log(dists), 1)\n"
     ]
    },
    {
     "name": "stdout",
     "output_type": "stream",
     "text": [
      "1203\n"
     ]
    },
    {
     "name": "stderr",
     "output_type": "stream",
     "text": [
      "C:\\Users\\juju-\\Desktop\\projetos\\mng\\notebooks\\..\\scripts\\MNGFeaturesFractal.py:48: RankWarning: Polyfit may be poorly conditioned\n",
      "  coeffs = np.polyfit(np.log(C), np.log(dists), 1)\n"
     ]
    },
    {
     "name": "stdout",
     "output_type": "stream",
     "text": [
      "1204\n"
     ]
    },
    {
     "name": "stderr",
     "output_type": "stream",
     "text": [
      "C:\\Users\\juju-\\Desktop\\projetos\\mng\\notebooks\\..\\scripts\\MNGFeaturesFractal.py:48: RankWarning: Polyfit may be poorly conditioned\n",
      "  coeffs = np.polyfit(np.log(C), np.log(dists), 1)\n"
     ]
    },
    {
     "name": "stdout",
     "output_type": "stream",
     "text": [
      "1205\n"
     ]
    },
    {
     "name": "stderr",
     "output_type": "stream",
     "text": [
      "C:\\Users\\juju-\\Desktop\\projetos\\mng\\notebooks\\..\\scripts\\MNGFeaturesFractal.py:48: RankWarning: Polyfit may be poorly conditioned\n",
      "  coeffs = np.polyfit(np.log(C), np.log(dists), 1)\n"
     ]
    },
    {
     "name": "stdout",
     "output_type": "stream",
     "text": [
      "1206\n"
     ]
    },
    {
     "name": "stderr",
     "output_type": "stream",
     "text": [
      "C:\\Users\\juju-\\Desktop\\projetos\\mng\\notebooks\\..\\scripts\\MNGFeaturesFractal.py:48: RankWarning: Polyfit may be poorly conditioned\n",
      "  coeffs = np.polyfit(np.log(C), np.log(dists), 1)\n"
     ]
    },
    {
     "name": "stdout",
     "output_type": "stream",
     "text": [
      "1207\n"
     ]
    },
    {
     "name": "stderr",
     "output_type": "stream",
     "text": [
      "C:\\Users\\juju-\\Desktop\\projetos\\mng\\notebooks\\..\\scripts\\MNGFeaturesFractal.py:48: RankWarning: Polyfit may be poorly conditioned\n",
      "  coeffs = np.polyfit(np.log(C), np.log(dists), 1)\n"
     ]
    },
    {
     "name": "stdout",
     "output_type": "stream",
     "text": [
      "1208\n"
     ]
    },
    {
     "name": "stderr",
     "output_type": "stream",
     "text": [
      "C:\\Users\\juju-\\Desktop\\projetos\\mng\\notebooks\\..\\scripts\\MNGFeaturesFractal.py:48: RankWarning: Polyfit may be poorly conditioned\n",
      "  coeffs = np.polyfit(np.log(C), np.log(dists), 1)\n"
     ]
    },
    {
     "name": "stdout",
     "output_type": "stream",
     "text": [
      "1209\n"
     ]
    },
    {
     "name": "stderr",
     "output_type": "stream",
     "text": [
      "C:\\Users\\juju-\\Desktop\\projetos\\mng\\notebooks\\..\\scripts\\MNGFeaturesFractal.py:48: RankWarning: Polyfit may be poorly conditioned\n",
      "  coeffs = np.polyfit(np.log(C), np.log(dists), 1)\n"
     ]
    },
    {
     "name": "stdout",
     "output_type": "stream",
     "text": [
      "1210\n"
     ]
    },
    {
     "name": "stderr",
     "output_type": "stream",
     "text": [
      "C:\\Users\\juju-\\Desktop\\projetos\\mng\\notebooks\\..\\scripts\\MNGFeaturesFractal.py:48: RankWarning: Polyfit may be poorly conditioned\n",
      "  coeffs = np.polyfit(np.log(C), np.log(dists), 1)\n"
     ]
    },
    {
     "name": "stdout",
     "output_type": "stream",
     "text": [
      "1211\n"
     ]
    },
    {
     "name": "stderr",
     "output_type": "stream",
     "text": [
      "C:\\Users\\juju-\\Desktop\\projetos\\mng\\notebooks\\..\\scripts\\MNGFeaturesFractal.py:48: RankWarning: Polyfit may be poorly conditioned\n",
      "  coeffs = np.polyfit(np.log(C), np.log(dists), 1)\n"
     ]
    },
    {
     "name": "stdout",
     "output_type": "stream",
     "text": [
      "1212\n"
     ]
    },
    {
     "name": "stderr",
     "output_type": "stream",
     "text": [
      "C:\\Users\\juju-\\Desktop\\projetos\\mng\\notebooks\\..\\scripts\\MNGFeaturesFractal.py:48: RankWarning: Polyfit may be poorly conditioned\n",
      "  coeffs = np.polyfit(np.log(C), np.log(dists), 1)\n"
     ]
    },
    {
     "name": "stdout",
     "output_type": "stream",
     "text": [
      "1213\n"
     ]
    },
    {
     "name": "stderr",
     "output_type": "stream",
     "text": [
      "C:\\Users\\juju-\\Desktop\\projetos\\mng\\notebooks\\..\\scripts\\MNGFeaturesFractal.py:48: RankWarning: Polyfit may be poorly conditioned\n",
      "  coeffs = np.polyfit(np.log(C), np.log(dists), 1)\n"
     ]
    },
    {
     "name": "stdout",
     "output_type": "stream",
     "text": [
      "1214\n"
     ]
    },
    {
     "name": "stderr",
     "output_type": "stream",
     "text": [
      "C:\\Users\\juju-\\Desktop\\projetos\\mng\\notebooks\\..\\scripts\\MNGFeaturesFractal.py:48: RankWarning: Polyfit may be poorly conditioned\n",
      "  coeffs = np.polyfit(np.log(C), np.log(dists), 1)\n"
     ]
    },
    {
     "name": "stdout",
     "output_type": "stream",
     "text": [
      "1215\n"
     ]
    },
    {
     "name": "stderr",
     "output_type": "stream",
     "text": [
      "C:\\Users\\juju-\\Desktop\\projetos\\mng\\notebooks\\..\\scripts\\MNGFeaturesFractal.py:48: RankWarning: Polyfit may be poorly conditioned\n",
      "  coeffs = np.polyfit(np.log(C), np.log(dists), 1)\n"
     ]
    },
    {
     "name": "stdout",
     "output_type": "stream",
     "text": [
      "1216\n"
     ]
    },
    {
     "name": "stderr",
     "output_type": "stream",
     "text": [
      "C:\\Users\\juju-\\Desktop\\projetos\\mng\\notebooks\\..\\scripts\\MNGFeaturesFractal.py:48: RankWarning: Polyfit may be poorly conditioned\n",
      "  coeffs = np.polyfit(np.log(C), np.log(dists), 1)\n"
     ]
    },
    {
     "name": "stdout",
     "output_type": "stream",
     "text": [
      "1217\n"
     ]
    },
    {
     "name": "stderr",
     "output_type": "stream",
     "text": [
      "C:\\Users\\juju-\\Desktop\\projetos\\mng\\notebooks\\..\\scripts\\MNGFeaturesFractal.py:48: RankWarning: Polyfit may be poorly conditioned\n",
      "  coeffs = np.polyfit(np.log(C), np.log(dists), 1)\n"
     ]
    },
    {
     "name": "stdout",
     "output_type": "stream",
     "text": [
      "1218\n"
     ]
    },
    {
     "name": "stderr",
     "output_type": "stream",
     "text": [
      "C:\\Users\\juju-\\Desktop\\projetos\\mng\\notebooks\\..\\scripts\\MNGFeaturesFractal.py:48: RankWarning: Polyfit may be poorly conditioned\n",
      "  coeffs = np.polyfit(np.log(C), np.log(dists), 1)\n"
     ]
    },
    {
     "name": "stdout",
     "output_type": "stream",
     "text": [
      "1219\n"
     ]
    },
    {
     "name": "stderr",
     "output_type": "stream",
     "text": [
      "C:\\Users\\juju-\\Desktop\\projetos\\mng\\notebooks\\..\\scripts\\MNGFeaturesFractal.py:48: RankWarning: Polyfit may be poorly conditioned\n",
      "  coeffs = np.polyfit(np.log(C), np.log(dists), 1)\n"
     ]
    },
    {
     "name": "stdout",
     "output_type": "stream",
     "text": [
      "1220\n"
     ]
    },
    {
     "name": "stderr",
     "output_type": "stream",
     "text": [
      "C:\\Users\\juju-\\Desktop\\projetos\\mng\\notebooks\\..\\scripts\\MNGFeaturesFractal.py:48: RankWarning: Polyfit may be poorly conditioned\n",
      "  coeffs = np.polyfit(np.log(C), np.log(dists), 1)\n"
     ]
    },
    {
     "name": "stdout",
     "output_type": "stream",
     "text": [
      "1221\n"
     ]
    },
    {
     "name": "stderr",
     "output_type": "stream",
     "text": [
      "C:\\Users\\juju-\\Desktop\\projetos\\mng\\notebooks\\..\\scripts\\MNGFeaturesFractal.py:48: RankWarning: Polyfit may be poorly conditioned\n",
      "  coeffs = np.polyfit(np.log(C), np.log(dists), 1)\n"
     ]
    },
    {
     "name": "stdout",
     "output_type": "stream",
     "text": [
      "1222\n"
     ]
    },
    {
     "name": "stderr",
     "output_type": "stream",
     "text": [
      "C:\\Users\\juju-\\Desktop\\projetos\\mng\\notebooks\\..\\scripts\\MNGFeaturesFractal.py:48: RankWarning: Polyfit may be poorly conditioned\n",
      "  coeffs = np.polyfit(np.log(C), np.log(dists), 1)\n"
     ]
    },
    {
     "name": "stdout",
     "output_type": "stream",
     "text": [
      "1223\n"
     ]
    },
    {
     "name": "stderr",
     "output_type": "stream",
     "text": [
      "C:\\Users\\juju-\\Desktop\\projetos\\mng\\notebooks\\..\\scripts\\MNGFeaturesFractal.py:48: RankWarning: Polyfit may be poorly conditioned\n",
      "  coeffs = np.polyfit(np.log(C), np.log(dists), 1)\n"
     ]
    },
    {
     "name": "stdout",
     "output_type": "stream",
     "text": [
      "1224\n"
     ]
    },
    {
     "name": "stderr",
     "output_type": "stream",
     "text": [
      "C:\\Users\\juju-\\Desktop\\projetos\\mng\\notebooks\\..\\scripts\\MNGFeaturesFractal.py:48: RankWarning: Polyfit may be poorly conditioned\n",
      "  coeffs = np.polyfit(np.log(C), np.log(dists), 1)\n"
     ]
    },
    {
     "name": "stdout",
     "output_type": "stream",
     "text": [
      "1225\n"
     ]
    },
    {
     "name": "stderr",
     "output_type": "stream",
     "text": [
      "C:\\Users\\juju-\\Desktop\\projetos\\mng\\notebooks\\..\\scripts\\MNGFeaturesFractal.py:48: RankWarning: Polyfit may be poorly conditioned\n",
      "  coeffs = np.polyfit(np.log(C), np.log(dists), 1)\n"
     ]
    },
    {
     "name": "stdout",
     "output_type": "stream",
     "text": [
      "1226\n"
     ]
    },
    {
     "name": "stderr",
     "output_type": "stream",
     "text": [
      "C:\\Users\\juju-\\Desktop\\projetos\\mng\\notebooks\\..\\scripts\\MNGFeaturesFractal.py:48: RankWarning: Polyfit may be poorly conditioned\n",
      "  coeffs = np.polyfit(np.log(C), np.log(dists), 1)\n"
     ]
    },
    {
     "name": "stdout",
     "output_type": "stream",
     "text": [
      "1227\n"
     ]
    },
    {
     "name": "stderr",
     "output_type": "stream",
     "text": [
      "C:\\Users\\juju-\\Desktop\\projetos\\mng\\notebooks\\..\\scripts\\MNGFeaturesFractal.py:48: RankWarning: Polyfit may be poorly conditioned\n",
      "  coeffs = np.polyfit(np.log(C), np.log(dists), 1)\n"
     ]
    },
    {
     "name": "stdout",
     "output_type": "stream",
     "text": [
      "1228\n"
     ]
    },
    {
     "name": "stderr",
     "output_type": "stream",
     "text": [
      "C:\\Users\\juju-\\Desktop\\projetos\\mng\\notebooks\\..\\scripts\\MNGFeaturesFractal.py:48: RankWarning: Polyfit may be poorly conditioned\n",
      "  coeffs = np.polyfit(np.log(C), np.log(dists), 1)\n"
     ]
    },
    {
     "name": "stdout",
     "output_type": "stream",
     "text": [
      "1229\n"
     ]
    },
    {
     "name": "stderr",
     "output_type": "stream",
     "text": [
      "C:\\Users\\juju-\\Desktop\\projetos\\mng\\notebooks\\..\\scripts\\MNGFeaturesFractal.py:48: RankWarning: Polyfit may be poorly conditioned\n",
      "  coeffs = np.polyfit(np.log(C), np.log(dists), 1)\n"
     ]
    },
    {
     "name": "stdout",
     "output_type": "stream",
     "text": [
      "1230\n"
     ]
    },
    {
     "name": "stderr",
     "output_type": "stream",
     "text": [
      "C:\\Users\\juju-\\Desktop\\projetos\\mng\\notebooks\\..\\scripts\\MNGFeaturesFractal.py:48: RankWarning: Polyfit may be poorly conditioned\n",
      "  coeffs = np.polyfit(np.log(C), np.log(dists), 1)\n"
     ]
    },
    {
     "name": "stdout",
     "output_type": "stream",
     "text": [
      "1231\n"
     ]
    },
    {
     "name": "stderr",
     "output_type": "stream",
     "text": [
      "C:\\Users\\juju-\\Desktop\\projetos\\mng\\notebooks\\..\\scripts\\MNGFeaturesFractal.py:48: RankWarning: Polyfit may be poorly conditioned\n",
      "  coeffs = np.polyfit(np.log(C), np.log(dists), 1)\n"
     ]
    },
    {
     "name": "stdout",
     "output_type": "stream",
     "text": [
      "1232\n"
     ]
    },
    {
     "name": "stderr",
     "output_type": "stream",
     "text": [
      "C:\\Users\\juju-\\Desktop\\projetos\\mng\\notebooks\\..\\scripts\\MNGFeaturesFractal.py:48: RankWarning: Polyfit may be poorly conditioned\n",
      "  coeffs = np.polyfit(np.log(C), np.log(dists), 1)\n"
     ]
    },
    {
     "name": "stdout",
     "output_type": "stream",
     "text": [
      "1233\n"
     ]
    },
    {
     "name": "stderr",
     "output_type": "stream",
     "text": [
      "C:\\Users\\juju-\\Desktop\\projetos\\mng\\notebooks\\..\\scripts\\MNGFeaturesFractal.py:48: RankWarning: Polyfit may be poorly conditioned\n",
      "  coeffs = np.polyfit(np.log(C), np.log(dists), 1)\n"
     ]
    },
    {
     "name": "stdout",
     "output_type": "stream",
     "text": [
      "1234\n"
     ]
    },
    {
     "name": "stderr",
     "output_type": "stream",
     "text": [
      "C:\\Users\\juju-\\Desktop\\projetos\\mng\\notebooks\\..\\scripts\\MNGFeaturesFractal.py:48: RankWarning: Polyfit may be poorly conditioned\n",
      "  coeffs = np.polyfit(np.log(C), np.log(dists), 1)\n"
     ]
    },
    {
     "name": "stdout",
     "output_type": "stream",
     "text": [
      "1235\n"
     ]
    },
    {
     "name": "stderr",
     "output_type": "stream",
     "text": [
      "C:\\Users\\juju-\\Desktop\\projetos\\mng\\notebooks\\..\\scripts\\MNGFeaturesFractal.py:48: RankWarning: Polyfit may be poorly conditioned\n",
      "  coeffs = np.polyfit(np.log(C), np.log(dists), 1)\n"
     ]
    },
    {
     "name": "stdout",
     "output_type": "stream",
     "text": [
      "1236\n"
     ]
    },
    {
     "name": "stderr",
     "output_type": "stream",
     "text": [
      "C:\\Users\\juju-\\Desktop\\projetos\\mng\\notebooks\\..\\scripts\\MNGFeaturesFractal.py:48: RankWarning: Polyfit may be poorly conditioned\n",
      "  coeffs = np.polyfit(np.log(C), np.log(dists), 1)\n"
     ]
    },
    {
     "name": "stdout",
     "output_type": "stream",
     "text": [
      "1237\n"
     ]
    },
    {
     "name": "stderr",
     "output_type": "stream",
     "text": [
      "C:\\Users\\juju-\\Desktop\\projetos\\mng\\notebooks\\..\\scripts\\MNGFeaturesFractal.py:48: RankWarning: Polyfit may be poorly conditioned\n",
      "  coeffs = np.polyfit(np.log(C), np.log(dists), 1)\n"
     ]
    },
    {
     "name": "stdout",
     "output_type": "stream",
     "text": [
      "1238\n"
     ]
    },
    {
     "name": "stderr",
     "output_type": "stream",
     "text": [
      "C:\\Users\\juju-\\Desktop\\projetos\\mng\\notebooks\\..\\scripts\\MNGFeaturesFractal.py:48: RankWarning: Polyfit may be poorly conditioned\n",
      "  coeffs = np.polyfit(np.log(C), np.log(dists), 1)\n"
     ]
    },
    {
     "name": "stdout",
     "output_type": "stream",
     "text": [
      "1239\n"
     ]
    },
    {
     "name": "stderr",
     "output_type": "stream",
     "text": [
      "C:\\Users\\juju-\\Desktop\\projetos\\mng\\notebooks\\..\\scripts\\MNGFeaturesFractal.py:48: RankWarning: Polyfit may be poorly conditioned\n",
      "  coeffs = np.polyfit(np.log(C), np.log(dists), 1)\n"
     ]
    },
    {
     "name": "stdout",
     "output_type": "stream",
     "text": [
      "1240\n"
     ]
    },
    {
     "name": "stderr",
     "output_type": "stream",
     "text": [
      "C:\\Users\\juju-\\Desktop\\projetos\\mng\\notebooks\\..\\scripts\\MNGFeaturesFractal.py:48: RankWarning: Polyfit may be poorly conditioned\n",
      "  coeffs = np.polyfit(np.log(C), np.log(dists), 1)\n"
     ]
    },
    {
     "name": "stdout",
     "output_type": "stream",
     "text": [
      "1241\n"
     ]
    },
    {
     "name": "stderr",
     "output_type": "stream",
     "text": [
      "C:\\Users\\juju-\\Desktop\\projetos\\mng\\notebooks\\..\\scripts\\MNGFeaturesFractal.py:48: RankWarning: Polyfit may be poorly conditioned\n",
      "  coeffs = np.polyfit(np.log(C), np.log(dists), 1)\n"
     ]
    },
    {
     "name": "stdout",
     "output_type": "stream",
     "text": [
      "1242\n"
     ]
    },
    {
     "name": "stderr",
     "output_type": "stream",
     "text": [
      "C:\\Users\\juju-\\Desktop\\projetos\\mng\\notebooks\\..\\scripts\\MNGFeaturesFractal.py:48: RankWarning: Polyfit may be poorly conditioned\n",
      "  coeffs = np.polyfit(np.log(C), np.log(dists), 1)\n"
     ]
    },
    {
     "name": "stdout",
     "output_type": "stream",
     "text": [
      "1243\n"
     ]
    },
    {
     "name": "stderr",
     "output_type": "stream",
     "text": [
      "C:\\Users\\juju-\\Desktop\\projetos\\mng\\notebooks\\..\\scripts\\MNGFeaturesFractal.py:48: RankWarning: Polyfit may be poorly conditioned\n",
      "  coeffs = np.polyfit(np.log(C), np.log(dists), 1)\n"
     ]
    },
    {
     "name": "stdout",
     "output_type": "stream",
     "text": [
      "1244\n"
     ]
    },
    {
     "name": "stderr",
     "output_type": "stream",
     "text": [
      "C:\\Users\\juju-\\Desktop\\projetos\\mng\\notebooks\\..\\scripts\\MNGFeaturesFractal.py:48: RankWarning: Polyfit may be poorly conditioned\n",
      "  coeffs = np.polyfit(np.log(C), np.log(dists), 1)\n"
     ]
    },
    {
     "name": "stdout",
     "output_type": "stream",
     "text": [
      "1245\n"
     ]
    },
    {
     "name": "stderr",
     "output_type": "stream",
     "text": [
      "C:\\Users\\juju-\\Desktop\\projetos\\mng\\notebooks\\..\\scripts\\MNGFeaturesFractal.py:48: RankWarning: Polyfit may be poorly conditioned\n",
      "  coeffs = np.polyfit(np.log(C), np.log(dists), 1)\n"
     ]
    },
    {
     "name": "stdout",
     "output_type": "stream",
     "text": [
      "1246\n"
     ]
    },
    {
     "name": "stderr",
     "output_type": "stream",
     "text": [
      "C:\\Users\\juju-\\Desktop\\projetos\\mng\\notebooks\\..\\scripts\\MNGFeaturesFractal.py:48: RankWarning: Polyfit may be poorly conditioned\n",
      "  coeffs = np.polyfit(np.log(C), np.log(dists), 1)\n"
     ]
    },
    {
     "name": "stdout",
     "output_type": "stream",
     "text": [
      "1247\n"
     ]
    },
    {
     "name": "stderr",
     "output_type": "stream",
     "text": [
      "C:\\Users\\juju-\\Desktop\\projetos\\mng\\notebooks\\..\\scripts\\MNGFeaturesFractal.py:48: RankWarning: Polyfit may be poorly conditioned\n",
      "  coeffs = np.polyfit(np.log(C), np.log(dists), 1)\n"
     ]
    },
    {
     "name": "stdout",
     "output_type": "stream",
     "text": [
      "1248\n"
     ]
    },
    {
     "name": "stderr",
     "output_type": "stream",
     "text": [
      "C:\\Users\\juju-\\Desktop\\projetos\\mng\\notebooks\\..\\scripts\\MNGFeaturesFractal.py:48: RankWarning: Polyfit may be poorly conditioned\n",
      "  coeffs = np.polyfit(np.log(C), np.log(dists), 1)\n"
     ]
    },
    {
     "name": "stdout",
     "output_type": "stream",
     "text": [
      "1249\n"
     ]
    },
    {
     "name": "stderr",
     "output_type": "stream",
     "text": [
      "C:\\Users\\juju-\\Desktop\\projetos\\mng\\notebooks\\..\\scripts\\MNGFeaturesFractal.py:48: RankWarning: Polyfit may be poorly conditioned\n",
      "  coeffs = np.polyfit(np.log(C), np.log(dists), 1)\n"
     ]
    },
    {
     "name": "stdout",
     "output_type": "stream",
     "text": [
      "1250\n"
     ]
    },
    {
     "name": "stderr",
     "output_type": "stream",
     "text": [
      "C:\\Users\\juju-\\Desktop\\projetos\\mng\\notebooks\\..\\scripts\\MNGFeaturesFractal.py:48: RankWarning: Polyfit may be poorly conditioned\n",
      "  coeffs = np.polyfit(np.log(C), np.log(dists), 1)\n"
     ]
    },
    {
     "name": "stdout",
     "output_type": "stream",
     "text": [
      "1251\n"
     ]
    },
    {
     "name": "stderr",
     "output_type": "stream",
     "text": [
      "C:\\Users\\juju-\\Desktop\\projetos\\mng\\notebooks\\..\\scripts\\MNGFeaturesFractal.py:48: RankWarning: Polyfit may be poorly conditioned\n",
      "  coeffs = np.polyfit(np.log(C), np.log(dists), 1)\n"
     ]
    },
    {
     "name": "stdout",
     "output_type": "stream",
     "text": [
      "1252\n"
     ]
    },
    {
     "name": "stderr",
     "output_type": "stream",
     "text": [
      "C:\\Users\\juju-\\Desktop\\projetos\\mng\\notebooks\\..\\scripts\\MNGFeaturesFractal.py:48: RankWarning: Polyfit may be poorly conditioned\n",
      "  coeffs = np.polyfit(np.log(C), np.log(dists), 1)\n"
     ]
    },
    {
     "name": "stdout",
     "output_type": "stream",
     "text": [
      "1253\n"
     ]
    },
    {
     "name": "stderr",
     "output_type": "stream",
     "text": [
      "C:\\Users\\juju-\\Desktop\\projetos\\mng\\notebooks\\..\\scripts\\MNGFeaturesFractal.py:48: RankWarning: Polyfit may be poorly conditioned\n",
      "  coeffs = np.polyfit(np.log(C), np.log(dists), 1)\n"
     ]
    },
    {
     "name": "stdout",
     "output_type": "stream",
     "text": [
      "1254\n"
     ]
    },
    {
     "name": "stderr",
     "output_type": "stream",
     "text": [
      "C:\\Users\\juju-\\Desktop\\projetos\\mng\\notebooks\\..\\scripts\\MNGFeaturesFractal.py:48: RankWarning: Polyfit may be poorly conditioned\n",
      "  coeffs = np.polyfit(np.log(C), np.log(dists), 1)\n"
     ]
    },
    {
     "name": "stdout",
     "output_type": "stream",
     "text": [
      "1255\n"
     ]
    },
    {
     "name": "stderr",
     "output_type": "stream",
     "text": [
      "C:\\Users\\juju-\\Desktop\\projetos\\mng\\notebooks\\..\\scripts\\MNGFeaturesFractal.py:48: RankWarning: Polyfit may be poorly conditioned\n",
      "  coeffs = np.polyfit(np.log(C), np.log(dists), 1)\n"
     ]
    },
    {
     "name": "stdout",
     "output_type": "stream",
     "text": [
      "1256\n"
     ]
    },
    {
     "name": "stderr",
     "output_type": "stream",
     "text": [
      "C:\\Users\\juju-\\Desktop\\projetos\\mng\\notebooks\\..\\scripts\\MNGFeaturesFractal.py:48: RankWarning: Polyfit may be poorly conditioned\n",
      "  coeffs = np.polyfit(np.log(C), np.log(dists), 1)\n"
     ]
    },
    {
     "name": "stdout",
     "output_type": "stream",
     "text": [
      "1257\n"
     ]
    },
    {
     "name": "stderr",
     "output_type": "stream",
     "text": [
      "C:\\Users\\juju-\\Desktop\\projetos\\mng\\notebooks\\..\\scripts\\MNGFeaturesFractal.py:48: RankWarning: Polyfit may be poorly conditioned\n",
      "  coeffs = np.polyfit(np.log(C), np.log(dists), 1)\n"
     ]
    },
    {
     "name": "stdout",
     "output_type": "stream",
     "text": [
      "1258\n"
     ]
    },
    {
     "name": "stderr",
     "output_type": "stream",
     "text": [
      "C:\\Users\\juju-\\Desktop\\projetos\\mng\\notebooks\\..\\scripts\\MNGFeaturesFractal.py:48: RankWarning: Polyfit may be poorly conditioned\n",
      "  coeffs = np.polyfit(np.log(C), np.log(dists), 1)\n"
     ]
    },
    {
     "name": "stdout",
     "output_type": "stream",
     "text": [
      "1259\n"
     ]
    },
    {
     "name": "stderr",
     "output_type": "stream",
     "text": [
      "C:\\Users\\juju-\\Desktop\\projetos\\mng\\notebooks\\..\\scripts\\MNGFeaturesFractal.py:48: RankWarning: Polyfit may be poorly conditioned\n",
      "  coeffs = np.polyfit(np.log(C), np.log(dists), 1)\n"
     ]
    },
    {
     "name": "stdout",
     "output_type": "stream",
     "text": [
      "1260\n"
     ]
    },
    {
     "name": "stderr",
     "output_type": "stream",
     "text": [
      "C:\\Users\\juju-\\Desktop\\projetos\\mng\\notebooks\\..\\scripts\\MNGFeaturesFractal.py:48: RankWarning: Polyfit may be poorly conditioned\n",
      "  coeffs = np.polyfit(np.log(C), np.log(dists), 1)\n"
     ]
    },
    {
     "name": "stdout",
     "output_type": "stream",
     "text": [
      "1261\n"
     ]
    },
    {
     "name": "stderr",
     "output_type": "stream",
     "text": [
      "C:\\Users\\juju-\\Desktop\\projetos\\mng\\notebooks\\..\\scripts\\MNGFeaturesFractal.py:48: RankWarning: Polyfit may be poorly conditioned\n",
      "  coeffs = np.polyfit(np.log(C), np.log(dists), 1)\n"
     ]
    },
    {
     "name": "stdout",
     "output_type": "stream",
     "text": [
      "1262\n"
     ]
    },
    {
     "name": "stderr",
     "output_type": "stream",
     "text": [
      "C:\\Users\\juju-\\Desktop\\projetos\\mng\\notebooks\\..\\scripts\\MNGFeaturesFractal.py:48: RankWarning: Polyfit may be poorly conditioned\n",
      "  coeffs = np.polyfit(np.log(C), np.log(dists), 1)\n"
     ]
    },
    {
     "name": "stdout",
     "output_type": "stream",
     "text": [
      "1263\n"
     ]
    },
    {
     "name": "stderr",
     "output_type": "stream",
     "text": [
      "C:\\Users\\juju-\\Desktop\\projetos\\mng\\notebooks\\..\\scripts\\MNGFeaturesFractal.py:48: RankWarning: Polyfit may be poorly conditioned\n",
      "  coeffs = np.polyfit(np.log(C), np.log(dists), 1)\n"
     ]
    },
    {
     "name": "stdout",
     "output_type": "stream",
     "text": [
      "1264\n"
     ]
    },
    {
     "name": "stderr",
     "output_type": "stream",
     "text": [
      "C:\\Users\\juju-\\Desktop\\projetos\\mng\\notebooks\\..\\scripts\\MNGFeaturesFractal.py:48: RankWarning: Polyfit may be poorly conditioned\n",
      "  coeffs = np.polyfit(np.log(C), np.log(dists), 1)\n"
     ]
    },
    {
     "name": "stdout",
     "output_type": "stream",
     "text": [
      "1265\n"
     ]
    },
    {
     "name": "stderr",
     "output_type": "stream",
     "text": [
      "C:\\Users\\juju-\\Desktop\\projetos\\mng\\notebooks\\..\\scripts\\MNGFeaturesFractal.py:48: RankWarning: Polyfit may be poorly conditioned\n",
      "  coeffs = np.polyfit(np.log(C), np.log(dists), 1)\n"
     ]
    },
    {
     "name": "stdout",
     "output_type": "stream",
     "text": [
      "1266\n"
     ]
    },
    {
     "name": "stderr",
     "output_type": "stream",
     "text": [
      "C:\\Users\\juju-\\Desktop\\projetos\\mng\\notebooks\\..\\scripts\\MNGFeaturesFractal.py:48: RankWarning: Polyfit may be poorly conditioned\n",
      "  coeffs = np.polyfit(np.log(C), np.log(dists), 1)\n"
     ]
    },
    {
     "name": "stdout",
     "output_type": "stream",
     "text": [
      "1267\n"
     ]
    },
    {
     "name": "stderr",
     "output_type": "stream",
     "text": [
      "C:\\Users\\juju-\\Desktop\\projetos\\mng\\notebooks\\..\\scripts\\MNGFeaturesFractal.py:48: RankWarning: Polyfit may be poorly conditioned\n",
      "  coeffs = np.polyfit(np.log(C), np.log(dists), 1)\n"
     ]
    },
    {
     "name": "stdout",
     "output_type": "stream",
     "text": [
      "1268\n"
     ]
    },
    {
     "name": "stderr",
     "output_type": "stream",
     "text": [
      "C:\\Users\\juju-\\Desktop\\projetos\\mng\\notebooks\\..\\scripts\\MNGFeaturesFractal.py:48: RankWarning: Polyfit may be poorly conditioned\n",
      "  coeffs = np.polyfit(np.log(C), np.log(dists), 1)\n"
     ]
    },
    {
     "name": "stdout",
     "output_type": "stream",
     "text": [
      "1269\n"
     ]
    },
    {
     "name": "stderr",
     "output_type": "stream",
     "text": [
      "C:\\Users\\juju-\\Desktop\\projetos\\mng\\notebooks\\..\\scripts\\MNGFeaturesFractal.py:48: RankWarning: Polyfit may be poorly conditioned\n",
      "  coeffs = np.polyfit(np.log(C), np.log(dists), 1)\n"
     ]
    },
    {
     "name": "stdout",
     "output_type": "stream",
     "text": [
      "1270\n"
     ]
    },
    {
     "name": "stderr",
     "output_type": "stream",
     "text": [
      "C:\\Users\\juju-\\Desktop\\projetos\\mng\\notebooks\\..\\scripts\\MNGFeaturesFractal.py:48: RankWarning: Polyfit may be poorly conditioned\n",
      "  coeffs = np.polyfit(np.log(C), np.log(dists), 1)\n"
     ]
    },
    {
     "name": "stdout",
     "output_type": "stream",
     "text": [
      "1271\n"
     ]
    },
    {
     "name": "stderr",
     "output_type": "stream",
     "text": [
      "C:\\Users\\juju-\\Desktop\\projetos\\mng\\notebooks\\..\\scripts\\MNGFeaturesFractal.py:48: RankWarning: Polyfit may be poorly conditioned\n",
      "  coeffs = np.polyfit(np.log(C), np.log(dists), 1)\n"
     ]
    },
    {
     "name": "stdout",
     "output_type": "stream",
     "text": [
      "1272\n"
     ]
    },
    {
     "name": "stderr",
     "output_type": "stream",
     "text": [
      "C:\\Users\\juju-\\Desktop\\projetos\\mng\\notebooks\\..\\scripts\\MNGFeaturesFractal.py:48: RankWarning: Polyfit may be poorly conditioned\n",
      "  coeffs = np.polyfit(np.log(C), np.log(dists), 1)\n"
     ]
    },
    {
     "name": "stdout",
     "output_type": "stream",
     "text": [
      "1273\n"
     ]
    },
    {
     "name": "stderr",
     "output_type": "stream",
     "text": [
      "C:\\Users\\juju-\\Desktop\\projetos\\mng\\notebooks\\..\\scripts\\MNGFeaturesFractal.py:48: RankWarning: Polyfit may be poorly conditioned\n",
      "  coeffs = np.polyfit(np.log(C), np.log(dists), 1)\n"
     ]
    },
    {
     "name": "stdout",
     "output_type": "stream",
     "text": [
      "1274\n"
     ]
    },
    {
     "name": "stderr",
     "output_type": "stream",
     "text": [
      "C:\\Users\\juju-\\Desktop\\projetos\\mng\\notebooks\\..\\scripts\\MNGFeaturesFractal.py:48: RankWarning: Polyfit may be poorly conditioned\n",
      "  coeffs = np.polyfit(np.log(C), np.log(dists), 1)\n"
     ]
    },
    {
     "name": "stdout",
     "output_type": "stream",
     "text": [
      "1275\n"
     ]
    },
    {
     "name": "stderr",
     "output_type": "stream",
     "text": [
      "C:\\Users\\juju-\\Desktop\\projetos\\mng\\notebooks\\..\\scripts\\MNGFeaturesFractal.py:48: RankWarning: Polyfit may be poorly conditioned\n",
      "  coeffs = np.polyfit(np.log(C), np.log(dists), 1)\n"
     ]
    },
    {
     "name": "stdout",
     "output_type": "stream",
     "text": [
      "1276\n"
     ]
    },
    {
     "name": "stderr",
     "output_type": "stream",
     "text": [
      "C:\\Users\\juju-\\Desktop\\projetos\\mng\\notebooks\\..\\scripts\\MNGFeaturesFractal.py:48: RankWarning: Polyfit may be poorly conditioned\n",
      "  coeffs = np.polyfit(np.log(C), np.log(dists), 1)\n"
     ]
    },
    {
     "name": "stdout",
     "output_type": "stream",
     "text": [
      "1277\n"
     ]
    },
    {
     "name": "stderr",
     "output_type": "stream",
     "text": [
      "C:\\Users\\juju-\\Desktop\\projetos\\mng\\notebooks\\..\\scripts\\MNGFeaturesFractal.py:48: RankWarning: Polyfit may be poorly conditioned\n",
      "  coeffs = np.polyfit(np.log(C), np.log(dists), 1)\n"
     ]
    },
    {
     "name": "stdout",
     "output_type": "stream",
     "text": [
      "1278\n"
     ]
    },
    {
     "name": "stderr",
     "output_type": "stream",
     "text": [
      "C:\\Users\\juju-\\Desktop\\projetos\\mng\\notebooks\\..\\scripts\\MNGFeaturesFractal.py:48: RankWarning: Polyfit may be poorly conditioned\n",
      "  coeffs = np.polyfit(np.log(C), np.log(dists), 1)\n"
     ]
    },
    {
     "name": "stdout",
     "output_type": "stream",
     "text": [
      "1279\n"
     ]
    },
    {
     "name": "stderr",
     "output_type": "stream",
     "text": [
      "C:\\Users\\juju-\\Desktop\\projetos\\mng\\notebooks\\..\\scripts\\MNGFeaturesFractal.py:48: RankWarning: Polyfit may be poorly conditioned\n",
      "  coeffs = np.polyfit(np.log(C), np.log(dists), 1)\n"
     ]
    },
    {
     "name": "stdout",
     "output_type": "stream",
     "text": [
      "1280\n"
     ]
    },
    {
     "name": "stderr",
     "output_type": "stream",
     "text": [
      "C:\\Users\\juju-\\Desktop\\projetos\\mng\\notebooks\\..\\scripts\\MNGFeaturesFractal.py:48: RankWarning: Polyfit may be poorly conditioned\n",
      "  coeffs = np.polyfit(np.log(C), np.log(dists), 1)\n"
     ]
    },
    {
     "name": "stdout",
     "output_type": "stream",
     "text": [
      "1281\n"
     ]
    },
    {
     "name": "stderr",
     "output_type": "stream",
     "text": [
      "C:\\Users\\juju-\\Desktop\\projetos\\mng\\notebooks\\..\\scripts\\MNGFeaturesFractal.py:48: RankWarning: Polyfit may be poorly conditioned\n",
      "  coeffs = np.polyfit(np.log(C), np.log(dists), 1)\n"
     ]
    },
    {
     "name": "stdout",
     "output_type": "stream",
     "text": [
      "1282\n"
     ]
    },
    {
     "name": "stderr",
     "output_type": "stream",
     "text": [
      "C:\\Users\\juju-\\Desktop\\projetos\\mng\\notebooks\\..\\scripts\\MNGFeaturesFractal.py:48: RankWarning: Polyfit may be poorly conditioned\n",
      "  coeffs = np.polyfit(np.log(C), np.log(dists), 1)\n"
     ]
    },
    {
     "name": "stdout",
     "output_type": "stream",
     "text": [
      "1283\n"
     ]
    },
    {
     "name": "stderr",
     "output_type": "stream",
     "text": [
      "C:\\Users\\juju-\\Desktop\\projetos\\mng\\notebooks\\..\\scripts\\MNGFeaturesFractal.py:48: RankWarning: Polyfit may be poorly conditioned\n",
      "  coeffs = np.polyfit(np.log(C), np.log(dists), 1)\n"
     ]
    },
    {
     "name": "stdout",
     "output_type": "stream",
     "text": [
      "1284\n"
     ]
    },
    {
     "name": "stderr",
     "output_type": "stream",
     "text": [
      "C:\\Users\\juju-\\Desktop\\projetos\\mng\\notebooks\\..\\scripts\\MNGFeaturesFractal.py:48: RankWarning: Polyfit may be poorly conditioned\n",
      "  coeffs = np.polyfit(np.log(C), np.log(dists), 1)\n"
     ]
    },
    {
     "name": "stdout",
     "output_type": "stream",
     "text": [
      "1285\n"
     ]
    },
    {
     "name": "stderr",
     "output_type": "stream",
     "text": [
      "C:\\Users\\juju-\\Desktop\\projetos\\mng\\notebooks\\..\\scripts\\MNGFeaturesFractal.py:48: RankWarning: Polyfit may be poorly conditioned\n",
      "  coeffs = np.polyfit(np.log(C), np.log(dists), 1)\n"
     ]
    },
    {
     "name": "stdout",
     "output_type": "stream",
     "text": [
      "1286\n"
     ]
    },
    {
     "name": "stderr",
     "output_type": "stream",
     "text": [
      "C:\\Users\\juju-\\Desktop\\projetos\\mng\\notebooks\\..\\scripts\\MNGFeaturesFractal.py:48: RankWarning: Polyfit may be poorly conditioned\n",
      "  coeffs = np.polyfit(np.log(C), np.log(dists), 1)\n"
     ]
    },
    {
     "name": "stdout",
     "output_type": "stream",
     "text": [
      "1287\n"
     ]
    },
    {
     "name": "stderr",
     "output_type": "stream",
     "text": [
      "C:\\Users\\juju-\\Desktop\\projetos\\mng\\notebooks\\..\\scripts\\MNGFeaturesFractal.py:48: RankWarning: Polyfit may be poorly conditioned\n",
      "  coeffs = np.polyfit(np.log(C), np.log(dists), 1)\n"
     ]
    },
    {
     "name": "stdout",
     "output_type": "stream",
     "text": [
      "1288\n"
     ]
    },
    {
     "name": "stderr",
     "output_type": "stream",
     "text": [
      "C:\\Users\\juju-\\Desktop\\projetos\\mng\\notebooks\\..\\scripts\\MNGFeaturesFractal.py:48: RankWarning: Polyfit may be poorly conditioned\n",
      "  coeffs = np.polyfit(np.log(C), np.log(dists), 1)\n"
     ]
    },
    {
     "name": "stdout",
     "output_type": "stream",
     "text": [
      "1289\n"
     ]
    },
    {
     "name": "stderr",
     "output_type": "stream",
     "text": [
      "C:\\Users\\juju-\\Desktop\\projetos\\mng\\notebooks\\..\\scripts\\MNGFeaturesFractal.py:48: RankWarning: Polyfit may be poorly conditioned\n",
      "  coeffs = np.polyfit(np.log(C), np.log(dists), 1)\n"
     ]
    },
    {
     "name": "stdout",
     "output_type": "stream",
     "text": [
      "1290\n"
     ]
    },
    {
     "name": "stderr",
     "output_type": "stream",
     "text": [
      "C:\\Users\\juju-\\Desktop\\projetos\\mng\\notebooks\\..\\scripts\\MNGFeaturesFractal.py:48: RankWarning: Polyfit may be poorly conditioned\n",
      "  coeffs = np.polyfit(np.log(C), np.log(dists), 1)\n"
     ]
    },
    {
     "name": "stdout",
     "output_type": "stream",
     "text": [
      "1291\n"
     ]
    },
    {
     "name": "stderr",
     "output_type": "stream",
     "text": [
      "C:\\Users\\juju-\\Desktop\\projetos\\mng\\notebooks\\..\\scripts\\MNGFeaturesFractal.py:48: RankWarning: Polyfit may be poorly conditioned\n",
      "  coeffs = np.polyfit(np.log(C), np.log(dists), 1)\n"
     ]
    },
    {
     "name": "stdout",
     "output_type": "stream",
     "text": [
      "1292\n"
     ]
    },
    {
     "name": "stderr",
     "output_type": "stream",
     "text": [
      "C:\\Users\\juju-\\Desktop\\projetos\\mng\\notebooks\\..\\scripts\\MNGFeaturesFractal.py:48: RankWarning: Polyfit may be poorly conditioned\n",
      "  coeffs = np.polyfit(np.log(C), np.log(dists), 1)\n"
     ]
    },
    {
     "name": "stdout",
     "output_type": "stream",
     "text": [
      "1293\n"
     ]
    },
    {
     "name": "stderr",
     "output_type": "stream",
     "text": [
      "C:\\Users\\juju-\\Desktop\\projetos\\mng\\notebooks\\..\\scripts\\MNGFeaturesFractal.py:48: RankWarning: Polyfit may be poorly conditioned\n",
      "  coeffs = np.polyfit(np.log(C), np.log(dists), 1)\n"
     ]
    },
    {
     "name": "stdout",
     "output_type": "stream",
     "text": [
      "1294\n"
     ]
    },
    {
     "name": "stderr",
     "output_type": "stream",
     "text": [
      "C:\\Users\\juju-\\Desktop\\projetos\\mng\\notebooks\\..\\scripts\\MNGFeaturesFractal.py:48: RankWarning: Polyfit may be poorly conditioned\n",
      "  coeffs = np.polyfit(np.log(C), np.log(dists), 1)\n"
     ]
    },
    {
     "name": "stdout",
     "output_type": "stream",
     "text": [
      "1295\n"
     ]
    },
    {
     "name": "stderr",
     "output_type": "stream",
     "text": [
      "C:\\Users\\juju-\\Desktop\\projetos\\mng\\notebooks\\..\\scripts\\MNGFeaturesFractal.py:48: RankWarning: Polyfit may be poorly conditioned\n",
      "  coeffs = np.polyfit(np.log(C), np.log(dists), 1)\n"
     ]
    },
    {
     "name": "stdout",
     "output_type": "stream",
     "text": [
      "1296\n"
     ]
    },
    {
     "name": "stderr",
     "output_type": "stream",
     "text": [
      "C:\\Users\\juju-\\Desktop\\projetos\\mng\\notebooks\\..\\scripts\\MNGFeaturesFractal.py:48: RankWarning: Polyfit may be poorly conditioned\n",
      "  coeffs = np.polyfit(np.log(C), np.log(dists), 1)\n"
     ]
    },
    {
     "name": "stdout",
     "output_type": "stream",
     "text": [
      "1297\n"
     ]
    },
    {
     "name": "stderr",
     "output_type": "stream",
     "text": [
      "C:\\Users\\juju-\\Desktop\\projetos\\mng\\notebooks\\..\\scripts\\MNGFeaturesFractal.py:48: RankWarning: Polyfit may be poorly conditioned\n",
      "  coeffs = np.polyfit(np.log(C), np.log(dists), 1)\n"
     ]
    },
    {
     "name": "stdout",
     "output_type": "stream",
     "text": [
      "1298\n"
     ]
    },
    {
     "name": "stderr",
     "output_type": "stream",
     "text": [
      "C:\\Users\\juju-\\Desktop\\projetos\\mng\\notebooks\\..\\scripts\\MNGFeaturesFractal.py:48: RankWarning: Polyfit may be poorly conditioned\n",
      "  coeffs = np.polyfit(np.log(C), np.log(dists), 1)\n"
     ]
    },
    {
     "name": "stdout",
     "output_type": "stream",
     "text": [
      "1299\n"
     ]
    },
    {
     "name": "stderr",
     "output_type": "stream",
     "text": [
      "C:\\Users\\juju-\\Desktop\\projetos\\mng\\notebooks\\..\\scripts\\MNGFeaturesFractal.py:48: RankWarning: Polyfit may be poorly conditioned\n",
      "  coeffs = np.polyfit(np.log(C), np.log(dists), 1)\n"
     ]
    },
    {
     "name": "stdout",
     "output_type": "stream",
     "text": [
      "1300\n"
     ]
    },
    {
     "name": "stderr",
     "output_type": "stream",
     "text": [
      "C:\\Users\\juju-\\Desktop\\projetos\\mng\\notebooks\\..\\scripts\\MNGFeaturesFractal.py:48: RankWarning: Polyfit may be poorly conditioned\n",
      "  coeffs = np.polyfit(np.log(C), np.log(dists), 1)\n"
     ]
    },
    {
     "name": "stdout",
     "output_type": "stream",
     "text": [
      "1301\n"
     ]
    },
    {
     "name": "stderr",
     "output_type": "stream",
     "text": [
      "C:\\Users\\juju-\\Desktop\\projetos\\mng\\notebooks\\..\\scripts\\MNGFeaturesFractal.py:48: RankWarning: Polyfit may be poorly conditioned\n",
      "  coeffs = np.polyfit(np.log(C), np.log(dists), 1)\n"
     ]
    },
    {
     "name": "stdout",
     "output_type": "stream",
     "text": [
      "1302\n"
     ]
    },
    {
     "name": "stderr",
     "output_type": "stream",
     "text": [
      "C:\\Users\\juju-\\Desktop\\projetos\\mng\\notebooks\\..\\scripts\\MNGFeaturesFractal.py:48: RankWarning: Polyfit may be poorly conditioned\n",
      "  coeffs = np.polyfit(np.log(C), np.log(dists), 1)\n"
     ]
    },
    {
     "name": "stdout",
     "output_type": "stream",
     "text": [
      "1303\n"
     ]
    },
    {
     "name": "stderr",
     "output_type": "stream",
     "text": [
      "C:\\Users\\juju-\\Desktop\\projetos\\mng\\notebooks\\..\\scripts\\MNGFeaturesFractal.py:48: RankWarning: Polyfit may be poorly conditioned\n",
      "  coeffs = np.polyfit(np.log(C), np.log(dists), 1)\n"
     ]
    },
    {
     "name": "stdout",
     "output_type": "stream",
     "text": [
      "1304\n"
     ]
    },
    {
     "name": "stderr",
     "output_type": "stream",
     "text": [
      "C:\\Users\\juju-\\Desktop\\projetos\\mng\\notebooks\\..\\scripts\\MNGFeaturesFractal.py:48: RankWarning: Polyfit may be poorly conditioned\n",
      "  coeffs = np.polyfit(np.log(C), np.log(dists), 1)\n"
     ]
    },
    {
     "name": "stdout",
     "output_type": "stream",
     "text": [
      "1305\n"
     ]
    },
    {
     "name": "stderr",
     "output_type": "stream",
     "text": [
      "C:\\Users\\juju-\\Desktop\\projetos\\mng\\notebooks\\..\\scripts\\MNGFeaturesFractal.py:48: RankWarning: Polyfit may be poorly conditioned\n",
      "  coeffs = np.polyfit(np.log(C), np.log(dists), 1)\n"
     ]
    },
    {
     "name": "stdout",
     "output_type": "stream",
     "text": [
      "1306\n"
     ]
    },
    {
     "name": "stderr",
     "output_type": "stream",
     "text": [
      "C:\\Users\\juju-\\Desktop\\projetos\\mng\\notebooks\\..\\scripts\\MNGFeaturesFractal.py:48: RankWarning: Polyfit may be poorly conditioned\n",
      "  coeffs = np.polyfit(np.log(C), np.log(dists), 1)\n"
     ]
    },
    {
     "name": "stdout",
     "output_type": "stream",
     "text": [
      "1307\n"
     ]
    },
    {
     "name": "stderr",
     "output_type": "stream",
     "text": [
      "C:\\Users\\juju-\\Desktop\\projetos\\mng\\notebooks\\..\\scripts\\MNGFeaturesFractal.py:48: RankWarning: Polyfit may be poorly conditioned\n",
      "  coeffs = np.polyfit(np.log(C), np.log(dists), 1)\n"
     ]
    },
    {
     "name": "stdout",
     "output_type": "stream",
     "text": [
      "1308\n"
     ]
    },
    {
     "name": "stderr",
     "output_type": "stream",
     "text": [
      "C:\\Users\\juju-\\Desktop\\projetos\\mng\\notebooks\\..\\scripts\\MNGFeaturesFractal.py:48: RankWarning: Polyfit may be poorly conditioned\n",
      "  coeffs = np.polyfit(np.log(C), np.log(dists), 1)\n"
     ]
    },
    {
     "name": "stdout",
     "output_type": "stream",
     "text": [
      "1309\n"
     ]
    },
    {
     "name": "stderr",
     "output_type": "stream",
     "text": [
      "C:\\Users\\juju-\\Desktop\\projetos\\mng\\notebooks\\..\\scripts\\MNGFeaturesFractal.py:48: RankWarning: Polyfit may be poorly conditioned\n",
      "  coeffs = np.polyfit(np.log(C), np.log(dists), 1)\n"
     ]
    },
    {
     "name": "stdout",
     "output_type": "stream",
     "text": [
      "1310\n"
     ]
    },
    {
     "name": "stderr",
     "output_type": "stream",
     "text": [
      "C:\\Users\\juju-\\Desktop\\projetos\\mng\\notebooks\\..\\scripts\\MNGFeaturesFractal.py:48: RankWarning: Polyfit may be poorly conditioned\n",
      "  coeffs = np.polyfit(np.log(C), np.log(dists), 1)\n"
     ]
    },
    {
     "name": "stdout",
     "output_type": "stream",
     "text": [
      "1311\n"
     ]
    },
    {
     "name": "stderr",
     "output_type": "stream",
     "text": [
      "C:\\Users\\juju-\\Desktop\\projetos\\mng\\notebooks\\..\\scripts\\MNGFeaturesFractal.py:48: RankWarning: Polyfit may be poorly conditioned\n",
      "  coeffs = np.polyfit(np.log(C), np.log(dists), 1)\n"
     ]
    },
    {
     "name": "stdout",
     "output_type": "stream",
     "text": [
      "1312\n"
     ]
    },
    {
     "name": "stderr",
     "output_type": "stream",
     "text": [
      "C:\\Users\\juju-\\Desktop\\projetos\\mng\\notebooks\\..\\scripts\\MNGFeaturesFractal.py:48: RankWarning: Polyfit may be poorly conditioned\n",
      "  coeffs = np.polyfit(np.log(C), np.log(dists), 1)\n"
     ]
    },
    {
     "name": "stdout",
     "output_type": "stream",
     "text": [
      "1313\n"
     ]
    },
    {
     "name": "stderr",
     "output_type": "stream",
     "text": [
      "C:\\Users\\juju-\\Desktop\\projetos\\mng\\notebooks\\..\\scripts\\MNGFeaturesFractal.py:48: RankWarning: Polyfit may be poorly conditioned\n",
      "  coeffs = np.polyfit(np.log(C), np.log(dists), 1)\n"
     ]
    },
    {
     "name": "stdout",
     "output_type": "stream",
     "text": [
      "1314\n"
     ]
    },
    {
     "name": "stderr",
     "output_type": "stream",
     "text": [
      "C:\\Users\\juju-\\Desktop\\projetos\\mng\\notebooks\\..\\scripts\\MNGFeaturesFractal.py:48: RankWarning: Polyfit may be poorly conditioned\n",
      "  coeffs = np.polyfit(np.log(C), np.log(dists), 1)\n"
     ]
    },
    {
     "name": "stdout",
     "output_type": "stream",
     "text": [
      "1315\n"
     ]
    },
    {
     "name": "stderr",
     "output_type": "stream",
     "text": [
      "C:\\Users\\juju-\\Desktop\\projetos\\mng\\notebooks\\..\\scripts\\MNGFeaturesFractal.py:48: RankWarning: Polyfit may be poorly conditioned\n",
      "  coeffs = np.polyfit(np.log(C), np.log(dists), 1)\n"
     ]
    },
    {
     "name": "stdout",
     "output_type": "stream",
     "text": [
      "1316\n"
     ]
    },
    {
     "name": "stderr",
     "output_type": "stream",
     "text": [
      "C:\\Users\\juju-\\Desktop\\projetos\\mng\\notebooks\\..\\scripts\\MNGFeaturesFractal.py:48: RankWarning: Polyfit may be poorly conditioned\n",
      "  coeffs = np.polyfit(np.log(C), np.log(dists), 1)\n"
     ]
    },
    {
     "name": "stdout",
     "output_type": "stream",
     "text": [
      "1317\n"
     ]
    },
    {
     "name": "stderr",
     "output_type": "stream",
     "text": [
      "C:\\Users\\juju-\\Desktop\\projetos\\mng\\notebooks\\..\\scripts\\MNGFeaturesFractal.py:48: RankWarning: Polyfit may be poorly conditioned\n",
      "  coeffs = np.polyfit(np.log(C), np.log(dists), 1)\n"
     ]
    },
    {
     "name": "stdout",
     "output_type": "stream",
     "text": [
      "1318\n"
     ]
    },
    {
     "name": "stderr",
     "output_type": "stream",
     "text": [
      "C:\\Users\\juju-\\Desktop\\projetos\\mng\\notebooks\\..\\scripts\\MNGFeaturesFractal.py:48: RankWarning: Polyfit may be poorly conditioned\n",
      "  coeffs = np.polyfit(np.log(C), np.log(dists), 1)\n"
     ]
    },
    {
     "name": "stdout",
     "output_type": "stream",
     "text": [
      "1319\n"
     ]
    },
    {
     "name": "stderr",
     "output_type": "stream",
     "text": [
      "C:\\Users\\juju-\\Desktop\\projetos\\mng\\notebooks\\..\\scripts\\MNGFeaturesFractal.py:48: RankWarning: Polyfit may be poorly conditioned\n",
      "  coeffs = np.polyfit(np.log(C), np.log(dists), 1)\n"
     ]
    },
    {
     "name": "stdout",
     "output_type": "stream",
     "text": [
      "1320\n"
     ]
    },
    {
     "name": "stderr",
     "output_type": "stream",
     "text": [
      "C:\\Users\\juju-\\Desktop\\projetos\\mng\\notebooks\\..\\scripts\\MNGFeaturesFractal.py:48: RankWarning: Polyfit may be poorly conditioned\n",
      "  coeffs = np.polyfit(np.log(C), np.log(dists), 1)\n"
     ]
    },
    {
     "ename": "ValueError",
     "evalue": "Grouper for 'var' not 1-dimensional",
     "output_type": "error",
     "traceback": [
      "\u001b[1;31m---------------------------------------------------------------------------\u001b[0m",
      "\u001b[1;31mValueError\u001b[0m                                Traceback (most recent call last)",
      "\u001b[1;32m<ipython-input-94-f5dfd2534bea>\u001b[0m in \u001b[0;36m<module>\u001b[1;34m()\u001b[0m\n\u001b[0;32m      7\u001b[0m     \u001b[0mmng\u001b[0m\u001b[1;33m.\u001b[0m\u001b[0mfeatures\u001b[0m\u001b[1;33m.\u001b[0m\u001b[0mextract_features\u001b[0m\u001b[1;33m(\u001b[0m\u001b[0mres\u001b[0m\u001b[1;33m,\u001b[0m \u001b[0mimg\u001b[0m\u001b[1;33m)\u001b[0m\u001b[1;33m\u001b[0m\u001b[0m\n\u001b[0;32m      8\u001b[0m \u001b[1;33m\u001b[0m\u001b[0m\n\u001b[1;32m----> 9\u001b[1;33m \u001b[0mfile_path\u001b[0m \u001b[1;33m=\u001b[0m \u001b[0mmng\u001b[0m\u001b[1;33m.\u001b[0m\u001b[0mfeatures\u001b[0m\u001b[1;33m.\u001b[0m\u001b[0msave_data\u001b[0m\u001b[1;33m(\u001b[0m\u001b[1;33m)\u001b[0m\u001b[1;33m\u001b[0m\u001b[0m\n\u001b[0m",
      "\u001b[1;32m~\\Desktop\\projetos\\mng\\notebooks\\..\\scripts\\MNGFeatures.py\u001b[0m in \u001b[0;36msave_data\u001b[1;34m(self)\u001b[0m\n\u001b[0;32m     37\u001b[0m                 \u001b[0mfile_path\u001b[0m \u001b[1;33m=\u001b[0m \u001b[0mself\u001b[0m\u001b[1;33m.\u001b[0m\u001b[0mdest_folder\u001b[0m \u001b[1;33m+\u001b[0m \u001b[0mself\u001b[0m\u001b[1;33m.\u001b[0m\u001b[0mcurrent_features_name\u001b[0m \u001b[1;33m+\u001b[0m \u001b[1;34m'_all.csv'\u001b[0m\u001b[1;33m\u001b[0m\u001b[0m\n\u001b[0;32m     38\u001b[0m                 \u001b[0mself\u001b[0m\u001b[1;33m.\u001b[0m\u001b[0mdata\u001b[0m\u001b[1;33m.\u001b[0m\u001b[0mto_csv\u001b[0m\u001b[1;33m(\u001b[0m\u001b[0mfile_path\u001b[0m\u001b[1;33m,\u001b[0m \u001b[0msep\u001b[0m\u001b[1;33m=\u001b[0m\u001b[1;34m';'\u001b[0m\u001b[1;33m)\u001b[0m\u001b[1;33m\u001b[0m\u001b[0m\n\u001b[1;32m---> 39\u001b[1;33m                 \u001b[0mfile_path\u001b[0m \u001b[1;33m=\u001b[0m \u001b[0mself\u001b[0m\u001b[1;33m.\u001b[0m\u001b[0medit_data_frame\u001b[0m\u001b[1;33m(\u001b[0m\u001b[1;33m)\u001b[0m\u001b[1;33m\u001b[0m\u001b[0m\n\u001b[0m\u001b[0;32m     40\u001b[0m                 \u001b[1;32mreturn\u001b[0m \u001b[0mfile_path\u001b[0m\u001b[1;33m\u001b[0m\u001b[0m\n\u001b[0;32m     41\u001b[0m \u001b[1;33m\u001b[0m\u001b[0m\n",
      "\u001b[1;32m~\\Desktop\\projetos\\mng\\notebooks\\..\\scripts\\MNGFeatures.py\u001b[0m in \u001b[0;36medit_data_frame\u001b[1;34m(self)\u001b[0m\n\u001b[0;32m     70\u001b[0m                 \u001b[0mnew_data\u001b[0m\u001b[1;33m[\u001b[0m\u001b[1;34m'num'\u001b[0m\u001b[1;33m]\u001b[0m \u001b[1;33m=\u001b[0m \u001b[0mnum\u001b[0m\u001b[1;33m\u001b[0m\u001b[0m\n\u001b[0;32m     71\u001b[0m \u001b[1;33m\u001b[0m\u001b[0m\n\u001b[1;32m---> 72\u001b[1;33m                 \u001b[0mmeans\u001b[0m \u001b[1;33m=\u001b[0m \u001b[0mnew_data\u001b[0m\u001b[1;33m.\u001b[0m\u001b[0mgroupby\u001b[0m\u001b[1;33m(\u001b[0m\u001b[1;33m[\u001b[0m\u001b[1;34m'var'\u001b[0m\u001b[1;33m,\u001b[0m \u001b[1;34m'sem'\u001b[0m\u001b[1;33m,\u001b[0m \u001b[1;34m'num'\u001b[0m\u001b[1;33m]\u001b[0m\u001b[1;33m)\u001b[0m\u001b[1;33m[\u001b[0m\u001b[0mcolumns\u001b[0m\u001b[1;33m]\u001b[0m\u001b[1;33m.\u001b[0m\u001b[0mmean\u001b[0m\u001b[1;33m(\u001b[0m\u001b[1;33m)\u001b[0m\u001b[1;33m\u001b[0m\u001b[0m\n\u001b[0m\u001b[0;32m     73\u001b[0m                 \u001b[0mnew_data\u001b[0m \u001b[1;33m=\u001b[0m \u001b[0mmeans\u001b[0m\u001b[1;33m.\u001b[0m\u001b[0mreset_index\u001b[0m\u001b[1;33m(\u001b[0m\u001b[1;33m)\u001b[0m\u001b[1;33m.\u001b[0m\u001b[0mdrop\u001b[0m\u001b[1;33m(\u001b[0m\u001b[0mcolumns\u001b[0m\u001b[1;33m=\u001b[0m\u001b[1;33m[\u001b[0m\u001b[1;34m'var'\u001b[0m\u001b[1;33m,\u001b[0m \u001b[1;34m'sem'\u001b[0m\u001b[1;33m,\u001b[0m \u001b[1;34m'num'\u001b[0m\u001b[1;33m]\u001b[0m\u001b[1;33m)\u001b[0m\u001b[1;33m\u001b[0m\u001b[0m\n\u001b[0;32m     74\u001b[0m \u001b[1;33m\u001b[0m\u001b[0m\n",
      "\u001b[1;32mc:\\users\\juju-\\appdata\\local\\programs\\python\\python36-32\\lib\\site-packages\\pandas\\core\\generic.py\u001b[0m in \u001b[0;36mgroupby\u001b[1;34m(self, by, axis, level, as_index, sort, group_keys, squeeze, observed, **kwargs)\u001b[0m\n\u001b[0;32m   6663\u001b[0m         return groupby(self, by=by, axis=axis, level=level, as_index=as_index,\n\u001b[0;32m   6664\u001b[0m                        \u001b[0msort\u001b[0m\u001b[1;33m=\u001b[0m\u001b[0msort\u001b[0m\u001b[1;33m,\u001b[0m \u001b[0mgroup_keys\u001b[0m\u001b[1;33m=\u001b[0m\u001b[0mgroup_keys\u001b[0m\u001b[1;33m,\u001b[0m \u001b[0msqueeze\u001b[0m\u001b[1;33m=\u001b[0m\u001b[0msqueeze\u001b[0m\u001b[1;33m,\u001b[0m\u001b[1;33m\u001b[0m\u001b[0m\n\u001b[1;32m-> 6665\u001b[1;33m                        observed=observed, **kwargs)\n\u001b[0m\u001b[0;32m   6666\u001b[0m \u001b[1;33m\u001b[0m\u001b[0m\n\u001b[0;32m   6667\u001b[0m     def asfreq(self, freq, method=None, how=None, normalize=False,\n",
      "\u001b[1;32mc:\\users\\juju-\\appdata\\local\\programs\\python\\python36-32\\lib\\site-packages\\pandas\\core\\groupby\\groupby.py\u001b[0m in \u001b[0;36mgroupby\u001b[1;34m(obj, by, **kwds)\u001b[0m\n\u001b[0;32m   2150\u001b[0m         \u001b[1;32mraise\u001b[0m \u001b[0mTypeError\u001b[0m\u001b[1;33m(\u001b[0m\u001b[1;34m'invalid type: %s'\u001b[0m \u001b[1;33m%\u001b[0m \u001b[0mtype\u001b[0m\u001b[1;33m(\u001b[0m\u001b[0mobj\u001b[0m\u001b[1;33m)\u001b[0m\u001b[1;33m)\u001b[0m\u001b[1;33m\u001b[0m\u001b[0m\n\u001b[0;32m   2151\u001b[0m \u001b[1;33m\u001b[0m\u001b[0m\n\u001b[1;32m-> 2152\u001b[1;33m     \u001b[1;32mreturn\u001b[0m \u001b[0mklass\u001b[0m\u001b[1;33m(\u001b[0m\u001b[0mobj\u001b[0m\u001b[1;33m,\u001b[0m \u001b[0mby\u001b[0m\u001b[1;33m,\u001b[0m \u001b[1;33m**\u001b[0m\u001b[0mkwds\u001b[0m\u001b[1;33m)\u001b[0m\u001b[1;33m\u001b[0m\u001b[0m\n\u001b[0m\u001b[0;32m   2153\u001b[0m \u001b[1;33m\u001b[0m\u001b[0m\n\u001b[0;32m   2154\u001b[0m \u001b[1;33m\u001b[0m\u001b[0m\n",
      "\u001b[1;32mc:\\users\\juju-\\appdata\\local\\programs\\python\\python36-32\\lib\\site-packages\\pandas\\core\\groupby\\groupby.py\u001b[0m in \u001b[0;36m__init__\u001b[1;34m(self, obj, keys, axis, level, grouper, exclusions, selection, as_index, sort, group_keys, squeeze, observed, **kwargs)\u001b[0m\n\u001b[0;32m    597\u001b[0m                                                     \u001b[0msort\u001b[0m\u001b[1;33m=\u001b[0m\u001b[0msort\u001b[0m\u001b[1;33m,\u001b[0m\u001b[1;33m\u001b[0m\u001b[0m\n\u001b[0;32m    598\u001b[0m                                                     \u001b[0mobserved\u001b[0m\u001b[1;33m=\u001b[0m\u001b[0mobserved\u001b[0m\u001b[1;33m,\u001b[0m\u001b[1;33m\u001b[0m\u001b[0m\n\u001b[1;32m--> 599\u001b[1;33m                                                     mutated=self.mutated)\n\u001b[0m\u001b[0;32m    600\u001b[0m \u001b[1;33m\u001b[0m\u001b[0m\n\u001b[0;32m    601\u001b[0m         \u001b[0mself\u001b[0m\u001b[1;33m.\u001b[0m\u001b[0mobj\u001b[0m \u001b[1;33m=\u001b[0m \u001b[0mobj\u001b[0m\u001b[1;33m\u001b[0m\u001b[0m\n",
      "\u001b[1;32mc:\\users\\juju-\\appdata\\local\\programs\\python\\python36-32\\lib\\site-packages\\pandas\\core\\groupby\\groupby.py\u001b[0m in \u001b[0;36m_get_grouper\u001b[1;34m(obj, key, axis, level, sort, observed, mutated, validate)\u001b[0m\n\u001b[0;32m   3313\u001b[0m                         \u001b[0mobserved\u001b[0m\u001b[1;33m=\u001b[0m\u001b[0mobserved\u001b[0m\u001b[1;33m,\u001b[0m\u001b[1;33m\u001b[0m\u001b[0m\n\u001b[0;32m   3314\u001b[0m                         in_axis=in_axis) \\\n\u001b[1;32m-> 3315\u001b[1;33m             \u001b[1;32mif\u001b[0m \u001b[1;32mnot\u001b[0m \u001b[0misinstance\u001b[0m\u001b[1;33m(\u001b[0m\u001b[0mgpr\u001b[0m\u001b[1;33m,\u001b[0m \u001b[0mGrouping\u001b[0m\u001b[1;33m)\u001b[0m \u001b[1;32melse\u001b[0m \u001b[0mgpr\u001b[0m\u001b[1;33m\u001b[0m\u001b[0m\n\u001b[0m\u001b[0;32m   3316\u001b[0m \u001b[1;33m\u001b[0m\u001b[0m\n\u001b[0;32m   3317\u001b[0m         \u001b[0mgroupings\u001b[0m\u001b[1;33m.\u001b[0m\u001b[0mappend\u001b[0m\u001b[1;33m(\u001b[0m\u001b[0mping\u001b[0m\u001b[1;33m)\u001b[0m\u001b[1;33m\u001b[0m\u001b[0m\n",
      "\u001b[1;32mc:\\users\\juju-\\appdata\\local\\programs\\python\\python36-32\\lib\\site-packages\\pandas\\core\\groupby\\groupby.py\u001b[0m in \u001b[0;36m__init__\u001b[1;34m(self, index, grouper, obj, name, level, sort, observed, in_axis)\u001b[0m\n\u001b[0;32m   3023\u001b[0m                 \u001b[1;32mif\u001b[0m \u001b[0mgetattr\u001b[0m\u001b[1;33m(\u001b[0m\u001b[0mself\u001b[0m\u001b[1;33m.\u001b[0m\u001b[0mgrouper\u001b[0m\u001b[1;33m,\u001b[0m \u001b[1;34m'ndim'\u001b[0m\u001b[1;33m,\u001b[0m \u001b[1;36m1\u001b[0m\u001b[1;33m)\u001b[0m \u001b[1;33m!=\u001b[0m \u001b[1;36m1\u001b[0m\u001b[1;33m:\u001b[0m\u001b[1;33m\u001b[0m\u001b[0m\n\u001b[0;32m   3024\u001b[0m                     \u001b[0mt\u001b[0m \u001b[1;33m=\u001b[0m \u001b[0mself\u001b[0m\u001b[1;33m.\u001b[0m\u001b[0mname\u001b[0m \u001b[1;32mor\u001b[0m \u001b[0mstr\u001b[0m\u001b[1;33m(\u001b[0m\u001b[0mtype\u001b[0m\u001b[1;33m(\u001b[0m\u001b[0mself\u001b[0m\u001b[1;33m.\u001b[0m\u001b[0mgrouper\u001b[0m\u001b[1;33m)\u001b[0m\u001b[1;33m)\u001b[0m\u001b[1;33m\u001b[0m\u001b[0m\n\u001b[1;32m-> 3025\u001b[1;33m                     \u001b[1;32mraise\u001b[0m \u001b[0mValueError\u001b[0m\u001b[1;33m(\u001b[0m\u001b[1;34m\"Grouper for '%s' not 1-dimensional\"\u001b[0m \u001b[1;33m%\u001b[0m \u001b[0mt\u001b[0m\u001b[1;33m)\u001b[0m\u001b[1;33m\u001b[0m\u001b[0m\n\u001b[0m\u001b[0;32m   3026\u001b[0m                 \u001b[0mself\u001b[0m\u001b[1;33m.\u001b[0m\u001b[0mgrouper\u001b[0m \u001b[1;33m=\u001b[0m \u001b[0mself\u001b[0m\u001b[1;33m.\u001b[0m\u001b[0mindex\u001b[0m\u001b[1;33m.\u001b[0m\u001b[0mmap\u001b[0m\u001b[1;33m(\u001b[0m\u001b[0mself\u001b[0m\u001b[1;33m.\u001b[0m\u001b[0mgrouper\u001b[0m\u001b[1;33m)\u001b[0m\u001b[1;33m\u001b[0m\u001b[0m\n\u001b[0;32m   3027\u001b[0m                 if not (hasattr(self.grouper, \"__len__\") and\n",
      "\u001b[1;31mValueError\u001b[0m: Grouper for 'var' not 1-dimensional"
     ]
    }
   ],
   "source": [
    "nums = np.arange(1, 1321)\n",
    "\n",
    "for img,num in zip(imgs, nums):\n",
    "    print(num)\n",
    "    bgr = cv2.imread(path+img)\n",
    "    res = cv2.resize(bgr,None,fx=0.3, fy=0.3, interpolation = cv2.INTER_LINEAR)\n",
    "    mng.features.extract_features(res, img)\n",
    "    \n",
    "file_path = mng.features.save_data()"
   ]
  },
  {
   "cell_type": "code",
   "execution_count": 174,
   "metadata": {},
   "outputs": [],
   "source": [
    "means = pd.read_csv('C:\\\\Users\\\\juju-\\\\Desktop\\\\projetos\\\\mng\\\\features\\\\means_all_half.csv', sep=';', index_col=0)\n",
    "size = pd.read_csv('C:\\\\Users\\\\juju-\\\\Desktop\\\\projetos\\\\mng\\\\features\\\\size_all_half.csv', sep=';', index_col=0).drop(columns='time')"
   ]
  },
  {
   "cell_type": "code",
   "execution_count": 180,
   "metadata": {},
   "outputs": [],
   "source": [
    "df = pd.concat([means, size], axis=1)\n",
    "new_path = 'C:\\\\Users\\\\juju-\\\\Desktop\\\\projetos\\\\mng\\\\features\\\\means_size_all_half.csv' \n",
    "df.to_csv(new_path, sep=';')"
   ]
  },
  {
   "cell_type": "code",
   "execution_count": 184,
   "metadata": {},
   "outputs": [
    {
     "name": "stdout",
     "output_type": "stream",
     "text": [
      "[0.0063272  0.05489496 0.69840315 0.01302172 0.00823979 0.00410953\n",
      " 0.00348823 0.04143138 0.00239781 0.07032486 0.01159055 0.01577429\n",
      " 0.06999654]\n",
      "0.9441820198086966 0.9720660716907555 0.9716902900660769\n",
      "[0.009037   0.04708549 0.62959146 0.01243063 0.01015475 0.00625499\n",
      " 0.00500285 0.12566821 0.00242426 0.06504696 0.01146538 0.01924781\n",
      " 0.05659022]\n",
      "0.9563922020423233 0.9779805654788482 0.9779530674026864\n",
      "[0.00731224 0.52369217 0.24975805 0.00594961 0.03508795 0.00325939\n",
      " 0.00346754 0.04157506 0.00224684 0.04104076 0.01613981 0.02503306\n",
      " 0.04543752]\n",
      "0.9369892386333064 0.9681541879505385 0.9679820445820813\n",
      "[0.00690321 0.10746503 0.36530567 0.0084827  0.01246657 0.00341038\n",
      " 0.003721   0.34252903 0.00196822 0.04039717 0.01668477 0.05103383\n",
      " 0.0396324 ]\n",
      "0.9537069192432504 0.9767294292345392 0.9765791925098806\n",
      "[0.00566651 0.20205033 0.55431085 0.01284654 0.01034078 0.00364545\n",
      " 0.00497251 0.062942   0.00218226 0.05403088 0.01204958 0.01642817\n",
      " 0.05853413]\n",
      "0.9367581847020505 0.96837432609472 0.9678626889709359\n",
      "[0.00758104 0.13669159 0.5273787  0.01049287 0.01322251 0.00415691\n",
      " 0.00341958 0.14189408 0.00210527 0.05458213 0.01261608 0.02295891\n",
      " 0.06290032]\n",
      "0.9526868683501752 0.9762268645448191 0.9760567956580064\n",
      "[0.00707977 0.18210799 0.36833603 0.00733912 0.02221773 0.00593139\n",
      " 0.00304533 0.26808702 0.00264476 0.05124206 0.01099928 0.02024532\n",
      " 0.0507242 ]\n",
      "0.9480846971423891 0.9738489694177352 0.9736964091247277\n"
     ]
    }
   ],
   "source": [
    "mng.model = MNGModel(path, new_path, model_type, att)\n",
    "mng.model.build_mlr_model(model_type, features_mlr)\n",
    "\n",
    "trees = [100, 200, 300, 400, 500, 600, 700]\n",
    "for tree_num in trees:\n",
    "    mng.model.build_rf_model(model_type, tree_num)"
   ]
  },
  {
   "cell_type": "code",
   "execution_count": null,
   "metadata": {},
   "outputs": [],
   "source": []
  }
 ],
 "metadata": {
  "kernelspec": {
   "display_name": "Python 3",
   "language": "python",
   "name": "python3"
  },
  "language_info": {
   "codemirror_mode": {
    "name": "ipython",
    "version": 3
   },
   "file_extension": ".py",
   "mimetype": "text/x-python",
   "name": "python",
   "nbconvert_exporter": "python",
   "pygments_lexer": "ipython3",
   "version": "3.6.3"
  }
 },
 "nbformat": 4,
 "nbformat_minor": 2
}
