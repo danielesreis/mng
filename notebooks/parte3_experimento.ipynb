{
 "cells": [
  {
   "cell_type": "code",
   "execution_count": 1,
   "metadata": {},
   "outputs": [],
   "source": [
    "# experimento com todas as imagens das Palmer para predição do tempo de cada amostra, usando 2/3 para treinamento e 1/3 para teste"
   ]
  },
  {
   "cell_type": "code",
   "execution_count": 2,
   "metadata": {},
   "outputs": [
    {
     "name": "stdout",
     "output_type": "stream",
     "text": [
      "The autoreload extension is already loaded. To reload it, use:\n",
      "  %reload_ext autoreload\n"
     ]
    }
   ],
   "source": [
    "import cv2\n",
    "import sys\n",
    "import numpy as np\n",
    "import pandas as pd\n",
    "import matplotlib.pyplot as plt\n",
    "import seaborn as sns\n",
    "import os \n",
    "import math\n",
    "import scipy\n",
    "\n",
    "from sklearn.ensemble import RandomForestRegressor\n",
    "from sklearn.linear_model import LinearRegression\n",
    "from sklearn.metrics import r2_score, mean_squared_error\n",
    "from sklearn.model_selection import train_test_split\n",
    "\n",
    "%load_ext autoreload\n",
    "plt.rcParams['figure.figsize'] = [20, 15]\n",
    "\n",
    "path = os.getcwd()+'\\\\..\\\\imagens\\\\'\n",
    "sys.path.append(os.getcwd()+'\\\\..\\\\scripts\\\\')\n",
    "from MNG import MNG\n",
    "from MNGFeatures import MNGFeatures\n",
    "from MNGFeaturesMeans import MNGFeaturesMeans\n",
    "from MNGFeaturesSize import MNGFeaturesSize\n",
    "from MNGFeaturesDominantColor import MNGFeaturesDominantColor\n",
    "from MNGFeaturesRates import MNGFeaturesRates\n",
    "\n",
    "from MNGModel import MNGModel"
   ]
  },
  {
   "cell_type": "code",
   "execution_count": 4,
   "metadata": {},
   "outputs": [],
   "source": [
    "%autoreload 2\n",
    "\n",
    "att = 'time'\n",
    "model_type = 'palmer'\n",
    "palmer_sst = path + '\\\\..\\\\palmer_sst.csv'\n",
    "palmer_time = path + '\\\\..\\\\palmer_time.csv'"
   ]
  },
  {
   "cell_type": "code",
   "execution_count": 11,
   "metadata": {},
   "outputs": [],
   "source": [
    "path = os.getcwd() + '\\\\..\\\\preprocessadas\\\\'\n",
    "imgs = os.listdir(path)\n",
    "img_names = [img.split('.')[0] for img in imgs]\n",
    "\n",
    "mng = MNG(path, img_names, att)\n",
    "\n",
    "features_mlr = mng.features.feature_names[13]\n",
    "mng.features.current_features = features_mlr\n",
    "mng.features.current_features_name = 'dominant'\n",
    "mng.features.new_df()"
   ]
  },
  {
   "cell_type": "code",
   "execution_count": null,
   "metadata": {},
   "outputs": [],
   "source": [
    "# did this \\/ for means and size"
   ]
  },
  {
   "cell_type": "code",
   "execution_count": 13,
   "metadata": {},
   "outputs": [
    {
     "name": "stdout",
     "output_type": "stream",
     "text": [
      "1\n"
     ]
    },
    {
     "ename": "UnboundLocalError",
     "evalue": "local variable 'feature_values' referenced before assignment",
     "output_type": "error",
     "traceback": [
      "\u001b[1;31m---------------------------------------------------------------------------\u001b[0m",
      "\u001b[1;31mUnboundLocalError\u001b[0m                         Traceback (most recent call last)",
      "\u001b[1;32m<ipython-input-13-4a52ec5816ab>\u001b[0m in \u001b[0;36m<module>\u001b[1;34m\u001b[0m\n\u001b[0;32m      4\u001b[0m     \u001b[0mprint\u001b[0m\u001b[1;33m(\u001b[0m\u001b[0mnum\u001b[0m\u001b[1;33m)\u001b[0m\u001b[1;33m\u001b[0m\u001b[0m\n\u001b[0;32m      5\u001b[0m     \u001b[0mbgr\u001b[0m \u001b[1;33m=\u001b[0m \u001b[0mcv2\u001b[0m\u001b[1;33m.\u001b[0m\u001b[0mimread\u001b[0m\u001b[1;33m(\u001b[0m\u001b[0mpath\u001b[0m\u001b[1;33m+\u001b[0m\u001b[0mimg\u001b[0m\u001b[1;33m)\u001b[0m\u001b[1;33m\u001b[0m\u001b[0m\n\u001b[1;32m----> 6\u001b[1;33m     \u001b[0mmng\u001b[0m\u001b[1;33m.\u001b[0m\u001b[0mfeatures\u001b[0m\u001b[1;33m.\u001b[0m\u001b[0mextract_features\u001b[0m\u001b[1;33m(\u001b[0m\u001b[0mbgr\u001b[0m\u001b[1;33m,\u001b[0m \u001b[0mimg\u001b[0m\u001b[1;33m)\u001b[0m\u001b[1;33m\u001b[0m\u001b[0m\n\u001b[0m\u001b[0;32m      7\u001b[0m \u001b[1;33m\u001b[0m\u001b[0m\n\u001b[0;32m      8\u001b[0m \u001b[0mfile_path\u001b[0m \u001b[1;33m=\u001b[0m \u001b[0mmng\u001b[0m\u001b[1;33m.\u001b[0m\u001b[0mfeatures\u001b[0m\u001b[1;33m.\u001b[0m\u001b[0msave_data\u001b[0m\u001b[1;33m(\u001b[0m\u001b[1;33m)\u001b[0m\u001b[1;33m\u001b[0m\u001b[0m\n",
      "\u001b[1;32m~\\Desktop\\mng\\notebooks\\..\\scripts\\MNGFeatures.py\u001b[0m in \u001b[0;36mextract_features\u001b[1;34m(self, BGR_img, img_name)\u001b[0m\n\u001b[0;32m    238\u001b[0m                 \u001b[1;31m#                                                                                       means_diffs_n_HSV.flatten(), means_diffs_n_Lab.flatten()), axis=None))\u001b[0m\u001b[1;33m\u001b[0m\u001b[1;33m\u001b[0m\u001b[0m\n\u001b[0;32m    239\u001b[0m \u001b[1;33m\u001b[0m\u001b[0m\n\u001b[1;32m--> 240\u001b[1;33m                 \u001b[0mself\u001b[0m\u001b[1;33m.\u001b[0m\u001b[0minsert_feature_row\u001b[0m\u001b[1;33m(\u001b[0m\u001b[0mimg_name\u001b[0m\u001b[1;33m,\u001b[0m \u001b[0mfeature_values\u001b[0m\u001b[1;33m)\u001b[0m\u001b[1;33m\u001b[0m\u001b[0m\n\u001b[0m",
      "\u001b[1;31mUnboundLocalError\u001b[0m: local variable 'feature_values' referenced before assignment"
     ]
    }
   ],
   "source": [
    "nums = np.arange(1, 1321)\n",
    "\n",
    "for img,num in zip(imgs, nums):\n",
    "    print(num)\n",
    "    bgr = cv2.imread(path+img)\n",
    "    mng.features.extract_features(bgr, img)\n",
    "    \n",
    "file_path = mng.features.save_data()"
   ]
  },
  {
   "cell_type": "code",
   "execution_count": 158,
   "metadata": {},
   "outputs": [],
   "source": [
    "mng.features.add_target(file_path, palmer_time)"
   ]
  },
  {
   "cell_type": "code",
   "execution_count": 174,
   "metadata": {},
   "outputs": [],
   "source": [
    "means = pd.read_csv('C:\\\\Users\\\\juju-\\\\Desktop\\\\projetos\\\\mng\\\\features\\\\means_all_half.csv', sep=';', index_col=0)\n",
    "size = pd.read_csv('C:\\\\Users\\\\juju-\\\\Desktop\\\\projetos\\\\mng\\\\features\\\\size_all_half.csv', sep=';', index_col=0).drop(columns='time')"
   ]
  },
  {
   "cell_type": "code",
   "execution_count": 180,
   "metadata": {},
   "outputs": [],
   "source": [
    "df = pd.concat([means, size], axis=1)\n",
    "new_path = 'C:\\\\Users\\\\juju-\\\\Desktop\\\\projetos\\\\mng\\\\features\\\\means_size_all_half.csv' \n",
    "df.to_csv(new_path, sep=';')"
   ]
  },
  {
   "cell_type": "code",
   "execution_count": 184,
   "metadata": {},
   "outputs": [
    {
     "name": "stdout",
     "output_type": "stream",
     "text": [
      "[0.0063272  0.05489496 0.69840315 0.01302172 0.00823979 0.00410953\n",
      " 0.00348823 0.04143138 0.00239781 0.07032486 0.01159055 0.01577429\n",
      " 0.06999654]\n",
      "0.9441820198086966 0.9720660716907555 0.9716902900660769\n",
      "[0.009037   0.04708549 0.62959146 0.01243063 0.01015475 0.00625499\n",
      " 0.00500285 0.12566821 0.00242426 0.06504696 0.01146538 0.01924781\n",
      " 0.05659022]\n",
      "0.9563922020423233 0.9779805654788482 0.9779530674026864\n",
      "[0.00731224 0.52369217 0.24975805 0.00594961 0.03508795 0.00325939\n",
      " 0.00346754 0.04157506 0.00224684 0.04104076 0.01613981 0.02503306\n",
      " 0.04543752]\n",
      "0.9369892386333064 0.9681541879505385 0.9679820445820813\n",
      "[0.00690321 0.10746503 0.36530567 0.0084827  0.01246657 0.00341038\n",
      " 0.003721   0.34252903 0.00196822 0.04039717 0.01668477 0.05103383\n",
      " 0.0396324 ]\n",
      "0.9537069192432504 0.9767294292345392 0.9765791925098806\n",
      "[0.00566651 0.20205033 0.55431085 0.01284654 0.01034078 0.00364545\n",
      " 0.00497251 0.062942   0.00218226 0.05403088 0.01204958 0.01642817\n",
      " 0.05853413]\n",
      "0.9367581847020505 0.96837432609472 0.9678626889709359\n",
      "[0.00758104 0.13669159 0.5273787  0.01049287 0.01322251 0.00415691\n",
      " 0.00341958 0.14189408 0.00210527 0.05458213 0.01261608 0.02295891\n",
      " 0.06290032]\n",
      "0.9526868683501752 0.9762268645448191 0.9760567956580064\n",
      "[0.00707977 0.18210799 0.36833603 0.00733912 0.02221773 0.00593139\n",
      " 0.00304533 0.26808702 0.00264476 0.05124206 0.01099928 0.02024532\n",
      " 0.0507242 ]\n",
      "0.9480846971423891 0.9738489694177352 0.9736964091247277\n"
     ]
    }
   ],
   "source": [
    "mng.model = MNGModel(path, new_path, model_type, att)\n",
    "mng.model.build_mlr_model(model_type, features_mlr)\n",
    "\n",
    "trees = [100, 200, 300, 400, 500, 600, 700]\n",
    "for tree_num in trees:\n",
    "    mng.model.build_rf_model(model_type, tree_num)"
   ]
  },
  {
   "cell_type": "code",
   "execution_count": null,
   "metadata": {},
   "outputs": [],
   "source": []
  }
 ],
 "metadata": {
  "kernelspec": {
   "display_name": "Python 3",
   "language": "python",
   "name": "python3"
  },
  "language_info": {
   "codemirror_mode": {
    "name": "ipython",
    "version": 3
   },
   "file_extension": ".py",
   "mimetype": "text/x-python",
   "name": "python",
   "nbconvert_exporter": "python",
   "pygments_lexer": "ipython3",
   "version": "3.7.0"
  }
 },
 "nbformat": 4,
 "nbformat_minor": 2
}
