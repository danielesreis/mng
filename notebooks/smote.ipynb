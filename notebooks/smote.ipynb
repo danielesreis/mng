{
 "cells": [
  {
   "cell_type": "code",
   "execution_count": null,
   "metadata": {},
   "outputs": [],
   "source": [
    "# Utilização da técnica SMOTE para oversampling das imagens"
   ]
  },
  {
   "cell_type": "code",
   "execution_count": 227,
   "metadata": {},
   "outputs": [],
   "source": [
    "import numpy as np\n",
    "import pandas as pd\n",
    "import cv2\n",
    "import random\n",
    "import os\n",
    "import matplotlib.pyplot as plt"
   ]
  },
  {
   "cell_type": "code",
   "execution_count": 7,
   "metadata": {},
   "outputs": [],
   "source": [
    "path = os.getcwd()+'//..//features2//'"
   ]
  },
  {
   "cell_type": "code",
   "execution_count": null,
   "metadata": {},
   "outputs": [],
   "source": [
    "features = pd.read_csv(path+'features_all.csv', sep=';', index_col=0)"
   ]
  },
  {
   "cell_type": "code",
   "execution_count": 14,
   "metadata": {},
   "outputs": [],
   "source": [
    "k = 5\n",
    "N = 200\n"
   ]
  },
  {
   "cell_type": "code",
   "execution_count": null,
   "metadata": {},
   "outputs": [],
   "source": [
    "def smote(features, k, N, i=1501):\n",
    "    N = (int)(N/100)\n",
    "    T = features.shape[0]\n",
    "    synthetic = pd.DataFrame(data=,index=,columns=)\n",
    "    \n",
    "    def normalize_features():\n",
    "    def post_normalize_features():\n",
    "    def get_neighbors(sample):\n",
    "    def populate(neighbors, sample, i):\n",
    "        for n in N:\n",
    "            random = random.randint(1,k)\n",
    "            diff= neighbors.iloc[random] - features.iloc[sample]\n",
    "            gap = random.uniform(0,1)\n",
    "            feature_row = features.iloc[sample] + diff*gap\n",
    "            synthetic_sample = pd.Series(data=feature_row, index=features.columns.values, name=str(i)+'synthetic')\n",
    "            synthetic.loc[str(i)+'synthetic'] = synthetic_sample\n",
    "            i=i+1\n",
    "        \n",
    "    normalize_features()\n",
    "    \n",
    "    for sample in T:\n",
    "        neighbors = get_neighbors(features.iloc[sample])\n",
    "        populate(neighbors, sample)\n",
    "    \n",
    "    return synthetic"
   ]
  },
  {
   "cell_type": "code",
   "execution_count": null,
   "metadata": {},
   "outputs": [],
   "source": [
    "def treat_target():\n",
    "    "
   ]
  },
  {
   "cell_type": "code",
   "execution_count": 63,
   "metadata": {},
   "outputs": [],
   "source": [
    "nums = np.arange(20)\n",
    "channels = ['R', 'G', 'B']"
   ]
  },
  {
   "cell_type": "code",
   "execution_count": 64,
   "metadata": {},
   "outputs": [],
   "source": [
    "columns=[]\n",
    "for num in nums:\n",
    "    for ch in channels:\n",
    "        columns.append('mean_'+str(num+1)+'_'+ch)"
   ]
  },
  {
   "cell_type": "code",
   "execution_count": 66,
   "metadata": {},
   "outputs": [],
   "source": [
    "data = pd.DataFrame(index=np.arange(180), columns=columns)"
   ]
  },
  {
   "cell_type": "code",
   "execution_count": 128,
   "metadata": {},
   "outputs": [],
   "source": [
    "def channels_mean(img):\n",
    "\tchn_0 \t= img[:,:,0]\n",
    "\tchn_1 \t= img[:,:,1]\n",
    "\tchn_2 \t= img[:,:,2]\n",
    "\n",
    "\tnonwhite_0 \t= chn_0[chn_0 != 255] \n",
    "\tnonwhite_1 \t= chn_1[chn_1 != 255] \n",
    "\tnonwhite_2 \t= chn_2[chn_2 != 255] \n",
    "\n",
    "\tmean_0 = np.sum(nonwhite_0)/len(nonwhite_0)\n",
    "\tmean_1 = np.sum(nonwhite_1)/len(nonwhite_1)\n",
    "\tmean_2 = np.sum(nonwhite_2)/len(nonwhite_2)\n",
    "\n",
    "\tmeans \t= np.array([mean_0, mean_1, mean_2])\n",
    "\treturn means"
   ]
  },
  {
   "cell_type": "code",
   "execution_count": 223,
   "metadata": {},
   "outputs": [],
   "source": [
    "def regions_means(i, img, gray_img, n):\n",
    "\n",
    "\tdef first_last_nonwhite_pixel(known_point):      \n",
    "\t\tdata = gray_img[known_point,:]\n",
    "\t\tfirst_nonwhite_pixel = np.where(data != 255)[0]\n",
    "\n",
    "\t\tdata = data[::-1]\n",
    "\t\tlast_nonwhite_pixel = np.where(data != 255)[0]\n",
    "\n",
    "\t\treturn first_nonwhite_pixel[0], last_nonwhite_pixel[0]\n",
    "\n",
    "\theight, width, __ \t= img.shape\n",
    "\tslice_height \t\t= math.floor(height/n)\n",
    "\n",
    "\ty_i = 0\n",
    "\ty_f = slice_height\n",
    "\n",
    "\tmeans = channels_mean(img[y_i:y_f,:,:])\n",
    "\treg_means = np.array([[means[0], means[1], means[2]]])\n",
    "\n",
    "\tskip = 1\n",
    "\tfor i in range(1,n-1,1):\n",
    "\t\ty_i \t= i * slice_height + skip\n",
    "\t\ty_f \t= y_i + slice_height\n",
    "\n",
    "\t\tmeans = channels_mean(img[y_i:y_f,:,:])\n",
    "\t\treg_means = np.append(reg_means, [[means[0], means[1], means[2]]], axis=0)\n",
    "\n",
    "\ty_i = y_f + 1\n",
    "\n",
    "\tmeans = channels_mean(img[y_i:,:,:])\n",
    "\treg_means = np.append(reg_means, [[means[0], means[1], means[2]]], axis=0)\n",
    "    \n",
    "\treturn reg_means.flatten()"
   ]
  },
  {
   "cell_type": "code",
   "execution_count": 224,
   "metadata": {},
   "outputs": [],
   "source": [
    "imgs = sorted(os.listdir(os.getcwd()+'//..//preprocessadas2'))"
   ]
  },
  {
   "cell_type": "code",
   "execution_count": 225,
   "metadata": {},
   "outputs": [],
   "source": [
    "i=0\n",
    "for img in imgs:\n",
    "    bgr = cv2.imread(os.getcwd()+'//..//preprocessadas2//'+img)\n",
    "    gray = cv2.cvtColor(bgr, cv2.COLOR_BGR2GRAY)\n",
    "    rgb = bgr[:,:,::-1]\n",
    "    row=regions_means(i,rgb,gray,20)\n",
    "    data.iloc[i]=row\n",
    "    i=i+1"
   ]
  },
  {
   "cell_type": "code",
   "execution_count": null,
   "metadata": {},
   "outputs": [],
   "source": []
  }
 ],
 "metadata": {
  "kernelspec": {
   "display_name": "Python 3",
   "language": "python",
   "name": "python3"
  },
  "language_info": {
   "codemirror_mode": {
    "name": "ipython",
    "version": 3
   },
   "file_extension": ".py",
   "mimetype": "text/x-python",
   "name": "python",
   "nbconvert_exporter": "python",
   "pygments_lexer": "ipython3",
   "version": "3.6.7"
  }
 },
 "nbformat": 4,
 "nbformat_minor": 2
}
