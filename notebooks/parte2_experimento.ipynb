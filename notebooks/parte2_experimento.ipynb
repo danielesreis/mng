{
 "cells": [
  {
   "cell_type": "code",
   "execution_count": null,
   "metadata": {},
   "outputs": [],
   "source": [
    "# experimento com as imagens de todas as coletas da Palmer, utilizando 66% para treinamento e 33% para teste, para predição de SST"
   ]
  },
  {
   "cell_type": "code",
   "execution_count": 1,
   "metadata": {},
   "outputs": [],
   "source": [
    "import cv2\n",
    "import sys\n",
    "import numpy as np\n",
    "import pandas as pd\n",
    "import matplotlib.pyplot as plt\n",
    "import seaborn as sns\n",
    "import os \n",
    "import math\n",
    "\n",
    "from sklearn.ensemble import RandomForestRegressor\n",
    "from sklearn.linear_model import LinearRegression\n",
    "from sklearn.metrics import r2_score, mean_squared_error\n",
    "from sklearn.model_selection import train_test_split\n",
    "\n",
    "%load_ext autoreload\n",
    "plt.rcParams['figure.figsize'] = [20, 15]\n",
    "\n",
    "path = os.getcwd()+'//..//imagens//'\n",
    "sys.path.append(os.getcwd()+'//..//scripts//')\n",
    "from MNG import MNG\n",
    "from MNGFeatures import MNGFeatures\n",
    "from MNGFeaturesMeans import MNGFeaturesMeans\n",
    "from MNGModel import MNGModel"
   ]
  },
  {
   "cell_type": "code",
   "execution_count": 2,
   "metadata": {},
   "outputs": [],
   "source": [
    "%autoreload 2\n",
    "\n",
    "att = 'sst'\n",
    "model_type = 'palmer'\n",
    "palmer_sst = path + '//..//palmer_sst.csv'"
   ]
  },
  {
   "cell_type": "code",
   "execution_count": 3,
   "metadata": {},
   "outputs": [],
   "source": [
    "# path = os.getcwd() + '//..//preprocessadas2//'\n",
    "path = os.getcwd() + '//..//preprocessadas1//'\n",
    "imgs = sorted(os.listdir(path))\n",
    "img_names = [img.split('.')[0] for img in imgs]\n",
    "\n",
    "mng = MNG(path, img_names, 'time', 20)"
   ]
  },
  {
   "cell_type": "code",
   "execution_count": 4,
   "metadata": {},
   "outputs": [],
   "source": [
    "mng.features.dest_folder = os.getcwd() + '/..'\n",
    "# mng.features.dest_folder = os.getcwd() + '//..//features//'"
   ]
  },
  {
   "cell_type": "code",
   "execution_count": 6,
   "metadata": {},
   "outputs": [],
   "source": [
    "# nums = np.arange(1, 181)\n",
    "nums = np.arange(1, 1321)"
   ]
  },
  {
   "cell_type": "code",
   "execution_count": 14,
   "metadata": {},
   "outputs": [],
   "source": [
    "def compute_feature(current_features, features_name):\n",
    "    mng.features.current_features = current_features\n",
    "    mng.features.current_features_name = features_name\n",
    "    mng.features.new_df()\n",
    "\n",
    "    for img,num in zip(imgs, nums):\n",
    "        print(num)\n",
    "        bgr = cv2.imread(path+img)\n",
    "        mng.features.extract_features(bgr, img)\n",
    "    \n",
    "    file_path = mng.features.save_data(False)"
   ]
  },
  {
   "cell_type": "code",
   "execution_count": 37,
   "metadata": {},
   "outputs": [],
   "source": [
    "current_features = [mng.features.feature_names[:9], mng.features.feature_names[9:13], \\\n",
    "                    mng.features.feature_names[13], mng.features.feature_names[14:17],\\\n",
    "                    mng.features.feature_names[17], mng.features.feature_names[21:42],\\\n",
    "                    mng.features.feature_names[42:], mng.features.feature_names[18:21]]\n",
    "\n",
    "features_names = ['means', 'size', 'dominant_HSV', 'rates', 'longitudinal_gradient',\\\n",
    "                  'rgb_3_regions', 'rgb_hsv_lab_n_regions', 'fractals']"
   ]
  },
  {
   "cell_type": "code",
   "execution_count": 9,
   "metadata": {},
   "outputs": [],
   "source": [
    "current_features = mng.features.feature_names[18:21]\n",
    "\n",
    "features_names = ['fractals']"
   ]
  },
  {
   "cell_type": "code",
   "execution_count": 15,
   "metadata": {},
   "outputs": [],
   "source": [
    "for curr, feat in zip(current_features, features_names):\n",
    "    compute_feature(curr, feat)"
   ]
  },
  {
   "cell_type": "code",
   "execution_count": 42,
   "metadata": {},
   "outputs": [
    {
     "name": "stdout",
     "output_type": "stream",
     "text": [
      "[0.01101535 0.01105941 0.89462016 0.01667592 0.01484859 0.00772028\n",
      " 0.00612206 0.03145937 0.00647887]\n",
      "[0.01528925 0.01133236 0.86263109 0.02499515 0.01571459 0.00982194\n",
      " 0.0136343  0.03835928 0.00822203]\n",
      "[0.01565045 0.01643335 0.82054462 0.03230305 0.02567242 0.00923339\n",
      " 0.01624256 0.04844877 0.0154714 ]\n",
      "[0.01341815 0.01364319 0.86405266 0.03122513 0.01700749 0.00904529\n",
      " 0.01445426 0.02677317 0.01038067]\n",
      "[0.01588813 0.01426283 0.8187836  0.02980261 0.02829098 0.0102489\n",
      " 0.01157976 0.06055222 0.01059097]\n",
      "[0.01366671 0.01975969 0.81605826 0.02393945 0.04499    0.00867667\n",
      " 0.0151067  0.04395046 0.01385206]\n",
      "[0.01024313 0.01259795 0.87850702 0.02085681 0.01354128 0.00899067\n",
      " 0.01263427 0.03261116 0.01001772]\n"
     ]
    }
   ],
   "source": [
    "mng.model = MNGModel(path, file_path, model_type, att)\n",
    "mng.model.build_mlr_model(model_type, features_mlr)\n",
    "\n",
    "trees = [100, 200, 300, 400, 500, 600, 700]\n",
    "for tree_num in trees:\n",
    "    mng.model.build_rf_model(model_type, tree_num)"
   ]
  },
  {
   "cell_type": "code",
   "execution_count": 56,
   "metadata": {},
   "outputs": [],
   "source": [
    "folder = '//features//'"
   ]
  },
  {
   "cell_type": "code",
   "execution_count": 58,
   "metadata": {},
   "outputs": [],
   "source": [
    "data = pd.read_csv('//home//danielesreis//Projects//mng' + folder + 'size_all.csv', index_col=0, sep=';')"
   ]
  },
  {
   "cell_type": "code",
   "execution_count": 59,
   "metadata": {},
   "outputs": [],
   "source": [
    "new_data = data.copy()\n",
    "columns = data.columns\n",
    "index = data.index.values\n",
    "\n",
    "info = list()\n",
    "info = [ind.split('_') for ind in index]\n",
    "\n",
    "var = [inf[0][4:] for inf in info]\n",
    "sem = [int(inf[1][3:]) for inf in info]\n",
    "num = [int(inf[2].split('lado')[0][3:]) for inf in info]\n",
    "\n",
    "var = pd.Series(var, index)\n",
    "sem = pd.Series(sem, index)\n",
    "num = pd.Series(num, index)\n",
    "\n",
    "new_data['var'] = var\n",
    "new_data['sem'] = sem\n",
    "new_data['num'] = num\n",
    "\n",
    "means = new_data.groupby(['var', 'sem', 'num'])[columns].mean()\n",
    "new_data = means.reset_index().drop(columns=['var', 'sem', 'num'])\n",
    "\n",
    "new_index = [ind.split('lado')[0] for ind in index]\n",
    "new_index = new_index[::2]\n",
    "\n",
    "new_data['ind'] = new_index\n",
    "new_data.set_index('ind', inplace=True)\n",
    "\n",
    "file_path = os.getcwd()+'//..' + folder + features_names[0] + '_all_half.csv'\n",
    "new_data.to_csv(file_path, sep=';')"
   ]
  },
  {
   "cell_type": "code",
   "execution_count": null,
   "metadata": {},
   "outputs": [],
   "source": [
    "# TESTE COM RGB APENAS"
   ]
  },
  {
   "cell_type": "code",
   "execution_count": 19,
   "metadata": {},
   "outputs": [],
   "source": [
    "mng.features.add_target(file_path, palmer_time)"
   ]
  },
  {
   "cell_type": "code",
   "execution_count": 84,
   "metadata": {},
   "outputs": [],
   "source": [
    "df_rgb = mng.model.data[['sst', 'mean_R_full', 'mean_G_full', 'mean_B_full']].copy()\n",
    "df_rgb_path = path+'\\\\..\\\\features\\\\apenas_rgb.csv'\n",
    "df_rgb.to_csv(df_rgb_path, sep=';')"
   ]
  },
  {
   "cell_type": "code",
   "execution_count": 75,
   "metadata": {},
   "outputs": [
    {
     "name": "stdout",
     "output_type": "stream",
     "text": [
      "[0.06636356 0.04893261 0.88470383]\n",
      "[0.06429572 0.06301666 0.87268762]\n",
      "[0.08230356 0.04243272 0.87526371]\n",
      "[0.07087914 0.04359687 0.88552398]\n",
      "[0.05384543 0.05248197 0.8936726 ]\n",
      "[0.04399283 0.04615855 0.90984862]\n",
      "[0.08021652 0.04966366 0.87011982]\n"
     ]
    }
   ],
   "source": [
    "mng.model = MNGModel(path, df_rgb_path, model_type, att)\n",
    "mng.model.build_mlr_model(model_type, features_mlr)\n",
    "\n",
    "trees = [100, 200, 300, 400, 500, 600, 700]\n",
    "for tree_num in trees:\n",
    "    mng.model.build_rf_model(model_type, tree_num)"
   ]
  },
  {
   "cell_type": "code",
   "execution_count": null,
   "metadata": {},
   "outputs": [],
   "source": [
    "# TESTE COM HSV APENAS"
   ]
  },
  {
   "cell_type": "code",
   "execution_count": 81,
   "metadata": {},
   "outputs": [],
   "source": [
    "df_hsv = mng.model.data[['sst', 'mean_H_full', 'mean_S_full', 'mean_V_full']].copy()\n",
    "df_hsv_path = path+'\\\\..\\\\features\\\\apenas_hsv.csv'\n",
    "df_hsv.to_csv(df_hsv_path, sep=';')"
   ]
  },
  {
   "cell_type": "code",
   "execution_count": 82,
   "metadata": {},
   "outputs": [
    {
     "name": "stdout",
     "output_type": "stream",
     "text": [
      "[0.06949251 0.7438529  0.18665459]\n",
      "[0.07760629 0.7690112  0.15338251]\n",
      "[0.05819901 0.78665167 0.15514932]\n",
      "[0.05050865 0.80939203 0.14009932]\n",
      "[0.05386391 0.78753751 0.15859858]\n",
      "[0.05552808 0.79493086 0.14954107]\n",
      "[0.05391616 0.77063927 0.17544457]\n"
     ]
    }
   ],
   "source": [
    "mng.model = MNGModel(path, df_hsv_path, model_type, att)\n",
    "mng.model.build_mlr_model(model_type, features_mlr)\n",
    "\n",
    "trees = [100, 200, 300, 400, 500, 600, 700]\n",
    "for tree_num in trees:\n",
    "    mng.model.build_rf_model(model_type, tree_num)"
   ]
  },
  {
   "cell_type": "code",
   "execution_count": null,
   "metadata": {},
   "outputs": [],
   "source": [
    "# TESTE SEM SEMANA 4"
   ]
  },
  {
   "cell_type": "code",
   "execution_count": 53,
   "metadata": {},
   "outputs": [],
   "source": [
    "sem_4 = mng.model.data.copy()\n",
    "inds = mng.model.data.loc['0361palmer_sem4_num1':'0479palmer_sem4_num60'].index.values\n",
    "sem_4.drop(inds, inplace=True)\n",
    "\n",
    "sem_4_path = path+'\\\\..\\\\features\\\\sem_4.csv'\n",
    "sem_4.to_csv(sem_4_path, sep=';')"
   ]
  },
  {
   "cell_type": "code",
   "execution_count": 54,
   "metadata": {},
   "outputs": [],
   "source": [
    "mng.model = MNGModel(path, sem_4_path, model_type, att)\n",
    "mng.model.build_mlr_model(model_type, features_mlr)\n",
    "\n",
    "trees = [100, 200, 300, 400, 500, 600, 700]\n",
    "for tree_num in trees:\n",
    "    mng.model.build_rf_model(model_type, tree_num)"
   ]
  },
  {
   "cell_type": "code",
   "execution_count": null,
   "metadata": {},
   "outputs": [],
   "source": []
  }
 ],
 "metadata": {
  "kernelspec": {
   "display_name": "Python 3",
   "language": "python",
   "name": "python3"
  },
  "language_info": {
   "codemirror_mode": {
    "name": "ipython",
    "version": 3
   },
   "file_extension": ".py",
   "mimetype": "text/x-python",
   "name": "python",
   "nbconvert_exporter": "python",
   "pygments_lexer": "ipython3",
   "version": "3.6.7"
  }
 },
 "nbformat": 4,
 "nbformat_minor": 2
}
