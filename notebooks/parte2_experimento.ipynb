{
 "cells": [
  {
   "cell_type": "code",
   "execution_count": null,
   "metadata": {},
   "outputs": [],
   "source": [
    "# experimento com as imagens de todas as coletas da Palmer, utilizando 66% para treinamento e 33% para teste, para predição de SST"
   ]
  },
  {
   "cell_type": "code",
   "execution_count": 8,
   "metadata": {},
   "outputs": [
    {
     "name": "stdout",
     "output_type": "stream",
     "text": [
      "The autoreload extension is already loaded. To reload it, use:\n",
      "  %reload_ext autoreload\n"
     ]
    }
   ],
   "source": [
    "import cv2\n",
    "import sys\n",
    "import numpy as np\n",
    "import pandas as pd\n",
    "import matplotlib.pyplot as plt\n",
    "import seaborn as sns\n",
    "import os \n",
    "import math\n",
    "\n",
    "from sklearn.ensemble import RandomForestRegressor\n",
    "from sklearn.linear_model import LinearRegression\n",
    "from sklearn.metrics import r2_score, mean_squared_error\n",
    "from sklearn.model_selection import train_test_split\n",
    "\n",
    "%load_ext autoreload\n",
    "plt.rcParams['figure.figsize'] = [20, 15]\n",
    "\n",
    "path = os.getcwd()+'//..//imagens//'\n",
    "sys.path.append(os.getcwd()+'//..//scripts//')\n",
    "from MNG import MNG\n",
    "from MNGFeatures import MNGFeatures\n",
    "from MNGFeaturesMeans import MNGFeaturesMeans\n",
    "from MNGModel import MNGModel"
   ]
  },
  {
   "cell_type": "code",
   "execution_count": 24,
   "metadata": {},
   "outputs": [],
   "source": [
    "%autoreload 2\n",
    "\n",
    "att = 'sst'\n",
    "model_type = 'palmer'\n",
    "palmer_sst = path + '\\\\..\\\\palmer_sst.csv'"
   ]
  },
  {
   "cell_type": "code",
   "execution_count": 35,
   "metadata": {},
   "outputs": [],
   "source": [
    "path = os.getcwd() + '//..//preprocessadas2//'\n",
    "imgs = os.listdir(path)\n",
    "img_names = [img.split('.')[0] for img in imgs]\n",
    "\n",
    "mng = MNG(path, img_names, 'time', 20)\n",
    "\n",
    "features_mlr = mng.features.feature_names[13]\n",
    "mng.features.current_features = features_mlr\n",
    "mng.features.current_features_name = 'dominant_HSV'\n",
    "mng.features.new_df()"
   ]
  },
  {
   "cell_type": "code",
   "execution_count": 36,
   "metadata": {},
   "outputs": [],
   "source": [
    "mng.features.dest_folder = os.getcwd() + '//..//features2//'"
   ]
  },
  {
   "cell_type": "code",
   "execution_count": 37,
   "metadata": {},
   "outputs": [
    {
     "name": "stdout",
     "output_type": "stream",
     "text": [
      "1\n",
      "2\n",
      "3\n",
      "4\n",
      "5\n",
      "6\n",
      "7\n",
      "8\n",
      "9\n",
      "10\n",
      "11\n",
      "12\n",
      "13\n",
      "14\n",
      "15\n",
      "16\n",
      "17\n",
      "18\n",
      "19\n",
      "20\n",
      "21\n",
      "22\n",
      "23\n",
      "24\n",
      "25\n",
      "26\n",
      "27\n",
      "28\n",
      "29\n",
      "30\n",
      "31\n",
      "32\n",
      "33\n",
      "34\n",
      "35\n",
      "36\n",
      "37\n",
      "38\n",
      "39\n",
      "40\n",
      "41\n",
      "42\n",
      "43\n",
      "44\n",
      "45\n",
      "46\n",
      "47\n",
      "48\n",
      "49\n",
      "50\n",
      "51\n",
      "52\n",
      "53\n",
      "54\n",
      "55\n",
      "56\n",
      "57\n",
      "58\n",
      "59\n",
      "60\n",
      "61\n",
      "62\n",
      "63\n",
      "64\n",
      "65\n",
      "66\n",
      "67\n",
      "68\n",
      "69\n",
      "70\n",
      "71\n",
      "72\n",
      "73\n",
      "74\n",
      "75\n",
      "76\n",
      "77\n",
      "78\n",
      "79\n",
      "80\n",
      "81\n",
      "82\n",
      "83\n",
      "84\n",
      "85\n",
      "86\n",
      "87\n",
      "88\n",
      "89\n",
      "90\n",
      "91\n",
      "92\n",
      "93\n",
      "94\n",
      "95\n",
      "96\n",
      "97\n",
      "98\n",
      "99\n",
      "100\n",
      "101\n",
      "102\n",
      "103\n",
      "104\n",
      "105\n",
      "106\n",
      "107\n",
      "108\n",
      "109\n",
      "110\n",
      "111\n",
      "112\n",
      "113\n",
      "114\n",
      "115\n",
      "116\n",
      "117\n",
      "118\n",
      "119\n",
      "120\n",
      "121\n",
      "122\n",
      "123\n",
      "124\n",
      "125\n",
      "126\n",
      "127\n",
      "128\n",
      "129\n",
      "130\n",
      "131\n",
      "132\n",
      "133\n",
      "134\n",
      "135\n",
      "136\n",
      "137\n",
      "138\n",
      "139\n",
      "140\n",
      "141\n",
      "142\n",
      "143\n",
      "144\n",
      "145\n",
      "146\n",
      "147\n",
      "148\n",
      "149\n",
      "150\n",
      "151\n",
      "152\n",
      "153\n",
      "154\n",
      "155\n",
      "156\n",
      "157\n",
      "158\n",
      "159\n",
      "160\n",
      "161\n",
      "162\n",
      "163\n",
      "164\n",
      "165\n",
      "166\n",
      "167\n",
      "168\n",
      "169\n",
      "170\n",
      "171\n",
      "172\n",
      "173\n",
      "174\n",
      "175\n",
      "176\n",
      "177\n",
      "178\n",
      "179\n"
     ]
    }
   ],
   "source": [
    "nums = np.arange(1, 180)\n",
    "\n",
    "for img,num in zip(imgs, nums):\n",
    "    print(num)\n",
    "    bgr = cv2.imread(path+img)\n",
    "    mng.features.extract_features(bgr, img)\n",
    "    \n",
    "file_path = mng.features.save_data(False)"
   ]
  },
  {
   "cell_type": "code",
   "execution_count": 23,
   "metadata": {},
   "outputs": [
    {
     "data": {
      "text/plain": [
       "'/home/danielesreis/Projects/mng/notebooks//..//preprocessadas2//..\\\\features\\\\means_all.csv'"
      ]
     },
     "execution_count": 23,
     "metadata": {},
     "output_type": "execute_result"
    }
   ],
   "source": [
    "file_path"
   ]
  },
  {
   "cell_type": "code",
   "execution_count": 27,
   "metadata": {},
   "outputs": [],
   "source": [
    "mng.features.add_target(file_path, palmer_sst)"
   ]
  },
  {
   "cell_type": "code",
   "execution_count": 42,
   "metadata": {},
   "outputs": [
    {
     "name": "stdout",
     "output_type": "stream",
     "text": [
      "[0.01101535 0.01105941 0.89462016 0.01667592 0.01484859 0.00772028\n",
      " 0.00612206 0.03145937 0.00647887]\n",
      "[0.01528925 0.01133236 0.86263109 0.02499515 0.01571459 0.00982194\n",
      " 0.0136343  0.03835928 0.00822203]\n",
      "[0.01565045 0.01643335 0.82054462 0.03230305 0.02567242 0.00923339\n",
      " 0.01624256 0.04844877 0.0154714 ]\n",
      "[0.01341815 0.01364319 0.86405266 0.03122513 0.01700749 0.00904529\n",
      " 0.01445426 0.02677317 0.01038067]\n",
      "[0.01588813 0.01426283 0.8187836  0.02980261 0.02829098 0.0102489\n",
      " 0.01157976 0.06055222 0.01059097]\n",
      "[0.01366671 0.01975969 0.81605826 0.02393945 0.04499    0.00867667\n",
      " 0.0151067  0.04395046 0.01385206]\n",
      "[0.01024313 0.01259795 0.87850702 0.02085681 0.01354128 0.00899067\n",
      " 0.01263427 0.03261116 0.01001772]\n"
     ]
    }
   ],
   "source": [
    "mng.model = MNGModel(path, file_path, model_type, att)\n",
    "mng.model.build_mlr_model(model_type, features_mlr)\n",
    "\n",
    "trees = [100, 200, 300, 400, 500, 600, 700]\n",
    "for tree_num in trees:\n",
    "    mng.model.build_rf_model(model_type, tree_num)"
   ]
  },
  {
   "cell_type": "code",
   "execution_count": null,
   "metadata": {},
   "outputs": [],
   "source": [
    "# TESTE COM RGB APENAS"
   ]
  },
  {
   "cell_type": "code",
   "execution_count": 84,
   "metadata": {},
   "outputs": [],
   "source": [
    "df_rgb = mng.model.data[['sst', 'mean_R_full', 'mean_G_full', 'mean_B_full']].copy()\n",
    "df_rgb_path = path+'\\\\..\\\\features\\\\apenas_rgb.csv'\n",
    "df_rgb.to_csv(df_rgb_path, sep=';')"
   ]
  },
  {
   "cell_type": "code",
   "execution_count": 75,
   "metadata": {},
   "outputs": [
    {
     "name": "stdout",
     "output_type": "stream",
     "text": [
      "[0.06636356 0.04893261 0.88470383]\n",
      "[0.06429572 0.06301666 0.87268762]\n",
      "[0.08230356 0.04243272 0.87526371]\n",
      "[0.07087914 0.04359687 0.88552398]\n",
      "[0.05384543 0.05248197 0.8936726 ]\n",
      "[0.04399283 0.04615855 0.90984862]\n",
      "[0.08021652 0.04966366 0.87011982]\n"
     ]
    }
   ],
   "source": [
    "mng.model = MNGModel(path, df_rgb_path, model_type, att)\n",
    "mng.model.build_mlr_model(model_type, features_mlr)\n",
    "\n",
    "trees = [100, 200, 300, 400, 500, 600, 700]\n",
    "for tree_num in trees:\n",
    "    mng.model.build_rf_model(model_type, tree_num)"
   ]
  },
  {
   "cell_type": "code",
   "execution_count": null,
   "metadata": {},
   "outputs": [],
   "source": [
    "# TESTE COM HSV APENAS"
   ]
  },
  {
   "cell_type": "code",
   "execution_count": 81,
   "metadata": {},
   "outputs": [],
   "source": [
    "df_hsv = mng.model.data[['sst', 'mean_H_full', 'mean_S_full', 'mean_V_full']].copy()\n",
    "df_hsv_path = path+'\\\\..\\\\features\\\\apenas_hsv.csv'\n",
    "df_hsv.to_csv(df_hsv_path, sep=';')"
   ]
  },
  {
   "cell_type": "code",
   "execution_count": 82,
   "metadata": {},
   "outputs": [
    {
     "name": "stdout",
     "output_type": "stream",
     "text": [
      "[0.06949251 0.7438529  0.18665459]\n",
      "[0.07760629 0.7690112  0.15338251]\n",
      "[0.05819901 0.78665167 0.15514932]\n",
      "[0.05050865 0.80939203 0.14009932]\n",
      "[0.05386391 0.78753751 0.15859858]\n",
      "[0.05552808 0.79493086 0.14954107]\n",
      "[0.05391616 0.77063927 0.17544457]\n"
     ]
    }
   ],
   "source": [
    "mng.model = MNGModel(path, df_hsv_path, model_type, att)\n",
    "mng.model.build_mlr_model(model_type, features_mlr)\n",
    "\n",
    "trees = [100, 200, 300, 400, 500, 600, 700]\n",
    "for tree_num in trees:\n",
    "    mng.model.build_rf_model(model_type, tree_num)"
   ]
  },
  {
   "cell_type": "code",
   "execution_count": null,
   "metadata": {},
   "outputs": [],
   "source": [
    "# TESTE SEM SEMANA 4"
   ]
  },
  {
   "cell_type": "code",
   "execution_count": 53,
   "metadata": {},
   "outputs": [],
   "source": [
    "sem_4 = mng.model.data.copy()\n",
    "inds = mng.model.data.loc['0361palmer_sem4_num1':'0479palmer_sem4_num60'].index.values\n",
    "sem_4.drop(inds, inplace=True)\n",
    "\n",
    "sem_4_path = path+'\\\\..\\\\features\\\\sem_4.csv'\n",
    "sem_4.to_csv(sem_4_path, sep=';')"
   ]
  },
  {
   "cell_type": "code",
   "execution_count": 54,
   "metadata": {},
   "outputs": [],
   "source": [
    "mng.model = MNGModel(path, sem_4_path, model_type, att)\n",
    "mng.model.build_mlr_model(model_type, features_mlr)\n",
    "\n",
    "trees = [100, 200, 300, 400, 500, 600, 700]\n",
    "for tree_num in trees:\n",
    "    mng.model.build_rf_model(model_type, tree_num)"
   ]
  },
  {
   "cell_type": "code",
   "execution_count": null,
   "metadata": {},
   "outputs": [],
   "source": []
  }
 ],
 "metadata": {
  "kernelspec": {
   "display_name": "Python 3",
   "language": "python",
   "name": "python3"
  },
  "language_info": {
   "codemirror_mode": {
    "name": "ipython",
    "version": 3
   },
   "file_extension": ".py",
   "mimetype": "text/x-python",
   "name": "python",
   "nbconvert_exporter": "python",
   "pygments_lexer": "ipython3",
   "version": "3.6.7"
  }
 },
 "nbformat": 4,
 "nbformat_minor": 2
}
