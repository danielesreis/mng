{
 "cells": [
  {
   "cell_type": "code",
   "execution_count": null,
   "metadata": {},
   "outputs": [],
   "source": [
    "# experimento com todas as imagens das Palmer para predição do tempo de cada amostra, usando CV 5"
   ]
  },
  {
   "cell_type": "code",
   "execution_count": 1,
   "metadata": {},
   "outputs": [],
   "source": [
    "import cv2\n",
    "import sys\n",
    "import numpy as np\n",
    "import pandas as pd\n",
    "import matplotlib.pyplot as plt\n",
    "import random\n",
    "import seaborn as sns\n",
    "import os \n",
    "import math\n",
    "import scipy\n",
    "\n",
    "from sklearn.ensemble import RandomForestRegressor\n",
    "from sklearn.linear_model import LinearRegression\n",
    "from sklearn.metrics import r2_score, mean_squared_error\n",
    "from sklearn.model_selection import train_test_split\n",
    "from sklearn.model_selection import cross_val_score\n",
    "from sklearn.model_selection import ShuffleSplit, KFold\n",
    "\n",
    "%load_ext autoreload\n",
    "plt.rcParams['figure.figsize'] = [20, 15]\n",
    "\n",
    "path = os.getcwd()+'//..//imagens//'\n",
    "sys.path.append(os.getcwd()+'//..//scripts//')\n",
    "from MNG import MNG\n",
    "from MNGFeatures import MNGFeatures\n",
    "from MNGFeaturesMeans import MNGFeaturesMeans\n",
    "from MNGFeaturesSize import MNGFeaturesSize\n",
    "from MNGModel import MNGModel"
   ]
  },
  {
   "cell_type": "code",
   "execution_count": 118,
   "metadata": {},
   "outputs": [],
   "source": [
    "indexes = ['fold1', 'fold2', 'fold3', 'fold4', 'fold5', 'media']\n",
    "columns = ['MLR', 'RF100', 'RF200', 'RF300', 'RF400', 'RF500', 'RF600', 'RF700']\n",
    "data_path = os.getcwd()+'/../resampling/all_data_synthetic.csv'\n",
    "old_data = pd.read_csv(data_path, sep=',', index_col=0)\n",
    "\n",
    "cv_num = 5\n",
    "\n",
    "# ss = ShuffleSplit(n_splits=cv_num, test_size=0.2,random_state=0)\n",
    "kf = KFold(n_splits=5, shuffle=True)\n",
    "\n",
    "train = [[], [], [], [], []]\n",
    "test = [[], [], [], [], []]"
   ]
  },
  {
   "cell_type": "code",
   "execution_count": 119,
   "metadata": {},
   "outputs": [],
   "source": [
    "second_half_df = old_data.iloc[600:]\n",
    "\n",
    "to_be_deleted = random.sample(range(0, 719), 120)\n",
    "rows_to_delete = second_half_df.iloc[to_be_deleted]"
   ]
  },
  {
   "cell_type": "code",
   "execution_count": 91,
   "metadata": {},
   "outputs": [],
   "source": [
    "# repeated\n",
    "# second_half_df = old_data.iloc[600:]\n",
    "# to_be_deleted = [616,538,436,590,401,583,239,263,285,317,670,634,467,249,287,210,492,119,607,442,706,\n",
    "# 343,183,201,394,665,559,345,217,214,455,699,269,39,92,689,279,504,1,272,97,28,277,48,462,137,313,686,575,291,\n",
    "# 496,673,487,311,589,315,50,171,105,247,181,190,426,178,546,235,540,551,157,26,281,156,206,658,399,257,698,402,\n",
    "# 290,350,20,533,330,479,111,128,332,107,264,124,574,195,294,639,672,208,186,597,227,611,457,267,324,163,295,653,\n",
    "# 702,682,130,408,640,268,96,8,386,705,471,429,405,387]\n",
    "# rows_to_delete = second_half_df.iloc[to_be_deleted]"
   ]
  },
  {
   "cell_type": "code",
   "execution_count": 122,
   "metadata": {
    "scrolled": false
   },
   "outputs": [],
   "source": [
    "# synthetic\n",
    "# second_half_df = old_data.iloc[600:]\n",
    "# to_be_deleted = [453,564,77,177,110,248,26,589,459,389,681,610,489,676,467,187,184,223,305,494,390,137,302,208,\n",
    "#                   207,227,577,244,568,472,532,545,16,271,393,30,369,473,340,99,611,477,388,468,365,580,23,64,50,\n",
    "#                  66,566,344,696,199,517,224,624,232,688,338,349,356,44,439,716,83,641,274,252,622,143,446,179,265,\n",
    "#                  36,113,277,551,391,701,192,614,637,538,3,669,91,569,586,392,43,4,615,134,124,375,457,310,625,300,\n",
    "#                  450,562,575,709,594,169,95,226,128,231,87,229,519,81,127,315,194,667,220,294]\n",
    "# rows_to_delete = second_half_df.iloc[to_be_deleted]"
   ]
  },
  {
   "cell_type": "code",
   "execution_count": 123,
   "metadata": {},
   "outputs": [],
   "source": [
    "data = old_data.drop(rows_to_delete.index.values)"
   ]
  },
  {
   "cell_type": "code",
   "execution_count": 124,
   "metadata": {},
   "outputs": [],
   "source": [
    "data.drop(columns=['sst','firmeza'], inplace=True)"
   ]
  },
  {
   "cell_type": "code",
   "execution_count": 125,
   "metadata": {},
   "outputs": [],
   "source": [
    "def compute_models(data, target, trees=[100, 200, 300, 400, 500, 600, 700]):\n",
    "    df_r2 = pd.DataFrame(index=indexes, columns=columns)\n",
    "    df_rmse = pd.DataFrame(index=indexes, columns=columns)\n",
    "    \n",
    "    X = data.drop(columns=target)\n",
    "    Y = data[target]\n",
    "\n",
    "    i = 0\n",
    "    for train_i, test_i in kf.split(X):\n",
    "        train[i] = train_i\n",
    "        test[i] = test_i\n",
    "        X_train, X_test = X.iloc[train_i], X.iloc[test_i]\n",
    "        Y_train, Y_test = Y.iloc[train_i], Y.iloc[test_i]\n",
    "    \n",
    "        mlr_model = LinearRegression().fit(X_train, Y_train)\n",
    "        Y_predicted = mlr_model.predict(X_test)\n",
    "    \n",
    "        r2 = r2_score(Y_test, Y_predicted)\n",
    "        rmse= math.sqrt(mean_squared_error(Y_test, Y_predicted))\n",
    "    \n",
    "        df_r2['MLR'].iloc[i] = r2\n",
    "        df_rmse['MLR'].iloc[i] = rmse\n",
    "        \n",
    "#         if type(trees) == int:\n",
    "#             rf_model = RandomForestRegressor(n_estimators=trees).fit(X_train, Y_train)\n",
    "#             Y_predicted = rf_model.predict(X_test)\n",
    "\n",
    "#             r2 = r2_score(Y_test, Y_predicted)\n",
    "#             rmse= math.sqrt(mean_squared_error(Y_test, Y_predicted))\n",
    "\n",
    "#             df_r2['RF'+str(trees)].iloc[i] = r2 \n",
    "#             df_rmse['RF'+str(trees)].iloc[i] = rmse\n",
    "            \n",
    "#             i = i + 1\n",
    "\n",
    "        for tree in trees:\n",
    "            rf_model = RandomForestRegressor(n_estimators=tree).fit(X_train, Y_train)\n",
    "            Y_predicted = rf_model.predict(X_test)\n",
    "\n",
    "            r2 = r2_score(Y_test, Y_predicted)\n",
    "            rmse= math.sqrt(mean_squared_error(Y_test, Y_predicted))\n",
    "\n",
    "            df_r2['RF'+str(tree)].iloc[i] = r2 \n",
    "            df_rmse['RF'+str(tree)].iloc[i] = rmse \n",
    "\n",
    "        i = i + 1\n",
    "    \n",
    "    df_r2['MLR'].iloc[-1] = df_r2['MLR'].mean()\n",
    "    df_rmse['MLR'].iloc[-1] = df_rmse['MLR'].mean()\n",
    "    \n",
    "    for tree in np.arange(100, 701, 100):\n",
    "        df_r2['RF'+str(tree)].iloc[-1] = df_r2['RF'+str(tree)].mean()\n",
    "        df_rmse['RF'+str(tree)].iloc[-1] = df_rmse['RF'+str(tree)].mean()\n",
    "        \n",
    "    return df_r2, df_rmse"
   ]
  },
  {
   "cell_type": "code",
   "execution_count": 126,
   "metadata": {},
   "outputs": [],
   "source": [
    "# mean and size\n",
    "cols = ['time', 'mean_R_full', 'mean_G_full', 'mean_B_full', 'mean_H_full', 'mean_S_full', 'mean_V_full', 'mean_L_full', \\\n",
    "           'mean_a_full', 'mean_b_full', 'area', 'diameter', 'height', 'width']\n",
    "r2, rmse = compute_models(data[cols], 'time', [100])"
   ]
  },
  {
   "cell_type": "code",
   "execution_count": 129,
   "metadata": {},
   "outputs": [],
   "source": [
    "# mean (A1 group)\n",
    "cols = ['time', 'mean_R_full', 'mean_G_full', 'mean_B_full', 'mean_H_full', 'mean_S_full', 'mean_V_full', 'mean_L_full', \\\n",
    "           'mean_a_full']\n",
    "r2, rmse = compute_models(data[cols], 'time', [100])"
   ]
  },
  {
   "cell_type": "code",
   "execution_count": 132,
   "metadata": {},
   "outputs": [],
   "source": [
    "# size (A2 group)\n",
    "cols = ['time', 'area', 'diameter', 'height', 'width']\n",
    "r2, rmse = compute_models(data[cols], 'time', [100])"
   ]
  },
  {
   "cell_type": "code",
   "execution_count": 135,
   "metadata": {},
   "outputs": [],
   "source": [
    "# dominant hsv (A3 group)\n",
    "cols = ['time', 'dominant_HSV']\n",
    "r2, rmse = compute_models(data[cols], 'time', [100])"
   ]
  },
  {
   "cell_type": "code",
   "execution_count": 138,
   "metadata": {},
   "outputs": [],
   "source": [
    "# rates (A4 group)\n",
    "cols = ['time', 'RG_rate', 'RB_rate', 'SH_rate']\n",
    "r2, rmse = compute_models(data[cols], 'time', [100])"
   ]
  },
  {
   "cell_type": "code",
   "execution_count": 141,
   "metadata": {},
   "outputs": [],
   "source": [
    "# A5 group\n",
    "cols = ['time','RG_diff_full','RB_diff_full','GB_diff_full','apex_R','apex_G','apex_B','equator_R','equator_G','equator_B',\\\n",
    "        'stalk_R','stalk_G','stalk_B','apex_equator_R_diff','equator_stalk_R_diff','apex_stalk_R_diff','apex_equator_G_diff',\\\n",
    "        'equator_stalk_G_diff','apex_stalk_G_diff','apex_equator_B_diff','equator_stalk_B_diff','apex_stalk_B_diff', \\\n",
    "        'long_gradient', 'mean_R_full', 'mean_G_full', 'mean_B_full']\n",
    "r2, rmse = compute_models(data[cols], 'time', [100])"
   ]
  },
  {
   "cell_type": "code",
   "execution_count": 144,
   "metadata": {},
   "outputs": [],
   "source": [
    "# A6 group\n",
    "cols = ['time', 'area']\n",
    "r2, rmse = compute_models(data[cols], 'time', [100])"
   ]
  },
  {
   "cell_type": "code",
   "execution_count": 147,
   "metadata": {},
   "outputs": [],
   "source": [
    "# A7 group\n",
    "regions = ['region' in col for col in data.columns.values]\n",
    "cols = data.columns.values[regions]\n",
    "cols = np.append(cols, ['time'])\n",
    "\n",
    "r2, rmse = compute_models(data[cols], 'time', [100])"
   ]
  },
  {
   "cell_type": "code",
   "execution_count": 150,
   "metadata": {},
   "outputs": [],
   "source": [
    "# group A9\n",
    "cols = ['time', 'mean_L_full', 'mean_a_full', 'mean_b_full', 'bcd', 'cd', 'dd']\n",
    "\n",
    "r2, rmse = compute_models(data[cols], 'time', [100])"
   ]
  },
  {
   "cell_type": "code",
   "execution_count": 154,
   "metadata": {},
   "outputs": [],
   "source": [
    "# group A10\n",
    "cols = ['time', 'bcd', 'cd', 'dd']\n",
    "\n",
    "r2, rmse = compute_models(data[cols], 'time', [100])"
   ]
  },
  {
   "cell_type": "code",
   "execution_count": 157,
   "metadata": {},
   "outputs": [],
   "source": [
    "# group A11\n",
    "cols = ['time', 'mean_H_full', 'mean_S_full', 'mean_V_full']\n",
    "\n",
    "r2, rmse = compute_models(data[cols], 'time', [100])"
   ]
  },
  {
   "cell_type": "code",
   "execution_count": 160,
   "metadata": {},
   "outputs": [],
   "source": [
    "# group A12\n",
    "cols = ['time', 'mean_H_full', 'mean_S_full', 'mean_V_full', 'mean_L_full', 'mean_a_full', 'mean_b_full']\n",
    "\n",
    "r2, rmse = compute_models(data[cols], 'time', [100])"
   ]
  },
  {
   "cell_type": "code",
   "execution_count": 163,
   "metadata": {},
   "outputs": [],
   "source": [
    "# group A13\n",
    "cols = ['time', 'mean_H_full', 'mean_S_full', 'mean_V_full', 'mean_R_full', 'mean_G_full', 'mean_B_full', 'RG_rate', 'RB_rate',\\\n",
    "       'SH_rate']\n",
    "\n",
    "r2, rmse = compute_models(data[cols], 'time', [100])"
   ]
  },
  {
   "cell_type": "code",
   "execution_count": 166,
   "metadata": {},
   "outputs": [],
   "source": [
    "# group A14\n",
    "cols = ['time', 'mean_b_full', 'area', 'diameter']\n",
    "\n",
    "r2, rmse = compute_models(data[cols], 'time', [100])"
   ]
  },
  {
   "cell_type": "code",
   "execution_count": 172,
   "metadata": {},
   "outputs": [],
   "source": [
    "# regions (n=20), area, diameter, height, width\n",
    "regions = ['region' in col for col in data.columns.values]\n",
    "cols = data.columns.values[regions]\n",
    "cols = np.append(cols, ['time', 'area', 'width', 'height', 'diameter'])\n",
    "\n",
    "r2, rmse = compute_models(data[cols], 'time', [500])"
   ]
  },
  {
   "cell_type": "code",
   "execution_count": 169,
   "metadata": {},
   "outputs": [],
   "source": [
    "# ALL - novo\n",
    "cols = data.columns.values[1710:1748]\n",
    "cols = np.append(cols, ['time'])\n",
    "\n",
    "r2, rmse = compute_models(data[cols], 'time', [500])"
   ]
  },
  {
   "cell_type": "code",
   "execution_count": 175,
   "metadata": {},
   "outputs": [],
   "source": [
    "# ALL + novo\n",
    "r2, rmse = compute_models(data.drop(columns=data.columns.values[:1710]), 'time', [500])"
   ]
  }
 ],
 "metadata": {
  "kernelspec": {
   "display_name": "Python 3",
   "language": "python",
   "name": "python3"
  },
  "language_info": {
   "codemirror_mode": {
    "name": "ipython",
    "version": 3
   },
   "file_extension": ".py",
   "mimetype": "text/x-python",
   "name": "python",
   "nbconvert_exporter": "python",
   "pygments_lexer": "ipython3",
   "version": "3.6.7"
  }
 },
 "nbformat": 4,
 "nbformat_minor": 2
}
