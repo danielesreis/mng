{
 "cells": [
  {
   "cell_type": "code",
   "execution_count": null,
   "metadata": {},
   "outputs": [],
   "source": [
    "# experimento com todas as imagens das Palmer para predição do tempo de cada amostra, usando CV 5"
   ]
  },
  {
   "cell_type": "code",
   "execution_count": 1,
   "metadata": {},
   "outputs": [],
   "source": [
    "import cv2\n",
    "import sys\n",
    "import numpy as np\n",
    "import pandas as pd\n",
    "import matplotlib.pyplot as plt\n",
    "import seaborn as sns\n",
    "import os \n",
    "import math\n",
    "import scipy\n",
    "\n",
    "from sklearn.ensemble import RandomForestRegressor\n",
    "from sklearn.linear_model import LinearRegression\n",
    "from sklearn.metrics import r2_score, mean_squared_error\n",
    "from sklearn.model_selection import train_test_split\n",
    "from sklearn.model_selection import cross_val_score\n",
    "from sklearn.model_selection import ShuffleSplit, KFold\n",
    "\n",
    "%load_ext autoreload\n",
    "plt.rcParams['figure.figsize'] = [20, 15]\n",
    "\n",
    "path = os.getcwd()+'\\\\..\\\\imagens\\\\'\n",
    "sys.path.append(os.getcwd()+'\\\\..\\\\scripts\\\\')\n",
    "from MNG import MNG\n",
    "from MNGFeatures import MNGFeatures\n",
    "from MNGFeaturesMeans import MNGFeaturesMeans\n",
    "from MNGFeaturesSize import MNGFeaturesSize\n",
    "from MNGModel import MNGModel"
   ]
  },
  {
   "cell_type": "code",
   "execution_count": 57,
   "metadata": {},
   "outputs": [],
   "source": [
    "indexes = ['fold1', 'fold2', 'fold3', 'fold4', 'fold5', 'media']\n",
    "columns = ['MLR', 'RF100', 'RF200', 'RF300', 'RF400', 'RF500', 'RF600', 'RF700']\n",
    "data_path = 'C:\\\\Users\\\\juju-\\\\Desktop\\\\projetos\\\\mng\\\\features\\\\all_features.csv'\n",
    "data = pd.read_csv(data_path, sep=';', index_col=0)\n",
    "cv_num = 5\n",
    "\n",
    "# ss = ShuffleSplit(n_splits=cv_num, test_size=0.2,random_state=0)\n",
    "kf = KFold(n_splits=5, shuffle=True)\n",
    "\n",
    "train = [[], [], [], [], []]\n",
    "test = [[], [], [], [], []]"
   ]
  },
  {
   "cell_type": "code",
   "execution_count": 65,
   "metadata": {},
   "outputs": [],
   "source": [
    "def compute_models(data):\n",
    "    df_r2 = pd.DataFrame(index=indexes, columns=columns)\n",
    "    df_rmse = pd.DataFrame(index=indexes, columns=columns)\n",
    "    \n",
    "    X = data.drop(columns='time')\n",
    "    Y = data['time']\n",
    "\n",
    "    i = 0\n",
    "    for train_i, test_i in kf.split(X):\n",
    "        train[i] = train_i\n",
    "        test[i] = test_i\n",
    "        X_train, X_test = X.iloc[train_i], X.iloc[test_i]\n",
    "        Y_train, Y_test = Y.iloc[train_i], Y.iloc[test_i]\n",
    "    \n",
    "        mlr_model = LinearRegression().fit(X_train, Y_train)\n",
    "        Y_predicted = mlr_model.predict(X_test)\n",
    "    \n",
    "        r2 = r2_score(Y_test, Y_predicted)\n",
    "        rmse= math.sqrt(mean_squared_error(Y_test, Y_predicted))\n",
    "    \n",
    "        df_r2['MLR'].iloc[i] = r2\n",
    "        df_rmse['MLR'].iloc[i] = rmse\n",
    "        \n",
    "        for tree in np.arange(100, 200, 100):\n",
    "            rf_model = RandomForestRegressor(n_estimators=tree).fit(X_train, Y_train)\n",
    "            Y_predicted = rf_model.predict(X_test)\n",
    "            \n",
    "            r2 = r2_score(Y_test, Y_predicted)\n",
    "            rmse= math.sqrt(mean_squared_error(Y_test, Y_predicted))\n",
    "            \n",
    "            df_r2['RF'+str(tree)].iloc[i] = r2 \n",
    "            df_rmse['RF'+str(tree)].iloc[i] = rmse \n",
    "    \n",
    "        i = i + 1\n",
    "    \n",
    "    df_r2['MLR'].iloc[-1] = df_r2['MLR'].mean()\n",
    "    df_rmse['MLR'].iloc[-1] = df_rmse['MLR'].mean()\n",
    "    \n",
    "    for tree in np.arange(100, 701, 100):\n",
    "        df_r2['RF'+str(tree)].iloc[-1] = df_r2['RF'+str(tree)].mean()\n",
    "        df_rmse['RF'+str(tree)].iloc[-1] = df_rmse['RF'+str(tree)].mean()\n",
    "        \n",
    "    return df_r2, df_rmse"
   ]
  },
  {
   "cell_type": "code",
   "execution_count": 18,
   "metadata": {},
   "outputs": [],
   "source": [
    "# mean and size\n",
    "cols = ['time', 'mean_R_full', 'mean_G_full', 'mean_B_full', 'mean_H_full', 'mean_S_full', 'mean_V_full', 'mean_L_full', \\\n",
    "           'mean_a_full', 'mean_b_full', 'area', 'diameter', 'height', 'width']\n",
    "r2, rmse = compute_models(data[cols])"
   ]
  },
  {
   "cell_type": "code",
   "execution_count": 107,
   "metadata": {},
   "outputs": [],
   "source": [
    "# mean (A1 group)\n",
    "cols = ['time', 'mean_R_full', 'mean_G_full', 'mean_B_full', 'mean_H_full', 'mean_S_full', 'mean_V_full', 'mean_L_full', \\\n",
    "           'mean_a_full']\n",
    "r2, rmse = compute_models(data[cols])"
   ]
  },
  {
   "cell_type": "code",
   "execution_count": 21,
   "metadata": {},
   "outputs": [],
   "source": [
    "# size (A2 group)\n",
    "cols = ['time', 'area', 'diameter', 'height', 'width']\n",
    "r2, rmse = compute_models(data[cols])"
   ]
  },
  {
   "cell_type": "code",
   "execution_count": 23,
   "metadata": {},
   "outputs": [],
   "source": [
    "# dominant hsv (A3 group)\n",
    "cols = ['time', 'dominant_HSV']\n",
    "r2, rmse = compute_models(data[cols])"
   ]
  },
  {
   "cell_type": "code",
   "execution_count": 24,
   "metadata": {},
   "outputs": [],
   "source": [
    "# rates (A4 group)\n",
    "cols = ['time', 'RG_rate', 'RB_rate', 'SH_rate']\n",
    "r2, rmse = compute_models(data[cols])"
   ]
  },
  {
   "cell_type": "code",
   "execution_count": 26,
   "metadata": {},
   "outputs": [],
   "source": [
    "# A5 group\n",
    "cols = ['time','RG_diff_full','RB_diff_full','GB_diff_full','apex_R','apex_G','apex_B','equator_R','equator_G','equator_B',\\\n",
    "        'stalk_R','stalk_G','stalk_B','apex_equator_R_diff','equator_stalk_R_diff','apex_stalk_R_diff','apex_equator_G_diff',\\\n",
    "        'equator_stalk_G_diff','apex_stalk_G_diff','apex_equator_B_diff','equator_stalk_B_diff','apex_stalk_B_diff', \\\n",
    "        'long_gradient', 'mean_R_full', 'mean_G_full', 'mean_B_full']\n",
    "r2, rmse = compute_models(data[cols])"
   ]
  },
  {
   "cell_type": "code",
   "execution_count": 32,
   "metadata": {},
   "outputs": [],
   "source": [
    "# A6 group\n",
    "cols = ['time', 'area']\n",
    "r2, rmse = compute_models(data[cols])"
   ]
  },
  {
   "cell_type": "code",
   "execution_count": 36,
   "metadata": {},
   "outputs": [],
   "source": [
    "# A7 group\n",
    "cols = ['time', \n",
    "        'region_0_R','region_0_G','region_0_B','region_1_R','region_1_G','region_1_B','region_2_R','region_2_G',\\\n",
    "        'region_2_B','region_3_R','region_3_G','region_3_B','region_4_R','region_4_G','region_4_B','region_0_H','region_0_S',\\\n",
    "        'region_0_V','region_1_H','region_1_S','region_1_V','region_2_H','region_2_S','region_2_V','region_3_H','region_3_S',\\\n",
    "        'region_3_V','region_4_H','region_4_S','region_4_V','region_0_L','region_0_a','region_0_b','region_1_L','region_1_a',\\\n",
    "        'region_1_b','region_2_L','region_2_a','region_2_b','region_3_L','region_3_a','region_3_b','region_4_L','region_4_a',\\\n",
    "        'region_4_b']\n",
    "r2, rmse = compute_models(data[cols])"
   ]
  },
  {
   "cell_type": "code",
   "execution_count": 40,
   "metadata": {},
   "outputs": [],
   "source": [
    "# A8 group\n",
    "cols = ['time', \n",
    "        'region_0_R','region_0_G','region_0_B','region_1_R','region_1_G','region_1_B','region_2_R','region_2_G',\\\n",
    "        'region_2_B','region_3_R','region_3_G','region_3_B','region_4_R','region_4_G','region_4_B','region_0_H','region_0_S',\\\n",
    "        'region_0_V','region_1_H','region_1_S','region_1_V','region_2_H','region_2_S','region_2_V','region_3_H','region_3_S',\\\n",
    "        'region_3_V','region_4_H','region_4_S','region_4_V','region_0_L','region_0_a','region_0_b','region_1_L','region_1_a',\\\n",
    "        'region_1_b','region_2_L','region_2_a','region_2_b','region_3_L','region_3_a','region_3_b','region_4_L','region_4_a',\\\n",
    "        'region_4_b', 'region_0_R','region_0_G','region_0_B','region_1_R','region_1_G','region_1_B','region_2_R','region_2_G',\\\n",
    "        'region_2_B','region_3_R','region_3_G','region_3_B','region_4_R','region_4_G','region_4_B','region_0_H','region_0_S',\\\n",
    "        'region_0_V','region_1_H','region_1_S','region_1_V','region_2_H','region_2_S','region_2_V','region_3_H','region_3_S',\\\n",
    "        'region_3_V','region_4_H','region_4_S','region_4_V','region_0_L','region_0_a','region_0_b','region_1_L','region_1_a',\\\n",
    "        'region_1_b','region_2_L','region_2_a','region_2_b','region_3_L','region_3_a','region_3_b','region_4_L','region_4_a',\\\n",
    "        'region_4_b','0_1_R_diff','0_1_G_diff','0_1_B_diff','0_2_R_diff','0_2_G_diff','0_2_B_diff','0_3_R_diff','0_3_G_diff',\\\n",
    "        '0_3_B_diff','0_4_R_diff','0_4_G_diff','0_4_B_diff','1_2_R_diff','1_2_G_diff','1_2_B_diff','1_3_R_diff','1_3_G_diff',\\\n",
    "        '1_3_B_diff','1_4_R_diff','1_4_G_diff','1_4_B_diff','2_3_R_diff','2_3_G_diff','2_3_B_diff','2_4_R_diff','2_4_G_diff',\\\n",
    "        '2_4_B_diff','3_4_R_diff','3_4_G_diff','3_4_B_diff','0_1_H_diff','0_1_S_diff','0_1_V_diff','0_2_H_diff','0_2_S_diff',\\\n",
    "        '0_2_V_diff','0_3_H_diff','0_3_S_diff','0_3_V_diff','0_4_H_diff','0_4_S_diff','0_4_V_diff','1_2_H_diff','1_2_S_diff',\\\n",
    "        '1_2_V_diff','1_3_H_diff','1_3_S_diff','1_3_V_diff','1_4_H_diff','1_4_S_diff','1_4_V_diff','2_3_H_diff','2_3_S_diff',\\\n",
    "        '2_3_V_diff','2_4_H_diff','2_4_S_diff','2_4_V_diff','3_4_H_diff','3_4_S_diff','3_4_V_diff','0_1_L_diff','0_1_a_diff',\\\n",
    "        '0_1_b_diff','0_2_L_diff','0_2_a_diff','0_2_b_diff','0_3_L_diff','0_3_a_diff','0_3_b_diff','0_4_L_diff','0_4_a_diff',\\\n",
    "        '0_4_b_diff','1_2_L_diff','1_2_a_diff','1_2_b_diff','1_3_L_diff','1_3_a_diff','1_3_b_diff','1_4_L_diff','1_4_a_diff',\\\n",
    "        '1_4_b_diff','2_3_L_diff','2_3_a_diff','2_3_b_diff','2_4_L_diff','2_4_a_diff','2_4_b_diff','3_4_L_diff','3_4_a_diff',\\\n",
    "        '3_4_b_diff']\n",
    "\n",
    "r2, rmse = compute_models(data[cols])"
   ]
  },
  {
   "cell_type": "code",
   "execution_count": 58,
   "metadata": {},
   "outputs": [],
   "source": [
    "# group A9\n",
    "cols = ['time', 'mean_L_full', 'mean_a_full', 'mean_b_full', 'bcd', 'cd', 'dd']\n",
    "\n",
    "r2, rmse = compute_models(data[cols])"
   ]
  },
  {
   "cell_type": "code",
   "execution_count": 61,
   "metadata": {},
   "outputs": [],
   "source": [
    "# group A10\n",
    "cols = ['time', 'bcd', 'cd', 'dd']\n",
    "\n",
    "r2, rmse = compute_models(data[cols])"
   ]
  },
  {
   "cell_type": "code",
   "execution_count": 44,
   "metadata": {},
   "outputs": [],
   "source": [
    "# group A11\n",
    "cols = ['time', 'mean_H_full', 'mean_S_full', 'mean_V_full']\n",
    "\n",
    "r2, rmse = compute_models(data[cols])"
   ]
  },
  {
   "cell_type": "code",
   "execution_count": 47,
   "metadata": {},
   "outputs": [],
   "source": [
    "# group A12\n",
    "cols = ['time', 'mean_H_full', 'mean_S_full', 'mean_V_full', 'mean_L_full', 'mean_a_full', 'mean_b_full']\n",
    "\n",
    "r2, rmse = compute_models(data[cols])"
   ]
  },
  {
   "cell_type": "code",
   "execution_count": 51,
   "metadata": {},
   "outputs": [],
   "source": [
    "# group A13\n",
    "cols = ['time', 'mean_H_full', 'mean_S_full', 'mean_V_full', 'mean_R_full', 'mean_G_full', 'mean_B_full', 'RG_rate', 'RB_rate',\\\n",
    "       'SH_rate']\n",
    "\n",
    "r2, rmse = compute_models(data[cols])"
   ]
  },
  {
   "cell_type": "code",
   "execution_count": 54,
   "metadata": {},
   "outputs": [],
   "source": [
    "# group A14\n",
    "cols = ['time', 'mean_b_full', 'area', 'diameter']\n",
    "\n",
    "r2, rmse = compute_models(data[cols])"
   ]
  },
  {
   "cell_type": "code",
   "execution_count": 66,
   "metadata": {},
   "outputs": [],
   "source": [
    "# ALL - novo\n",
    "r2, rmse = compute_models(data.drop(columns=['region_0_R','region_0_G','region_0_B','region_1_R','region_1_G','region_1_B','region_2_R','region_2_G',\\\n",
    "        'region_2_B','region_3_R','region_3_G','region_3_B','region_4_R','region_4_G','region_4_B','region_0_H','region_0_S',\\\n",
    "        'region_0_V','region_1_H','region_1_S','region_1_V','region_2_H','region_2_S','region_2_V','region_3_H','region_3_S',\\\n",
    "        'region_3_V','region_4_H','region_4_S','region_4_V','region_0_L','region_0_a','region_0_b','region_1_L','region_1_a',\\\n",
    "        'region_1_b','region_2_L','region_2_a','region_2_b','region_3_L','region_3_a','region_3_b','region_4_L','region_4_a',\\\n",
    "        'region_4_b', 'region_0_R','region_0_G','region_0_B','region_1_R','region_1_G','region_1_B','region_2_R','region_2_G',\\\n",
    "        'region_2_B','region_3_R','region_3_G','region_3_B','region_4_R','region_4_G','region_4_B','region_0_H','region_0_S',\\\n",
    "        'region_0_V','region_1_H','region_1_S','region_1_V','region_2_H','region_2_S','region_2_V','region_3_H','region_3_S',\\\n",
    "        'region_3_V','region_4_H','region_4_S','region_4_V','region_0_L','region_0_a','region_0_b','region_1_L','region_1_a',\\\n",
    "        'region_1_b','region_2_L','region_2_a','region_2_b','region_3_L','region_3_a','region_3_b','region_4_L','region_4_a',\\\n",
    "        'region_4_b','0_1_R_diff','0_1_G_diff','0_1_B_diff','0_2_R_diff','0_2_G_diff','0_2_B_diff','0_3_R_diff','0_3_G_diff',\\\n",
    "        '0_3_B_diff','0_4_R_diff','0_4_G_diff','0_4_B_diff','1_2_R_diff','1_2_G_diff','1_2_B_diff','1_3_R_diff','1_3_G_diff',\\\n",
    "        '1_3_B_diff','1_4_R_diff','1_4_G_diff','1_4_B_diff','2_3_R_diff','2_3_G_diff','2_3_B_diff','2_4_R_diff','2_4_G_diff',\\\n",
    "        '2_4_B_diff','3_4_R_diff','3_4_G_diff','3_4_B_diff','0_1_H_diff','0_1_S_diff','0_1_V_diff','0_2_H_diff','0_2_S_diff',\\\n",
    "        '0_2_V_diff','0_3_H_diff','0_3_S_diff','0_3_V_diff','0_4_H_diff','0_4_S_diff','0_4_V_diff','1_2_H_diff','1_2_S_diff',\\\n",
    "        '1_2_V_diff','1_3_H_diff','1_3_S_diff','1_3_V_diff','1_4_H_diff','1_4_S_diff','1_4_V_diff','2_3_H_diff','2_3_S_diff',\\\n",
    "        '2_3_V_diff','2_4_H_diff','2_4_S_diff','2_4_V_diff','3_4_H_diff','3_4_S_diff','3_4_V_diff','0_1_L_diff','0_1_a_diff',\\\n",
    "        '0_1_b_diff','0_2_L_diff','0_2_a_diff','0_2_b_diff','0_3_L_diff','0_3_a_diff','0_3_b_diff','0_4_L_diff','0_4_a_diff',\\\n",
    "        '0_4_b_diff','1_2_L_diff','1_2_a_diff','1_2_b_diff','1_3_L_diff','1_3_a_diff','1_3_b_diff','1_4_L_diff','1_4_a_diff',\\\n",
    "        '1_4_b_diff','2_3_L_diff','2_3_a_diff','2_3_b_diff','2_4_L_diff','2_4_a_diff','2_4_b_diff','3_4_L_diff','3_4_a_diff',\\\n",
    "        '3_4_b_diff']))"
   ]
  },
  {
   "cell_type": "code",
   "execution_count": 69,
   "metadata": {},
   "outputs": [],
   "source": [
    "# ALL + novo\n",
    "\n",
    "r2, rmse = compute_models(data)"
   ]
  }
 ],
 "metadata": {
  "kernelspec": {
   "display_name": "Python 3",
   "language": "python",
   "name": "python3"
  },
  "language_info": {
   "codemirror_mode": {
    "name": "ipython",
    "version": 3
   },
   "file_extension": ".py",
   "mimetype": "text/x-python",
   "name": "python",
   "nbconvert_exporter": "python",
   "pygments_lexer": "ipython3",
   "version": "3.6.3"
  }
 },
 "nbformat": 4,
 "nbformat_minor": 2
}
