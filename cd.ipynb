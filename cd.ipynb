{
 "cells": [
  {
   "cell_type": "code",
   "execution_count": null,
   "metadata": {},
   "outputs": [],
   "source": [
    "# CD\n",
    "# https://github.com/jcvasquezc/Corr_Dim\n",
    "# https://cschoel.github.io/nolds/nolds.html#correlation-dimension\n",
    "# https://mathematica.stackexchange.com/questions/25984/how-can-i-calculate-the-correlation-dimension-and-or-the-lyapunov-exponent-of-a\n",
    "# https://github.com/guysoft/Scripts-for-Fractals-Lecture\n",
    "# https://arxiv.org/ftp/arxiv/papers/1305/1305.6708.pdf\n",
    "# http://cs231n.stanford.edu/reports/2015/pdfs/epenn_final.pdf\n",
    "# https://sci-hub.tw/10.1371/journal.pone.0097166"
   ]
  }
 ],
 "metadata": {
  "kernelspec": {
   "display_name": "Python 3",
   "language": "python",
   "name": "python3"
  },
  "language_info": {
   "codemirror_mode": {
    "name": "ipython",
    "version": 3
   },
   "file_extension": ".py",
   "mimetype": "text/x-python",
   "name": "python",
   "nbconvert_exporter": "python",
   "pygments_lexer": "ipython3",
   "version": "3.6.3"
  }
 },
 "nbformat": 4,
 "nbformat_minor": 2
}
